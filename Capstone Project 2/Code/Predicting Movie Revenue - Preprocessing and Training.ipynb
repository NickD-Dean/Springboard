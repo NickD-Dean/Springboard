{
 "cells": [
  {
   "cell_type": "markdown",
   "id": "7ed6c84a",
   "metadata": {},
   "source": [
    "# Predicting Box Office Revenue\n",
    "\n",
    "## Preprocessing and Training Notebook\n",
    "\n",
    "The purpose of this notebook is twofold:\n",
    "\n",
    "First I want to reduce the dimensionality of my data set in order to make the machine learning models I have to work with more tenable. Currently I have over 10,000 features and only 2,333 observations in the data set, causing serious computational slowdown for my models.  Further, at the time when this notebook was initially written the machine I'm working on didn't have the computational power to even create dummy variables from my 'cast' and 'crew' categories.  \n",
    "\n",
    "\n",
    "I plan to 'bin' categorical dummy variables into new features to reduce dimensionality.  This is relatively easy for features that are highly skewed (spoken language) or where each variable has a low frequency in the data set compared to 'None' (collection).  However I'll need to test performance on a basic linear/polynomial regressor for other categories where the data is exponentially skewed and there isn't a clear way to bin the data.  This will allow me to compare R^2 and Mean Absolute Percent Error metrics and determine which method for dimensionality reduction allows for the more accurate model. \n",
    "\n",
    "Finally, I'll use Lasso and Ridge regressors to test my initial linear regressor for overfit; additionally I'll be able to use the Lasso regressor coefficients to determine what features can be dropped to further reduce dimensionality and complexity. "
   ]
  },
  {
   "cell_type": "code",
   "execution_count": 1,
   "id": "05ce05d7",
   "metadata": {},
   "outputs": [],
   "source": [
    "import pandas as pd\n",
    "import numpy as np\n",
    "import matplotlib.pyplot as plt\n",
    "from sklearn import metrics\n",
    "from sklearn.linear_model import LinearRegression\n",
    "from sklearn.model_selection import train_test_split\n",
    "from sklearn.preprocessing import StandardScaler\n",
    "from sklearn.metrics import mean_absolute_percentage_error, r2_score\n",
    "from sklearn.pipeline import Pipeline\n",
    "import time"
   ]
  },
  {
   "cell_type": "code",
   "execution_count": 2,
   "id": "8ba31f84",
   "metadata": {},
   "outputs": [
    {
     "data": {
      "text/plain": [
       "(2333, 10456)"
      ]
     },
     "execution_count": 2,
     "metadata": {},
     "output_type": "execute_result"
    }
   ],
   "source": [
    "# Read in CSV from EDA notebook\n",
    "\n",
    "boxoffice = pd.read_csv(r'C:\\Users\\deann\\Documents\\Data\\Box Office Prediction Data\\boxoffice_EDA.csv', index_col=0, \n",
    "                        header=[0,1])\n",
    "\n",
    "boxoffice.shape"
   ]
  },
  {
   "cell_type": "code",
   "execution_count": 3,
   "id": "0fd8b0a1",
   "metadata": {},
   "outputs": [
    {
     "data": {
      "text/plain": [
       "Genre          Action       0\n",
       "               Adventure    0\n",
       "               Animation    0\n",
       "               Comedy       0\n",
       "               Crime        0\n",
       "                           ..\n",
       "Release_month  8            0\n",
       "               9            0\n",
       "               10           0\n",
       "               11           0\n",
       "               12           0\n",
       "Length: 10456, dtype: int64"
      ]
     },
     "execution_count": 3,
     "metadata": {},
     "output_type": "execute_result"
    }
   ],
   "source": [
    "boxoffice.isnull().sum()"
   ]
  },
  {
   "cell_type": "code",
   "execution_count": 4,
   "id": "eb106e39",
   "metadata": {},
   "outputs": [
    {
     "data": {
      "text/html": [
       "<div>\n",
       "<style scoped>\n",
       "    .dataframe tbody tr th:only-of-type {\n",
       "        vertical-align: middle;\n",
       "    }\n",
       "\n",
       "    .dataframe tbody tr th {\n",
       "        vertical-align: top;\n",
       "    }\n",
       "\n",
       "    .dataframe thead tr th {\n",
       "        text-align: left;\n",
       "    }\n",
       "</style>\n",
       "<table border=\"1\" class=\"dataframe\">\n",
       "  <thead>\n",
       "    <tr>\n",
       "      <th></th>\n",
       "      <th colspan=\"10\" halign=\"left\">Genre</th>\n",
       "      <th>...</th>\n",
       "      <th colspan=\"10\" halign=\"left\">Release_month</th>\n",
       "    </tr>\n",
       "    <tr>\n",
       "      <th></th>\n",
       "      <th>Action</th>\n",
       "      <th>Adventure</th>\n",
       "      <th>Animation</th>\n",
       "      <th>Comedy</th>\n",
       "      <th>Crime</th>\n",
       "      <th>Documentary</th>\n",
       "      <th>Drama</th>\n",
       "      <th>Family</th>\n",
       "      <th>Fantasy</th>\n",
       "      <th>Foreign</th>\n",
       "      <th>...</th>\n",
       "      <th>3</th>\n",
       "      <th>4</th>\n",
       "      <th>5</th>\n",
       "      <th>6</th>\n",
       "      <th>7</th>\n",
       "      <th>8</th>\n",
       "      <th>9</th>\n",
       "      <th>10</th>\n",
       "      <th>11</th>\n",
       "      <th>12</th>\n",
       "    </tr>\n",
       "  </thead>\n",
       "  <tbody>\n",
       "    <tr>\n",
       "      <th>0</th>\n",
       "      <td>0</td>\n",
       "      <td>0</td>\n",
       "      <td>0</td>\n",
       "      <td>1</td>\n",
       "      <td>0</td>\n",
       "      <td>0</td>\n",
       "      <td>1</td>\n",
       "      <td>1</td>\n",
       "      <td>0</td>\n",
       "      <td>0</td>\n",
       "      <td>...</td>\n",
       "      <td>0</td>\n",
       "      <td>0</td>\n",
       "      <td>0</td>\n",
       "      <td>0</td>\n",
       "      <td>0</td>\n",
       "      <td>1</td>\n",
       "      <td>0</td>\n",
       "      <td>0</td>\n",
       "      <td>0</td>\n",
       "      <td>0</td>\n",
       "    </tr>\n",
       "    <tr>\n",
       "      <th>1</th>\n",
       "      <td>0</td>\n",
       "      <td>0</td>\n",
       "      <td>0</td>\n",
       "      <td>0</td>\n",
       "      <td>0</td>\n",
       "      <td>0</td>\n",
       "      <td>1</td>\n",
       "      <td>0</td>\n",
       "      <td>0</td>\n",
       "      <td>0</td>\n",
       "      <td>...</td>\n",
       "      <td>0</td>\n",
       "      <td>0</td>\n",
       "      <td>0</td>\n",
       "      <td>0</td>\n",
       "      <td>0</td>\n",
       "      <td>0</td>\n",
       "      <td>0</td>\n",
       "      <td>1</td>\n",
       "      <td>0</td>\n",
       "      <td>0</td>\n",
       "    </tr>\n",
       "    <tr>\n",
       "      <th>2</th>\n",
       "      <td>0</td>\n",
       "      <td>1</td>\n",
       "      <td>1</td>\n",
       "      <td>0</td>\n",
       "      <td>0</td>\n",
       "      <td>0</td>\n",
       "      <td>0</td>\n",
       "      <td>1</td>\n",
       "      <td>0</td>\n",
       "      <td>0</td>\n",
       "      <td>...</td>\n",
       "      <td>0</td>\n",
       "      <td>0</td>\n",
       "      <td>0</td>\n",
       "      <td>0</td>\n",
       "      <td>0</td>\n",
       "      <td>1</td>\n",
       "      <td>0</td>\n",
       "      <td>0</td>\n",
       "      <td>0</td>\n",
       "      <td>0</td>\n",
       "    </tr>\n",
       "  </tbody>\n",
       "</table>\n",
       "<p>3 rows × 10456 columns</p>\n",
       "</div>"
      ],
      "text/plain": [
       "   Genre                                                                    \\\n",
       "  Action Adventure Animation Comedy Crime Documentary Drama Family Fantasy   \n",
       "0      0         0         0      1     0           0     1      1       0   \n",
       "1      0         0         0      0     0           0     1      0       0   \n",
       "2      0         1         1      0     0           0     0      1       0   \n",
       "\n",
       "           ... Release_month                             \n",
       "  Foreign  ...             3  4  5  6  7  8  9 10 11 12  \n",
       "0       0  ...             0  0  0  0  0  1  0  0  0  0  \n",
       "1       0  ...             0  0  0  0  0  0  0  1  0  0  \n",
       "2       0  ...             0  0  0  0  0  1  0  0  0  0  \n",
       "\n",
       "[3 rows x 10456 columns]"
      ]
     },
     "execution_count": 4,
     "metadata": {},
     "output_type": "execute_result"
    }
   ],
   "source": [
    "boxoffice.head(3)"
   ]
  },
  {
   "cell_type": "code",
   "execution_count": 5,
   "id": "b72408ff",
   "metadata": {},
   "outputs": [
    {
     "data": {
      "text/plain": [
       "Index(['Genre', 'Collection', 'Company', 'Country', 'Spoken_lang', 'Keywords',\n",
       "       'Descriptive', 'Numerical', 'Release_year', 'Release_month'],\n",
       "      dtype='object')"
      ]
     },
     "execution_count": 5,
     "metadata": {},
     "output_type": "execute_result"
    }
   ],
   "source": [
    "# Displaying names of top level of multi-index for later reference\n",
    "boxoffice.columns.get_level_values(0).unique()"
   ]
  },
  {
   "cell_type": "markdown",
   "id": "2c6cc3dc",
   "metadata": {},
   "source": [
    "## Binning Categorical Data\n",
    "\n",
    "To begin I want to significantly cut down on the number of features that I have in the data set.  By far the largest category that I have is Keywords, however the distribution of that category and several others presents several options for binning my data.  I can bin them into quartiles by either frequency or median/mean revenue in the data set. \n",
    "\n",
    "However I do have several feature categories that I won't be touching: Genre, Release_year, Country, and Release_month.  These categories all have fewer than 70 individual features.  Additionally I have a compelling reason to believe that each of these will have a large impact on revenue.  Genre, Release_year, and Release_month all were significantly more evenly distributed across films than other categories.  For these three categories median revenue was also skewed towards certain sub-categories which indicates that they have an impact revenue.  \n",
    "\n",
    "While the Country category is **heavily** skewed towards films made in the United States, revenue is heavily skewed towards more 'exotic' countries.  This is likely a result of blockbuster films like 'Pirates of the Carribean' or 'The Avengers' being filmed on site in other locations.  I suspect that this category will be highly correlated with budget and may be dropped after I check Lasso regresor coefficients.  Regardless, this category only has 67 sub-categories and consolidating those into fewer bins will lose what appears to be useful information with minimal impact on reducing the 10,456 dimensions that the data set currently has.\n",
    "\n",
    "This means that I need to bin the Spoken_lang, Company, Keywords, and Collection columns.  Later I'll come back through and treat the Cast and Crew categories the same as the Keyword category once I have access to a machine with enough RAM to handle those categories. \n",
    "\n",
    "The best place for me to start with binning is going to be the Spoken_lang category since it's highly skewed towards the 'English' sub-category.  "
   ]
  },
  {
   "cell_type": "markdown",
   "id": "8223472d",
   "metadata": {},
   "source": [
    "#### Binning Spoken_lang\n",
    "\n",
    "Based on the work from my EDA notebook the 'English' sub-category accounts for 2,180 films in this data set.  It's clear that the simplest way to bin this category is to reduce it to a single column that indicates if a film's primary language is English or not."
   ]
  },
  {
   "cell_type": "code",
   "execution_count": 6,
   "id": "9c737c8e",
   "metadata": {},
   "outputs": [],
   "source": [
    "# Create a list of column lables to be dropped\n",
    "dropped = list(boxoffice['Spoken_lang'].columns)\n",
    "dropped.remove('English')"
   ]
  },
  {
   "cell_type": "code",
   "execution_count": 7,
   "id": "34cb1300",
   "metadata": {},
   "outputs": [],
   "source": [
    "# for loop to iterate over the dropped list and remove all languages from Spoken_lang other than english\n",
    "\n",
    "for col in dropped:\n",
    "    boxoffice.drop(col, level=1, axis=1, inplace=True)"
   ]
  },
  {
   "cell_type": "code",
   "execution_count": 8,
   "id": "a067c5d0",
   "metadata": {},
   "outputs": [
    {
     "data": {
      "text/html": [
       "<div>\n",
       "<style scoped>\n",
       "    .dataframe tbody tr th:only-of-type {\n",
       "        vertical-align: middle;\n",
       "    }\n",
       "\n",
       "    .dataframe tbody tr th {\n",
       "        vertical-align: top;\n",
       "    }\n",
       "\n",
       "    .dataframe thead th {\n",
       "        text-align: right;\n",
       "    }\n",
       "</style>\n",
       "<table border=\"1\" class=\"dataframe\">\n",
       "  <thead>\n",
       "    <tr style=\"text-align: right;\">\n",
       "      <th></th>\n",
       "      <th>English</th>\n",
       "    </tr>\n",
       "  </thead>\n",
       "  <tbody>\n",
       "    <tr>\n",
       "      <th>0</th>\n",
       "      <td>1</td>\n",
       "    </tr>\n",
       "    <tr>\n",
       "      <th>1</th>\n",
       "      <td>1</td>\n",
       "    </tr>\n",
       "    <tr>\n",
       "      <th>2</th>\n",
       "      <td>1</td>\n",
       "    </tr>\n",
       "  </tbody>\n",
       "</table>\n",
       "</div>"
      ],
      "text/plain": [
       "   English\n",
       "0        1\n",
       "1        1\n",
       "2        1"
      ]
     },
     "execution_count": 8,
     "metadata": {},
     "output_type": "execute_result"
    }
   ],
   "source": [
    "# verify that English is the only remaining column\n",
    "boxoffice.Spoken_lang.head(3)"
   ]
  },
  {
   "cell_type": "markdown",
   "id": "12317713",
   "metadata": {},
   "source": [
    "#### Binning Film Collection dummy variables\n",
    "\n",
    "Ultimately this was going to be relatively complex with the multi-indexed dataframe so I went back to my EDA notebook and created a boolean column that indicates if a film belongs to a collection or not.  The final step is to transform this into the value for 1 or 0. "
   ]
  },
  {
   "cell_type": "code",
   "execution_count": 9,
   "id": "aa0f5eba",
   "metadata": {},
   "outputs": [
    {
     "data": {
      "text/plain": [
       "0    1\n",
       "1    0\n",
       "2    0\n",
       "Name: (Descriptive, Collection), dtype: int32"
      ]
     },
     "execution_count": 9,
     "metadata": {},
     "output_type": "execute_result"
    }
   ],
   "source": [
    "# Casting the column in question to a numeric data type\n",
    "boxoffice['Descriptive', 'Collection'] = boxoffice['Descriptive', 'Collection'].astype('int')\n",
    "boxoffice['Descriptive', 'Collection'].head(3)"
   ]
  },
  {
   "cell_type": "code",
   "execution_count": 10,
   "id": "a2a7d526",
   "metadata": {},
   "outputs": [
    {
     "data": {
      "text/html": [
       "<div>\n",
       "<style scoped>\n",
       "    .dataframe tbody tr th:only-of-type {\n",
       "        vertical-align: middle;\n",
       "    }\n",
       "\n",
       "    .dataframe tbody tr th {\n",
       "        vertical-align: top;\n",
       "    }\n",
       "\n",
       "    .dataframe thead th {\n",
       "        text-align: right;\n",
       "    }\n",
       "</style>\n",
       "<table border=\"1\" class=\"dataframe\">\n",
       "  <thead>\n",
       "    <tr style=\"text-align: right;\">\n",
       "      <th></th>\n",
       "      <th>original_title</th>\n",
       "      <th>overview</th>\n",
       "      <th>tagline</th>\n",
       "      <th>title</th>\n",
       "      <th>Collection</th>\n",
       "    </tr>\n",
       "  </thead>\n",
       "  <tbody>\n",
       "    <tr>\n",
       "      <th>0</th>\n",
       "      <td>The Princess Diaries 2: Royal Engagement</td>\n",
       "      <td>Mia Thermopolis is now a college graduate and ...</td>\n",
       "      <td>It can take a lifetime to find true love; she'...</td>\n",
       "      <td>The Princess Diaries 2: Royal Engagement</td>\n",
       "      <td>1</td>\n",
       "    </tr>\n",
       "    <tr>\n",
       "      <th>1</th>\n",
       "      <td>Whiplash</td>\n",
       "      <td>Under the direction of a ruthless instructor, ...</td>\n",
       "      <td>The road to greatness can take you to the edge.</td>\n",
       "      <td>Whiplash</td>\n",
       "      <td>0</td>\n",
       "    </tr>\n",
       "    <tr>\n",
       "      <th>2</th>\n",
       "      <td>Pinocchio and the Emperor of the Night</td>\n",
       "      <td>Pinocchio and his friends, a glow worm and a m...</td>\n",
       "      <td>NaN</td>\n",
       "      <td>Pinocchio and the Emperor of the Night</td>\n",
       "      <td>0</td>\n",
       "    </tr>\n",
       "  </tbody>\n",
       "</table>\n",
       "</div>"
      ],
      "text/plain": [
       "                             original_title  \\\n",
       "0  The Princess Diaries 2: Royal Engagement   \n",
       "1                                  Whiplash   \n",
       "2    Pinocchio and the Emperor of the Night   \n",
       "\n",
       "                                            overview  \\\n",
       "0  Mia Thermopolis is now a college graduate and ...   \n",
       "1  Under the direction of a ruthless instructor, ...   \n",
       "2  Pinocchio and his friends, a glow worm and a m...   \n",
       "\n",
       "                                             tagline  \\\n",
       "0  It can take a lifetime to find true love; she'...   \n",
       "1    The road to greatness can take you to the edge.   \n",
       "2                                                NaN   \n",
       "\n",
       "                                      title  Collection  \n",
       "0  The Princess Diaries 2: Royal Engagement           1  \n",
       "1                                  Whiplash           0  \n",
       "2    Pinocchio and the Emperor of the Night           0  "
      ]
     },
     "execution_count": 10,
     "metadata": {},
     "output_type": "execute_result"
    }
   ],
   "source": [
    "boxoffice['Descriptive'].head(3)"
   ]
  },
  {
   "cell_type": "markdown",
   "id": "ccb28e8a",
   "metadata": {},
   "source": [
    "While I'm working on this column in Descriptive I'm also going to drop the overview, tagline, and original_title columns, and set the index to the title column"
   ]
  },
  {
   "cell_type": "code",
   "execution_count": 11,
   "id": "7ccd2cbe",
   "metadata": {},
   "outputs": [],
   "source": [
    "boxoffice.drop('overview', level=1, axis=1, inplace=True)\n",
    "boxoffice.drop('tagline', level=1, axis=1, inplace=True)\n",
    "boxoffice.drop('original_title', level=1, axis=1, inplace=True)\n",
    "# Storing the titles in a seperate Series for later use as needed\n",
    "Titles = boxoffice['Descriptive', 'title']\n",
    "boxoffice.drop('title', level=1, axis=1, inplace=True)"
   ]
  },
  {
   "cell_type": "code",
   "execution_count": 12,
   "id": "064bd4fc",
   "metadata": {},
   "outputs": [
    {
     "data": {
      "text/html": [
       "<div>\n",
       "<style scoped>\n",
       "    .dataframe tbody tr th:only-of-type {\n",
       "        vertical-align: middle;\n",
       "    }\n",
       "\n",
       "    .dataframe tbody tr th {\n",
       "        vertical-align: top;\n",
       "    }\n",
       "\n",
       "    .dataframe thead th {\n",
       "        text-align: right;\n",
       "    }\n",
       "</style>\n",
       "<table border=\"1\" class=\"dataframe\">\n",
       "  <thead>\n",
       "    <tr style=\"text-align: right;\">\n",
       "      <th></th>\n",
       "      <th>Collection</th>\n",
       "    </tr>\n",
       "  </thead>\n",
       "  <tbody>\n",
       "    <tr>\n",
       "      <th>0</th>\n",
       "      <td>1</td>\n",
       "    </tr>\n",
       "    <tr>\n",
       "      <th>1</th>\n",
       "      <td>0</td>\n",
       "    </tr>\n",
       "    <tr>\n",
       "      <th>2</th>\n",
       "      <td>0</td>\n",
       "    </tr>\n",
       "  </tbody>\n",
       "</table>\n",
       "</div>"
      ],
      "text/plain": [
       "   Collection\n",
       "0           1\n",
       "1           0\n",
       "2           0"
      ]
     },
     "execution_count": 12,
     "metadata": {},
     "output_type": "execute_result"
    }
   ],
   "source": [
    "#Verify that the Descriptive category has been reduced to only the one-hot encoded column for collections\n",
    "boxoffice['Descriptive'].head(3)"
   ]
  },
  {
   "cell_type": "markdown",
   "id": "a039c23f",
   "metadata": {},
   "source": [
    "## Testing the accuracy of linear regression with the data set as is\n",
    "\n",
    "At this point I have a huge number of columns, and I haven't made significant reductions in the number of features yet. \n",
    "\n",
    "However once I've binned the Company and Keyword columns I'll have eliminated thousands of features.  Prior to doing this I want to get a baseline for how accurate a model is with all of these columns left in the data set. \n",
    "\n",
    "The reason that this is important to do now, prior to reducing the dimensionality of the Company and Keywords categories is that each movie has multiple companies and keywords associated with it, while there is only a single language and film collection for each movie.  Reducing the Spoken_lang and Collection categories isn't eliminating complex information about each film like binning the Company and Keywords categories will be. \n",
    "\n",
    "This will also give me a baseline of accuracy prior to scaling the numeric data that I have to work with as well.\n",
    "\n",
    "If the model takes excessively long to train I'll be forced to trim a lot of those columns from my data set, so I'll need to take the time required to run and print that as well as test the accuracy of the model. "
   ]
  },
  {
   "cell_type": "markdown",
   "id": "56af78b1",
   "metadata": {},
   "source": [
    "#### Renaming columns in Release_month\n",
    "\n",
    "While working with dummy variables I think that it's wise to rename the columns for Release_month since it's possible that I'll be dropping the hierarchical index before creating a train/test split and training my model. "
   ]
  },
  {
   "cell_type": "code",
   "execution_count": 13,
   "id": "6182c82f",
   "metadata": {},
   "outputs": [
    {
     "data": {
      "text/html": [
       "<div>\n",
       "<style scoped>\n",
       "    .dataframe tbody tr th:only-of-type {\n",
       "        vertical-align: middle;\n",
       "    }\n",
       "\n",
       "    .dataframe tbody tr th {\n",
       "        vertical-align: top;\n",
       "    }\n",
       "\n",
       "    .dataframe thead th {\n",
       "        text-align: right;\n",
       "    }\n",
       "</style>\n",
       "<table border=\"1\" class=\"dataframe\">\n",
       "  <thead>\n",
       "    <tr style=\"text-align: right;\">\n",
       "      <th></th>\n",
       "      <th>Jan</th>\n",
       "      <th>Feb</th>\n",
       "      <th>Mar</th>\n",
       "      <th>Apr</th>\n",
       "      <th>May</th>\n",
       "      <th>June</th>\n",
       "      <th>July</th>\n",
       "      <th>Aug</th>\n",
       "      <th>Sep</th>\n",
       "      <th>Oct</th>\n",
       "      <th>Nov</th>\n",
       "      <th>Dec</th>\n",
       "    </tr>\n",
       "  </thead>\n",
       "  <tbody>\n",
       "    <tr>\n",
       "      <th>0</th>\n",
       "      <td>0</td>\n",
       "      <td>0</td>\n",
       "      <td>0</td>\n",
       "      <td>0</td>\n",
       "      <td>0</td>\n",
       "      <td>0</td>\n",
       "      <td>0</td>\n",
       "      <td>1</td>\n",
       "      <td>0</td>\n",
       "      <td>0</td>\n",
       "      <td>0</td>\n",
       "      <td>0</td>\n",
       "    </tr>\n",
       "    <tr>\n",
       "      <th>1</th>\n",
       "      <td>0</td>\n",
       "      <td>0</td>\n",
       "      <td>0</td>\n",
       "      <td>0</td>\n",
       "      <td>0</td>\n",
       "      <td>0</td>\n",
       "      <td>0</td>\n",
       "      <td>0</td>\n",
       "      <td>0</td>\n",
       "      <td>1</td>\n",
       "      <td>0</td>\n",
       "      <td>0</td>\n",
       "    </tr>\n",
       "    <tr>\n",
       "      <th>2</th>\n",
       "      <td>0</td>\n",
       "      <td>0</td>\n",
       "      <td>0</td>\n",
       "      <td>0</td>\n",
       "      <td>0</td>\n",
       "      <td>0</td>\n",
       "      <td>0</td>\n",
       "      <td>1</td>\n",
       "      <td>0</td>\n",
       "      <td>0</td>\n",
       "      <td>0</td>\n",
       "      <td>0</td>\n",
       "    </tr>\n",
       "  </tbody>\n",
       "</table>\n",
       "</div>"
      ],
      "text/plain": [
       "   Jan  Feb  Mar  Apr  May  June  July  Aug  Sep  Oct  Nov  Dec\n",
       "0    0    0    0    0    0     0     0    1    0    0    0    0\n",
       "1    0    0    0    0    0     0     0    0    0    1    0    0\n",
       "2    0    0    0    0    0     0     0    1    0    0    0    0"
      ]
     },
     "execution_count": 13,
     "metadata": {},
     "output_type": "execute_result"
    }
   ],
   "source": [
    "months ={'1':'Jan', '2':'Feb', '3':'Mar', '4':'Apr', '5':'May', '6':'June', \n",
    "         '7':'July', '8':'Aug', '9':'Sep', '10':'Oct', '11':'Nov', '12':'Dec'}\n",
    "boxoffice.rename(columns=months, level=1, inplace=True)\n",
    "boxoffice['Release_month'].head(3)"
   ]
  },
  {
   "cell_type": "markdown",
   "id": "e3e17650",
   "metadata": {},
   "source": [
    "#### Creating the train/test split"
   ]
  },
  {
   "cell_type": "code",
   "execution_count": 14,
   "id": "4a3fce4b",
   "metadata": {},
   "outputs": [
    {
     "data": {
      "text/plain": [
       "0    134734481.0\n",
       "1     48982041.0\n",
       "2      3418605.0\n",
       "Name: (Numerical, revenue), dtype: float64"
      ]
     },
     "execution_count": 14,
     "metadata": {},
     "output_type": "execute_result"
    }
   ],
   "source": [
    "y = boxoffice['Numerical', 'revenue']\n",
    "y.head(3)"
   ]
  },
  {
   "cell_type": "code",
   "execution_count": 15,
   "id": "e2cc5f4a",
   "metadata": {},
   "outputs": [],
   "source": [
    "X = boxoffice.drop('revenue', level=1, axis=1)"
   ]
  },
  {
   "cell_type": "code",
   "execution_count": 16,
   "id": "02adff75",
   "metadata": {},
   "outputs": [],
   "source": [
    "X_train, X_test, y_train, y_test = train_test_split(X, y, test_size=0.25, random_state=42)"
   ]
  },
  {
   "cell_type": "markdown",
   "id": "742d3908",
   "metadata": {},
   "source": [
    "#### Testing the model's accuracy"
   ]
  },
  {
   "cell_type": "code",
   "execution_count": 17,
   "id": "e91b95b8",
   "metadata": {},
   "outputs": [],
   "source": [
    "linear_1 = LinearRegression()"
   ]
  },
  {
   "cell_type": "code",
   "execution_count": 18,
   "id": "72b556bc",
   "metadata": {},
   "outputs": [
    {
     "name": "stdout",
     "output_type": "stream",
     "text": [
      "Time to train:  4.259\n"
     ]
    }
   ],
   "source": [
    "# Training the first regressor and noting the time it takes to train\n",
    "train_start = time.time()\n",
    "linear_1.fit(X_train, y_train)\n",
    "train_finish = time.time()\n",
    "print('Time to train: ', str(round(train_finish-train_start, 3)))"
   ]
  },
  {
   "cell_type": "code",
   "execution_count": 19,
   "id": "404f87dd",
   "metadata": {},
   "outputs": [
    {
     "name": "stdout",
     "output_type": "stream",
     "text": [
      "Baseline test mape scpre:  6.759422418739245\n",
      "Baseline test R^2 score:  0.39157992817626586\n"
     ]
    }
   ],
   "source": [
    "# predicting new values with the first regressor\n",
    "preds = linear_1.predict(X_test)\n",
    "\n",
    "# calculating R^2 and Mean Absolute Percentage Error\n",
    "MAPE = mean_absolute_percentage_error(y_test, preds)\n",
    "R2 = r2_score(y_test, preds)\n",
    "\n",
    "print('Baseline test mape scpre: ', MAPE)\n",
    "print('Baseline test R^2 score: ', R2)"
   ]
  },
  {
   "cell_type": "markdown",
   "id": "5f083425",
   "metadata": {},
   "source": [
    "Here it's clear that my initial model is not all that accurate from the R^2 score.  Additionally, my model is off on revenue prediction by 6.8% on average, which indicates to me that the baseline linear regression model here is an 'accurate guess' at revenue.  \n",
    "\n",
    "It's not clear from this whether the low scores are a result of overfitting, or because I need to choose a different model for this data set.  Prior to moving forward I need to determine how well the model can predict using only the training data. "
   ]
  },
  {
   "cell_type": "code",
   "execution_count": 20,
   "id": "ba069e21",
   "metadata": {},
   "outputs": [
    {
     "name": "stdout",
     "output_type": "stream",
     "text": [
      "Baseline training mape scpre:  6.593331256826679e-06\n",
      "Baseline training R^2 score:  0.9999999999999856\n"
     ]
    }
   ],
   "source": [
    "# To get a sense for overfit I also want to see how well the model performs on the training data\n",
    "\n",
    "train_preds = linear_1.predict(X_train)\n",
    "\n",
    "MAPE = mean_absolute_percentage_error(y_train, train_preds)\n",
    "R2 = r2_score(y_train, train_preds)\n",
    "\n",
    "print('Baseline training mape scpre: ', MAPE)\n",
    "print('Baseline training R^2 score: ', R2)"
   ]
  },
  {
   "cell_type": "markdown",
   "id": "08cf9292",
   "metadata": {},
   "source": [
    "It's abundantly clear at this point that the issue is that the model is too complex and overfitted to the training data.  I have several options to remedy this but the first step I can take is to reduce the number of features that I have significantly.  \n",
    "\n",
    "At this point I have several options.  Currently I can bin the production companies and keywords categories into fewer features, and later I'll have access to the cast & crew information as well.  From a business perspective, when a studio is presented a film as an option to invest in they control who is cast in the film, who works on it's crew, and which other studios they collaborate with.  What they don't have control over when presented with a script is what the story **is** - it's already been written.  If the core story of a film is not worth much, then it doesn't make sense to sink additional resources into a quality cast/crew, high-value filming on location in other countries, or collaboration with other studios.   \n",
    "\n",
    "There are several features that can be used to characterize a story which are immutable about that film.  One is whether it's part of a larger story - a collection - or not. Another feature that a studio has no control over is what genre a film is, if the screenwriter has written a thriller film it's rather difficult to change that into a romantic-comedy.  Finally, there are keywords that can describe a film's nature as well.  Films about detectives and murder can't easily be changed into family-friendly animation movies.  \n",
    "\n",
    "I've already reduced the dimensionality of the collections category to 1, and the genres category is small enough that I don't see reducing it's dimensionality as effective.  I either need to strip the keywords category down to a few features or eliminate it entirely.  \n",
    "\n",
    "My instinct is to drop the category in it's entirety, and see how that affects the performance metrics.  The most frequently appearing keywords only appear in 188 films, and the top three most frequen keywords all indicate that a film is part of a larger film collection.  The other frequently occuring keywords indicate if there is a female director for a film, and if the film involves a murder.  All of these features of a film are represented in some way by other categories that the data set contains.  "
   ]
  },
  {
   "cell_type": "code",
   "execution_count": 21,
   "id": "b99c24cf",
   "metadata": {},
   "outputs": [
    {
     "data": {
      "text/plain": [
       "(2333, 7134)"
      ]
     },
     "execution_count": 21,
     "metadata": {},
     "output_type": "execute_result"
    }
   ],
   "source": [
    "# Prior to just dropping all 7,000+ features I want to double check the distribution of the Keywords\n",
    "\n",
    "#create a new data frame of the keywords category\n",
    "kwords = boxoffice['Keywords']\n",
    "count = kwords.apply(pd.value_counts)\n",
    "x = list(kwords.columns)\n",
    "y = count.iloc[1]\n",
    "kwords.shape"
   ]
  },
  {
   "cell_type": "code",
   "execution_count": 22,
   "id": "9c638d88",
   "metadata": {},
   "outputs": [
    {
     "data": {
      "text/plain": [
       "(1000,)"
      ]
     },
     "execution_count": 22,
     "metadata": {},
     "output_type": "execute_result"
    }
   ],
   "source": [
    "# Showing all keywords that appear more than 5 times in the data set\n",
    "y = y.sort_values(ascending=False)\n",
    "z = y[y >= 5]\n",
    "z.shape"
   ]
  },
  {
   "cell_type": "markdown",
   "id": "1f773a1c",
   "metadata": {},
   "source": [
    "Roughly 1 in every 7 of all keywords appear in at least **five** films - the majority of these features are not useful. "
   ]
  },
  {
   "cell_type": "code",
   "execution_count": 23,
   "id": "3d5007bd",
   "metadata": {},
   "outputs": [
    {
     "data": {
      "text/plain": [
       "duringcreditsstinger    188\n",
       "based on novel          146\n",
       "aftercreditsstinger     110\n",
       "woman director           98\n",
       "murder                   96\n",
       "sequel                   90\n",
       "3d                       85\n",
       "dystopia                 83\n",
       "violence                 82\n",
       "revenge                  67\n",
       "friendship               61\n",
       "biography                59\n",
       "No Keywords              59\n",
       "superhero                54\n",
       "love                     53\n",
       "new york                 53\n",
       "london england           52\n",
       "magic                    51\n",
       "family                   51\n",
       "based on comic           51\n",
       "musical                  50\n",
       "police                   50\n",
       "alien                    50\n",
       "Name: 1, dtype: int64"
      ]
     },
     "execution_count": 23,
     "metadata": {},
     "output_type": "execute_result"
    }
   ],
   "source": [
    "# Checking how many keywords appear in at least 50 films\n",
    "k = z[z >= 50]\n",
    "k"
   ]
  },
  {
   "cell_type": "markdown",
   "id": "de5697e0",
   "metadata": {},
   "source": [
    "Only 23 of the 7,134 keywords actually appear in 50 or more films.  Five of those keywords indicate that a film is part of a collection, another ten can easily be mapped to genres, and two indicate the filming location.  I'm going to drop the keywords data.  It's not worth binning the keywords with the distribution among films being so extreme, if this dramatically affects the model's accuracy I can always add these 23 columns back into the data set from the kwords data frame"
   ]
  },
  {
   "cell_type": "code",
   "execution_count": 24,
   "id": "1be3d060",
   "metadata": {},
   "outputs": [
    {
     "data": {
      "text/plain": [
       "(2333, 3262)"
      ]
     },
     "execution_count": 24,
     "metadata": {},
     "output_type": "execute_result"
    }
   ],
   "source": [
    "trimmed = boxoffice.drop('Keywords', level=0, axis=1)\n",
    "trimmed.shape"
   ]
  },
  {
   "cell_type": "markdown",
   "id": "045b1f1d",
   "metadata": {},
   "source": [
    "#### Testing how a linear regression model works on the smaller data set"
   ]
  },
  {
   "cell_type": "code",
   "execution_count": 25,
   "id": "6cb043ec",
   "metadata": {},
   "outputs": [],
   "source": [
    "y = trimmed['Numerical', 'revenue']\n",
    "X = trimmed.drop('revenue', level=1, axis=1)"
   ]
  },
  {
   "cell_type": "code",
   "execution_count": 26,
   "id": "e7283454",
   "metadata": {},
   "outputs": [],
   "source": [
    "# Creating a train/test split on the smaller data set\n",
    "X_train, X_test, y_train, y_test = train_test_split(X, y, test_size=0.25, random_state=42)"
   ]
  },
  {
   "cell_type": "code",
   "execution_count": 27,
   "id": "55c5d85f",
   "metadata": {},
   "outputs": [],
   "source": [
    "linear_2 = LinearRegression()"
   ]
  },
  {
   "cell_type": "code",
   "execution_count": 28,
   "id": "a7734154",
   "metadata": {},
   "outputs": [
    {
     "name": "stdout",
     "output_type": "stream",
     "text": [
      "Time to train:  2.501\n"
     ]
    }
   ],
   "source": [
    "# instantiating a new linear regression model\n",
    "train_start = time.time()\n",
    "linear_2.fit(X_train, y_train)\n",
    "train_finish =time.time()\n",
    "print('Time to train: ', str(round(train_finish-train_start, 3)))"
   ]
  },
  {
   "cell_type": "code",
   "execution_count": 29,
   "id": "d6ebb91e",
   "metadata": {},
   "outputs": [
    {
     "name": "stdout",
     "output_type": "stream",
     "text": [
      "No keywords test mape scpre:  1828.0863028094454\n",
      "No keywords test R^2 score:  -1440938.821415582\n"
     ]
    }
   ],
   "source": [
    "preds = linear_2.predict(X_test)\n",
    "MAPE = mean_absolute_percentage_error(y_test, preds)\n",
    "R2 = r2_score(y_test, preds)\n",
    "\n",
    "print('No keywords test mape scpre: ', MAPE)\n",
    "print('No keywords test R^2 score: ', R2)"
   ]
  },
  {
   "cell_type": "code",
   "execution_count": 30,
   "id": "a63ecc91",
   "metadata": {},
   "outputs": [
    {
     "name": "stdout",
     "output_type": "stream",
     "text": [
      "No keywords train mape scpre:  1.0640574186591432\n",
      "No keywords train R^2 score:  0.9637359443804455\n"
     ]
    }
   ],
   "source": [
    "train_preds = linear_2.predict(X_train)\n",
    "MAPE = mean_absolute_percentage_error(y_train, train_preds)\n",
    "R2 = r2_score(y_train, train_preds)\n",
    "\n",
    "print('No keywords train mape scpre: ', MAPE)\n",
    "print('No keywords train R^2 score: ', R2)"
   ]
  },
  {
   "cell_type": "markdown",
   "id": "287f0df9",
   "metadata": {},
   "source": [
    "Clearly cutting out the keywords column out had some detrimental effect on the accuracy of the model.  However I still haven't scaled the numerical data, and suspect that may be affecting things. "
   ]
  },
  {
   "cell_type": "markdown",
   "id": "60f39d0b",
   "metadata": {},
   "source": [
    "#### Scaling Numerical Data\n",
    "\n",
    "After dropping the keywords data the model performs horribly on the test data set, so much so that I wonder if the unscaled numerical data (budget in the millions for example) is causing the issue. I'm going to use the standardscaler on that data and then try again with my initial data frame."
   ]
  },
  {
   "cell_type": "code",
   "execution_count": 31,
   "id": "bb8c10bb",
   "metadata": {},
   "outputs": [],
   "source": [
    "# Recreating train/test split variables from the boxoffice dataframe\n",
    "y = boxoffice['Numerical', 'revenue']\n",
    "X = boxoffice.drop('revenue', level=1, axis=1)\n",
    "X_train, X_test, y_train, y_test = train_test_split(X, y, test_size=0.25, random_state=42)"
   ]
  },
  {
   "cell_type": "code",
   "execution_count": 32,
   "id": "d097c077",
   "metadata": {},
   "outputs": [],
   "source": [
    "scaler = StandardScaler()\n",
    "scaler.fit(X_train)\n",
    "X_tr_scaled = scaler.transform(X_train)\n",
    "X_tst_scaled = scaler.transform(X_test)"
   ]
  },
  {
   "cell_type": "code",
   "execution_count": 34,
   "id": "189ea009",
   "metadata": {},
   "outputs": [
    {
     "name": "stdout",
     "output_type": "stream",
     "text": [
      "Time to train:  4.267\n"
     ]
    }
   ],
   "source": [
    "linear_3 = LinearRegression(fit_intercept=False)\n",
    "train_start = time.time()\n",
    "linear_3.fit(X_tr_scaled, y_train)\n",
    "train_finish = time.time()\n",
    "print('Time to train: ', str(round(train_finish-train_start, 3)))"
   ]
  },
  {
   "cell_type": "code",
   "execution_count": 37,
   "id": "eddfe890",
   "metadata": {},
   "outputs": [
    {
     "name": "stdout",
     "output_type": "stream",
     "text": [
      "Scaled test mape scpre:  3247696966833369.5\n",
      "Scaled test R^2 score:  -1440938.821415582\n"
     ]
    }
   ],
   "source": [
    "scaled_preds = linear_3.predict(X_tst_scaled)\n",
    "MAPE = mean_absolute_percentage_error(y_test, scaled_preds)\n",
    "R2 = r2_score(y_test, preds)\n",
    "\n",
    "print('Scaled test mape scpre: ', MAPE)\n",
    "print('Scaled test R^2 score: ', R2)"
   ]
  },
  {
   "cell_type": "code",
   "execution_count": 38,
   "id": "c84a9a62",
   "metadata": {},
   "outputs": [
    {
     "name": "stdout",
     "output_type": "stream",
     "text": [
      "Scaled train mape scpre:  63.69239167439261\n",
      "Scaled train R^2 score:  0.9637359443804455\n"
     ]
    }
   ],
   "source": [
    "scaled_train_preds = linear_3.predict(X_tr_scaled)\n",
    "MAPE = mean_absolute_percentage_error(y_train, scaled_train_preds)\n",
    "R2 = r2_score(y_train, train_preds)\n",
    "\n",
    "print('Scaled train mape scpre: ', MAPE)\n",
    "print('Scaled train R^2 score: ', R2)"
   ]
  },
  {
   "cell_type": "markdown",
   "id": "4913002b",
   "metadata": {},
   "source": [
    "Based on these results, it seems that scaling the data **dramatically** decreased the accuracy of a linear regression model, and that dropping the keywords category also had a negative impact on the linear regression models ability to predict the target variables for both the training and test sets.  "
   ]
  },
  {
   "cell_type": "markdown",
   "id": "7047264f",
   "metadata": {},
   "source": []
  },
  {
   "cell_type": "code",
   "execution_count": null,
   "id": "8fd8e36c",
   "metadata": {},
   "outputs": [],
   "source": []
  },
  {
   "cell_type": "code",
   "execution_count": null,
   "id": "c063adb2",
   "metadata": {},
   "outputs": [],
   "source": []
  },
  {
   "cell_type": "code",
   "execution_count": null,
   "id": "4bfafa41",
   "metadata": {},
   "outputs": [],
   "source": []
  },
  {
   "cell_type": "code",
   "execution_count": null,
   "id": "a8ad45e4",
   "metadata": {},
   "outputs": [],
   "source": []
  },
  {
   "cell_type": "code",
   "execution_count": null,
   "id": "12cbbb69",
   "metadata": {},
   "outputs": [],
   "source": []
  },
  {
   "cell_type": "code",
   "execution_count": null,
   "id": "7d02833a",
   "metadata": {},
   "outputs": [],
   "source": []
  },
  {
   "cell_type": "code",
   "execution_count": null,
   "id": "6d629eb6",
   "metadata": {},
   "outputs": [],
   "source": []
  },
  {
   "cell_type": "code",
   "execution_count": null,
   "id": "7f17c02a",
   "metadata": {},
   "outputs": [],
   "source": []
  }
 ],
 "metadata": {
  "kernelspec": {
   "display_name": "Python 3",
   "language": "python",
   "name": "python3"
  },
  "language_info": {
   "codemirror_mode": {
    "name": "ipython",
    "version": 3
   },
   "file_extension": ".py",
   "mimetype": "text/x-python",
   "name": "python",
   "nbconvert_exporter": "python",
   "pygments_lexer": "ipython3",
   "version": "3.8.8"
  }
 },
 "nbformat": 4,
 "nbformat_minor": 5
}
