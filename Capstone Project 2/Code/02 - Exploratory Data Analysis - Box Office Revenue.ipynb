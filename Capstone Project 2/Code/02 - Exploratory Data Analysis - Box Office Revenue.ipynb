{
 "cells": [
  {
   "cell_type": "markdown",
   "metadata": {},
   "source": [
    "# Box Office Revenue Predictive Models\n",
    "\n",
    "### Exploratory Data Analysis Notebook\n",
    "\n",
    "The purpose of this project is to further practice building my own models in order to build and evaluate the performance of models that predict the revenue of movies, as a function of features associated with them.\n",
    "\n",
    "These models will be evaluated against relevant KPI's (R-squared, Mean Absolute Error, MAE^2), and the best model will be used to predict revenue performance for movies in a world where theaters continued to stay open in 2020 and 2021.\n",
    "\n",
    "The purpose of this notebook is to begin to examine the relationships between different features of the data set and my target feature: revenue.  At this point I have two main relationships in mind that I'd like to look at: \n",
    "\n",
    "**1 - Revenue trends relative to other numeric features (budget, Tagline_length, Overview_length, etc.)** The first thing that I want to do is create a correlation plot and see what stands out. \n",
    "\n",
    "**2- Trends or grouping of revenue by categorical feature.**  My initial plan is to examine categorical features in certain groups using histogram and violin plots.   I think the best method will likely be to get dummy variables for each categorical feature.  I'd like to examine each in relation to revenue independently before examining the entire dataset with dummy variables.  The first step here is to create dummy variables with pd.get_dummies().  I'm going to store these as individual dataframes as well as concatenating them into a single larger dataframe that I'll later use PCA on.\n",
    "\n",
    "\n",
    "I want to recognize that this is my first instance of conducting exploratory data analysis on significantly categorical data and prior to diving into the process I chose to read through this EDA notebook on Kaggle examining categorical data: https://www.kaggle.com/nextbigwhat/eda-for-categorical-variables-a-beginner-s-way"
   ]
  },
  {
   "cell_type": "code",
   "execution_count": 78,
   "metadata": {},
   "outputs": [],
   "source": [
    "import pandas as pd\n",
    "import numpy as np\n",
    "import os\n",
    "import matplotlib.pyplot as plt\n",
    "import seaborn as sns\n",
    "from sklearn.decomposition import PCA\n",
    "from sklearn.preprocessing import scale\n",
    "import ast\n",
    "import warnings\n",
    "from datetime import date \n",
    "warnings.filterwarnings('ignore')  \n",
    "\n",
    "# sets the plotsize for the whole notebook to a specific size (since plt.plot takes no figsize argument)\n",
    "# I discovered this setting from Bartoz Mikulski's blog: \n",
    "# https://www.mikulskibartosz.name/how-to-change-plot-size-in-jupyter-notebook/\n",
    "\n",
    "plt.rcParams[\"figure.figsize\"] = (8,8)   "
   ]
  },
  {
   "cell_type": "code",
   "execution_count": 79,
   "metadata": {},
   "outputs": [],
   "source": [
    "boxoffice = pd.read_csv('../Data/boxoffice_cleaned.csv')"
   ]
  },
  {
   "cell_type": "code",
   "execution_count": 80,
   "metadata": {},
   "outputs": [],
   "source": [
    "#saving title information for later use\n",
    "Titles = boxoffice['title']\n",
    "Titles.to_csv('../Data/boxoffice_titles.csv')"
   ]
  },
  {
   "cell_type": "code",
   "execution_count": 81,
   "metadata": {},
   "outputs": [
    {
     "data": {
      "text/plain": [
       "Index(['belongs_to_collection', 'budget', 'genres', 'imdb_id',\n",
       "       'original_language', 'original_title', 'overview', 'popularity',\n",
       "       'production_companies', 'production_countries', 'release_date',\n",
       "       'runtime', 'spoken_languages', 'tagline', 'title', 'Keywords', 'cast',\n",
       "       'crew', 'revenue', 'Overview_length', 'Tag_length', 'collectionbool'],\n",
       "      dtype='object')"
      ]
     },
     "execution_count": 81,
     "metadata": {},
     "output_type": "execute_result"
    }
   ],
   "source": [
    "boxoffice.columns"
   ]
  },
  {
   "cell_type": "code",
   "execution_count": 82,
   "metadata": {},
   "outputs": [
    {
     "data": {
      "text/plain": [
       "0        True\n",
       "1       False\n",
       "2       False\n",
       "3       False\n",
       "4        True\n",
       "        ...  \n",
       "2328      NaN\n",
       "2329      NaN\n",
       "2330      NaN\n",
       "2331      NaN\n",
       "2332      NaN\n",
       "Name: collectionbool, Length: 2333, dtype: object"
      ]
     },
     "execution_count": 82,
     "metadata": {},
     "output_type": "execute_result"
    }
   ],
   "source": [
    "boxoffice.collectionbool"
   ]
  },
  {
   "cell_type": "code",
   "execution_count": 83,
   "metadata": {},
   "outputs": [
    {
     "name": "stdout",
     "output_type": "stream",
     "text": [
      "<class 'pandas.core.frame.DataFrame'>\n",
      "RangeIndex: 2333 entries, 0 to 2332\n",
      "Data columns (total 22 columns):\n",
      " #   Column                 Non-Null Count  Dtype  \n",
      "---  ------                 --------------  -----  \n",
      " 0   belongs_to_collection  761 non-null    object \n",
      " 1   budget                 2333 non-null   int64  \n",
      " 2   genres                 2332 non-null   object \n",
      " 3   imdb_id                2333 non-null   int64  \n",
      " 4   original_language      2333 non-null   object \n",
      " 5   original_title         2333 non-null   object \n",
      " 6   overview               2332 non-null   object \n",
      " 7   popularity             2333 non-null   float64\n",
      " 8   production_companies   2316 non-null   object \n",
      " 9   production_countries   2328 non-null   object \n",
      " 10  release_date           2333 non-null   object \n",
      " 11  runtime                2333 non-null   float64\n",
      " 12  spoken_languages       2328 non-null   object \n",
      " 13  tagline                2127 non-null   object \n",
      " 14  title                  2333 non-null   object \n",
      " 15  Keywords               2274 non-null   object \n",
      " 16  cast                   2314 non-null   object \n",
      " 17  crew                   2314 non-null   object \n",
      " 18  revenue                2333 non-null   float64\n",
      " 19  Overview_length        2332 non-null   float64\n",
      " 20  Tag_length             2127 non-null   float64\n",
      " 21  collectionbool         939 non-null    object \n",
      "dtypes: float64(5), int64(2), object(15)\n",
      "memory usage: 401.1+ KB\n"
     ]
    }
   ],
   "source": [
    "boxoffice.info()"
   ]
  },
  {
   "cell_type": "markdown",
   "metadata": {},
   "source": [
    "My first inclination is to create a separate dataframe for both categorical and numeric data right away. \n",
    "\n",
    "I already know that I'll need to create a lot of dummy variables for categorical features, which will get very complicated very quickly given the number of potential unique values in features like cast and Keywords.  I'll also need to consider annual trends using the release_date feature. "
   ]
  },
  {
   "cell_type": "code",
   "execution_count": 84,
   "metadata": {},
   "outputs": [
    {
     "data": {
      "text/html": [
       "<div>\n",
       "<style scoped>\n",
       "    .dataframe tbody tr th:only-of-type {\n",
       "        vertical-align: middle;\n",
       "    }\n",
       "\n",
       "    .dataframe tbody tr th {\n",
       "        vertical-align: top;\n",
       "    }\n",
       "\n",
       "    .dataframe thead th {\n",
       "        text-align: right;\n",
       "    }\n",
       "</style>\n",
       "<table border=\"1\" class=\"dataframe\">\n",
       "  <thead>\n",
       "    <tr style=\"text-align: right;\">\n",
       "      <th></th>\n",
       "      <th>belongs_to_collection</th>\n",
       "      <th>genres</th>\n",
       "      <th>original_language</th>\n",
       "      <th>original_title</th>\n",
       "      <th>overview</th>\n",
       "      <th>production_companies</th>\n",
       "      <th>production_countries</th>\n",
       "      <th>release_date</th>\n",
       "      <th>spoken_languages</th>\n",
       "      <th>tagline</th>\n",
       "      <th>title</th>\n",
       "      <th>Keywords</th>\n",
       "      <th>cast</th>\n",
       "      <th>crew</th>\n",
       "      <th>collectionbool</th>\n",
       "    </tr>\n",
       "  </thead>\n",
       "  <tbody>\n",
       "    <tr>\n",
       "      <th>0</th>\n",
       "      <td>The Princess Diaries Collection</td>\n",
       "      <td>['Comedy', 'Drama', 'Family', 'Romance']</td>\n",
       "      <td>en</td>\n",
       "      <td>The Princess Diaries 2: Royal Engagement</td>\n",
       "      <td>Mia Thermopolis is now a college graduate and ...</td>\n",
       "      <td>['Walt Disney Pictures']</td>\n",
       "      <td>['United States of America']</td>\n",
       "      <td>8/6/04</td>\n",
       "      <td>['English']</td>\n",
       "      <td>It can take a lifetime to find true love; she'...</td>\n",
       "      <td>The Princess Diaries 2: Royal Engagement</td>\n",
       "      <td>['coronation', 'duty', 'marriage', 'falling in...</td>\n",
       "      <td>['Anne Hathaway', 'Julie Andrews', 'H√©ctor El...</td>\n",
       "      <td>['Garry Marshall', 'Charles Minsky', 'John Deb...</td>\n",
       "      <td>True</td>\n",
       "    </tr>\n",
       "    <tr>\n",
       "      <th>1</th>\n",
       "      <td>NaN</td>\n",
       "      <td>['Drama']</td>\n",
       "      <td>en</td>\n",
       "      <td>Whiplash</td>\n",
       "      <td>Under the direction of a ruthless instructor, ...</td>\n",
       "      <td>['Bold Films', 'Blumhouse Productions', 'Right...</td>\n",
       "      <td>['United States of America']</td>\n",
       "      <td>10/10/14</td>\n",
       "      <td>['English']</td>\n",
       "      <td>The road to greatness can take you to the edge.</td>\n",
       "      <td>Whiplash</td>\n",
       "      <td>['jazz', 'obsession', 'conservatory', 'music t...</td>\n",
       "      <td>['Miles Teller', 'J.K. Simmons', 'Melissa Beno...</td>\n",
       "      <td>['Terri Taylor', 'Richard Henderson', 'Jeffrey...</td>\n",
       "      <td>False</td>\n",
       "    </tr>\n",
       "    <tr>\n",
       "      <th>2</th>\n",
       "      <td>NaN</td>\n",
       "      <td>['Animation', 'Adventure', 'Family']</td>\n",
       "      <td>en</td>\n",
       "      <td>Pinocchio and the Emperor of the Night</td>\n",
       "      <td>Pinocchio and his friends, a glow worm and a m...</td>\n",
       "      <td>NaN</td>\n",
       "      <td>NaN</td>\n",
       "      <td>8/6/87</td>\n",
       "      <td>['English']</td>\n",
       "      <td>NaN</td>\n",
       "      <td>Pinocchio and the Emperor of the Night</td>\n",
       "      <td>NaN</td>\n",
       "      <td>['Scott Grimes', 'Tom Bosley', 'Rickie Lee Jon...</td>\n",
       "      <td>['Collodi', 'Hal Sutherland', \"Dennis O'Flaher...</td>\n",
       "      <td>False</td>\n",
       "    </tr>\n",
       "  </tbody>\n",
       "</table>\n",
       "</div>"
      ],
      "text/plain": [
       "             belongs_to_collection                                    genres  \\\n",
       "0  The Princess Diaries Collection  ['Comedy', 'Drama', 'Family', 'Romance']   \n",
       "1                              NaN                                 ['Drama']   \n",
       "2                              NaN      ['Animation', 'Adventure', 'Family']   \n",
       "\n",
       "  original_language                            original_title  \\\n",
       "0                en  The Princess Diaries 2: Royal Engagement   \n",
       "1                en                                  Whiplash   \n",
       "2                en    Pinocchio and the Emperor of the Night   \n",
       "\n",
       "                                            overview  \\\n",
       "0  Mia Thermopolis is now a college graduate and ...   \n",
       "1  Under the direction of a ruthless instructor, ...   \n",
       "2  Pinocchio and his friends, a glow worm and a m...   \n",
       "\n",
       "                                production_companies  \\\n",
       "0                           ['Walt Disney Pictures']   \n",
       "1  ['Bold Films', 'Blumhouse Productions', 'Right...   \n",
       "2                                                NaN   \n",
       "\n",
       "           production_countries release_date spoken_languages  \\\n",
       "0  ['United States of America']       8/6/04      ['English']   \n",
       "1  ['United States of America']     10/10/14      ['English']   \n",
       "2                           NaN       8/6/87      ['English']   \n",
       "\n",
       "                                             tagline  \\\n",
       "0  It can take a lifetime to find true love; she'...   \n",
       "1    The road to greatness can take you to the edge.   \n",
       "2                                                NaN   \n",
       "\n",
       "                                      title  \\\n",
       "0  The Princess Diaries 2: Royal Engagement   \n",
       "1                                  Whiplash   \n",
       "2    Pinocchio and the Emperor of the Night   \n",
       "\n",
       "                                            Keywords  \\\n",
       "0  ['coronation', 'duty', 'marriage', 'falling in...   \n",
       "1  ['jazz', 'obsession', 'conservatory', 'music t...   \n",
       "2                                                NaN   \n",
       "\n",
       "                                                cast  \\\n",
       "0  ['Anne Hathaway', 'Julie Andrews', 'H√©ctor El...   \n",
       "1  ['Miles Teller', 'J.K. Simmons', 'Melissa Beno...   \n",
       "2  ['Scott Grimes', 'Tom Bosley', 'Rickie Lee Jon...   \n",
       "\n",
       "                                                crew collectionbool  \n",
       "0  ['Garry Marshall', 'Charles Minsky', 'John Deb...           True  \n",
       "1  ['Terri Taylor', 'Richard Henderson', 'Jeffrey...          False  \n",
       "2  ['Collodi', 'Hal Sutherland', \"Dennis O'Flaher...          False  "
      ]
     },
     "execution_count": 84,
     "metadata": {},
     "output_type": "execute_result"
    }
   ],
   "source": [
    "boxofc_cat = boxoffice.select_dtypes(include=['object', 'bool'])\n",
    "boxofc_cat.head(3)"
   ]
  },
  {
   "cell_type": "code",
   "execution_count": 85,
   "metadata": {},
   "outputs": [
    {
     "data": {
      "text/html": [
       "<div>\n",
       "<style scoped>\n",
       "    .dataframe tbody tr th:only-of-type {\n",
       "        vertical-align: middle;\n",
       "    }\n",
       "\n",
       "    .dataframe tbody tr th {\n",
       "        vertical-align: top;\n",
       "    }\n",
       "\n",
       "    .dataframe thead th {\n",
       "        text-align: right;\n",
       "    }\n",
       "</style>\n",
       "<table border=\"1\" class=\"dataframe\">\n",
       "  <thead>\n",
       "    <tr style=\"text-align: right;\">\n",
       "      <th></th>\n",
       "      <th>budget</th>\n",
       "      <th>imdb_id</th>\n",
       "      <th>popularity</th>\n",
       "      <th>runtime</th>\n",
       "      <th>revenue</th>\n",
       "      <th>Overview_length</th>\n",
       "      <th>Tag_length</th>\n",
       "    </tr>\n",
       "  </thead>\n",
       "  <tbody>\n",
       "    <tr>\n",
       "      <th>0</th>\n",
       "      <td>40000000</td>\n",
       "      <td>368933</td>\n",
       "      <td>8.25</td>\n",
       "      <td>113.00</td>\n",
       "      <td>134,734,481.00</td>\n",
       "      <td>393.00</td>\n",
       "      <td>60.00</td>\n",
       "    </tr>\n",
       "    <tr>\n",
       "      <th>1</th>\n",
       "      <td>3300000</td>\n",
       "      <td>2582802</td>\n",
       "      <td>64.30</td>\n",
       "      <td>105.00</td>\n",
       "      <td>48,982,041.00</td>\n",
       "      <td>130.00</td>\n",
       "      <td>47.00</td>\n",
       "    </tr>\n",
       "    <tr>\n",
       "      <th>2</th>\n",
       "      <td>8000000</td>\n",
       "      <td>93743</td>\n",
       "      <td>0.74</td>\n",
       "      <td>83.00</td>\n",
       "      <td>3,418,605.00</td>\n",
       "      <td>150.00</td>\n",
       "      <td>nan</td>\n",
       "    </tr>\n",
       "    <tr>\n",
       "      <th>3</th>\n",
       "      <td>14000000</td>\n",
       "      <td>431021</td>\n",
       "      <td>7.29</td>\n",
       "      <td>92.00</td>\n",
       "      <td>85,446,075.00</td>\n",
       "      <td>208.00</td>\n",
       "      <td>36.00</td>\n",
       "    </tr>\n",
       "    <tr>\n",
       "      <th>4</th>\n",
       "      <td>0</td>\n",
       "      <td>117110</td>\n",
       "      <td>6.90</td>\n",
       "      <td>100.00</td>\n",
       "      <td>4,259,710.00</td>\n",
       "      <td>397.00</td>\n",
       "      <td>27.00</td>\n",
       "    </tr>\n",
       "  </tbody>\n",
       "</table>\n",
       "</div>"
      ],
      "text/plain": [
       "     budget  imdb_id  popularity  runtime        revenue  Overview_length  \\\n",
       "0  40000000   368933        8.25   113.00 134,734,481.00           393.00   \n",
       "1   3300000  2582802       64.30   105.00  48,982,041.00           130.00   \n",
       "2   8000000    93743        0.74    83.00   3,418,605.00           150.00   \n",
       "3  14000000   431021        7.29    92.00  85,446,075.00           208.00   \n",
       "4         0   117110        6.90   100.00   4,259,710.00           397.00   \n",
       "\n",
       "   Tag_length  \n",
       "0       60.00  \n",
       "1       47.00  \n",
       "2         nan  \n",
       "3       36.00  \n",
       "4       27.00  "
      ]
     },
     "execution_count": 85,
     "metadata": {},
     "output_type": "execute_result"
    }
   ],
   "source": [
    "boxofc_num = boxoffice.select_dtypes(include=['float64', 'int64'])\n",
    "boxofc_num.head()"
   ]
  },
  {
   "cell_type": "markdown",
   "metadata": {},
   "source": [
    "# Numerical Data\n",
    "\n",
    "Numerical data is going to be the simplest set of data to explore and I've decided that I'll start here, then address the categorical data and create dummy variables.  \n",
    "\n",
    "My process for this is going to be looking at basic summary statistics for my numerical dataframe, then examining several hypotheses I have regarding how numerical film features relate to my target variable - revenue. "
   ]
  },
  {
   "cell_type": "code",
   "execution_count": 86,
   "metadata": {},
   "outputs": [
    {
     "data": {
      "text/html": [
       "<div>\n",
       "<style scoped>\n",
       "    .dataframe tbody tr th:only-of-type {\n",
       "        vertical-align: middle;\n",
       "    }\n",
       "\n",
       "    .dataframe tbody tr th {\n",
       "        vertical-align: top;\n",
       "    }\n",
       "\n",
       "    .dataframe thead th {\n",
       "        text-align: right;\n",
       "    }\n",
       "</style>\n",
       "<table border=\"1\" class=\"dataframe\">\n",
       "  <thead>\n",
       "    <tr style=\"text-align: right;\">\n",
       "      <th></th>\n",
       "      <th>budget</th>\n",
       "      <th>imdb_id</th>\n",
       "      <th>popularity</th>\n",
       "      <th>runtime</th>\n",
       "      <th>revenue</th>\n",
       "      <th>Overview_length</th>\n",
       "      <th>Tag_length</th>\n",
       "    </tr>\n",
       "  </thead>\n",
       "  <tbody>\n",
       "    <tr>\n",
       "      <th>count</th>\n",
       "      <td>2,333.00</td>\n",
       "      <td>2,333.00</td>\n",
       "      <td>2,333.00</td>\n",
       "      <td>2,333.00</td>\n",
       "      <td>2,333.00</td>\n",
       "      <td>2,332.00</td>\n",
       "      <td>2,127.00</td>\n",
       "    </tr>\n",
       "    <tr>\n",
       "      <th>mean</th>\n",
       "      <td>44,258,850.66</td>\n",
       "      <td>878,951.72</td>\n",
       "      <td>12.56</td>\n",
       "      <td>111.30</td>\n",
       "      <td>147,844,739.08</td>\n",
       "      <td>306.17</td>\n",
       "      <td>40.81</td>\n",
       "    </tr>\n",
       "    <tr>\n",
       "      <th>std</th>\n",
       "      <td>46,336,104.75</td>\n",
       "      <td>1,058,248.49</td>\n",
       "      <td>19.09</td>\n",
       "      <td>20.72</td>\n",
       "      <td>176,731,176.79</td>\n",
       "      <td>151.12</td>\n",
       "      <td>22.77</td>\n",
       "    </tr>\n",
       "    <tr>\n",
       "      <th>min</th>\n",
       "      <td>0.00</td>\n",
       "      <td>4,972.00</td>\n",
       "      <td>0.00</td>\n",
       "      <td>0.00</td>\n",
       "      <td>5,806.00</td>\n",
       "      <td>41.00</td>\n",
       "      <td>3.00</td>\n",
       "    </tr>\n",
       "    <tr>\n",
       "      <th>25%</th>\n",
       "      <td>11,000,000.00</td>\n",
       "      <td>118,747.00</td>\n",
       "      <td>7.49</td>\n",
       "      <td>97.00</td>\n",
       "      <td>40,766,041.00</td>\n",
       "      <td>187.00</td>\n",
       "      <td>25.00</td>\n",
       "    </tr>\n",
       "    <tr>\n",
       "      <th>50%</th>\n",
       "      <td>30,000,000.00</td>\n",
       "      <td>372,784.00</td>\n",
       "      <td>10.22</td>\n",
       "      <td>108.00</td>\n",
       "      <td>96,889,998.00</td>\n",
       "      <td>291.00</td>\n",
       "      <td>36.00</td>\n",
       "    </tr>\n",
       "    <tr>\n",
       "      <th>75%</th>\n",
       "      <td>60,000,000.00</td>\n",
       "      <td>1,402,488.00</td>\n",
       "      <td>13.39</td>\n",
       "      <td>122.00</td>\n",
       "      <td>179,379,533.00</td>\n",
       "      <td>388.25</td>\n",
       "      <td>50.50</td>\n",
       "    </tr>\n",
       "    <tr>\n",
       "      <th>max</th>\n",
       "      <td>380,000,000.00</td>\n",
       "      <td>6,044,910.00</td>\n",
       "      <td>547.49</td>\n",
       "      <td>248.00</td>\n",
       "      <td>1,516,045,911.00</td>\n",
       "      <td>1,000.00</td>\n",
       "      <td>213.00</td>\n",
       "    </tr>\n",
       "  </tbody>\n",
       "</table>\n",
       "</div>"
      ],
      "text/plain": [
       "              budget      imdb_id  popularity  runtime          revenue  \\\n",
       "count       2,333.00     2,333.00    2,333.00 2,333.00         2,333.00   \n",
       "mean   44,258,850.66   878,951.72       12.56   111.30   147,844,739.08   \n",
       "std    46,336,104.75 1,058,248.49       19.09    20.72   176,731,176.79   \n",
       "min             0.00     4,972.00        0.00     0.00         5,806.00   \n",
       "25%    11,000,000.00   118,747.00        7.49    97.00    40,766,041.00   \n",
       "50%    30,000,000.00   372,784.00       10.22   108.00    96,889,998.00   \n",
       "75%    60,000,000.00 1,402,488.00       13.39   122.00   179,379,533.00   \n",
       "max   380,000,000.00 6,044,910.00      547.49   248.00 1,516,045,911.00   \n",
       "\n",
       "       Overview_length  Tag_length  \n",
       "count         2,332.00    2,127.00  \n",
       "mean            306.17       40.81  \n",
       "std             151.12       22.77  \n",
       "min              41.00        3.00  \n",
       "25%             187.00       25.00  \n",
       "50%             291.00       36.00  \n",
       "75%             388.25       50.50  \n",
       "max           1,000.00      213.00  "
      ]
     },
     "execution_count": 86,
     "metadata": {},
     "output_type": "execute_result"
    }
   ],
   "source": [
    "pd.options.display.float_format = '{:,.2f}'.format  #removes scientific notation and adds comma separators for floats\n",
    "\n",
    "boxofc_num.describe()"
   ]
  },
  {
   "cell_type": "markdown",
   "metadata": {},
   "source": [
    "The first thing I notice when examining these features is that both budget and runtime have values that are equal to zero; something that's not possible for a film that was released globally.  I'll need to examine both of these situations prior to testing hypotheses around either feature.   If there are a large number of 'zero' values in either column I'll then need to decide if I'm going to imput the mean or median for either. "
   ]
  },
  {
   "cell_type": "code",
   "execution_count": 87,
   "metadata": {},
   "outputs": [
    {
     "data": {
      "image/png": "[encoded data removed]",
      "text/plain": [
       "<Figure size 1080x360 with 1 Axes>"
      ]
     },
     "metadata": {
      "needs_background": "light"
     },
     "output_type": "display_data"
    }
   ],
   "source": [
    "# view distribution of films whose budget is not equal to zero to determine if I'll fill with the mean or median\n",
    "\n",
    "boxofc_num.budget[boxofc_num.budget != 0].hist(bins=100, figsize = (15, 5)) \n",
    "plt.xlabel('budget')\n",
    "plt.ylabel('# of films')\n",
    "plt.title('Distribution of budget among films');"
   ]
  },
  {
   "cell_type": "code",
   "execution_count": 88,
   "metadata": {},
   "outputs": [
    {
     "name": "stdout",
     "output_type": "stream",
     "text": [
      "budget             194\n",
      "imdb_id            194\n",
      "popularity         194\n",
      "runtime            194\n",
      "revenue            194\n",
      "Overview_length    194\n",
      "Tag_length         127\n",
      "dtype: int64\n"
     ]
    }
   ],
   "source": [
    "# count films whose budget is equal to 0\n",
    "\n",
    "null_budget = boxofc_num[boxofc_num.budget == 0].count()\n",
    "\n",
    "print(null_budget)"
   ]
  },
  {
   "cell_type": "code",
   "execution_count": 89,
   "metadata": {},
   "outputs": [
    {
     "name": "stdout",
     "output_type": "stream",
     "text": [
      "The mean film budget is:  48272977.37\n",
      "The median film budget is:  35000000.0\n"
     ]
    }
   ],
   "source": [
    "# determining if mean or median budget is best to imput into this column\n",
    "\n",
    "budget_mean = round(np.mean(boxofc_num.budget[boxofc_num.budget != 0]), 2)\n",
    "\n",
    "budget_median = np.median(boxofc_num.budget[boxofc_num.budget != 0])\n",
    "\n",
    "print('The mean film budget is: ', budget_mean)\n",
    "print('The median film budget is: ', budget_median)"
   ]
  },
  {
   "cell_type": "markdown",
   "metadata": {},
   "source": [
    "Both the mean and median for budget are quite close to one another relative to this histogram since it's highly skewed to the right.  Given that it's best practice I'll impute the median for budget here. "
   ]
  },
  {
   "cell_type": "code",
   "execution_count": 90,
   "metadata": {},
   "outputs": [
    {
     "data": {
      "image/png": "[encoded data removed]",
      "text/plain": [
       "<Figure size 1080x360 with 1 Axes>"
      ]
     },
     "metadata": {
      "needs_background": "light"
     },
     "output_type": "display_data"
    }
   ],
   "source": [
    "# impute the median into the numerical data frame\n",
    "\n",
    "boxofc_num.loc[boxofc_num.budget == 0, 'budget'] = budget_median  \n",
    "\n",
    "# plotting the new budget distribution\n",
    "\n",
    "boxofc_num.budget.hist(bins=100, figsize = (15, 5)) \n",
    "plt.xlabel('budget')\n",
    "plt.ylabel('# of films')\n",
    "plt.title('Distribution of budget among films after imputing the median');"
   ]
  },
  {
   "cell_type": "markdown",
   "metadata": {},
   "source": [
    "As expected there is a jump in budget at the bin where the median film budget is after imputing that value, however this is better than having 0 as a value for budget for 194 films.   Now I need to replicate this for movie runtime. "
   ]
  },
  {
   "cell_type": "code",
   "execution_count": 91,
   "metadata": {},
   "outputs": [
    {
     "data": {
      "image/png": "[encoded data removed]",
      "text/plain": [
       "<Figure size 1080x360 with 1 Axes>"
      ]
     },
     "metadata": {
      "needs_background": "light"
     },
     "output_type": "display_data"
    }
   ],
   "source": [
    "# view distribution of films whose runtime is not equal to zero \n",
    "\n",
    "boxofc_num.runtime[boxofc_num.runtime != 0].hist(bins=100, figsize = (15, 5)) \n",
    "plt.xlabel('runtime')\n",
    "plt.ylabel('# of films')\n",
    "plt.title('Distribution of runtime among films');"
   ]
  },
  {
   "cell_type": "markdown",
   "metadata": {},
   "source": [
    "This distribution has a normal distribution so it's likely that I'll impute the mean runtime."
   ]
  },
  {
   "cell_type": "code",
   "execution_count": 92,
   "metadata": {},
   "outputs": [
    {
     "name": "stdout",
     "output_type": "stream",
     "text": [
      "budget             2\n",
      "imdb_id            2\n",
      "popularity         2\n",
      "runtime            2\n",
      "revenue            2\n",
      "Overview_length    2\n",
      "Tag_length         0\n",
      "dtype: int64\n"
     ]
    }
   ],
   "source": [
    "# count films which have zero runtime\n",
    "\n",
    "zero_runtime = boxofc_num[boxofc_num.runtime == 0].count()\n",
    "\n",
    "print(zero_runtime)"
   ]
  },
  {
   "cell_type": "code",
   "execution_count": 93,
   "metadata": {},
   "outputs": [
    {
     "data": {
      "image/png": "[encoded data removed]",
      "text/plain": [
       "<Figure size 1080x360 with 1 Axes>"
      ]
     },
     "metadata": {
      "needs_background": "light"
     },
     "output_type": "display_data"
    }
   ],
   "source": [
    "# with only two films that have no runtime listed I'm just going to impute the mean here given the normal distribution\n",
    "\n",
    "mean_runtime = int(np.mean(boxofc_num.runtime[boxofc_num.runtime != 0]))\n",
    "\n",
    "boxofc_num.runtime[boxofc_num.runtime == 0] = mean_runtime\n",
    "\n",
    "#plot the new distribution\n",
    "\n",
    "boxofc_num.runtime.hist(bins=100, figsize = (15, 5)) \n",
    "plt.xlabel('runtime')\n",
    "plt.ylabel('# of films')\n",
    "plt.title('Distribution of film runtime in minutes');"
   ]
  },
  {
   "cell_type": "markdown",
   "metadata": {},
   "source": [
    "## Exploring Numerical features in relation to 'revenue'\n",
    "\n",
    "I have several questions about how many of these numerical features relate back to the revenue of a film that I'd like to explore: \n",
    "\n",
    "1 - Does budget have a strong correlation to revenue?\n",
    "\n",
    "2 - Do movies with longer runtime have more revenue?\n",
    "\n",
    "3 - Does a higher value for popularity (a metric for user engagement with a film on TMDB's website) actually relate to revenue?\n",
    "\n",
    "4 - Does a shorter tagline equate to higher revenue?"
   ]
  },
  {
   "cell_type": "markdown",
   "metadata": {},
   "source": [
    "### Budget & Revenue\n",
    "\n",
    "I hypothesize that budget has a high correlation with the revenue of a film, for two reasons.  The first is rather obvious, a high production value *should* indicate a film that is a high quality production.   Secondly, I suspect that studios will spend significantly more money marketing a film that has a larger budget as part of the 'sunk cost' fallacy.  While high production value films with lots of marketing efforts do flop at the box office, I intuit that these are the exceptions that make the rule."
   ]
  },
  {
   "cell_type": "code",
   "execution_count": 94,
   "metadata": {},
   "outputs": [
    {
     "data": {
      "image/png": "[encoded data removed]",
      "text/plain": [
       "<Figure size 576x576 with 1 Axes>"
      ]
     },
     "metadata": {
      "needs_background": "light"
     },
     "output_type": "display_data"
    }
   ],
   "source": [
    "# plot budget vs revenue with line of best fit\n",
    "\n",
    "plt.plot(boxofc_num['budget'], boxofc_num['revenue'], marker='.', linestyle='none', alpha=0.5, markersize=10)\n",
    "\n",
    "# calculate slope & y-intercept\n",
    "\n",
    "a, b = np.polyfit(boxofc_num['budget'], boxofc_num['revenue'], 1)\n",
    "\n",
    "plt.plot(boxofc_num['budget'], (a*boxofc_num['budget'] + b), linestyle='-', c='r')\n",
    "\n",
    "plt.title('Film budget vs Cumulative Worldwide Revenue')\n",
    "plt.xlabel('Film Budget')\n",
    "plt.ylabel('Cumulative Worldwide Revenue');"
   ]
  },
  {
   "cell_type": "code",
   "execution_count": 95,
   "metadata": {},
   "outputs": [
    {
     "data": {
      "text/html": [
       "<div>\n",
       "<style scoped>\n",
       "    .dataframe tbody tr th:only-of-type {\n",
       "        vertical-align: middle;\n",
       "    }\n",
       "\n",
       "    .dataframe tbody tr th {\n",
       "        vertical-align: top;\n",
       "    }\n",
       "\n",
       "    .dataframe thead th {\n",
       "        text-align: right;\n",
       "    }\n",
       "</style>\n",
       "<table border=\"1\" class=\"dataframe\">\n",
       "  <thead>\n",
       "    <tr style=\"text-align: right;\">\n",
       "      <th></th>\n",
       "      <th>budget</th>\n",
       "      <th>revenue</th>\n",
       "    </tr>\n",
       "  </thead>\n",
       "  <tbody>\n",
       "    <tr>\n",
       "      <th>budget</th>\n",
       "      <td>1.00</td>\n",
       "      <td>0.67</td>\n",
       "    </tr>\n",
       "    <tr>\n",
       "      <th>revenue</th>\n",
       "      <td>0.67</td>\n",
       "      <td>1.00</td>\n",
       "    </tr>\n",
       "  </tbody>\n",
       "</table>\n",
       "</div>"
      ],
      "text/plain": [
       "         budget  revenue\n",
       "budget     1.00     0.67\n",
       "revenue    0.67     1.00"
      ]
     },
     "execution_count": 95,
     "metadata": {},
     "output_type": "execute_result"
    }
   ],
   "source": [
    "correlation = ['budget', 'revenue']\n",
    "\n",
    "boxofc_num[correlation].corr()"
   ]
  },
  {
   "cell_type": "markdown",
   "metadata": {},
   "source": [
    "It seems that budget does have a fairly strong correlation with revenue, although it is somewhat difficult to tell based on the plot alone given the concentration of budget and revenue on the lower end.  I suspect that after training multiple models that it will become evident that there is diminishing returns on simply increasing a films budget to increase revenue.\n",
    "\n",
    "One thing that **is** important to note is that the scale on the y-axis is from 0 - 1.5 billion, while the scale on the x-axis is from 0 - 400 million. Taking this into account it's clear that there is, generally speaking, roughly a 3x return on budget for films regardless of the size of budget.  Definitely a good business to be in!"
   ]
  },
  {
   "cell_type": "markdown",
   "metadata": {},
   "source": [
    "### Runtime & Revenue\n",
    "\n",
    "I have a hypothesis that a longer runtime will be correlated with a higher revenue (this is partially personal bias since films that are longer like Avengers: Endgame and Lord of the Rings are favourites of mine and also did fantastically well at the box office).  However I'm not sure that the correlation will be that strong given that runtime as a feature is normally distributed."
   ]
  },
  {
   "cell_type": "code",
   "execution_count": 96,
   "metadata": {},
   "outputs": [
    {
     "data": {
      "image/png": "[encoded data removed]",
      "text/plain": [
       "<Figure size 576x576 with 1 Axes>"
      ]
     },
     "metadata": {
      "needs_background": "light"
     },
     "output_type": "display_data"
    }
   ],
   "source": [
    "# plot runtime vs revenue\n",
    "\n",
    "plt.plot(boxofc_num['runtime'], boxofc_num['revenue'], marker='.', linestyle='none', c='r', alpha=0.5, markersize = 10)\n",
    "\n",
    "plt.title('Film Runtime vs Cumulative Worldwide Revenue')\n",
    "plt.xlabel('Runtime in minutes')\n",
    "plt.ylabel('Cumulative Worldwide Revenue');"
   ]
  },
  {
   "cell_type": "code",
   "execution_count": 97,
   "metadata": {},
   "outputs": [
    {
     "data": {
      "text/html": [
       "<div>\n",
       "<style scoped>\n",
       "    .dataframe tbody tr th:only-of-type {\n",
       "        vertical-align: middle;\n",
       "    }\n",
       "\n",
       "    .dataframe tbody tr th {\n",
       "        vertical-align: top;\n",
       "    }\n",
       "\n",
       "    .dataframe thead th {\n",
       "        text-align: right;\n",
       "    }\n",
       "</style>\n",
       "<table border=\"1\" class=\"dataframe\">\n",
       "  <thead>\n",
       "    <tr style=\"text-align: right;\">\n",
       "      <th></th>\n",
       "      <th>runtime</th>\n",
       "      <th>revenue</th>\n",
       "    </tr>\n",
       "  </thead>\n",
       "  <tbody>\n",
       "    <tr>\n",
       "      <th>runtime</th>\n",
       "      <td>1.00</td>\n",
       "      <td>0.15</td>\n",
       "    </tr>\n",
       "    <tr>\n",
       "      <th>revenue</th>\n",
       "      <td>0.15</td>\n",
       "      <td>1.00</td>\n",
       "    </tr>\n",
       "  </tbody>\n",
       "</table>\n",
       "</div>"
      ],
      "text/plain": [
       "         runtime  revenue\n",
       "runtime     1.00     0.15\n",
       "revenue     0.15     1.00"
      ]
     },
     "execution_count": 97,
     "metadata": {},
     "output_type": "execute_result"
    }
   ],
   "source": [
    "correlation = ['runtime', 'revenue']\n",
    "\n",
    "boxofc_num[correlation].corr()"
   ]
  },
  {
   "cell_type": "markdown",
   "metadata": {},
   "source": [
    "It doesn't seem that runtime is correlated much at all with revenue.  However runtime IS normally distributed and the relationship may not be linear - I'm curious to see what comes up in later analysis for this. "
   ]
  },
  {
   "cell_type": "markdown",
   "metadata": {},
   "source": [
    "### TMDB Popularity & Revenue\n",
    "\n",
    "This dataset comes with a 'popularity' column which is a metric provided by The Movie Database (source of original data, and an IMDB alternative).  This metric is a score that TMDB provides in which a higher score indicates a higher degree of user interaction on their website. \n",
    "\n",
    "My hypothesis is that there will be a positive correlation between popoularity and revenue, but that the value of that correlation will be rather small. "
   ]
  },
  {
   "cell_type": "code",
   "execution_count": 98,
   "metadata": {},
   "outputs": [
    {
     "data": {
      "image/png": "[encoded data removed]",
      "text/plain": [
       "<Figure size 576x576 with 1 Axes>"
      ]
     },
     "metadata": {
      "needs_background": "light"
     },
     "output_type": "display_data"
    }
   ],
   "source": [
    "# plot popularity vs revenue with line of best fit\n",
    "\n",
    "plt.plot(boxofc_num['popularity'], boxofc_num['revenue'], marker='.', linestyle='none', c='g', alpha=0.5, markersize = 10)\n",
    "\n",
    "a, b = np.polyfit(boxofc_num['popularity'], boxofc_num['revenue'], 1)\n",
    "\n",
    "plt.plot(boxofc_num['popularity'], a*boxofc_num['popularity']+b, linestyle='-', c='b')\n",
    "\n",
    "plt.title('TMDB Popularity vs Cumulative Worldwide Revenue')\n",
    "plt.xlabel('Popularity Score')\n",
    "plt.ylabel('Cumulative Worldwide Revenue');"
   ]
  },
  {
   "cell_type": "code",
   "execution_count": 99,
   "metadata": {},
   "outputs": [
    {
     "data": {
      "text/html": [
       "<div>\n",
       "<style scoped>\n",
       "    .dataframe tbody tr th:only-of-type {\n",
       "        vertical-align: middle;\n",
       "    }\n",
       "\n",
       "    .dataframe tbody tr th {\n",
       "        vertical-align: top;\n",
       "    }\n",
       "\n",
       "    .dataframe thead th {\n",
       "        text-align: right;\n",
       "    }\n",
       "</style>\n",
       "<table border=\"1\" class=\"dataframe\">\n",
       "  <thead>\n",
       "    <tr style=\"text-align: right;\">\n",
       "      <th></th>\n",
       "      <th>popularity</th>\n",
       "      <th>revenue</th>\n",
       "    </tr>\n",
       "  </thead>\n",
       "  <tbody>\n",
       "    <tr>\n",
       "      <th>popularity</th>\n",
       "      <td>1.00</td>\n",
       "      <td>0.39</td>\n",
       "    </tr>\n",
       "    <tr>\n",
       "      <th>revenue</th>\n",
       "      <td>0.39</td>\n",
       "      <td>1.00</td>\n",
       "    </tr>\n",
       "  </tbody>\n",
       "</table>\n",
       "</div>"
      ],
      "text/plain": [
       "            popularity  revenue\n",
       "popularity        1.00     0.39\n",
       "revenue           0.39     1.00"
      ]
     },
     "execution_count": 99,
     "metadata": {},
     "output_type": "execute_result"
    }
   ],
   "source": [
    "correlation = ['popularity', 'revenue']\n",
    "\n",
    "boxofc_num[correlation].corr()"
   ]
  },
  {
   "cell_type": "markdown",
   "metadata": {},
   "source": [
    "While popularity is somewhat positively correlated with revenue, the effect seems to be relatively minimal given that most of the data has a popularity score that is less than 50. \n",
    "\n",
    "Further, I don't believe that this is something that would be useful for studio executives or other making decisions around whether or not a film would be a good investment since by definition popularity can only be measured *after* a film has been released.  Moving forward I think that it will be likely that this columnn gets dropped. "
   ]
  },
  {
   "cell_type": "markdown",
   "metadata": {},
   "source": [
    "### Tagline Length & Revenue\n",
    "\n"
   ]
  },
  {
   "cell_type": "code",
   "execution_count": 100,
   "metadata": {},
   "outputs": [
    {
     "data": {
      "text/plain": [
       "0"
      ]
     },
     "execution_count": 100,
     "metadata": {},
     "output_type": "execute_result"
    }
   ],
   "source": [
    "# filling in missing values with 0 - if the tagline length is missing then that film doesn't have a tagline\n",
    "boxofc_num['Tag_length'] = boxofc_num['Tag_length'].fillna(0)\n",
    "boxofc_num['Tag_length'].isnull().sum()"
   ]
  },
  {
   "cell_type": "code",
   "execution_count": 101,
   "metadata": {},
   "outputs": [
    {
     "data": {
      "image/png": "[encoded data removed]",
      "text/plain": [
       "<Figure size 576x576 with 1 Axes>"
      ]
     },
     "metadata": {
      "needs_background": "light"
     },
     "output_type": "display_data"
    }
   ],
   "source": [
    "# plot Tagline Length vs revenue\n",
    "\n",
    "plt.plot(boxofc_num['Tag_length'], boxofc_num['revenue'], marker='.', linestyle='none', c='m', alpha=0.5, markersize = 10)\n",
    "\n",
    "plt.title('Tagline Length vs Cumulative Worldwide Revenue')\n",
    "plt.xlabel('Tagline Length (# of characters)')\n",
    "plt.ylabel('Cumulative Worldwide Revenue');"
   ]
  },
  {
   "cell_type": "code",
   "execution_count": 102,
   "metadata": {},
   "outputs": [
    {
     "data": {
      "text/html": [
       "<div>\n",
       "<style scoped>\n",
       "    .dataframe tbody tr th:only-of-type {\n",
       "        vertical-align: middle;\n",
       "    }\n",
       "\n",
       "    .dataframe tbody tr th {\n",
       "        vertical-align: top;\n",
       "    }\n",
       "\n",
       "    .dataframe thead th {\n",
       "        text-align: right;\n",
       "    }\n",
       "</style>\n",
       "<table border=\"1\" class=\"dataframe\">\n",
       "  <thead>\n",
       "    <tr style=\"text-align: right;\">\n",
       "      <th></th>\n",
       "      <th>Tag_length</th>\n",
       "      <th>revenue</th>\n",
       "    </tr>\n",
       "  </thead>\n",
       "  <tbody>\n",
       "    <tr>\n",
       "      <th>Tag_length</th>\n",
       "      <td>1.00</td>\n",
       "      <td>-0.04</td>\n",
       "    </tr>\n",
       "    <tr>\n",
       "      <th>revenue</th>\n",
       "      <td>-0.04</td>\n",
       "      <td>1.00</td>\n",
       "    </tr>\n",
       "  </tbody>\n",
       "</table>\n",
       "</div>"
      ],
      "text/plain": [
       "            Tag_length  revenue\n",
       "Tag_length        1.00    -0.04\n",
       "revenue          -0.04     1.00"
      ]
     },
     "execution_count": 102,
     "metadata": {},
     "output_type": "execute_result"
    }
   ],
   "source": [
    "correlation = ['Tag_length', 'revenue']\n",
    "\n",
    "boxofc_num[correlation].corr()"
   ]
  },
  {
   "cell_type": "markdown",
   "metadata": {},
   "source": [
    "Tagline length has a small negative correlation.  However what I find to be interesting is that no film with over 100 characters in it's tagline earned over 400,000,000 in revenue.  \n",
    "\n",
    "This is useful information because most taglines will be written after a movie has been made and studios are beginning to market a film.  While this is notable, it's use is limited in that it meerely confirms what conventional wisdom is: taglines should be short and sweet.  What would have been more interesting (and what I hoped for) was to see if there was an 'optimal' tagline length for revenue."
   ]
  },
  {
   "cell_type": "code",
   "execution_count": 103,
   "metadata": {},
   "outputs": [
    {
     "data": {
      "text/plain": [
       "0"
      ]
     },
     "execution_count": 103,
     "metadata": {},
     "output_type": "execute_result"
    }
   ],
   "source": [
    "# quickly checking for missing values in the overview length column as well\n",
    "boxofc_num['Overview_length'] = boxofc_num['Overview_length'].fillna(0)\n",
    "boxofc_num['Overview_length'].isnull().sum()"
   ]
  },
  {
   "cell_type": "markdown",
   "metadata": {},
   "source": [
    "# Categorical Variables\n",
    "\n",
    "I have a lot of questions about how different categorical variables relate to revenue, however before I can really begin to explore these relationships I need to break these columns out into dummy variables for simpler analysis.  Currently most of these columns have values thar are lists of each category a film might belong to.  For instance, a film could be produced in multiple countries, or belong to several genres, and almost every film has many cast members.  \n",
    "\n",
    "The first step before conducting any analysis is to create new features of dummy variables, I know that there will be some challenges here so I'll start with the genres columnn to find out how to handle these columns and work from there. \n",
    "\n",
    "Moving forward, every data frame created by exploding these categorical columns into dummy variables will be named the original column name capitalized, followed by \\_rev and have the revenue column from my larger data frame joined to it.  \n",
    "\n",
    "EG: Genre_rev"
   ]
  },
  {
   "cell_type": "code",
   "execution_count": 104,
   "metadata": {},
   "outputs": [],
   "source": [
    "#def dummy_rev(Category):\n",
    "#    \"\"\"This is a function that will fill null values for a category with 'No Category', evaluate the values of a categorical \n",
    "#    column literally, then get dummy variables for that column and return a new data frame called Dummy_rev that can be renamed.\n",
    "#    This will also plot a bar chart of the value count for each unique item in the category\"\"\"\n",
    "#    Category = Category.fillna(\"['No Category']\")\n",
    "#    Category = Category.apply(lambda x: ast.literal_eval(x))\n",
    "#    Dummy_rev = pd.get_dummies(Category.apply(pd.Series).stack).sum(level=0)\n",
    "#    count = Dummy_rev.apply(pd.value_counts)\n",
    "#    Dummy_rev = Dummy_rev.join(boxofc_num['revenue'])\n",
    "#    return Dummy_rev"
   ]
  },
  {
   "cell_type": "markdown",
   "metadata": {},
   "source": [
    "### Working with the Genre Category\n",
    "\n",
    "I'll start exploring and cleaning up my categorical variables with the Genre category.  I beleive that there will be some interesting trends to note here, and I hypothesize that Drama will be the highest grossing genre. "
   ]
  },
  {
   "cell_type": "code",
   "execution_count": 105,
   "metadata": {},
   "outputs": [
    {
     "data": {
      "text/plain": [
       "\"['Comedy', 'Drama', 'Family', 'Romance']\""
      ]
     },
     "execution_count": 105,
     "metadata": {},
     "output_type": "execute_result"
    }
   ],
   "source": [
    "# checking to see what the final result of my data wrangling work was previously.\n",
    "\n",
    "boxoffice.genres.iloc[0]    "
   ]
  },
  {
   "cell_type": "code",
   "execution_count": 106,
   "metadata": {},
   "outputs": [],
   "source": [
    "# Fill all NaN values with the string 'No Genre' to avoid issues with using .get_dummies()\n",
    "\n",
    "boxofc_cat['genres'] = boxofc_cat['genres'].fillna(\"['No Genre']\")"
   ]
  },
  {
   "cell_type": "code",
   "execution_count": 107,
   "metadata": {},
   "outputs": [],
   "source": [
    "# Writing a lambda function that will remove the string formatting from the genres column\n",
    "\n",
    "boxofc_cat.genres = boxofc_cat.genres.apply(lambda x: ast.literal_eval(x))"
   ]
  },
  {
   "cell_type": "code",
   "execution_count": 108,
   "metadata": {},
   "outputs": [
    {
     "data": {
      "text/plain": [
       "['Comedy', 'Drama', 'Family', 'Romance']"
      ]
     },
     "execution_count": 108,
     "metadata": {},
     "output_type": "execute_result"
    }
   ],
   "source": [
    "# Checking if this worked as intended\n",
    "\n",
    "boxofc_cat.genres.iloc[0]"
   ]
  },
  {
   "cell_type": "code",
   "execution_count": 109,
   "metadata": {},
   "outputs": [
    {
     "data": {
      "text/html": [
       "<div>\n",
       "<style scoped>\n",
       "    .dataframe tbody tr th:only-of-type {\n",
       "        vertical-align: middle;\n",
       "    }\n",
       "\n",
       "    .dataframe tbody tr th {\n",
       "        vertical-align: top;\n",
       "    }\n",
       "\n",
       "    .dataframe thead th {\n",
       "        text-align: right;\n",
       "    }\n",
       "</style>\n",
       "<table border=\"1\" class=\"dataframe\">\n",
       "  <thead>\n",
       "    <tr style=\"text-align: right;\">\n",
       "      <th></th>\n",
       "      <th>Action</th>\n",
       "      <th>Adventure</th>\n",
       "      <th>Animation</th>\n",
       "      <th>Comedy</th>\n",
       "      <th>Crime</th>\n",
       "      <th>Documentary</th>\n",
       "      <th>Drama</th>\n",
       "      <th>Family</th>\n",
       "      <th>Fantasy</th>\n",
       "      <th>Foreign</th>\n",
       "      <th>History</th>\n",
       "      <th>Horror</th>\n",
       "      <th>Music</th>\n",
       "      <th>Mystery</th>\n",
       "      <th>No Genre</th>\n",
       "      <th>Romance</th>\n",
       "      <th>Science Fiction</th>\n",
       "      <th>Thriller</th>\n",
       "      <th>War</th>\n",
       "      <th>Western</th>\n",
       "    </tr>\n",
       "  </thead>\n",
       "  <tbody>\n",
       "    <tr>\n",
       "      <th>0</th>\n",
       "      <td>0</td>\n",
       "      <td>0</td>\n",
       "      <td>0</td>\n",
       "      <td>1</td>\n",
       "      <td>0</td>\n",
       "      <td>0</td>\n",
       "      <td>1</td>\n",
       "      <td>1</td>\n",
       "      <td>0</td>\n",
       "      <td>0</td>\n",
       "      <td>0</td>\n",
       "      <td>0</td>\n",
       "      <td>0</td>\n",
       "      <td>0</td>\n",
       "      <td>0</td>\n",
       "      <td>1</td>\n",
       "      <td>0</td>\n",
       "      <td>0</td>\n",
       "      <td>0</td>\n",
       "      <td>0</td>\n",
       "    </tr>\n",
       "    <tr>\n",
       "      <th>1</th>\n",
       "      <td>0</td>\n",
       "      <td>0</td>\n",
       "      <td>0</td>\n",
       "      <td>0</td>\n",
       "      <td>0</td>\n",
       "      <td>0</td>\n",
       "      <td>1</td>\n",
       "      <td>0</td>\n",
       "      <td>0</td>\n",
       "      <td>0</td>\n",
       "      <td>0</td>\n",
       "      <td>0</td>\n",
       "      <td>0</td>\n",
       "      <td>0</td>\n",
       "      <td>0</td>\n",
       "      <td>0</td>\n",
       "      <td>0</td>\n",
       "      <td>0</td>\n",
       "      <td>0</td>\n",
       "      <td>0</td>\n",
       "    </tr>\n",
       "    <tr>\n",
       "      <th>2</th>\n",
       "      <td>0</td>\n",
       "      <td>1</td>\n",
       "      <td>1</td>\n",
       "      <td>0</td>\n",
       "      <td>0</td>\n",
       "      <td>0</td>\n",
       "      <td>0</td>\n",
       "      <td>1</td>\n",
       "      <td>0</td>\n",
       "      <td>0</td>\n",
       "      <td>0</td>\n",
       "      <td>0</td>\n",
       "      <td>0</td>\n",
       "      <td>0</td>\n",
       "      <td>0</td>\n",
       "      <td>0</td>\n",
       "      <td>0</td>\n",
       "      <td>0</td>\n",
       "      <td>0</td>\n",
       "      <td>0</td>\n",
       "    </tr>\n",
       "  </tbody>\n",
       "</table>\n",
       "</div>"
      ],
      "text/plain": [
       "   Action  Adventure  Animation  Comedy  Crime  Documentary  Drama  Family  \\\n",
       "0       0          0          0       1      0            0      1       1   \n",
       "1       0          0          0       0      0            0      1       0   \n",
       "2       0          1          1       0      0            0      0       1   \n",
       "\n",
       "   Fantasy  Foreign  History  Horror  Music  Mystery  No Genre  Romance  \\\n",
       "0        0        0        0       0      0        0         0        1   \n",
       "1        0        0        0       0      0        0         0        0   \n",
       "2        0        0        0       0      0        0         0        0   \n",
       "\n",
       "   Science Fiction  Thriller  War  Western  \n",
       "0                0         0    0        0  \n",
       "1                0         0    0        0  \n",
       "2                0         0    0        0  "
      ]
     },
     "execution_count": 109,
     "metadata": {},
     "output_type": "execute_result"
    }
   ],
   "source": [
    "# Getting the dummy variables and making sure that it works as intended\n",
    "\n",
    "Genre_dummies = pd.get_dummies(boxofc_cat['genres'].apply(pd.Series).stack()).sum(level=0)\n",
    "\n",
    "Genre_dummies.head(3)"
   ]
  },
  {
   "cell_type": "code",
   "execution_count": 110,
   "metadata": {},
   "outputs": [
    {
     "data": {
      "image/png": "[encoded data removed]",
      "text/plain": [
       "<Figure size 576x576 with 1 Axes>"
      ]
     },
     "metadata": {
      "needs_background": "light"
     },
     "output_type": "display_data"
    }
   ],
   "source": [
    "# Plotting the new dummy variables as a bar chart to see what the distribution looks like\n",
    "\n",
    "count = Genre_dummies.apply(pd.value_counts)\n",
    "x = list(Genre_dummies.columns)\n",
    "y = count.iloc[1].sort_values(ascending=False)\n",
    "sns.barplot(y, x, orient='h')\n",
    "plt.title(\"Number of films per genre\")\n",
    "plt.ylabel('Genres')\n",
    "plt.xlabel('Number of films');"
   ]
  },
  {
   "cell_type": "markdown",
   "metadata": {},
   "source": [
    "It seems that drama is the most popular genre, with comedy, action, and thriller also being overrepresented.  Both the foreign and no genre categories have a value of one.  It seems that I've found an inelegant way to see which categories appear the most frequently.  Next I need to represent how these genres relate to my target variable. "
   ]
  },
  {
   "cell_type": "code",
   "execution_count": 111,
   "metadata": {},
   "outputs": [
    {
     "data": {
      "text/plain": [
       "Animation         170,857,334.50\n",
       "Family            150,975,050.50\n",
       "Adventure         149,878,437.00\n",
       "Fantasy           140,716,486.50\n",
       "Science Fiction   118,000,000.00\n",
       "Action            117,487,473.00\n",
       "Comedy            106,031,284.00\n",
       "Western            93,798,977.00\n",
       "War                92,441,274.50\n",
       "Thriller           90,970,807.00\n",
       "Music              90,874,570.00\n",
       "Mystery            87,727,807.00\n",
       "Romance            85,512,300.00\n",
       "Crime              84,872,444.00\n",
       "History            76,806,063.00\n",
       "Drama              76,669,806.00\n",
       "Horror             70,355,813.00\n",
       "Documentary         7,502,105.50\n",
       "Foreign             2,108,869.50\n",
       "No Genre              989,465.00\n",
       "revenue                      nan\n",
       "dtype: float64"
      ]
     },
     "execution_count": 111,
     "metadata": {},
     "output_type": "execute_result"
    }
   ],
   "source": [
    "# in order to connect the new dummy variables to revenue I need to join the revenue column to Genre_dummies\n",
    "\n",
    "Genre_rev = Genre_dummies.join(boxofc_num['revenue'])\n",
    "median = {}\n",
    "for x in Genre_rev:\n",
    "    median[x] = Genre_rev['revenue'][Genre_rev[x] == 1].median()\n",
    "medians = pd.Series(median)\n",
    "medians = medians.sort_values(ascending=False)\n",
    "medians"
   ]
  },
  {
   "cell_type": "code",
   "execution_count": 117,
   "metadata": {},
   "outputs": [],
   "source": [
    "def cat_summary(df):\n",
    "    \"\"\"This function will take a data frame of dummy variables that has had the revenue column joined to it and return a \n",
    "    bar graph that displays the same data frame sorted by median revenue as well as a pandas series with revenue information\"\"\"\n",
    "    median = {}\n",
    "    for x in df:\n",
    "        median[x] = df['revenue'][df[x] == 1].median()\n",
    "    medians = pd.Series(median)\n",
    "    medians = medians.sort_values(ascending=False)\n",
    "    sns.barplot(list(medians.values), list(medians.index), orient='h').set(yticks=[])\n",
    "    plt.xlabel('Median Revenue')\n",
    "    return medians"
   ]
  },
  {
   "cell_type": "code",
   "execution_count": 115,
   "metadata": {},
   "outputs": [
    {
     "data": {
      "text/plain": [
       "Animation         170,857,334.50\n",
       "Family            150,975,050.50\n",
       "Adventure         149,878,437.00\n",
       "Fantasy           140,716,486.50\n",
       "Science Fiction   118,000,000.00\n",
       "Action            117,487,473.00\n",
       "Comedy            106,031,284.00\n",
       "Western            93,798,977.00\n",
       "War                92,441,274.50\n",
       "Thriller           90,970,807.00\n",
       "Music              90,874,570.00\n",
       "Mystery            87,727,807.00\n",
       "Romance            85,512,300.00\n",
       "Crime              84,872,444.00\n",
       "History            76,806,063.00\n",
       "Drama              76,669,806.00\n",
       "Horror             70,355,813.00\n",
       "Documentary         7,502,105.50\n",
       "Foreign             2,108,869.50\n",
       "No Genre              989,465.00\n",
       "revenue                      nan\n",
       "dtype: float64"
      ]
     },
     "execution_count": 115,
     "metadata": {},
     "output_type": "execute_result"
    },
    {
     "data": {
      "image/png": "[encoded data removed]",
      "text/plain": [
       "<Figure size 576x576 with 1 Axes>"
      ]
     },
     "metadata": {
      "needs_background": "light"
     },
     "output_type": "display_data"
    }
   ],
   "source": [
    "cat_summary(Genre_rev)"
   ]
  },
  {
   "cell_type": "markdown",
   "metadata": {},
   "source": [
    "### Observations on Genre:\n",
    "\n",
    "I hypothesized that Drama would be the highest grossing genre, howevver it seems that the median revenue for Drama films is actually on the lower end.  Rather surprisingly the highest median revenue by film is for Animation films.  \n",
    "\n",
    "It is interesting to note that the distribution of median revenue among the genres is expondntially distributed and that there is a steep drop-off for documentary and foreign films."
   ]
  },
  {
   "cell_type": "markdown",
   "metadata": {},
   "source": [
    "### Working with the 'Collection' category:\n",
    "\n",
    "Now I'm going to apply the cleaning process I just figured out using the genres column to my other categorical variables, beginning with the 'belongs_to_collection' column.  I also hypothesize here that being part of a larger collection has a minimal impact on revenue. \n",
    "\n",
    "I'm also going to create a boolean column that indicates whether or not a film is part of a larger collection."
   ]
  },
  {
   "cell_type": "code",
   "execution_count": null,
   "metadata": {},
   "outputs": [],
   "source": [
    "boxofc_cat['Collection'] = boxofc_cat['belongs_to_collection'].notnull()\n",
    "boxofc_cat['Collection']"
   ]
  },
  {
   "cell_type": "code",
   "execution_count": null,
   "metadata": {},
   "outputs": [],
   "source": [
    "boxofc_cat['belongs_to_collection'] = boxofc_cat['belongs_to_collection'].fillna('No Collection')\n",
    "Collection_dummies = pd.get_dummies(boxofc_cat['belongs_to_collection'].apply(pd.Series).stack()).sum(level=0)\n",
    "Collection_rev = Collection_dummies.join(boxofc_num['revenue'])\n",
    "Collection_rev.head(3)"
   ]
  },
  {
   "cell_type": "code",
   "execution_count": null,
   "metadata": {},
   "outputs": [],
   "source": [
    "count = Collection_dummies.apply(pd.value_counts)\n",
    "x = list(Collection_dummies.columns)\n",
    "y = count.iloc[1]\n",
    "count = pd.DataFrame({'Count' : y}).sort_values(by='Count', ascending=False)\n",
    "count = count.drop(labels='No Collection', axis=0)                           \n",
    "sns.barplot(x='Count', y=list(count.index), data=count, orient='h').set(yticklabels=[])\n",
    "plt.title(\"Number of films per Collection\")\n",
    "plt.ylabel('Collections')\n",
    "plt.xlabel('Number of films');\n",
    "count"
   ]
  },
  {
   "cell_type": "code",
   "execution_count": null,
   "metadata": {
    "scrolled": false
   },
   "outputs": [],
   "source": [
    "print('Median Revenue for films with no collection: ', Collection_rev['revenue'][Collection_rev['No Collection'] == 1].median())\n",
    "cat_summary(Collection_rev)"
   ]
  },
  {
   "cell_type": "markdown",
   "metadata": {},
   "source": [
    "### Observations on Collections:\n",
    "\n",
    "It's notable that the median revenue for films without a larger collection is so small(0.08e9 USD) that it barely registers on the bar graph.  Suddenly the Hollywood penchant for remakes and sequels makes much more sense! \n",
    "\n",
    "It seems that my hypothesis that belonging to a larger collection **does** have a significant impact on revenue. "
   ]
  },
  {
   "cell_type": "markdown",
   "metadata": {},
   "source": [
    "### Examining the Production Companies column:\n"
   ]
  },
  {
   "cell_type": "code",
   "execution_count": 44,
   "metadata": {},
   "outputs": [
    {
     "data": {
      "text/html": [
       "<div>\n",
       "<style scoped>\n",
       "    .dataframe tbody tr th:only-of-type {\n",
       "        vertical-align: middle;\n",
       "    }\n",
       "\n",
       "    .dataframe tbody tr th {\n",
       "        vertical-align: top;\n",
       "    }\n",
       "\n",
       "    .dataframe thead th {\n",
       "        text-align: right;\n",
       "    }\n",
       "</style>\n",
       "<table border=\"1\" class=\"dataframe\">\n",
       "  <thead>\n",
       "    <tr style=\"text-align: right;\">\n",
       "      <th></th>\n",
       "      <th>100 Bares</th>\n",
       "      <th>10th Hole Productions</th>\n",
       "      <th>11:11 Mediaworks</th>\n",
       "      <th>120 Films</th>\n",
       "      <th>1492 Pictures</th>\n",
       "      <th>16 Block Productions</th>\n",
       "      <th>1600 Limited Partnership</th>\n",
       "      <th>1984 Private Defense Contractors</th>\n",
       "      <th>2 Entertain</th>\n",
       "      <th>20th Century Fox Russia</th>\n",
       "      <th>...</th>\n",
       "      <th>d-rights</th>\n",
       "      <th>double A Films</th>\n",
       "      <th>icon</th>\n",
       "      <th>thinkfilm</th>\n",
       "      <th>uFilm</th>\n",
       "      <th>uFund</th>\n",
       "      <th>venezia 64</th>\n",
       "      <th>warner bross Turkey</th>\n",
       "      <th>Check Entertainment</th>\n",
       "      <th>revenue</th>\n",
       "    </tr>\n",
       "  </thead>\n",
       "  <tbody>\n",
       "    <tr>\n",
       "      <th>0</th>\n",
       "      <td>0</td>\n",
       "      <td>0</td>\n",
       "      <td>0</td>\n",
       "      <td>0</td>\n",
       "      <td>0</td>\n",
       "      <td>0</td>\n",
       "      <td>0</td>\n",
       "      <td>0</td>\n",
       "      <td>0</td>\n",
       "      <td>0</td>\n",
       "      <td>...</td>\n",
       "      <td>0</td>\n",
       "      <td>0</td>\n",
       "      <td>0</td>\n",
       "      <td>0</td>\n",
       "      <td>0</td>\n",
       "      <td>0</td>\n",
       "      <td>0</td>\n",
       "      <td>0</td>\n",
       "      <td>0</td>\n",
       "      <td>134,734,481.00</td>\n",
       "    </tr>\n",
       "    <tr>\n",
       "      <th>1</th>\n",
       "      <td>0</td>\n",
       "      <td>0</td>\n",
       "      <td>0</td>\n",
       "      <td>0</td>\n",
       "      <td>0</td>\n",
       "      <td>0</td>\n",
       "      <td>0</td>\n",
       "      <td>0</td>\n",
       "      <td>0</td>\n",
       "      <td>0</td>\n",
       "      <td>...</td>\n",
       "      <td>0</td>\n",
       "      <td>0</td>\n",
       "      <td>0</td>\n",
       "      <td>0</td>\n",
       "      <td>0</td>\n",
       "      <td>0</td>\n",
       "      <td>0</td>\n",
       "      <td>0</td>\n",
       "      <td>0</td>\n",
       "      <td>48,982,041.00</td>\n",
       "    </tr>\n",
       "    <tr>\n",
       "      <th>2</th>\n",
       "      <td>0</td>\n",
       "      <td>0</td>\n",
       "      <td>0</td>\n",
       "      <td>0</td>\n",
       "      <td>0</td>\n",
       "      <td>0</td>\n",
       "      <td>0</td>\n",
       "      <td>0</td>\n",
       "      <td>0</td>\n",
       "      <td>0</td>\n",
       "      <td>...</td>\n",
       "      <td>0</td>\n",
       "      <td>0</td>\n",
       "      <td>0</td>\n",
       "      <td>0</td>\n",
       "      <td>0</td>\n",
       "      <td>0</td>\n",
       "      <td>0</td>\n",
       "      <td>0</td>\n",
       "      <td>0</td>\n",
       "      <td>3,418,605.00</td>\n",
       "    </tr>\n",
       "  </tbody>\n",
       "</table>\n",
       "<p>3 rows × 2689 columns</p>\n",
       "</div>"
      ],
      "text/plain": [
       "   100 Bares  10th Hole Productions  11:11 Mediaworks  120 Films  \\\n",
       "0          0                      0                 0          0   \n",
       "1          0                      0                 0          0   \n",
       "2          0                      0                 0          0   \n",
       "\n",
       "   1492 Pictures  16 Block Productions  1600 Limited Partnership  \\\n",
       "0              0                     0                         0   \n",
       "1              0                     0                         0   \n",
       "2              0                     0                         0   \n",
       "\n",
       "   1984 Private Defense Contractors  2 Entertain  20th Century Fox Russia  \\\n",
       "0                                 0            0                        0   \n",
       "1                                 0            0                        0   \n",
       "2                                 0            0                        0   \n",
       "\n",
       "   ...  d-rights  double A Films  icon  thinkfilm  uFilm  uFund  venezia 64  \\\n",
       "0  ...         0               0     0          0      0      0           0   \n",
       "1  ...         0               0     0          0      0      0           0   \n",
       "2  ...         0               0     0          0      0      0           0   \n",
       "\n",
       "   warner bross Turkey   Check Entertainment        revenue  \n",
       "0                    0                     0 134,734,481.00  \n",
       "1                    0                     0  48,982,041.00  \n",
       "2                    0                     0   3,418,605.00  \n",
       "\n",
       "[3 rows x 2689 columns]"
      ]
     },
     "execution_count": 44,
     "metadata": {},
     "output_type": "execute_result"
    }
   ],
   "source": [
    "boxofc_cat['production_companies'] = boxofc_cat['production_companies'].fillna(\"['No Company']\")\n",
    "boxofc_cat.production_companies = boxofc_cat.production_companies.apply(lambda x: ast.literal_eval(x))\n",
    "Company_dummies = pd.get_dummies(boxofc_cat['production_companies'].apply(pd.Series).stack()).sum(level=0)\n",
    "Company_rev = Company_dummies.join(boxofc_num['revenue'])\n",
    "Company_rev.head(3)"
   ]
  },
  {
   "cell_type": "code",
   "execution_count": 47,
   "metadata": {},
   "outputs": [
    {
     "data": {
      "image/png": "[encoded data removed]",
      "text/plain": [
       "<Figure size 576x576 with 1 Axes>"
      ]
     },
     "metadata": {
      "needs_background": "light"
     },
     "output_type": "display_data"
    }
   ],
   "source": [
    "count = Company_dummies.apply(pd.value_counts)\n",
    "x = list(Company_dummies.columns)\n",
    "y = count.iloc[1]\n",
    "count = pd.DataFrame({'Count' : y}).sort_values(by='Count', ascending=False)\n",
    "sns.barplot(x='Count', y=list(count.index), data=count, orient='h').set(yticklabels=[])\n",
    "plt.title(\"Number of films per Company\")\n",
    "plt.ylabel('Companies')\n",
    "plt.xlabel('Number of films');\n",
    "\n",
    "median = {}\n",
    "for x in Company_rev:\n",
    "    median[x] = Company_rev['revenue'][Company_rev[x] == 1].median()\n",
    "medians = pd.Series(median)"
   ]
  },
  {
   "cell_type": "code",
   "execution_count": 55,
   "metadata": {},
   "outputs": [
    {
     "ename": "ValueError",
     "evalue": "Cannot merge a Series without a name",
     "output_type": "error",
     "traceback": [
      "\u001b[1;31m---------------------------------------------------------------------------\u001b[0m",
      "\u001b[1;31mValueError\u001b[0m                                Traceback (most recent call last)",
      "\u001b[1;32m<ipython-input-55-140021498696>\u001b[0m in \u001b[0;36m<module>\u001b[1;34m\u001b[0m\n\u001b[0;32m      1\u001b[0m \u001b[0mmedians\u001b[0m\u001b[1;33m.\u001b[0m\u001b[0mshape\u001b[0m\u001b[1;33m\u001b[0m\u001b[1;33m\u001b[0m\u001b[0m\n\u001b[1;32m----> 2\u001b[1;33m \u001b[0mcount_rev\u001b[0m \u001b[1;33m=\u001b[0m \u001b[0mpd\u001b[0m\u001b[1;33m.\u001b[0m\u001b[0mmerge\u001b[0m\u001b[1;33m(\u001b[0m\u001b[0mcount\u001b[0m\u001b[1;33m,\u001b[0m \u001b[0mmedians\u001b[0m\u001b[1;33m)\u001b[0m\u001b[1;33m\u001b[0m\u001b[1;33m\u001b[0m\u001b[0m\n\u001b[0m\u001b[0;32m      3\u001b[0m \u001b[0mcount_rev\u001b[0m\u001b[1;33m\u001b[0m\u001b[1;33m\u001b[0m\u001b[0m\n",
      "\u001b[1;32m~\\Anaconda3\\lib\\site-packages\\pandas\\core\\reshape\\merge.py\u001b[0m in \u001b[0;36mmerge\u001b[1;34m(left, right, how, on, left_on, right_on, left_index, right_index, sort, suffixes, copy, indicator, validate)\u001b[0m\n\u001b[0;32m     72\u001b[0m     \u001b[0mvalidate\u001b[0m\u001b[1;33m=\u001b[0m\u001b[1;32mNone\u001b[0m\u001b[1;33m,\u001b[0m\u001b[1;33m\u001b[0m\u001b[1;33m\u001b[0m\u001b[0m\n\u001b[0;32m     73\u001b[0m ) -> \"DataFrame\":\n\u001b[1;32m---> 74\u001b[1;33m     op = _MergeOperation(\n\u001b[0m\u001b[0;32m     75\u001b[0m         \u001b[0mleft\u001b[0m\u001b[1;33m,\u001b[0m\u001b[1;33m\u001b[0m\u001b[1;33m\u001b[0m\u001b[0m\n\u001b[0;32m     76\u001b[0m         \u001b[0mright\u001b[0m\u001b[1;33m,\u001b[0m\u001b[1;33m\u001b[0m\u001b[1;33m\u001b[0m\u001b[0m\n",
      "\u001b[1;32m~\\Anaconda3\\lib\\site-packages\\pandas\\core\\reshape\\merge.py\u001b[0m in \u001b[0;36m__init__\u001b[1;34m(self, left, right, how, on, left_on, right_on, axis, left_index, right_index, sort, suffixes, copy, indicator, validate)\u001b[0m\n\u001b[0;32m    597\u001b[0m     ):\n\u001b[0;32m    598\u001b[0m         \u001b[0m_left\u001b[0m \u001b[1;33m=\u001b[0m \u001b[0m_validate_operand\u001b[0m\u001b[1;33m(\u001b[0m\u001b[0mleft\u001b[0m\u001b[1;33m)\u001b[0m\u001b[1;33m\u001b[0m\u001b[1;33m\u001b[0m\u001b[0m\n\u001b[1;32m--> 599\u001b[1;33m         \u001b[0m_right\u001b[0m \u001b[1;33m=\u001b[0m \u001b[0m_validate_operand\u001b[0m\u001b[1;33m(\u001b[0m\u001b[0mright\u001b[0m\u001b[1;33m)\u001b[0m\u001b[1;33m\u001b[0m\u001b[1;33m\u001b[0m\u001b[0m\n\u001b[0m\u001b[0;32m    600\u001b[0m         \u001b[0mself\u001b[0m\u001b[1;33m.\u001b[0m\u001b[0mleft\u001b[0m \u001b[1;33m=\u001b[0m \u001b[0mself\u001b[0m\u001b[1;33m.\u001b[0m\u001b[0morig_left\u001b[0m \u001b[1;33m=\u001b[0m \u001b[0m_left\u001b[0m\u001b[1;33m\u001b[0m\u001b[1;33m\u001b[0m\u001b[0m\n\u001b[0;32m    601\u001b[0m         \u001b[0mself\u001b[0m\u001b[1;33m.\u001b[0m\u001b[0mright\u001b[0m \u001b[1;33m=\u001b[0m \u001b[0mself\u001b[0m\u001b[1;33m.\u001b[0m\u001b[0morig_right\u001b[0m \u001b[1;33m=\u001b[0m \u001b[0m_right\u001b[0m\u001b[1;33m\u001b[0m\u001b[1;33m\u001b[0m\u001b[0m\n",
      "\u001b[1;32m~\\Anaconda3\\lib\\site-packages\\pandas\\core\\reshape\\merge.py\u001b[0m in \u001b[0;36m_validate_operand\u001b[1;34m(obj)\u001b[0m\n\u001b[0;32m   2142\u001b[0m     \u001b[1;32melif\u001b[0m \u001b[0misinstance\u001b[0m\u001b[1;33m(\u001b[0m\u001b[0mobj\u001b[0m\u001b[1;33m,\u001b[0m \u001b[0mABCSeries\u001b[0m\u001b[1;33m)\u001b[0m\u001b[1;33m:\u001b[0m\u001b[1;33m\u001b[0m\u001b[1;33m\u001b[0m\u001b[0m\n\u001b[0;32m   2143\u001b[0m         \u001b[1;32mif\u001b[0m \u001b[0mobj\u001b[0m\u001b[1;33m.\u001b[0m\u001b[0mname\u001b[0m \u001b[1;32mis\u001b[0m \u001b[1;32mNone\u001b[0m\u001b[1;33m:\u001b[0m\u001b[1;33m\u001b[0m\u001b[1;33m\u001b[0m\u001b[0m\n\u001b[1;32m-> 2144\u001b[1;33m             \u001b[1;32mraise\u001b[0m \u001b[0mValueError\u001b[0m\u001b[1;33m(\u001b[0m\u001b[1;34m\"Cannot merge a Series without a name\"\u001b[0m\u001b[1;33m)\u001b[0m\u001b[1;33m\u001b[0m\u001b[1;33m\u001b[0m\u001b[0m\n\u001b[0m\u001b[0;32m   2145\u001b[0m         \u001b[1;32melse\u001b[0m\u001b[1;33m:\u001b[0m\u001b[1;33m\u001b[0m\u001b[1;33m\u001b[0m\u001b[0m\n\u001b[0;32m   2146\u001b[0m             \u001b[1;32mreturn\u001b[0m \u001b[0mobj\u001b[0m\u001b[1;33m.\u001b[0m\u001b[0mto_frame\u001b[0m\u001b[1;33m(\u001b[0m\u001b[1;33m)\u001b[0m\u001b[1;33m\u001b[0m\u001b[1;33m\u001b[0m\u001b[0m\n",
      "\u001b[1;31mValueError\u001b[0m: Cannot merge a Series without a name"
     ]
    }
   ],
   "source": [
    "medians.shape\n",
    "count_rev = pd.merge(count, medians)\n",
    "count_rev"
   ]
  },
  {
   "cell_type": "code",
   "execution_count": 42,
   "metadata": {},
   "outputs": [
    {
     "data": {
      "text/plain": [
       "Abu Dhabi Film Commission                     1,516,045,911.00\n",
       "Colorado Office of Film, Television & Media   1,516,045,911.00\n",
       "Vita-Ray Dutch Productions (III)              1,153,304,495.00\n",
       "Deluxe Digital Studios                        1,153,304,495.00\n",
       "Ian Bryce Productions                         1,104,039,076.00\n",
       "                                                    ...       \n",
       "Catherine Dussart Productions (CDP)                  76,933.00\n",
       "Bophana Production                                   76,933.00\n",
       "Angoa-Agicoa                                         76,933.00\n",
       "Playfilm Productions                                 38,872.00\n",
       "revenue                                                    NaN\n",
       "Length: 2689, dtype: float64"
      ]
     },
     "execution_count": 42,
     "metadata": {},
     "output_type": "execute_result"
    },
    {
     "data": {
      "image/png": "[encoded data removed]",
      "text/plain": [
       "<Figure size 576x576 with 1 Axes>"
      ]
     },
     "metadata": {
      "needs_background": "light"
     },
     "output_type": "display_data"
    }
   ],
   "source": [
    "cat_summary(Company_rev)"
   ]
  },
  {
   "cell_type": "markdown",
   "metadata": {},
   "source": [
    "### Observations on Production Countries:\n",
    "\n",
    "It's interesting to note that the distribution of films produced by company is heavily skewed towards 'big players' in the film space.  During the next step towards modelling revenue by film I'll need to bin all productions companies with only a single film into a new category titled 'minor companies'."
   ]
  },
  {
   "cell_type": "markdown",
   "metadata": {},
   "source": [
    "### Examining Production Countries column"
   ]
  },
  {
   "cell_type": "code",
   "execution_count": 43,
   "metadata": {},
   "outputs": [
    {
     "data": {
      "text/html": [
       "<div>\n",
       "<style scoped>\n",
       "    .dataframe tbody tr th:only-of-type {\n",
       "        vertical-align: middle;\n",
       "    }\n",
       "\n",
       "    .dataframe tbody tr th {\n",
       "        vertical-align: top;\n",
       "    }\n",
       "\n",
       "    .dataframe thead th {\n",
       "        text-align: right;\n",
       "    }\n",
       "</style>\n",
       "<table border=\"1\" class=\"dataframe\">\n",
       "  <thead>\n",
       "    <tr style=\"text-align: right;\">\n",
       "      <th></th>\n",
       "      <th>Argentina</th>\n",
       "      <th>Australia</th>\n",
       "      <th>Austria</th>\n",
       "      <th>Bahamas</th>\n",
       "      <th>Belgium</th>\n",
       "      <th>Bolivia</th>\n",
       "      <th>Botswana</th>\n",
       "      <th>Brazil</th>\n",
       "      <th>Bulgaria</th>\n",
       "      <th>Cambodia</th>\n",
       "      <th>...</th>\n",
       "      <th>Switzerland</th>\n",
       "      <th>Taiwan</th>\n",
       "      <th>Thailand</th>\n",
       "      <th>Turkey</th>\n",
       "      <th>United Arab Emirates</th>\n",
       "      <th>United Kingdom</th>\n",
       "      <th>United States of America</th>\n",
       "      <th>Uruguay</th>\n",
       "      <th>Venezuela</th>\n",
       "      <th>revenue</th>\n",
       "    </tr>\n",
       "  </thead>\n",
       "  <tbody>\n",
       "    <tr>\n",
       "      <th>0</th>\n",
       "      <td>0</td>\n",
       "      <td>0</td>\n",
       "      <td>0</td>\n",
       "      <td>0</td>\n",
       "      <td>0</td>\n",
       "      <td>0</td>\n",
       "      <td>0</td>\n",
       "      <td>0</td>\n",
       "      <td>0</td>\n",
       "      <td>0</td>\n",
       "      <td>...</td>\n",
       "      <td>0</td>\n",
       "      <td>0</td>\n",
       "      <td>0</td>\n",
       "      <td>0</td>\n",
       "      <td>0</td>\n",
       "      <td>0</td>\n",
       "      <td>1</td>\n",
       "      <td>0</td>\n",
       "      <td>0</td>\n",
       "      <td>134,734,481.00</td>\n",
       "    </tr>\n",
       "    <tr>\n",
       "      <th>1</th>\n",
       "      <td>0</td>\n",
       "      <td>0</td>\n",
       "      <td>0</td>\n",
       "      <td>0</td>\n",
       "      <td>0</td>\n",
       "      <td>0</td>\n",
       "      <td>0</td>\n",
       "      <td>0</td>\n",
       "      <td>0</td>\n",
       "      <td>0</td>\n",
       "      <td>...</td>\n",
       "      <td>0</td>\n",
       "      <td>0</td>\n",
       "      <td>0</td>\n",
       "      <td>0</td>\n",
       "      <td>0</td>\n",
       "      <td>0</td>\n",
       "      <td>1</td>\n",
       "      <td>0</td>\n",
       "      <td>0</td>\n",
       "      <td>48,982,041.00</td>\n",
       "    </tr>\n",
       "    <tr>\n",
       "      <th>2</th>\n",
       "      <td>0</td>\n",
       "      <td>0</td>\n",
       "      <td>0</td>\n",
       "      <td>0</td>\n",
       "      <td>0</td>\n",
       "      <td>0</td>\n",
       "      <td>0</td>\n",
       "      <td>0</td>\n",
       "      <td>0</td>\n",
       "      <td>0</td>\n",
       "      <td>...</td>\n",
       "      <td>0</td>\n",
       "      <td>0</td>\n",
       "      <td>0</td>\n",
       "      <td>0</td>\n",
       "      <td>0</td>\n",
       "      <td>0</td>\n",
       "      <td>0</td>\n",
       "      <td>0</td>\n",
       "      <td>0</td>\n",
       "      <td>3,418,605.00</td>\n",
       "    </tr>\n",
       "  </tbody>\n",
       "</table>\n",
       "<p>3 rows × 67 columns</p>\n",
       "</div>"
      ],
      "text/plain": [
       "   Argentina  Australia  Austria  Bahamas  Belgium  Bolivia  Botswana  Brazil  \\\n",
       "0          0          0        0        0        0        0         0       0   \n",
       "1          0          0        0        0        0        0         0       0   \n",
       "2          0          0        0        0        0        0         0       0   \n",
       "\n",
       "   Bulgaria  Cambodia  ...  Switzerland  Taiwan  Thailand  Turkey  \\\n",
       "0         0         0  ...            0       0         0       0   \n",
       "1         0         0  ...            0       0         0       0   \n",
       "2         0         0  ...            0       0         0       0   \n",
       "\n",
       "   United Arab Emirates  United Kingdom  United States of America  Uruguay  \\\n",
       "0                     0               0                         1        0   \n",
       "1                     0               0                         1        0   \n",
       "2                     0               0                         0        0   \n",
       "\n",
       "   Venezuela        revenue  \n",
       "0          0 134,734,481.00  \n",
       "1          0  48,982,041.00  \n",
       "2          0   3,418,605.00  \n",
       "\n",
       "[3 rows x 67 columns]"
      ]
     },
     "execution_count": 43,
     "metadata": {},
     "output_type": "execute_result"
    }
   ],
   "source": [
    "boxofc_cat['production_countries'] = boxofc_cat['production_countries'].fillna(\"['No Country']\")\n",
    "boxofc_cat.production_countries = boxofc_cat.production_countries.apply(lambda x: ast.literal_eval(x))\n",
    "Country_dummies = pd.get_dummies(boxofc_cat['production_countries'].apply(pd.Series).stack()).sum(level=0)\n",
    "Country_rev = Country_dummies.join(boxofc_num['revenue'])\n",
    "Country_rev.head(3)"
   ]
  },
  {
   "cell_type": "code",
   "execution_count": 44,
   "metadata": {},
   "outputs": [
    {
     "data": {
      "text/plain": [
       "Count    3281\n",
       "dtype: int64"
      ]
     },
     "execution_count": 44,
     "metadata": {},
     "output_type": "execute_result"
    },
    {
     "data": {
      "image/png": "[encoded data removed]",
      "text/plain": [
       "<Figure size 576x576 with 1 Axes>"
      ]
     },
     "metadata": {
      "needs_background": "light"
     },
     "output_type": "display_data"
    }
   ],
   "source": [
    "count = Country_dummies.apply(pd.value_counts)\n",
    "x = list(Country_dummies.columns)\n",
    "y = count.iloc[1]\n",
    "count = pd.DataFrame({'Count' : y}).sort_values(by='Count', ascending=False)\n",
    "sns.barplot(x='Count', y=list(count.index), data=count, orient='h').set(yticklabels=[])\n",
    "plt.title(\"Number of films per country\")\n",
    "plt.ylabel('Countries')\n",
    "plt.xlabel('Number of films');\n",
    "count.sum()"
   ]
  },
  {
   "cell_type": "code",
   "execution_count": 45,
   "metadata": {},
   "outputs": [
    {
     "data": {
      "text/plain": [
       "Slovenia      419,651,413.00\n",
       "Malta         240,942,515.00\n",
       "Pakistan      215,663,859.00\n",
       "Taiwan        213,525,736.00\n",
       "Philippines   203,277,636.00\n",
       "                   ...      \n",
       "Norway          1,353,468.00\n",
       "Bolivia         1,217,307.00\n",
       "Israel            332,710.00\n",
       "Finland           332,710.00\n",
       "revenue                  NaN\n",
       "Length: 67, dtype: float64"
      ]
     },
     "execution_count": 45,
     "metadata": {},
     "output_type": "execute_result"
    },
    {
     "data": {
      "image/png": "[encoded data removed]",
      "text/plain": [
       "<Figure size 576x576 with 1 Axes>"
      ]
     },
     "metadata": {
      "needs_background": "light"
     },
     "output_type": "display_data"
    }
   ],
   "source": [
    "cat_summary(Country_rev)"
   ]
  },
  {
   "cell_type": "markdown",
   "metadata": {},
   "source": [
    "### Observations on Production Countries:\n",
    "\n",
    "The distribution of films produced among countries is *extremely* skewed towards the USA, which is expected.  However what is notable is that this skew does not carry over to the median revenue of films produced in each country, which seems to have little correlation to the number of films produced in that country."
   ]
  },
  {
   "cell_type": "markdown",
   "metadata": {},
   "source": [
    "### Examining the Keywords Column"
   ]
  },
  {
   "cell_type": "code",
   "execution_count": 119,
   "metadata": {},
   "outputs": [
    {
     "data": {
      "text/html": [
       "<div>\n",
       "<style scoped>\n",
       "    .dataframe tbody tr th:only-of-type {\n",
       "        vertical-align: middle;\n",
       "    }\n",
       "\n",
       "    .dataframe tbody tr th {\n",
       "        vertical-align: top;\n",
       "    }\n",
       "\n",
       "    .dataframe thead th {\n",
       "        text-align: right;\n",
       "    }\n",
       "</style>\n",
       "<table border=\"1\" class=\"dataframe\">\n",
       "  <thead>\n",
       "    <tr style=\"text-align: right;\">\n",
       "      <th></th>\n",
       "      <th>15th century</th>\n",
       "      <th>16th century</th>\n",
       "      <th>17th century</th>\n",
       "      <th>18th century</th>\n",
       "      <th>1910s</th>\n",
       "      <th>1920s</th>\n",
       "      <th>1930s</th>\n",
       "      <th>1940s</th>\n",
       "      <th>1950s</th>\n",
       "      <th>1960s</th>\n",
       "      <th>...</th>\n",
       "      <th></th>\n",
       "      <th>north carolinam</th>\n",
       "      <th>nosferatu</th>\n",
       "      <th>strange noise</th>\n",
       "      <th>ÁªùÂú∞Â•∂Èú∏</th>\n",
       "      <th>ÂçßÂ∫ïËÇ•Â¶à</th>\n",
       "      <th>Ë∂ÖÁ∫ßÂ¶àÂ¶à</th>\n",
       "      <th>ŒìŒ∑</th>\n",
       "      <th>√òverste hylde</th>\n",
       "      <th>revenue</th>\n",
       "    </tr>\n",
       "  </thead>\n",
       "  <tbody>\n",
       "    <tr>\n",
       "      <th>0</th>\n",
       "      <td>0</td>\n",
       "      <td>0</td>\n",
       "      <td>0</td>\n",
       "      <td>0</td>\n",
       "      <td>0</td>\n",
       "      <td>0</td>\n",
       "      <td>0</td>\n",
       "      <td>0</td>\n",
       "      <td>0</td>\n",
       "      <td>0</td>\n",
       "      <td>...</td>\n",
       "      <td>0</td>\n",
       "      <td>0</td>\n",
       "      <td>0</td>\n",
       "      <td>0</td>\n",
       "      <td>0</td>\n",
       "      <td>0</td>\n",
       "      <td>0</td>\n",
       "      <td>0</td>\n",
       "      <td>0</td>\n",
       "      <td>134,734,481.00</td>\n",
       "    </tr>\n",
       "    <tr>\n",
       "      <th>1</th>\n",
       "      <td>0</td>\n",
       "      <td>0</td>\n",
       "      <td>0</td>\n",
       "      <td>0</td>\n",
       "      <td>0</td>\n",
       "      <td>0</td>\n",
       "      <td>0</td>\n",
       "      <td>0</td>\n",
       "      <td>0</td>\n",
       "      <td>0</td>\n",
       "      <td>...</td>\n",
       "      <td>0</td>\n",
       "      <td>0</td>\n",
       "      <td>0</td>\n",
       "      <td>0</td>\n",
       "      <td>0</td>\n",
       "      <td>0</td>\n",
       "      <td>0</td>\n",
       "      <td>0</td>\n",
       "      <td>0</td>\n",
       "      <td>48,982,041.00</td>\n",
       "    </tr>\n",
       "    <tr>\n",
       "      <th>2</th>\n",
       "      <td>0</td>\n",
       "      <td>0</td>\n",
       "      <td>0</td>\n",
       "      <td>0</td>\n",
       "      <td>0</td>\n",
       "      <td>0</td>\n",
       "      <td>0</td>\n",
       "      <td>0</td>\n",
       "      <td>0</td>\n",
       "      <td>0</td>\n",
       "      <td>...</td>\n",
       "      <td>0</td>\n",
       "      <td>0</td>\n",
       "      <td>0</td>\n",
       "      <td>0</td>\n",
       "      <td>0</td>\n",
       "      <td>0</td>\n",
       "      <td>0</td>\n",
       "      <td>0</td>\n",
       "      <td>0</td>\n",
       "      <td>3,418,605.00</td>\n",
       "    </tr>\n",
       "  </tbody>\n",
       "</table>\n",
       "<p>3 rows × 7135 columns</p>\n",
       "</div>"
      ],
      "text/plain": [
       "   15th century  16th century  17th century  18th century  1910s  1920s  \\\n",
       "0             0             0             0             0      0      0   \n",
       "1             0             0             0             0      0      0   \n",
       "2             0             0             0             0      0      0   \n",
       "\n",
       "   1930s  1940s  1950s  1960s  ...      north carolinam   nosferatu  \\\n",
       "0      0      0      0      0  ...  0                 0           0   \n",
       "1      0      0      0      0  ...  0                 0           0   \n",
       "2      0      0      0      0  ...  0                 0           0   \n",
       "\n",
       "    strange noise  ÁªùÂú∞Â•∂Èú∏  ÂçßÂ∫ïËÇ•Â¶à  Ë∂ÖÁ∫ßÂ¶àÂ¶à  ŒìŒ∑  \\\n",
       "0               0             0             0             0     0   \n",
       "1               0             0             0             0     0   \n",
       "2               0             0             0             0     0   \n",
       "\n",
       "   √òverste hylde        revenue  \n",
       "0               0 134,734,481.00  \n",
       "1               0  48,982,041.00  \n",
       "2               0   3,418,605.00  \n",
       "\n",
       "[3 rows x 7135 columns]"
      ]
     },
     "execution_count": 119,
     "metadata": {},
     "output_type": "execute_result"
    }
   ],
   "source": [
    "boxofc_cat['Keywords'] = boxofc_cat['Keywords'].fillna(\"['No Keywords']\")\n",
    "boxofc_cat.Keywords = boxofc_cat.Keywords.apply(lambda x: ast.literal_eval(x))\n",
    "Keywords_dummies = pd.get_dummies(boxofc_cat['Keywords'].apply(pd.Series).stack()).sum(level=0)\n",
    "Keywords_rev = Keywords_dummies.join(boxofc_num['revenue'])\n",
    "Keywords_rev.head(3)"
   ]
  },
  {
   "cell_type": "code",
   "execution_count": 123,
   "metadata": {},
   "outputs": [
    {
     "data": {
      "text/html": [
       "<div>\n",
       "<style scoped>\n",
       "    .dataframe tbody tr th:only-of-type {\n",
       "        vertical-align: middle;\n",
       "    }\n",
       "\n",
       "    .dataframe tbody tr th {\n",
       "        vertical-align: top;\n",
       "    }\n",
       "\n",
       "    .dataframe thead th {\n",
       "        text-align: right;\n",
       "    }\n",
       "</style>\n",
       "<table border=\"1\" class=\"dataframe\">\n",
       "  <thead>\n",
       "    <tr style=\"text-align: right;\">\n",
       "      <th></th>\n",
       "      <th>Count</th>\n",
       "    </tr>\n",
       "  </thead>\n",
       "  <tbody>\n",
       "    <tr>\n",
       "      <th>duringcreditsstinger</th>\n",
       "      <td>188</td>\n",
       "    </tr>\n",
       "    <tr>\n",
       "      <th>based on novel</th>\n",
       "      <td>146</td>\n",
       "    </tr>\n",
       "    <tr>\n",
       "      <th>aftercreditsstinger</th>\n",
       "      <td>110</td>\n",
       "    </tr>\n",
       "    <tr>\n",
       "      <th>woman director</th>\n",
       "      <td>98</td>\n",
       "    </tr>\n",
       "    <tr>\n",
       "      <th>murder</th>\n",
       "      <td>96</td>\n",
       "    </tr>\n",
       "    <tr>\n",
       "      <th>...</th>\n",
       "      <td>...</td>\n",
       "    </tr>\n",
       "    <tr>\n",
       "      <th>law student</th>\n",
       "      <td>1</td>\n",
       "    </tr>\n",
       "    <tr>\n",
       "      <th>law firm</th>\n",
       "      <td>1</td>\n",
       "    </tr>\n",
       "    <tr>\n",
       "      <th>law enforcement</th>\n",
       "      <td>1</td>\n",
       "    </tr>\n",
       "    <tr>\n",
       "      <th>botswana</th>\n",
       "      <td>1</td>\n",
       "    </tr>\n",
       "    <tr>\n",
       "      <th>lavender</th>\n",
       "      <td>1</td>\n",
       "    </tr>\n",
       "  </tbody>\n",
       "</table>\n",
       "<p>7134 rows × 1 columns</p>\n",
       "</div>"
      ],
      "text/plain": [
       "                      Count\n",
       "duringcreditsstinger    188\n",
       "based on novel          146\n",
       "aftercreditsstinger     110\n",
       "woman director           98\n",
       "murder                   96\n",
       "...                     ...\n",
       "law student               1\n",
       "law firm                  1\n",
       "law enforcement           1\n",
       "botswana                  1\n",
       "lavender                  1\n",
       "\n",
       "[7134 rows x 1 columns]"
      ]
     },
     "execution_count": 123,
     "metadata": {},
     "output_type": "execute_result"
    },
    {
     "data": {
      "image/png": "[encoded data removed]",
      "text/plain": [
       "<Figure size 576x576 with 1 Axes>"
      ]
     },
     "metadata": {
      "needs_background": "light"
     },
     "output_type": "display_data"
    }
   ],
   "source": [
    "count = Keywords_dummies.apply(pd.value_counts)\n",
    "x = list(Keywords_dummies.columns)\n",
    "y = count.iloc[1]\n",
    "count = pd.DataFrame({'Count' : y}).sort_values(by='Count', ascending=False)\n",
    "sns.barplot(x=list(count.index), y='Count', data=count).set(xticklabels=[])\n",
    "plt.title(\"Number of films per keyword\")\n",
    "plt.ylabel('Number of films')\n",
    "plt.xlabel('Keywords');\n",
    "count"
   ]
  },
  {
   "cell_type": "code",
   "execution_count": 48,
   "metadata": {},
   "outputs": [
    {
     "data": {
      "text/plain": [
       "race               1,516,045,911.00\n",
       "muscle car         1,516,045,911.00\n",
       "mountain climber   1,276,480,335.00\n",
       "snowman            1,276,480,335.00\n",
       "mysterious woman   1,238,764,765.00\n",
       "                         ...       \n",
       "struggle                  38,872.00\n",
       "railway station           38,872.00\n",
       "tantrum                   38,872.00\n",
       "b horror                   5,806.00\n",
       "revenue                         NaN\n",
       "Length: 7135, dtype: float64"
      ]
     },
     "execution_count": 48,
     "metadata": {},
     "output_type": "execute_result"
    },
    {
     "data": {
      "image/png": "[encoded data removed]",
      "text/plain": [
       "<Figure size 576x576 with 1 Axes>"
      ]
     },
     "metadata": {
      "needs_background": "light"
     },
     "output_type": "display_data"
    }
   ],
   "source": [
    "cat_summary(Keywords_rev)"
   ]
  },
  {
   "cell_type": "markdown",
   "metadata": {},
   "source": [
    "### Observations on Keywords:\n",
    "\n",
    "The keywords category seems to have a similar relationship between the number of films produced by keyword and revenue by keyword.  \n",
    "\n",
    "The three keywords that appear in over 100 films (duringcreditsstinger, based on novel, aftercreditsstinger) are not in the top keywords for revenue(race, muscle car, mountain climber).  However the three most common keywords **do** suggest that they ar for films that belong to a larger film collection which should indicate a higher revenue in general.  \n",
    "\n",
    "This runs counter to intuition since the three most common keywords should be indicators of another feature that seems to indicate high revenue (belonging to a larger collection). I suspect that this may be a result of using the median as opposed to the mean revenue per category for my analysis, and will later check this in a separate notebook to see if these relationships are preserved regardless of the descriptive statistic used.   "
   ]
  },
  {
   "cell_type": "markdown",
   "metadata": {},
   "source": [
    "### Examining the Cast column:\n",
    "\n",
    "Commenting out code blocks for Cast & Crew because my machine doesn't have the RAM to handle the processing for now."
   ]
  },
  {
   "cell_type": "code",
   "execution_count": 49,
   "metadata": {},
   "outputs": [],
   "source": [
    "#boxofc_cat['cast'] = boxofc_cat['cast'].fillna(\"['No Cast']\")\n",
    "#boxofc_cat.cast = boxofc_cat.cast.apply(lambda x: ast.literal_eval(x))\n",
    "#Cast_dummies = pd.get_dummies(boxofc_cat['cast'].apply(pd.Series).stack()).sum(level=0)\n",
    "#Cast_rev = Cast_dummies.join(boxofc_num['revenue'])\n",
    "#Cast_rev.head(3)\n",
    "\n",
    "# Good opportunity to revisit how to accomplish this - potentially bin actors/actresses"
   ]
  },
  {
   "cell_type": "code",
   "execution_count": 50,
   "metadata": {},
   "outputs": [],
   "source": [
    "#count = Cast_dummies.apply(pd.value_counts)\n",
    "#x = list(Cast_dummies.columns)\n",
    "#y = count.iloc[1]\n",
    "#sns.barplot(y, x, orient='h')\n",
    "#plt.title(\"Number of films per cast member\")\n",
    "#plt.ylabel('Cast members')\n",
    "#plt.xlabel('Number of films');"
   ]
  },
  {
   "cell_type": "code",
   "execution_count": 51,
   "metadata": {},
   "outputs": [],
   "source": [
    "#cat_summary(Cast_rev)"
   ]
  },
  {
   "cell_type": "markdown",
   "metadata": {},
   "source": [
    "### Examining the Crew Column:"
   ]
  },
  {
   "cell_type": "code",
   "execution_count": 52,
   "metadata": {},
   "outputs": [
    {
     "data": {
      "text/plain": [
       "'boxofc_cat[\\'crew\\'] = boxofc_cat[\\'crew\\'].fillna(\"[\\'No Keywords\\']\")\\nboxofc_cat.crew = boxofc_cat.crew.apply(lambda x: ast.literal_eval(x))\\nCrew_dummies = pd.get_dummies(boxofc_cat[\\'crew\\'].apply(pd.Series).stack()).sum(level=0)\\nCrew_rev = Crew_dummies.join(boxofc_num[\\'revenue\\'])\\nCrew_rev.head(3)'"
      ]
     },
     "execution_count": 52,
     "metadata": {},
     "output_type": "execute_result"
    }
   ],
   "source": [
    "\"\"\"boxofc_cat['crew'] = boxofc_cat['crew'].fillna(\"['No Keywords']\")\n",
    "boxofc_cat.crew = boxofc_cat.crew.apply(lambda x: ast.literal_eval(x))\n",
    "Crew_dummies = pd.get_dummies(boxofc_cat['crew'].apply(pd.Series).stack()).sum(level=0)\n",
    "Crew_rev = Crew_dummies.join(boxofc_num['revenue'])\n",
    "Crew_rev.head(3)\"\"\""
   ]
  },
  {
   "cell_type": "code",
   "execution_count": 53,
   "metadata": {},
   "outputs": [
    {
     "data": {
      "text/plain": [
       "'count = Crew_dummies.apply(pd.value_counts)\\nx = list(Crew_dummies.columns)\\ny = count.iloc[1]\\nsns.barplot(y, x, orient=\\'h\\')\\nplt.title(\"Number of films per crew member\")\\nplt.ylabel(\\'Crew members\\')\\nplt.xlabel(\\'Number of films\\');'"
      ]
     },
     "execution_count": 53,
     "metadata": {},
     "output_type": "execute_result"
    }
   ],
   "source": [
    "\"\"\"count = Crew_dummies.apply(pd.value_counts)\n",
    "x = list(Crew_dummies.columns)\n",
    "y = count.iloc[1]\n",
    "sns.barplot(y, x, orient='h')\n",
    "plt.title(\"Number of films per crew member\")\n",
    "plt.ylabel('Crew members')\n",
    "plt.xlabel('Number of films');\"\"\""
   ]
  },
  {
   "cell_type": "code",
   "execution_count": 54,
   "metadata": {},
   "outputs": [],
   "source": [
    "#cat_summary(Crew_rev)"
   ]
  },
  {
   "cell_type": "markdown",
   "metadata": {},
   "source": [
    "### Examining Spoken_lang Column:"
   ]
  },
  {
   "cell_type": "code",
   "execution_count": 55,
   "metadata": {},
   "outputs": [
    {
     "data": {
      "text/html": [
       "<div>\n",
       "<style scoped>\n",
       "    .dataframe tbody tr th:only-of-type {\n",
       "        vertical-align: middle;\n",
       "    }\n",
       "\n",
       "    .dataframe tbody tr th {\n",
       "        vertical-align: top;\n",
       "    }\n",
       "\n",
       "    .dataframe thead th {\n",
       "        text-align: right;\n",
       "    }\n",
       "</style>\n",
       "<table border=\"1\" class=\"dataframe\">\n",
       "  <thead>\n",
       "    <tr style=\"text-align: right;\">\n",
       "      <th></th>\n",
       "      <th></th>\n",
       "      <th>Afrikaans</th>\n",
       "      <th>Bahasa indonesia</th>\n",
       "      <th>Bahasa melayu</th>\n",
       "      <th>Bamanankan</th>\n",
       "      <th>Català</th>\n",
       "      <th>Cymraeg</th>\n",
       "      <th>Dansk</th>\n",
       "      <th>Deutsch</th>\n",
       "      <th>Eesti</th>\n",
       "      <th>...</th>\n",
       "      <th>বাংলা</th>\n",
       "      <th>ਪੰਜਾਬੀ</th>\n",
       "      <th>தமிழ்</th>\n",
       "      <th>తెలుగు</th>\n",
       "      <th>ภาษาไทย</th>\n",
       "      <th>广州话 / 廣州話</th>\n",
       "      <th>日本語</th>\n",
       "      <th>普通话</th>\n",
       "      <th>한국어/조선말</th>\n",
       "      <th>revenue</th>\n",
       "    </tr>\n",
       "  </thead>\n",
       "  <tbody>\n",
       "    <tr>\n",
       "      <th>0</th>\n",
       "      <td>0</td>\n",
       "      <td>0</td>\n",
       "      <td>0</td>\n",
       "      <td>0</td>\n",
       "      <td>0</td>\n",
       "      <td>0</td>\n",
       "      <td>0</td>\n",
       "      <td>0</td>\n",
       "      <td>0</td>\n",
       "      <td>0</td>\n",
       "      <td>...</td>\n",
       "      <td>0</td>\n",
       "      <td>0</td>\n",
       "      <td>0</td>\n",
       "      <td>0</td>\n",
       "      <td>0</td>\n",
       "      <td>0</td>\n",
       "      <td>0</td>\n",
       "      <td>0</td>\n",
       "      <td>0</td>\n",
       "      <td>134,734,481.00</td>\n",
       "    </tr>\n",
       "    <tr>\n",
       "      <th>1</th>\n",
       "      <td>0</td>\n",
       "      <td>0</td>\n",
       "      <td>0</td>\n",
       "      <td>0</td>\n",
       "      <td>0</td>\n",
       "      <td>0</td>\n",
       "      <td>0</td>\n",
       "      <td>0</td>\n",
       "      <td>0</td>\n",
       "      <td>0</td>\n",
       "      <td>...</td>\n",
       "      <td>0</td>\n",
       "      <td>0</td>\n",
       "      <td>0</td>\n",
       "      <td>0</td>\n",
       "      <td>0</td>\n",
       "      <td>0</td>\n",
       "      <td>0</td>\n",
       "      <td>0</td>\n",
       "      <td>0</td>\n",
       "      <td>48,982,041.00</td>\n",
       "    </tr>\n",
       "    <tr>\n",
       "      <th>2</th>\n",
       "      <td>0</td>\n",
       "      <td>0</td>\n",
       "      <td>0</td>\n",
       "      <td>0</td>\n",
       "      <td>0</td>\n",
       "      <td>0</td>\n",
       "      <td>0</td>\n",
       "      <td>0</td>\n",
       "      <td>0</td>\n",
       "      <td>0</td>\n",
       "      <td>...</td>\n",
       "      <td>0</td>\n",
       "      <td>0</td>\n",
       "      <td>0</td>\n",
       "      <td>0</td>\n",
       "      <td>0</td>\n",
       "      <td>0</td>\n",
       "      <td>0</td>\n",
       "      <td>0</td>\n",
       "      <td>0</td>\n",
       "      <td>3,418,605.00</td>\n",
       "    </tr>\n",
       "  </tbody>\n",
       "</table>\n",
       "<p>3 rows × 58 columns</p>\n",
       "</div>"
      ],
      "text/plain": [
       "      Afrikaans  Bahasa indonesia  Bahasa melayu  Bamanankan  Català  Cymraeg  \\\n",
       "0  0          0                 0              0           0       0        0   \n",
       "1  0          0                 0              0           0       0        0   \n",
       "2  0          0                 0              0           0       0        0   \n",
       "\n",
       "   Dansk  Deutsch  Eesti  ...  বাংলা  ਪੰਜਾਬੀ  தமிழ்  తెలుగు  ภาษาไทย  \\\n",
       "0      0        0      0  ...      0       0      0       0        0   \n",
       "1      0        0      0  ...      0       0      0       0        0   \n",
       "2      0        0      0  ...      0       0      0       0        0   \n",
       "\n",
       "   广州话 / 廣州話  日本語  普通话  한국어/조선말        revenue  \n",
       "0          0    0    0        0 134,734,481.00  \n",
       "1          0    0    0        0  48,982,041.00  \n",
       "2          0    0    0        0   3,418,605.00  \n",
       "\n",
       "[3 rows x 58 columns]"
      ]
     },
     "execution_count": 55,
     "metadata": {},
     "output_type": "execute_result"
    }
   ],
   "source": [
    "boxofc_cat['spoken_languages'] = boxofc_cat['spoken_languages'].fillna(\"['No Language']\")\n",
    "boxofc_cat.spoken_languages = boxofc_cat.spoken_languages.apply(lambda x: ast.literal_eval(x))\n",
    "Spoken_dummies = pd.get_dummies(boxofc_cat['spoken_languages'].apply(pd.Series).stack()).sum(level=0)\n",
    "Spoken_rev = Spoken_dummies.join(boxofc_num['revenue'])\n",
    "Spoken_rev.head(3)"
   ]
  },
  {
   "cell_type": "code",
   "execution_count": 56,
   "metadata": {
    "scrolled": false
   },
   "outputs": [
    {
     "data": {
      "text/html": [
       "<div>\n",
       "<style scoped>\n",
       "    .dataframe tbody tr th:only-of-type {\n",
       "        vertical-align: middle;\n",
       "    }\n",
       "\n",
       "    .dataframe tbody tr th {\n",
       "        vertical-align: top;\n",
       "    }\n",
       "\n",
       "    .dataframe thead th {\n",
       "        text-align: right;\n",
       "    }\n",
       "</style>\n",
       "<table border=\"1\" class=\"dataframe\">\n",
       "  <thead>\n",
       "    <tr style=\"text-align: right;\">\n",
       "      <th></th>\n",
       "      <th>English</th>\n",
       "      <th>Français</th>\n",
       "      <th>Español</th>\n",
       "      <th>Deutsch</th>\n",
       "      <th>Pусский</th>\n",
       "      <th>日本語</th>\n",
       "      <th>Italiano</th>\n",
       "      <th>普通话</th>\n",
       "      <th>العربية</th>\n",
       "      <th>Português</th>\n",
       "      <th>...</th>\n",
       "      <th>پښتو</th>\n",
       "      <th>Cymraeg</th>\n",
       "      <th>Srpski</th>\n",
       "      <th>ਪੰਜਾਬੀ</th>\n",
       "      <th>Eesti</th>\n",
       "      <th>Wolof</th>\n",
       "      <th>Català</th>\n",
       "      <th>Bamanankan</th>\n",
       "      <th>Bahasa melayu</th>\n",
       "      <th>isiZulu</th>\n",
       "    </tr>\n",
       "  </thead>\n",
       "  <tbody>\n",
       "    <tr>\n",
       "      <th>Count</th>\n",
       "      <td>2,180.00</td>\n",
       "      <td>221.00</td>\n",
       "      <td>174.00</td>\n",
       "      <td>133.00</td>\n",
       "      <td>101.00</td>\n",
       "      <td>93.00</td>\n",
       "      <td>82.00</td>\n",
       "      <td>80.00</td>\n",
       "      <td>44.00</td>\n",
       "      <td>43.00</td>\n",
       "      <td>...</td>\n",
       "      <td>1.00</td>\n",
       "      <td>1.00</td>\n",
       "      <td>1.00</td>\n",
       "      <td>1.00</td>\n",
       "      <td>1.00</td>\n",
       "      <td>1.00</td>\n",
       "      <td>1.00</td>\n",
       "      <td>1.00</td>\n",
       "      <td>1.00</td>\n",
       "      <td>1.00</td>\n",
       "    </tr>\n",
       "  </tbody>\n",
       "</table>\n",
       "<p>1 rows × 57 columns</p>\n",
       "</div>"
      ],
      "text/plain": [
       "       English  Français  Español  Deutsch  Pусский   日本語  Italiano   普通话  \\\n",
       "Count 2,180.00    221.00   174.00   133.00   101.00 93.00     82.00 80.00   \n",
       "\n",
       "       العربية  Português  ...  پښتو  Cymraeg  Srpski  ਪੰਜਾਬੀ  Eesti  Wolof  \\\n",
       "Count    44.00      43.00  ...  1.00     1.00    1.00    1.00   1.00   1.00   \n",
       "\n",
       "       Català  Bamanankan  Bahasa melayu  isiZulu  \n",
       "Count    1.00        1.00           1.00     1.00  \n",
       "\n",
       "[1 rows x 57 columns]"
      ]
     },
     "execution_count": 56,
     "metadata": {},
     "output_type": "execute_result"
    },
    {
     "data": {
      "image/png": "[encoded data removed]",
      "text/plain": [
       "<Figure size 576x576 with 1 Axes>"
      ]
     },
     "metadata": {
      "needs_background": "light"
     },
     "output_type": "display_data"
    }
   ],
   "source": [
    "count = Spoken_dummies.apply(pd.value_counts)\n",
    "x = list(Spoken_dummies.columns)\n",
    "y = count.iloc[1]\n",
    "count = pd.DataFrame({'Count' : y}).sort_values(by='Count', ascending=False)\n",
    "sns.barplot(x='Count', y=list(count.index), data=count, orient='h').set(yticklabels=[])\n",
    "plt.title(\"Number of films per spoken language\")\n",
    "plt.ylabel('Languages')\n",
    "plt.xlabel('Number of films');\n",
    "count.T"
   ]
  },
  {
   "cell_type": "code",
   "execution_count": 57,
   "metadata": {},
   "outputs": [
    {
     "data": {
      "text/plain": [
       "Íslenska           241,995,151.00\n",
       "isiZulu            210,819,611.00\n",
       "Somali             195,890,731.00\n",
       "తెలుగు             188,614,156.50\n",
       "ภาษาไทย            173,128,787.00\n",
       "Română             155,010,032.00\n",
       "Afrikaans          135,409,805.50\n",
       "български език     133,271,454.00\n",
       "suomi              133,000,000.00\n",
       "普通话                122,493,855.00\n",
       "اردو               120,388,865.00\n",
       "العربية            119,394,754.50\n",
       "Italiano           116,785,898.50\n",
       "ελληνικά           113,019,290.00\n",
       "Latin              112,073,421.50\n",
       "Français           106,371,651.00\n",
       "Nederlands         104,942,071.00\n",
       "Tiếng Việt         102,472,539.50\n",
       "svenska            102,204,597.50\n",
       "English            100,031,063.50\n",
       "Srpski              99,965,792.00\n",
       "Slovenčina          98,929,560.50\n",
       "עִבְרִית            98,604,611.00\n",
       "Kiswahili           97,837,138.00\n",
       "Cymraeg             97,143,987.00\n",
       "Український         96,753,696.00\n",
       "Hrvatski            95,714,875.00\n",
       "Pусский             95,226,116.00\n",
       "فارسی               93,974,620.00\n",
       "Español             91,399,871.00\n",
       "Português           89,446,268.00\n",
       "shqip               86,234,523.00\n",
       "Deutsch             81,079,566.00\n",
       "广州话 / 廣州話           80,727,442.00\n",
       "Eesti               78,769,428.00\n",
       "한국어/조선말             76,610,427.00\n",
       "ਪੰਜਾਬੀ              76,583,333.00\n",
       "پښتو                74,180,745.00\n",
       "Esperanto           72,906,316.00\n",
       "日本語                 70,711,175.00\n",
       "Český               70,164,105.00\n",
       "                    67,787,650.50\n",
       "Magyar              65,781,184.50\n",
       "Türkçe              62,747,451.00\n",
       "हिन्दी              51,094,201.00\n",
       "Polski              35,633,963.00\n",
       "தமிழ்               33,087,893.00\n",
       "Norsk               31,505,287.00\n",
       "Wolof               25,147,786.00\n",
       "Gaeilge             25,092,802.00\n",
       "Dansk               20,466,016.00\n",
       "Bamanankan           7,179,391.00\n",
       "Bahasa melayu        4,212,823.00\n",
       "বাংলা                3,433,503.00\n",
       "Català               3,411,541.00\n",
       "Bahasa indonesia       722,274.00\n",
       "No Language            658,000.00\n",
       "revenue                       NaN\n",
       "dtype: float64"
      ]
     },
     "execution_count": 57,
     "metadata": {},
     "output_type": "execute_result"
    },
    {
     "data": {
      "image/png": "[encoded data removed]",
      "text/plain": [
       "<Figure size 576x576 with 1 Axes>"
      ]
     },
     "metadata": {
      "needs_background": "light"
     },
     "output_type": "display_data"
    }
   ],
   "source": [
    "cat_summary(Spoken_rev)"
   ]
  },
  {
   "cell_type": "markdown",
   "metadata": {},
   "source": [
    "### Observations on Spoken language:\n",
    "\n",
    "Similar to the production country category it seems that the number of films produced are heavily skewed towards english.  However the revenue seems to be much less skewed than other categories.  It is surprising that the median revenue for english-speaking films is significantly lower than many other films given the number of films that are produced in that language. "
   ]
  },
  {
   "cell_type": "markdown",
   "metadata": {},
   "source": [
    "### Examining Original_language:"
   ]
  },
  {
   "cell_type": "code",
   "execution_count": 58,
   "metadata": {},
   "outputs": [
    {
     "data": {
      "text/html": [
       "<div>\n",
       "<style scoped>\n",
       "    .dataframe tbody tr th:only-of-type {\n",
       "        vertical-align: middle;\n",
       "    }\n",
       "\n",
       "    .dataframe tbody tr th {\n",
       "        vertical-align: top;\n",
       "    }\n",
       "\n",
       "    .dataframe thead th {\n",
       "        text-align: right;\n",
       "    }\n",
       "</style>\n",
       "<table border=\"1\" class=\"dataframe\">\n",
       "  <thead>\n",
       "    <tr style=\"text-align: right;\">\n",
       "      <th></th>\n",
       "      <th>bn</th>\n",
       "      <th>cn</th>\n",
       "      <th>cs</th>\n",
       "      <th>da</th>\n",
       "      <th>de</th>\n",
       "      <th>el</th>\n",
       "      <th>en</th>\n",
       "      <th>es</th>\n",
       "      <th>fa</th>\n",
       "      <th>fr</th>\n",
       "      <th>...</th>\n",
       "      <th>no</th>\n",
       "      <th>pl</th>\n",
       "      <th>pt</th>\n",
       "      <th>ru</th>\n",
       "      <th>sv</th>\n",
       "      <th>ta</th>\n",
       "      <th>te</th>\n",
       "      <th>tr</th>\n",
       "      <th>zh</th>\n",
       "      <th>revenue</th>\n",
       "    </tr>\n",
       "  </thead>\n",
       "  <tbody>\n",
       "    <tr>\n",
       "      <th>0</th>\n",
       "      <td>0</td>\n",
       "      <td>0</td>\n",
       "      <td>0</td>\n",
       "      <td>0</td>\n",
       "      <td>0</td>\n",
       "      <td>0</td>\n",
       "      <td>1</td>\n",
       "      <td>0</td>\n",
       "      <td>0</td>\n",
       "      <td>0</td>\n",
       "      <td>...</td>\n",
       "      <td>0</td>\n",
       "      <td>0</td>\n",
       "      <td>0</td>\n",
       "      <td>0</td>\n",
       "      <td>0</td>\n",
       "      <td>0</td>\n",
       "      <td>0</td>\n",
       "      <td>0</td>\n",
       "      <td>0</td>\n",
       "      <td>134,734,481.00</td>\n",
       "    </tr>\n",
       "    <tr>\n",
       "      <th>1</th>\n",
       "      <td>0</td>\n",
       "      <td>0</td>\n",
       "      <td>0</td>\n",
       "      <td>0</td>\n",
       "      <td>0</td>\n",
       "      <td>0</td>\n",
       "      <td>1</td>\n",
       "      <td>0</td>\n",
       "      <td>0</td>\n",
       "      <td>0</td>\n",
       "      <td>...</td>\n",
       "      <td>0</td>\n",
       "      <td>0</td>\n",
       "      <td>0</td>\n",
       "      <td>0</td>\n",
       "      <td>0</td>\n",
       "      <td>0</td>\n",
       "      <td>0</td>\n",
       "      <td>0</td>\n",
       "      <td>0</td>\n",
       "      <td>48,982,041.00</td>\n",
       "    </tr>\n",
       "    <tr>\n",
       "      <th>2</th>\n",
       "      <td>0</td>\n",
       "      <td>0</td>\n",
       "      <td>0</td>\n",
       "      <td>0</td>\n",
       "      <td>0</td>\n",
       "      <td>0</td>\n",
       "      <td>1</td>\n",
       "      <td>0</td>\n",
       "      <td>0</td>\n",
       "      <td>0</td>\n",
       "      <td>...</td>\n",
       "      <td>0</td>\n",
       "      <td>0</td>\n",
       "      <td>0</td>\n",
       "      <td>0</td>\n",
       "      <td>0</td>\n",
       "      <td>0</td>\n",
       "      <td>0</td>\n",
       "      <td>0</td>\n",
       "      <td>0</td>\n",
       "      <td>3,418,605.00</td>\n",
       "    </tr>\n",
       "  </tbody>\n",
       "</table>\n",
       "<p>3 rows × 28 columns</p>\n",
       "</div>"
      ],
      "text/plain": [
       "   bn  cn  cs  da  de  el  en  es  fa  fr  ...  no  pl  pt  ru  sv  ta  te  \\\n",
       "0   0   0   0   0   0   0   1   0   0   0  ...   0   0   0   0   0   0   0   \n",
       "1   0   0   0   0   0   0   1   0   0   0  ...   0   0   0   0   0   0   0   \n",
       "2   0   0   0   0   0   0   1   0   0   0  ...   0   0   0   0   0   0   0   \n",
       "\n",
       "   tr  zh        revenue  \n",
       "0   0   0 134,734,481.00  \n",
       "1   0   0  48,982,041.00  \n",
       "2   0   0   3,418,605.00  \n",
       "\n",
       "[3 rows x 28 columns]"
      ]
     },
     "execution_count": 58,
     "metadata": {},
     "output_type": "execute_result"
    }
   ],
   "source": [
    "boxofc_cat['original_language'] = boxofc_cat['original_language'].fillna(\"['No Language']\")\n",
    "#boxofc_cat.original_language = boxofc_cat.original_language.apply(lambda x: ast.literal_eval(x))\n",
    "Language_dummies = pd.get_dummies(boxofc_cat['original_language'].apply(pd.Series).stack()).sum(level=0)\n",
    "Language_rev = Language_dummies.join(boxofc_num['revenue'])\n",
    "Language_rev.head(3)"
   ]
  },
  {
   "cell_type": "code",
   "execution_count": 59,
   "metadata": {},
   "outputs": [
    {
     "data": {
      "text/html": [
       "<div>\n",
       "<style scoped>\n",
       "    .dataframe tbody tr th:only-of-type {\n",
       "        vertical-align: middle;\n",
       "    }\n",
       "\n",
       "    .dataframe tbody tr th {\n",
       "        vertical-align: top;\n",
       "    }\n",
       "\n",
       "    .dataframe thead th {\n",
       "        text-align: right;\n",
       "    }\n",
       "</style>\n",
       "<table border=\"1\" class=\"dataframe\">\n",
       "  <thead>\n",
       "    <tr style=\"text-align: right;\">\n",
       "      <th></th>\n",
       "      <th>Count</th>\n",
       "    </tr>\n",
       "  </thead>\n",
       "  <tbody>\n",
       "    <tr>\n",
       "      <th>en</th>\n",
       "      <td>2142</td>\n",
       "    </tr>\n",
       "    <tr>\n",
       "      <th>ja</th>\n",
       "      <td>37</td>\n",
       "    </tr>\n",
       "    <tr>\n",
       "      <th>fr</th>\n",
       "      <td>31</td>\n",
       "    </tr>\n",
       "    <tr>\n",
       "      <th>zh</th>\n",
       "      <td>28</td>\n",
       "    </tr>\n",
       "    <tr>\n",
       "      <th>hi</th>\n",
       "      <td>15</td>\n",
       "    </tr>\n",
       "    <tr>\n",
       "      <th>cn</th>\n",
       "      <td>13</td>\n",
       "    </tr>\n",
       "    <tr>\n",
       "      <th>ko</th>\n",
       "      <td>12</td>\n",
       "    </tr>\n",
       "    <tr>\n",
       "      <th>es</th>\n",
       "      <td>9</td>\n",
       "    </tr>\n",
       "    <tr>\n",
       "      <th>de</th>\n",
       "      <td>8</td>\n",
       "    </tr>\n",
       "    <tr>\n",
       "      <th>da</th>\n",
       "      <td>6</td>\n",
       "    </tr>\n",
       "    <tr>\n",
       "      <th>it</th>\n",
       "      <td>5</td>\n",
       "    </tr>\n",
       "    <tr>\n",
       "      <th>ru</th>\n",
       "      <td>4</td>\n",
       "    </tr>\n",
       "    <tr>\n",
       "      <th>sv</th>\n",
       "      <td>4</td>\n",
       "    </tr>\n",
       "    <tr>\n",
       "      <th>ta</th>\n",
       "      <td>3</td>\n",
       "    </tr>\n",
       "    <tr>\n",
       "      <th>el</th>\n",
       "      <td>2</td>\n",
       "    </tr>\n",
       "    <tr>\n",
       "      <th>pt</th>\n",
       "      <td>2</td>\n",
       "    </tr>\n",
       "    <tr>\n",
       "      <th>te</th>\n",
       "      <td>2</td>\n",
       "    </tr>\n",
       "    <tr>\n",
       "      <th>hu</th>\n",
       "      <td>1</td>\n",
       "    </tr>\n",
       "    <tr>\n",
       "      <th>id</th>\n",
       "      <td>1</td>\n",
       "    </tr>\n",
       "    <tr>\n",
       "      <th>fa</th>\n",
       "      <td>1</td>\n",
       "    </tr>\n",
       "    <tr>\n",
       "      <th>cs</th>\n",
       "      <td>1</td>\n",
       "    </tr>\n",
       "    <tr>\n",
       "      <th>ml</th>\n",
       "      <td>1</td>\n",
       "    </tr>\n",
       "    <tr>\n",
       "      <th>nl</th>\n",
       "      <td>1</td>\n",
       "    </tr>\n",
       "    <tr>\n",
       "      <th>no</th>\n",
       "      <td>1</td>\n",
       "    </tr>\n",
       "    <tr>\n",
       "      <th>pl</th>\n",
       "      <td>1</td>\n",
       "    </tr>\n",
       "    <tr>\n",
       "      <th>tr</th>\n",
       "      <td>1</td>\n",
       "    </tr>\n",
       "    <tr>\n",
       "      <th>bn</th>\n",
       "      <td>1</td>\n",
       "    </tr>\n",
       "  </tbody>\n",
       "</table>\n",
       "</div>"
      ],
      "text/plain": [
       "    Count\n",
       "en   2142\n",
       "ja     37\n",
       "fr     31\n",
       "zh     28\n",
       "hi     15\n",
       "cn     13\n",
       "ko     12\n",
       "es      9\n",
       "de      8\n",
       "da      6\n",
       "it      5\n",
       "ru      4\n",
       "sv      4\n",
       "ta      3\n",
       "el      2\n",
       "pt      2\n",
       "te      2\n",
       "hu      1\n",
       "id      1\n",
       "fa      1\n",
       "cs      1\n",
       "ml      1\n",
       "nl      1\n",
       "no      1\n",
       "pl      1\n",
       "tr      1\n",
       "bn      1"
      ]
     },
     "execution_count": 59,
     "metadata": {},
     "output_type": "execute_result"
    },
    {
     "data": {
      "image/png": "[encoded data removed]",
      "text/plain": [
       "<Figure size 576x576 with 1 Axes>"
      ]
     },
     "metadata": {
      "needs_background": "light"
     },
     "output_type": "display_data"
    }
   ],
   "source": [
    "count = Language_dummies.apply(pd.value_counts)\n",
    "x = list(Language_dummies.columns)\n",
    "y = count.iloc[1]\n",
    "count = pd.DataFrame({'Count' : y}).sort_values(by='Count', ascending=False)\n",
    "sns.barplot(x='Count', y=list(count.index), data=count, orient='h').set(yticklabels=[])\n",
    "plt.title(\"Number of films per language\")\n",
    "plt.ylabel('Languages')\n",
    "plt.xlabel('Number of films');\n",
    "count"
   ]
  },
  {
   "cell_type": "code",
   "execution_count": 60,
   "metadata": {},
   "outputs": [
    {
     "data": {
      "text/plain": [
       "te        188,614,156.50\n",
       "zh        110,077,409.50\n",
       "en        101,148,082.50\n",
       "ko         78,101,671.50\n",
       "ja         50,673,078.00\n",
       "pt         47,543,488.00\n",
       "fr         44,315,648.00\n",
       "sv         41,548,556.00\n",
       "it         41,323,171.00\n",
       "ru         41,122,630.50\n",
       "es         36,353,750.00\n",
       "cs         20,867,919.00\n",
       "hi         18,672,790.00\n",
       "pl         15,298,355.00\n",
       "cn         13,834,044.00\n",
       "de         12,301,352.00\n",
       "da         10,867,582.50\n",
       "ml          8,957,248.00\n",
       "hu          6,659,121.00\n",
       "nl          5,990,754.00\n",
       "tr          4,915,624.00\n",
       "bn          3,433,503.00\n",
       "ta          2,522,840.00\n",
       "el          2,105,303.00\n",
       "no          1,984,662.00\n",
       "fa          1,628,579.00\n",
       "id            722,274.00\n",
       "revenue              NaN\n",
       "dtype: float64"
      ]
     },
     "execution_count": 60,
     "metadata": {},
     "output_type": "execute_result"
    },
    {
     "data": {
      "image/png": "[encoded data removed]",
      "text/plain": [
       "<Figure size 576x576 with 1 Axes>"
      ]
     },
     "metadata": {
      "needs_background": "light"
     },
     "output_type": "display_data"
    }
   ],
   "source": [
    "cat_summary(Language_rev)"
   ]
  },
  {
   "cell_type": "markdown",
   "metadata": {},
   "source": [
    "### Observations on Original Language:\n",
    "\n",
    "It seems that the distribution for original language is as heavily skewed towards english as the other language category, while the median revenue is highest for the Tegulu language (ISO abbreviation te) which is spoken in India. \n",
    "\n",
    "This bar graph also has the smalles scale for median revenue among any category (1.75e8 USD), indicating that this category is not a good predictor for high revenue films - the target for this model. \n",
    "\n",
    "I will drop this category from the larger dataset."
   ]
  },
  {
   "cell_type": "markdown",
   "metadata": {},
   "source": [
    "## Working with datetime objects\n",
    "\n",
    "I have a column that includes the release date - I need to break this up into year & month columns that will allow me to further create dummy variables using the above methods and check for annual or monthly trends."
   ]
  },
  {
   "cell_type": "code",
   "execution_count": 61,
   "metadata": {},
   "outputs": [],
   "source": [
    "boxofc_cat['release_date'] = pd.to_datetime(boxofc_cat['release_date'])\n",
    "boxofc_cat['year'] = boxofc_cat['release_date'].dt.year\n",
    "boxofc_cat['month'] = boxofc_cat['release_date'].dt.month"
   ]
  },
  {
   "cell_type": "code",
   "execution_count": 62,
   "metadata": {},
   "outputs": [
    {
     "data": {
      "text/html": [
       "<div>\n",
       "<style scoped>\n",
       "    .dataframe tbody tr th:only-of-type {\n",
       "        vertical-align: middle;\n",
       "    }\n",
       "\n",
       "    .dataframe tbody tr th {\n",
       "        vertical-align: top;\n",
       "    }\n",
       "\n",
       "    .dataframe thead th {\n",
       "        text-align: right;\n",
       "    }\n",
       "</style>\n",
       "<table border=\"1\" class=\"dataframe\">\n",
       "  <thead>\n",
       "    <tr style=\"text-align: right;\">\n",
       "      <th></th>\n",
       "      <th>1971</th>\n",
       "      <th>1972</th>\n",
       "      <th>1973</th>\n",
       "      <th>1974</th>\n",
       "      <th>1975</th>\n",
       "      <th>1976</th>\n",
       "      <th>1977</th>\n",
       "      <th>1978</th>\n",
       "      <th>1979</th>\n",
       "      <th>1980</th>\n",
       "      <th>...</th>\n",
       "      <th>2010</th>\n",
       "      <th>2011</th>\n",
       "      <th>2012</th>\n",
       "      <th>2013</th>\n",
       "      <th>2014</th>\n",
       "      <th>2015</th>\n",
       "      <th>2016</th>\n",
       "      <th>2017</th>\n",
       "      <th>No Year</th>\n",
       "      <th>revenue</th>\n",
       "    </tr>\n",
       "  </thead>\n",
       "  <tbody>\n",
       "    <tr>\n",
       "      <th>0</th>\n",
       "      <td>0</td>\n",
       "      <td>0</td>\n",
       "      <td>0</td>\n",
       "      <td>0</td>\n",
       "      <td>0</td>\n",
       "      <td>0</td>\n",
       "      <td>0</td>\n",
       "      <td>0</td>\n",
       "      <td>0</td>\n",
       "      <td>0</td>\n",
       "      <td>...</td>\n",
       "      <td>0</td>\n",
       "      <td>0</td>\n",
       "      <td>0</td>\n",
       "      <td>0</td>\n",
       "      <td>0</td>\n",
       "      <td>0</td>\n",
       "      <td>0</td>\n",
       "      <td>0</td>\n",
       "      <td>0</td>\n",
       "      <td>134,734,481.00</td>\n",
       "    </tr>\n",
       "    <tr>\n",
       "      <th>1</th>\n",
       "      <td>0</td>\n",
       "      <td>0</td>\n",
       "      <td>0</td>\n",
       "      <td>0</td>\n",
       "      <td>0</td>\n",
       "      <td>0</td>\n",
       "      <td>0</td>\n",
       "      <td>0</td>\n",
       "      <td>0</td>\n",
       "      <td>0</td>\n",
       "      <td>...</td>\n",
       "      <td>0</td>\n",
       "      <td>0</td>\n",
       "      <td>0</td>\n",
       "      <td>0</td>\n",
       "      <td>1</td>\n",
       "      <td>0</td>\n",
       "      <td>0</td>\n",
       "      <td>0</td>\n",
       "      <td>0</td>\n",
       "      <td>48,982,041.00</td>\n",
       "    </tr>\n",
       "    <tr>\n",
       "      <th>2</th>\n",
       "      <td>0</td>\n",
       "      <td>0</td>\n",
       "      <td>0</td>\n",
       "      <td>0</td>\n",
       "      <td>0</td>\n",
       "      <td>0</td>\n",
       "      <td>0</td>\n",
       "      <td>0</td>\n",
       "      <td>0</td>\n",
       "      <td>0</td>\n",
       "      <td>...</td>\n",
       "      <td>0</td>\n",
       "      <td>0</td>\n",
       "      <td>0</td>\n",
       "      <td>0</td>\n",
       "      <td>0</td>\n",
       "      <td>0</td>\n",
       "      <td>0</td>\n",
       "      <td>0</td>\n",
       "      <td>0</td>\n",
       "      <td>3,418,605.00</td>\n",
       "    </tr>\n",
       "  </tbody>\n",
       "</table>\n",
       "<p>3 rows × 49 columns</p>\n",
       "</div>"
      ],
      "text/plain": [
       "   1971  1972  1973  1974  1975  1976  1977  1978  1979  1980  ...  2010  \\\n",
       "0     0     0     0     0     0     0     0     0     0     0  ...     0   \n",
       "1     0     0     0     0     0     0     0     0     0     0  ...     0   \n",
       "2     0     0     0     0     0     0     0     0     0     0  ...     0   \n",
       "\n",
       "   2011  2012  2013  2014  2015  2016  2017  No Year        revenue  \n",
       "0     0     0     0     0     0     0     0        0 134,734,481.00  \n",
       "1     0     0     0     1     0     0     0        0  48,982,041.00  \n",
       "2     0     0     0     0     0     0     0        0   3,418,605.00  \n",
       "\n",
       "[3 rows x 49 columns]"
      ]
     },
     "execution_count": 62,
     "metadata": {},
     "output_type": "execute_result"
    }
   ],
   "source": [
    "boxofc_cat['year'] = boxofc_cat['year'].fillna('No Year')\n",
    "boxofc_cat.year[boxofc_cat.year > 2020] = 'No Year'  # Removed all years in the future since clearly that's not correct\n",
    "Annual_dummies = pd.get_dummies(boxofc_cat['year'].apply(pd.Series).stack()).sum(level=0)\n",
    "Annual_rev = Annual_dummies.join(boxofc_num['revenue'])\n",
    "Annual_rev.head(3)"
   ]
  },
  {
   "cell_type": "code",
   "execution_count": 63,
   "metadata": {
    "scrolled": false
   },
   "outputs": [
    {
     "data": {
      "image/png": "[encoded data removed]",
      "text/plain": [
       "<Figure size 576x576 with 1 Axes>"
      ]
     },
     "metadata": {
      "needs_background": "light"
     },
     "output_type": "display_data"
    }
   ],
   "source": [
    "count = Annual_dummies.apply(pd.value_counts)\n",
    "x = list(Annual_dummies.columns)\n",
    "y = count.iloc[1]\n",
    "count = pd.DataFrame({'Count' : y}).sort_values(by='Count', ascending=False)\n",
    "sns.barplot(x='Count', y=list(count.index), data=count)\n",
    "plt.title(\"Number of films per year\")\n",
    "plt.ylabel('Year')\n",
    "plt.xlabel('Number of films');"
   ]
  },
  {
   "cell_type": "code",
   "execution_count": 64,
   "metadata": {
    "scrolled": false
   },
   "outputs": [
    {
     "data": {
      "text/plain": [
       "2017      225,874,228.00\n",
       "2016      150,680,864.00\n",
       "1979      139,000,000.00\n",
       "1990      136,766,062.00\n",
       "2014      127,994,610.00\n",
       "1983      127,092,670.00\n",
       "1997      125,247,948.00\n",
       "1992      120,000,000.00\n",
       "1991      119,418,501.00\n",
       "1998      117,836,456.00\n",
       "1993      117,727,083.00\n",
       "2008      108,979,549.00\n",
       "1994      108,431,355.00\n",
       "2015      107,588,225.00\n",
       "1996      102,720,989.50\n",
       "1995      102,662,041.50\n",
       "2006      100,523,181.00\n",
       "2005       97,404,330.50\n",
       "2011       97,143,987.00\n",
       "2009       96,234,285.50\n",
       "2004       96,105,964.00\n",
       "1999       95,253,439.50\n",
       "2013       93,870,934.50\n",
       "2000       93,598,280.00\n",
       "2003       93,067,431.00\n",
       "2007       91,354,215.00\n",
       "1989       90,000,098.00\n",
       "2010       89,895,930.00\n",
       "2001       84,772,742.00\n",
       "1988       84,460,846.00\n",
       "2012       84,384,002.00\n",
       "1982       83,843,672.00\n",
       "1984       80,000,000.00\n",
       "2002       78,062,082.50\n",
       "1986       77,200,000.00\n",
       "1973       67,338,468.50\n",
       "1987       67,002,412.50\n",
       "1974       55,200,000.00\n",
       "1980       53,000,000.00\n",
       "1985       48,679,151.50\n",
       "1972       41,965,460.00\n",
       "1976       32,000,000.00\n",
       "1971       18,685,252.50\n",
       "1981       14,914,786.00\n",
       "1977       13,548,985.50\n",
       "No Year     6,540,000.00\n",
       "1975        3,364,649.00\n",
       "1978        2,715,876.00\n",
       "revenue              NaN\n",
       "dtype: float64"
      ]
     },
     "execution_count": 64,
     "metadata": {},
     "output_type": "execute_result"
    },
    {
     "data": {
      "image/png": "[encoded data removed]",
      "text/plain": [
       "<Figure size 576x576 with 1 Axes>"
      ]
     },
     "metadata": {
      "needs_background": "light"
     },
     "output_type": "display_data"
    }
   ],
   "source": [
    "cat_summary(Annual_rev)"
   ]
  },
  {
   "cell_type": "code",
   "execution_count": 65,
   "metadata": {},
   "outputs": [
    {
     "data": {
      "text/html": [
       "<div>\n",
       "<style scoped>\n",
       "    .dataframe tbody tr th:only-of-type {\n",
       "        vertical-align: middle;\n",
       "    }\n",
       "\n",
       "    .dataframe tbody tr th {\n",
       "        vertical-align: top;\n",
       "    }\n",
       "\n",
       "    .dataframe thead th {\n",
       "        text-align: right;\n",
       "    }\n",
       "</style>\n",
       "<table border=\"1\" class=\"dataframe\">\n",
       "  <thead>\n",
       "    <tr style=\"text-align: right;\">\n",
       "      <th></th>\n",
       "      <th>1</th>\n",
       "      <th>2</th>\n",
       "      <th>3</th>\n",
       "      <th>4</th>\n",
       "      <th>5</th>\n",
       "      <th>6</th>\n",
       "      <th>7</th>\n",
       "      <th>8</th>\n",
       "      <th>9</th>\n",
       "      <th>10</th>\n",
       "      <th>11</th>\n",
       "      <th>12</th>\n",
       "      <th>revenue</th>\n",
       "    </tr>\n",
       "  </thead>\n",
       "  <tbody>\n",
       "    <tr>\n",
       "      <th>0</th>\n",
       "      <td>0</td>\n",
       "      <td>0</td>\n",
       "      <td>0</td>\n",
       "      <td>0</td>\n",
       "      <td>0</td>\n",
       "      <td>0</td>\n",
       "      <td>0</td>\n",
       "      <td>1</td>\n",
       "      <td>0</td>\n",
       "      <td>0</td>\n",
       "      <td>0</td>\n",
       "      <td>0</td>\n",
       "      <td>134,734,481.00</td>\n",
       "    </tr>\n",
       "    <tr>\n",
       "      <th>1</th>\n",
       "      <td>0</td>\n",
       "      <td>0</td>\n",
       "      <td>0</td>\n",
       "      <td>0</td>\n",
       "      <td>0</td>\n",
       "      <td>0</td>\n",
       "      <td>0</td>\n",
       "      <td>0</td>\n",
       "      <td>0</td>\n",
       "      <td>1</td>\n",
       "      <td>0</td>\n",
       "      <td>0</td>\n",
       "      <td>48,982,041.00</td>\n",
       "    </tr>\n",
       "    <tr>\n",
       "      <th>2</th>\n",
       "      <td>0</td>\n",
       "      <td>0</td>\n",
       "      <td>0</td>\n",
       "      <td>0</td>\n",
       "      <td>0</td>\n",
       "      <td>0</td>\n",
       "      <td>0</td>\n",
       "      <td>1</td>\n",
       "      <td>0</td>\n",
       "      <td>0</td>\n",
       "      <td>0</td>\n",
       "      <td>0</td>\n",
       "      <td>3,418,605.00</td>\n",
       "    </tr>\n",
       "  </tbody>\n",
       "</table>\n",
       "</div>"
      ],
      "text/plain": [
       "   1  2  3  4  5  6  7  8  9  10  11  12        revenue\n",
       "0  0  0  0  0  0  0  0  1  0   0   0   0 134,734,481.00\n",
       "1  0  0  0  0  0  0  0  0  0   1   0   0  48,982,041.00\n",
       "2  0  0  0  0  0  0  0  1  0   0   0   0   3,418,605.00"
      ]
     },
     "execution_count": 65,
     "metadata": {},
     "output_type": "execute_result"
    }
   ],
   "source": [
    "boxofc_cat['month'] = boxofc_cat['month'].fillna('No Year')\n",
    "Monthly_dummies = pd.get_dummies(boxofc_cat['month'].apply(pd.Series).stack()).sum(level=0)\n",
    "Monthly_rev = Monthly_dummies.join(boxofc_num['revenue'])\n",
    "Monthly_rev.head(3)"
   ]
  },
  {
   "cell_type": "code",
   "execution_count": 66,
   "metadata": {},
   "outputs": [
    {
     "data": {
      "image/png": "[encoded data removed]",
      "text/plain": [
       "<Figure size 576x576 with 1 Axes>"
      ]
     },
     "metadata": {
      "needs_background": "light"
     },
     "output_type": "display_data"
    }
   ],
   "source": [
    "count = Monthly_dummies.apply(pd.value_counts)\n",
    "x = list(Monthly_dummies.columns)\n",
    "y = count.iloc[1]\n",
    "count = pd.DataFrame({'Count' : y}).sort_values(by='Count', ascending=False)\n",
    "sns.barplot(x='Count', y=count.index, data=count, order=count.index, orient='h')\n",
    "plt.title(\"Number of films per month\")\n",
    "plt.ylabel('Month')\n",
    "plt.xlabel('Number of films');"
   ]
  },
  {
   "cell_type": "code",
   "execution_count": 67,
   "metadata": {},
   "outputs": [
    {
     "data": {
      "text/plain": [
       "5         151,119,219.00\n",
       "6         147,080,413.00\n",
       "7         126,735,253.00\n",
       "12        118,577,083.00\n",
       "11        112,006,296.00\n",
       "3          92,504,864.50\n",
       "8          80,126,954.00\n",
       "2          79,915,361.00\n",
       "4          76,583,333.00\n",
       "9          69,959,751.00\n",
       "1          69,721,966.00\n",
       "10         69,360,545.00\n",
       "revenue              NaN\n",
       "dtype: float64"
      ]
     },
     "execution_count": 67,
     "metadata": {},
     "output_type": "execute_result"
    },
    {
     "data": {
      "image/png": "[encoded data removed]",
      "text/plain": [
       "<Figure size 576x576 with 1 Axes>"
      ]
     },
     "metadata": {
      "needs_background": "light"
     },
     "output_type": "display_data"
    }
   ],
   "source": [
    "cat_summary(Monthly_rev)"
   ]
  },
  {
   "cell_type": "markdown",
   "metadata": {},
   "source": [
    "### Observations on Datetime objects:\n",
    "\n",
    "\n",
    "It seems that there is somewhat of a trend towards releasing more films as time goes on, and that there is a general trend towards higher revenue as time goes on as well.  This indicates that the 'year' category could be a good predictor for revenue.  Similarly the number and median revenue of films is spread relateively evenly across the months, I'm not certain that it will be a strong predictor of revenue but using lasso regression should indicate it's usefulness. "
   ]
  },
  {
   "cell_type": "markdown",
   "metadata": {},
   "source": [
    "## Combinding dummy variables back into a single data frame"
   ]
  },
  {
   "cell_type": "code",
   "execution_count": 68,
   "metadata": {},
   "outputs": [
    {
     "data": {
      "text/plain": [
       "Index(['belongs_to_collection', 'genres', 'original_language',\n",
       "       'original_title', 'overview', 'production_companies',\n",
       "       'production_countries', 'release_date', 'spoken_languages', 'tagline',\n",
       "       'title', 'Keywords', 'cast', 'crew', 'collectionbool', 'Collection',\n",
       "       'year', 'month'],\n",
       "      dtype='object')"
      ]
     },
     "execution_count": 68,
     "metadata": {},
     "output_type": "execute_result"
    }
   ],
   "source": [
    "boxofc_cat.columns"
   ]
  },
  {
   "cell_type": "code",
   "execution_count": 69,
   "metadata": {},
   "outputs": [
    {
     "data": {
      "text/html": [
       "<div>\n",
       "<style scoped>\n",
       "    .dataframe tbody tr th:only-of-type {\n",
       "        vertical-align: middle;\n",
       "    }\n",
       "\n",
       "    .dataframe tbody tr th {\n",
       "        vertical-align: top;\n",
       "    }\n",
       "\n",
       "    .dataframe thead th {\n",
       "        text-align: right;\n",
       "    }\n",
       "</style>\n",
       "<table border=\"1\" class=\"dataframe\">\n",
       "  <thead>\n",
       "    <tr style=\"text-align: right;\">\n",
       "      <th></th>\n",
       "      <th>original_title</th>\n",
       "      <th>overview</th>\n",
       "      <th>tagline</th>\n",
       "      <th>title</th>\n",
       "      <th>Collection</th>\n",
       "    </tr>\n",
       "  </thead>\n",
       "  <tbody>\n",
       "    <tr>\n",
       "      <th>0</th>\n",
       "      <td>The Princess Diaries 2: Royal Engagement</td>\n",
       "      <td>Mia Thermopolis is now a college graduate and ...</td>\n",
       "      <td>It can take a lifetime to find true love; she'...</td>\n",
       "      <td>The Princess Diaries 2: Royal Engagement</td>\n",
       "      <td>True</td>\n",
       "    </tr>\n",
       "    <tr>\n",
       "      <th>1</th>\n",
       "      <td>Whiplash</td>\n",
       "      <td>Under the direction of a ruthless instructor, ...</td>\n",
       "      <td>The road to greatness can take you to the edge.</td>\n",
       "      <td>Whiplash</td>\n",
       "      <td>False</td>\n",
       "    </tr>\n",
       "    <tr>\n",
       "      <th>2</th>\n",
       "      <td>Pinocchio and the Emperor of the Night</td>\n",
       "      <td>Pinocchio and his friends, a glow worm and a m...</td>\n",
       "      <td>NaN</td>\n",
       "      <td>Pinocchio and the Emperor of the Night</td>\n",
       "      <td>False</td>\n",
       "    </tr>\n",
       "  </tbody>\n",
       "</table>\n",
       "</div>"
      ],
      "text/plain": [
       "                             original_title  \\\n",
       "0  The Princess Diaries 2: Royal Engagement   \n",
       "1                                  Whiplash   \n",
       "2    Pinocchio and the Emperor of the Night   \n",
       "\n",
       "                                            overview  \\\n",
       "0  Mia Thermopolis is now a college graduate and ...   \n",
       "1  Under the direction of a ruthless instructor, ...   \n",
       "2  Pinocchio and his friends, a glow worm and a m...   \n",
       "\n",
       "                                             tagline  \\\n",
       "0  It can take a lifetime to find true love; she'...   \n",
       "1    The road to greatness can take you to the edge.   \n",
       "2                                                NaN   \n",
       "\n",
       "                                      title  Collection  \n",
       "0  The Princess Diaries 2: Royal Engagement        True  \n",
       "1                                  Whiplash       False  \n",
       "2    Pinocchio and the Emperor of the Night       False  "
      ]
     },
     "execution_count": 69,
     "metadata": {},
     "output_type": "execute_result"
    }
   ],
   "source": [
    "# Drop all columns that have been on-hot encoded\n",
    "categorical = boxofc_cat.drop(labels=['belongs_to_collection', 'genres', 'original_language','production_companies',\n",
    "                                      'production_countries', 'release_date', 'spoken_languages', 'Keywords', 'cast', \n",
    "                                      'crew', 'collectionbool', 'year', 'month'], axis=1)\n",
    "frames = [Genre_dummies, Collection_dummies, Company_dummies, Country_dummies, Spoken_dummies, Keywords_dummies, \n",
    "          categorical, boxofc_num, Annual_dummies, Monthly_dummies]\n",
    "categorical.head(3)"
   ]
  },
  {
   "cell_type": "code",
   "execution_count": 70,
   "metadata": {},
   "outputs": [
    {
     "data": {
      "text/html": [
       "<div>\n",
       "<style scoped>\n",
       "    .dataframe tbody tr th:only-of-type {\n",
       "        vertical-align: middle;\n",
       "    }\n",
       "\n",
       "    .dataframe tbody tr th {\n",
       "        vertical-align: top;\n",
       "    }\n",
       "\n",
       "    .dataframe thead tr th {\n",
       "        text-align: left;\n",
       "    }\n",
       "</style>\n",
       "<table border=\"1\" class=\"dataframe\">\n",
       "  <thead>\n",
       "    <tr>\n",
       "      <th></th>\n",
       "      <th colspan=\"10\" halign=\"left\">Genre</th>\n",
       "      <th>...</th>\n",
       "      <th colspan=\"10\" halign=\"left\">Release_month</th>\n",
       "    </tr>\n",
       "    <tr>\n",
       "      <th></th>\n",
       "      <th>Action</th>\n",
       "      <th>Adventure</th>\n",
       "      <th>Animation</th>\n",
       "      <th>Comedy</th>\n",
       "      <th>Crime</th>\n",
       "      <th>Documentary</th>\n",
       "      <th>Drama</th>\n",
       "      <th>Family</th>\n",
       "      <th>Fantasy</th>\n",
       "      <th>Foreign</th>\n",
       "      <th>...</th>\n",
       "      <th>3</th>\n",
       "      <th>4</th>\n",
       "      <th>5</th>\n",
       "      <th>6</th>\n",
       "      <th>7</th>\n",
       "      <th>8</th>\n",
       "      <th>9</th>\n",
       "      <th>10</th>\n",
       "      <th>11</th>\n",
       "      <th>12</th>\n",
       "    </tr>\n",
       "  </thead>\n",
       "  <tbody>\n",
       "    <tr>\n",
       "      <th>0</th>\n",
       "      <td>0</td>\n",
       "      <td>0</td>\n",
       "      <td>0</td>\n",
       "      <td>1</td>\n",
       "      <td>0</td>\n",
       "      <td>0</td>\n",
       "      <td>1</td>\n",
       "      <td>1</td>\n",
       "      <td>0</td>\n",
       "      <td>0</td>\n",
       "      <td>...</td>\n",
       "      <td>0</td>\n",
       "      <td>0</td>\n",
       "      <td>0</td>\n",
       "      <td>0</td>\n",
       "      <td>0</td>\n",
       "      <td>1</td>\n",
       "      <td>0</td>\n",
       "      <td>0</td>\n",
       "      <td>0</td>\n",
       "      <td>0</td>\n",
       "    </tr>\n",
       "    <tr>\n",
       "      <th>1</th>\n",
       "      <td>0</td>\n",
       "      <td>0</td>\n",
       "      <td>0</td>\n",
       "      <td>0</td>\n",
       "      <td>0</td>\n",
       "      <td>0</td>\n",
       "      <td>1</td>\n",
       "      <td>0</td>\n",
       "      <td>0</td>\n",
       "      <td>0</td>\n",
       "      <td>...</td>\n",
       "      <td>0</td>\n",
       "      <td>0</td>\n",
       "      <td>0</td>\n",
       "      <td>0</td>\n",
       "      <td>0</td>\n",
       "      <td>0</td>\n",
       "      <td>0</td>\n",
       "      <td>1</td>\n",
       "      <td>0</td>\n",
       "      <td>0</td>\n",
       "    </tr>\n",
       "    <tr>\n",
       "      <th>2</th>\n",
       "      <td>0</td>\n",
       "      <td>1</td>\n",
       "      <td>1</td>\n",
       "      <td>0</td>\n",
       "      <td>0</td>\n",
       "      <td>0</td>\n",
       "      <td>0</td>\n",
       "      <td>1</td>\n",
       "      <td>0</td>\n",
       "      <td>0</td>\n",
       "      <td>...</td>\n",
       "      <td>0</td>\n",
       "      <td>0</td>\n",
       "      <td>0</td>\n",
       "      <td>0</td>\n",
       "      <td>0</td>\n",
       "      <td>1</td>\n",
       "      <td>0</td>\n",
       "      <td>0</td>\n",
       "      <td>0</td>\n",
       "      <td>0</td>\n",
       "    </tr>\n",
       "  </tbody>\n",
       "</table>\n",
       "<p>3 rows × 10457 columns</p>\n",
       "</div>"
      ],
      "text/plain": [
       "   Genre                                                                    \\\n",
       "  Action Adventure Animation Comedy Crime Documentary Drama Family Fantasy   \n",
       "0      0         0         0      1     0           0     1      1       0   \n",
       "1      0         0         0      0     0           0     1      0       0   \n",
       "2      0         1         1      0     0           0     0      1       0   \n",
       "\n",
       "           ... Release_month                             \n",
       "  Foreign  ...             3  4  5  6  7  8  9 10 11 12  \n",
       "0       0  ...             0  0  0  0  0  1  0  0  0  0  \n",
       "1       0  ...             0  0  0  0  0  0  0  1  0  0  \n",
       "2       0  ...             0  0  0  0  0  1  0  0  0  0  \n",
       "\n",
       "[3 rows x 10457 columns]"
      ]
     },
     "execution_count": 70,
     "metadata": {},
     "output_type": "execute_result"
    }
   ],
   "source": [
    "BoxOffice = pd.concat(frames, keys=['Genre', 'Collection', 'Company', 'Country', 'Spoken_lang', 'Keywords', 'Descriptive', \n",
    "                                    'Numerical', 'Release_year', 'Release_month'], axis=1)\n",
    "BoxOffice.head(3)"
   ]
  },
  {
   "cell_type": "code",
   "execution_count": 71,
   "metadata": {},
   "outputs": [
    {
     "data": {
      "text/plain": [
       "(2333, 10456)"
      ]
     },
     "execution_count": 71,
     "metadata": {},
     "output_type": "execute_result"
    }
   ],
   "source": [
    "BoxOffice.drop('imdb_id', level=1, axis=1, inplace=True)\n",
    "BoxOffice.shape"
   ]
  },
  {
   "cell_type": "code",
   "execution_count": 72,
   "metadata": {},
   "outputs": [],
   "source": [
    "BoxOffice.to_csv('../Data/boxoffice_EDA.csv')"
   ]
  },
  {
   "cell_type": "markdown",
   "metadata": {},
   "source": [
    "# Summary:\n",
    "\n",
    "At this point I've examined both the categorical and numeric data for my project, and exploded my categorical columns into dummy variables so that I can easily pass them to different ML models and use them to predict revenue as a result of the information I have. \n",
    "\n",
    "From my exploratory analysis it seems that most of the categorical data is explonentially distributed, and highly skewed towards specific values (particular keywords, companies, languages, countries, etc.), which should provide good data for predictive modeling for revenue. \n",
    "\n",
    "Additionally, it seems that budget, tagline length, and runtime will all be good numeric predictors for revenue, with strong correlation to my target feature.\n",
    "\n",
    "Later, I'll need to return to my 'cast' and 'crew' categories when I have more computational power at hand in order to see if there are strong correlations with those categories to revenue as well. "
   ]
  }
 ],
 "metadata": {
  "kernelspec": {
   "display_name": "Python 3",
   "language": "python",
   "name": "python3"
  },
  "language_info": {
   "codemirror_mode": {
    "name": "ipython",
    "version": 3
   },
   "file_extension": ".py",
   "mimetype": "text/x-python",
   "name": "python",
   "nbconvert_exporter": "python",
   "pygments_lexer": "ipython3",
   "version": "3.8.5"
  }
 },
 "nbformat": 4,
 "nbformat_minor": 4
}
