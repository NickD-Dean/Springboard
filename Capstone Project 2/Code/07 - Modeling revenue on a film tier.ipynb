{
 "cells": [
  {
   "cell_type": "markdown",
   "id": "8ff3317e",
   "metadata": {},
   "source": [
    "# Modelling revenue on a narrowly-defined tier of films\n",
    "\n",
    "In previous notebooks it was apparent that modelling the revenue of films based on smaller subsets (EG: seasonality) was far more accurate than modelling based on the entire corpus of films.  This makes logical sense - predicting revenue based off of films that are similar to that which we're predicting the revenue for should be more accurate than based off of the entire body of films. \n",
    "\n",
    "In this notebook I'm going to use intuition and some EDA to construct a more narrowly defined tier than simply seasonal release of films. Once a tier has been constructed I'll continue forward with modelling the revenue of that film tier to identify if I'm able to significantly improve the accuracy of modelling and predicting revenue based on a more narrowly defined tier. "
   ]
  },
  {
   "cell_type": "code",
   "execution_count": 1,
   "id": "e47c0600",
   "metadata": {},
   "outputs": [],
   "source": [
    "import pandas as pd\n",
    "import numpy as np\n",
    "import matplotlib.pyplot as plt\n",
    "import seaborn as sns\n",
    "from sklearn.model_selection import train_test_split, cross_validate, RandomizedSearchCV, GridSearchCV\n",
    "from sklearn.preprocessing import StandardScaler, MinMaxScaler\n",
    "from sklearn.metrics import r2_score, mean_squared_error, mean_absolute_error\n",
    "from sklearn.ensemble import GradientBoostingRegressor, RandomForestRegressor\n",
    "from sklearn.linear_model import LinearRegression\n",
    "import warnings\n",
    "warnings.filterwarnings('ignore')"
   ]
  },
  {
   "cell_type": "code",
   "execution_count": 2,
   "id": "fc619def",
   "metadata": {},
   "outputs": [
    {
     "data": {
      "text/html": [
       "<div>\n",
       "<style scoped>\n",
       "    .dataframe tbody tr th:only-of-type {\n",
       "        vertical-align: middle;\n",
       "    }\n",
       "\n",
       "    .dataframe tbody tr th {\n",
       "        vertical-align: top;\n",
       "    }\n",
       "\n",
       "    .dataframe thead tr th {\n",
       "        text-align: left;\n",
       "    }\n",
       "</style>\n",
       "<table border=\"1\" class=\"dataframe\">\n",
       "  <thead>\n",
       "    <tr>\n",
       "      <th></th>\n",
       "      <th colspan=\"10\" halign=\"left\">Genre</th>\n",
       "      <th>...</th>\n",
       "      <th colspan=\"2\" halign=\"left\">Release_year</th>\n",
       "      <th>Numerical</th>\n",
       "      <th colspan=\"7\" halign=\"left\">Country</th>\n",
       "    </tr>\n",
       "    <tr>\n",
       "      <th></th>\n",
       "      <th>Action</th>\n",
       "      <th>Adventure</th>\n",
       "      <th>Animation</th>\n",
       "      <th>Comedy</th>\n",
       "      <th>Crime</th>\n",
       "      <th>Documentary</th>\n",
       "      <th>Drama</th>\n",
       "      <th>Family</th>\n",
       "      <th>Fantasy</th>\n",
       "      <th>Foreign</th>\n",
       "      <th>...</th>\n",
       "      <th>00s</th>\n",
       "      <th>10s</th>\n",
       "      <th>Num_production_countries</th>\n",
       "      <th>Europe</th>\n",
       "      <th>Oceania</th>\n",
       "      <th>Asia</th>\n",
       "      <th>Middle_East</th>\n",
       "      <th>Latin_America</th>\n",
       "      <th>North_America</th>\n",
       "      <th>Africa</th>\n",
       "    </tr>\n",
       "  </thead>\n",
       "  <tbody>\n",
       "    <tr>\n",
       "      <th>0</th>\n",
       "      <td>0</td>\n",
       "      <td>0</td>\n",
       "      <td>0</td>\n",
       "      <td>1</td>\n",
       "      <td>0</td>\n",
       "      <td>0</td>\n",
       "      <td>1</td>\n",
       "      <td>1</td>\n",
       "      <td>0</td>\n",
       "      <td>0</td>\n",
       "      <td>...</td>\n",
       "      <td>1</td>\n",
       "      <td>0</td>\n",
       "      <td>1</td>\n",
       "      <td>0</td>\n",
       "      <td>0</td>\n",
       "      <td>0</td>\n",
       "      <td>0</td>\n",
       "      <td>0</td>\n",
       "      <td>0</td>\n",
       "      <td>0</td>\n",
       "    </tr>\n",
       "    <tr>\n",
       "      <th>1</th>\n",
       "      <td>0</td>\n",
       "      <td>0</td>\n",
       "      <td>0</td>\n",
       "      <td>0</td>\n",
       "      <td>0</td>\n",
       "      <td>0</td>\n",
       "      <td>1</td>\n",
       "      <td>0</td>\n",
       "      <td>0</td>\n",
       "      <td>0</td>\n",
       "      <td>...</td>\n",
       "      <td>0</td>\n",
       "      <td>1</td>\n",
       "      <td>1</td>\n",
       "      <td>0</td>\n",
       "      <td>0</td>\n",
       "      <td>0</td>\n",
       "      <td>0</td>\n",
       "      <td>0</td>\n",
       "      <td>0</td>\n",
       "      <td>0</td>\n",
       "    </tr>\n",
       "    <tr>\n",
       "      <th>2</th>\n",
       "      <td>0</td>\n",
       "      <td>1</td>\n",
       "      <td>1</td>\n",
       "      <td>0</td>\n",
       "      <td>0</td>\n",
       "      <td>0</td>\n",
       "      <td>0</td>\n",
       "      <td>1</td>\n",
       "      <td>0</td>\n",
       "      <td>0</td>\n",
       "      <td>...</td>\n",
       "      <td>0</td>\n",
       "      <td>0</td>\n",
       "      <td>1</td>\n",
       "      <td>0</td>\n",
       "      <td>0</td>\n",
       "      <td>0</td>\n",
       "      <td>0</td>\n",
       "      <td>0</td>\n",
       "      <td>0</td>\n",
       "      <td>0</td>\n",
       "    </tr>\n",
       "  </tbody>\n",
       "</table>\n",
       "<p>3 rows × 84 columns</p>\n",
       "</div>"
      ],
      "text/plain": [
       "   Genre                                                                    \\\n",
       "  Action Adventure Animation Comedy Crime Documentary Drama Family Fantasy   \n",
       "0      0         0         0      1     0           0     1      1       0   \n",
       "1      0         0         0      0     0           0     1      0       0   \n",
       "2      0         1         1      0     0           0     0      1       0   \n",
       "\n",
       "           ... Release_year                    Numerical Country               \\\n",
       "  Foreign  ...          00s 10s Num_production_countries  Europe Oceania Asia   \n",
       "0       0  ...            1   0                        1       0       0    0   \n",
       "1       0  ...            0   1                        1       0       0    0   \n",
       "2       0  ...            0   0                        1       0       0    0   \n",
       "\n",
       "                                                  \n",
       "  Middle_East Latin_America North_America Africa  \n",
       "0           0             0             0      0  \n",
       "1           0             0             0      0  \n",
       "2           0             0             0      0  \n",
       "\n",
       "[3 rows x 84 columns]"
      ]
     },
     "execution_count": 2,
     "metadata": {},
     "output_type": "execute_result"
    }
   ],
   "source": [
    "box = pd.read_csv('../Data/Reduced_dimensions2.csv', index_col=0, header = [0,1])\n",
    "box.head(3)"
   ]
  },
  {
   "cell_type": "code",
   "execution_count": 3,
   "id": "2c948e59",
   "metadata": {},
   "outputs": [],
   "source": [
    "# Defines a mean absolute percentage error function\n",
    "def MAPE(true, pred):\n",
    "    MAPE = (np.sum(np.abs((true-pred)/true))/len(true))*100\n",
    "    return MAPE"
   ]
  },
  {
   "cell_type": "code",
   "execution_count": 4,
   "id": "a91b8195",
   "metadata": {},
   "outputs": [
    {
     "data": {
      "text/plain": [
       "MultiIndex([(        'Genre',                                 'Action'),\n",
       "            (        'Genre',                              'Adventure'),\n",
       "            (        'Genre',                              'Animation'),\n",
       "            (        'Genre',                                 'Comedy'),\n",
       "            (        'Genre',                                  'Crime'),\n",
       "            (        'Genre',                            'Documentary'),\n",
       "            (        'Genre',                                  'Drama'),\n",
       "            (        'Genre',                                 'Family'),\n",
       "            (        'Genre',                                'Fantasy'),\n",
       "            (        'Genre',                                'Foreign'),\n",
       "            (        'Genre',                                'History'),\n",
       "            (        'Genre',                                 'Horror'),\n",
       "            (        'Genre',                                  'Music'),\n",
       "            (        'Genre',                                'Mystery'),\n",
       "            (        'Genre',                               'No Genre'),\n",
       "            (        'Genre',                                'Romance'),\n",
       "            (        'Genre',                        'Science Fiction'),\n",
       "            (        'Genre',                               'Thriller'),\n",
       "            (        'Genre',                                    'War'),\n",
       "            (        'Genre',                                'Western'),\n",
       "            (      'Company',                      'Columbia Pictures'),\n",
       "            (      'Company',          'Columbia Pictures Corporation'),\n",
       "            (      'Company',              'Metro-Goldwyn-Mayer (MGM)'),\n",
       "            (      'Company',                        'New Line Cinema'),\n",
       "            (      'Company',                     'Paramount Pictures'),\n",
       "            (      'Company',                    'Touchstone Pictures'),\n",
       "            (      'Company', 'Twentieth Century Fox Film Corporation'),\n",
       "            (      'Company',                     'Universal Pictures'),\n",
       "            (      'Company',              'Village Roadshow Pictures'),\n",
       "            (      'Company',                   'Walt Disney Pictures'),\n",
       "            (      'Company',                           'Warner Bros.'),\n",
       "            (      'Country',                             'No Country'),\n",
       "            (      'Country',                         'United Kingdom'),\n",
       "            (      'Country',               'United States of America'),\n",
       "            (  'Spoken_lang',                                'English'),\n",
       "            (     'Keywords',                    'aftercreditsstinger'),\n",
       "            (     'Keywords',                         'based on novel'),\n",
       "            (     'Keywords',                              'biography'),\n",
       "            (     'Keywords',                   'duringcreditsstinger'),\n",
       "            (     'Keywords',                               'dystopia'),\n",
       "            (     'Keywords',                                 'murder'),\n",
       "            (     'Keywords',                               'new york'),\n",
       "            (     'Keywords',                                'revenge'),\n",
       "            (     'Keywords',                                 'sequel'),\n",
       "            (     'Keywords',                               'violence'),\n",
       "            (     'Keywords',                         'woman director'),\n",
       "            (  'Descriptive',                             'Collection'),\n",
       "            (    'Numerical',                                 'budget'),\n",
       "            (    'Numerical',                                'runtime'),\n",
       "            (    'Numerical',                                'revenue'),\n",
       "            (    'Numerical',                        'Overview_length'),\n",
       "            (    'Numerical',                             'Tag_length'),\n",
       "            ( 'Release_year',                                'No Year'),\n",
       "            ('Release_month',                                      '1'),\n",
       "            ('Release_month',                                      '2'),\n",
       "            ('Release_month',                                      '3'),\n",
       "            ('Release_month',                                      '4'),\n",
       "            ('Release_month',                                      '5'),\n",
       "            ('Release_month',                                      '6'),\n",
       "            ('Release_month',                                      '7'),\n",
       "            ('Release_month',                                      '8'),\n",
       "            ('Release_month',                                      '9'),\n",
       "            ('Release_month',                                     '10'),\n",
       "            ('Release_month',                                     '11'),\n",
       "            ('Release_month',                                     '12'),\n",
       "            (    'Numerical',                           'Num_keywords'),\n",
       "            (    'Numerical',                          'Num_companies'),\n",
       "            (      'Company',                   'Company_quartile_1st'),\n",
       "            (      'Company',                   'Company_quartile_2nd'),\n",
       "            (      'Company',                   'Company_quartile_3rd'),\n",
       "            (      'Company',                   'Company_quartile_4th'),\n",
       "            ( 'Release_year',                                    '70s'),\n",
       "            ( 'Release_year',                                    '80s'),\n",
       "            ( 'Release_year',                                    '90s'),\n",
       "            ( 'Release_year',                                    '00s'),\n",
       "            ( 'Release_year',                                    '10s'),\n",
       "            (    'Numerical',               'Num_production_countries'),\n",
       "            (      'Country',                                 'Europe'),\n",
       "            (      'Country',                                'Oceania'),\n",
       "            (      'Country',                                   'Asia'),\n",
       "            (      'Country',                            'Middle_East'),\n",
       "            (      'Country',                          'Latin_America'),\n",
       "            (      'Country',                          'North_America'),\n",
       "            (      'Country',                                 'Africa')],\n",
       "           )"
      ]
     },
     "execution_count": 4,
     "metadata": {},
     "output_type": "execute_result"
    }
   ],
   "source": [
    "box.columns"
   ]
  },
  {
   "cell_type": "markdown",
   "id": "d171888d",
   "metadata": {},
   "source": [
    "### Defining an initial tier\n",
    "\n",
    "A group of movies that immediately come to mind when I think of a group of films are 'blockbuster' action sequels from the summer release and christmas release season."
   ]
  },
  {
   "cell_type": "code",
   "execution_count": 5,
   "id": "9d5af122",
   "metadata": {},
   "outputs": [
    {
     "data": {
      "text/plain": [
       "(75, 84)"
      ]
     },
     "execution_count": 5,
     "metadata": {},
     "output_type": "execute_result"
    }
   ],
   "source": [
    "# Gives me 545 films\n",
    "tier = box[box['Genre', 'Action'] == 1]\n",
    "# Films that are action films AND sequels gives me 211 films to model\n",
    "tier = tier[tier['Descriptive', 'Collection']==1]\n",
    "# Limiting to action films released in June, July, or December that were also sequels leaves me with 75 films. \n",
    "tier = tier[(tier['Release_month', '7']==1) | (tier['Release_month', '12']==1) | (tier['Release_month', '6']==1)]\n",
    "tier.shape"
   ]
  },
  {
   "cell_type": "code",
   "execution_count": 6,
   "id": "3f7715d2",
   "metadata": {},
   "outputs": [
    {
     "data": {
      "text/plain": [
       "(75, 73)"
      ]
     },
     "execution_count": 6,
     "metadata": {},
     "output_type": "execute_result"
    }
   ],
   "source": [
    "# drop all columns that are redundant, we know these films are sequels and that they aren't released in the below months\n",
    "tier_1 = tier.drop(['Action', 'Collection', '1', '2', '3', '4', '5', '8', '9', '10', '11'], level=1, axis=1)\n",
    "y = np.log(tier_1['Numerical', 'revenue'])\n",
    "X = tier_1.drop('revenue', level=1, axis=1)\n",
    "tier_1.shape"
   ]
  },
  {
   "cell_type": "code",
   "execution_count": 7,
   "id": "d2353be2",
   "metadata": {},
   "outputs": [
    {
     "data": {
      "image/png": "[encoded data removed]",
      "text/plain": [
       "<Figure size 432x288 with 1 Axes>"
      ]
     },
     "metadata": {
      "needs_background": "light"
     },
     "output_type": "display_data"
    }
   ],
   "source": [
    "sns.histplot(data=tier_1, x=('Numerical', 'revenue'), stat='count', bins=30);"
   ]
  },
  {
   "cell_type": "code",
   "execution_count": 8,
   "id": "97540c0f",
   "metadata": {},
   "outputs": [],
   "source": [
    "scaler = MinMaxScaler()\n",
    "scaler.fit(X['Numerical'])\n",
    "X['Numerical'] = scaler.transform(X['Numerical'])\n",
    "X_train, X_test, y_train, y_test = train_test_split(X, y, test_size=0.2, random_state=42)\n",
    "exp_y_test = np.exp(y_test)"
   ]
  },
  {
   "cell_type": "code",
   "execution_count": 9,
   "id": "f841c864",
   "metadata": {},
   "outputs": [
    {
     "data": {
      "text/plain": [
       "{'R2': 0.32671542788751373,\n",
       " 'RMSE': 59757108.38212206,\n",
       " 'MAE': 47228637.108536676,\n",
       " 'MAPE': 64.83750315046007}"
      ]
     },
     "execution_count": 9,
     "metadata": {},
     "output_type": "execute_result"
    }
   ],
   "source": [
    "gb = GradientBoostingRegressor(random_state=42)\n",
    "gb.fit(X_train, y_train)\n",
    "tier_1_preds = gb.predict(X_test)\n",
    "tier_1_preds = np.exp(tier_1_preds)\n",
    "r2_1 = r2_score(exp_y_test, tier_1_preds)\n",
    "RMSE_1 = mean_squared_error(exp_y_test, tier_1_preds, squared=False)\n",
    "MAE_1 = mean_absolute_error(exp_y_test, tier_1_preds)\n",
    "MAPE_1 = MAPE(exp_y_test, tier_1_preds)\n",
    "scores_1 = {'R2':r2_1, 'RMSE':RMSE_1, \"MAE\":MAE_1, \"MAPE\":MAPE_1}\n",
    "scores_1"
   ]
  },
  {
   "cell_type": "markdown",
   "id": "9f4aeda8",
   "metadata": {},
   "source": [
    "#### We have great results!\n",
    "\n",
    "Modelling with gradient boosting regression models has reduced the MAPE to around 60-70 (depending on the random state of the model).  Next I'm going to try to tune hyperparameters to see if I can reduce that down to below 20%."
   ]
  },
  {
   "cell_type": "code",
   "execution_count": null,
   "id": "cdc852c8",
   "metadata": {},
   "outputs": [],
   "source": [
    "params = {'n_estimators':np.arange(10,10000), 'max_depth':np.arange(1,70), \n",
    "          'min_samples_split': np.arange(2,10), 'learning_rate': [0.000001, 0.00001, 0.0001, 0.001, 0.01, 0.1, 1]}\n",
    "grade = GradientBoostingRegressor()\n",
    "gradient = RandomizedSearchCV(grade, param_distributions=params, n_iter=100)\n",
    "gradient.fit(X_train, y_train)\n",
    "grade_best_score = gradient.best_score_\n",
    "grade_best_params = gradient.best_params_\n",
    "print('GB best score: ', grade_best_score)\n",
    "print('GB best parameters: ', grade_best_params)"
   ]
  },
  {
   "cell_type": "code",
   "execution_count": null,
   "id": "829405c7",
   "metadata": {},
   "outputs": [],
   "source": [
    "# Testing new optimized GradientBooster with 'best' hyperparameters:\n",
    "gb = GradientBoostingRegressor(n_estimators = 17, min_samples_split = 6, max_depth=11, random_state=42)\n",
    "gb.fit(X_train, y_train)\n",
    "tier_1_preds = gb.predict(X_test)\n",
    "tier_1_preds = np.exp(tier_1_preds)\n",
    "r2_1o = r2_score(exp_y_test, tier_1_preds)\n",
    "RMSE_1o = mean_squared_error(exp_y_test, tier_1_preds, squared=False)\n",
    "MAE_1o = mean_absolute_error(exp_y_test, tier_1_preds)\n",
    "MAPE_1o = MAPE(exp_y_test, tier_1_preds)\n",
    "scores_1o = {'R2':r2_1o, 'RMSE':RMSE_1o, \"MAE\":MAE_1o, \"MAPE\":MAPE_1o}\n",
    "scores_1o"
   ]
  },
  {
   "cell_type": "markdown",
   "id": "4e61de52",
   "metadata": {},
   "source": [
    "## Attempting different tier configurations for better results:\n",
    "\n",
    "This is an excellent imrprovement in model accuracy, next I'll need to construct some additional tiers to compare and assess which tiers will form the basis for modelling revenue over the entire data set by dividing it into similar tiers. "
   ]
  },
  {
   "cell_type": "markdown",
   "id": "d376af2c",
   "metadata": {},
   "source": [
    "#### Action films that are not part of a collection released in the summer/holiday blockbuster seasons"
   ]
  },
  {
   "cell_type": "code",
   "execution_count": null,
   "id": "a194d915",
   "metadata": {},
   "outputs": [],
   "source": [
    "#This leaves me with 334 films\n",
    "tier = box[(box['Genre', 'Action']==1)&(box['Descriptive', 'Collection']==0)]\n",
    "#This leaves me with 92 films\n",
    "tier_2 = tier[(tier['Release_month', '7']==1) | (tier['Release_month', '12']==1) | (tier['Release_month', '6']==1)]"
   ]
  },
  {
   "cell_type": "code",
   "execution_count": null,
   "id": "0afdba45",
   "metadata": {},
   "outputs": [],
   "source": [
    "sns.histplot(data=tier_2, x=('Numerical', 'revenue'), stat='count', bins=30);"
   ]
  },
  {
   "cell_type": "markdown",
   "id": "d247975f",
   "metadata": {},
   "source": [
    "It's notable that films who are part of a sequel and released around the same time tend to have revenue that closely mirrors the  distribution of films which don't have sequels."
   ]
  },
  {
   "cell_type": "code",
   "execution_count": null,
   "id": "ad851828",
   "metadata": {},
   "outputs": [],
   "source": [
    "tier_2 = tier_2.drop(['Action', 'Collection', '1', '2', '3', '4', '5', '8', '9', '10', '11'], level=1, axis=1)\n",
    "y = np.log(tier_2['Numerical', 'revenue'])\n",
    "X = tier_2.drop('revenue', level=1, axis=1)\n",
    "tier_2.shape"
   ]
  },
  {
   "cell_type": "code",
   "execution_count": null,
   "id": "fbb07c9d",
   "metadata": {},
   "outputs": [],
   "source": [
    "scaler = MinMaxScaler()\n",
    "scaler.fit(X['Numerical'])\n",
    "X['Numerical'] = scaler.transform(X['Numerical'])\n",
    "X_train, X_test, y_train, y_test = train_test_split(X, y, test_size=0.2, random_state=42)\n",
    "exp_y_test = np.exp(y_test)"
   ]
  },
  {
   "cell_type": "code",
   "execution_count": null,
   "id": "078f7b7f",
   "metadata": {},
   "outputs": [],
   "source": [
    "gb = GradientBoostingRegressor(random_state=42)\n",
    "gb.fit(X_train, y_train)\n",
    "tier_2_preds = gb.predict(X_test)\n",
    "tier_2_preds = np.exp(tier_2_preds)\n",
    "r2_2 = r2_score(exp_y_test, tier_2_preds)\n",
    "RMSE_2 = mean_squared_error(exp_y_test, tier_2_preds, squared=False)\n",
    "MAE_2 = mean_absolute_error(exp_y_test, tier_2_preds)\n",
    "MAPE_2 = MAPE(exp_y_test, tier_2_preds)\n",
    "scores_2 = {'R2':r2_2, 'RMSE':RMSE_2, \"MAE\":MAE_2, \"MAPE\":MAPE_2}\n",
    "scores_2"
   ]
  },
  {
   "cell_type": "code",
   "execution_count": null,
   "id": "a924216b",
   "metadata": {},
   "outputs": [],
   "source": [
    "params = {'n_estimators':np.arange(10,10000), 'max_depth':np.arange(1,70), \n",
    "          'min_samples_split': np.arange(2,10), 'learning_rate': [0.000001, 0.00001, 0.0001, 0.001, 0.01, 0.1, 1]}\n",
    "grade = GradientBoostingRegressor()\n",
    "gradient = RandomizedSearchCV(grade, param_distributions=params, n_iter=100)\n",
    "gradient.fit(X_train, y_train)\n",
    "grade_best_score = gradient.best_score_\n",
    "grade_best_params = gradient.best_params_\n",
    "print('GB best score: ', grade_best_score)\n",
    "print('GB best parameters: ', grade_best_params)"
   ]
  },
  {
   "cell_type": "code",
   "execution_count": null,
   "id": "bab8ebcc",
   "metadata": {},
   "outputs": [],
   "source": []
  },
  {
   "cell_type": "markdown",
   "id": "dc4b7a6a",
   "metadata": {},
   "source": [
    "#### Drama films that don't belong to a collection and are released in the same time period as the above action films"
   ]
  },
  {
   "cell_type": "code",
   "execution_count": null,
   "id": "e353c6b3",
   "metadata": {},
   "outputs": [],
   "source": [
    "#This leaves me with 756 films\n",
    "tier = box[(box['Genre', 'Drama']==1)&(box['Descriptive', 'Collection']==0)]\n",
    "#This leaves me with 231 films\n",
    "tier_3 = tier[(tier['Release_month', '7']==1) | (tier['Release_month', '12']==1) | (tier['Release_month', '6']==1)]\n",
    "tier_3.shape"
   ]
  },
  {
   "cell_type": "code",
   "execution_count": null,
   "id": "554d2834",
   "metadata": {},
   "outputs": [],
   "source": [
    "tier_3 = tier_3.drop(['Drama', 'Collection', '1', '2', '3', '4', '5', '8', '9', '10', '11'], level=1, axis=1)\n",
    "y = np.log(tier_3['Numerical', 'revenue'])\n",
    "X = tier_3.drop('revenue', level=1, axis=1)\n",
    "tier_3.shape"
   ]
  },
  {
   "cell_type": "code",
   "execution_count": null,
   "id": "b745c8ae",
   "metadata": {},
   "outputs": [],
   "source": [
    "scaler = MinMaxScaler()\n",
    "scaler.fit(X['Numerical'])\n",
    "X['Numerical'] = scaler.transform(X['Numerical'])\n",
    "X_train, X_test, y_train, y_test = train_test_split(X, y, test_size=0.2, random_state=42)\n",
    "exp_y_test = np.exp(y_test)"
   ]
  },
  {
   "cell_type": "code",
   "execution_count": null,
   "id": "67f3c9c9",
   "metadata": {},
   "outputs": [],
   "source": [
    "gb = GradientBoostingRegressor(random_state=42)\n",
    "gb.fit(X_train, y_train)\n",
    "tier_3_preds = gb.predict(X_test)\n",
    "tier_3_preds = np.exp(tier_3_preds)\n",
    "r2_3 = r2_score(exp_y_test, tier_3_preds)\n",
    "RMSE_3 = mean_squared_error(exp_y_test, tier_3_preds, squared=False)\n",
    "MAE_3 = mean_absolute_error(exp_y_test, tier_3_preds)\n",
    "MAPE_3 = MAPE(exp_y_test, tier_3_preds)\n",
    "scores_3 = {'R2':r2_3, 'RMSE':RMSE_3, \"MAE\":MAE_3, \"MAPE\":MAPE_3}\n",
    "scores_3"
   ]
  },
  {
   "cell_type": "code",
   "execution_count": null,
   "id": "a7ee0ad8",
   "metadata": {},
   "outputs": [],
   "source": [
    "params = {'n_estimators':np.arange(10,10000), 'max_depth':np.arange(1,70), \n",
    "          'min_samples_split': np.arange(2,10), 'learning_rate': [0.000001, 0.00001, 0.0001, 0.001, 0.01, 0.1, 1]}\n",
    "grade = GradientBoostingRegressor()\n",
    "gradient = RandomizedSearchCV(grade, param_distributions=params, n_iter=100)\n",
    "gradient.fit(X_train, y_train)\n",
    "grade_best_score = gradient.best_score_\n",
    "grade_best_params = gradient.best_params_\n",
    "print('GB best score: ', grade_best_score)\n",
    "print('GB best parameters: ', grade_best_params)"
   ]
  },
  {
   "cell_type": "code",
   "execution_count": null,
   "id": "35a97054",
   "metadata": {},
   "outputs": [],
   "source": []
  },
  {
   "cell_type": "markdown",
   "id": "7428575d",
   "metadata": {},
   "source": [
    "#### Trying a different approach to tiered segmentation: Examining Disney films, which generally are considered a 'genre' on their own."
   ]
  },
  {
   "cell_type": "code",
   "execution_count": null,
   "id": "8a0e9ebf",
   "metadata": {},
   "outputs": [],
   "source": [
    "tier_4 = box[box['Company', 'Walt Disney Pictures']==1]\n",
    "tier_4.shape"
   ]
  },
  {
   "cell_type": "code",
   "execution_count": null,
   "id": "cf12eb0a",
   "metadata": {},
   "outputs": [],
   "source": [
    "tier_4 = tier_4.drop('Walt Disney Pictures', level=1, axis=1)\n",
    "y = np.log(tier_4['Numerical', 'revenue'])\n",
    "X = tier_4.drop('revenue', level=1, axis=1)\n",
    "tier_4.shape"
   ]
  },
  {
   "cell_type": "code",
   "execution_count": null,
   "id": "37ffa5b7",
   "metadata": {},
   "outputs": [],
   "source": [
    "sns.histplot(data=tier_4, x=('Numerical', 'revenue'), stat='count', bins=30);"
   ]
  },
  {
   "cell_type": "code",
   "execution_count": null,
   "id": "8927e7ff",
   "metadata": {},
   "outputs": [],
   "source": [
    "scaler = MinMaxScaler()\n",
    "scaler.fit(X['Numerical'])\n",
    "X['Numerical'] = scaler.transform(X['Numerical'])\n",
    "X_train, X_test, y_train, y_test = train_test_split(X, y, test_size=0.2, random_state=42)\n",
    "exp_y_test = np.exp(y_test)"
   ]
  },
  {
   "cell_type": "code",
   "execution_count": null,
   "id": "fda6955a",
   "metadata": {},
   "outputs": [],
   "source": [
    "gb = GradientBoostingRegressor(random_state=42)\n",
    "gb.fit(X_train, y_train)\n",
    "tier_4_preds = gb.predict(X_test)\n",
    "tier_4_preds = np.exp(tier_4_preds)\n",
    "r2_4 = r2_score(exp_y_test, tier_4_preds)\n",
    "RMSE_4 = mean_squared_error(exp_y_test, tier_4_preds, squared=False)\n",
    "MAE_4 = mean_absolute_error(exp_y_test, tier_4_preds)\n",
    "MAPE_4 = MAPE(exp_y_test, tier_4_preds)\n",
    "scores_4 = {'R2':r2_4, 'RMSE':RMSE_4, \"MAE\":MAE_4, \"MAPE\":MAPE_4}\n",
    "scores_4"
   ]
  },
  {
   "cell_type": "markdown",
   "id": "fcff9e3e",
   "metadata": {},
   "source": [
    "This is far more accurate, but we're approaching a smaller sample size.  It could simply be that the model is performing better on a smaller set of data.  As I shrink the sample size the MAPE is shrinking, and as I increase the sample size the MAPE is growing.  I'll test on two more tiers of films. "
   ]
  },
  {
   "cell_type": "code",
   "execution_count": null,
   "id": "811b64db",
   "metadata": {},
   "outputs": [],
   "source": [
    "params = {'n_estimators':np.arange(10,10000), 'max_depth':np.arange(1,70), \n",
    "          'min_samples_split': np.arange(2,10), 'learning_rate': [0.000001, 0.00001, 0.0001, 0.001, 0.01, 0.1, 1]}\n",
    "grade = GradientBoostingRegressor()\n",
    "gradient = RandomizedSearchCV(grade, param_distributions=params, n_iter=100)\n",
    "gradient.fit(X_train, y_train)\n",
    "grade_best_score = gradient.best_score_\n",
    "grade_best_params = gradient.best_params_\n",
    "print('GB best score: ', grade_best_score)\n",
    "print('GB best parameters: ', grade_best_params)"
   ]
  },
  {
   "cell_type": "code",
   "execution_count": null,
   "id": "bc513577",
   "metadata": {},
   "outputs": [],
   "source": []
  },
  {
   "cell_type": "markdown",
   "id": "c55f5cbd",
   "metadata": {},
   "source": [
    "#### Attempting this tiered model on Family animation films, as a way to target the same 'type' of film as Disney films"
   ]
  },
  {
   "cell_type": "code",
   "execution_count": null,
   "id": "45713ad1",
   "metadata": {},
   "outputs": [],
   "source": [
    "tier_5 = box[(box['Genre', 'Animation']==1)&(box['Genre', 'Family']==1)]\n",
    "tier_5.shape"
   ]
  },
  {
   "cell_type": "code",
   "execution_count": null,
   "id": "c1a3d9b9",
   "metadata": {},
   "outputs": [],
   "source": [
    "sns.histplot(data=tier_5, x=('Numerical', 'revenue'), stat='count');"
   ]
  },
  {
   "cell_type": "markdown",
   "id": "03ee4742",
   "metadata": {},
   "source": [
    "This revenue distribution appears far more normal than others, hopefully this results in better predictive power"
   ]
  },
  {
   "cell_type": "code",
   "execution_count": null,
   "id": "21208971",
   "metadata": {},
   "outputs": [],
   "source": [
    "tier_5 = tier_5.drop(['Animation', 'Family'], level=1, axis=1)\n",
    "y = np.log(tier_5['Numerical', 'revenue'])\n",
    "X = tier_5.drop('revenue', level=1, axis=1)\n",
    "tier_5.shape"
   ]
  },
  {
   "cell_type": "code",
   "execution_count": null,
   "id": "dc247322",
   "metadata": {},
   "outputs": [],
   "source": [
    "scaler = MinMaxScaler()\n",
    "scaler.fit(X['Numerical'])\n",
    "X['Numerical'] = scaler.transform(X['Numerical'])\n",
    "X_train, X_test, y_train, y_test = train_test_split(X, y, test_size=0.2, random_state=42)\n",
    "exp_y_test = np.exp(y_test)"
   ]
  },
  {
   "cell_type": "code",
   "execution_count": null,
   "id": "f55091a9",
   "metadata": {},
   "outputs": [],
   "source": [
    "gb = GradientBoostingRegressor(random_state=42)\n",
    "gb.fit(X_train, y_train)\n",
    "tier_5_preds = gb.predict(X_test)\n",
    "tier_5_preds = np.exp(tier_5_preds)\n",
    "r2_5 = r2_score(exp_y_test, tier_5_preds)\n",
    "RMSE_5 = mean_squared_error(exp_y_test, tier_5_preds, squared=False)\n",
    "MAE_5 = mean_absolute_error(exp_y_test, tier_5_preds)\n",
    "MAPE_5 = MAPE(exp_y_test, tier_5_preds)\n",
    "scores_5 = {'R2':r2_5, 'RMSE':RMSE_5, \"MAE\":MAE_5, \"MAPE\":MAPE_5}\n",
    "scores_5"
   ]
  },
  {
   "cell_type": "code",
   "execution_count": null,
   "id": "597aec69",
   "metadata": {},
   "outputs": [],
   "source": [
    "params = {'n_estimators':np.arange(10,10000), 'max_depth':np.arange(1,70), \n",
    "          'min_samples_split': np.arange(2,10), 'learning_rate': [0.000001, 0.00001, 0.0001, 0.001, 0.01, 0.1, 1]}\n",
    "grade = GradientBoostingRegressor()\n",
    "gradient = RandomizedSearchCV(grade, param_distributions=params, n_iter=100)\n",
    "gradient.fit(X_train, y_train)\n",
    "grade_best_score = gradient.best_score_\n",
    "grade_best_params = gradient.best_params_\n",
    "print('GB best score: ', grade_best_score)\n",
    "print('GB best parameters: ', grade_best_params)"
   ]
  },
  {
   "cell_type": "code",
   "execution_count": null,
   "id": "f819e766",
   "metadata": {},
   "outputs": [],
   "source": []
  },
  {
   "cell_type": "markdown",
   "id": "ffa3cbbd",
   "metadata": {},
   "source": [
    "#### Finally attempting this on films not produced in the US but which still have english as their spoken language"
   ]
  },
  {
   "cell_type": "code",
   "execution_count": null,
   "id": "ac494b0b",
   "metadata": {},
   "outputs": [],
   "source": [
    "tier_6 = box[box['Country', 'United States of America']==0]\n",
    "tier_6 = tier_6[tier_6['Spoken_lang', 'English']==1]\n",
    "tier_6.shape"
   ]
  },
  {
   "cell_type": "code",
   "execution_count": null,
   "id": "b4b02860",
   "metadata": {},
   "outputs": [],
   "source": [
    "sns.histplot(data=tier_6, x=('Numerical', 'revenue'), stat='count');"
   ]
  },
  {
   "cell_type": "markdown",
   "id": "79ade759",
   "metadata": {},
   "source": [
    "In theory, the revenue not being normally distributed will make the model perform worse, however that didn't improve performance at all in the previous use case (with or without using a log transform - log transforming that data still resulted in a MAPE around 230%).  \n",
    "\n",
    "This is a larger set of data so I suspect that using this tier will result in a MAPE around 100%"
   ]
  },
  {
   "cell_type": "code",
   "execution_count": null,
   "id": "122a5c9b",
   "metadata": {},
   "outputs": [],
   "source": [
    "tier_6 = tier_6.drop(['English', 'United States of America'], level=1, axis=1)\n",
    "y = np.log(tier_6['Numerical', 'revenue'])\n",
    "X = tier_6.drop('revenue', level=1, axis=1)\n",
    "tier_6.shape"
   ]
  },
  {
   "cell_type": "code",
   "execution_count": null,
   "id": "574be5d4",
   "metadata": {},
   "outputs": [],
   "source": [
    "scaler = MinMaxScaler()\n",
    "scaler.fit(X['Numerical'])\n",
    "X['Numerical'] = scaler.transform(X['Numerical'])\n",
    "X_train, X_test, y_train, y_test = train_test_split(X, y, test_size=0.2, random_state=42)\n",
    "exp_y_test = np.exp(y_test)"
   ]
  },
  {
   "cell_type": "code",
   "execution_count": null,
   "id": "4120d0f7",
   "metadata": {},
   "outputs": [],
   "source": [
    "gb = GradientBoostingRegressor(random_state=42)\n",
    "gb.fit(X_train, y_train)\n",
    "tier_6_preds = gb.predict(X_test)\n",
    "tier_6_preds = np.exp(tier_6_preds)\n",
    "r2_6 = r2_score(exp_y_test, tier_6_preds)\n",
    "RMSE_6 = mean_squared_error(exp_y_test, tier_6_preds, squared=False)\n",
    "MAE_6 = mean_absolute_error(exp_y_test, tier_6_preds)\n",
    "MAPE_6 = MAPE(exp_y_test, tier_6_preds)\n",
    "scores_6 = {'R2':r2_6, 'RMSE':RMSE_6, \"MAE\":MAE_6, \"MAPE\":MAPE_6}\n",
    "scores_6"
   ]
  },
  {
   "cell_type": "code",
   "execution_count": null,
   "id": "02103ce2",
   "metadata": {},
   "outputs": [],
   "source": [
    "params = {'n_estimators':np.arange(10,10000), 'max_depth':np.arange(1,70), \n",
    "          'min_samples_split': np.arange(2,10), 'learning_rate': [0.000001, 0.00001, 0.0001, 0.001, 0.01, 0.1, 1]}\n",
    "grade = GradientBoostingRegressor()\n",
    "gradient = RandomizedSearchCV(grade, param_distributions=params, n_iter=100)\n",
    "gradient.fit(X_train, y_train)\n",
    "grade_best_score = gradient.best_score_\n",
    "grade_best_params = gradient.best_params_\n",
    "print('GB best score: ', grade_best_score)\n",
    "print('GB best parameters: ', grade_best_params)"
   ]
  },
  {
   "cell_type": "code",
   "execution_count": null,
   "id": "2b5c6cef",
   "metadata": {},
   "outputs": [],
   "source": []
  }
 ],
 "metadata": {
  "kernelspec": {
   "display_name": "Python 3",
   "language": "python",
   "name": "python3"
  },
  "language_info": {
   "codemirror_mode": {
    "name": "ipython",
    "version": 3
   },
   "file_extension": ".py",
   "mimetype": "text/x-python",
   "name": "python",
   "nbconvert_exporter": "python",
   "pygments_lexer": "ipython3",
   "version": "3.8.8"
  }
 },
 "nbformat": 4,
 "nbformat_minor": 5
}
