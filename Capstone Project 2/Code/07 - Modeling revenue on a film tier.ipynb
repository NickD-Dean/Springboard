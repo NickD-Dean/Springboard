{
 "cells": [
  {
   "cell_type": "markdown",
   "metadata": {},
   "source": [
    "# Modelling revenue on a narrowly-defined tier of films\n",
    "\n",
    "In previous notebooks it was apparent that modelling the revenue of films based on smaller subsets (EG: seasonality) was far more accurate than modelling based on the entire corpus of films.  This makes logical sense - predicting revenue based off of films that are similar to that which we're predicting the revenue for should be more accurate than based off of the entire body of films. \n",
    "\n",
    "In this notebook I'm going to use intuition and some EDA to construct a more narrowly defined tier than simply seasonal release of films. Once a tier has been constructed I'll continue forward with modelling the revenue of that film tier to identify if I'm able to significantly improve the accuracy of modelling and predicting revenue based on a more narrowly defined tier. "
   ]
  },
  {
   "cell_type": "code",
   "execution_count": 1,
   "metadata": {},
   "outputs": [],
   "source": [
    "import pandas as pd\n",
    "import numpy as np\n",
    "import matplotlib.pyplot as plt\n",
    "import seaborn as sns\n",
    "from sklearn.model_selection import train_test_split, cross_validate, RandomizedSearchCV, GridSearchCV\n",
    "from sklearn.preprocessing import StandardScaler, MinMaxScaler\n",
    "from sklearn.metrics import r2_score, mean_squared_error, mean_absolute_error\n",
    "from sklearn.ensemble import GradientBoostingRegressor, RandomForestRegressor\n",
    "from sklearn.linear_model import LinearRegression\n",
    "import warnings\n",
    "warnings.filterwarnings('ignore')"
   ]
  },
  {
   "cell_type": "code",
   "execution_count": 2,
   "metadata": {},
   "outputs": [
    {
     "data": {
      "text/html": [
       "<div>\n",
       "<style scoped>\n",
       "    .dataframe tbody tr th:only-of-type {\n",
       "        vertical-align: middle;\n",
       "    }\n",
       "\n",
       "    .dataframe tbody tr th {\n",
       "        vertical-align: top;\n",
       "    }\n",
       "\n",
       "    .dataframe thead tr th {\n",
       "        text-align: left;\n",
       "    }\n",
       "</style>\n",
       "<table border=\"1\" class=\"dataframe\">\n",
       "  <thead>\n",
       "    <tr>\n",
       "      <th></th>\n",
       "      <th colspan=\"10\" halign=\"left\">Genre</th>\n",
       "      <th>...</th>\n",
       "      <th colspan=\"2\" halign=\"left\">Release_year</th>\n",
       "      <th>Numerical</th>\n",
       "      <th colspan=\"7\" halign=\"left\">Country</th>\n",
       "    </tr>\n",
       "    <tr>\n",
       "      <th></th>\n",
       "      <th>Action</th>\n",
       "      <th>Adventure</th>\n",
       "      <th>Animation</th>\n",
       "      <th>Comedy</th>\n",
       "      <th>Crime</th>\n",
       "      <th>Documentary</th>\n",
       "      <th>Drama</th>\n",
       "      <th>Family</th>\n",
       "      <th>Fantasy</th>\n",
       "      <th>Foreign</th>\n",
       "      <th>...</th>\n",
       "      <th>00s</th>\n",
       "      <th>10s</th>\n",
       "      <th>Num_production_countries</th>\n",
       "      <th>Europe</th>\n",
       "      <th>Oceania</th>\n",
       "      <th>Asia</th>\n",
       "      <th>Middle_East</th>\n",
       "      <th>Latin_America</th>\n",
       "      <th>North_America</th>\n",
       "      <th>Africa</th>\n",
       "    </tr>\n",
       "  </thead>\n",
       "  <tbody>\n",
       "    <tr>\n",
       "      <th>0</th>\n",
       "      <td>0</td>\n",
       "      <td>0</td>\n",
       "      <td>0</td>\n",
       "      <td>1</td>\n",
       "      <td>0</td>\n",
       "      <td>0</td>\n",
       "      <td>1</td>\n",
       "      <td>1</td>\n",
       "      <td>0</td>\n",
       "      <td>0</td>\n",
       "      <td>...</td>\n",
       "      <td>1</td>\n",
       "      <td>0</td>\n",
       "      <td>1</td>\n",
       "      <td>0</td>\n",
       "      <td>0</td>\n",
       "      <td>0</td>\n",
       "      <td>0</td>\n",
       "      <td>0</td>\n",
       "      <td>0</td>\n",
       "      <td>0</td>\n",
       "    </tr>\n",
       "    <tr>\n",
       "      <th>1</th>\n",
       "      <td>0</td>\n",
       "      <td>0</td>\n",
       "      <td>0</td>\n",
       "      <td>0</td>\n",
       "      <td>0</td>\n",
       "      <td>0</td>\n",
       "      <td>1</td>\n",
       "      <td>0</td>\n",
       "      <td>0</td>\n",
       "      <td>0</td>\n",
       "      <td>...</td>\n",
       "      <td>0</td>\n",
       "      <td>1</td>\n",
       "      <td>1</td>\n",
       "      <td>0</td>\n",
       "      <td>0</td>\n",
       "      <td>0</td>\n",
       "      <td>0</td>\n",
       "      <td>0</td>\n",
       "      <td>0</td>\n",
       "      <td>0</td>\n",
       "    </tr>\n",
       "    <tr>\n",
       "      <th>2</th>\n",
       "      <td>0</td>\n",
       "      <td>1</td>\n",
       "      <td>1</td>\n",
       "      <td>0</td>\n",
       "      <td>0</td>\n",
       "      <td>0</td>\n",
       "      <td>0</td>\n",
       "      <td>1</td>\n",
       "      <td>0</td>\n",
       "      <td>0</td>\n",
       "      <td>...</td>\n",
       "      <td>0</td>\n",
       "      <td>0</td>\n",
       "      <td>1</td>\n",
       "      <td>0</td>\n",
       "      <td>0</td>\n",
       "      <td>0</td>\n",
       "      <td>0</td>\n",
       "      <td>0</td>\n",
       "      <td>0</td>\n",
       "      <td>0</td>\n",
       "    </tr>\n",
       "  </tbody>\n",
       "</table>\n",
       "<p>3 rows × 84 columns</p>\n",
       "</div>"
      ],
      "text/plain": [
       "   Genre                                                                    \\\n",
       "  Action Adventure Animation Comedy Crime Documentary Drama Family Fantasy   \n",
       "0      0         0         0      1     0           0     1      1       0   \n",
       "1      0         0         0      0     0           0     1      0       0   \n",
       "2      0         1         1      0     0           0     0      1       0   \n",
       "\n",
       "           ... Release_year                    Numerical Country               \\\n",
       "  Foreign  ...          00s 10s Num_production_countries  Europe Oceania Asia   \n",
       "0       0  ...            1   0                        1       0       0    0   \n",
       "1       0  ...            0   1                        1       0       0    0   \n",
       "2       0  ...            0   0                        1       0       0    0   \n",
       "\n",
       "                                                  \n",
       "  Middle_East Latin_America North_America Africa  \n",
       "0           0             0             0      0  \n",
       "1           0             0             0      0  \n",
       "2           0             0             0      0  \n",
       "\n",
       "[3 rows x 84 columns]"
      ]
     },
     "execution_count": 2,
     "metadata": {},
     "output_type": "execute_result"
    }
   ],
   "source": [
    "box = pd.read_csv('../Data/Reduced_dimensions2.csv', index_col=0, header = [0,1])\n",
    "box.head(3)"
   ]
  },
  {
   "cell_type": "code",
   "execution_count": 3,
   "metadata": {},
   "outputs": [],
   "source": [
    "# Defines a mean absolute percentage error function\n",
    "def MAPE(true, pred):\n",
    "    MAPE = (np.sum(np.abs((true-pred)/true))/len(true))*100\n",
    "    return MAPE"
   ]
  },
  {
   "cell_type": "code",
   "execution_count": 4,
<<<<<<< Updated upstream
=======
   "id": "4425d255",
>>>>>>> Stashed changes
   "metadata": {},
   "outputs": [
    {
     "data": {
      "text/plain": [
       "MultiIndex([(        'Genre',                                 'Action'),\n",
       "            (        'Genre',                              'Adventure'),\n",
       "            (        'Genre',                              'Animation'),\n",
       "            (        'Genre',                                 'Comedy'),\n",
       "            (        'Genre',                                  'Crime'),\n",
       "            (        'Genre',                            'Documentary'),\n",
       "            (        'Genre',                                  'Drama'),\n",
       "            (        'Genre',                                 'Family'),\n",
       "            (        'Genre',                                'Fantasy'),\n",
       "            (        'Genre',                                'Foreign'),\n",
       "            (        'Genre',                                'History'),\n",
       "            (        'Genre',                                 'Horror'),\n",
       "            (        'Genre',                                  'Music'),\n",
       "            (        'Genre',                                'Mystery'),\n",
       "            (        'Genre',                               'No Genre'),\n",
       "            (        'Genre',                                'Romance'),\n",
       "            (        'Genre',                        'Science Fiction'),\n",
       "            (        'Genre',                               'Thriller'),\n",
       "            (        'Genre',                                    'War'),\n",
       "            (        'Genre',                                'Western'),\n",
       "            (      'Company',                      'Columbia Pictures'),\n",
       "            (      'Company',          'Columbia Pictures Corporation'),\n",
       "            (      'Company',              'Metro-Goldwyn-Mayer (MGM)'),\n",
       "            (      'Company',                        'New Line Cinema'),\n",
       "            (      'Company',                     'Paramount Pictures'),\n",
       "            (      'Company',                    'Touchstone Pictures'),\n",
       "            (      'Company', 'Twentieth Century Fox Film Corporation'),\n",
       "            (      'Company',                     'Universal Pictures'),\n",
       "            (      'Company',              'Village Roadshow Pictures'),\n",
       "            (      'Company',                   'Walt Disney Pictures'),\n",
       "            (      'Company',                           'Warner Bros.'),\n",
       "            (      'Country',                             'No Country'),\n",
       "            (      'Country',                         'United Kingdom'),\n",
       "            (      'Country',               'United States of America'),\n",
       "            (  'Spoken_lang',                                'English'),\n",
       "            (     'Keywords',                    'aftercreditsstinger'),\n",
       "            (     'Keywords',                         'based on novel'),\n",
       "            (     'Keywords',                              'biography'),\n",
       "            (     'Keywords',                   'duringcreditsstinger'),\n",
       "            (     'Keywords',                               'dystopia'),\n",
       "            (     'Keywords',                                 'murder'),\n",
       "            (     'Keywords',                               'new york'),\n",
       "            (     'Keywords',                                'revenge'),\n",
       "            (     'Keywords',                                 'sequel'),\n",
       "            (     'Keywords',                               'violence'),\n",
       "            (     'Keywords',                         'woman director'),\n",
       "            (  'Descriptive',                             'Collection'),\n",
       "            (    'Numerical',                                 'budget'),\n",
       "            (    'Numerical',                                'runtime'),\n",
       "            (    'Numerical',                                'revenue'),\n",
       "            (    'Numerical',                        'Overview_length'),\n",
       "            (    'Numerical',                             'Tag_length'),\n",
       "            ( 'Release_year',                                'No Year'),\n",
       "            ('Release_month',                                      '1'),\n",
       "            ('Release_month',                                      '2'),\n",
       "            ('Release_month',                                      '3'),\n",
       "            ('Release_month',                                      '4'),\n",
       "            ('Release_month',                                      '5'),\n",
       "            ('Release_month',                                      '6'),\n",
       "            ('Release_month',                                      '7'),\n",
       "            ('Release_month',                                      '8'),\n",
       "            ('Release_month',                                      '9'),\n",
       "            ('Release_month',                                     '10'),\n",
       "            ('Release_month',                                     '11'),\n",
       "            ('Release_month',                                     '12'),\n",
       "            (    'Numerical',                           'Num_keywords'),\n",
       "            (    'Numerical',                          'Num_companies'),\n",
       "            (      'Company',                   'Company_quartile_1st'),\n",
       "            (      'Company',                   'Company_quartile_2nd'),\n",
       "            (      'Company',                   'Company_quartile_3rd'),\n",
       "            (      'Company',                   'Company_quartile_4th'),\n",
       "            ( 'Release_year',                                    '70s'),\n",
       "            ( 'Release_year',                                    '80s'),\n",
       "            ( 'Release_year',                                    '90s'),\n",
       "            ( 'Release_year',                                    '00s'),\n",
       "            ( 'Release_year',                                    '10s'),\n",
       "            (    'Numerical',               'Num_production_countries'),\n",
       "            (      'Country',                                 'Europe'),\n",
       "            (      'Country',                                'Oceania'),\n",
       "            (      'Country',                                   'Asia'),\n",
       "            (      'Country',                            'Middle_East'),\n",
       "            (      'Country',                          'Latin_America'),\n",
       "            (      'Country',                          'North_America'),\n",
       "            (      'Country',                                 'Africa')],\n",
       "           )"
      ]
     },
     "execution_count": 4,
     "metadata": {},
     "output_type": "execute_result"
    }
   ],
   "source": [
    "box.columns"
   ]
  },
  {
   "cell_type": "markdown",
   "metadata": {},
   "source": [
    "### Defining an initial tier\n",
    "\n",
    "A group of movies that immediately come to mind when I think of a group of films are 'blockbuster' action sequels from the summer release and christmas release season."
   ]
  },
  {
   "cell_type": "code",
<<<<<<< Updated upstream
   "execution_count": 5,
=======
   "execution_count": 69,
   "id": "9d5af122",
>>>>>>> Stashed changes
   "metadata": {},
   "outputs": [
    {
     "data": {
      "text/plain": [
       "(75, 84)"
      ]
     },
     "execution_count": 69,
     "metadata": {},
     "output_type": "execute_result"
    }
   ],
   "source": [
    "# Gives me 545 films\n",
    "tier = box[box['Genre', 'Action'] == 1]\n",
    "# Films that are action films AND sequels gives me 211 films to model\n",
    "tier = tier[tier['Descriptive', 'Collection']==1]\n",
    "# Limiting to action films released in June, July, or December that were also sequels leaves me with 75 films. \n",
    "tier = tier[(tier['Release_month', '7']==1) | (tier['Release_month', '12']==1) | (tier['Release_month', '6']==1)]\n",
    "tier.shape"
   ]
  },
  {
   "cell_type": "code",
<<<<<<< Updated upstream
   "execution_count": 6,
=======
   "execution_count": 70,
   "id": "3f7715d2",
>>>>>>> Stashed changes
   "metadata": {},
   "outputs": [
    {
     "data": {
      "text/plain": [
       "(75, 73)"
      ]
     },
     "execution_count": 70,
     "metadata": {},
     "output_type": "execute_result"
    }
   ],
   "source": [
    "# drop all columns that are redundant, we know these films are sequels and that they aren't released in the below months\n",
    "tier_1 = tier.drop(['Action', 'Collection', '1', '2', '3', '4', '5', '8', '9', '10', '11'], level=1, axis=1)\n",
    "y = np.log(tier_1['Numerical', 'revenue'])\n",
    "X = tier_1.drop('revenue', level=1, axis=1)\n",
    "tier_1.shape"
   ]
  },
  {
   "cell_type": "code",
   "execution_count": 7,
<<<<<<< Updated upstream
=======
   "id": "15ddc393",
>>>>>>> Stashed changes
   "metadata": {},
   "outputs": [
    {
     "data": {
      "image/png": "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\n",
      "text/plain": [
       "<Figure size 432x288 with 1 Axes>"
      ]
     },
     "metadata": {
      "needs_background": "light"
     },
     "output_type": "display_data"
    }
   ],
   "source": [
    "sns.histplot(data=tier_1, x=('Numerical', 'revenue'), stat='count', bins=30);"
   ]
  },
  {
   "cell_type": "code",
<<<<<<< Updated upstream
   "execution_count": 8,
=======
   "execution_count": 71,
   "id": "97540c0f",
>>>>>>> Stashed changes
   "metadata": {},
   "outputs": [],
   "source": [
    "scaler = MinMaxScaler()\n",
    "scaler.fit(X['Numerical'])\n",
    "X['Numerical'] = scaler.transform(X['Numerical'])\n",
    "X_train, X_test, y_train, y_test = train_test_split(X, y, test_size=0.2, random_state=42)\n",
    "exp_y_test = np.exp(y_test)"
   ]
  },
  {
   "cell_type": "code",
   "execution_count": 9,
   "metadata": {},
   "outputs": [
    {
     "data": {
      "text/plain": [
       "{'R2': 0.32671542788751373,\n",
       " 'RMSE': 59757108.38212206,\n",
       " 'MAE': 47228637.108536676,\n",
       " 'MAPE': 64.83750315046007}"
      ]
     },
     "execution_count": 9,
     "metadata": {},
     "output_type": "execute_result"
    }
   ],
   "source": [
    "gb = GradientBoostingRegressor(random_state=42)\n",
    "gb.fit(X_train, y_train)\n",
    "tier_1_preds = gb.predict(X_test)\n",
    "tier_1_preds = np.exp(tier_1_preds)\n",
    "r2_1 = r2_score(exp_y_test, tier_1_preds)\n",
    "RMSE_1 = mean_squared_error(exp_y_test, tier_1_preds, squared=False)\n",
    "MAE_1 = mean_absolute_error(exp_y_test, tier_1_preds)\n",
    "MAPE_1 = MAPE(exp_y_test, tier_1_preds)\n",
    "scores_1 = {'R2':r2_1, 'RMSE':RMSE_1, \"MAE\":MAE_1, \"MAPE\":MAPE_1}\n",
    "scores_1"
   ]
  },
  {
   "cell_type": "markdown",
   "metadata": {},
   "source": [
    "#### We have great results!\n",
    "\n",
    "Modelling with gradient boosting regression models has reduced the MAPE to around 60-70 (depending on the random state of the model).  Next I'm going to try to tune hyperparameters to see if I can reduce that down to below 20%."
   ]
  },
  {
   "cell_type": "code",
   "execution_count": 10,
   "metadata": {},
   "outputs": [
    {
     "name": "stdout",
     "output_type": "stream",
     "text": [
      "GB best score:  0.3040560018075172\n",
      "GB best parameters:  {'n_estimators': 866, 'min_samples_split': 9, 'max_depth': 16, 'learning_rate': 0.001}\n"
     ]
    }
   ],
   "source": [
    "params = {'n_estimators':np.arange(10,200), 'max_depth':np.arange(1,20), \n",
    "          'min_samples_split': np.arange(2,10), 'learning_rate': [0.000001, 0.00001, 0.0001, 0.001, 0.01, 0.1, 1]}\n",
    "\"\"\"grade = GradientBoostingRegressor(random_state=42)\n",
    "gradient = RandomizedSearchCV(grade, param_distributions=params, n_iter=500)\n",
    "gradient.fit(X_train, y_train)\n",
    "grade_best_score = gradient.best_score_\n",
    "grade_best_params = gradient.best_params_\n",
    "print('GB best score: ', grade_best_score)\n",
    "print('GB best parameters: ', grade_best_params)\"\"\""
   ]
  },
  {
   "cell_type": "code",
<<<<<<< Updated upstream
   "execution_count": 11,
=======
   "execution_count": 72,
   "id": "829405c7",
>>>>>>> Stashed changes
   "metadata": {},
   "outputs": [
    {
     "data": {
      "text/plain": [
       "{'R2': 0.12789602390916466,\n",
       " 'RMSE': 68010250.70434317,\n",
       " 'MAE': 54865186.744797446,\n",
       " 'MAPE': 69.12566596424267}"
      ]
     },
     "execution_count": 72,
     "metadata": {},
     "output_type": "execute_result"
    }
   ],
   "source": [
    "# Testing new optimized GradientBooster with 'best' hyperparameters:  (grid search score of 0.30405)\n",
    "gb = GradientBoostingRegressor(n_estimators = 866, min_samples_split = 9, max_depth=16, learning_rate=0.001, random_state=42)\n",
    "gb.fit(X_train, y_train)\n",
    "tier_1_preds = gb.predict(X_test)\n",
    "tier_1_preds = np.exp(tier_1_preds)\n",
    "r2_1o = r2_score(exp_y_test, tier_1_preds)\n",
    "RMSE_1o = mean_squared_error(exp_y_test, tier_1_preds, squared=False)\n",
    "MAE_1o = mean_absolute_error(exp_y_test, tier_1_preds)\n",
    "MAPE_1o = MAPE(exp_y_test, tier_1_preds)\n",
    "scores_1o = {'R2':r2_1o, 'RMSE':RMSE_1o, \"MAE\":MAE_1o, \"MAPE\":MAPE_1o}\n",
    "scores_1o"
   ]
  },
  {
   "cell_type": "markdown",
<<<<<<< Updated upstream
=======
   "id": "6f3c687e",
>>>>>>> Stashed changes
   "metadata": {},
   "source": [
    "## Attempting different tier configurations for better results:\n",
    "\n",
    "This is an excellent imrprovement in model accuracy, next I'll need to construct some additional tiers to compare and assess which tiers will form the basis for modelling revenue over the entire data set by dividing it into similar tiers. "
   ]
  },
  {
   "cell_type": "markdown",
<<<<<<< Updated upstream
=======
   "id": "2f87bdb3",
>>>>>>> Stashed changes
   "metadata": {},
   "source": [
    "#### Action films that are not part of a collection released in the summer/holiday blockbuster seasons"
   ]
  },
  {
   "cell_type": "code",
<<<<<<< Updated upstream
   "execution_count": 12,
=======
   "execution_count": 64,
   "id": "4cc28ea2",
>>>>>>> Stashed changes
   "metadata": {},
   "outputs": [],
   "source": [
    "#This leaves me with 334 films\n",
    "tier = box[(box['Genre', 'Action']==1)&(box['Descriptive', 'Collection']==0)]\n",
    "#This leaves me with 92 films\n",
    "tier_2 = tier[(tier['Release_month', '7']==1) | (tier['Release_month', '12']==1) | (tier['Release_month', '6']==1)]"
   ]
  },
  {
   "cell_type": "code",
   "execution_count": 13,
<<<<<<< Updated upstream
=======
   "id": "863a2d21",
>>>>>>> Stashed changes
   "metadata": {},
   "outputs": [
    {
     "data": {
      "image/png": "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\n",
      "text/plain": [
       "<Figure size 432x288 with 1 Axes>"
      ]
     },
     "metadata": {
      "needs_background": "light"
     },
     "output_type": "display_data"
    }
   ],
   "source": [
    "sns.histplot(data=tier_2, x=('Numerical', 'revenue'), stat='count', bins=30);"
   ]
  },
  {
   "cell_type": "markdown",
<<<<<<< Updated upstream
=======
   "id": "5fa83205",
>>>>>>> Stashed changes
   "metadata": {},
   "source": [
    "It's notable that films who are part of a sequel and released around the same time tend to have revenue that closely mirrors the  distribution of films which don't have sequels."
   ]
  },
  {
   "cell_type": "code",
<<<<<<< Updated upstream
   "execution_count": 14,
=======
   "execution_count": 65,
   "id": "e1fc48e2",
>>>>>>> Stashed changes
   "metadata": {},
   "outputs": [
    {
     "data": {
      "text/plain": [
       "(92, 73)"
      ]
     },
     "execution_count": 65,
     "metadata": {},
     "output_type": "execute_result"
    }
   ],
   "source": [
    "tier_2 = tier_2.drop(['Action', 'Collection', '1', '2', '3', '4', '5', '8', '9', '10', '11'], level=1, axis=1)\n",
    "y = np.log(tier_2['Numerical', 'revenue'])\n",
    "X = tier_2.drop('revenue', level=1, axis=1)\n",
    "tier_2.shape"
   ]
  },
  {
   "cell_type": "code",
<<<<<<< Updated upstream
   "execution_count": 15,
=======
   "execution_count": 66,
   "id": "a16ed1b5",
>>>>>>> Stashed changes
   "metadata": {},
   "outputs": [],
   "source": [
    "scaler = MinMaxScaler()\n",
    "scaler.fit(X['Numerical'])\n",
    "X['Numerical'] = scaler.transform(X['Numerical'])\n",
    "X_train, X_test, y_train, y_test = train_test_split(X, y, test_size=0.2, random_state=42)\n",
    "exp_y_test = np.exp(y_test)"
   ]
  },
  {
   "cell_type": "code",
   "execution_count": 16,
<<<<<<< Updated upstream
=======
   "id": "944ed366",
>>>>>>> Stashed changes
   "metadata": {},
   "outputs": [
    {
     "data": {
      "text/plain": [
       "{'R2': -0.17415962614488478,\n",
       " 'RMSE': 69185218.05627221,\n",
       " 'MAE': 55579830.580914006,\n",
       " 'MAPE': 75.52951829781011}"
      ]
     },
     "execution_count": 16,
     "metadata": {},
     "output_type": "execute_result"
    }
   ],
   "source": [
    "gb = GradientBoostingRegressor(random_state=42)\n",
    "gb.fit(X_train, y_train)\n",
    "tier_2_preds = gb.predict(X_test)\n",
    "tier_2_preds = np.exp(tier_2_preds)\n",
    "r2_2 = r2_score(exp_y_test, tier_2_preds)\n",
    "RMSE_2 = mean_squared_error(exp_y_test, tier_2_preds, squared=False)\n",
    "MAE_2 = mean_absolute_error(exp_y_test, tier_2_preds)\n",
    "MAPE_2 = MAPE(exp_y_test, tier_2_preds)\n",
    "scores_2 = {'R2':r2_2, 'RMSE':RMSE_2, \"MAE\":MAE_2, \"MAPE\":MAPE_2}\n",
    "scores_2"
   ]
  },
  {
   "cell_type": "code",
   "execution_count": 17,
<<<<<<< Updated upstream
=======
   "id": "30f3b32d",
>>>>>>> Stashed changes
   "metadata": {},
   "outputs": [
    {
     "name": "stdout",
     "output_type": "stream",
     "text": [
      "GB best score:  -0.01175441137561315\n",
      "GB best parameters:  {'n_estimators': 934, 'min_samples_split': 3, 'max_depth': 2, 'learning_rate': 0.001}\n"
     ]
    }
   ],
   "source": [
    "params = {'n_estimators':np.arange(5,150), 'max_depth':np.arange(1,6), \n",
    "          'min_samples_split': np.arange(2,10), 'learning_rate': [0.0001, 0.001, 0.01, 0.1, 1]}\n",
    "\"\"\"grade = GradientBoostingRegressor(random_state=42)\n",
    "gradient = RandomizedSearchCV(grade, param_distributions=params, n_iter=500)\n",
    "gradient.fit(X_train, y_train)\n",
    "grade_best_score = gradient.best_score_\n",
    "grade_best_params = gradient.best_params_\n",
    "print('GB best score: ', grade_best_score)\n",
    "print('GB best parameters: ', grade_best_params)\"\"\""
   ]
  },
  {
   "cell_type": "code",
<<<<<<< Updated upstream
   "execution_count": 18,
=======
   "execution_count": 68,
   "id": "99bd7a52",
>>>>>>> Stashed changes
   "metadata": {},
   "outputs": [
    {
     "data": {
      "text/plain": [
       "{'R2': -0.10788353531933548,\n",
       " 'RMSE': 67204258.97189832,\n",
       " 'MAE': 49132609.22616462,\n",
       " 'MAPE': 175.4833953664489}"
      ]
     },
     "execution_count": 68,
     "metadata": {},
     "output_type": "execute_result"
    }
   ],
   "source": [
    "# ''best' Hyperparameters with RSCV score of -0.0036\n",
    "gb = GradientBoostingRegressor(n_estimators = 94, min_samples_split=4, max_depth=2, learning_rate=0.01, random_state=42)\n",
    "gb.fit(X_train, y_train)\n",
    "tier_2_preds = gb.predict(X_test)\n",
    "tier_2_preds = np.exp(tier_2_preds)\n",
    "r2_2o = r2_score(exp_y_test, tier_2_preds)\n",
    "RMSE_2o = mean_squared_error(exp_y_test, tier_2_preds, squared=False)\n",
    "MAE_2o = mean_absolute_error(exp_y_test, tier_2_preds)\n",
    "MAPE_2o = MAPE(exp_y_test, tier_2_preds)\n",
    "scores_2o = {'R2':r2_2o, 'RMSE':RMSE_2o, \"MAE\":MAE_2o, \"MAPE\":MAPE_2o}\n",
    "scores_2o"
   ]
  },
  {
   "cell_type": "markdown",
<<<<<<< Updated upstream
=======
   "id": "f684e37c",
>>>>>>> Stashed changes
   "metadata": {},
   "source": [
    "#### Drama films that don't belong to a collection and are released in the same time period as the above action films"
   ]
  },
  {
   "cell_type": "code",
<<<<<<< Updated upstream
   "execution_count": 19,
=======
   "execution_count": 59,
   "id": "cbc5f51f",
>>>>>>> Stashed changes
   "metadata": {},
   "outputs": [
    {
     "data": {
      "text/plain": [
       "(231, 84)"
      ]
     },
     "execution_count": 59,
     "metadata": {},
     "output_type": "execute_result"
    }
   ],
   "source": [
    "#This leaves me with 756 films\n",
    "tier = box[(box['Genre', 'Drama']==1)&(box['Descriptive', 'Collection']==0)]\n",
    "#This leaves me with 231 films\n",
    "tier_3 = tier[(tier['Release_month', '7']==1) | (tier['Release_month', '12']==1) | (tier['Release_month', '6']==1)]\n",
    "tier_3.shape"
   ]
  },
  {
   "cell_type": "code",
<<<<<<< Updated upstream
   "execution_count": 20,
=======
   "execution_count": 60,
   "id": "dd9d9f9b",
>>>>>>> Stashed changes
   "metadata": {},
   "outputs": [
    {
     "data": {
      "text/plain": [
       "(231, 73)"
      ]
     },
     "execution_count": 60,
     "metadata": {},
     "output_type": "execute_result"
    }
   ],
   "source": [
    "tier_3 = tier_3.drop(['Drama', 'Collection', '1', '2', '3', '4', '5', '8', '9', '10', '11'], level=1, axis=1)\n",
    "y = np.log(tier_3['Numerical', 'revenue'])\n",
    "X = tier_3.drop('revenue', level=1, axis=1)\n",
    "tier_3.shape"
   ]
  },
  {
   "cell_type": "code",
<<<<<<< Updated upstream
   "execution_count": 21,
=======
   "execution_count": 61,
   "id": "0d0e5ada",
>>>>>>> Stashed changes
   "metadata": {},
   "outputs": [],
   "source": [
    "scaler = MinMaxScaler()\n",
    "scaler.fit(X['Numerical'])\n",
    "X['Numerical'] = scaler.transform(X['Numerical'])\n",
    "X_train, X_test, y_train, y_test = train_test_split(X, y, test_size=0.2, random_state=42)\n",
    "exp_y_test = np.exp(y_test)"
   ]
  },
  {
   "cell_type": "code",
   "execution_count": 22,
<<<<<<< Updated upstream
=======
   "id": "0327c0ff",
>>>>>>> Stashed changes
   "metadata": {},
   "outputs": [
    {
     "data": {
      "text/plain": [
       "{'R2': 0.3720685906855271,\n",
       " 'RMSE': 48649514.438853316,\n",
       " 'MAE': 34601631.62195546,\n",
       " 'MAPE': 69.5780336200648}"
      ]
     },
     "execution_count": 22,
     "metadata": {},
     "output_type": "execute_result"
    }
   ],
   "source": [
    "gb = GradientBoostingRegressor(n_estimators=9030, min_samples_split=7, max_depth=1, learning_rate=0.001, random_state=42)\n",
    "gb.fit(X_train, y_train)\n",
    "tier_3_preds = gb.predict(X_test)\n",
    "tier_3_preds = np.exp(tier_3_preds)\n",
    "r2_3 = r2_score(exp_y_test, tier_3_preds)\n",
    "RMSE_3 = mean_squared_error(exp_y_test, tier_3_preds, squared=False)\n",
    "MAE_3 = mean_absolute_error(exp_y_test, tier_3_preds)\n",
    "MAPE_3 = MAPE(exp_y_test, tier_3_preds)\n",
    "scores_3 = {'R2':r2_3, 'RMSE':RMSE_3, \"MAE\":MAE_3, \"MAPE\":MAPE_3}\n",
    "scores_3"
   ]
  },
  {
   "cell_type": "code",
<<<<<<< Updated upstream
   "execution_count": null,
   "metadata": {},
   "outputs": [],
=======
   "execution_count": 23,
   "id": "38f5ae7b",
   "metadata": {},
   "outputs": [
    {
     "name": "stdout",
     "output_type": "stream",
     "text": [
      "GB best score:  0.5927721327688489\n",
      "GB best parameters:  {'n_estimators': 2935, 'min_samples_split': 3, 'max_depth': 2, 'learning_rate': 0.001}\n"
     ]
    }
   ],
>>>>>>> Stashed changes
   "source": [
    "params = {'n_estimators':np.arange(8000,10000), 'max_depth':np.arange(1,5), \n",
    "          'min_samples_split': np.arange(2,10), 'learning_rate': [0.001, 0.01, 0.1, 1]}\n",
    "\"\"\"grade = GradientBoostingRegressor(random_state=42)\n",
    "gradient = RandomizedSearchCV(grade, param_distributions=params, n_iter=500)\n",
    "gradient.fit(X_train, y_train)\n",
    "grade_best_score = gradient.best_score_\n",
    "grade_best_params = gradient.best_params_\n",
    "print('GB best score: ', grade_best_score)\n",
    "print('GB best parameters: ', grade_best_params)\"\"\""
   ]
  },
  {
   "cell_type": "code",
<<<<<<< Updated upstream
   "execution_count": null,
   "metadata": {},
   "outputs": [],
   "source": [
    "# grid search score of 0.5649\n",
    "gb = GradientBoostingRegressor(n_estimators=8521, min_samples_split=5, max_depth=1, learning_rate=0.001, random_state=42)\n",
=======
   "execution_count": 63,
   "id": "4b967433",
   "metadata": {},
   "outputs": [
    {
     "data": {
      "text/plain": [
       "{'R2': 0.3346515476305847,\n",
       " 'RMSE': 50078000.707533635,\n",
       " 'MAE': 33099573.824905872,\n",
       " 'MAPE': 106.7869269248342}"
      ]
     },
     "execution_count": 63,
     "metadata": {},
     "output_type": "execute_result"
    }
   ],
   "source": [
    "# grid search score of 0.5649\n",
    "gb = GradientBoostingRegressor(n_estimators=2935, min_samples_split=3, max_depth=2, learning_rate=0.001, random_state=42)\n",
>>>>>>> Stashed changes
    "gb.fit(X_train, y_train)\n",
    "tier_3_preds = gb.predict(X_test)\n",
    "tier_3_preds = np.exp(tier_3_preds)\n",
    "r2_3o = r2_score(exp_y_test, tier_3_preds)\n",
    "RMSE_3o = mean_squared_error(exp_y_test, tier_3_preds, squared=False)\n",
    "MAE_3o = mean_absolute_error(exp_y_test, tier_3_preds)\n",
    "MAPE_3o = MAPE(exp_y_test, tier_3_preds)\n",
    "scores_3o = {'R2':r2_3o, 'RMSE':RMSE_3o, \"MAE\":MAE_3o, \"MAPE\":MAPE_3o}\n",
    "scores_3o"
   ]
  },
  {
   "cell_type": "markdown",
<<<<<<< Updated upstream
=======
   "id": "a2850e13",
>>>>>>> Stashed changes
   "metadata": {},
   "source": [
    "#### Trying a different approach to tiered segmentation: Examining Disney films, which generally are considered a 'genre' on their own."
   ]
  },
  {
   "cell_type": "code",
<<<<<<< Updated upstream
   "execution_count": null,
=======
   "execution_count": 25,
   "id": "6d790f33",
>>>>>>> Stashed changes
   "metadata": {},
   "outputs": [],
   "source": [
    "tier_4 = box[box['Company', 'Walt Disney Pictures']==1]\n",
    "tier_4.shape"
   ]
  },
  {
   "cell_type": "code",
<<<<<<< Updated upstream
   "execution_count": null,
=======
   "execution_count": 26,
   "id": "42e918e5",
>>>>>>> Stashed changes
   "metadata": {},
   "outputs": [],
   "source": [
    "tier_4 = tier_4.drop('Walt Disney Pictures', level=1, axis=1)\n",
    "y = np.log(tier_4['Numerical', 'revenue'])\n",
    "X = tier_4.drop('revenue', level=1, axis=1)\n",
    "tier_4.shape"
   ]
  },
  {
   "cell_type": "code",
<<<<<<< Updated upstream
   "execution_count": null,
=======
   "execution_count": 27,
   "id": "de4cfabb",
>>>>>>> Stashed changes
   "metadata": {},
   "outputs": [],
   "source": [
    "sns.histplot(data=tier_4, x=('Numerical', 'revenue'), stat='count', bins=30);"
   ]
  },
  {
   "cell_type": "code",
<<<<<<< Updated upstream
   "execution_count": null,
=======
   "execution_count": 28,
   "id": "b0eec610",
>>>>>>> Stashed changes
   "metadata": {},
   "outputs": [],
   "source": [
    "scaler = MinMaxScaler()\n",
    "scaler.fit(X['Numerical'])\n",
    "X['Numerical'] = scaler.transform(X['Numerical'])\n",
    "X_train, X_test, y_train, y_test = train_test_split(X, y, test_size=0.2, random_state=42)\n",
    "exp_y_test = np.exp(y_test)"
   ]
  },
  {
   "cell_type": "code",
<<<<<<< Updated upstream
   "execution_count": null,
=======
   "execution_count": 29,
   "id": "0a8e0dba",
>>>>>>> Stashed changes
   "metadata": {},
   "outputs": [],
   "source": [
    "Dgb = GradientBoostingRegressor(n_estimators=9823, min_samples_split=3, max_depth=53, learning_rate = 1e-06, random_state=42)\n",
    "Dgb.fit(X_train, y_train)\n",
    "tier_4_preds = Dgb.predict(X_test)\n",
    "tier_4_preds = np.exp(tier_4_preds)\n",
    "r2_4 = r2_score(exp_y_test, tier_4_preds)\n",
    "RMSE_4 = mean_squared_error(exp_y_test, tier_4_preds, squared=False)\n",
    "MAE_4 = mean_absolute_error(exp_y_test, tier_4_preds)\n",
    "MAPE_4 = MAPE(exp_y_test, tier_4_preds)\n",
    "residuals = exp_y_test - tier_4_preds\n",
    "scores_4 = {'R2':r2_4, 'RMSE':RMSE_4, \"MAE\":MAE_4, \"MAPE\":MAPE_4}\n",
    "scores_4"
   ]
  },
  {
   "cell_type": "markdown",
<<<<<<< Updated upstream
=======
   "id": "2f819fc4",
>>>>>>> Stashed changes
   "metadata": {},
   "source": [
    "This is far more accurate, but we're approaching a smaller sample size.  It could simply be that the model is performing better on a smaller set of data.  As I shrink the sample size the MAPE is shrinking, and as I increase the sample size the MAPE is growing.  I'll test on two more tiers of films. "
   ]
  },
  {
   "cell_type": "code",
<<<<<<< Updated upstream
   "execution_count": null,
   "metadata": {},
   "outputs": [],
=======
   "execution_count": 30,
   "id": "488cd0fb",
   "metadata": {},
   "outputs": [
    {
     "name": "stdout",
     "output_type": "stream",
     "text": [
      "GB best score:  -0.3057129222619737\n",
      "GB best parameters:  {'n_estimators': 9784, 'min_samples_split': 3, 'max_depth': 43, 'learning_rate': 1e-06}\n"
     ]
    }
   ],
>>>>>>> Stashed changes
   "source": [
    "params = {'n_estimators':np.arange(7000,10000), 'max_depth':np.arange(30,70), \n",
    "          'min_samples_split': np.arange(2,6), 'learning_rate': [0.000001, 0.00001, 0.0001]}\n",
    "\"\"\"grade = GradientBoostingRegressor(random_state=42)\n",
    "gradient = RandomizedSearchCV(grade, param_distributions=params, n_iter=500)\n",
    "gradient.fit(X_train, y_train)\n",
    "grade_best_score = gradient.best_score_\n",
    "grade_best_params = gradient.best_params_\n",
    "print('GB best score: ', grade_best_score)\n",
    "print('GB best parameters: ', grade_best_params)\"\"\""
   ]
  },
  {
   "cell_type": "code",
<<<<<<< Updated upstream
   "execution_count": null,
=======
   "execution_count": 31,
   "id": "db57ec44",
>>>>>>> Stashed changes
   "metadata": {},
   "outputs": [],
   "source": [
    "# rscv score of -0.30571\n",
    "gb = GradientBoostingRegressor(n_estimators=9789, min_samples_split=3, max_depth=42, learning_rate = 1e-06, random_state=42)\n",
    "gb.fit(X_train, y_train)\n",
    "tier_4_preds = gb.predict(X_test)\n",
    "tier_4_preds = np.exp(tier_4_preds)\n",
    "r2_4o = r2_score(exp_y_test, tier_4_preds)\n",
    "RMSE_4o = mean_squared_error(exp_y_test, tier_4_preds, squared=False)\n",
    "MAE_4o = mean_absolute_error(exp_y_test, tier_4_preds)\n",
    "MAPE_4o = MAPE(exp_y_test, tier_4_preds)\n",
    "scores_4o = {'R2':r2_4o, 'RMSE':RMSE_4o, \"MAE\":MAE_4o, \"MAPE\":MAPE_4o}\n",
    "scores_4o"
   ]
  },
  {
   "cell_type": "markdown",
<<<<<<< Updated upstream
=======
   "id": "0cd302b0",
>>>>>>> Stashed changes
   "metadata": {},
   "source": [
    "#### Attempting this tiered model on Family animation films, as a way to target the same 'type' of film as Disney films"
   ]
  },
  {
   "cell_type": "code",
<<<<<<< Updated upstream
   "execution_count": null,
=======
   "execution_count": 32,
   "id": "f64db523",
>>>>>>> Stashed changes
   "metadata": {},
   "outputs": [],
   "source": [
    "tier_5 = box[(box['Genre', 'Animation']==1)&(box['Genre', 'Family']==1)]\n",
    "tier_5.shape"
   ]
  },
  {
   "cell_type": "code",
<<<<<<< Updated upstream
   "execution_count": null,
=======
   "execution_count": 33,
   "id": "537bdf7a",
>>>>>>> Stashed changes
   "metadata": {},
   "outputs": [],
   "source": [
    "sns.histplot(data=tier_5, x=('Numerical', 'revenue'), stat='count');"
   ]
  },
  {
   "cell_type": "markdown",
<<<<<<< Updated upstream
=======
   "id": "5b3984f3",
>>>>>>> Stashed changes
   "metadata": {},
   "source": [
    "This revenue distribution appears far more normal than others, hopefully this results in better predictive power"
   ]
  },
  {
   "cell_type": "code",
<<<<<<< Updated upstream
   "execution_count": null,
=======
   "execution_count": 34,
   "id": "1bd862c4",
>>>>>>> Stashed changes
   "metadata": {},
   "outputs": [],
   "source": [
    "tier_5 = tier_5.drop(['Animation', 'Family'], level=1, axis=1)\n",
    "y = np.log(tier_5['Numerical', 'revenue'])\n",
    "X = tier_5.drop('revenue', level=1, axis=1)\n",
    "tier_5.shape"
   ]
  },
  {
   "cell_type": "code",
<<<<<<< Updated upstream
   "execution_count": null,
=======
   "execution_count": 35,
   "id": "a46ada32",
>>>>>>> Stashed changes
   "metadata": {},
   "outputs": [],
   "source": [
    "scaler = MinMaxScaler()\n",
    "scaler.fit(X['Numerical'])\n",
    "X['Numerical'] = scaler.transform(X['Numerical'])\n",
    "X_train, X_test, y_train, y_test = train_test_split(X, y, test_size=0.2, random_state=42)\n",
    "exp_y_test = np.exp(y_test)"
   ]
  },
  {
   "cell_type": "code",
<<<<<<< Updated upstream
   "execution_count": null,
=======
   "execution_count": 36,
   "id": "a047fd01",
>>>>>>> Stashed changes
   "metadata": {},
   "outputs": [],
   "source": [
    "gb = GradientBoostingRegressor(random_state=42)\n",
    "gb.fit(X_train, y_train)\n",
    "tier_5_preds = gb.predict(X_test)\n",
    "tier_5_preds = np.exp(tier_5_preds)\n",
    "r2_5 = r2_score(exp_y_test, tier_5_preds)\n",
    "RMSE_5 = mean_squared_error(exp_y_test, tier_5_preds, squared=False)\n",
    "MAE_5 = mean_absolute_error(exp_y_test, tier_5_preds)\n",
    "MAPE_5 = MAPE(exp_y_test, tier_5_preds)\n",
    "scores_5 = {'R2':r2_5, 'RMSE':RMSE_5, \"MAE\":MAE_5, \"MAPE\":MAPE_5}\n",
    "scores_5"
   ]
  },
  {
   "cell_type": "code",
<<<<<<< Updated upstream
   "execution_count": null,
   "metadata": {},
   "outputs": [],
=======
   "execution_count": 37,
   "id": "a7293632",
   "metadata": {},
   "outputs": [
    {
     "name": "stdout",
     "output_type": "stream",
     "text": [
      "GB best score:  0.32883030247904566\n",
      "GB best parameters:  {'n_estimators': 1272, 'min_samples_split': 3, 'max_depth': 6, 'learning_rate': 0.001}\n"
     ]
    }
   ],
>>>>>>> Stashed changes
   "source": [
    "params = {'n_estimators':np.arange(800,5010), 'max_depth':np.arange(1,10), \n",
    "          'min_samples_split': np.arange(2,5), 'learning_rate': [0.001, 0.01, 0.1, 1]}\n",
    "grade = GradientBoostingRegressor(random_state=42)\n",
    "gradient = RandomizedSearchCV(grade, param_distributions=params, n_iter=500)\n",
    "gradient.fit(X_train, y_train)\n",
    "grade_best_score = gradient.best_score_\n",
    "grade_best_params = gradient.best_params_\n",
    "print('GB best score: ', grade_best_score)\n",
    "print('GB best parameters: ', grade_best_params)"
   ]
  },
  {
   "cell_type": "code",
<<<<<<< Updated upstream
   "execution_count": null,
=======
   "execution_count": 38,
   "id": "42d6f1a7",
>>>>>>> Stashed changes
   "metadata": {},
   "outputs": [],
   "source": [
    "#rscv score of 0.34579\n",
    "gb = GradientBoostingRegressor(n_estimators=1169, min_samples_split=2, max_depth=5, learning_rate=0.001, random_state=42)\n",
    "gb.fit(X_train, y_train)\n",
    "tier_5_preds = gb.predict(X_test)\n",
    "tier_5_preds = np.exp(tier_5_preds)\n",
    "r2_5o = r2_score(exp_y_test, tier_5_preds)\n",
    "RMSE_5o = mean_squared_error(exp_y_test, tier_5_preds, squared=False)\n",
    "MAE_5o = mean_absolute_error(exp_y_test, tier_5_preds)\n",
    "MAPE_5o = MAPE(exp_y_test, tier_5_preds)\n",
    "scores_5o = {'R2':r2_5o, 'RMSE':RMSE_5o, \"MAE\":MAE_5o, \"MAPE\":MAPE_5o}\n",
    "scores_5o"
   ]
  },
  {
   "cell_type": "markdown",
<<<<<<< Updated upstream
=======
   "id": "79dd2c64",
>>>>>>> Stashed changes
   "metadata": {},
   "source": [
    "#### Finally attempting this on films not produced in the US but which still have english as their spoken language"
   ]
  },
  {
   "cell_type": "code",
<<<<<<< Updated upstream
   "execution_count": null,
   "metadata": {},
   "outputs": [],
=======
   "execution_count": 55,
   "id": "92bd2f70",
   "metadata": {},
   "outputs": [
    {
     "data": {
      "text/plain": [
       "(154, 84)"
      ]
     },
     "execution_count": 55,
     "metadata": {},
     "output_type": "execute_result"
    }
   ],
>>>>>>> Stashed changes
   "source": [
    "tier_6 = box[box['Country', 'United States of America']==0]\n",
    "tier_6 = tier_6[tier_6['Spoken_lang', 'English']==1]\n",
    "tier_6.shape"
   ]
  },
  {
   "cell_type": "code",
<<<<<<< Updated upstream
   "execution_count": null,
=======
   "execution_count": 40,
   "id": "10e98b52",
>>>>>>> Stashed changes
   "metadata": {},
   "outputs": [],
   "source": [
    "sns.histplot(data=tier_6, x=('Numerical', 'revenue'), stat='count');"
   ]
  },
  {
   "cell_type": "markdown",
<<<<<<< Updated upstream
=======
   "id": "9e06e9f5",
>>>>>>> Stashed changes
   "metadata": {},
   "source": [
    "In theory, the revenue not being normally distributed will make the model perform worse, however that didn't improve performance at all in the previous use case (with or without using a log transform - log transforming that data still resulted in a MAPE around 230%).  \n",
    "\n",
    "This is a larger set of data so I suspect that using this tier will result in a MAPE around 100%"
   ]
  },
  {
   "cell_type": "code",
<<<<<<< Updated upstream
   "execution_count": null,
   "metadata": {},
   "outputs": [],
=======
   "execution_count": 56,
   "id": "be5c452e",
   "metadata": {},
   "outputs": [
    {
     "data": {
      "text/plain": [
       "(154, 82)"
      ]
     },
     "execution_count": 56,
     "metadata": {},
     "output_type": "execute_result"
    }
   ],
>>>>>>> Stashed changes
   "source": [
    "tier_6 = tier_6.drop(['English', 'United States of America'], level=1, axis=1)\n",
    "y = np.log(tier_6['Numerical', 'revenue'])\n",
    "X = tier_6.drop('revenue', level=1, axis=1)\n",
    "tier_6.shape"
   ]
  },
  {
   "cell_type": "code",
<<<<<<< Updated upstream
   "execution_count": null,
=======
   "execution_count": 57,
   "id": "10ff3628",
>>>>>>> Stashed changes
   "metadata": {},
   "outputs": [],
   "source": [
    "scaler = MinMaxScaler()\n",
    "scaler.fit(X['Numerical'])\n",
    "X['Numerical'] = scaler.transform(X['Numerical'])\n",
    "X_train, X_test, y_train, y_test = train_test_split(X, y, test_size=0.2, random_state=42)\n",
    "exp_y_test = np.exp(y_test)"
   ]
  },
  {
   "cell_type": "code",
<<<<<<< Updated upstream
   "execution_count": null,
   "metadata": {},
   "outputs": [],
=======
   "execution_count": 43,
   "id": "aa6c0d4c",
   "metadata": {},
   "outputs": [
    {
     "data": {
      "text/plain": [
       "{'R2': 0.025385214309078363,\n",
       " 'RMSE': 68859481.8900671,\n",
       " 'MAE': 39106324.3293639,\n",
       " 'MAPE': 188.95549677475532}"
      ]
     },
     "execution_count": 43,
     "metadata": {},
     "output_type": "execute_result"
    }
   ],
>>>>>>> Stashed changes
   "source": [
    "gb = GradientBoostingRegressor(n_estimators=2660, min_samples_split=4, max_depth=3, learning_rate=0.001, random_state=42)\n",
    "gb.fit(X_train, y_train)\n",
    "tier_6_preds = gb.predict(X_test)\n",
    "tier_6_preds = np.exp(tier_6_preds)\n",
    "r2_6 = r2_score(exp_y_test, tier_6_preds)\n",
    "RMSE_6 = mean_squared_error(exp_y_test, tier_6_preds, squared=False)\n",
    "MAE_6 = mean_absolute_error(exp_y_test, tier_6_preds)\n",
    "MAPE_6 = MAPE(exp_y_test, tier_6_preds)\n",
    "scores_6 = {'R2':r2_6, 'RMSE':RMSE_6, \"MAE\":MAE_6, \"MAPE\":MAPE_6}\n",
    "scores_6"
   ]
  },
  {
   "cell_type": "code",
<<<<<<< Updated upstream
   "execution_count": null,
   "metadata": {},
   "outputs": [],
=======
   "execution_count": 44,
   "id": "9517523c",
   "metadata": {},
   "outputs": [
    {
     "name": "stdout",
     "output_type": "stream",
     "text": [
      "GB best score:  0.47881343863043446\n",
      "GB best parameters:  {'n_estimators': 2601, 'min_samples_split': 6, 'max_depth': 3, 'learning_rate': 0.001}\n"
     ]
    }
   ],
>>>>>>> Stashed changes
   "source": [
    "params = {'n_estimators':np.arange(10,5000), 'max_depth':np.arange(1,25), \n",
    "          'min_samples_split': np.arange(4,10), 'learning_rate': [0.001, 0.01, 0.1, 1]}\n",
    "\"\"\"grade = GradientBoostingRegressor(random_state=42)\n",
    "gradient = RandomizedSearchCV(grade, param_distributions=params, n_iter=500)\n",
    "gradient.fit(X_train, y_train)\n",
    "grade_best_score = gradient.best_score_\n",
    "grade_best_params = gradient.best_params_\n",
    "print('GB best score: ', grade_best_score)\n",
    "print('GB best parameters: ', grade_best_params)\"\"\""
   ]
  },
  {
   "cell_type": "code",
<<<<<<< Updated upstream
   "execution_count": null,
   "metadata": {},
   "outputs": [],
=======
   "execution_count": 58,
   "id": "a2cdf8c7",
   "metadata": {},
   "outputs": [
    {
     "data": {
      "text/plain": [
       "{'R2': 0.06593769028099139,\n",
       " 'RMSE': 67411684.10002317,\n",
       " 'MAE': 38276519.27657685,\n",
       " 'MAPE': 156.3310620267196}"
      ]
     },
     "execution_count": 58,
     "metadata": {},
     "output_type": "execute_result"
    }
   ],
>>>>>>> Stashed changes
   "source": [
    "# RSCV score of 0.48191736150512765\n",
    "gb = GradientBoostingRegressor(n_estimators=2601, min_samples_split=6, max_depth=3, learning_rate=0.001, random_state=42)\n",
    "gb.fit(X_train, y_train)\n",
    "tier_6_preds = gb.predict(X_test)\n",
    "tier_6_preds = np.exp(tier_6_preds)\n",
    "r2_6o = r2_score(exp_y_test, tier_6_preds)\n",
    "RMSE_6o = mean_squared_error(exp_y_test, tier_6_preds, squared=False)\n",
    "MAE_6o = mean_absolute_error(exp_y_test, tier_6_preds)\n",
    "MAPE_6o = MAPE(exp_y_test, tier_6_preds)\n",
    "scores_6o = {'R2':r2_6o, 'RMSE':RMSE_6o, \"MAE\":MAE_6o, \"MAPE\":MAPE_6o}\n",
    "scores_6o"
   ]
  },
  {
   "cell_type": "markdown",
<<<<<<< Updated upstream
=======
   "id": "17fb3e39",
>>>>>>> Stashed changes
   "metadata": {},
   "source": [
    "#### Subsetting the data on films that only Disney has produced seems to provide the best accuracy, I'll try the same method using another production company to see if this is a valid approach"
   ]
  },
  {
   "cell_type": "code",
<<<<<<< Updated upstream
   "execution_count": null,
=======
   "execution_count": 46,
   "id": "c10fafba",
>>>>>>> Stashed changes
   "metadata": {},
   "outputs": [],
   "source": [
    "tier_7 = box[box['Company', 'Paramount Pictures']==1]\n",
    "tier_7.shape"
   ]
  },
  {
   "cell_type": "code",
<<<<<<< Updated upstream
   "execution_count": null,
=======
   "execution_count": 47,
   "id": "75dc10b8",
>>>>>>> Stashed changes
   "metadata": {},
   "outputs": [],
   "source": [
    "tier_7 = tier_7.drop('Paramount Pictures', level=1, axis=1)\n",
    "y = np.log(tier_7['Numerical', 'revenue'])\n",
    "X = tier_7.drop('revenue', level=1, axis=1)\n",
    "tier_7.shape"
   ]
  },
  {
   "cell_type": "code",
<<<<<<< Updated upstream
   "execution_count": null,
=======
   "execution_count": 48,
   "id": "b7356382",
>>>>>>> Stashed changes
   "metadata": {},
   "outputs": [],
   "source": [
    "sns.histplot(data=tier_7, x=('Numerical', 'revenue'))"
   ]
  },
  {
   "cell_type": "code",
<<<<<<< Updated upstream
   "execution_count": null,
=======
   "execution_count": 49,
   "id": "2581cca7",
>>>>>>> Stashed changes
   "metadata": {},
   "outputs": [],
   "source": [
    "scaler = MinMaxScaler()\n",
    "scaler.fit(X['Numerical'])\n",
    "X['Numerical'] = scaler.transform(X['Numerical'])\n",
    "X_train, X_test, y_train, y_test = train_test_split(X, y, test_size=0.2, random_state=42)\n",
    "exp_y_test = np.exp(y_test)"
   ]
  },
  {
   "cell_type": "code",
<<<<<<< Updated upstream
   "execution_count": null,
=======
   "execution_count": 50,
   "id": "6d4c2b14",
>>>>>>> Stashed changes
   "metadata": {},
   "outputs": [],
   "source": [
    "gb = GradientBoostingRegressor(random_state=42)\n",
    "gb.fit(X_train, y_train)\n",
    "tier_7_preds = gb.predict(X_test)\n",
    "tier_7_preds = np.exp(tier_7_preds)\n",
    "r2_7 = r2_score(exp_y_test, tier_7_preds)\n",
    "RMSE_7 = mean_squared_error(exp_y_test, tier_7_preds, squared=False)\n",
    "MAE_7 = mean_absolute_error(exp_y_test, tier_7_preds)\n",
    "MAPE_7 = MAPE(exp_y_test, tier_7_preds)\n",
    "scores_7 = {'R2':r2_7, 'RMSE':RMSE_7, \"MAE\":MAE_7, \"MAPE\":MAPE_7}\n",
    "scores_7"
   ]
  },
  {
   "cell_type": "code",
<<<<<<< Updated upstream
   "execution_count": null,
   "metadata": {},
   "outputs": [],
=======
   "execution_count": 51,
   "id": "a8f42644",
   "metadata": {},
   "outputs": [
    {
     "name": "stdout",
     "output_type": "stream",
     "text": [
      "GB best score:  0.5830522286128073\n",
      "GB best parameters:  {'n_estimators': 1320, 'min_samples_split': 5, 'max_depth': 6, 'learning_rate': 0.1}\n"
     ]
    }
   ],
>>>>>>> Stashed changes
   "source": [
    "params = {'n_estimators':np.arange(10,5000), 'max_depth':np.arange(1,60), \n",
    "          'min_samples_split': np.arange(2,10), 'learning_rate': [0.001, 0.01, 0.1, 1]}\n",
    "\"\"\"grade = GradientBoostingRegressor(random_state=42)\n",
    "gradient = RandomizedSearchCV(grade, param_distributions=params, n_iter=500)\n",
    "gradient.fit(X_train, y_train)\n",
    "grade_best_score = gradient.best_score_\n",
    "grade_best_params = gradient.best_params_\n",
    "print('GB best score: ', grade_best_score)\n",
    "print('GB best parameters: ', grade_best_params)\"\"\""
   ]
  },
  {
   "cell_type": "code",
<<<<<<< Updated upstream
   "execution_count": null,
   "metadata": {},
   "outputs": [],
   "source": []
=======
   "execution_count": 53,
   "id": "4a52bb98",
   "metadata": {},
   "outputs": [
    {
     "data": {
      "text/plain": [
       "{'R2': -1.3899070111292993,\n",
       " 'RMSE': 85045953.56274104,\n",
       " 'MAE': 68696694.39685738,\n",
       " 'MAPE': 116.79738963457724}"
      ]
     },
     "execution_count": 53,
     "metadata": {},
     "output_type": "execute_result"
    }
   ],
   "source": [
    "# cv search score of 0.5830522286128073\n",
    "gb = GradientBoostingRegressor(n_estimators=1320, min_samples_split=5, max_depth=6, learning_rate=0.1,random_state=42)\n",
    "gb.fit(X_train, y_train)\n",
    "tier_7_preds = gb.predict(X_test)\n",
    "tier_7_preds = np.exp(tier_7_preds)\n",
    "r2_7o = r2_score(exp_y_test, tier_7_preds)\n",
    "RMSE_7o = mean_squared_error(exp_y_test, tier_7_preds, squared=False)\n",
    "MAE_7o = mean_absolute_error(exp_y_test, tier_7_preds)\n",
    "MAPE_7o = MAPE(exp_y_test, tier_7_preds)\n",
    "scores_7o = {'R2':r2_7o, 'RMSE':RMSE_7o, \"MAE\":MAE_7o, \"MAPE\":MAPE_7o}\n",
    "scores_7o"
   ]
>>>>>>> Stashed changes
  }
 ],
 "metadata": {
  "kernelspec": {
   "display_name": "Python 3",
   "language": "python",
   "name": "python3"
  },
  "language_info": {
   "codemirror_mode": {
    "name": "ipython",
    "version": 3
   },
   "file_extension": ".py",
   "mimetype": "text/x-python",
   "name": "python",
   "nbconvert_exporter": "python",
   "pygments_lexer": "ipython3",
   "version": "3.8.5"
  }
 },
 "nbformat": 4,
 "nbformat_minor": 5
}
