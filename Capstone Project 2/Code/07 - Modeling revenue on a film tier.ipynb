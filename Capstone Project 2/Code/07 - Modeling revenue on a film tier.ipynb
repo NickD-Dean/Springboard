{
 "cells": [
  {
   "cell_type": "markdown",
   "id": "5487fa68",
   "metadata": {},
   "source": [
    "# Modelling revenue on a narrowly-defined tier of films\n",
    "\n",
    "In previous notebooks it was apparent that modelling the revenue of films based on smaller subsets (EG: seasonality) was far more accurate than modelling based on the entire corpus of films.  This makes logical sense - predicting revenue based off of films that are similar to that which we're predicting the revenue for should be more accurate than based off of the entire body of films. \n",
    "\n",
    "In this notebook I'm going to use intuition and some EDA to construct a more narrowly defined tier than simply seasonal release of films. Once a tier has been constructed I'll continue forward with modelling the revenue of that film tier to identify if I'm able to significantly improve the accuracy of modelling and predicting revenue based on a more narrowly defined tier. "
   ]
  },
  {
   "cell_type": "code",
   "execution_count": null,
   "id": "d38912a3",
   "metadata": {},
   "outputs": [],
   "source": [
    "import pandas as pd\n",
    "import numpy as np\n",
    "import matplotlib.pyplot as plt\n",
    "import seaborn as sns\n",
    "from sklearn.model_selection import train_test_split, cross_validate, RandomizedSearchCV, GridSearchCV\n",
    "from sklearn.preprocessing import StandardScaler, MinMaxScaler\n",
    "from sklearn.metrics import r2_score, mean_squared_error, mean_absolute_error\n",
    "from sklearn.ensemble import GradientBoostingRegressor\n",
    "import warnings\n",
    "warnings.filterwarnings('ignore')"
   ]
  },
  {
   "cell_type": "code",
   "execution_count": 38,
   "id": "a80bcb4a",
   "metadata": {},
   "outputs": [
    {
     "data": {
      "text/html": [
       "<div>\n",
       "<style scoped>\n",
       "    .dataframe tbody tr th:only-of-type {\n",
       "        vertical-align: middle;\n",
       "    }\n",
       "\n",
       "    .dataframe tbody tr th {\n",
       "        vertical-align: top;\n",
       "    }\n",
       "\n",
       "    .dataframe thead tr th {\n",
       "        text-align: left;\n",
       "    }\n",
       "</style>\n",
       "<table border=\"1\" class=\"dataframe\">\n",
       "  <thead>\n",
       "    <tr>\n",
       "      <th></th>\n",
       "      <th colspan=\"10\" halign=\"left\">Genre</th>\n",
       "      <th>...</th>\n",
       "      <th colspan=\"2\" halign=\"left\">Release_year</th>\n",
       "      <th>Numerical</th>\n",
       "      <th colspan=\"7\" halign=\"left\">Country</th>\n",
       "    </tr>\n",
       "    <tr>\n",
       "      <th></th>\n",
       "      <th>Action</th>\n",
       "      <th>Adventure</th>\n",
       "      <th>Animation</th>\n",
       "      <th>Comedy</th>\n",
       "      <th>Crime</th>\n",
       "      <th>Documentary</th>\n",
       "      <th>Drama</th>\n",
       "      <th>Family</th>\n",
       "      <th>Fantasy</th>\n",
       "      <th>Foreign</th>\n",
       "      <th>...</th>\n",
       "      <th>00s</th>\n",
       "      <th>10s</th>\n",
       "      <th>Num_production_countries</th>\n",
       "      <th>Europe</th>\n",
       "      <th>Oceania</th>\n",
       "      <th>Asia</th>\n",
       "      <th>Middle_East</th>\n",
       "      <th>Latin_America</th>\n",
       "      <th>North_America</th>\n",
       "      <th>Africa</th>\n",
       "    </tr>\n",
       "  </thead>\n",
       "  <tbody>\n",
       "    <tr>\n",
       "      <th>0</th>\n",
       "      <td>0</td>\n",
       "      <td>0</td>\n",
       "      <td>0</td>\n",
       "      <td>1</td>\n",
       "      <td>0</td>\n",
       "      <td>0</td>\n",
       "      <td>1</td>\n",
       "      <td>1</td>\n",
       "      <td>0</td>\n",
       "      <td>0</td>\n",
       "      <td>...</td>\n",
       "      <td>1</td>\n",
       "      <td>0</td>\n",
       "      <td>1</td>\n",
       "      <td>0</td>\n",
       "      <td>0</td>\n",
       "      <td>0</td>\n",
       "      <td>0</td>\n",
       "      <td>0</td>\n",
       "      <td>0</td>\n",
       "      <td>0</td>\n",
       "    </tr>\n",
       "    <tr>\n",
       "      <th>1</th>\n",
       "      <td>0</td>\n",
       "      <td>0</td>\n",
       "      <td>0</td>\n",
       "      <td>0</td>\n",
       "      <td>0</td>\n",
       "      <td>0</td>\n",
       "      <td>1</td>\n",
       "      <td>0</td>\n",
       "      <td>0</td>\n",
       "      <td>0</td>\n",
       "      <td>...</td>\n",
       "      <td>0</td>\n",
       "      <td>1</td>\n",
       "      <td>1</td>\n",
       "      <td>0</td>\n",
       "      <td>0</td>\n",
       "      <td>0</td>\n",
       "      <td>0</td>\n",
       "      <td>0</td>\n",
       "      <td>0</td>\n",
       "      <td>0</td>\n",
       "    </tr>\n",
       "    <tr>\n",
       "      <th>2</th>\n",
       "      <td>0</td>\n",
       "      <td>1</td>\n",
       "      <td>1</td>\n",
       "      <td>0</td>\n",
       "      <td>0</td>\n",
       "      <td>0</td>\n",
       "      <td>0</td>\n",
       "      <td>1</td>\n",
       "      <td>0</td>\n",
       "      <td>0</td>\n",
       "      <td>...</td>\n",
       "      <td>0</td>\n",
       "      <td>0</td>\n",
       "      <td>1</td>\n",
       "      <td>0</td>\n",
       "      <td>0</td>\n",
       "      <td>0</td>\n",
       "      <td>0</td>\n",
       "      <td>0</td>\n",
       "      <td>0</td>\n",
       "      <td>0</td>\n",
       "    </tr>\n",
       "  </tbody>\n",
       "</table>\n",
       "<p>3 rows × 84 columns</p>\n",
       "</div>"
      ],
      "text/plain": [
       "   Genre                                                                    \\\n",
       "  Action Adventure Animation Comedy Crime Documentary Drama Family Fantasy   \n",
       "0      0         0         0      1     0           0     1      1       0   \n",
       "1      0         0         0      0     0           0     1      0       0   \n",
       "2      0         1         1      0     0           0     0      1       0   \n",
       "\n",
       "           ... Release_year                    Numerical Country               \\\n",
       "  Foreign  ...          00s 10s Num_production_countries  Europe Oceania Asia   \n",
       "0       0  ...            1   0                        1       0       0    0   \n",
       "1       0  ...            0   1                        1       0       0    0   \n",
       "2       0  ...            0   0                        1       0       0    0   \n",
       "\n",
       "                                                  \n",
       "  Middle_East Latin_America North_America Africa  \n",
       "0           0             0             0      0  \n",
       "1           0             0             0      0  \n",
       "2           0             0             0      0  \n",
       "\n",
       "[3 rows x 84 columns]"
      ]
     },
     "execution_count": 38,
     "metadata": {},
     "output_type": "execute_result"
    }
   ],
   "source": [
    "box = pd.read_csv('../Data/Reduced_dimensions2.csv', index_col=0, header = [0,1])\n",
    "box.head(3)"
   ]
  },
  {
   "cell_type": "code",
   "execution_count": 39,
   "id": "cbeb6735",
   "metadata": {},
   "outputs": [],
   "source": [
    "# Defines a mean absolute percentage error function\n",
    "def MAPE(true, pred):\n",
    "    MAPE = (np.sum(np.abs((true-pred)/true))/len(true))*100\n",
    "    return MAPE"
   ]
  },
  {
   "cell_type": "markdown",
   "id": "0c141e4c",
   "metadata": {},
   "source": [
    "### Defining an initial tier\n",
    "\n",
    "A group of movies that immediately come to mind when I think of a group of films are 'blockbuster' action sequels from the summer release and christmas release season."
   ]
  },
  {
   "cell_type": "code",
   "execution_count": 31,
   "id": "a64f378a",
   "metadata": {},
   "outputs": [
    {
     "data": {
      "text/plain": [
       "(75, 84)"
      ]
     },
     "execution_count": 31,
     "metadata": {},
     "output_type": "execute_result"
    }
   ],
   "source": [
    "# Gives me 545 films\n",
    "tier = box[box['Genre', 'Action'] == 1]\n",
    "# Films that are action films AND sequels gives me 211 films to model\n",
    "tier = tier[tier['Descriptive', 'Collection']==1]\n",
    "# Limiting to action films released in June, July, or December that were also sequels leaves me with 75 films. \n",
    "tier = tier[(tier['Release_month', '7']==1) | (tier['Release_month', '12']==1) | (tier['Release_month', '6']==1)]\n",
    "tier.shape"
   ]
  },
  {
   "cell_type": "code",
   "execution_count": 42,
   "id": "50411622",
   "metadata": {},
   "outputs": [
    {
     "data": {
      "text/plain": [
       "(75, 74)"
      ]
     },
     "execution_count": 42,
     "metadata": {},
     "output_type": "execute_result"
    }
   ],
   "source": [
    "# drop all columns that are redundant, we know these films are sequels and that they aren't released in the below months\n",
    "tier_1 = tier.drop(['Collection', '1', '2', '3', '4', '5', '8', '9', '10', '11'], level=1, axis=1)\n",
    "y = np.log(tier_1['Numerical', 'revenue'])\n",
    "X = tier_1.drop('revenue', level=1, axis=1)\n",
    "tier_1.shape"
   ]
  },
  {
   "cell_type": "code",
   "execution_count": 36,
   "id": "61382058",
   "metadata": {},
   "outputs": [],
   "source": [
    "scaler = MinMaxScaler()\n",
    "scaler.fit(X['Numerical'])\n",
    "X['Numerical'] = scaler.transform(X['Numerical'])\n",
    "X_train, X_test, y_train, y_test = train_test_split(X, y, test_size=0.2, random_state=42)\n",
    "exp_y_test = np.exp(y_test)"
   ]
  },
  {
   "cell_type": "code",
   "execution_count": 43,
   "id": "a88d1fff",
   "metadata": {},
   "outputs": [
    {
     "data": {
      "text/plain": [
       "{'R2': 0.3294376807570927,\n",
       " 'RMSE': 59636179.77900985,\n",
       " 'MAE': 47350674.83634695,\n",
       " 'MAPE': 69.35751604941464}"
      ]
     },
     "execution_count": 43,
     "metadata": {},
     "output_type": "execute_result"
    }
   ],
   "source": [
    "gb = GradientBoostingRegressor(random_state=42)\n",
    "gb.fit(X_train, y_train)\n",
    "tier_1_preds = gb.predict(X_test)\n",
    "tier_1_preds = np.exp(tier_1_preds)\n",
    "r2_1 = r2_score(exp_y_test, tier_1_preds)\n",
    "RMSE_1 = mean_squared_error(exp_y_test, tier_1_preds, squared=False)\n",
    "MAE_1 = mean_absolute_error(exp_y_test, tier_1_preds)\n",
    "MAPE_1 = MAPE(exp_y_test, tier_1_preds)\n",
    "scores_1 = {'R2':r2_1, 'RMSE':RMSE_1, \"MAE\":MAE_1, \"MAPE\":MAPE_1}\n",
    "scores_1"
   ]
  },
  {
   "cell_type": "markdown",
   "id": "f1471ceb",
   "metadata": {},
   "source": [
    "#### We have great results!\n",
    "\n",
    "Modelling with gradient boosting regression models has reduced the MAPE to around 60-70 (depending on the random state of the model).  Next I'm going to try to tune hyperparameters to see if I can reduce that down to below 20%."
   ]
  },
  {
   "cell_type": "code",
   "execution_count": null,
   "id": "56a907d9",
   "metadata": {},
   "outputs": [],
   "source": [
    "params = {'n_estimators':np.arange(5,10000), 'max_depth':np.arange(1,70), \n",
    "          'min_samples_split': np.arange(2,10)}\n",
    "grade = GradientBoostingRegressor()\n",
    "gradient = RandomizedSearchCV(grade, param_distributions=params, n_iter=500)\n",
    "gradient.fit(X_train, y_train)\n",
    "grade_best_score = gradient.best_score_\n",
    "grade_best_params = gradient.best_params_\n",
    "print('GB best score: ', grade_best_score)\n",
    "print('GB best parameters: ', grade_best_params)"
   ]
  },
  {
   "cell_type": "code",
   "execution_count": 58,
   "id": "9dda54b7",
   "metadata": {},
   "outputs": [
    {
     "data": {
      "text/plain": [
       "0"
      ]
     },
     "execution_count": 58,
     "metadata": {},
     "output_type": "execute_result"
    }
   ],
   "source": [
    "# Testing new optimized GradientBooster with 'best' hyperparameters:\n"
   ]
  },
  {
   "cell_type": "raw",
   "id": "17e47aa8",
   "metadata": {},
   "source": []
  }
 ],
 "metadata": {
  "kernelspec": {
   "display_name": "Python 3",
   "language": "python",
   "name": "python3"
  },
  "language_info": {
   "codemirror_mode": {
    "name": "ipython",
    "version": 3
   },
   "file_extension": ".py",
   "mimetype": "text/x-python",
   "name": "python",
   "nbconvert_exporter": "python",
   "pygments_lexer": "ipython3",
   "version": "3.8.10"
  }
 },
 "nbformat": 4,
 "nbformat_minor": 5
}
