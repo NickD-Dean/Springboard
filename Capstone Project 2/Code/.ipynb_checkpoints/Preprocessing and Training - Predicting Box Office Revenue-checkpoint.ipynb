{
 "cells": [
  {
   "cell_type": "markdown",
   "id": "38c5b78d",
   "metadata": {},
   "source": [
    "# Predicting Box Office Revenue\n",
    "\n",
    "## Preprocessing and Training Notebook\n",
    "\n",
    "The purpose of this notebook is twofold:\n",
    "\n",
    "First I want to reduce the dimensionality of my data set in order to make the machine learning models I have to work with more tenable. Currently I have over 10,000 features and only 2,333 observations in the data set, causing serious computational slowdown for my models.  Further, at the time when this notebook was initially written the machine I'm working on didn't have the computational power to even create dummy variables from my 'cast' and 'crew' categories.  \n",
    "\n",
    "\n",
    "I plan to 'bin' categorical dummy variables into new features to reduce dimensionality.  This is relatively easy for features that are highly skewed (spoken language) or where each variable has a low frequency in the data set compared to 'None' (collection).  However I'll need to test performance on a basic linear/polynomial regressor for other categories where the data is exponentially skewed and there isn't a clear way to bin the data.  This will allow me to compare R^2 and Mean Absolute Percent Error metrics and determine which method for dimensionality reduction allows for the more accurate model. \n",
    "\n",
    "Finally, I'll use Lasso and Ridge regressors to test my initial linear regressor for overfit; additionally I'll be able to use the Lasso regressor coefficients to determine what features can be dropped to further reduce dimensionality and complexity. "
   ]
  },
  {
   "cell_type": "code",
   "execution_count": 1,
   "id": "6f82117e",
   "metadata": {},
   "outputs": [],
   "source": [
    "import pandas as pd\n",
    "import numpy as np\n",
    "import matplotlib.pyplot as plt\n",
    "from sklearn import metrics\n",
    "from sklearn.linear_model import LinearRegression, Lasso, Ridge\n",
    "from sklearn.model_selection import train_test_split, cross_validate\n",
    "from sklearn.preprocessing import StandardScaler\n",
    "from sklearn.metrics import mean_absolute_percentage_error, r2_score, mean_squared_error\n",
    "from sklearn.pipeline import Pipeline\n",
    "from sklearn.dummy import DummyRegressor\n",
    "import time\n",
    "import sklearn\n",
    "\n",
    "pd.set_option('display.float_format', lambda x: '%.5f' % x)"
   ]
  },
  {
   "cell_type": "code",
   "execution_count": 2,
   "id": "31e146f3",
   "metadata": {},
   "outputs": [
    {
     "data": {
      "text/plain": [
       "(2333, 10456)"
      ]
     },
     "execution_count": 2,
     "metadata": {},
     "output_type": "execute_result"
    }
   ],
   "source": [
    "# Read in CSV from EDA notebook\n",
    "\n",
    "boxoffice = pd.read_csv('../Data/boxoffice_EDA.csv', index_col=0, header=[0,1])\n",
    "boxoffice.shape"
   ]
  },
  {
   "cell_type": "code",
   "execution_count": 3,
   "id": "080a6b37",
   "metadata": {},
   "outputs": [
    {
     "data": {
      "text/html": [
       "<div>\n",
       "<style scoped>\n",
       "    .dataframe tbody tr th:only-of-type {\n",
       "        vertical-align: middle;\n",
       "    }\n",
       "\n",
       "    .dataframe tbody tr th {\n",
       "        vertical-align: top;\n",
       "    }\n",
       "\n",
       "    .dataframe thead tr th {\n",
       "        text-align: left;\n",
       "    }\n",
       "</style>\n",
       "<table border=\"1\" class=\"dataframe\">\n",
       "  <thead>\n",
       "    <tr>\n",
       "      <th></th>\n",
       "      <th colspan=\"10\" halign=\"left\">Genre</th>\n",
       "      <th>...</th>\n",
       "      <th colspan=\"10\" halign=\"left\">Release_month</th>\n",
       "    </tr>\n",
       "    <tr>\n",
       "      <th></th>\n",
       "      <th>Action</th>\n",
       "      <th>Adventure</th>\n",
       "      <th>Animation</th>\n",
       "      <th>Comedy</th>\n",
       "      <th>Crime</th>\n",
       "      <th>Documentary</th>\n",
       "      <th>Drama</th>\n",
       "      <th>Family</th>\n",
       "      <th>Fantasy</th>\n",
       "      <th>Foreign</th>\n",
       "      <th>...</th>\n",
       "      <th>3</th>\n",
       "      <th>4</th>\n",
       "      <th>5</th>\n",
       "      <th>6</th>\n",
       "      <th>7</th>\n",
       "      <th>8</th>\n",
       "      <th>9</th>\n",
       "      <th>10</th>\n",
       "      <th>11</th>\n",
       "      <th>12</th>\n",
       "    </tr>\n",
       "  </thead>\n",
       "  <tbody>\n",
       "    <tr>\n",
       "      <th>0</th>\n",
       "      <td>0</td>\n",
       "      <td>0</td>\n",
       "      <td>0</td>\n",
       "      <td>1</td>\n",
       "      <td>0</td>\n",
       "      <td>0</td>\n",
       "      <td>1</td>\n",
       "      <td>1</td>\n",
       "      <td>0</td>\n",
       "      <td>0</td>\n",
       "      <td>...</td>\n",
       "      <td>0</td>\n",
       "      <td>0</td>\n",
       "      <td>0</td>\n",
       "      <td>0</td>\n",
       "      <td>0</td>\n",
       "      <td>1</td>\n",
       "      <td>0</td>\n",
       "      <td>0</td>\n",
       "      <td>0</td>\n",
       "      <td>0</td>\n",
       "    </tr>\n",
       "    <tr>\n",
       "      <th>1</th>\n",
       "      <td>0</td>\n",
       "      <td>0</td>\n",
       "      <td>0</td>\n",
       "      <td>0</td>\n",
       "      <td>0</td>\n",
       "      <td>0</td>\n",
       "      <td>1</td>\n",
       "      <td>0</td>\n",
       "      <td>0</td>\n",
       "      <td>0</td>\n",
       "      <td>...</td>\n",
       "      <td>0</td>\n",
       "      <td>0</td>\n",
       "      <td>0</td>\n",
       "      <td>0</td>\n",
       "      <td>0</td>\n",
       "      <td>0</td>\n",
       "      <td>0</td>\n",
       "      <td>1</td>\n",
       "      <td>0</td>\n",
       "      <td>0</td>\n",
       "    </tr>\n",
       "    <tr>\n",
       "      <th>2</th>\n",
       "      <td>0</td>\n",
       "      <td>1</td>\n",
       "      <td>1</td>\n",
       "      <td>0</td>\n",
       "      <td>0</td>\n",
       "      <td>0</td>\n",
       "      <td>0</td>\n",
       "      <td>1</td>\n",
       "      <td>0</td>\n",
       "      <td>0</td>\n",
       "      <td>...</td>\n",
       "      <td>0</td>\n",
       "      <td>0</td>\n",
       "      <td>0</td>\n",
       "      <td>0</td>\n",
       "      <td>0</td>\n",
       "      <td>1</td>\n",
       "      <td>0</td>\n",
       "      <td>0</td>\n",
       "      <td>0</td>\n",
       "      <td>0</td>\n",
       "    </tr>\n",
       "  </tbody>\n",
       "</table>\n",
       "<p>3 rows × 10456 columns</p>\n",
       "</div>"
      ],
      "text/plain": [
       "   Genre                                                                    \\\n",
       "  Action Adventure Animation Comedy Crime Documentary Drama Family Fantasy   \n",
       "0      0         0         0      1     0           0     1      1       0   \n",
       "1      0         0         0      0     0           0     1      0       0   \n",
       "2      0         1         1      0     0           0     0      1       0   \n",
       "\n",
       "           ... Release_month                             \n",
       "  Foreign  ...             3  4  5  6  7  8  9 10 11 12  \n",
       "0       0  ...             0  0  0  0  0  1  0  0  0  0  \n",
       "1       0  ...             0  0  0  0  0  0  0  1  0  0  \n",
       "2       0  ...             0  0  0  0  0  1  0  0  0  0  \n",
       "\n",
       "[3 rows x 10456 columns]"
      ]
     },
     "execution_count": 3,
     "metadata": {},
     "output_type": "execute_result"
    }
   ],
   "source": [
    "boxoffice.head(3)"
   ]
  },
  {
   "cell_type": "code",
   "execution_count": 4,
   "id": "57db9da5",
   "metadata": {},
   "outputs": [
    {
     "data": {
      "text/plain": [
       "Index(['Genre', 'Collection', 'Company', 'Country', 'Spoken_lang', 'Keywords',\n",
       "       'Descriptive', 'Numerical', 'Release_year', 'Release_month'],\n",
       "      dtype='object')"
      ]
     },
     "execution_count": 4,
     "metadata": {},
     "output_type": "execute_result"
    }
   ],
   "source": [
    "# Displaying names of top level of multi-index for later reference\n",
    "boxoffice.columns.get_level_values(0).unique()"
   ]
  },
  {
   "cell_type": "markdown",
   "id": "3e8c4776",
   "metadata": {},
   "source": [
    "## Binning Categorical Data\n",
    "\n",
    "To begin I want to significantly cut down on the number of features that I have in the data set.  By far the largest category that I have is Keywords, however the distribution of that category and several others presents several options for binning my data.  I can bin them into quartiles by either frequency or median/mean revenue in the data set. \n",
    "\n",
    "However I do have several feature categories that I won't be touching: Genre, Release_year, Country, and Release_month.  These categories all have fewer than 70 individual features.  Additionally I have a compelling reason to believe that each of these will have a large impact on revenue.  Genre, Release_year, and Release_month all were significantly more evenly distributed across films than other categories.  For these three categories median revenue was also skewed towards certain sub-categories which indicates that they have an impact revenue.  \n",
    "\n",
    "While the Country category is **heavily** skewed towards films made in the United States, revenue is heavily skewed towards more 'exotic' countries.  This is likely a result of blockbuster films like 'Pirates of the Carribean' or 'The Avengers' being filmed on site in other locations.  I suspect that this category will be highly correlated with budget and may be dropped after I check Lasso regresor coefficients.  Regardless, this category only has 67 sub-categories and consolidating those into fewer bins will lose what appears to be useful information with minimal impact on reducing the 10,456 dimensions that the data set currently has.\n",
    "\n",
    "This means that I need to bin the Spoken_lang, Company, Keywords, and Collection columns.  Later I'll come back through and treat the Cast and Crew categories the same as the Keyword category once I have access to a machine with enough RAM to handle those categories. \n",
    "\n",
    "The best place for me to start with binning is going to be the Spoken_lang category since it's highly skewed towards the 'English' sub-category."
   ]
  },
  {
   "cell_type": "markdown",
   "id": "a4066f21",
   "metadata": {},
   "source": [
    "#### Binning Spoken_lang\n",
    "\n",
    "Based on the work from my EDA notebook the 'English' sub-category accounts for 2,180 films in this data set.  It's clear that the simplest way to bin this category is to reduce it to a single column that indicates if a film's primary language is English or not."
   ]
  },
  {
   "cell_type": "code",
   "execution_count": 5,
   "id": "fad84127",
   "metadata": {},
   "outputs": [],
   "source": [
    "# Create a list of column lables to be dropped\n",
    "dropped = list(boxoffice['Spoken_lang'].columns)\n",
    "dropped.remove('English')"
   ]
  },
  {
   "cell_type": "code",
   "execution_count": 6,
   "id": "b295f8ce",
   "metadata": {},
   "outputs": [],
   "source": [
    "# for loop to iterate over the dropped list and remove all languages from Spoken_lang other than english\n",
    "for col in dropped:\n",
    "    boxoffice.drop(col, level=1, axis=1, inplace=True)"
   ]
  },
  {
   "cell_type": "code",
   "execution_count": 7,
   "id": "46785a24",
   "metadata": {},
   "outputs": [
    {
     "data": {
      "text/html": [
       "<div>\n",
       "<style scoped>\n",
       "    .dataframe tbody tr th:only-of-type {\n",
       "        vertical-align: middle;\n",
       "    }\n",
       "\n",
       "    .dataframe tbody tr th {\n",
       "        vertical-align: top;\n",
       "    }\n",
       "\n",
       "    .dataframe thead th {\n",
       "        text-align: right;\n",
       "    }\n",
       "</style>\n",
       "<table border=\"1\" class=\"dataframe\">\n",
       "  <thead>\n",
       "    <tr style=\"text-align: right;\">\n",
       "      <th></th>\n",
       "      <th>English</th>\n",
       "    </tr>\n",
       "  </thead>\n",
       "  <tbody>\n",
       "    <tr>\n",
       "      <th>0</th>\n",
       "      <td>1</td>\n",
       "    </tr>\n",
       "    <tr>\n",
       "      <th>1</th>\n",
       "      <td>1</td>\n",
       "    </tr>\n",
       "    <tr>\n",
       "      <th>2</th>\n",
       "      <td>1</td>\n",
       "    </tr>\n",
       "  </tbody>\n",
       "</table>\n",
       "</div>"
      ],
      "text/plain": [
       "   English\n",
       "0        1\n",
       "1        1\n",
       "2        1"
      ]
     },
     "execution_count": 7,
     "metadata": {},
     "output_type": "execute_result"
    }
   ],
   "source": [
    "# verify that English is the only remaining column\n",
    "boxoffice.Spoken_lang.head(3)"
   ]
  },
  {
   "cell_type": "markdown",
   "id": "04dca544",
   "metadata": {},
   "source": [
    "#### Binning Film Collection dummy variables\n",
    "\n",
    "Ultimately this was going to be relatively complex with the multi-indexed dataframe so I went back to my EDA notebook and created a boolean column that indicates if a film belongs to a collection or not.  The final step is to transform this into the value for 1 or 0. "
   ]
  },
  {
   "cell_type": "code",
   "execution_count": 8,
   "id": "e70b108f",
   "metadata": {},
   "outputs": [
    {
     "data": {
      "text/plain": [
       "0    1\n",
       "1    0\n",
       "2    0\n",
       "Name: (Descriptive, Collection), dtype: int32"
      ]
     },
     "execution_count": 8,
     "metadata": {},
     "output_type": "execute_result"
    }
   ],
   "source": [
    "# Casting the column in question to a numeric data type\n",
    "boxoffice['Descriptive', 'Collection'] = boxoffice['Descriptive', 'Collection'].astype('int')\n",
    "boxoffice['Descriptive', 'Collection'].head(3)"
   ]
  },
  {
   "cell_type": "code",
   "execution_count": 9,
   "id": "a23383a3",
   "metadata": {},
   "outputs": [
    {
     "data": {
      "text/html": [
       "<div>\n",
       "<style scoped>\n",
       "    .dataframe tbody tr th:only-of-type {\n",
       "        vertical-align: middle;\n",
       "    }\n",
       "\n",
       "    .dataframe tbody tr th {\n",
       "        vertical-align: top;\n",
       "    }\n",
       "\n",
       "    .dataframe thead th {\n",
       "        text-align: right;\n",
       "    }\n",
       "</style>\n",
       "<table border=\"1\" class=\"dataframe\">\n",
       "  <thead>\n",
       "    <tr style=\"text-align: right;\">\n",
       "      <th></th>\n",
       "      <th>original_title</th>\n",
       "      <th>overview</th>\n",
       "      <th>tagline</th>\n",
       "      <th>title</th>\n",
       "      <th>Collection</th>\n",
       "    </tr>\n",
       "  </thead>\n",
       "  <tbody>\n",
       "    <tr>\n",
       "      <th>0</th>\n",
       "      <td>The Princess Diaries 2: Royal Engagement</td>\n",
       "      <td>Mia Thermopolis is now a college graduate and ...</td>\n",
       "      <td>It can take a lifetime to find true love; she'...</td>\n",
       "      <td>The Princess Diaries 2: Royal Engagement</td>\n",
       "      <td>1</td>\n",
       "    </tr>\n",
       "    <tr>\n",
       "      <th>1</th>\n",
       "      <td>Whiplash</td>\n",
       "      <td>Under the direction of a ruthless instructor, ...</td>\n",
       "      <td>The road to greatness can take you to the edge.</td>\n",
       "      <td>Whiplash</td>\n",
       "      <td>0</td>\n",
       "    </tr>\n",
       "    <tr>\n",
       "      <th>2</th>\n",
       "      <td>Pinocchio and the Emperor of the Night</td>\n",
       "      <td>Pinocchio and his friends, a glow worm and a m...</td>\n",
       "      <td>NaN</td>\n",
       "      <td>Pinocchio and the Emperor of the Night</td>\n",
       "      <td>0</td>\n",
       "    </tr>\n",
       "  </tbody>\n",
       "</table>\n",
       "</div>"
      ],
      "text/plain": [
       "                             original_title  \\\n",
       "0  The Princess Diaries 2: Royal Engagement   \n",
       "1                                  Whiplash   \n",
       "2    Pinocchio and the Emperor of the Night   \n",
       "\n",
       "                                            overview  \\\n",
       "0  Mia Thermopolis is now a college graduate and ...   \n",
       "1  Under the direction of a ruthless instructor, ...   \n",
       "2  Pinocchio and his friends, a glow worm and a m...   \n",
       "\n",
       "                                             tagline  \\\n",
       "0  It can take a lifetime to find true love; she'...   \n",
       "1    The road to greatness can take you to the edge.   \n",
       "2                                                NaN   \n",
       "\n",
       "                                      title  Collection  \n",
       "0  The Princess Diaries 2: Royal Engagement           1  \n",
       "1                                  Whiplash           0  \n",
       "2    Pinocchio and the Emperor of the Night           0  "
      ]
     },
     "execution_count": 9,
     "metadata": {},
     "output_type": "execute_result"
    }
   ],
   "source": [
    "boxoffice['Descriptive'].head(3)"
   ]
  },
  {
   "cell_type": "markdown",
   "id": "b1e6aece",
   "metadata": {},
   "source": [
    "While I'm working on this column in Descriptive I'm also going to drop the overview, tagline, and original_title columns, and set the index to the title column"
   ]
  },
  {
   "cell_type": "code",
   "execution_count": 10,
   "id": "1ff27662",
   "metadata": {},
   "outputs": [],
   "source": [
    "boxoffice.drop('overview', level=1, axis=1, inplace=True)\n",
    "boxoffice.drop('tagline', level=1, axis=1, inplace=True)\n",
    "boxoffice.drop('original_title', level=1, axis=1, inplace=True)\n",
    "# Storing the titles in a seperate Series for later use as needed\n",
    "Titles = boxoffice['Descriptive', 'title']\n",
    "boxoffice.drop('title', level=1, axis=1, inplace=True)\n",
    "boxoffice.drop('Collection', level=0, axis=1, inplace=True)"
   ]
  },
  {
   "cell_type": "code",
   "execution_count": 11,
   "id": "1dee8e6b",
   "metadata": {},
   "outputs": [
    {
     "data": {
      "text/html": [
       "<div>\n",
       "<style scoped>\n",
       "    .dataframe tbody tr th:only-of-type {\n",
       "        vertical-align: middle;\n",
       "    }\n",
       "\n",
       "    .dataframe tbody tr th {\n",
       "        vertical-align: top;\n",
       "    }\n",
       "\n",
       "    .dataframe thead th {\n",
       "        text-align: right;\n",
       "    }\n",
       "</style>\n",
       "<table border=\"1\" class=\"dataframe\">\n",
       "  <thead>\n",
       "    <tr style=\"text-align: right;\">\n",
       "      <th></th>\n",
       "      <th>Collection</th>\n",
       "    </tr>\n",
       "  </thead>\n",
       "  <tbody>\n",
       "    <tr>\n",
       "      <th>0</th>\n",
       "      <td>1</td>\n",
       "    </tr>\n",
       "    <tr>\n",
       "      <th>1</th>\n",
       "      <td>0</td>\n",
       "    </tr>\n",
       "    <tr>\n",
       "      <th>2</th>\n",
       "      <td>0</td>\n",
       "    </tr>\n",
       "  </tbody>\n",
       "</table>\n",
       "</div>"
      ],
      "text/plain": [
       "   Collection\n",
       "0           1\n",
       "1           0\n",
       "2           0"
      ]
     },
     "execution_count": 11,
     "metadata": {},
     "output_type": "execute_result"
    }
   ],
   "source": [
    "#Verify that the Descriptive category has been reduced to only the one-hot encoded column for collections\n",
    "boxoffice['Descriptive'].head(3)"
   ]
  },
  {
   "cell_type": "markdown",
   "id": "5e5e5a46",
   "metadata": {},
   "source": [
    "## Testing the accuracy of linear regression with the data set as is\n",
    "\n",
    "At this point I have a huge number of columns, and I haven't made significant reductions in the number of features yet. \n",
    "\n",
    "However once I've binned the Company and Keyword columns I'll have eliminated thousands of features.  Prior to doing this I want to get a baseline for how accurate a model is with all of these columns left in the data set. \n",
    "\n",
    "The reason that this is important to do now, prior to reducing the dimensionality of the Company and Keywords categories is that each movie has multiple companies and keywords associated with it, while there is only a single language and film collection for each movie.  Reducing the Spoken_lang and Collection categories isn't eliminating complex information about each film like binning the Company and Keywords categories will be, since each film can have multiple companies or keywords, but only a single film collection or spoken language.\n",
    "\n",
    "Once I have a baseline of performance with the entire dataset using a dummy regressor as well as a general linear regression model with only the numerical data; I'll build up complexity by adding in additional categorical data to assess which provides the best performance. The purpose of building my dataset is to help identify at which point overfitting becomes a problem and decide if, and to what degree, I need to simplify several categories of data."
   ]
  },
  {
   "cell_type": "markdown",
   "id": "1c28d37f",
   "metadata": {},
   "source": [
    "### Train / Test Split\n",
    "\n",
    "Here I plan to create a train / test split that I'll work with for the remainder of this notebook, and test the accuracy of my best models/data at the end to assess model performance prior to attempting different regression models in the subsequent notebook. "
   ]
  },
  {
   "cell_type": "code",
   "execution_count": 12,
   "id": "86efbee6",
   "metadata": {},
   "outputs": [],
   "source": [
    "# Separating out the target variable\n",
    "y = boxoffice['Numerical', 'revenue']\n",
    "X = boxoffice.drop('revenue', level=1, axis=1)\n",
    "# Scaling the numerical data in X \n",
    "scaler=StandardScaler()\n",
    "scaler.fit(X['Numerical'])\n",
    "X['Numerical'] = scaler.transform(X['Numerical'])\n",
    "# Creating train/test split\n",
    "X_train, X_test, y_train, y_test = train_test_split(X, y, test_size=0.2, random_state=42)"
   ]
  },
  {
   "cell_type": "markdown",
   "id": "58a13bcc",
   "metadata": {},
   "source": [
    "## Checking performance of a dummy regressor"
   ]
  },
  {
   "cell_type": "code",
   "execution_count": 13,
   "id": "82508da3",
   "metadata": {},
   "outputs": [
    {
     "data": {
      "text/plain": [
       "array([[1.49674973e+08]])"
      ]
     },
     "execution_count": 13,
     "metadata": {},
     "output_type": "execute_result"
    }
   ],
   "source": [
    "mean_reg = DummyRegressor(strategy='mean')\n",
    "mean_reg.fit(X_train, y_train)\n",
    "mean_reg.constant_"
   ]
  },
  {
   "cell_type": "code",
   "execution_count": 14,
   "id": "d0657665",
   "metadata": {},
   "outputs": [
    {
     "name": "stdout",
     "output_type": "stream",
     "text": [
      "Mean predictor mape score:  3227.6859999999997\n",
      "Mean predictor r^2 score:  0.0\n",
      "Mean predictor rmse score:  179819930.675\n"
     ]
    }
   ],
   "source": [
    "# Evaluating the mean with mean absolute percent error, R-squared, and root mean squared error\n",
    "pred = mean_reg.predict(X_train)\n",
    "MAPE_mean = round(mean_absolute_percentage_error(y_train, pred), 5)*100\n",
    "R2_mean = round(r2_score(y_train, pred), 5)\n",
    "RMSE_mean = round(mean_squared_error(y_train, pred, squared=False), 5)\n",
    "print('Mean predictor mape score: ', MAPE_mean)\n",
    "print('Mean predictor r^2 score: ', R2_mean)\n",
    "print('Mean predictor rmse score: ', RMSE_mean)\n",
    "\n",
    "dummy = {'MAPE': MAPE_mean, 'R2':R2_mean, 'RMSE':RMSE_mean}"
   ]
  },
  {
   "cell_type": "code",
   "execution_count": 15,
   "id": "d1a82f9f",
   "metadata": {},
   "outputs": [
    {
     "data": {
      "text/plain": [
       "176693296.3539534"
      ]
     },
     "execution_count": 15,
     "metadata": {},
     "output_type": "execute_result"
    }
   ],
   "source": [
    "np.std(y)"
   ]
  },
  {
   "cell_type": "markdown",
   "id": "48f33fb1",
   "metadata": {},
   "source": [
    "*This block of code will be reproduced for each iteration of the linear regression model.  At the end of this notebook I'll be able to evaluate the scoring metrics side by side and take note of any patterns.*\n",
    "\n",
    "It seems that the mean revenue is not a strong predictor, which is reasonable.  The smallest value in my target variable is around 5,000 USD, and the largest is over 1.5 Billion USD - a significant jump in revenue to the point where the mean value is actually less than 10% of the largest revenue value.  At the same time the mean revenue for this data set is 2,500% of the smallest value.  There is ***significant*** variability in the target metric for this business problem, which means that I'll need to decide ahead of time what a 'good' metric score will mean.  \n",
    "\n",
    "Given that at it's core, this problem is about predicting human behavior (purchasing of movie tickets), an R-Squared value of 0.5 will be considered 'good'.  This is something that has been cited in multiple blogs online as a good score for predicting human behavior, such as [Jim Frost's blog.](https://statisticsbyjim.com/regression/interpret-r-squared-regression/)\n",
    "\n",
    "Given the huge variability around the mean, and what will be resultingly large mean % error and root-mean-squared errors I think that it's prudent to consider any RMSE score that is less than or equal to one standard deviation as 'good' for now.  Since I'll be saving all of these scores and comparing them at the end of this notebook I'll use that as a standard to make initial judements on as I work to that point.  \n",
    "\n",
    "Mean absolute percentage error is going to be a strong measure of how accurate the model is given the massive scale I'm working with, I'm not sure what I could even call a 'good' MAPE score.  Having run some initial models in a scratch notebook (appended in GitHub), and seeing how the dummy regressor using the mean performs here I believe that any MAPE score less than 1000% should be considered passable, and that anything less than 500% should be considered good. \n",
    "\n",
    "At the end of this notebook I'll be able to identify a subset(s) of my data that will allow a linear regression model to achieve these scores:\n",
    "\n",
    "***R-squared: 0.5***\n",
    "\n",
    "***MAPE: 500%***\n",
    "\n",
    "***RMSE: 176,693,296 USD***"
   ]
  },
  {
   "cell_type": "code",
   "execution_count": 16,
   "id": "dbc0ed7f",
   "metadata": {},
   "outputs": [],
   "source": [
    "# Creates a dictionary of metrics to be passed to each cross_validate function using the correct syntax for 'cross_validate'\n",
    "metrics = ['neg_mean_absolute_percentage_error', 'neg_mean_squared_error','r2']"
   ]
  },
  {
   "cell_type": "markdown",
   "id": "75b20417",
   "metadata": {},
   "source": [
    "## Iterating over versions of the data set with a linear regressor\n",
    "\n",
    "Moving forward I'll be using forward selection to identify which version of my data set provides the best linear regression performance in order to inform what subset of the data is used in my modeling notebook on other types of regression models.  I'll be saving the scoring metrics for each model and comparing those results to inform my approach in the next notebook. \n",
    "\n",
    "I'll forward select different categories in this data set, starting with those that provide the most even distribution of revenue among their members.  In my previous notebook it was clear that revenue is exponentially distributed among the members of each category.  The goal of this process is to identify overfit with the data. As categories get larger the skew of the distribution of revenue becomes more extreme, making forward-selection a good method to use in this instance."
   ]
  },
  {
   "cell_type": "markdown",
   "id": "6503312d",
   "metadata": {},
   "source": [
    "### Linear regression with only numerical data"
   ]
  },
  {
   "cell_type": "code",
   "execution_count": 17,
   "id": "6b020913",
   "metadata": {},
   "outputs": [],
   "source": [
    "linear_num = LinearRegression()"
   ]
  },
  {
   "cell_type": "code",
   "execution_count": 18,
   "id": "69070f5b",
   "metadata": {},
   "outputs": [
    {
     "data": {
      "text/html": [
       "<div>\n",
       "<style scoped>\n",
       "    .dataframe tbody tr th:only-of-type {\n",
       "        vertical-align: middle;\n",
       "    }\n",
       "\n",
       "    .dataframe tbody tr th {\n",
       "        vertical-align: top;\n",
       "    }\n",
       "\n",
       "    .dataframe thead th {\n",
       "        text-align: right;\n",
       "    }\n",
       "</style>\n",
       "<table border=\"1\" class=\"dataframe\">\n",
       "  <thead>\n",
       "    <tr style=\"text-align: right;\">\n",
       "      <th></th>\n",
       "      <th>budget</th>\n",
       "      <th>popularity</th>\n",
       "      <th>runtime</th>\n",
       "      <th>Overview_length</th>\n",
       "      <th>Tag_length</th>\n",
       "    </tr>\n",
       "  </thead>\n",
       "  <tbody>\n",
       "    <tr>\n",
       "      <th>1114</th>\n",
       "      <td>1.00702</td>\n",
       "      <td>-0.19992</td>\n",
       "      <td>0.07848</td>\n",
       "      <td>0.68098</td>\n",
       "      <td>-0.53609</td>\n",
       "    </tr>\n",
       "    <tr>\n",
       "      <th>979</th>\n",
       "      <td>0.73746</td>\n",
       "      <td>-0.19234</td>\n",
       "      <td>-1.19260</td>\n",
       "      <td>0.95877</td>\n",
       "      <td>0.19470</td>\n",
       "    </tr>\n",
       "    <tr>\n",
       "      <th>1672</th>\n",
       "      <td>-0.16104</td>\n",
       "      <td>0.30879</td>\n",
       "      <td>-0.21485</td>\n",
       "      <td>-0.27147</td>\n",
       "      <td>-0.33310</td>\n",
       "    </tr>\n",
       "  </tbody>\n",
       "</table>\n",
       "</div>"
      ],
      "text/plain": [
       "       budget  popularity  runtime  Overview_length  Tag_length\n",
       "1114  1.00702    -0.19992  0.07848          0.68098    -0.53609\n",
       "979   0.73746    -0.19234 -1.19260          0.95877     0.19470\n",
       "1672 -0.16104     0.30879 -0.21485         -0.27147    -0.33310"
      ]
     },
     "execution_count": 18,
     "metadata": {},
     "output_type": "execute_result"
    }
   ],
   "source": [
    "#subset the training data on numeric only\n",
    "Num_train = X_train.Numerical\n",
    "Num_train.head(3)"
   ]
  },
  {
   "cell_type": "code",
   "execution_count": 19,
   "id": "7127d2a6",
   "metadata": {},
   "outputs": [
    {
     "data": {
      "text/plain": [
       "{'fit_time': array([0.02237606, 0.00196838, 0.00200033, 0.00201249, 0.0030055 ]),\n",
       " 'score_time': array([0.00199747, 0.00379395, 0.00199747, 0.00199366, 0.00195384]),\n",
       " 'test_neg_mean_absolute_percentage_error': array([ -9.76759806, -25.05493649, -10.77624981,  -4.95096175,\n",
       "         -7.36415794]),\n",
       " 'test_neg_mean_squared_error': array([-1.61322403e+16, -1.33388401e+16, -1.92714273e+16, -1.36618831e+16,\n",
       "        -1.57171279e+16]),\n",
       " 'test_r2': array([0.48414671, 0.60012038, 0.45986548, 0.58608044, 0.44244005])}"
      ]
     },
     "execution_count": 19,
     "metadata": {},
     "output_type": "execute_result"
    }
   ],
   "source": [
    "# leaving 'cv' as the default 5-folds\n",
    "num_results = cross_validate(linear_num, Num_train, y_train, scoring=metrics)\n",
    "#showing results to more easily create a replicatable method of collecting the mean score for each metric\n",
    "num_results"
   ]
  },
  {
   "cell_type": "code",
   "execution_count": 20,
   "id": "32a00c80",
   "metadata": {},
   "outputs": [
    {
     "name": "stdout",
     "output_type": "stream",
     "text": [
      "MAPE_num:  1158.278\n",
      "RMSE_num:  124997214.85881\n",
      "R2_num:  0.51453\n"
     ]
    }
   ],
   "source": [
    "# Use numpy mathematical functions to get the mean score for each metric\n",
    "MAPE_num = round(np.mean(np.abs(num_results['test_neg_mean_absolute_percentage_error'])), 5)*100\n",
    "RMSE_num = round(np.sqrt(np.mean(np.abs(num_results['test_neg_mean_squared_error']))), 5)\n",
    "R2_num = round(np.mean(num_results['test_r2']), 5)\n",
    "print('MAPE_num: ', MAPE_num)\n",
    "print('RMSE_num: ', RMSE_num)\n",
    "print('R2_num: ', R2_num)\n",
    "\n",
    "num = {\"MAPE\":MAPE_num, \"RMSE\":RMSE_num, \"R2\":R2_num}"
   ]
  },
  {
   "cell_type": "markdown",
   "id": "faa05bc0",
   "metadata": {},
   "source": [
    "### Linear regression with Numerical & Genre data"
   ]
  },
  {
   "cell_type": "code",
   "execution_count": 21,
   "id": "06a9106a",
   "metadata": {},
   "outputs": [],
   "source": [
    "linear_genre = LinearRegression()"
   ]
  },
  {
   "cell_type": "code",
   "execution_count": 22,
   "id": "0e3c8109",
   "metadata": {},
   "outputs": [
    {
     "data": {
      "text/html": [
       "<div>\n",
       "<style scoped>\n",
       "    .dataframe tbody tr th:only-of-type {\n",
       "        vertical-align: middle;\n",
       "    }\n",
       "\n",
       "    .dataframe tbody tr th {\n",
       "        vertical-align: top;\n",
       "    }\n",
       "\n",
       "    .dataframe thead tr th {\n",
       "        text-align: left;\n",
       "    }\n",
       "</style>\n",
       "<table border=\"1\" class=\"dataframe\">\n",
       "  <thead>\n",
       "    <tr>\n",
       "      <th></th>\n",
       "      <th colspan=\"16\" halign=\"left\">Genre</th>\n",
       "      <th colspan=\"5\" halign=\"left\">Numerical</th>\n",
       "    </tr>\n",
       "    <tr>\n",
       "      <th></th>\n",
       "      <th>Action</th>\n",
       "      <th>Adventure</th>\n",
       "      <th>Animation</th>\n",
       "      <th>Comedy</th>\n",
       "      <th>Crime</th>\n",
       "      <th>Documentary</th>\n",
       "      <th>Drama</th>\n",
       "      <th>Family</th>\n",
       "      <th>Fantasy</th>\n",
       "      <th>Foreign</th>\n",
       "      <th>...</th>\n",
       "      <th>Romance</th>\n",
       "      <th>Science Fiction</th>\n",
       "      <th>Thriller</th>\n",
       "      <th>War</th>\n",
       "      <th>Western</th>\n",
       "      <th>budget</th>\n",
       "      <th>popularity</th>\n",
       "      <th>runtime</th>\n",
       "      <th>Overview_length</th>\n",
       "      <th>Tag_length</th>\n",
       "    </tr>\n",
       "  </thead>\n",
       "  <tbody>\n",
       "    <tr>\n",
       "      <th>1114</th>\n",
       "      <td>1</td>\n",
       "      <td>1</td>\n",
       "      <td>0</td>\n",
       "      <td>0</td>\n",
       "      <td>0</td>\n",
       "      <td>0</td>\n",
       "      <td>1</td>\n",
       "      <td>0</td>\n",
       "      <td>0</td>\n",
       "      <td>0</td>\n",
       "      <td>...</td>\n",
       "      <td>0</td>\n",
       "      <td>0</td>\n",
       "      <td>0</td>\n",
       "      <td>0</td>\n",
       "      <td>0</td>\n",
       "      <td>1.00702</td>\n",
       "      <td>-0.19992</td>\n",
       "      <td>0.07848</td>\n",
       "      <td>0.68098</td>\n",
       "      <td>-0.53609</td>\n",
       "    </tr>\n",
       "    <tr>\n",
       "      <th>979</th>\n",
       "      <td>0</td>\n",
       "      <td>1</td>\n",
       "      <td>1</td>\n",
       "      <td>0</td>\n",
       "      <td>0</td>\n",
       "      <td>0</td>\n",
       "      <td>0</td>\n",
       "      <td>1</td>\n",
       "      <td>0</td>\n",
       "      <td>0</td>\n",
       "      <td>...</td>\n",
       "      <td>0</td>\n",
       "      <td>0</td>\n",
       "      <td>0</td>\n",
       "      <td>0</td>\n",
       "      <td>0</td>\n",
       "      <td>0.73746</td>\n",
       "      <td>-0.19234</td>\n",
       "      <td>-1.19260</td>\n",
       "      <td>0.95877</td>\n",
       "      <td>0.19470</td>\n",
       "    </tr>\n",
       "    <tr>\n",
       "      <th>1672</th>\n",
       "      <td>0</td>\n",
       "      <td>0</td>\n",
       "      <td>0</td>\n",
       "      <td>0</td>\n",
       "      <td>0</td>\n",
       "      <td>0</td>\n",
       "      <td>1</td>\n",
       "      <td>0</td>\n",
       "      <td>0</td>\n",
       "      <td>0</td>\n",
       "      <td>...</td>\n",
       "      <td>0</td>\n",
       "      <td>0</td>\n",
       "      <td>1</td>\n",
       "      <td>0</td>\n",
       "      <td>0</td>\n",
       "      <td>-0.16104</td>\n",
       "      <td>0.30879</td>\n",
       "      <td>-0.21485</td>\n",
       "      <td>-0.27147</td>\n",
       "      <td>-0.33310</td>\n",
       "    </tr>\n",
       "  </tbody>\n",
       "</table>\n",
       "<p>3 rows × 25 columns</p>\n",
       "</div>"
      ],
      "text/plain": [
       "      Genre                                                                    \\\n",
       "     Action Adventure Animation Comedy Crime Documentary Drama Family Fantasy   \n",
       "1114      1         1         0      0     0           0     1      0       0   \n",
       "979       0         1         1      0     0           0     0      1       0   \n",
       "1672      0         0         0      0     0           0     1      0       0   \n",
       "\n",
       "              ...                                              Numerical  \\\n",
       "     Foreign  ... Romance Science Fiction Thriller War Western    budget   \n",
       "1114       0  ...       0               0        0   0       0   1.00702   \n",
       "979        0  ...       0               0        0   0       0   0.73746   \n",
       "1672       0  ...       0               0        1   0       0  -0.16104   \n",
       "\n",
       "                                                     \n",
       "     popularity  runtime Overview_length Tag_length  \n",
       "1114   -0.19992  0.07848         0.68098   -0.53609  \n",
       "979    -0.19234 -1.19260         0.95877    0.19470  \n",
       "1672    0.30879 -0.21485        -0.27147   -0.33310  \n",
       "\n",
       "[3 rows x 25 columns]"
      ]
     },
     "execution_count": 22,
     "metadata": {},
     "output_type": "execute_result"
    }
   ],
   "source": [
    "# Subset training data appropriately\n",
    "drop_list = ['Company', 'Country', 'Spoken_lang', 'Keywords', 'Descriptive', 'Release_year', 'Release_month']\n",
    "Genre = X_train\n",
    "for item in drop_list:\n",
    "    Genre = Genre.drop(item, level=0, axis=1)\n",
    "Genre.head(3)"
   ]
  },
  {
   "cell_type": "code",
   "execution_count": 23,
   "id": "010bcef7",
   "metadata": {},
   "outputs": [
    {
     "name": "stdout",
     "output_type": "stream",
     "text": [
      "MAPE_genre:  1457.404\n",
      "RMSE_genre:  122561605.53471\n",
      "R2_genre:  0.53345\n"
     ]
    }
   ],
   "source": [
    "genre_results = cross_validate(linear_genre, Genre, y_train, scoring=metrics)\n",
    "MAPE_genre = round(np.mean(np.abs(genre_results['test_neg_mean_absolute_percentage_error'])), 5)*100\n",
    "RMSE_genre = round(np.sqrt(np.mean(np.abs(genre_results['test_neg_mean_squared_error']))), 5)\n",
    "R2_genre = round(np.mean(genre_results['test_r2']), 5)\n",
    "print('MAPE_genre: ', MAPE_genre)\n",
    "print('RMSE_genre: ', RMSE_genre)\n",
    "print('R2_genre: ', R2_genre)\n",
    "\n",
    "genre = {'MAPE':MAPE_genre, \"RMSE\":RMSE_genre, 'R2':R2_genre}"
   ]
  },
  {
   "cell_type": "markdown",
   "id": "713e750d",
   "metadata": {},
   "source": [
    "Adding in the categorical data for genres has increased the % error and total dollar error of the model, while increasing R-squared metrics.  "
   ]
  },
  {
   "cell_type": "markdown",
   "id": "e5da49de",
   "metadata": {},
   "source": [
    "### Linear regression adding in collection information"
   ]
  },
  {
   "cell_type": "code",
   "execution_count": 24,
   "id": "bec67b28",
   "metadata": {},
   "outputs": [
    {
     "data": {
      "text/html": [
       "<div>\n",
       "<style scoped>\n",
       "    .dataframe tbody tr th:only-of-type {\n",
       "        vertical-align: middle;\n",
       "    }\n",
       "\n",
       "    .dataframe tbody tr th {\n",
       "        vertical-align: top;\n",
       "    }\n",
       "\n",
       "    .dataframe thead tr th {\n",
       "        text-align: left;\n",
       "    }\n",
       "</style>\n",
       "<table border=\"1\" class=\"dataframe\">\n",
       "  <thead>\n",
       "    <tr>\n",
       "      <th></th>\n",
       "      <th colspan=\"15\" halign=\"left\">Genre</th>\n",
       "      <th>Descriptive</th>\n",
       "      <th colspan=\"5\" halign=\"left\">Numerical</th>\n",
       "    </tr>\n",
       "    <tr>\n",
       "      <th></th>\n",
       "      <th>Action</th>\n",
       "      <th>Adventure</th>\n",
       "      <th>Animation</th>\n",
       "      <th>Comedy</th>\n",
       "      <th>Crime</th>\n",
       "      <th>Documentary</th>\n",
       "      <th>Drama</th>\n",
       "      <th>Family</th>\n",
       "      <th>Fantasy</th>\n",
       "      <th>Foreign</th>\n",
       "      <th>...</th>\n",
       "      <th>Science Fiction</th>\n",
       "      <th>Thriller</th>\n",
       "      <th>War</th>\n",
       "      <th>Western</th>\n",
       "      <th>Collection</th>\n",
       "      <th>budget</th>\n",
       "      <th>popularity</th>\n",
       "      <th>runtime</th>\n",
       "      <th>Overview_length</th>\n",
       "      <th>Tag_length</th>\n",
       "    </tr>\n",
       "  </thead>\n",
       "  <tbody>\n",
       "    <tr>\n",
       "      <th>1114</th>\n",
       "      <td>1</td>\n",
       "      <td>1</td>\n",
       "      <td>0</td>\n",
       "      <td>0</td>\n",
       "      <td>0</td>\n",
       "      <td>0</td>\n",
       "      <td>1</td>\n",
       "      <td>0</td>\n",
       "      <td>0</td>\n",
       "      <td>0</td>\n",
       "      <td>...</td>\n",
       "      <td>0</td>\n",
       "      <td>0</td>\n",
       "      <td>0</td>\n",
       "      <td>0</td>\n",
       "      <td>0</td>\n",
       "      <td>1.00702</td>\n",
       "      <td>-0.19992</td>\n",
       "      <td>0.07848</td>\n",
       "      <td>0.68098</td>\n",
       "      <td>-0.53609</td>\n",
       "    </tr>\n",
       "    <tr>\n",
       "      <th>979</th>\n",
       "      <td>0</td>\n",
       "      <td>1</td>\n",
       "      <td>1</td>\n",
       "      <td>0</td>\n",
       "      <td>0</td>\n",
       "      <td>0</td>\n",
       "      <td>0</td>\n",
       "      <td>1</td>\n",
       "      <td>0</td>\n",
       "      <td>0</td>\n",
       "      <td>...</td>\n",
       "      <td>0</td>\n",
       "      <td>0</td>\n",
       "      <td>0</td>\n",
       "      <td>0</td>\n",
       "      <td>0</td>\n",
       "      <td>0.73746</td>\n",
       "      <td>-0.19234</td>\n",
       "      <td>-1.19260</td>\n",
       "      <td>0.95877</td>\n",
       "      <td>0.19470</td>\n",
       "    </tr>\n",
       "    <tr>\n",
       "      <th>1672</th>\n",
       "      <td>0</td>\n",
       "      <td>0</td>\n",
       "      <td>0</td>\n",
       "      <td>0</td>\n",
       "      <td>0</td>\n",
       "      <td>0</td>\n",
       "      <td>1</td>\n",
       "      <td>0</td>\n",
       "      <td>0</td>\n",
       "      <td>0</td>\n",
       "      <td>...</td>\n",
       "      <td>0</td>\n",
       "      <td>1</td>\n",
       "      <td>0</td>\n",
       "      <td>0</td>\n",
       "      <td>0</td>\n",
       "      <td>-0.16104</td>\n",
       "      <td>0.30879</td>\n",
       "      <td>-0.21485</td>\n",
       "      <td>-0.27147</td>\n",
       "      <td>-0.33310</td>\n",
       "    </tr>\n",
       "  </tbody>\n",
       "</table>\n",
       "<p>3 rows × 26 columns</p>\n",
       "</div>"
      ],
      "text/plain": [
       "      Genre                                                                    \\\n",
       "     Action Adventure Animation Comedy Crime Documentary Drama Family Fantasy   \n",
       "1114      1         1         0      0     0           0     1      0       0   \n",
       "979       0         1         1      0     0           0     0      1       0   \n",
       "1672      0         0         0      0     0           0     1      0       0   \n",
       "\n",
       "              ...                                      Descriptive Numerical  \\\n",
       "     Foreign  ... Science Fiction Thriller War Western  Collection    budget   \n",
       "1114       0  ...               0        0   0       0           0   1.00702   \n",
       "979        0  ...               0        0   0       0           0   0.73746   \n",
       "1672       0  ...               0        1   0       0           0  -0.16104   \n",
       "\n",
       "                                                     \n",
       "     popularity  runtime Overview_length Tag_length  \n",
       "1114   -0.19992  0.07848         0.68098   -0.53609  \n",
       "979    -0.19234 -1.19260         0.95877    0.19470  \n",
       "1672    0.30879 -0.21485        -0.27147   -0.33310  \n",
       "\n",
       "[3 rows x 26 columns]"
      ]
     },
     "execution_count": 24,
     "metadata": {},
     "output_type": "execute_result"
    }
   ],
   "source": [
    "# Subset training data appropriately\n",
    "drop_list = ['Company', 'Country', 'Spoken_lang', 'Keywords', 'Release_year', 'Release_month']\n",
    "Collection = X_train\n",
    "for item in drop_list:\n",
    "    Collection = Collection.drop(item, level=0, axis=1)\n",
    "Collection.head(3)"
   ]
  },
  {
   "cell_type": "code",
   "execution_count": 25,
   "id": "639f4571",
   "metadata": {},
   "outputs": [],
   "source": [
    "linear_col = LinearRegression()"
   ]
  },
  {
   "cell_type": "code",
   "execution_count": 26,
   "id": "6edbbc4e",
   "metadata": {},
   "outputs": [
    {
     "name": "stdout",
     "output_type": "stream",
     "text": [
      "MAPE_col:  1728.879\n",
      "RMSE_col:  117966542.51019\n",
      "R2_col:  0.56711\n"
     ]
    }
   ],
   "source": [
    "col_results = cross_validate(linear_col, Collection, y_train, scoring=metrics)\n",
    "MAPE_col = round(np.mean(np.abs(col_results['test_neg_mean_absolute_percentage_error'])), 5)*100\n",
    "RMSE_col = round(np.sqrt(np.mean(np.abs(col_results['test_neg_mean_squared_error']))), 5)\n",
    "R2_col = round(np.mean(col_results['test_r2']), 5)\n",
    "print('MAPE_col: ', MAPE_col)\n",
    "print('RMSE_col: ', RMSE_col)\n",
    "print('R2_col: ', R2_col)\n",
    "\n",
    "collection = {\"MAPE\":MAPE_col, \"RMSE\":RMSE_col, \"R2\":R2_col}"
   ]
  },
  {
   "cell_type": "markdown",
   "id": "8296a1c0",
   "metadata": {},
   "source": [
    "Aggain, adding in the boolean for collection information has decreased the % error and RMSE metrics, while increasing the R-squared score."
   ]
  },
  {
   "cell_type": "markdown",
   "id": "3f9d095d",
   "metadata": {},
   "source": [
    "### Linear regression adding in language data"
   ]
  },
  {
   "cell_type": "code",
   "execution_count": 27,
   "id": "ba97cf94",
   "metadata": {},
   "outputs": [
    {
     "data": {
      "text/html": [
       "<div>\n",
       "<style scoped>\n",
       "    .dataframe tbody tr th:only-of-type {\n",
       "        vertical-align: middle;\n",
       "    }\n",
       "\n",
       "    .dataframe tbody tr th {\n",
       "        vertical-align: top;\n",
       "    }\n",
       "\n",
       "    .dataframe thead tr th {\n",
       "        text-align: left;\n",
       "    }\n",
       "</style>\n",
       "<table border=\"1\" class=\"dataframe\">\n",
       "  <thead>\n",
       "    <tr>\n",
       "      <th></th>\n",
       "      <th colspan=\"14\" halign=\"left\">Genre</th>\n",
       "      <th>Spoken_lang</th>\n",
       "      <th>Descriptive</th>\n",
       "      <th colspan=\"5\" halign=\"left\">Numerical</th>\n",
       "    </tr>\n",
       "    <tr>\n",
       "      <th></th>\n",
       "      <th>Action</th>\n",
       "      <th>Adventure</th>\n",
       "      <th>Animation</th>\n",
       "      <th>Comedy</th>\n",
       "      <th>Crime</th>\n",
       "      <th>Documentary</th>\n",
       "      <th>Drama</th>\n",
       "      <th>Family</th>\n",
       "      <th>Fantasy</th>\n",
       "      <th>Foreign</th>\n",
       "      <th>...</th>\n",
       "      <th>Thriller</th>\n",
       "      <th>War</th>\n",
       "      <th>Western</th>\n",
       "      <th>English</th>\n",
       "      <th>Collection</th>\n",
       "      <th>budget</th>\n",
       "      <th>popularity</th>\n",
       "      <th>runtime</th>\n",
       "      <th>Overview_length</th>\n",
       "      <th>Tag_length</th>\n",
       "    </tr>\n",
       "  </thead>\n",
       "  <tbody>\n",
       "    <tr>\n",
       "      <th>1114</th>\n",
       "      <td>1</td>\n",
       "      <td>1</td>\n",
       "      <td>0</td>\n",
       "      <td>0</td>\n",
       "      <td>0</td>\n",
       "      <td>0</td>\n",
       "      <td>1</td>\n",
       "      <td>0</td>\n",
       "      <td>0</td>\n",
       "      <td>0</td>\n",
       "      <td>...</td>\n",
       "      <td>0</td>\n",
       "      <td>0</td>\n",
       "      <td>0</td>\n",
       "      <td>1</td>\n",
       "      <td>0</td>\n",
       "      <td>1.00702</td>\n",
       "      <td>-0.19992</td>\n",
       "      <td>0.07848</td>\n",
       "      <td>0.68098</td>\n",
       "      <td>-0.53609</td>\n",
       "    </tr>\n",
       "    <tr>\n",
       "      <th>979</th>\n",
       "      <td>0</td>\n",
       "      <td>1</td>\n",
       "      <td>1</td>\n",
       "      <td>0</td>\n",
       "      <td>0</td>\n",
       "      <td>0</td>\n",
       "      <td>0</td>\n",
       "      <td>1</td>\n",
       "      <td>0</td>\n",
       "      <td>0</td>\n",
       "      <td>...</td>\n",
       "      <td>0</td>\n",
       "      <td>0</td>\n",
       "      <td>0</td>\n",
       "      <td>1</td>\n",
       "      <td>0</td>\n",
       "      <td>0.73746</td>\n",
       "      <td>-0.19234</td>\n",
       "      <td>-1.19260</td>\n",
       "      <td>0.95877</td>\n",
       "      <td>0.19470</td>\n",
       "    </tr>\n",
       "    <tr>\n",
       "      <th>1672</th>\n",
       "      <td>0</td>\n",
       "      <td>0</td>\n",
       "      <td>0</td>\n",
       "      <td>0</td>\n",
       "      <td>0</td>\n",
       "      <td>0</td>\n",
       "      <td>1</td>\n",
       "      <td>0</td>\n",
       "      <td>0</td>\n",
       "      <td>0</td>\n",
       "      <td>...</td>\n",
       "      <td>1</td>\n",
       "      <td>0</td>\n",
       "      <td>0</td>\n",
       "      <td>1</td>\n",
       "      <td>0</td>\n",
       "      <td>-0.16104</td>\n",
       "      <td>0.30879</td>\n",
       "      <td>-0.21485</td>\n",
       "      <td>-0.27147</td>\n",
       "      <td>-0.33310</td>\n",
       "    </tr>\n",
       "  </tbody>\n",
       "</table>\n",
       "<p>3 rows × 27 columns</p>\n",
       "</div>"
      ],
      "text/plain": [
       "      Genre                                                                    \\\n",
       "     Action Adventure Animation Comedy Crime Documentary Drama Family Fantasy   \n",
       "1114      1         1         0      0     0           0     1      0       0   \n",
       "979       0         1         1      0     0           0     0      1       0   \n",
       "1672      0         0         0      0     0           0     1      0       0   \n",
       "\n",
       "              ...                      Spoken_lang Descriptive Numerical  \\\n",
       "     Foreign  ... Thriller War Western     English  Collection    budget   \n",
       "1114       0  ...        0   0       0           1           0   1.00702   \n",
       "979        0  ...        0   0       0           1           0   0.73746   \n",
       "1672       0  ...        1   0       0           1           0  -0.16104   \n",
       "\n",
       "                                                     \n",
       "     popularity  runtime Overview_length Tag_length  \n",
       "1114   -0.19992  0.07848         0.68098   -0.53609  \n",
       "979    -0.19234 -1.19260         0.95877    0.19470  \n",
       "1672    0.30879 -0.21485        -0.27147   -0.33310  \n",
       "\n",
       "[3 rows x 27 columns]"
      ]
     },
     "execution_count": 27,
     "metadata": {},
     "output_type": "execute_result"
    }
   ],
   "source": [
    "# Subset training data appropriately\n",
    "drop_list = ['Company', 'Country', 'Keywords', 'Release_year', 'Release_month']\n",
    "Lang = X_train\n",
    "for item in drop_list:\n",
    "    Lang = Lang.drop(item, level=0, axis=1)\n",
    "Lang.head(3)"
   ]
  },
  {
   "cell_type": "code",
   "execution_count": 28,
   "id": "a05cef7c",
   "metadata": {},
   "outputs": [],
   "source": [
    "linear_lang = LinearRegression()"
   ]
  },
  {
   "cell_type": "code",
   "execution_count": 29,
   "id": "2838cb53",
   "metadata": {},
   "outputs": [
    {
     "name": "stdout",
     "output_type": "stream",
     "text": [
      "MAPE_lang:  1720.9969999999998\n",
      "RMSE_lang:  117904793.96104\n",
      "R2_lang:  0.56754\n"
     ]
    }
   ],
   "source": [
    "Lang_results = cross_validate(linear_lang, Lang, y_train, scoring=metrics)\n",
    "MAPE_lang = round(np.mean(np.abs(Lang_results['test_neg_mean_absolute_percentage_error'])), 5)*100\n",
    "RMSE_lang = round(np.sqrt(np.mean(np.abs(Lang_results['test_neg_mean_squared_error']))), 5)\n",
    "R2_lang = round(np.mean(Lang_results['test_r2']), 5)\n",
    "print('MAPE_lang: ', MAPE_lang)\n",
    "print('RMSE_lang: ', RMSE_lang)\n",
    "print('R2_lang: ', R2_lang)\n",
    "\n",
    "language = {\"MAPE\":MAPE_lang, \"RMSE\": RMSE_lang, \"R2\":R2_lang}"
   ]
  },
  {
   "cell_type": "markdown",
   "id": "cb3ebf57",
   "metadata": {},
   "source": [
    "Somewhat surprisingly adding in language information has marginally improved the % error and RMSE scores, **and** improved the R-squared score slightly.  It's notable that all three scores improved here.  In the scratch notebook I was working with prior to this removing categorical information usually improved the MAPE/RMSE **or** R-squared, but not both.   This could be a result of using a different approach (macro-elimination) to test for overfit in that notebook, or perhaps is some interaction between Spoken_lang and the other categories that are present."
   ]
  },
  {
   "cell_type": "markdown",
   "id": "669c0904",
   "metadata": {},
   "source": [
    "### Linear regression after adding in data on the release month for each film\n",
    "\n",
    "Note: This is not time-series data, but rather one-hot-encoded features for each month indicating the month that a film was released in."
   ]
  },
  {
   "cell_type": "code",
   "execution_count": 30,
   "id": "34dfb7ff",
   "metadata": {},
   "outputs": [
    {
     "data": {
      "text/html": [
       "<div>\n",
       "<style scoped>\n",
       "    .dataframe tbody tr th:only-of-type {\n",
       "        vertical-align: middle;\n",
       "    }\n",
       "\n",
       "    .dataframe tbody tr th {\n",
       "        vertical-align: top;\n",
       "    }\n",
       "\n",
       "    .dataframe thead tr th {\n",
       "        text-align: left;\n",
       "    }\n",
       "</style>\n",
       "<table border=\"1\" class=\"dataframe\">\n",
       "  <thead>\n",
       "    <tr>\n",
       "      <th></th>\n",
       "      <th colspan=\"10\" halign=\"left\">Genre</th>\n",
       "      <th>...</th>\n",
       "      <th colspan=\"10\" halign=\"left\">Release_month</th>\n",
       "    </tr>\n",
       "    <tr>\n",
       "      <th></th>\n",
       "      <th>Action</th>\n",
       "      <th>Adventure</th>\n",
       "      <th>Animation</th>\n",
       "      <th>Comedy</th>\n",
       "      <th>Crime</th>\n",
       "      <th>Documentary</th>\n",
       "      <th>Drama</th>\n",
       "      <th>Family</th>\n",
       "      <th>Fantasy</th>\n",
       "      <th>Foreign</th>\n",
       "      <th>...</th>\n",
       "      <th>3</th>\n",
       "      <th>4</th>\n",
       "      <th>5</th>\n",
       "      <th>6</th>\n",
       "      <th>7</th>\n",
       "      <th>8</th>\n",
       "      <th>9</th>\n",
       "      <th>10</th>\n",
       "      <th>11</th>\n",
       "      <th>12</th>\n",
       "    </tr>\n",
       "  </thead>\n",
       "  <tbody>\n",
       "    <tr>\n",
       "      <th>1114</th>\n",
       "      <td>1</td>\n",
       "      <td>1</td>\n",
       "      <td>0</td>\n",
       "      <td>0</td>\n",
       "      <td>0</td>\n",
       "      <td>0</td>\n",
       "      <td>1</td>\n",
       "      <td>0</td>\n",
       "      <td>0</td>\n",
       "      <td>0</td>\n",
       "      <td>...</td>\n",
       "      <td>0</td>\n",
       "      <td>0</td>\n",
       "      <td>1</td>\n",
       "      <td>0</td>\n",
       "      <td>0</td>\n",
       "      <td>0</td>\n",
       "      <td>0</td>\n",
       "      <td>0</td>\n",
       "      <td>0</td>\n",
       "      <td>0</td>\n",
       "    </tr>\n",
       "    <tr>\n",
       "      <th>979</th>\n",
       "      <td>0</td>\n",
       "      <td>1</td>\n",
       "      <td>1</td>\n",
       "      <td>0</td>\n",
       "      <td>0</td>\n",
       "      <td>0</td>\n",
       "      <td>0</td>\n",
       "      <td>1</td>\n",
       "      <td>0</td>\n",
       "      <td>0</td>\n",
       "      <td>...</td>\n",
       "      <td>0</td>\n",
       "      <td>0</td>\n",
       "      <td>0</td>\n",
       "      <td>0</td>\n",
       "      <td>0</td>\n",
       "      <td>0</td>\n",
       "      <td>0</td>\n",
       "      <td>0</td>\n",
       "      <td>0</td>\n",
       "      <td>1</td>\n",
       "    </tr>\n",
       "    <tr>\n",
       "      <th>1672</th>\n",
       "      <td>0</td>\n",
       "      <td>0</td>\n",
       "      <td>0</td>\n",
       "      <td>0</td>\n",
       "      <td>0</td>\n",
       "      <td>0</td>\n",
       "      <td>1</td>\n",
       "      <td>0</td>\n",
       "      <td>0</td>\n",
       "      <td>0</td>\n",
       "      <td>...</td>\n",
       "      <td>0</td>\n",
       "      <td>0</td>\n",
       "      <td>0</td>\n",
       "      <td>0</td>\n",
       "      <td>0</td>\n",
       "      <td>1</td>\n",
       "      <td>0</td>\n",
       "      <td>0</td>\n",
       "      <td>0</td>\n",
       "      <td>0</td>\n",
       "    </tr>\n",
       "  </tbody>\n",
       "</table>\n",
       "<p>3 rows × 39 columns</p>\n",
       "</div>"
      ],
      "text/plain": [
       "      Genre                                                                    \\\n",
       "     Action Adventure Animation Comedy Crime Documentary Drama Family Fantasy   \n",
       "1114      1         1         0      0     0           0     1      0       0   \n",
       "979       0         1         1      0     0           0     0      1       0   \n",
       "1672      0         0         0      0     0           0     1      0       0   \n",
       "\n",
       "              ... Release_month                             \n",
       "     Foreign  ...             3  4  5  6  7  8  9 10 11 12  \n",
       "1114       0  ...             0  0  1  0  0  0  0  0  0  0  \n",
       "979        0  ...             0  0  0  0  0  0  0  0  0  1  \n",
       "1672       0  ...             0  0  0  0  0  1  0  0  0  0  \n",
       "\n",
       "[3 rows x 39 columns]"
      ]
     },
     "execution_count": 30,
     "metadata": {},
     "output_type": "execute_result"
    }
   ],
   "source": [
    "# Subset training data appropriately\n",
    "drop_list = ['Company', 'Country', 'Keywords', 'Release_year']\n",
    "Month = X_train\n",
    "for item in drop_list:\n",
    "    Month = Month.drop(item, level=0, axis=1)\n",
    "Month.head(3)"
   ]
  },
  {
   "cell_type": "code",
   "execution_count": 31,
   "id": "a4ef0031",
   "metadata": {},
   "outputs": [],
   "source": [
    "linear_month = LinearRegression()"
   ]
  },
  {
   "cell_type": "code",
   "execution_count": 32,
   "id": "092060ba",
   "metadata": {},
   "outputs": [
    {
     "name": "stdout",
     "output_type": "stream",
     "text": [
      "MAPE_month:  1690.456\n",
      "RMSE_month:  118443217.24308\n",
      "R2_month:  0.56317\n"
     ]
    }
   ],
   "source": [
    "month_results = cross_validate(linear_month, Month, y_train, scoring=metrics)\n",
    "MAPE_month = round(np.mean(np.abs(month_results['test_neg_mean_absolute_percentage_error'])), 5)*100\n",
    "RMSE_month = round(np.sqrt(np.mean(np.abs(month_results['test_neg_mean_squared_error']))), 5)\n",
    "R2_month = round(np.mean(month_results['test_r2']), 5)\n",
    "print('MAPE_month: ', MAPE_month)\n",
    "print('RMSE_month: ', RMSE_month)\n",
    "print('R2_month: ', R2_month)\n",
    "\n",
    "month = {\"MAPE\":MAPE_month, \"RMSE\":RMSE_month, \"R2\":R2_month}"
   ]
  },
  {
   "cell_type": "markdown",
   "id": "30cff0fc",
   "metadata": {},
   "source": [
    "Monthly data seems to have improved the MAPE score slightly, however it has equally slightly reduced the RMSE and R-squared scores.  I suspect that this will have a marginal impact on the model performance overall."
   ]
  },
  {
   "cell_type": "markdown",
   "id": "9bc8b5d8",
   "metadata": {},
   "source": [
    "### Linear regression including data on a film's release year"
   ]
  },
  {
   "cell_type": "code",
   "execution_count": 33,
   "id": "b663d649",
   "metadata": {},
   "outputs": [
    {
     "data": {
      "text/html": [
       "<div>\n",
       "<style scoped>\n",
       "    .dataframe tbody tr th:only-of-type {\n",
       "        vertical-align: middle;\n",
       "    }\n",
       "\n",
       "    .dataframe tbody tr th {\n",
       "        vertical-align: top;\n",
       "    }\n",
       "\n",
       "    .dataframe thead tr th {\n",
       "        text-align: left;\n",
       "    }\n",
       "</style>\n",
       "<table border=\"1\" class=\"dataframe\">\n",
       "  <thead>\n",
       "    <tr>\n",
       "      <th></th>\n",
       "      <th colspan=\"10\" halign=\"left\">Genre</th>\n",
       "      <th>...</th>\n",
       "      <th colspan=\"10\" halign=\"left\">Release_month</th>\n",
       "    </tr>\n",
       "    <tr>\n",
       "      <th></th>\n",
       "      <th>Action</th>\n",
       "      <th>Adventure</th>\n",
       "      <th>Animation</th>\n",
       "      <th>Comedy</th>\n",
       "      <th>Crime</th>\n",
       "      <th>Documentary</th>\n",
       "      <th>Drama</th>\n",
       "      <th>Family</th>\n",
       "      <th>Fantasy</th>\n",
       "      <th>Foreign</th>\n",
       "      <th>...</th>\n",
       "      <th>3</th>\n",
       "      <th>4</th>\n",
       "      <th>5</th>\n",
       "      <th>6</th>\n",
       "      <th>7</th>\n",
       "      <th>8</th>\n",
       "      <th>9</th>\n",
       "      <th>10</th>\n",
       "      <th>11</th>\n",
       "      <th>12</th>\n",
       "    </tr>\n",
       "  </thead>\n",
       "  <tbody>\n",
       "    <tr>\n",
       "      <th>1114</th>\n",
       "      <td>1</td>\n",
       "      <td>1</td>\n",
       "      <td>0</td>\n",
       "      <td>0</td>\n",
       "      <td>0</td>\n",
       "      <td>0</td>\n",
       "      <td>1</td>\n",
       "      <td>0</td>\n",
       "      <td>0</td>\n",
       "      <td>0</td>\n",
       "      <td>...</td>\n",
       "      <td>0</td>\n",
       "      <td>0</td>\n",
       "      <td>1</td>\n",
       "      <td>0</td>\n",
       "      <td>0</td>\n",
       "      <td>0</td>\n",
       "      <td>0</td>\n",
       "      <td>0</td>\n",
       "      <td>0</td>\n",
       "      <td>0</td>\n",
       "    </tr>\n",
       "    <tr>\n",
       "      <th>979</th>\n",
       "      <td>0</td>\n",
       "      <td>1</td>\n",
       "      <td>1</td>\n",
       "      <td>0</td>\n",
       "      <td>0</td>\n",
       "      <td>0</td>\n",
       "      <td>0</td>\n",
       "      <td>1</td>\n",
       "      <td>0</td>\n",
       "      <td>0</td>\n",
       "      <td>...</td>\n",
       "      <td>0</td>\n",
       "      <td>0</td>\n",
       "      <td>0</td>\n",
       "      <td>0</td>\n",
       "      <td>0</td>\n",
       "      <td>0</td>\n",
       "      <td>0</td>\n",
       "      <td>0</td>\n",
       "      <td>0</td>\n",
       "      <td>1</td>\n",
       "    </tr>\n",
       "    <tr>\n",
       "      <th>1672</th>\n",
       "      <td>0</td>\n",
       "      <td>0</td>\n",
       "      <td>0</td>\n",
       "      <td>0</td>\n",
       "      <td>0</td>\n",
       "      <td>0</td>\n",
       "      <td>1</td>\n",
       "      <td>0</td>\n",
       "      <td>0</td>\n",
       "      <td>0</td>\n",
       "      <td>...</td>\n",
       "      <td>0</td>\n",
       "      <td>0</td>\n",
       "      <td>0</td>\n",
       "      <td>0</td>\n",
       "      <td>0</td>\n",
       "      <td>1</td>\n",
       "      <td>0</td>\n",
       "      <td>0</td>\n",
       "      <td>0</td>\n",
       "      <td>0</td>\n",
       "    </tr>\n",
       "  </tbody>\n",
       "</table>\n",
       "<p>3 rows × 87 columns</p>\n",
       "</div>"
      ],
      "text/plain": [
       "      Genre                                                                    \\\n",
       "     Action Adventure Animation Comedy Crime Documentary Drama Family Fantasy   \n",
       "1114      1         1         0      0     0           0     1      0       0   \n",
       "979       0         1         1      0     0           0     0      1       0   \n",
       "1672      0         0         0      0     0           0     1      0       0   \n",
       "\n",
       "              ... Release_month                             \n",
       "     Foreign  ...             3  4  5  6  7  8  9 10 11 12  \n",
       "1114       0  ...             0  0  1  0  0  0  0  0  0  0  \n",
       "979        0  ...             0  0  0  0  0  0  0  0  0  1  \n",
       "1672       0  ...             0  0  0  0  0  1  0  0  0  0  \n",
       "\n",
       "[3 rows x 87 columns]"
      ]
     },
     "execution_count": 33,
     "metadata": {},
     "output_type": "execute_result"
    }
   ],
   "source": [
    "# Subset training data appropriately\n",
    "drop_list = ['Company', 'Country', 'Keywords']\n",
    "Year = X_train\n",
    "for item in drop_list:\n",
    "    Year = Year.drop(item, level=0, axis=1)\n",
    "Year.head(3)"
   ]
  },
  {
   "cell_type": "code",
   "execution_count": 34,
   "id": "33934449",
   "metadata": {},
   "outputs": [],
   "source": [
    "linear_year = LinearRegression()"
   ]
  },
  {
   "cell_type": "code",
   "execution_count": 35,
   "id": "f132a4a6",
   "metadata": {},
   "outputs": [
    {
     "name": "stdout",
     "output_type": "stream",
     "text": [
      "MAPE_year:  20503584973233.758\n",
      "RMSE_year:  8.76132230490481e+18\n",
      "R2_year:  -2.1514307307889167e+21\n"
     ]
    }
   ],
   "source": [
    "annual_results = cross_validate(linear_year, Year, y_train, scoring=metrics)\n",
    "MAPE_year = round(np.mean(np.abs(annual_results['test_neg_mean_absolute_percentage_error'])), 5)*100\n",
    "RMSE_year = round(np.sqrt(np.mean(np.abs(annual_results['test_neg_mean_squared_error']))), 5)\n",
    "R2_year = round(np.mean(annual_results['test_r2']), 5)\n",
    "print('MAPE_year: ', MAPE_year)\n",
    "print('RMSE_year: ', RMSE_year)\n",
    "print('R2_year: ', R2_year)\n",
    "\n",
    "annual = {'MAPE':MAPE_year, \"RMSE\":RMSE_year, \"R2\":R2_year}"
   ]
  },
  {
   "cell_type": "markdown",
   "id": "8417e425",
   "metadata": {},
   "source": [
    "### Linear Regression adding in information on a film's production companies\n",
    "\n",
    "This segment of data is more difficult to bin, since each film has multiple production companies that helped to create it. "
   ]
  },
  {
   "cell_type": "code",
   "execution_count": 36,
   "id": "bc5c2d56",
   "metadata": {},
   "outputs": [
    {
     "data": {
      "text/html": [
       "<div>\n",
       "<style scoped>\n",
       "    .dataframe tbody tr th:only-of-type {\n",
       "        vertical-align: middle;\n",
       "    }\n",
       "\n",
       "    .dataframe tbody tr th {\n",
       "        vertical-align: top;\n",
       "    }\n",
       "\n",
       "    .dataframe thead tr th {\n",
       "        text-align: left;\n",
       "    }\n",
       "</style>\n",
       "<table border=\"1\" class=\"dataframe\">\n",
       "  <thead>\n",
       "    <tr>\n",
       "      <th></th>\n",
       "      <th colspan=\"10\" halign=\"left\">Genre</th>\n",
       "      <th>...</th>\n",
       "      <th colspan=\"10\" halign=\"left\">Release_month</th>\n",
       "    </tr>\n",
       "    <tr>\n",
       "      <th></th>\n",
       "      <th>Action</th>\n",
       "      <th>Adventure</th>\n",
       "      <th>Animation</th>\n",
       "      <th>Comedy</th>\n",
       "      <th>Crime</th>\n",
       "      <th>Documentary</th>\n",
       "      <th>Drama</th>\n",
       "      <th>Family</th>\n",
       "      <th>Fantasy</th>\n",
       "      <th>Foreign</th>\n",
       "      <th>...</th>\n",
       "      <th>3</th>\n",
       "      <th>4</th>\n",
       "      <th>5</th>\n",
       "      <th>6</th>\n",
       "      <th>7</th>\n",
       "      <th>8</th>\n",
       "      <th>9</th>\n",
       "      <th>10</th>\n",
       "      <th>11</th>\n",
       "      <th>12</th>\n",
       "    </tr>\n",
       "  </thead>\n",
       "  <tbody>\n",
       "    <tr>\n",
       "      <th>1114</th>\n",
       "      <td>1</td>\n",
       "      <td>1</td>\n",
       "      <td>0</td>\n",
       "      <td>0</td>\n",
       "      <td>0</td>\n",
       "      <td>0</td>\n",
       "      <td>1</td>\n",
       "      <td>0</td>\n",
       "      <td>0</td>\n",
       "      <td>0</td>\n",
       "      <td>...</td>\n",
       "      <td>0</td>\n",
       "      <td>0</td>\n",
       "      <td>1</td>\n",
       "      <td>0</td>\n",
       "      <td>0</td>\n",
       "      <td>0</td>\n",
       "      <td>0</td>\n",
       "      <td>0</td>\n",
       "      <td>0</td>\n",
       "      <td>0</td>\n",
       "    </tr>\n",
       "    <tr>\n",
       "      <th>979</th>\n",
       "      <td>0</td>\n",
       "      <td>1</td>\n",
       "      <td>1</td>\n",
       "      <td>0</td>\n",
       "      <td>0</td>\n",
       "      <td>0</td>\n",
       "      <td>0</td>\n",
       "      <td>1</td>\n",
       "      <td>0</td>\n",
       "      <td>0</td>\n",
       "      <td>...</td>\n",
       "      <td>0</td>\n",
       "      <td>0</td>\n",
       "      <td>0</td>\n",
       "      <td>0</td>\n",
       "      <td>0</td>\n",
       "      <td>0</td>\n",
       "      <td>0</td>\n",
       "      <td>0</td>\n",
       "      <td>0</td>\n",
       "      <td>1</td>\n",
       "    </tr>\n",
       "    <tr>\n",
       "      <th>1672</th>\n",
       "      <td>0</td>\n",
       "      <td>0</td>\n",
       "      <td>0</td>\n",
       "      <td>0</td>\n",
       "      <td>0</td>\n",
       "      <td>0</td>\n",
       "      <td>1</td>\n",
       "      <td>0</td>\n",
       "      <td>0</td>\n",
       "      <td>0</td>\n",
       "      <td>...</td>\n",
       "      <td>0</td>\n",
       "      <td>0</td>\n",
       "      <td>0</td>\n",
       "      <td>0</td>\n",
       "      <td>0</td>\n",
       "      <td>1</td>\n",
       "      <td>0</td>\n",
       "      <td>0</td>\n",
       "      <td>0</td>\n",
       "      <td>0</td>\n",
       "    </tr>\n",
       "  </tbody>\n",
       "</table>\n",
       "<p>3 rows × 2775 columns</p>\n",
       "</div>"
      ],
      "text/plain": [
       "      Genre                                                                    \\\n",
       "     Action Adventure Animation Comedy Crime Documentary Drama Family Fantasy   \n",
       "1114      1         1         0      0     0           0     1      0       0   \n",
       "979       0         1         1      0     0           0     0      1       0   \n",
       "1672      0         0         0      0     0           0     1      0       0   \n",
       "\n",
       "              ... Release_month                             \n",
       "     Foreign  ...             3  4  5  6  7  8  9 10 11 12  \n",
       "1114       0  ...             0  0  1  0  0  0  0  0  0  0  \n",
       "979        0  ...             0  0  0  0  0  0  0  0  0  1  \n",
       "1672       0  ...             0  0  0  0  0  1  0  0  0  0  \n",
       "\n",
       "[3 rows x 2775 columns]"
      ]
     },
     "execution_count": 36,
     "metadata": {},
     "output_type": "execute_result"
    }
   ],
   "source": [
    "drop_list = ['Country', 'Keywords']\n",
    "Company = X_train\n",
    "for item in drop_list:\n",
    "    Company = Company.drop(item, level=0, axis=1)\n",
    "Company.head(3)"
   ]
  },
  {
   "cell_type": "code",
   "execution_count": 37,
   "id": "058cdecd",
   "metadata": {},
   "outputs": [],
   "source": [
    "linear_co = LinearRegression()"
   ]
  },
  {
   "cell_type": "code",
   "execution_count": 38,
   "id": "85e961b3",
   "metadata": {},
   "outputs": [
    {
     "name": "stdout",
     "output_type": "stream",
     "text": [
      "MAPE_co:  488146714166160.75\n",
      "RMSE_co:  3.2212803614104447e+20\n",
      "R2_co:  -3.680052328678829e+24\n"
     ]
    }
   ],
   "source": [
    "company_results = cross_validate(linear_co, Company, y_train, scoring=metrics)\n",
    "MAPE_co = round(np.mean(np.abs(company_results['test_neg_mean_absolute_percentage_error'])), 5)*100\n",
    "RMSE_co = round(np.sqrt(np.mean(np.abs(company_results['test_neg_mean_squared_error']))), 5)\n",
    "R2_co = round(np.mean(company_results['test_r2']), 5)\n",
    "print('MAPE_co: ', MAPE_co)\n",
    "print('RMSE_co: ', RMSE_co)\n",
    "print('R2_co: ', R2_co)\n",
    "\n",
    "company = {\"MAPE\":MAPE_co, \"RMSE\":RMSE_co, \"R2\":R2_co}"
   ]
  },
  {
   "cell_type": "markdown",
   "id": "c10bf650",
   "metadata": {},
   "source": [
    "### Linear regression after adding in information on the country a film was primarily filmed in"
   ]
  },
  {
   "cell_type": "code",
   "execution_count": 39,
   "id": "077ea433",
   "metadata": {},
   "outputs": [
    {
     "data": {
      "text/html": [
       "<div>\n",
       "<style scoped>\n",
       "    .dataframe tbody tr th:only-of-type {\n",
       "        vertical-align: middle;\n",
       "    }\n",
       "\n",
       "    .dataframe tbody tr th {\n",
       "        vertical-align: top;\n",
       "    }\n",
       "\n",
       "    .dataframe thead tr th {\n",
       "        text-align: left;\n",
       "    }\n",
       "</style>\n",
       "<table border=\"1\" class=\"dataframe\">\n",
       "  <thead>\n",
       "    <tr>\n",
       "      <th></th>\n",
       "      <th colspan=\"10\" halign=\"left\">Genre</th>\n",
       "      <th>...</th>\n",
       "      <th colspan=\"10\" halign=\"left\">Release_month</th>\n",
       "    </tr>\n",
       "    <tr>\n",
       "      <th></th>\n",
       "      <th>Action</th>\n",
       "      <th>Adventure</th>\n",
       "      <th>Animation</th>\n",
       "      <th>Comedy</th>\n",
       "      <th>Crime</th>\n",
       "      <th>Documentary</th>\n",
       "      <th>Drama</th>\n",
       "      <th>Family</th>\n",
       "      <th>Fantasy</th>\n",
       "      <th>Foreign</th>\n",
       "      <th>...</th>\n",
       "      <th>3</th>\n",
       "      <th>4</th>\n",
       "      <th>5</th>\n",
       "      <th>6</th>\n",
       "      <th>7</th>\n",
       "      <th>8</th>\n",
       "      <th>9</th>\n",
       "      <th>10</th>\n",
       "      <th>11</th>\n",
       "      <th>12</th>\n",
       "    </tr>\n",
       "  </thead>\n",
       "  <tbody>\n",
       "    <tr>\n",
       "      <th>1114</th>\n",
       "      <td>1</td>\n",
       "      <td>1</td>\n",
       "      <td>0</td>\n",
       "      <td>0</td>\n",
       "      <td>0</td>\n",
       "      <td>0</td>\n",
       "      <td>1</td>\n",
       "      <td>0</td>\n",
       "      <td>0</td>\n",
       "      <td>0</td>\n",
       "      <td>...</td>\n",
       "      <td>0</td>\n",
       "      <td>0</td>\n",
       "      <td>1</td>\n",
       "      <td>0</td>\n",
       "      <td>0</td>\n",
       "      <td>0</td>\n",
       "      <td>0</td>\n",
       "      <td>0</td>\n",
       "      <td>0</td>\n",
       "      <td>0</td>\n",
       "    </tr>\n",
       "    <tr>\n",
       "      <th>979</th>\n",
       "      <td>0</td>\n",
       "      <td>1</td>\n",
       "      <td>1</td>\n",
       "      <td>0</td>\n",
       "      <td>0</td>\n",
       "      <td>0</td>\n",
       "      <td>0</td>\n",
       "      <td>1</td>\n",
       "      <td>0</td>\n",
       "      <td>0</td>\n",
       "      <td>...</td>\n",
       "      <td>0</td>\n",
       "      <td>0</td>\n",
       "      <td>0</td>\n",
       "      <td>0</td>\n",
       "      <td>0</td>\n",
       "      <td>0</td>\n",
       "      <td>0</td>\n",
       "      <td>0</td>\n",
       "      <td>0</td>\n",
       "      <td>1</td>\n",
       "    </tr>\n",
       "    <tr>\n",
       "      <th>1672</th>\n",
       "      <td>0</td>\n",
       "      <td>0</td>\n",
       "      <td>0</td>\n",
       "      <td>0</td>\n",
       "      <td>0</td>\n",
       "      <td>0</td>\n",
       "      <td>1</td>\n",
       "      <td>0</td>\n",
       "      <td>0</td>\n",
       "      <td>0</td>\n",
       "      <td>...</td>\n",
       "      <td>0</td>\n",
       "      <td>0</td>\n",
       "      <td>0</td>\n",
       "      <td>0</td>\n",
       "      <td>0</td>\n",
       "      <td>1</td>\n",
       "      <td>0</td>\n",
       "      <td>0</td>\n",
       "      <td>0</td>\n",
       "      <td>0</td>\n",
       "    </tr>\n",
       "  </tbody>\n",
       "</table>\n",
       "<p>3 rows × 2841 columns</p>\n",
       "</div>"
      ],
      "text/plain": [
       "      Genre                                                                    \\\n",
       "     Action Adventure Animation Comedy Crime Documentary Drama Family Fantasy   \n",
       "1114      1         1         0      0     0           0     1      0       0   \n",
       "979       0         1         1      0     0           0     0      1       0   \n",
       "1672      0         0         0      0     0           0     1      0       0   \n",
       "\n",
       "              ... Release_month                             \n",
       "     Foreign  ...             3  4  5  6  7  8  9 10 11 12  \n",
       "1114       0  ...             0  0  1  0  0  0  0  0  0  0  \n",
       "979        0  ...             0  0  0  0  0  0  0  0  0  1  \n",
       "1672       0  ...             0  0  0  0  0  1  0  0  0  0  \n",
       "\n",
       "[3 rows x 2841 columns]"
      ]
     },
     "execution_count": 39,
     "metadata": {},
     "output_type": "execute_result"
    }
   ],
   "source": [
    "Country = X_train.drop('Keywords', level=0, axis=1)\n",
    "Country.head(3)"
   ]
  },
  {
   "cell_type": "code",
   "execution_count": 40,
   "id": "e27732d0",
   "metadata": {},
   "outputs": [],
   "source": [
    "linear_country = LinearRegression()"
   ]
  },
  {
   "cell_type": "code",
   "execution_count": 41,
   "id": "3e9765bc",
   "metadata": {},
   "outputs": [
    {
     "name": "stdout",
     "output_type": "stream",
     "text": [
      "MAPE_country:  174792692172431.44\n",
      "RMSE_country:  2.799102317231772e+19\n",
      "R2_country:  -2.474931732134756e+22\n"
     ]
    }
   ],
   "source": [
    "country_results = cross_validate(linear_country, Country, y_train, scoring=metrics)\n",
    "MAPE_country = round(np.mean(np.abs(country_results['test_neg_mean_absolute_percentage_error'])), 5)*100\n",
    "RMSE_country = round(np.sqrt(np.mean(np.abs(country_results['test_neg_mean_squared_error']))), 5)\n",
    "R2_country = round(np.mean(country_results['test_r2']), 5)\n",
    "print('MAPE_country: ', MAPE_country)\n",
    "print('RMSE_country: ', RMSE_country)\n",
    "print('R2_country: ', R2_country)\n",
    "\n",
    "country = {\"MAPE\":MAPE_country, \"RMSE\":RMSE_country, \"R2\":R2_country}"
   ]
  },
  {
   "cell_type": "markdown",
   "id": "febcb280",
   "metadata": {},
   "source": [
    "### Linear Regression including keyword data.  \n",
    "\n",
    "This is the entire data set I have, and adding in information on keywords increases the dimensions by over 7000. \n",
    "\n",
    "Given the performance of the linear regression model after adding in keyword data to use the full data set, I want to see how a linear regression model performs witholding only the yearly, country, and production company data.  This will let me know if there is some complex interaction between these categories that produces the best model scores, or if the keywords data is able to improve the model scores significantly on it's own.  "
   ]
  },
  {
   "cell_type": "code",
   "execution_count": 42,
   "id": "b1d58c46",
   "metadata": {},
   "outputs": [
    {
     "data": {
      "text/plain": [
       "(1866, 7173)"
      ]
     },
     "execution_count": 42,
     "metadata": {},
     "output_type": "execute_result"
    }
   ],
   "source": [
    "# Subset training data appropriately\n",
    "drop_list = ['Company', 'Country', 'Release_year']\n",
    "Ky = X_train\n",
    "for item in drop_list:\n",
    "    Ky = Ky.drop(item, level=0, axis=1)\n",
    "Ky.shape"
   ]
  },
  {
   "cell_type": "code",
   "execution_count": 43,
   "id": "9085119c",
   "metadata": {},
   "outputs": [],
   "source": [
    "linear_k = LinearRegression()"
   ]
  },
  {
   "cell_type": "code",
   "execution_count": 44,
   "id": "e9ece01f",
   "metadata": {},
   "outputs": [
    {
     "name": "stdout",
     "output_type": "stream",
     "text": [
      "MAPE_ky:  247479871969251.84\n",
      "RMSE_ky:  1.4567867221887905e+20\n",
      "R2_ky:  -6.78614331669384e+23\n"
     ]
    }
   ],
   "source": [
    "ky_results = cross_validate(linear_k, Ky, y_train, scoring=metrics)\n",
    "MAPE_ky = round(np.mean(np.abs(ky_results['test_neg_mean_absolute_percentage_error'])), 5)*100\n",
    "RMSE_ky = round(np.sqrt(np.mean(np.abs(ky_results['test_neg_mean_squared_error']))), 5)\n",
    "R2_ky = round(np.mean(ky_results['test_r2']), 5)\n",
    "print('MAPE_ky: ', MAPE_ky)\n",
    "print('RMSE_ky: ', RMSE_ky)\n",
    "print('R2_ky: ', R2_ky)\n",
    "\n",
    "keyword = {\"MAPE\":MAPE_ky, \"RMSE\":RMSE_ky, \"R2\":R2_ky}"
   ]
  },
  {
   "cell_type": "markdown",
   "id": "0349d264",
   "metadata": {},
   "source": [
    "### Linear Regression using the full data set"
   ]
  },
  {
   "cell_type": "code",
   "execution_count": 45,
   "id": "e589af0f",
   "metadata": {},
   "outputs": [],
   "source": [
    "linear_keywords = LinearRegression()"
   ]
  },
  {
   "cell_type": "code",
   "execution_count": 46,
   "id": "1c0e0532",
   "metadata": {},
   "outputs": [
    {
     "name": "stdout",
     "output_type": "stream",
     "text": [
      "MAPE_key:  874.1070000000001\n",
      "RMSE_key:  131619781.34282\n",
      "R2_key:  0.46056\n"
     ]
    }
   ],
   "source": [
    "keyword_results = cross_validate(linear_keywords, X_train, y_train, scoring=metrics)\n",
    "MAPE_key = round(np.mean(np.abs(keyword_results['test_neg_mean_absolute_percentage_error'])), 5)*100\n",
    "RMSE_key = round(np.sqrt(np.mean(np.abs(keyword_results['test_neg_mean_squared_error']))), 5)\n",
    "R2_key = round(np.mean(keyword_results['test_r2']), 5)\n",
    "print('MAPE_key: ', MAPE_key)\n",
    "print('RMSE_key: ', RMSE_key)\n",
    "print('R2_key: ', R2_key)\n",
    "\n",
    "Linear = {\"MAPE\":MAPE_key, \"RMSE\":RMSE_key, \"R2\":R2_key}"
   ]
  },
  {
   "cell_type": "markdown",
   "id": "3fa4b9ca",
   "metadata": {},
   "source": [
    "### Lasso Regression\n",
    "\n",
    "I want to try out a Lasso regressor on the full dataset to asess if a different model can perform better than expected. \n",
    "\n",
    "Given the high number of dimensions and how lasso coefficients work, it's not possible to asess the efficacy of the full categories using Lasso regression however, rather only individual categories"
   ]
  },
  {
   "cell_type": "code",
   "execution_count": 47,
   "id": "d5855c44",
   "metadata": {},
   "outputs": [],
   "source": [
    "lass = Lasso()"
   ]
  },
  {
   "cell_type": "code",
   "execution_count": 48,
   "id": "05cf9f06",
   "metadata": {},
   "outputs": [
    {
     "name": "stdout",
     "output_type": "stream",
     "text": [
      "MAPE_lasso:  1759.506\n",
      "RMSE_lasso:  188723677.20043\n",
      "R2_lasso:  -0.10873\n"
     ]
    }
   ],
   "source": [
    "lasso_results = cross_validate(lass, X_train, y_train, scoring=metrics)\n",
    "MAPE_lasso = round(np.mean(np.abs(lasso_results['test_neg_mean_absolute_percentage_error'])), 5)*100\n",
    "RMSE_lasso = round(np.sqrt(np.mean(np.abs(lasso_results['test_neg_mean_squared_error']))), 5)\n",
    "R2_lasso = round(np.mean(lasso_results['test_r2']), 5)\n",
    "print('MAPE_lasso: ', MAPE_lasso)\n",
    "print('RMSE_lasso: ', RMSE_lasso)\n",
    "print('R2_lasso: ', R2_lasso)\n",
    "\n",
    "lasso = {\"MAPE\":MAPE_lasso, \"RMSE\":RMSE_lasso, \"R2\":R2_lasso}"
   ]
  },
  {
   "cell_type": "markdown",
   "id": "ada20596",
   "metadata": {},
   "source": [
    "### Ridge Regression\n",
    "\n",
    "Finally, I want to see how a Ridge regressor performs as poorly as a Lasso model"
   ]
  },
  {
   "cell_type": "code",
   "execution_count": 49,
   "id": "5a314970",
   "metadata": {},
   "outputs": [],
   "source": [
    "ridge = Ridge()"
   ]
  },
  {
   "cell_type": "code",
   "execution_count": 50,
   "id": "b2cf03da",
   "metadata": {},
   "outputs": [
    {
     "name": "stdout",
     "output_type": "stream",
     "text": [
      "MAPE_ridge:  960.8169999999999\n",
      "RMSE_ridge:  123848996.28785\n",
      "R2_ridge:  0.5222\n"
     ]
    }
   ],
   "source": [
    "ridge_results = cross_validate(ridge, X_train, y_train, scoring=metrics)\n",
    "MAPE_ridge = round(np.mean(np.abs(ridge_results['test_neg_mean_absolute_percentage_error'])), 5)*100\n",
    "RMSE_ridge = round(np.sqrt(np.mean(np.abs(ridge_results['test_neg_mean_squared_error']))), 5)\n",
    "R2_ridge = round(np.mean(ridge_results['test_r2']), 5)\n",
    "print('MAPE_ridge: ', MAPE_ridge)\n",
    "print('RMSE_ridge: ', RMSE_ridge)\n",
    "print('R2_ridge: ', R2_ridge)\n",
    "\n",
    "ridge = {\"MAPE\":MAPE_ridge, \"RMSE\":RMSE_ridge, \"R2\":R2_ridge}"
   ]
  },
  {
   "cell_type": "markdown",
   "id": "75027834",
   "metadata": {},
   "source": [
    "#  Comparing performance metrics for models & subsets of the data"
   ]
  },
  {
   "cell_type": "code",
   "execution_count": 51,
   "id": "d0061760",
   "metadata": {},
   "outputs": [
    {
     "data": {
      "text/html": [
       "<div>\n",
       "<style scoped>\n",
       "    .dataframe tbody tr th:only-of-type {\n",
       "        vertical-align: middle;\n",
       "    }\n",
       "\n",
       "    .dataframe tbody tr th {\n",
       "        vertical-align: top;\n",
       "    }\n",
       "\n",
       "    .dataframe thead th {\n",
       "        text-align: right;\n",
       "    }\n",
       "</style>\n",
       "<table border=\"1\" class=\"dataframe\">\n",
       "  <thead>\n",
       "    <tr style=\"text-align: right;\">\n",
       "      <th></th>\n",
       "      <th>MAPE</th>\n",
       "      <th>R2</th>\n",
       "      <th>RMSE</th>\n",
       "    </tr>\n",
       "  </thead>\n",
       "  <tbody>\n",
       "    <tr>\n",
       "      <th>Dummy</th>\n",
       "      <td>3227.68600</td>\n",
       "      <td>0.00000</td>\n",
       "      <td>179819930.67500</td>\n",
       "    </tr>\n",
       "    <tr>\n",
       "      <th>Numerical</th>\n",
       "      <td>1158.27800</td>\n",
       "      <td>0.51453</td>\n",
       "      <td>124997214.85881</td>\n",
       "    </tr>\n",
       "    <tr>\n",
       "      <th>Genre</th>\n",
       "      <td>1457.40400</td>\n",
       "      <td>0.53345</td>\n",
       "      <td>122561605.53471</td>\n",
       "    </tr>\n",
       "    <tr>\n",
       "      <th>Collection</th>\n",
       "      <td>1728.87900</td>\n",
       "      <td>0.56711</td>\n",
       "      <td>117966542.51019</td>\n",
       "    </tr>\n",
       "    <tr>\n",
       "      <th>Language</th>\n",
       "      <td>1720.99700</td>\n",
       "      <td>0.56754</td>\n",
       "      <td>117904793.96104</td>\n",
       "    </tr>\n",
       "    <tr>\n",
       "      <th>Month</th>\n",
       "      <td>1690.45600</td>\n",
       "      <td>0.56317</td>\n",
       "      <td>118443217.24308</td>\n",
       "    </tr>\n",
       "    <tr>\n",
       "      <th>Annual</th>\n",
       "      <td>20503584973233.75781</td>\n",
       "      <td>-2151430730788916690944.00000</td>\n",
       "      <td>8761322304904810496.00000</td>\n",
       "    </tr>\n",
       "    <tr>\n",
       "      <th>Company</th>\n",
       "      <td>488146714166160.75000</td>\n",
       "      <td>-3680052328678828797853696.00000</td>\n",
       "      <td>322128036141044465664.00000</td>\n",
       "    </tr>\n",
       "    <tr>\n",
       "      <th>Country</th>\n",
       "      <td>174792692172431.43750</td>\n",
       "      <td>-24749317321347559325696.00000</td>\n",
       "      <td>27991023172317720576.00000</td>\n",
       "    </tr>\n",
       "    <tr>\n",
       "      <th>Keyword</th>\n",
       "      <td>247479871969251.84375</td>\n",
       "      <td>-678614331669384037138432.00000</td>\n",
       "      <td>145678672218879049728.00000</td>\n",
       "    </tr>\n",
       "    <tr>\n",
       "      <th>Linear</th>\n",
       "      <td>874.10700</td>\n",
       "      <td>0.46056</td>\n",
       "      <td>131619781.34282</td>\n",
       "    </tr>\n",
       "    <tr>\n",
       "      <th>Lasso</th>\n",
       "      <td>1759.50600</td>\n",
       "      <td>-0.10873</td>\n",
       "      <td>188723677.20043</td>\n",
       "    </tr>\n",
       "    <tr>\n",
       "      <th>Ridge</th>\n",
       "      <td>960.81700</td>\n",
       "      <td>0.52220</td>\n",
       "      <td>123848996.28785</td>\n",
       "    </tr>\n",
       "  </tbody>\n",
       "</table>\n",
       "</div>"
      ],
      "text/plain": [
       "                            MAPE                               R2  \\\n",
       "Dummy                 3227.68600                          0.00000   \n",
       "Numerical             1158.27800                          0.51453   \n",
       "Genre                 1457.40400                          0.53345   \n",
       "Collection            1728.87900                          0.56711   \n",
       "Language              1720.99700                          0.56754   \n",
       "Month                 1690.45600                          0.56317   \n",
       "Annual      20503584973233.75781    -2151430730788916690944.00000   \n",
       "Company    488146714166160.75000 -3680052328678828797853696.00000   \n",
       "Country    174792692172431.43750   -24749317321347559325696.00000   \n",
       "Keyword    247479871969251.84375  -678614331669384037138432.00000   \n",
       "Linear                 874.10700                          0.46056   \n",
       "Lasso                 1759.50600                         -0.10873   \n",
       "Ridge                  960.81700                          0.52220   \n",
       "\n",
       "                                  RMSE  \n",
       "Dummy                  179819930.67500  \n",
       "Numerical              124997214.85881  \n",
       "Genre                  122561605.53471  \n",
       "Collection             117966542.51019  \n",
       "Language               117904793.96104  \n",
       "Month                  118443217.24308  \n",
       "Annual       8761322304904810496.00000  \n",
       "Company    322128036141044465664.00000  \n",
       "Country     27991023172317720576.00000  \n",
       "Keyword    145678672218879049728.00000  \n",
       "Linear                 131619781.34282  \n",
       "Lasso                  188723677.20043  \n",
       "Ridge                  123848996.28785  "
      ]
     },
     "execution_count": 51,
     "metadata": {},
     "output_type": "execute_result"
    }
   ],
   "source": [
    "# create dict of metrics for each regression model\n",
    "\n",
    "score_metrics = {\"Dummy\":dummy, \"Numerical\":num, \"Genre\":genre, \"Collection\":collection, \"Language\":language, \"Month\":month, \n",
    "                 \"Annual\":annual, \"Company\":company, \"Country\":country, \"Keyword\":keyword, \"Linear\":Linear, \"Lasso\":lasso, \n",
    "                 \"Ridge\":ridge}\n",
    "scores = pd.DataFrame(score_metrics)\n",
    "scores = scores.T\n",
    "models = list(scores.index)\n",
    "scores"
   ]
  },
  {
   "cell_type": "code",
   "execution_count": 52,
   "id": "cc5945af",
   "metadata": {},
   "outputs": [
    {
     "data": {
      "image/png": "[encoded data removed]",
      "text/plain": [
       "<Figure size 720x504 with 1 Axes>"
      ]
     },
     "metadata": {
      "needs_background": "light"
     },
     "output_type": "display_data"
    }
   ],
   "source": [
    "# Plot of the Mean Absolute Percentage Error scores\n",
    "plt.figure(figsize=(10,7))\n",
    "plt.bar(models, scores.MAPE)\n",
    "plt.ylim(0, 3500)\n",
    "plt.xticks(rotation=90)\n",
    "plt.xlabel('Model', size='large')\n",
    "plt.ylabel('Mean Average Percent Error', size='large')\n",
    "plt.suptitle('Mean Average Percent Error by Model', size='x-large')\n",
    "plt.title('Annual, Company, Country models have values greater than |1000|, ' \n",
    "          'graph has been limited in scale for readability', pad=10);"
   ]
  },
  {
   "cell_type": "code",
   "execution_count": 53,
   "id": "95998d83",
   "metadata": {
    "scrolled": false
   },
   "outputs": [
    {
     "data": {
      "text/plain": [
       "<matplotlib.lines.Line2D at 0x1bfd9e63a60>"
      ]
     },
     "execution_count": 53,
     "metadata": {},
     "output_type": "execute_result"
    },
    {
     "data": {
      "image/png": "[encoded data removed]",
      "text/plain": [
       "<Figure size 720x504 with 1 Axes>"
      ]
     },
     "metadata": {
      "needs_background": "light"
     },
     "output_type": "display_data"
    }
   ],
   "source": [
    "plt.figure(figsize=(10,7))\n",
    "plt.bar(models, scores.R2)\n",
    "plt.ylim(-0.2,0.6)\n",
    "plt.xticks(rotation=90)\n",
    "plt.xlabel('Model', size='large')\n",
    "plt.ylabel('R-squared', size='large')\n",
    "plt.suptitle('R_squared score by Model', size='x-large')\n",
    "plt.title('Annual, Company, Country models have R^2 values with a magnitude greater than |1000|, '\n",
    "         'the plot has been limited in scale for readability', pad=10)\n",
    "plt.axhline(0, c='black')"
   ]
  },
  {
   "cell_type": "code",
   "execution_count": null,
   "id": "cca0f470",
   "metadata": {},
   "outputs": [],
   "source": []
  },
  {
   "cell_type": "code",
   "execution_count": null,
   "id": "de0a2b62",
   "metadata": {},
   "outputs": [],
   "source": []
  },
  {
   "cell_type": "code",
   "execution_count": null,
   "id": "bba249ac",
   "metadata": {},
   "outputs": [],
   "source": []
  },
  {
   "cell_type": "code",
   "execution_count": null,
   "id": "b751475b",
   "metadata": {},
   "outputs": [],
   "source": []
  },
  {
   "cell_type": "code",
   "execution_count": null,
   "id": "77c834f1",
   "metadata": {},
   "outputs": [],
   "source": []
  },
  {
   "cell_type": "code",
   "execution_count": null,
   "id": "72983461",
   "metadata": {},
   "outputs": [],
   "source": []
  },
  {
   "cell_type": "code",
   "execution_count": null,
   "id": "b1c17ffd",
   "metadata": {},
   "outputs": [],
   "source": []
  },
  {
   "cell_type": "code",
   "execution_count": null,
   "id": "fe65aa73",
   "metadata": {},
   "outputs": [],
   "source": []
  },
  {
   "cell_type": "code",
   "execution_count": null,
   "id": "6fde13c0",
   "metadata": {},
   "outputs": [],
   "source": []
  },
  {
   "cell_type": "code",
   "execution_count": null,
   "id": "553b0853",
   "metadata": {},
   "outputs": [],
   "source": []
  },
  {
   "cell_type": "code",
   "execution_count": null,
   "id": "5dcbceef",
   "metadata": {},
   "outputs": [],
   "source": []
  }
 ],
 "metadata": {
  "kernelspec": {
   "display_name": "Python 3",
   "language": "python",
   "name": "python3"
  },
  "language_info": {
   "codemirror_mode": {
    "name": "ipython",
    "version": 3
   },
   "file_extension": ".py",
   "mimetype": "text/x-python",
   "name": "python",
   "nbconvert_exporter": "python",
   "pygments_lexer": "ipython3",
   "version": "3.8.8"
  }
 },
 "nbformat": 4,
 "nbformat_minor": 5
}
