{
 "cells": [
  {
   "cell_type": "code",
   "execution_count": 1,
   "id": "fe998884",
   "metadata": {},
   "outputs": [],
   "source": [
    "import pandas as pd\n",
    "import numpy as np\n",
    "import matplotlib.pyplot as plt\n",
    "import seaborn as sns\n",
    "from sklearn.linear_model import LinearRegression\n",
    "from sklearn.model_selection import train_test_split, cross_validate\n",
    "from sklearn.preprocessing import StandardScaler, MinMaxScaler, PowerTransformer\n",
    "from sklearn.metrics import r2_score, mean_squared_error, mean_squared_log_error\n",
    "from sklearn.svm import LinearSVR\n",
    "from sklearn.neighbors import KNeighborsRegressor\n",
    "from sklearn.ensemble import GradientBoostingRegressor, RandomForestRegressor\n",
    "\n",
    "pd.set_option('display.float_format', lambda x: '%.5f' % x)"
   ]
  },
  {
   "cell_type": "code",
   "execution_count": 2,
   "id": "998b9366",
   "metadata": {},
   "outputs": [
    {
     "data": {
      "text/plain": [
       "(2333, 9976)"
      ]
     },
     "execution_count": 2,
     "metadata": {},
     "output_type": "execute_result"
    }
   ],
   "source": [
    "# Importing the data\n",
    "boxoffice = pd.read_csv('../Data/boxoffice_PreProcess.csv', index_col=0, header=[0,1])\n",
    "boxoffice.shape"
   ]
  },
  {
   "cell_type": "markdown",
   "id": "869af095",
   "metadata": {},
   "source": [
    "Before I move forward I need to revisit the predictions from a linear model in my previous notebook and determine where and why I was generating negative predictions for revenue in my previous notebook "
   ]
  },
  {
   "cell_type": "code",
   "execution_count": 3,
   "id": "6d2c4d01",
   "metadata": {},
   "outputs": [],
   "source": [
    "# separate out the target variable and scale the independent numerical variables\n",
    "y = boxoffice['Numerical', 'revenue']\n",
    "X = boxoffice.drop('revenue', level=1, axis=1)\n",
    "scaler = StandardScaler()\n",
    "X['Numerical'] = scaler.fit_transform(X['Numerical'])"
   ]
  },
  {
   "cell_type": "code",
   "execution_count": 4,
   "id": "55a577f7",
   "metadata": {},
   "outputs": [],
   "source": [
    "X_train, X_test, y_train, y_test = train_test_split(X, y, test_size=0.2, random_state=42)"
   ]
  },
  {
   "cell_type": "code",
   "execution_count": 5,
   "id": "359ffcfb",
   "metadata": {},
   "outputs": [
    {
     "name": "stdout",
     "output_type": "stream",
     "text": [
      "65\n",
      "Baseline R2 score:  0.32771762075618693\n",
      "Baseline RMSE score:  133976588.52166726\n"
     ]
    }
   ],
   "source": [
    "# instantiate a linear regression model and test for negative predictions\n",
    "# in a previous notebook these prevented me from using the mean_squared_log_error\n",
    "linear = LinearRegression()\n",
    "linear.fit(X_train, y_train)\n",
    "preds = linear.predict(X_test)\n",
    "print(len(preds[preds < 0]))\n",
    "set1 = set(y_test[preds<0].index)\n",
    "print(\"Baseline R2 score: \", r2_score(y_test, preds))\n",
    "print(\"Baseline RMSE score: \", np.sqrt(mean_squared_error(y_test, preds)))"
   ]
  },
  {
   "cell_type": "code",
   "execution_count": 9,
   "id": "83583b9f",
   "metadata": {},
   "outputs": [
    {
     "name": "stdout",
     "output_type": "stream",
     "text": [
      "Mean revenue value of the data set:  147844739.08444065\n",
      "These values were predicted as negative, true values are greater than the mean revenue:  464    408247917.00000\n",
      "1483   183593586.00000\n",
      "1041   161001698.00000\n",
      "Name: (Numerical, revenue), dtype: float64\n"
     ]
    },
    {
     "data": {
      "image/png": "[encoded data removed]",
      "text/plain": [
       "<Figure size 432x288 with 1 Axes>"
      ]
     },
     "metadata": {
      "needs_background": "light"
     },
     "output_type": "display_data"
    }
   ],
   "source": [
    "# Trying to examine the negative predictions to determine if there's a pattern, perhaps lower values are predicted as negative\n",
    "print('Mean revenue value of the data set: ', y.mean())\n",
    "print('These values were predicted as negative, true values are greater than the mean revenue: ',\n",
    "      y_test[preds<0][y_test>y.mean()])\n",
    "plt.scatter(y_test[preds<0].values, preds[preds<0])\n",
    "plt.axvline(y.mean(), c='r');"
   ]
  },
  {
   "cell_type": "markdown",
   "id": "0dae47bb",
   "metadata": {},
   "source": [
    "My hypothesis was that the predicted negative values were a result of the linear model predicting low-value films exceptionally low.\n",
    "\n",
    "Multiple of the films with values predicted as negative have a true revenue value that is above the mean revenue for the entire data set. While negative predictions are less severe and less common as a film's true revenueincreases, this problem doesn't seem to be restricted to only low-revenue films. This disproves my hypothesis that negative predictions were a result of a film's true value being close to zero. \n",
    "\n",
    "I do want to test and see if using a MinMaxScaler instead of the StandardScaler will result in better predictions.  \n",
    "\n",
    "Additionally there is a severe right tail for the target revenue on this problem, using a logarithmic transformation should in theory help to rectify this.  This is something I realized after doing further research on [stackexchange](https://stats.stackexchange.com/questions/145383/getting-negative-predicted-values-after-linear-regression/145387)\n",
    "\n",
    "If neither of those methods prevent negative revenue predictions, I'll compare the index of films which are getting negative predictions and drop those which are consistently producing negative predictions. "
   ]
  },
  {
   "cell_type": "code",
   "execution_count": 10,
   "id": "d4057595",
   "metadata": {},
   "outputs": [],
   "source": [
    "# Recreating and identical train/test split using a different scaler, potentially negative values for numeric data are\n",
    "# leading to negative values in some cases\n",
    "y = boxoffice['Numerical', 'revenue']\n",
    "X = boxoffice.drop('revenue', level=1, axis=1)\n",
    "scaler = MinMaxScaler()\n",
    "X['Numerical'] = scaler.fit_transform(X['Numerical'])\n",
    "X_train, X_test, y_train, y_test = train_test_split(X, y, test_size=0.2, random_state=42)"
   ]
  },
  {
   "cell_type": "code",
   "execution_count": 11,
   "id": "cd9fb006",
   "metadata": {},
   "outputs": [
    {
     "name": "stdout",
     "output_type": "stream",
     "text": [
      "60\n",
      "Min/Max R2 score:  0.3052274584568645\n",
      "Min/Max RMSE score:  136199142.69634014\n"
     ]
    }
   ],
   "source": [
    "# create a 2nd regressor and test for negative revenue predictions\n",
    "linear2 = LinearRegression()\n",
    "linear2.fit(X_train, y_train)\n",
    "preds = linear2.predict(X_test)\n",
    "print(len(preds[preds < 0]))\n",
    "set2 = set(y_test[preds<0].index)\n",
    "print(\"Min/Max R2 score: \", r2_score(y_test, preds))\n",
    "print(\"Min/Max RMSE score: \", np.sqrt(mean_squared_error(y_test, preds)))"
   ]
  },
  {
   "cell_type": "code",
   "execution_count": 12,
   "id": "ae3decc6",
   "metadata": {},
   "outputs": [
    {
     "data": {
      "image/png": "[encoded data removed]",
      "text/plain": [
       "<Figure size 432x288 with 1 Axes>"
      ]
     },
     "metadata": {
      "needs_background": "light"
     },
     "output_type": "display_data"
    }
   ],
   "source": [
    "# examining which values are produced as negative with a new scaler to see if there's a noticeable difference in distribution\n",
    "# after removing negative values from the independent variables\n",
    "plt.scatter(y_test[preds<0].values, preds[preds<0])\n",
    "plt.axvline(y.mean(), c='r');"
   ]
  },
  {
   "cell_type": "markdown",
   "id": "ea4d5add",
   "metadata": {},
   "source": [
    "While using MinMaxScaler produced *fewer* negative predictions, and those films who produce negative predictions are less than the average, the number of predictions below zero didn't decrease significantly. It also appears that the magnitude of a negative prediction has little relationship with the actual revenue of a film. \n",
    "\n",
    "It's time to try a logarithmic transformation on the revenue column as I mentioned earlier to test if that will prevent negative predictions. "
   ]
  },
  {
   "cell_type": "code",
   "execution_count": 17,
   "id": "f145cc55",
   "metadata": {},
   "outputs": [],
   "source": [
    "# Recreating the identical train/test split after applying a logarithmic transformation to the target variable\n",
    "\"\"\"I'm unable to use a PowerTransformer on y here, and resorted to using np.log instead.  It required me to \n",
    "reshape the column using reshap(-1,1), which I'm unable to do to a pandas series.\"\"\"\n",
    "y = np.log(boxoffice['Numerical', 'revenue'])\n",
    "X = boxoffice.drop('revenue', level=1, axis=1)\n",
    "scaler = MinMaxScaler()\n",
    "X['Numerical'] = scaler.fit_transform(X['Numerical'])\n",
    "X_train, X_test, y_train, y_test = train_test_split(X, y, test_size=0.2, random_state=42)"
   ]
  },
  {
   "cell_type": "code",
   "execution_count": 21,
   "id": "108a6328",
   "metadata": {},
   "outputs": [
    {
     "data": {
      "image/png": "[encoded data removed]",
      "text/plain": [
       "<Figure size 432x288 with 1 Axes>"
      ]
     },
     "metadata": {
      "needs_background": "light"
     },
     "output_type": "display_data"
    }
   ],
   "source": [
    "plt.hist(y);"
   ]
  },
  {
   "cell_type": "code",
   "execution_count": 16,
   "id": "597083de",
   "metadata": {},
   "outputs": [
    {
     "name": "stdout",
     "output_type": "stream",
     "text": [
      "Log R2 score:  -1.7880392701191124e+16\n",
      "Log RMSE score:  204970080.21011987\n",
      "60\n"
     ]
    }
   ],
   "source": [
    "linear_log = LinearRegression()\n",
    "linear_log.fit(X_train, y_train)\n",
    "preds = linear2.predict(X_test)\n",
    "set3 = set(y_test[preds<0].index)\n",
    "print(\"Log R2 score: \", r2_score(y_test, preds))\n",
    "print(\"Log RMSE score: \", np.sqrt(mean_squared_error(y_test, preds)))\n",
    "print(len(preds[preds < 0]))"
   ]
  },
  {
   "cell_type": "code",
   "execution_count": 22,
   "id": "8fd6eeef",
   "metadata": {},
   "outputs": [
    {
     "name": "stdout",
     "output_type": "stream",
     "text": [
      "{1888, 1761, 1987, 1315, 1124, 1929, 1483, 76, 464, 1041, 368, 414}\n",
      "set()\n"
     ]
    }
   ],
   "source": [
    "print(set1.difference(set3))\n",
    "print(set2.difference(set3))"
   ]
  },
  {
   "cell_type": "markdown",
   "id": "e5745dc3",
   "metadata": {},
   "source": [
    "Still getting negative predictions after applying a logarithmic transformation.  The same films are providing negative predictions before and after applying a logarithmic transformation to the revenue column, while doing so has also dramatically decreased the R-squared score for the model.  \n",
    "\n",
    "Additionally, applying a logarithmic transformation to the data has done nothing to normalize the revenue, but rather exchanged a long right-tail distribution for a long left-tailed distribution instead. \n",
    "\n",
    "At this point I'm going to remove the rows which are producing negative predictions, and given the results of a log transformation I won't use such a transformation on the target variables moving forward.  I'm also going to remove outliers which lie in the 95% or higher moving forward. "
   ]
  },
  {
   "cell_type": "code",
   "execution_count": 29,
   "id": "f56e7332",
   "metadata": {},
   "outputs": [
    {
     "data": {
      "image/png": "[encoded data removed]",
      "text/plain": [
       "<Figure size 432x288 with 1 Axes>"
      ]
     },
     "metadata": {
      "needs_background": "light"
     },
     "output_type": "display_data"
    }
   ],
   "source": [
    "plt.hist(boxoffice['Numerical', 'revenue'])\n",
    "plt.xlabel('Distribution of film revenue')\n",
    "plt.axvline(boxoffice['Numerical', 'revenue'].mean(), c='g', linestyle='--')\n",
    "plt.axvline(boxoffice['Numerical', 'revenue'].median(), c='r', linestyle='--');"
   ]
  },
  {
   "cell_type": "code",
   "execution_count": 31,
   "id": "265eebb9",
   "metadata": {},
   "outputs": [
    {
     "data": {
      "image/png": "[encoded data removed]",
      "text/plain": [
       "<Figure size 432x288 with 1 Axes>"
      ]
     },
     "metadata": {
      "needs_background": "light"
     },
     "output_type": "display_data"
    }
   ],
   "source": [
    "quant = boxoffice['Numerical', 'revenue'].quantile(0.95)\n",
    "boxoffice = boxoffice[boxoffice['Numerical', 'revenue']<quant]\n",
    "plt.hist(boxoffice['Numerical', 'revenue'], color = 'lightgrey')\n",
    "plt.xlabel('New distribution of film revenue')\n",
    "plt.axvline(boxoffice['Numerical', 'revenue'].mean(), c='g', linestyle='--')\n",
    "plt.axvline(boxoffice['Numerical', 'revenue'].median(), c='r', linestyle='--');"
   ]
  },
  {
   "cell_type": "code",
   "execution_count": 32,
   "id": "98376780",
   "metadata": {},
   "outputs": [],
   "source": [
    "y = boxoffice['Numerical', 'revenue']\n",
    "X = boxoffice.drop('revenue', level=1, axis=1)\n",
    "scaler = MinMaxScaler()\n",
    "X['Numerical'] = scaler.fit_transform(X['Numerical'])\n",
    "X_train, X_test, y_train, y_test = train_test_split(X, y, test_size=0.2, random_state=42)"
   ]
  },
  {
   "cell_type": "code",
   "execution_count": null,
   "id": "70e0c97a",
   "metadata": {},
   "outputs": [],
   "source": [
    "# Testing linear model scores after removing the offending films\n",
    "linear = LinearRegression()\n",
    "linear.fit(X_train, y_train)\n",
    "preds = linear.predict(X_test)\n",
    "print(len(preds[preds<0]))\n",
    "set4 = set(y_test[preds<0].index)"
   ]
  },
  {
   "cell_type": "markdown",
   "id": "cd5f8bf8",
   "metadata": {},
   "source": [
    "Even after removing the films which consistently produced negative predictions for revenue, a new model, trained on the new data is still producing negative predictions.  \n",
    "\n",
    "A linear regression model doesn't appear to be the best fit for the data set.  It's also interesting that I'm getting lower R-squared scores than I was previously.  For now I'm going to work to reduce dimensionality in my data set before trying out different regression models. "
   ]
  },
  {
   "cell_type": "code",
   "execution_count": null,
   "id": "7e540138",
   "metadata": {},
   "outputs": [],
   "source": []
  },
  {
   "cell_type": "code",
   "execution_count": null,
   "id": "af034e99",
   "metadata": {},
   "outputs": [],
   "source": []
  }
 ],
 "metadata": {
  "kernelspec": {
   "display_name": "Python 3",
   "language": "python",
   "name": "python3"
  },
  "language_info": {
   "codemirror_mode": {
    "name": "ipython",
    "version": 3
   },
   "file_extension": ".py",
   "mimetype": "text/x-python",
   "name": "python",
   "nbconvert_exporter": "python",
   "pygments_lexer": "ipython3",
   "version": "3.8.10"
  }
 },
 "nbformat": 4,
 "nbformat_minor": 5
}
