{
 "cells": [
  {
   "cell_type": "markdown",
   "id": "3938948b",
   "metadata": {},
   "source": [
    "# Modeling & managing negative predictions\n",
    "\n",
    "In the previous notebook I was working with, linear regression models consistently provided MAPE scores well above 800% and RMSE errors of around 120,000,000. Neither of those are acceptable metric scores.  \n",
    "\n",
    "I believe that these errors are the result of two things: Outliers in the target variable, and high dimensionality.  \n",
    "\n",
    "This notebook I'll be taking a look at revenue outliers, and test different transformations that I can do with numeric data to produce better scores.  One of the problems that stood out with linear model predictions in the previous notebook was that I was consistently producing ~60 negative revenue predictions, which certaintly contributed to the poor error metrics. That also prevended me from using the mean_squared_log_error metric as well.  \n",
    "\n",
    "First I'm going to try using a MinMaxScaler instead of StandardScaler to see if I can eliminate negative predictions and how that affects scores. \n",
    "\n",
    "I'll also attempt to log transform the revenue data I have.  Currently it is highly skewed by outliers and has a non-normal distribution.  I believe a log transformation could improve the impact the revenue distribution will have on metrics. \n",
    "\n",
    "Finally, I'm going to eliminate any outliers in revenue, as defined by films in the top 5% of revenue. "
   ]
  },
  {
   "cell_type": "code",
   "execution_count": 54,
   "id": "fe998884",
   "metadata": {},
   "outputs": [],
   "source": [
    "import pandas as pd\n",
    "import numpy as np\n",
    "import matplotlib.pyplot as plt\n",
    "import seaborn as sns\n",
    "from sklearn.linear_model import LinearRegression\n",
    "from sklearn.model_selection import train_test_split, cross_validate\n",
    "from sklearn.preprocessing import StandardScaler, MinMaxScaler, PowerTransformer\n",
    "from sklearn.metrics import r2_score, mean_squared_error, mean_squared_log_error\n",
    "from sklearn.svm import LinearSVR\n",
    "from sklearn.neighbors import KNeighborsRegressor\n",
    "from sklearn.ensemble import GradientBoostingRegressor, RandomForestRegressor\n",
    "\n",
    "pd.set_option('display.float_format', lambda x: '%.5f' % x)"
   ]
  },
  {
   "cell_type": "code",
   "execution_count": 2,
   "id": "ef630f04",
   "metadata": {},
   "outputs": [
    {
     "data": {
      "text/plain": [
       "(2333, 9976)"
      ]
     },
     "execution_count": 2,
     "metadata": {},
     "output_type": "execute_result"
    }
   ],
   "source": [
    "# Importing the data\n",
    "boxoffice = pd.read_csv('../Data/boxoffice_PreProcess.csv', index_col=0, header=[0,1])\n",
    "boxoffice.shape"
   ]
  },
  {
   "cell_type": "markdown",
   "id": "971edda0",
   "metadata": {},
   "source": [
    "Before I move forward I need to revisit the predictions from a linear model in my previous notebook and determine where and why I was generating negative predictions for revenue in my previous notebook "
   ]
  },
  {
   "cell_type": "code",
   "execution_count": 3,
   "id": "c85d9b22",
   "metadata": {},
   "outputs": [],
   "source": [
    "# separate out the target variable and scale the independent numerical variables\n",
    "y = boxoffice['Numerical', 'revenue']\n",
    "X = boxoffice.drop('revenue', level=1, axis=1)\n",
    "scaler = StandardScaler()\n",
    "X['Numerical'] = scaler.fit_transform(X['Numerical'])"
   ]
  },
  {
   "cell_type": "code",
   "execution_count": 4,
   "id": "71a29a39",
   "metadata": {},
   "outputs": [],
   "source": [
    "X_train, X_test, y_train, y_test = train_test_split(X, y, test_size=0.2, random_state=42)"
   ]
  },
  {
   "cell_type": "code",
   "execution_count": 5,
   "id": "0d5ee67e",
   "metadata": {},
   "outputs": [
    {
     "name": "stdout",
     "output_type": "stream",
     "text": [
      "65\n",
      "Baseline R2 score:  0.32771762075618693\n",
      "Baseline RMSE score:  133976588.52166726\n"
     ]
    }
   ],
   "source": [
    "# instantiate a linear regression model and test for negative predictions\n",
    "# in a previous notebook these prevented me from using the mean_squared_log_error\n",
    "linear = LinearRegression()\n",
    "linear.fit(X_train, y_train)\n",
    "preds = linear.predict(X_test)\n",
    "print(len(preds[preds < 0]))\n",
    "set1 = set(y_test[preds<0].index)\n",
    "print(\"Baseline R2 score: \", r2_score(y_test, preds))\n",
    "print(\"Baseline RMSE score: \", np.sqrt(mean_squared_error(y_test, preds)))"
   ]
  },
  {
   "cell_type": "code",
   "execution_count": 6,
   "id": "14137f71",
   "metadata": {},
   "outputs": [
    {
     "name": "stdout",
     "output_type": "stream",
     "text": [
      "Mean revenue value of the data set:  147844739.08444065\n",
      "These values were predicted as negative, true values are greater than the mean revenue:  464    408247917.00000\n",
      "1483   183593586.00000\n",
      "1041   161001698.00000\n",
      "Name: (Numerical, revenue), dtype: float64\n"
     ]
    },
    {
     "data": {
      "image/png": "[encoded data removed]",
      "text/plain": [
       "<Figure size 432x288 with 1 Axes>"
      ]
     },
     "metadata": {
      "needs_background": "light"
     },
     "output_type": "display_data"
    }
   ],
   "source": [
    "# Trying to examine the negative predictions to determine if there's a pattern, perhaps lower values are predicted as negative\n",
    "print('Mean revenue value of the data set: ', y.mean())\n",
    "print('These values were predicted as negative, true values are greater than the mean revenue: ',\n",
    "      y_test[preds<0][y_test>y.mean()])\n",
    "plt.scatter(y_test[preds<0].values, preds[preds<0])\n",
    "plt.axvline(y.mean(), c='r');"
   ]
  },
  {
   "cell_type": "markdown",
   "id": "83bfbf92",
   "metadata": {},
   "source": [
    "My hypothesis was that the predicted negative values were a result of the linear model predicting low-value films exceptionally low.\n",
    "\n",
    "Multiple of the films with values predicted as negative have a true revenue value that is above the mean revenue for the entire data set. While negative predictions are less severe and less common as a film's true revenueincreases, this problem doesn't seem to be restricted to only low-revenue films. This disproves my hypothesis that negative predictions were a result of a film's true value being close to zero. \n",
    "\n",
    "I do want to test and see if using a MinMaxScaler instead of the StandardScaler will result in better predictions.  Since StandardScaler produces negative features that could be part of the problem.   \n",
    "\n",
    "Additionally there is a severe right tail for the target revenue on this problem, using a logarithmic transformation should in theory help to rectify this.  This is something I realized after doing further research on [stackexchange](https://stats.stackexchange.com/questions/145383/getting-negative-predicted-values-after-linear-regression/145387)\n",
    "\n",
    "If neither of those methods prevent negative revenue predictions, I'll have to remove outliers for revenue and then begin to reduce dimensionality. "
   ]
  },
  {
   "cell_type": "code",
   "execution_count": 7,
   "id": "1752b661",
   "metadata": {},
   "outputs": [],
   "source": [
    "# Recreating and identical train/test split using a different scaler, potentially negative values for numeric data are\n",
    "# leading to negative values in some cases\n",
    "y = boxoffice['Numerical', 'revenue']\n",
    "X = boxoffice.drop('revenue', level=1, axis=1)\n",
    "scaler = MinMaxScaler()\n",
    "X['Numerical'] = scaler.fit_transform(X['Numerical'])\n",
    "X_train, X_test, y_train, y_test = train_test_split(X, y, test_size=0.2, random_state=42)"
   ]
  },
  {
   "cell_type": "code",
   "execution_count": 8,
   "id": "025ad3ac",
   "metadata": {},
   "outputs": [
    {
     "name": "stdout",
     "output_type": "stream",
     "text": [
      "60\n",
      "Min/Max R2 score:  0.3052274584568645\n",
      "Min/Max RMSE score:  136199142.69634014\n"
     ]
    }
   ],
   "source": [
    "# create a 2nd regressor and test for negative revenue predictions\n",
    "linear2 = LinearRegression()\n",
    "linear2.fit(X_train, y_train)\n",
    "preds = linear2.predict(X_test)\n",
    "print(len(preds[preds < 0]))\n",
    "set2 = set(y_test[preds<0].index)\n",
    "print(\"Min/Max R2 score: \", r2_score(y_test, preds))\n",
    "print(\"Min/Max RMSE score: \", np.sqrt(mean_squared_error(y_test, preds)))"
   ]
  },
  {
   "cell_type": "code",
   "execution_count": 9,
   "id": "cdf21450",
   "metadata": {},
   "outputs": [
    {
     "data": {
      "image/png": "[encoded data removed]",
      "text/plain": [
       "<Figure size 432x288 with 1 Axes>"
      ]
     },
     "metadata": {
      "needs_background": "light"
     },
     "output_type": "display_data"
    }
   ],
   "source": [
    "# examining which values are produced as negative with a new scaler to see if there's a noticeable difference in distribution\n",
    "# after removing negative values from the independent variables\n",
    "plt.scatter(y_test[preds<0].values, preds[preds<0])\n",
    "plt.axvline(y.mean(), c='r');"
   ]
  },
  {
   "cell_type": "markdown",
   "id": "bb098d2b",
   "metadata": {},
   "source": [
    "While using MinMaxScaler produced *fewer* negative predictions, and those films who produce negative predictions are less than the average, the number of predictions below zero didn't decrease significantly. It also appears that the magnitude of a negative prediction has little relationship with the actual revenue of a film. \n",
    "\n",
    "It's time to try a logarithmic transformation on the revenue column as I mentioned earlier to test if that will prevent negative predictions. "
   ]
  },
  {
   "cell_type": "markdown",
   "id": "10675621",
   "metadata": {},
   "source": [
    "### Applying a log transformation to revenue in order to eliminate negative predictions\n",
    "\n",
    "I want to be able to use mean_squared_log_error as a metric for evaluating these models, but that's impossible as long as I'm producing negative results."
   ]
  },
  {
   "cell_type": "code",
   "execution_count": 10,
   "id": "733b7ac4",
   "metadata": {},
   "outputs": [],
   "source": [
    "# Recreating the identical train/test split after applying a logarithmic transformation to the target variable\n",
    "\"\"\"I'm unable to use a PowerTransformer on y here, and resorted to using np.log instead.  It required me to \n",
    "reshape the column using reshape(-1,1), which I'm unable to do to a pandas series.\"\"\"\n",
    "y = np.log(boxoffice['Numerical', 'revenue'])\n",
    "X = boxoffice.drop('revenue', level=1, axis=1)\n",
    "scaler = MinMaxScaler()\n",
    "X['Numerical'] = scaler.fit_transform(X['Numerical'])\n",
    "X_train, X_test, y_train, y_test = train_test_split(X, y, test_size=0.2, random_state=42)"
   ]
  },
  {
   "cell_type": "code",
   "execution_count": 11,
   "id": "59baa927",
   "metadata": {},
   "outputs": [
    {
     "data": {
      "text/plain": [
       "PowerTransformer()"
      ]
     },
     "execution_count": 11,
     "metadata": {},
     "output_type": "execute_result"
    }
   ],
   "source": [
    "pow_pow = PowerTransformer()\n",
    "num = boxoffice['Numerical']\n",
    "num['revenue']\n",
    "pow_pow.fit(num[['revenue']])"
   ]
  },
  {
   "cell_type": "code",
   "execution_count": 12,
   "id": "95512fbc",
   "metadata": {},
   "outputs": [
    {
     "data": {
      "image/png": "[encoded data removed]",
      "text/plain": [
       "<Figure size 432x288 with 1 Axes>"
      ]
     },
     "metadata": {
      "needs_background": "light"
     },
     "output_type": "display_data"
    }
   ],
   "source": [
    "plt.hist(y);"
   ]
  },
  {
   "cell_type": "code",
   "execution_count": 13,
   "id": "432640de",
   "metadata": {},
   "outputs": [
    {
     "name": "stdout",
     "output_type": "stream",
     "text": [
      "Log R2 score:  -1.7880392701191124e+16\n",
      "Log RMSE score:  204970080.21011987\n",
      "60\n"
     ]
    }
   ],
   "source": [
    "linear_log = LinearRegression()\n",
    "linear_log.fit(X_train, y_train)\n",
    "preds = linear2.predict(X_test)\n",
    "set3 = set(y_test[preds<0].index)\n",
    "print(\"Log R2 score: \", r2_score(y_test, preds))\n",
    "print(\"Log RMSE score: \", np.sqrt(mean_squared_error(y_test, preds)))\n",
    "print(len(preds[preds < 0]))"
   ]
  },
  {
   "cell_type": "code",
   "execution_count": 14,
   "id": "3860d96b",
   "metadata": {},
   "outputs": [
    {
     "name": "stdout",
     "output_type": "stream",
     "text": [
      "{1888, 1761, 1987, 1315, 1124, 1929, 1483, 76, 464, 1041, 368, 414}\n",
      "set()\n"
     ]
    }
   ],
   "source": [
    "print(set1.difference(set3))\n",
    "print(set2.difference(set3))"
   ]
  },
  {
   "cell_type": "markdown",
   "id": "1da6bc1e",
   "metadata": {},
   "source": [
    "Still getting negative predictions after applying a logarithmic transformation.  The same films are providing negative predictions before and after applying a logarithmic transformation to the revenue column, while doing so has also dramatically decreased the R-squared score for the model.  \n",
    "\n",
    "Additionally, applying a logarithmic transformation to the data has done nothing to normalize the revenue, but rather exchanged a long right-tail distribution for a long left-tailed distribution instead. \n",
    "\n",
    "At this point I'm going to remove the outliers for revenue based on quantile. Given the results of a log transformation I won't use such a transformation on the target variables moving forward.  "
   ]
  },
  {
   "cell_type": "markdown",
   "id": "aa3c9052",
   "metadata": {},
   "source": [
    "### Removing outliers"
   ]
  },
  {
   "cell_type": "code",
   "execution_count": 15,
   "id": "76a49a8a",
   "metadata": {},
   "outputs": [
    {
     "data": {
      "image/png": "[encoded data removed]",
      "text/plain": [
       "<Figure size 432x288 with 1 Axes>"
      ]
     },
     "metadata": {
      "needs_background": "light"
     },
     "output_type": "display_data"
    }
   ],
   "source": [
    "plt.hist(boxoffice['Numerical', 'revenue'])\n",
    "plt.xlabel('Distribution of film revenue')\n",
    "plt.axvline(boxoffice['Numerical', 'revenue'].mean(), c='g', linestyle='--')\n",
    "plt.axvline(boxoffice['Numerical', 'revenue'].median(), c='r', linestyle='--');"
   ]
  },
  {
   "cell_type": "code",
   "execution_count": 16,
   "id": "e4cd11d8",
   "metadata": {},
   "outputs": [
    {
     "name": "stdout",
     "output_type": "stream",
     "text": [
      "(2216, 9976)\n"
     ]
    },
    {
     "data": {
      "image/png": "[encoded data removed]",
      "text/plain": [
       "<Figure size 432x288 with 1 Axes>"
      ]
     },
     "metadata": {
      "needs_background": "light"
     },
     "output_type": "display_data"
    }
   ],
   "source": [
    "quant = boxoffice['Numerical', 'revenue'].quantile(0.95)\n",
    "boxoffice = boxoffice[boxoffice['Numerical', 'revenue']<quant]\n",
    "plt.hist(boxoffice['Numerical', 'revenue'], color = 'lightgrey')\n",
    "plt.xlabel('New distribution of film revenue')\n",
    "plt.axvline(boxoffice['Numerical', 'revenue'].mean(), c='g', linestyle='--')\n",
    "plt.axvline(boxoffice['Numerical', 'revenue'].median(), c='r', linestyle='--');\n",
    "print(boxoffice.shape)"
   ]
  },
  {
   "cell_type": "code",
   "execution_count": 17,
   "id": "5de9881a",
   "metadata": {},
   "outputs": [],
   "source": [
    "y = boxoffice['Numerical', 'revenue']\n",
    "X = boxoffice.drop('revenue', level=1, axis=1)\n",
    "scaler = MinMaxScaler()\n",
    "X['Numerical'] = scaler.fit_transform(X['Numerical'])\n",
    "X_train, X_test, y_train, y_test = train_test_split(X, y, test_size=0.2, random_state=42)"
   ]
  },
  {
   "cell_type": "code",
   "execution_count": 18,
   "id": "ec0a86c5",
   "metadata": {},
   "outputs": [
    {
     "name": "stdout",
     "output_type": "stream",
     "text": [
      "34\n",
      "New R2 score:  0.10026109777158854\n",
      "New RMSE score:  91414251.81537004\n"
     ]
    }
   ],
   "source": [
    "# Testing linear model scores after removing the outlier films\n",
    "linear = LinearRegression()\n",
    "linear.fit(X_train, y_train)\n",
    "preds = linear.predict(X_test)\n",
    "print(len(preds[preds<0]))\n",
    "set4 = set(y_test[preds<0].index)\n",
    "print(\"New R2 score: \", r2_score(y_test, preds))\n",
    "print(\"New RMSE score: \", np.sqrt(mean_squared_error(y_test, preds)))"
   ]
  },
  {
   "cell_type": "code",
   "execution_count": 19,
   "id": "f0b8cde9",
   "metadata": {},
   "outputs": [
    {
     "name": "stdout",
     "output_type": "stream",
     "text": [
      "{841, 1466, 1902}\n",
      "{841, 1466, 1902}\n"
     ]
    }
   ],
   "source": [
    "# checking to see if that completely removed all the films that provided a negative value previously\n",
    "print(set4.intersection(set2))\n",
    "print(set4.intersection(set1))"
   ]
  },
  {
   "cell_type": "markdown",
   "id": "be84f120",
   "metadata": {},
   "source": [
    "Even after removing outliers I'm still getting negative predictions. I've also significantly reduced my R-squared score by removing outliers.  However this is the lowest I've had my RMSE score since I began working with this data.\n",
    "\n",
    "A linear regression model doesn't appear to be the best fit for the data set.  It's also interesting that I'm getting lower R-squared scores than I was previously.  For now I'm going to work to reduce dimensionality in my data set before trying out different regression models. \n",
    "\n",
    "I'm going to save the data for use in another notebook focused on reducing dimensionality.  "
   ]
  },
  {
   "cell_type": "code",
   "execution_count": 53,
   "id": "d378dc6f",
   "metadata": {},
   "outputs": [],
   "source": [
    "boxoffice.to_csv('../Data/No_Outliers.csv')"
   ]
  },
  {
   "cell_type": "markdown",
   "id": "7c637e87",
   "metadata": {},
   "source": [
    "I'm unsatsified with the results I'm getting thus far.  While this is the first project I've worked on I know that it's possible to be getting significantly better [results](https://www.kaggle.com/artgor/eda-feature-engineering-and-model-interpretation). \n",
    "\n",
    "To conclude this notebook I'm going to test how a Random Forest regressor on this data without outliers.  \n",
    "\n",
    "In the next notebook I'm going to reduce the dimensionality of the data I'm working with significantly and see if that will improve scores. "
   ]
  },
  {
   "cell_type": "markdown",
   "id": "811e8bd8",
   "metadata": {},
   "source": []
  },
  {
   "cell_type": "code",
   "execution_count": 20,
   "id": "e528711e",
   "metadata": {},
   "outputs": [
    {
     "data": {
      "text/plain": [
       "(2216, 9976)"
      ]
     },
     "execution_count": 20,
     "metadata": {},
     "output_type": "execute_result"
    }
   ],
   "source": []
  },
  {
   "cell_type": "markdown",
   "id": "9d7e7782",
   "metadata": {},
   "source": []
  },
  {
   "cell_type": "code",
   "execution_count": 21,
   "id": "e1a4d3ff",
   "metadata": {},
   "outputs": [],
   "source": []
  },
  {
   "cell_type": "code",
   "execution_count": 22,
   "id": "3208f43d",
   "metadata": {},
   "outputs": [
    {
     "data": {
      "text/plain": [
       "(2216, 2856)"
      ]
     },
     "execution_count": 22,
     "metadata": {},
     "output_type": "execute_result"
    }
   ],
   "source": []
  },
  {
   "cell_type": "markdown",
   "id": "e8fccd1f",
   "metadata": {},
   "source": []
  },
  {
   "cell_type": "code",
   "execution_count": 34,
   "id": "db9b24ef",
   "metadata": {},
   "outputs": [],
   "source": []
  },
  {
   "cell_type": "code",
   "execution_count": 48,
   "id": "3c0a1cf0",
   "metadata": {},
   "outputs": [],
   "source": []
  },
  {
   "cell_type": "code",
   "execution_count": 49,
   "id": "37bdaf08",
   "metadata": {},
   "outputs": [
    {
     "data": {
      "text/html": [
       "<div>\n",
       "<style scoped>\n",
       "    .dataframe tbody tr th:only-of-type {\n",
       "        vertical-align: middle;\n",
       "    }\n",
       "\n",
       "    .dataframe tbody tr th {\n",
       "        vertical-align: top;\n",
       "    }\n",
       "\n",
       "    .dataframe thead th {\n",
       "        text-align: right;\n",
       "    }\n",
       "</style>\n",
       "<table border=\"1\" class=\"dataframe\">\n",
       "  <thead>\n",
       "    <tr style=\"text-align: right;\">\n",
       "      <th></th>\n",
       "      <th>100 Bares</th>\n",
       "      <th>10th Hole Productions</th>\n",
       "      <th>11:11 Mediaworks</th>\n",
       "      <th>120 Films</th>\n",
       "      <th>1492 Pictures</th>\n",
       "      <th>16 Block Productions</th>\n",
       "      <th>1600 Limited Partnership</th>\n",
       "      <th>1984 Private Defense Contractors</th>\n",
       "      <th>2 Entertain</th>\n",
       "      <th>20th Century Fox Russia</th>\n",
       "      <th>...</th>\n",
       "      <th>bob industries</th>\n",
       "      <th>d-rights</th>\n",
       "      <th>double A Films</th>\n",
       "      <th>icon</th>\n",
       "      <th>thinkfilm</th>\n",
       "      <th>uFilm</th>\n",
       "      <th>uFund</th>\n",
       "      <th>venezia 64</th>\n",
       "      <th>warner bross Turkey</th>\n",
       "      <th>Check Entertainment</th>\n",
       "    </tr>\n",
       "  </thead>\n",
       "  <tbody>\n",
       "    <tr>\n",
       "      <th>0</th>\n",
       "      <td>0</td>\n",
       "      <td>0</td>\n",
       "      <td>0</td>\n",
       "      <td>0</td>\n",
       "      <td>0</td>\n",
       "      <td>0</td>\n",
       "      <td>0</td>\n",
       "      <td>0</td>\n",
       "      <td>0</td>\n",
       "      <td>0</td>\n",
       "      <td>...</td>\n",
       "      <td>0</td>\n",
       "      <td>0</td>\n",
       "      <td>0</td>\n",
       "      <td>0</td>\n",
       "      <td>0</td>\n",
       "      <td>0</td>\n",
       "      <td>0</td>\n",
       "      <td>0</td>\n",
       "      <td>0</td>\n",
       "      <td>0</td>\n",
       "    </tr>\n",
       "    <tr>\n",
       "      <th>1</th>\n",
       "      <td>0</td>\n",
       "      <td>0</td>\n",
       "      <td>0</td>\n",
       "      <td>0</td>\n",
       "      <td>0</td>\n",
       "      <td>0</td>\n",
       "      <td>0</td>\n",
       "      <td>0</td>\n",
       "      <td>0</td>\n",
       "      <td>0</td>\n",
       "      <td>...</td>\n",
       "      <td>0</td>\n",
       "      <td>0</td>\n",
       "      <td>0</td>\n",
       "      <td>0</td>\n",
       "      <td>0</td>\n",
       "      <td>0</td>\n",
       "      <td>0</td>\n",
       "      <td>0</td>\n",
       "      <td>0</td>\n",
       "      <td>0</td>\n",
       "    </tr>\n",
       "    <tr>\n",
       "      <th>2</th>\n",
       "      <td>0</td>\n",
       "      <td>0</td>\n",
       "      <td>0</td>\n",
       "      <td>0</td>\n",
       "      <td>0</td>\n",
       "      <td>0</td>\n",
       "      <td>0</td>\n",
       "      <td>0</td>\n",
       "      <td>0</td>\n",
       "      <td>0</td>\n",
       "      <td>...</td>\n",
       "      <td>0</td>\n",
       "      <td>0</td>\n",
       "      <td>0</td>\n",
       "      <td>0</td>\n",
       "      <td>0</td>\n",
       "      <td>0</td>\n",
       "      <td>0</td>\n",
       "      <td>0</td>\n",
       "      <td>0</td>\n",
       "      <td>0</td>\n",
       "    </tr>\n",
       "    <tr>\n",
       "      <th>3</th>\n",
       "      <td>0</td>\n",
       "      <td>0</td>\n",
       "      <td>0</td>\n",
       "      <td>0</td>\n",
       "      <td>0</td>\n",
       "      <td>0</td>\n",
       "      <td>0</td>\n",
       "      <td>0</td>\n",
       "      <td>0</td>\n",
       "      <td>0</td>\n",
       "      <td>...</td>\n",
       "      <td>0</td>\n",
       "      <td>0</td>\n",
       "      <td>0</td>\n",
       "      <td>0</td>\n",
       "      <td>0</td>\n",
       "      <td>0</td>\n",
       "      <td>0</td>\n",
       "      <td>0</td>\n",
       "      <td>0</td>\n",
       "      <td>0</td>\n",
       "    </tr>\n",
       "    <tr>\n",
       "      <th>4</th>\n",
       "      <td>0</td>\n",
       "      <td>0</td>\n",
       "      <td>0</td>\n",
       "      <td>0</td>\n",
       "      <td>0</td>\n",
       "      <td>0</td>\n",
       "      <td>0</td>\n",
       "      <td>0</td>\n",
       "      <td>0</td>\n",
       "      <td>0</td>\n",
       "      <td>...</td>\n",
       "      <td>0</td>\n",
       "      <td>0</td>\n",
       "      <td>0</td>\n",
       "      <td>0</td>\n",
       "      <td>0</td>\n",
       "      <td>0</td>\n",
       "      <td>0</td>\n",
       "      <td>0</td>\n",
       "      <td>0</td>\n",
       "      <td>0</td>\n",
       "    </tr>\n",
       "    <tr>\n",
       "      <th>...</th>\n",
       "      <td>...</td>\n",
       "      <td>...</td>\n",
       "      <td>...</td>\n",
       "      <td>...</td>\n",
       "      <td>...</td>\n",
       "      <td>...</td>\n",
       "      <td>...</td>\n",
       "      <td>...</td>\n",
       "      <td>...</td>\n",
       "      <td>...</td>\n",
       "      <td>...</td>\n",
       "      <td>...</td>\n",
       "      <td>...</td>\n",
       "      <td>...</td>\n",
       "      <td>...</td>\n",
       "      <td>...</td>\n",
       "      <td>...</td>\n",
       "      <td>...</td>\n",
       "      <td>...</td>\n",
       "      <td>...</td>\n",
       "      <td>...</td>\n",
       "    </tr>\n",
       "    <tr>\n",
       "      <th>2328</th>\n",
       "      <td>0</td>\n",
       "      <td>0</td>\n",
       "      <td>0</td>\n",
       "      <td>0</td>\n",
       "      <td>0</td>\n",
       "      <td>0</td>\n",
       "      <td>0</td>\n",
       "      <td>0</td>\n",
       "      <td>0</td>\n",
       "      <td>0</td>\n",
       "      <td>...</td>\n",
       "      <td>0</td>\n",
       "      <td>0</td>\n",
       "      <td>0</td>\n",
       "      <td>0</td>\n",
       "      <td>0</td>\n",
       "      <td>0</td>\n",
       "      <td>0</td>\n",
       "      <td>0</td>\n",
       "      <td>0</td>\n",
       "      <td>0</td>\n",
       "    </tr>\n",
       "    <tr>\n",
       "      <th>2329</th>\n",
       "      <td>0</td>\n",
       "      <td>0</td>\n",
       "      <td>0</td>\n",
       "      <td>0</td>\n",
       "      <td>0</td>\n",
       "      <td>0</td>\n",
       "      <td>0</td>\n",
       "      <td>0</td>\n",
       "      <td>0</td>\n",
       "      <td>0</td>\n",
       "      <td>...</td>\n",
       "      <td>0</td>\n",
       "      <td>0</td>\n",
       "      <td>0</td>\n",
       "      <td>0</td>\n",
       "      <td>0</td>\n",
       "      <td>0</td>\n",
       "      <td>0</td>\n",
       "      <td>0</td>\n",
       "      <td>0</td>\n",
       "      <td>0</td>\n",
       "    </tr>\n",
       "    <tr>\n",
       "      <th>2330</th>\n",
       "      <td>0</td>\n",
       "      <td>0</td>\n",
       "      <td>0</td>\n",
       "      <td>0</td>\n",
       "      <td>0</td>\n",
       "      <td>0</td>\n",
       "      <td>0</td>\n",
       "      <td>0</td>\n",
       "      <td>0</td>\n",
       "      <td>0</td>\n",
       "      <td>...</td>\n",
       "      <td>0</td>\n",
       "      <td>0</td>\n",
       "      <td>0</td>\n",
       "      <td>0</td>\n",
       "      <td>0</td>\n",
       "      <td>0</td>\n",
       "      <td>0</td>\n",
       "      <td>0</td>\n",
       "      <td>0</td>\n",
       "      <td>0</td>\n",
       "    </tr>\n",
       "    <tr>\n",
       "      <th>2331</th>\n",
       "      <td>0</td>\n",
       "      <td>0</td>\n",
       "      <td>0</td>\n",
       "      <td>0</td>\n",
       "      <td>0</td>\n",
       "      <td>0</td>\n",
       "      <td>0</td>\n",
       "      <td>0</td>\n",
       "      <td>0</td>\n",
       "      <td>0</td>\n",
       "      <td>...</td>\n",
       "      <td>0</td>\n",
       "      <td>0</td>\n",
       "      <td>0</td>\n",
       "      <td>0</td>\n",
       "      <td>0</td>\n",
       "      <td>0</td>\n",
       "      <td>0</td>\n",
       "      <td>0</td>\n",
       "      <td>0</td>\n",
       "      <td>0</td>\n",
       "    </tr>\n",
       "    <tr>\n",
       "      <th>2332</th>\n",
       "      <td>0</td>\n",
       "      <td>0</td>\n",
       "      <td>0</td>\n",
       "      <td>0</td>\n",
       "      <td>0</td>\n",
       "      <td>0</td>\n",
       "      <td>0</td>\n",
       "      <td>0</td>\n",
       "      <td>0</td>\n",
       "      <td>0</td>\n",
       "      <td>...</td>\n",
       "      <td>0</td>\n",
       "      <td>0</td>\n",
       "      <td>0</td>\n",
       "      <td>0</td>\n",
       "      <td>0</td>\n",
       "      <td>0</td>\n",
       "      <td>0</td>\n",
       "      <td>0</td>\n",
       "      <td>0</td>\n",
       "      <td>0</td>\n",
       "    </tr>\n",
       "  </tbody>\n",
       "</table>\n",
       "<p>2216 rows × 2688 columns</p>\n",
       "</div>"
      ],
      "text/plain": [
       "      100 Bares  10th Hole Productions  11:11 Mediaworks  120 Films  \\\n",
       "0             0                      0                 0          0   \n",
       "1             0                      0                 0          0   \n",
       "2             0                      0                 0          0   \n",
       "3             0                      0                 0          0   \n",
       "4             0                      0                 0          0   \n",
       "...         ...                    ...               ...        ...   \n",
       "2328          0                      0                 0          0   \n",
       "2329          0                      0                 0          0   \n",
       "2330          0                      0                 0          0   \n",
       "2331          0                      0                 0          0   \n",
       "2332          0                      0                 0          0   \n",
       "\n",
       "      1492 Pictures  16 Block Productions  1600 Limited Partnership  \\\n",
       "0                 0                     0                         0   \n",
       "1                 0                     0                         0   \n",
       "2                 0                     0                         0   \n",
       "3                 0                     0                         0   \n",
       "4                 0                     0                         0   \n",
       "...             ...                   ...                       ...   \n",
       "2328              0                     0                         0   \n",
       "2329              0                     0                         0   \n",
       "2330              0                     0                         0   \n",
       "2331              0                     0                         0   \n",
       "2332              0                     0                         0   \n",
       "\n",
       "      1984 Private Defense Contractors  2 Entertain  20th Century Fox Russia  \\\n",
       "0                                    0            0                        0   \n",
       "1                                    0            0                        0   \n",
       "2                                    0            0                        0   \n",
       "3                                    0            0                        0   \n",
       "4                                    0            0                        0   \n",
       "...                                ...          ...                      ...   \n",
       "2328                                 0            0                        0   \n",
       "2329                                 0            0                        0   \n",
       "2330                                 0            0                        0   \n",
       "2331                                 0            0                        0   \n",
       "2332                                 0            0                        0   \n",
       "\n",
       "      ...  bob industries  d-rights  double A Films  icon  thinkfilm  uFilm  \\\n",
       "0     ...               0         0               0     0          0      0   \n",
       "1     ...               0         0               0     0          0      0   \n",
       "2     ...               0         0               0     0          0      0   \n",
       "3     ...               0         0               0     0          0      0   \n",
       "4     ...               0         0               0     0          0      0   \n",
       "...   ...             ...       ...             ...   ...        ...    ...   \n",
       "2328  ...               0         0               0     0          0      0   \n",
       "2329  ...               0         0               0     0          0      0   \n",
       "2330  ...               0         0               0     0          0      0   \n",
       "2331  ...               0         0               0     0          0      0   \n",
       "2332  ...               0         0               0     0          0      0   \n",
       "\n",
       "      uFund  venezia 64  warner bross Turkey   Check Entertainment  \n",
       "0         0           0                    0                     0  \n",
       "1         0           0                    0                     0  \n",
       "2         0           0                    0                     0  \n",
       "3         0           0                    0                     0  \n",
       "4         0           0                    0                     0  \n",
       "...     ...         ...                  ...                   ...  \n",
       "2328      0           0                    0                     0  \n",
       "2329      0           0                    0                     0  \n",
       "2330      0           0                    0                     0  \n",
       "2331      0           0                    0                     0  \n",
       "2332      0           0                    0                     0  \n",
       "\n",
       "[2216 rows x 2688 columns]"
      ]
     },
     "execution_count": 49,
     "metadata": {},
     "output_type": "execute_result"
    }
   ],
   "source": []
  },
  {
   "cell_type": "code",
   "execution_count": 50,
   "id": "5b0c973b",
   "metadata": {},
   "outputs": [
    {
     "data": {
      "text/html": [
       "<div>\n",
       "<style scoped>\n",
       "    .dataframe tbody tr th:only-of-type {\n",
       "        vertical-align: middle;\n",
       "    }\n",
       "\n",
       "    .dataframe tbody tr th {\n",
       "        vertical-align: top;\n",
       "    }\n",
       "\n",
       "    .dataframe thead th {\n",
       "        text-align: right;\n",
       "    }\n",
       "</style>\n",
       "<table border=\"1\" class=\"dataframe\">\n",
       "  <thead>\n",
       "    <tr style=\"text-align: right;\">\n",
       "      <th></th>\n",
       "      <th>100 Bares</th>\n",
       "      <th>10th Hole Productions</th>\n",
       "      <th>11:11 Mediaworks</th>\n",
       "      <th>120 Films</th>\n",
       "      <th>1492 Pictures</th>\n",
       "      <th>16 Block Productions</th>\n",
       "      <th>1600 Limited Partnership</th>\n",
       "      <th>1984 Private Defense Contractors</th>\n",
       "      <th>2 Entertain</th>\n",
       "      <th>20th Century Fox Russia</th>\n",
       "      <th>...</th>\n",
       "      <th>d-rights</th>\n",
       "      <th>double A Films</th>\n",
       "      <th>icon</th>\n",
       "      <th>thinkfilm</th>\n",
       "      <th>uFilm</th>\n",
       "      <th>uFund</th>\n",
       "      <th>venezia 64</th>\n",
       "      <th>warner bross Turkey</th>\n",
       "      <th>Check Entertainment</th>\n",
       "      <th>revenue</th>\n",
       "    </tr>\n",
       "  </thead>\n",
       "  <tbody>\n",
       "    <tr>\n",
       "      <th>0</th>\n",
       "      <td>0</td>\n",
       "      <td>0</td>\n",
       "      <td>0</td>\n",
       "      <td>0</td>\n",
       "      <td>0</td>\n",
       "      <td>0</td>\n",
       "      <td>0</td>\n",
       "      <td>0</td>\n",
       "      <td>0</td>\n",
       "      <td>0</td>\n",
       "      <td>...</td>\n",
       "      <td>0</td>\n",
       "      <td>0</td>\n",
       "      <td>0</td>\n",
       "      <td>0</td>\n",
       "      <td>0</td>\n",
       "      <td>0</td>\n",
       "      <td>0</td>\n",
       "      <td>0</td>\n",
       "      <td>0</td>\n",
       "      <td>134734481.00000</td>\n",
       "    </tr>\n",
       "    <tr>\n",
       "      <th>1</th>\n",
       "      <td>0</td>\n",
       "      <td>0</td>\n",
       "      <td>0</td>\n",
       "      <td>0</td>\n",
       "      <td>0</td>\n",
       "      <td>0</td>\n",
       "      <td>0</td>\n",
       "      <td>0</td>\n",
       "      <td>0</td>\n",
       "      <td>0</td>\n",
       "      <td>...</td>\n",
       "      <td>0</td>\n",
       "      <td>0</td>\n",
       "      <td>0</td>\n",
       "      <td>0</td>\n",
       "      <td>0</td>\n",
       "      <td>0</td>\n",
       "      <td>0</td>\n",
       "      <td>0</td>\n",
       "      <td>0</td>\n",
       "      <td>48982041.00000</td>\n",
       "    </tr>\n",
       "    <tr>\n",
       "      <th>2</th>\n",
       "      <td>0</td>\n",
       "      <td>0</td>\n",
       "      <td>0</td>\n",
       "      <td>0</td>\n",
       "      <td>0</td>\n",
       "      <td>0</td>\n",
       "      <td>0</td>\n",
       "      <td>0</td>\n",
       "      <td>0</td>\n",
       "      <td>0</td>\n",
       "      <td>...</td>\n",
       "      <td>0</td>\n",
       "      <td>0</td>\n",
       "      <td>0</td>\n",
       "      <td>0</td>\n",
       "      <td>0</td>\n",
       "      <td>0</td>\n",
       "      <td>0</td>\n",
       "      <td>0</td>\n",
       "      <td>0</td>\n",
       "      <td>3418605.00000</td>\n",
       "    </tr>\n",
       "    <tr>\n",
       "      <th>3</th>\n",
       "      <td>0</td>\n",
       "      <td>0</td>\n",
       "      <td>0</td>\n",
       "      <td>0</td>\n",
       "      <td>0</td>\n",
       "      <td>0</td>\n",
       "      <td>0</td>\n",
       "      <td>0</td>\n",
       "      <td>0</td>\n",
       "      <td>0</td>\n",
       "      <td>...</td>\n",
       "      <td>0</td>\n",
       "      <td>0</td>\n",
       "      <td>0</td>\n",
       "      <td>0</td>\n",
       "      <td>0</td>\n",
       "      <td>0</td>\n",
       "      <td>0</td>\n",
       "      <td>0</td>\n",
       "      <td>0</td>\n",
       "      <td>85446075.00000</td>\n",
       "    </tr>\n",
       "    <tr>\n",
       "      <th>4</th>\n",
       "      <td>0</td>\n",
       "      <td>0</td>\n",
       "      <td>0</td>\n",
       "      <td>0</td>\n",
       "      <td>0</td>\n",
       "      <td>0</td>\n",
       "      <td>0</td>\n",
       "      <td>0</td>\n",
       "      <td>0</td>\n",
       "      <td>0</td>\n",
       "      <td>...</td>\n",
       "      <td>0</td>\n",
       "      <td>0</td>\n",
       "      <td>0</td>\n",
       "      <td>0</td>\n",
       "      <td>0</td>\n",
       "      <td>0</td>\n",
       "      <td>0</td>\n",
       "      <td>0</td>\n",
       "      <td>0</td>\n",
       "      <td>4259710.00000</td>\n",
       "    </tr>\n",
       "    <tr>\n",
       "      <th>...</th>\n",
       "      <td>...</td>\n",
       "      <td>...</td>\n",
       "      <td>...</td>\n",
       "      <td>...</td>\n",
       "      <td>...</td>\n",
       "      <td>...</td>\n",
       "      <td>...</td>\n",
       "      <td>...</td>\n",
       "      <td>...</td>\n",
       "      <td>...</td>\n",
       "      <td>...</td>\n",
       "      <td>...</td>\n",
       "      <td>...</td>\n",
       "      <td>...</td>\n",
       "      <td>...</td>\n",
       "      <td>...</td>\n",
       "      <td>...</td>\n",
       "      <td>...</td>\n",
       "      <td>...</td>\n",
       "      <td>...</td>\n",
       "      <td>...</td>\n",
       "    </tr>\n",
       "    <tr>\n",
       "      <th>2328</th>\n",
       "      <td>0</td>\n",
       "      <td>0</td>\n",
       "      <td>0</td>\n",
       "      <td>0</td>\n",
       "      <td>0</td>\n",
       "      <td>0</td>\n",
       "      <td>0</td>\n",
       "      <td>0</td>\n",
       "      <td>0</td>\n",
       "      <td>0</td>\n",
       "      <td>...</td>\n",
       "      <td>0</td>\n",
       "      <td>0</td>\n",
       "      <td>0</td>\n",
       "      <td>0</td>\n",
       "      <td>0</td>\n",
       "      <td>0</td>\n",
       "      <td>0</td>\n",
       "      <td>0</td>\n",
       "      <td>0</td>\n",
       "      <td>95437994.00000</td>\n",
       "    </tr>\n",
       "    <tr>\n",
       "      <th>2329</th>\n",
       "      <td>0</td>\n",
       "      <td>0</td>\n",
       "      <td>0</td>\n",
       "      <td>0</td>\n",
       "      <td>0</td>\n",
       "      <td>0</td>\n",
       "      <td>0</td>\n",
       "      <td>0</td>\n",
       "      <td>0</td>\n",
       "      <td>0</td>\n",
       "      <td>...</td>\n",
       "      <td>0</td>\n",
       "      <td>0</td>\n",
       "      <td>0</td>\n",
       "      <td>0</td>\n",
       "      <td>0</td>\n",
       "      <td>0</td>\n",
       "      <td>0</td>\n",
       "      <td>0</td>\n",
       "      <td>0</td>\n",
       "      <td>71171825.00000</td>\n",
       "    </tr>\n",
       "    <tr>\n",
       "      <th>2330</th>\n",
       "      <td>0</td>\n",
       "      <td>0</td>\n",
       "      <td>0</td>\n",
       "      <td>0</td>\n",
       "      <td>0</td>\n",
       "      <td>0</td>\n",
       "      <td>0</td>\n",
       "      <td>0</td>\n",
       "      <td>0</td>\n",
       "      <td>0</td>\n",
       "      <td>...</td>\n",
       "      <td>0</td>\n",
       "      <td>0</td>\n",
       "      <td>0</td>\n",
       "      <td>0</td>\n",
       "      <td>0</td>\n",
       "      <td>0</td>\n",
       "      <td>0</td>\n",
       "      <td>0</td>\n",
       "      <td>0</td>\n",
       "      <td>3190832.00000</td>\n",
       "    </tr>\n",
       "    <tr>\n",
       "      <th>2331</th>\n",
       "      <td>0</td>\n",
       "      <td>0</td>\n",
       "      <td>0</td>\n",
       "      <td>0</td>\n",
       "      <td>0</td>\n",
       "      <td>0</td>\n",
       "      <td>0</td>\n",
       "      <td>0</td>\n",
       "      <td>0</td>\n",
       "      <td>0</td>\n",
       "      <td>...</td>\n",
       "      <td>0</td>\n",
       "      <td>0</td>\n",
       "      <td>0</td>\n",
       "      <td>0</td>\n",
       "      <td>0</td>\n",
       "      <td>0</td>\n",
       "      <td>0</td>\n",
       "      <td>0</td>\n",
       "      <td>0</td>\n",
       "      <td>440603537.00000</td>\n",
       "    </tr>\n",
       "    <tr>\n",
       "      <th>2332</th>\n",
       "      <td>0</td>\n",
       "      <td>0</td>\n",
       "      <td>0</td>\n",
       "      <td>0</td>\n",
       "      <td>0</td>\n",
       "      <td>0</td>\n",
       "      <td>0</td>\n",
       "      <td>0</td>\n",
       "      <td>0</td>\n",
       "      <td>0</td>\n",
       "      <td>...</td>\n",
       "      <td>0</td>\n",
       "      <td>0</td>\n",
       "      <td>0</td>\n",
       "      <td>0</td>\n",
       "      <td>0</td>\n",
       "      <td>0</td>\n",
       "      <td>0</td>\n",
       "      <td>0</td>\n",
       "      <td>0</td>\n",
       "      <td>71274967.00000</td>\n",
       "    </tr>\n",
       "  </tbody>\n",
       "</table>\n",
       "<p>2216 rows × 2689 columns</p>\n",
       "</div>"
      ],
      "text/plain": [
       "      100 Bares  10th Hole Productions  11:11 Mediaworks  120 Films  \\\n",
       "0             0                      0                 0          0   \n",
       "1             0                      0                 0          0   \n",
       "2             0                      0                 0          0   \n",
       "3             0                      0                 0          0   \n",
       "4             0                      0                 0          0   \n",
       "...         ...                    ...               ...        ...   \n",
       "2328          0                      0                 0          0   \n",
       "2329          0                      0                 0          0   \n",
       "2330          0                      0                 0          0   \n",
       "2331          0                      0                 0          0   \n",
       "2332          0                      0                 0          0   \n",
       "\n",
       "      1492 Pictures  16 Block Productions  1600 Limited Partnership  \\\n",
       "0                 0                     0                         0   \n",
       "1                 0                     0                         0   \n",
       "2                 0                     0                         0   \n",
       "3                 0                     0                         0   \n",
       "4                 0                     0                         0   \n",
       "...             ...                   ...                       ...   \n",
       "2328              0                     0                         0   \n",
       "2329              0                     0                         0   \n",
       "2330              0                     0                         0   \n",
       "2331              0                     0                         0   \n",
       "2332              0                     0                         0   \n",
       "\n",
       "      1984 Private Defense Contractors  2 Entertain  20th Century Fox Russia  \\\n",
       "0                                    0            0                        0   \n",
       "1                                    0            0                        0   \n",
       "2                                    0            0                        0   \n",
       "3                                    0            0                        0   \n",
       "4                                    0            0                        0   \n",
       "...                                ...          ...                      ...   \n",
       "2328                                 0            0                        0   \n",
       "2329                                 0            0                        0   \n",
       "2330                                 0            0                        0   \n",
       "2331                                 0            0                        0   \n",
       "2332                                 0            0                        0   \n",
       "\n",
       "      ...  d-rights  double A Films  icon  thinkfilm  uFilm  uFund  \\\n",
       "0     ...         0               0     0          0      0      0   \n",
       "1     ...         0               0     0          0      0      0   \n",
       "2     ...         0               0     0          0      0      0   \n",
       "3     ...         0               0     0          0      0      0   \n",
       "4     ...         0               0     0          0      0      0   \n",
       "...   ...       ...             ...   ...        ...    ...    ...   \n",
       "2328  ...         0               0     0          0      0      0   \n",
       "2329  ...         0               0     0          0      0      0   \n",
       "2330  ...         0               0     0          0      0      0   \n",
       "2331  ...         0               0     0          0      0      0   \n",
       "2332  ...         0               0     0          0      0      0   \n",
       "\n",
       "      venezia 64  warner bross Turkey   Check Entertainment         revenue  \n",
       "0              0                    0                     0 134734481.00000  \n",
       "1              0                    0                     0  48982041.00000  \n",
       "2              0                    0                     0   3418605.00000  \n",
       "3              0                    0                     0  85446075.00000  \n",
       "4              0                    0                     0   4259710.00000  \n",
       "...          ...                  ...                   ...             ...  \n",
       "2328           0                    0                     0  95437994.00000  \n",
       "2329           0                    0                     0  71171825.00000  \n",
       "2330           0                    0                     0   3190832.00000  \n",
       "2331           0                    0                     0 440603537.00000  \n",
       "2332           0                    0                     0  71274967.00000  \n",
       "\n",
       "[2216 rows x 2689 columns]"
      ]
     },
     "execution_count": 50,
     "metadata": {},
     "output_type": "execute_result"
    }
   ],
   "source": []
  },
  {
   "cell_type": "code",
   "execution_count": null,
   "id": "6f4bfa9f",
   "metadata": {},
   "outputs": [],
   "source": []
  }
 ],
 "metadata": {
  "kernelspec": {
   "display_name": "Python 3",
   "language": "python",
   "name": "python3"
  },
  "language_info": {
   "codemirror_mode": {
    "name": "ipython",
    "version": 3
   },
   "file_extension": ".py",
   "mimetype": "text/x-python",
   "name": "python",
   "nbconvert_exporter": "python",
   "pygments_lexer": "ipython3",
   "version": "3.8.10"
  }
 },
 "nbformat": 4,
 "nbformat_minor": 5
}
