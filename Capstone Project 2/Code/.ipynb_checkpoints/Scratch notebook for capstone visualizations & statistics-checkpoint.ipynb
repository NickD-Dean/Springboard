{
 "cells": [
  {
   "cell_type": "code",
   "execution_count": 1,
   "metadata": {},
   "outputs": [],
   "source": [
    "import pandas as pd\n",
    "import numpy as np\n",
    "import matplotlib.pyplot as plt\n",
    "import seaborn as sns\n",
    "import warnings\n",
    "warnings.filterwarnings('ignore')"
   ]
  },
  {
   "cell_type": "code",
   "execution_count": 2,
   "metadata": {},
   "outputs": [
    {
     "data": {
      "text/plain": [
       "(1983, 84)"
      ]
     },
     "execution_count": 2,
     "metadata": {},
     "output_type": "execute_result"
    }
   ],
   "source": [
    "box = pd.read_csv('../Data/Reduced_dimensions2.csv', index_col=0, header = [0,1])\n",
    "titles = pd.read_csv('../Data/boxoffice_titles.csv', index_col=0, header=0)\n",
    "box.shape"
   ]
  },
  {
   "cell_type": "markdown",
   "metadata": {},
   "source": [
    "## Finding the % of films who turn a profit, the average loss and average return on films"
   ]
  },
  {
   "cell_type": "code",
   "execution_count": 3,
   "metadata": {},
   "outputs": [
    {
     "data": {
      "text/html": [
       "<div>\n",
       "<style scoped>\n",
       "    .dataframe tbody tr th:only-of-type {\n",
       "        vertical-align: middle;\n",
       "    }\n",
       "\n",
       "    .dataframe tbody tr th {\n",
       "        vertical-align: top;\n",
       "    }\n",
       "\n",
       "    .dataframe thead th {\n",
       "        text-align: right;\n",
       "    }\n",
       "</style>\n",
       "<table border=\"1\" class=\"dataframe\">\n",
       "  <thead>\n",
       "    <tr style=\"text-align: right;\">\n",
       "      <th></th>\n",
       "      <th>budget</th>\n",
       "      <th>revenue</th>\n",
       "      <th>profit</th>\n",
       "      <th>profit_margin</th>\n",
       "    </tr>\n",
       "  </thead>\n",
       "  <tbody>\n",
       "    <tr>\n",
       "      <th>0</th>\n",
       "      <td>40000000.0</td>\n",
       "      <td>134734481.0</td>\n",
       "      <td>94734481.0</td>\n",
       "      <td>70.311980</td>\n",
       "    </tr>\n",
       "    <tr>\n",
       "      <th>1</th>\n",
       "      <td>3300000.0</td>\n",
       "      <td>48982041.0</td>\n",
       "      <td>45682041.0</td>\n",
       "      <td>93.262837</td>\n",
       "    </tr>\n",
       "    <tr>\n",
       "      <th>2</th>\n",
       "      <td>8000000.0</td>\n",
       "      <td>3418605.0</td>\n",
       "      <td>-4581395.0</td>\n",
       "      <td>-134.013582</td>\n",
       "    </tr>\n",
       "  </tbody>\n",
       "</table>\n",
       "</div>"
      ],
      "text/plain": [
       "       budget      revenue      profit  profit_margin\n",
       "0  40000000.0  134734481.0  94734481.0      70.311980\n",
       "1   3300000.0   48982041.0  45682041.0      93.262837\n",
       "2   8000000.0    3418605.0  -4581395.0    -134.013582"
      ]
     },
     "execution_count": 3,
     "metadata": {},
     "output_type": "execute_result"
    }
   ],
   "source": [
    "# creating a new dataframe of profits\n",
    "profit = box['Numerical']\n",
    "profit = profit[['budget', 'revenue']]\n",
    "profit['profit'] = profit['revenue'] - profit['budget']\n",
    "profit['profit_margin'] = (profit['profit']/profit['revenue'])*100\n",
    "profit.head(3)"
   ]
  },
  {
   "cell_type": "code",
   "execution_count": 4,
   "metadata": {},
   "outputs": [
    {
     "data": {
      "text/html": [
       "<div>\n",
       "<style scoped>\n",
       "    .dataframe tbody tr th:only-of-type {\n",
       "        vertical-align: middle;\n",
       "    }\n",
       "\n",
       "    .dataframe tbody tr th {\n",
       "        vertical-align: top;\n",
       "    }\n",
       "\n",
       "    .dataframe thead th {\n",
       "        text-align: right;\n",
       "    }\n",
       "</style>\n",
       "<table border=\"1\" class=\"dataframe\">\n",
       "  <thead>\n",
       "    <tr style=\"text-align: right;\">\n",
       "      <th></th>\n",
       "      <th>title</th>\n",
       "      <th>budget</th>\n",
       "      <th>revenue</th>\n",
       "      <th>profit</th>\n",
       "      <th>profit_margin</th>\n",
       "    </tr>\n",
       "  </thead>\n",
       "  <tbody>\n",
       "    <tr>\n",
       "      <th>0</th>\n",
       "      <td>The Princess Diaries 2: Royal Engagement</td>\n",
       "      <td>40000000.0</td>\n",
       "      <td>134734481.0</td>\n",
       "      <td>94734481.0</td>\n",
       "      <td>70.311980</td>\n",
       "    </tr>\n",
       "    <tr>\n",
       "      <th>1</th>\n",
       "      <td>Whiplash</td>\n",
       "      <td>3300000.0</td>\n",
       "      <td>48982041.0</td>\n",
       "      <td>45682041.0</td>\n",
       "      <td>93.262837</td>\n",
       "    </tr>\n",
       "    <tr>\n",
       "      <th>2</th>\n",
       "      <td>Pinocchio and the Emperor of the Night</td>\n",
       "      <td>8000000.0</td>\n",
       "      <td>3418605.0</td>\n",
       "      <td>-4581395.0</td>\n",
       "      <td>-134.013582</td>\n",
       "    </tr>\n",
       "  </tbody>\n",
       "</table>\n",
       "</div>"
      ],
      "text/plain": [
       "                                      title      budget      revenue  \\\n",
       "0  The Princess Diaries 2: Royal Engagement  40000000.0  134734481.0   \n",
       "1                                  Whiplash   3300000.0   48982041.0   \n",
       "2    Pinocchio and the Emperor of the Night   8000000.0    3418605.0   \n",
       "\n",
       "       profit  profit_margin  \n",
       "0  94734481.0      70.311980  \n",
       "1  45682041.0      93.262837  \n",
       "2  -4581395.0    -134.013582  "
      ]
     },
     "execution_count": 4,
     "metadata": {},
     "output_type": "execute_result"
    }
   ],
   "source": [
    "# Adding in titles to the profit dataframe for use in my written report & presentation\n",
    "profit = profit.merge(titles, left_index=True, right_index=True, how='inner')\n",
    "profit = profit[['title', 'budget', 'revenue', 'profit', 'profit_margin']]\n",
    "profit.head(3)"
   ]
  },
  {
   "cell_type": "code",
   "execution_count": 13,
   "metadata": {},
   "outputs": [
    {
     "data": {
      "text/plain": [
       "80.23197175995965"
      ]
     },
     "execution_count": 13,
     "metadata": {},
     "output_type": "execute_result"
    }
   ],
   "source": [
    "# of films that turned a profit\n",
    "len(profit[profit['profit']>0])/len(profit)*100"
   ]
  },
  {
   "cell_type": "code",
   "execution_count": 12,
   "metadata": {},
   "outputs": [
    {
     "name": "stdout",
     "output_type": "stream",
     "text": [
      "Mean profit margin:  -211.87153015770005\n",
      "Mean profit:  52575066.65557236\n",
      "104256357178.0\n"
     ]
    }
   ],
   "source": [
    "# Average profit margin & average profit\n",
    "print('Mean profit margin: ', profit['profit_margin'].mean())\n",
    "print('Mean profit: ', profit['profit'].mean())\n",
    "print((profit['revenue'].sum() - profit['budget'].sum()))"
   ]
  },
  {
   "cell_type": "code",
   "execution_count": 14,
   "metadata": {},
   "outputs": [
    {
     "data": {
      "text/html": [
       "<div>\n",
       "<style scoped>\n",
       "    .dataframe tbody tr th:only-of-type {\n",
       "        vertical-align: middle;\n",
       "    }\n",
       "\n",
       "    .dataframe tbody tr th {\n",
       "        vertical-align: top;\n",
       "    }\n",
       "\n",
       "    .dataframe thead th {\n",
       "        text-align: right;\n",
       "    }\n",
       "</style>\n",
       "<table border=\"1\" class=\"dataframe\">\n",
       "  <thead>\n",
       "    <tr style=\"text-align: right;\">\n",
       "      <th></th>\n",
       "      <th>title</th>\n",
       "      <th>budget</th>\n",
       "      <th>revenue</th>\n",
       "      <th>profit</th>\n",
       "      <th>profit_margin</th>\n",
       "    </tr>\n",
       "  </thead>\n",
       "  <tbody>\n",
       "    <tr>\n",
       "      <th>703</th>\n",
       "      <td>The Adventures of Pluto Nash</td>\n",
       "      <td>100000000.0</td>\n",
       "      <td>2683893.0</td>\n",
       "      <td>-97316107.0</td>\n",
       "      <td>-3625.930952</td>\n",
       "    </tr>\n",
       "    <tr>\n",
       "      <th>2012</th>\n",
       "      <td>Town &amp; Country</td>\n",
       "      <td>90000000.0</td>\n",
       "      <td>3652318.0</td>\n",
       "      <td>-86347682.0</td>\n",
       "      <td>-2364.188496</td>\n",
       "    </tr>\n",
       "    <tr>\n",
       "      <th>1402</th>\n",
       "      <td>Monkeybone</td>\n",
       "      <td>75000000.0</td>\n",
       "      <td>2210366.0</td>\n",
       "      <td>-72789634.0</td>\n",
       "      <td>-3293.103224</td>\n",
       "    </tr>\n",
       "  </tbody>\n",
       "</table>\n",
       "</div>"
      ],
      "text/plain": [
       "                             title       budget    revenue      profit  \\\n",
       "703   The Adventures of Pluto Nash  100000000.0  2683893.0 -97316107.0   \n",
       "2012                Town & Country   90000000.0  3652318.0 -86347682.0   \n",
       "1402                    Monkeybone   75000000.0  2210366.0 -72789634.0   \n",
       "\n",
       "      profit_margin  \n",
       "703    -3625.930952  \n",
       "2012   -2364.188496  \n",
       "1402   -3293.103224  "
      ]
     },
     "execution_count": 14,
     "metadata": {},
     "output_type": "execute_result"
    }
   ],
   "source": [
    "profit[profit['profit_margin']<(-1000)].sort_values(by='budget', ascending=False).head(3)"
   ]
  },
  {
   "cell_type": "code",
   "execution_count": 16,
   "metadata": {},
   "outputs": [
    {
     "name": "stdout",
     "output_type": "stream",
     "text": [
      "-17967295.75765306 -1326.4244188582284\n"
     ]
    }
   ],
   "source": [
    "mean_loss = profit['profit'][profit['profit']<0].mean()\n",
    "mean_margin_loss = profit['profit_margin'][profit['profit']<0].mean()\n",
    "print(mean_loss, mean_margin_loss)"
   ]
  },
  {
   "cell_type": "code",
   "execution_count": 17,
   "metadata": {},
   "outputs": [
    {
     "name": "stdout",
     "output_type": "stream",
     "text": [
      "69955711.57448146 62.73860961012387\n"
     ]
    }
   ],
   "source": [
    "mean_profit = profit['profit'][profit['profit']>0].mean()\n",
    "mean_profit_margin = profit['profit_margin'][profit['profit']>0].mean()\n",
    "print(mean_profit, mean_profit_margin)"
   ]
  },
  {
   "cell_type": "markdown",
   "metadata": {},
   "source": [
    "# Plotting budget v revenue"
   ]
  },
  {
   "cell_type": "code",
   "execution_count": null,
   "metadata": {},
   "outputs": [],
   "source": [
    "plt.figure(figsize=())\n",
    "plt.scatter(box['Numerical', 'budget'], box['Numerical', 'revenue'], color='b', alpha=0.5)"
   ]
  },
  {
   "cell_type": "code",
   "execution_count": null,
   "metadata": {},
   "outputs": [],
   "source": []
  },
  {
   "cell_type": "code",
   "execution_count": null,
   "metadata": {},
   "outputs": [],
   "source": []
  },
  {
   "cell_type": "code",
   "execution_count": null,
   "metadata": {},
   "outputs": [],
   "source": []
  },
  {
   "cell_type": "code",
   "execution_count": null,
   "metadata": {},
   "outputs": [],
   "source": []
  },
  {
   "cell_type": "code",
   "execution_count": null,
   "metadata": {},
   "outputs": [],
   "source": []
  },
  {
   "cell_type": "code",
   "execution_count": null,
   "metadata": {},
   "outputs": [],
   "source": []
  },
  {
   "cell_type": "code",
   "execution_count": null,
   "metadata": {},
   "outputs": [],
   "source": []
  }
 ],
 "metadata": {
  "kernelspec": {
   "display_name": "Python 3",
   "language": "python",
   "name": "python3"
  },
  "language_info": {
   "codemirror_mode": {
    "name": "ipython",
    "version": 3
   },
   "file_extension": ".py",
   "mimetype": "text/x-python",
   "name": "python",
   "nbconvert_exporter": "python",
   "pygments_lexer": "ipython3",
   "version": "3.8.5"
  }
 },
 "nbformat": 4,
 "nbformat_minor": 4
}
