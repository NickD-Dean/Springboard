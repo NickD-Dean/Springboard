{
 "cells": [
  {
   "cell_type": "code",
   "execution_count": null,
   "metadata": {},
   "outputs": [],
   "source": [
    "import pandas as pd\n",
    "import numpy as np\n",
    "import matplotlib.pyplot as plt\n",
    "import seaborn as sns\n",
    "from imdb import IMDb"
   ]
  },
  {
   "cell_type": "code",
   "execution_count": null,
   "metadata": {},
   "outputs": [],
   "source": [
    "ia = IMDb()    #initializes IMDbPy with ia as an alias"
   ]
  },
  {
   "cell_type": "code",
   "execution_count": null,
   "metadata": {},
   "outputs": [],
   "source": [
    "ia.get_movie_infoset()   #pulling out the list of categories of information that's available via IMDbPy"
   ]
  },
  {
   "cell_type": "code",
   "execution_count": null,
   "metadata": {},
   "outputs": [],
   "source": [
    "movie = ia.get_movie('2395427', info=['main'])    #pulls info for The Avengers: Age of Ultron to test"
   ]
  },
  {
   "cell_type": "code",
   "execution_count": null,
   "metadata": {},
   "outputs": [],
   "source": [
    "movie.infoset2keys       #displays the information contained in the 'main' key for the movie"
   ]
  },
  {
   "cell_type": "code",
   "execution_count": null,
   "metadata": {},
   "outputs": [],
   "source": [
    "MovieBox = movie.get('box office')  #stores object under dict[main][box office]\n",
    "MovieRev = movie.get('box office')['Cumulative Worldwide Gross']   #stores cumulative worldwide gross revenue"
   ]
  },
  {
   "cell_type": "code",
   "execution_count": null,
   "metadata": {
    "scrolled": true
   },
   "outputs": [],
   "source": [
    "MovieBox\n",
    "#Getting just the 'box office' information returns a dictionary of all included revenue values"
   ]
  },
  {
   "cell_type": "code",
   "execution_count": null,
   "metadata": {},
   "outputs": [],
   "source": [
    "MovieRev\n",
    "#calling the .get() on 'box office' and also the dictionary key for 'Cumulative Worldwide Gross' returns the target value needed"
   ]
  },
  {
   "cell_type": "code",
   "execution_count": null,
   "metadata": {},
   "outputs": [],
   "source": [
    "MovieRev = MovieRev.replace('$', '').replace(',','')\n",
    "MovieRev = int(MovieRev)\n",
    "print(type(MovieRev))\n",
    "print(MovieRev)\n",
    "#using the string replace method on the target value strips all '/$'' and ',' from the revenue numbers - this will work!"
   ]
  },
  {
   "cell_type": "markdown",
   "metadata": {},
   "source": [
    "### The next step here is to tinker and discover how I can do this in 'one go' for my entire list of imdb id's\n",
    "\n",
    "Now I need to load in my boxoffice_data file and pull out the imdb_id and see what I can do to pull our box office revenue information\n",
    "\n"
   ]
  },
  {
   "cell_type": "code",
   "execution_count": null,
   "metadata": {},
   "outputs": [],
   "source": [
    "boxoffice = pd.read_csv(r'C:\\Users\\deann\\Documents\\Data\\Box Office Prediction Data\\boxoffice_data.csv')"
   ]
  },
  {
   "cell_type": "code",
   "execution_count": null,
   "metadata": {},
   "outputs": [],
   "source": [
    "boxoffice.imdb_id.head()   #since I stripped the 'tt' portion of the ID off pandas read the ID's in as integers"
   ]
  },
  {
   "cell_type": "code",
   "execution_count": null,
   "metadata": {},
   "outputs": [],
   "source": [
    "values = boxoffice.imdb_id.values\n",
    "print(type(values))"
   ]
  },
  {
   "cell_type": "code",
   "execution_count": null,
   "metadata": {},
   "outputs": [],
   "source": [
    "#  movie_info = ia.get_movie(values, info=['main'])      #Okay, here I see that I need to create a function that passes each value "
   ]
  },
  {
   "cell_type": "code",
   "execution_count": null,
   "metadata": {},
   "outputs": [],
   "source": [
    "keyerror_list = []\n",
    "KeyError_count = 0\n",
    "error_list = []\n",
    "else_count = 0\n",
    "def movie_info(x):\n",
    "    \"\"\"Creates a simple function that gets the movie info I need for a single film\n",
    "        I plan to vectorize this over a numpy array of IMDB values\"\"\"\n",
    "    try: \n",
    "        # storing the main dictionary for the film with imdb_id = x\n",
    "        info = ia.get_movie(x, info=['main'])\n",
    "        # trying to return the cumulative worldwide gross revenue for film with imdb_id = x\n",
    "        MovieRev = info.get('box office')['Cumulative Worldwide Gross']\n",
    "        # transforming the string value to a clean integer            \n",
    "        MovieRev = MovieRev.replace('$', '').replace(',','')\n",
    "        MovieRev = int(MovieRev)\n",
    "        # returns the integer value for the cumulative worldwide gross revenue for film with imdb_id = x\n",
    "        return MovieRev     \n",
    "    except KeyError:\n",
    "        print(str(x))\n",
    "        keyerror_list.append(str(x))\n",
    "        KeyError_count = KeyError_count + 1\n",
    "        return \"NaN\"\n",
    "    else:\n",
    "        print(str(x))\n",
    "        error_list.append(str(x))\n",
    "        error_count = error_count + 1\n",
    "        return \"NaN\"\n",
    "        \n",
    "    \n",
    "ultron = movie_info(2395427)"
   ]
  },
  {
   "cell_type": "code",
   "execution_count": null,
   "metadata": {},
   "outputs": [],
   "source": [
    "#testing the function on the same Age of Ultron film ID I used above\n",
    "\n",
    "UltronRev = movie.get('box office')['Cumulative Worldwide Gross']\n",
    "UltronRev"
   ]
  },
  {
   "cell_type": "code",
   "execution_count": null,
   "metadata": {
    "scrolled": false
   },
   "outputs": [],
   "source": [
    "apply = boxoffice.imdb_id.apply(movie_info)\n",
    "\n",
    "apply"
   ]
  },
  {
   "cell_type": "markdown",
   "metadata": {},
   "source": [
    "Action items:\n",
    "\n",
    "1/) Search for this api in github\n",
    "\n",
    "2/) search documentation again, this SHOULD be in their website"
   ]
  },
  {
   "cell_type": "code",
   "execution_count": null,
   "metadata": {},
   "outputs": [],
   "source": [
    "print(error_list)"
   ]
  },
  {
   "cell_type": "code",
   "execution_count": null,
   "metadata": {},
   "outputs": [],
   "source": []
  },
  {
   "cell_type": "code",
   "execution_count": null,
   "metadata": {},
   "outputs": [],
   "source": []
  },
  {
   "cell_type": "code",
   "execution_count": null,
   "metadata": {},
   "outputs": [],
   "source": []
  }
 ],
 "metadata": {
  "kernelspec": {
   "display_name": "Python 3",
   "language": "python",
   "name": "python3"
  },
  "language_info": {
   "codemirror_mode": {
    "name": "ipython",
    "version": 3
   },
   "file_extension": ".py",
   "mimetype": "text/x-python",
   "name": "python",
   "nbconvert_exporter": "python",
   "pygments_lexer": "ipython3",
   "version": "3.8.5"
  }
 },
 "nbformat": 4,
 "nbformat_minor": 4
}
