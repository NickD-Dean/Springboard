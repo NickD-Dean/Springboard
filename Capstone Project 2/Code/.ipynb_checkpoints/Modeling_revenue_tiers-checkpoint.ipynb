{
 "cells": [
  {
   "cell_type": "markdown",
   "id": "90a904f1",
   "metadata": {},
   "source": [
    "# Modelling Revenue Tiers\n",
    "\n",
    "Thus far in this project I've been able to instantiate and train machine learning models on a data set that reflects the traits of two thousand films, and predict those films revenue accurately. \n",
    "\n",
    "The final step in this project is to examine the film data and ascertain if there are any 'tiers' that can be used to group films together and more accurately model revenue on subsets of the data.  \n",
    "\n",
    "I'll first conduct some preliminary exploration of the data looking for likely ways to group films according to my intuition, then use a clustering model to generate additional insights onto how these films should be grouped. "
   ]
  },
  {
   "cell_type": "code",
   "execution_count": 1,
   "id": "c3b5bd20",
   "metadata": {},
   "outputs": [],
   "source": [
    "import pandas as pd\n",
    "import numpy as np\n",
    "import matplotlib.pyplot as plt\n",
    "import seaborn as sns\n",
    "from sklearn.linear_model import LinearRegression\n",
    "from sklearn.model_selection import train_test_split, cross_validate, RandomizedSearchCV\n",
    "from sklearn.preprocessing import StandardScaler, MinMaxScaler, PowerTransformer\n",
    "from sklearn.metrics import r2_score, mean_squared_error, mean_squared_log_error\n",
    "from sklearn.svm import LinearSVR\n",
    "from sklearn.neighbors import KNeighborsRegressor\n",
    "from sklearn.ensemble import GradientBoostingRegressor, RandomForestRegressor\n",
    "\n",
    "pd.set_option('display.float_format', lambda x: '%.5f' % x)"
   ]
  },
  {
   "cell_type": "code",
   "execution_count": 15,
   "id": "bcca9d63",
   "metadata": {},
   "outputs": [
    {
     "data": {
      "text/html": [
       "<div>\n",
       "<style scoped>\n",
       "    .dataframe tbody tr th:only-of-type {\n",
       "        vertical-align: middle;\n",
       "    }\n",
       "\n",
       "    .dataframe tbody tr th {\n",
       "        vertical-align: top;\n",
       "    }\n",
       "\n",
       "    .dataframe thead tr th {\n",
       "        text-align: left;\n",
       "    }\n",
       "</style>\n",
       "<table border=\"1\" class=\"dataframe\">\n",
       "  <thead>\n",
       "    <tr>\n",
       "      <th></th>\n",
       "      <th colspan=\"10\" halign=\"left\">Genre</th>\n",
       "      <th>...</th>\n",
       "      <th colspan=\"2\" halign=\"left\">Release_year</th>\n",
       "      <th>Numerical</th>\n",
       "      <th colspan=\"7\" halign=\"left\">Country</th>\n",
       "    </tr>\n",
       "    <tr>\n",
       "      <th></th>\n",
       "      <th>Action</th>\n",
       "      <th>Adventure</th>\n",
       "      <th>Animation</th>\n",
       "      <th>Comedy</th>\n",
       "      <th>Crime</th>\n",
       "      <th>Documentary</th>\n",
       "      <th>Drama</th>\n",
       "      <th>Family</th>\n",
       "      <th>Fantasy</th>\n",
       "      <th>Foreign</th>\n",
       "      <th>...</th>\n",
       "      <th>00s</th>\n",
       "      <th>10s</th>\n",
       "      <th>Num_production_countries</th>\n",
       "      <th>Europe</th>\n",
       "      <th>Oceania</th>\n",
       "      <th>Asia</th>\n",
       "      <th>Middle_East</th>\n",
       "      <th>Latin_America</th>\n",
       "      <th>North_America</th>\n",
       "      <th>Africa</th>\n",
       "    </tr>\n",
       "  </thead>\n",
       "  <tbody>\n",
       "    <tr>\n",
       "      <th>0</th>\n",
       "      <td>0</td>\n",
       "      <td>0</td>\n",
       "      <td>0</td>\n",
       "      <td>1</td>\n",
       "      <td>0</td>\n",
       "      <td>0</td>\n",
       "      <td>1</td>\n",
       "      <td>1</td>\n",
       "      <td>0</td>\n",
       "      <td>0</td>\n",
       "      <td>...</td>\n",
       "      <td>1</td>\n",
       "      <td>0</td>\n",
       "      <td>1</td>\n",
       "      <td>0</td>\n",
       "      <td>0</td>\n",
       "      <td>0</td>\n",
       "      <td>0</td>\n",
       "      <td>0</td>\n",
       "      <td>0</td>\n",
       "      <td>0</td>\n",
       "    </tr>\n",
       "    <tr>\n",
       "      <th>1</th>\n",
       "      <td>0</td>\n",
       "      <td>0</td>\n",
       "      <td>0</td>\n",
       "      <td>0</td>\n",
       "      <td>0</td>\n",
       "      <td>0</td>\n",
       "      <td>1</td>\n",
       "      <td>0</td>\n",
       "      <td>0</td>\n",
       "      <td>0</td>\n",
       "      <td>...</td>\n",
       "      <td>0</td>\n",
       "      <td>1</td>\n",
       "      <td>1</td>\n",
       "      <td>0</td>\n",
       "      <td>0</td>\n",
       "      <td>0</td>\n",
       "      <td>0</td>\n",
       "      <td>0</td>\n",
       "      <td>0</td>\n",
       "      <td>0</td>\n",
       "    </tr>\n",
       "    <tr>\n",
       "      <th>2</th>\n",
       "      <td>0</td>\n",
       "      <td>1</td>\n",
       "      <td>1</td>\n",
       "      <td>0</td>\n",
       "      <td>0</td>\n",
       "      <td>0</td>\n",
       "      <td>0</td>\n",
       "      <td>1</td>\n",
       "      <td>0</td>\n",
       "      <td>0</td>\n",
       "      <td>...</td>\n",
       "      <td>0</td>\n",
       "      <td>0</td>\n",
       "      <td>1</td>\n",
       "      <td>0</td>\n",
       "      <td>0</td>\n",
       "      <td>0</td>\n",
       "      <td>0</td>\n",
       "      <td>0</td>\n",
       "      <td>0</td>\n",
       "      <td>0</td>\n",
       "    </tr>\n",
       "  </tbody>\n",
       "</table>\n",
       "<p>3 rows × 88 columns</p>\n",
       "</div>"
      ],
      "text/plain": [
       "   Genre                                                                    \\\n",
       "  Action Adventure Animation Comedy Crime Documentary Drama Family Fantasy   \n",
       "0      0         0         0      1     0           0     1      1       0   \n",
       "1      0         0         0      0     0           0     1      0       0   \n",
       "2      0         1         1      0     0           0     0      1       0   \n",
       "\n",
       "           ... Release_year                    Numerical Country               \\\n",
       "  Foreign  ...          00s 10s Num_production_countries  Europe Oceania Asia   \n",
       "0       0  ...            1   0                        1       0       0    0   \n",
       "1       0  ...            0   1                        1       0       0    0   \n",
       "2       0  ...            0   0                        1       0       0    0   \n",
       "\n",
       "                                                  \n",
       "  Middle_East Latin_America North_America Africa  \n",
       "0           0             0             0      0  \n",
       "1           0             0             0      0  \n",
       "2           0             0             0      0  \n",
       "\n",
       "[3 rows x 88 columns]"
      ]
     },
     "execution_count": 15,
     "metadata": {},
     "output_type": "execute_result"
    }
   ],
   "source": [
    "box = pd.read_csv('../Data/Reduced_dimensions.csv', index_col=0, header = [0,1])\n",
    "box.head(3)"
   ]
  },
  {
   "cell_type": "markdown",
   "id": "54dadc07",
   "metadata": {},
   "source": [
    "### Initial examination\n",
    "\n",
    "Based on prior work in a dedicated EDA notebook I believer that I have several 'likely' places that will be relatively easy to divide films on in order to model revenue.  These will have the added benefit of being interpretable as well.  \n",
    "\n",
    "Genre is an intuitive place to divide films for modelling by revenue, but does present some challenges. First, each film may belong to multiple generes, which means it will be difficult to subdivide these films into clean categories in order to accurately model revenue. \n",
    "\n",
    "Much easier will be to model revenue based on release year and month.  I'll be taking the opportunity to model this based on decade as well as 'season' based on the release month.  "
   ]
  },
  {
   "cell_type": "markdown",
   "id": "9214c9c1",
   "metadata": {},
   "source": [
    "### Modelling by genre\n",
    "\n",
    "Here I need to evaluate how the genre category can be used to segment films into revenue tiers that can be individually modeled in order to provide more accuracy with the models themselves. "
   ]
  },
  {
   "cell_type": "code",
   "execution_count": 18,
   "id": "b9141f9f",
   "metadata": {},
   "outputs": [
    {
     "name": "stderr",
     "output_type": "stream",
     "text": [
      "<ipython-input-18-ab52d88ec8d6>:3: SettingWithCopyWarning: \n",
      "A value is trying to be set on a copy of a slice from a DataFrame.\n",
      "Try using .loc[row_indexer,col_indexer] = value instead\n",
      "\n",
      "See the caveats in the documentation: https://pandas.pydata.org/pandas-docs/stable/user_guide/indexing.html#returning-a-view-versus-a-copy\n",
      "  Genres['Num_genres'] = box['Genre'].sum(axis=1)\n"
     ]
    }
   ],
   "source": [
    "# Creating new df of only genre and revenue information\n",
    "Genres = box['Genre']\n",
    "Genres['Num_genres'] = box['Genre'].sum(axis=1)\n",
    "rev = pd.DataFrame(box['Numerical', 'revenue'])\n",
    "rev.columns = rev.columns.droplevel()\n",
    "Genres = Genres.join(rev)"
   ]
  },
  {
   "cell_type": "code",
   "execution_count": 20,
   "id": "b8ffe96c",
   "metadata": {},
   "outputs": [
    {
     "data": {
      "text/plain": [
       "3    748\n",
       "2    620\n",
       "4    367\n",
       "1    353\n",
       "5    107\n",
       "6     18\n",
       "7      2\n",
       "0      1\n",
       "Name: Num_genres, dtype: int64"
      ]
     },
     "execution_count": 20,
     "metadata": {},
     "output_type": "execute_result"
    }
   ],
   "source": [
    "Genres.Num_genres.value_counts()"
   ]
  },
  {
   "cell_type": "code",
   "execution_count": 25,
   "id": "db0fa802",
   "metadata": {},
   "outputs": [
    {
     "data": {
      "image/png": "[encoded data removed]",
      "text/plain": [
       "<Figure size 720x360 with 1 Axes>"
      ]
     },
     "metadata": {
      "needs_background": "light"
     },
     "output_type": "display_data"
    }
   ],
   "source": [
    "# It seems that the number of genres in a film could be a good way to divide up the films for modeling\n",
    "plt.figure(figsize=(10,5))\n",
    "sns.violinplot(x='Num_genres', y='revenue', data=Genres, inner=None)\n",
    "plt.title('Revenue Distribution by # of generes in a film');"
   ]
  },
  {
   "cell_type": "code",
   "execution_count": null,
   "id": "fdb3f5f5",
   "metadata": {},
   "outputs": [],
   "source": []
  },
  {
   "cell_type": "code",
   "execution_count": null,
   "id": "533a25a6",
   "metadata": {},
   "outputs": [],
   "source": []
  },
  {
   "cell_type": "code",
   "execution_count": null,
   "id": "f657b0ff",
   "metadata": {},
   "outputs": [],
   "source": []
  },
  {
   "cell_type": "code",
   "execution_count": null,
   "id": "0143a632",
   "metadata": {},
   "outputs": [],
   "source": []
  },
  {
   "cell_type": "code",
   "execution_count": null,
   "id": "33ff3cb7",
   "metadata": {},
   "outputs": [],
   "source": []
  },
  {
   "cell_type": "code",
   "execution_count": null,
   "id": "def6bf2d",
   "metadata": {},
   "outputs": [],
   "source": []
  },
  {
   "cell_type": "code",
   "execution_count": null,
   "id": "0020ec20",
   "metadata": {},
   "outputs": [],
   "source": []
  },
  {
   "cell_type": "code",
   "execution_count": null,
   "id": "b4ab7a64",
   "metadata": {},
   "outputs": [],
   "source": []
  },
  {
   "cell_type": "code",
   "execution_count": null,
   "id": "9df34753",
   "metadata": {},
   "outputs": [],
   "source": []
  },
  {
   "cell_type": "code",
   "execution_count": null,
   "id": "d40fe0b7",
   "metadata": {},
   "outputs": [],
   "source": []
  },
  {
   "cell_type": "code",
   "execution_count": null,
   "id": "64c61df1",
   "metadata": {},
   "outputs": [],
   "source": []
  },
  {
   "cell_type": "code",
   "execution_count": null,
   "id": "69f65739",
   "metadata": {},
   "outputs": [],
   "source": []
  }
 ],
 "metadata": {
  "kernelspec": {
   "display_name": "Python 3",
   "language": "python",
   "name": "python3"
  },
  "language_info": {
   "codemirror_mode": {
    "name": "ipython",
    "version": 3
   },
   "file_extension": ".py",
   "mimetype": "text/x-python",
   "name": "python",
   "nbconvert_exporter": "python",
   "pygments_lexer": "ipython3",
   "version": "3.8.10"
  }
 },
 "nbformat": 4,
 "nbformat_minor": 5
}
