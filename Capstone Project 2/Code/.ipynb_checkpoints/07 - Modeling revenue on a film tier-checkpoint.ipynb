{
 "cells": [
  {
   "cell_type": "markdown",
   "id": "8ff3317e",
   "metadata": {},
   "source": [
    "# Modelling revenue on a narrowly-defined tier of films\n",
    "\n",
    "In previous notebooks it was apparent that modelling the revenue of films based on smaller subsets (EG: seasonality) was far more accurate than modelling based on the entire corpus of films.  This makes logical sense - predicting revenue based off of films that are similar to that which we're predicting the revenue for should be more accurate than based off of the entire body of films. \n",
    "\n",
    "In this notebook I'm going to use intuition and some EDA to construct a more narrowly defined tier than simply seasonal release of films. Once a tier has been constructed I'll continue forward with modelling the revenue of that film tier to identify if I'm able to significantly improve the accuracy of modelling and predicting revenue based on a more narrowly defined tier. "
   ]
  },
  {
   "cell_type": "code",
   "execution_count": 1,
   "id": "e47c0600",
   "metadata": {},
   "outputs": [],
   "source": [
    "import pandas as pd\n",
    "import numpy as np\n",
    "import matplotlib.pyplot as plt\n",
    "import seaborn as sns\n",
    "from sklearn.model_selection import train_test_split, cross_validate, RandomizedSearchCV, GridSearchCV\n",
    "from sklearn.preprocessing import StandardScaler, MinMaxScaler\n",
    "from sklearn.metrics import r2_score, mean_squared_error, mean_absolute_error\n",
    "from sklearn.ensemble import GradientBoostingRegressor, RandomForestRegressor\n",
    "from sklearn.linear_model import LinearRegression\n",
    "import warnings\n",
    "warnings.filterwarnings('ignore')"
   ]
  },
  {
   "cell_type": "code",
   "execution_count": 2,
   "id": "fc619def",
   "metadata": {},
   "outputs": [
    {
     "data": {
      "text/html": [
       "<div>\n",
       "<style scoped>\n",
       "    .dataframe tbody tr th:only-of-type {\n",
       "        vertical-align: middle;\n",
       "    }\n",
       "\n",
       "    .dataframe tbody tr th {\n",
       "        vertical-align: top;\n",
       "    }\n",
       "\n",
       "    .dataframe thead tr th {\n",
       "        text-align: left;\n",
       "    }\n",
       "</style>\n",
       "<table border=\"1\" class=\"dataframe\">\n",
       "  <thead>\n",
       "    <tr>\n",
       "      <th></th>\n",
       "      <th colspan=\"10\" halign=\"left\">Genre</th>\n",
       "      <th>...</th>\n",
       "      <th colspan=\"2\" halign=\"left\">Release_year</th>\n",
       "      <th>Numerical</th>\n",
       "      <th colspan=\"7\" halign=\"left\">Country</th>\n",
       "    </tr>\n",
       "    <tr>\n",
       "      <th></th>\n",
       "      <th>Action</th>\n",
       "      <th>Adventure</th>\n",
       "      <th>Animation</th>\n",
       "      <th>Comedy</th>\n",
       "      <th>Crime</th>\n",
       "      <th>Documentary</th>\n",
       "      <th>Drama</th>\n",
       "      <th>Family</th>\n",
       "      <th>Fantasy</th>\n",
       "      <th>Foreign</th>\n",
       "      <th>...</th>\n",
       "      <th>00s</th>\n",
       "      <th>10s</th>\n",
       "      <th>Num_production_countries</th>\n",
       "      <th>Europe</th>\n",
       "      <th>Oceania</th>\n",
       "      <th>Asia</th>\n",
       "      <th>Middle_East</th>\n",
       "      <th>Latin_America</th>\n",
       "      <th>North_America</th>\n",
       "      <th>Africa</th>\n",
       "    </tr>\n",
       "  </thead>\n",
       "  <tbody>\n",
       "    <tr>\n",
       "      <th>0</th>\n",
       "      <td>0</td>\n",
       "      <td>0</td>\n",
       "      <td>0</td>\n",
       "      <td>1</td>\n",
       "      <td>0</td>\n",
       "      <td>0</td>\n",
       "      <td>1</td>\n",
       "      <td>1</td>\n",
       "      <td>0</td>\n",
       "      <td>0</td>\n",
       "      <td>...</td>\n",
       "      <td>1</td>\n",
       "      <td>0</td>\n",
       "      <td>1</td>\n",
       "      <td>0</td>\n",
       "      <td>0</td>\n",
       "      <td>0</td>\n",
       "      <td>0</td>\n",
       "      <td>0</td>\n",
       "      <td>0</td>\n",
       "      <td>0</td>\n",
       "    </tr>\n",
       "    <tr>\n",
       "      <th>1</th>\n",
       "      <td>0</td>\n",
       "      <td>0</td>\n",
       "      <td>0</td>\n",
       "      <td>0</td>\n",
       "      <td>0</td>\n",
       "      <td>0</td>\n",
       "      <td>1</td>\n",
       "      <td>0</td>\n",
       "      <td>0</td>\n",
       "      <td>0</td>\n",
       "      <td>...</td>\n",
       "      <td>0</td>\n",
       "      <td>1</td>\n",
       "      <td>1</td>\n",
       "      <td>0</td>\n",
       "      <td>0</td>\n",
       "      <td>0</td>\n",
       "      <td>0</td>\n",
       "      <td>0</td>\n",
       "      <td>0</td>\n",
       "      <td>0</td>\n",
       "    </tr>\n",
       "    <tr>\n",
       "      <th>2</th>\n",
       "      <td>0</td>\n",
       "      <td>1</td>\n",
       "      <td>1</td>\n",
       "      <td>0</td>\n",
       "      <td>0</td>\n",
       "      <td>0</td>\n",
       "      <td>0</td>\n",
       "      <td>1</td>\n",
       "      <td>0</td>\n",
       "      <td>0</td>\n",
       "      <td>...</td>\n",
       "      <td>0</td>\n",
       "      <td>0</td>\n",
       "      <td>1</td>\n",
       "      <td>0</td>\n",
       "      <td>0</td>\n",
       "      <td>0</td>\n",
       "      <td>0</td>\n",
       "      <td>0</td>\n",
       "      <td>0</td>\n",
       "      <td>0</td>\n",
       "    </tr>\n",
       "  </tbody>\n",
       "</table>\n",
       "<p>3 rows × 84 columns</p>\n",
       "</div>"
      ],
      "text/plain": [
       "   Genre                                                                    \\\n",
       "  Action Adventure Animation Comedy Crime Documentary Drama Family Fantasy   \n",
       "0      0         0         0      1     0           0     1      1       0   \n",
       "1      0         0         0      0     0           0     1      0       0   \n",
       "2      0         1         1      0     0           0     0      1       0   \n",
       "\n",
       "           ... Release_year                    Numerical Country               \\\n",
       "  Foreign  ...          00s 10s Num_production_countries  Europe Oceania Asia   \n",
       "0       0  ...            1   0                        1       0       0    0   \n",
       "1       0  ...            0   1                        1       0       0    0   \n",
       "2       0  ...            0   0                        1       0       0    0   \n",
       "\n",
       "                                                  \n",
       "  Middle_East Latin_America North_America Africa  \n",
       "0           0             0             0      0  \n",
       "1           0             0             0      0  \n",
       "2           0             0             0      0  \n",
       "\n",
       "[3 rows x 84 columns]"
      ]
     },
     "execution_count": 2,
     "metadata": {},
     "output_type": "execute_result"
    }
   ],
   "source": [
    "box = pd.read_csv('../Data/Reduced_dimensions2.csv', index_col=0, header = [0,1])\n",
    "box.head(3)"
   ]
  },
  {
   "cell_type": "code",
   "execution_count": 3,
   "id": "2c948e59",
   "metadata": {},
   "outputs": [],
   "source": [
    "# Defines a mean absolute percentage error function\n",
    "def MAPE(true, pred):\n",
    "    MAPE = (np.sum(np.abs((true-pred)/true))/len(true))*100\n",
    "    return MAPE"
   ]
  },
  {
   "cell_type": "code",
   "execution_count": 4,
   "id": "72c960e5",
   "metadata": {},
   "outputs": [
    {
     "data": {
      "text/plain": [
       "MultiIndex([(        'Genre',                                 'Action'),\n",
       "            (        'Genre',                              'Adventure'),\n",
       "            (        'Genre',                              'Animation'),\n",
       "            (        'Genre',                                 'Comedy'),\n",
       "            (        'Genre',                                  'Crime'),\n",
       "            (        'Genre',                            'Documentary'),\n",
       "            (        'Genre',                                  'Drama'),\n",
       "            (        'Genre',                                 'Family'),\n",
       "            (        'Genre',                                'Fantasy'),\n",
       "            (        'Genre',                                'Foreign'),\n",
       "            (        'Genre',                                'History'),\n",
       "            (        'Genre',                                 'Horror'),\n",
       "            (        'Genre',                                  'Music'),\n",
       "            (        'Genre',                                'Mystery'),\n",
       "            (        'Genre',                               'No Genre'),\n",
       "            (        'Genre',                                'Romance'),\n",
       "            (        'Genre',                        'Science Fiction'),\n",
       "            (        'Genre',                               'Thriller'),\n",
       "            (        'Genre',                                    'War'),\n",
       "            (        'Genre',                                'Western'),\n",
       "            (      'Company',                      'Columbia Pictures'),\n",
       "            (      'Company',          'Columbia Pictures Corporation'),\n",
       "            (      'Company',              'Metro-Goldwyn-Mayer (MGM)'),\n",
       "            (      'Company',                        'New Line Cinema'),\n",
       "            (      'Company',                     'Paramount Pictures'),\n",
       "            (      'Company',                    'Touchstone Pictures'),\n",
       "            (      'Company', 'Twentieth Century Fox Film Corporation'),\n",
       "            (      'Company',                     'Universal Pictures'),\n",
       "            (      'Company',              'Village Roadshow Pictures'),\n",
       "            (      'Company',                   'Walt Disney Pictures'),\n",
       "            (      'Company',                           'Warner Bros.'),\n",
       "            (      'Country',                             'No Country'),\n",
       "            (      'Country',                         'United Kingdom'),\n",
       "            (      'Country',               'United States of America'),\n",
       "            (  'Spoken_lang',                                'English'),\n",
       "            (     'Keywords',                    'aftercreditsstinger'),\n",
       "            (     'Keywords',                         'based on novel'),\n",
       "            (     'Keywords',                              'biography'),\n",
       "            (     'Keywords',                   'duringcreditsstinger'),\n",
       "            (     'Keywords',                               'dystopia'),\n",
       "            (     'Keywords',                                 'murder'),\n",
       "            (     'Keywords',                               'new york'),\n",
       "            (     'Keywords',                                'revenge'),\n",
       "            (     'Keywords',                                 'sequel'),\n",
       "            (     'Keywords',                               'violence'),\n",
       "            (     'Keywords',                         'woman director'),\n",
       "            (  'Descriptive',                             'Collection'),\n",
       "            (    'Numerical',                                 'budget'),\n",
       "            (    'Numerical',                                'runtime'),\n",
       "            (    'Numerical',                                'revenue'),\n",
       "            (    'Numerical',                        'Overview_length'),\n",
       "            (    'Numerical',                             'Tag_length'),\n",
       "            ( 'Release_year',                                'No Year'),\n",
       "            ('Release_month',                                      '1'),\n",
       "            ('Release_month',                                      '2'),\n",
       "            ('Release_month',                                      '3'),\n",
       "            ('Release_month',                                      '4'),\n",
       "            ('Release_month',                                      '5'),\n",
       "            ('Release_month',                                      '6'),\n",
       "            ('Release_month',                                      '7'),\n",
       "            ('Release_month',                                      '8'),\n",
       "            ('Release_month',                                      '9'),\n",
       "            ('Release_month',                                     '10'),\n",
       "            ('Release_month',                                     '11'),\n",
       "            ('Release_month',                                     '12'),\n",
       "            (    'Numerical',                           'Num_keywords'),\n",
       "            (    'Numerical',                          'Num_companies'),\n",
       "            (      'Company',                   'Company_quartile_1st'),\n",
       "            (      'Company',                   'Company_quartile_2nd'),\n",
       "            (      'Company',                   'Company_quartile_3rd'),\n",
       "            (      'Company',                   'Company_quartile_4th'),\n",
       "            ( 'Release_year',                                    '70s'),\n",
       "            ( 'Release_year',                                    '80s'),\n",
       "            ( 'Release_year',                                    '90s'),\n",
       "            ( 'Release_year',                                    '00s'),\n",
       "            ( 'Release_year',                                    '10s'),\n",
       "            (    'Numerical',               'Num_production_countries'),\n",
       "            (      'Country',                                 'Europe'),\n",
       "            (      'Country',                                'Oceania'),\n",
       "            (      'Country',                                   'Asia'),\n",
       "            (      'Country',                            'Middle_East'),\n",
       "            (      'Country',                          'Latin_America'),\n",
       "            (      'Country',                          'North_America'),\n",
       "            (      'Country',                                 'Africa')],\n",
       "           )"
      ]
     },
     "execution_count": 4,
     "metadata": {},
     "output_type": "execute_result"
    }
   ],
   "source": [
    "box.columns"
   ]
  },
  {
   "cell_type": "markdown",
   "id": "d171888d",
   "metadata": {},
   "source": [
    "### Defining an initial tier\n",
    "\n",
    "A group of movies that immediately come to mind when I think of a group of films are 'blockbuster' action sequels from the summer release and christmas release season."
   ]
  },
  {
   "cell_type": "code",
   "execution_count": 69,
   "id": "9d5af122",
   "metadata": {},
   "outputs": [
    {
     "data": {
      "text/plain": [
       "(75, 84)"
      ]
     },
     "execution_count": 69,
     "metadata": {},
     "output_type": "execute_result"
    }
   ],
   "source": [
    "# Gives me 545 films\n",
    "tier = box[box['Genre', 'Action'] == 1]\n",
    "# Films that are action films AND sequels gives me 211 films to model\n",
    "tier = tier[tier['Descriptive', 'Collection']==1]\n",
    "# Limiting to action films released in June, July, or December that were also sequels leaves me with 75 films. \n",
    "tier = tier[(tier['Release_month', '7']==1) | (tier['Release_month', '12']==1) | (tier['Release_month', '6']==1)]\n",
    "tier.shape"
   ]
  },
  {
   "cell_type": "code",
   "execution_count": 70,
   "id": "3f7715d2",
   "metadata": {},
   "outputs": [
    {
     "data": {
      "text/plain": [
       "(75, 73)"
      ]
     },
     "execution_count": 70,
     "metadata": {},
     "output_type": "execute_result"
    }
   ],
   "source": [
    "# drop all columns that are redundant, we know these films are sequels and that they aren't released in the below months\n",
    "tier_1 = tier.drop(['Action', 'Collection', '1', '2', '3', '4', '5', '8', '9', '10', '11'], level=1, axis=1)\n",
    "y = np.log(tier_1['Numerical', 'revenue'])\n",
    "X = tier_1.drop('revenue', level=1, axis=1)\n",
    "tier_1.shape"
   ]
  },
  {
   "cell_type": "code",
   "execution_count": 7,
   "id": "a76d4303",
   "metadata": {},
   "outputs": [
    {
     "data": {
      "image/png": "[encoded data removed]",
      "text/plain": [
       "<Figure size 432x288 with 1 Axes>"
      ]
     },
     "metadata": {
      "needs_background": "light"
     },
     "output_type": "display_data"
    }
   ],
   "source": [
    "sns.histplot(data=tier_1, x=('Numerical', 'revenue'), stat='count', bins=30);"
   ]
  },
  {
   "cell_type": "code",
   "execution_count": 71,
   "id": "97540c0f",
   "metadata": {},
   "outputs": [],
   "source": [
    "scaler = MinMaxScaler()\n",
    "scaler.fit(X['Numerical'])\n",
    "X['Numerical'] = scaler.transform(X['Numerical'])\n",
    "X_train, X_test, y_train, y_test = train_test_split(X, y, test_size=0.2, random_state=42)\n",
    "exp_y_test = np.exp(y_test)"
   ]
  },
  {
   "cell_type": "code",
   "execution_count": 9,
   "id": "f841c864",
   "metadata": {},
   "outputs": [
    {
     "data": {
      "text/plain": [
       "{'R2': 0.32671542788751373,\n",
       " 'RMSE': 59757108.38212206,\n",
       " 'MAE': 47228637.108536676,\n",
       " 'MAPE': 64.83750315046007}"
      ]
     },
     "execution_count": 9,
     "metadata": {},
     "output_type": "execute_result"
    }
   ],
   "source": [
    "gb = GradientBoostingRegressor(random_state=42)\n",
    "gb.fit(X_train, y_train)\n",
    "tier_1_preds = gb.predict(X_test)\n",
    "tier_1_preds = np.exp(tier_1_preds)\n",
    "r2_1 = r2_score(exp_y_test, tier_1_preds)\n",
    "RMSE_1 = mean_squared_error(exp_y_test, tier_1_preds, squared=False)\n",
    "MAE_1 = mean_absolute_error(exp_y_test, tier_1_preds)\n",
    "MAPE_1 = MAPE(exp_y_test, tier_1_preds)\n",
    "scores_1 = {'R2':r2_1, 'RMSE':RMSE_1, \"MAE\":MAE_1, \"MAPE\":MAPE_1}\n",
    "scores_1"
   ]
  },
  {
   "cell_type": "markdown",
   "id": "9f4aeda8",
   "metadata": {},
   "source": [
    "#### We have great results!\n",
    "\n",
    "Modelling with gradient boosting regression models has reduced the MAPE to around 60-70 (depending on the random state of the model).  Next I'm going to try to tune hyperparameters to see if I can reduce that down to below 20%."
   ]
  },
  {
   "cell_type": "code",
   "execution_count": 10,
   "id": "cdc852c8",
   "metadata": {},
   "outputs": [
    {
     "name": "stdout",
     "output_type": "stream",
     "text": [
      "GB best score:  0.3040560018075172\n",
      "GB best parameters:  {'n_estimators': 866, 'min_samples_split': 9, 'max_depth': 16, 'learning_rate': 0.001}\n"
     ]
    }
   ],
   "source": [
    "params = {'n_estimators':np.arange(10,1000), 'max_depth':np.arange(1,20), \n",
    "          'min_samples_split': np.arange(2,10), 'learning_rate': [0.000001, 0.00001, 0.0001, 0.001, 0.01, 0.1, 1]}\n",
    "\"\"\"grade = GradientBoostingRegressor(random_state=42)\n",
    "gradient = RandomizedSearchCV(grade, param_distributions=params, n_iter=500)\n",
    "gradient.fit(X_train, y_train)\n",
    "grade_best_score = gradient.best_score_\n",
    "grade_best_params = gradient.best_params_\n",
    "print('GB best score: ', grade_best_score)\n",
    "print('GB best parameters: ', grade_best_params)\"\"\""
   ]
  },
  {
   "cell_type": "code",
   "execution_count": 72,
   "id": "829405c7",
   "metadata": {},
   "outputs": [
    {
     "data": {
      "text/plain": [
       "{'R2': 0.12789602390916466,\n",
       " 'RMSE': 68010250.70434317,\n",
       " 'MAE': 54865186.744797446,\n",
       " 'MAPE': 69.12566596424267}"
      ]
     },
     "execution_count": 72,
     "metadata": {},
     "output_type": "execute_result"
    }
   ],
   "source": [
    "# Testing new optimized GradientBooster with 'best' hyperparameters:  (grid search score of 0.30405)\n",
    "gb = GradientBoostingRegressor(n_estimators = 866, min_samples_split = 9, max_depth=16, learning_rate=0.001, random_state=42)\n",
    "gb.fit(X_train, y_train)\n",
    "tier_1_preds = gb.predict(X_test)\n",
    "tier_1_preds = np.exp(tier_1_preds)\n",
    "r2_1o = r2_score(exp_y_test, tier_1_preds)\n",
    "RMSE_1o = mean_squared_error(exp_y_test, tier_1_preds, squared=False)\n",
    "MAE_1o = mean_absolute_error(exp_y_test, tier_1_preds)\n",
    "MAPE_1o = MAPE(exp_y_test, tier_1_preds)\n",
    "scores_1o = {'R2':r2_1o, 'RMSE':RMSE_1o, \"MAE\":MAE_1o, \"MAPE\":MAPE_1o}\n",
    "scores_1o"
   ]
  },
  {
   "cell_type": "markdown",
   "id": "8b9a8dbb",
   "metadata": {},
   "source": [
    "## Attempting different tier configurations for better results:\n",
    "\n",
    "This is an excellent imrprovement in model accuracy, next I'll need to construct some additional tiers to compare and assess which tiers will form the basis for modelling revenue over the entire data set by dividing it into similar tiers. "
   ]
  },
  {
   "cell_type": "markdown",
   "id": "8ff4c1b1",
   "metadata": {},
   "source": [
    "#### Action films that are not part of a collection released in the summer/holiday blockbuster seasons"
   ]
  },
  {
   "cell_type": "code",
   "execution_count": 64,
   "id": "fdef3194",
   "metadata": {},
   "outputs": [],
   "source": [
    "#This leaves me with 334 films\n",
    "tier = box[(box['Genre', 'Action']==1)&(box['Descriptive', 'Collection']==0)]\n",
    "#This leaves me with 92 films\n",
    "tier_2 = tier[(tier['Release_month', '7']==1) | (tier['Release_month', '12']==1) | (tier['Release_month', '6']==1)]"
   ]
  },
  {
   "cell_type": "code",
   "execution_count": 13,
   "id": "7dc83209",
   "metadata": {},
   "outputs": [
    {
     "data": {
      "image/png": "[encoded data removed]",
      "text/plain": [
       "<Figure size 432x288 with 1 Axes>"
      ]
     },
     "metadata": {
      "needs_background": "light"
     },
     "output_type": "display_data"
    }
   ],
   "source": [
    "sns.histplot(data=tier_2, x=('Numerical', 'revenue'), stat='count', bins=30);"
   ]
  },
  {
   "cell_type": "markdown",
   "id": "d2a2e3e4",
   "metadata": {},
   "source": [
    "It's notable that films who are part of a sequel and released around the same time tend to have revenue that closely mirrors the  distribution of films which don't have sequels."
   ]
  },
  {
   "cell_type": "code",
   "execution_count": 65,
   "id": "96957c54",
   "metadata": {},
   "outputs": [
    {
     "data": {
      "text/plain": [
       "(92, 73)"
      ]
     },
     "execution_count": 65,
     "metadata": {},
     "output_type": "execute_result"
    }
   ],
   "source": [
    "tier_2 = tier_2.drop(['Action', 'Collection', '1', '2', '3', '4', '5', '8', '9', '10', '11'], level=1, axis=1)\n",
    "y = np.log(tier_2['Numerical', 'revenue'])\n",
    "X = tier_2.drop('revenue', level=1, axis=1)\n",
    "tier_2.shape"
   ]
  },
  {
   "cell_type": "code",
   "execution_count": 66,
   "id": "6a8aa0ac",
   "metadata": {},
   "outputs": [],
   "source": [
    "scaler = MinMaxScaler()\n",
    "scaler.fit(X['Numerical'])\n",
    "X['Numerical'] = scaler.transform(X['Numerical'])\n",
    "X_train, X_test, y_train, y_test = train_test_split(X, y, test_size=0.2, random_state=42)\n",
    "exp_y_test = np.exp(y_test)"
   ]
  },
  {
   "cell_type": "code",
   "execution_count": 16,
   "id": "81e2ba53",
   "metadata": {},
   "outputs": [
    {
     "data": {
      "text/plain": [
       "{'R2': -0.17415962614488478,\n",
       " 'RMSE': 69185218.05627221,\n",
       " 'MAE': 55579830.580914006,\n",
       " 'MAPE': 75.52951829781011}"
      ]
     },
     "execution_count": 16,
     "metadata": {},
     "output_type": "execute_result"
    }
   ],
   "source": [
    "gb = GradientBoostingRegressor(random_state=42)\n",
    "gb.fit(X_train, y_train)\n",
    "tier_2_preds = gb.predict(X_test)\n",
    "tier_2_preds = np.exp(tier_2_preds)\n",
    "r2_2 = r2_score(exp_y_test, tier_2_preds)\n",
    "RMSE_2 = mean_squared_error(exp_y_test, tier_2_preds, squared=False)\n",
    "MAE_2 = mean_absolute_error(exp_y_test, tier_2_preds)\n",
    "MAPE_2 = MAPE(exp_y_test, tier_2_preds)\n",
    "scores_2 = {'R2':r2_2, 'RMSE':RMSE_2, \"MAE\":MAE_2, \"MAPE\":MAPE_2}\n",
    "scores_2"
   ]
  },
  {
   "cell_type": "code",
   "execution_count": 17,
   "id": "dc6ea05a",
   "metadata": {},
   "outputs": [
    {
     "name": "stdout",
     "output_type": "stream",
     "text": [
      "GB best score:  -0.01175441137561315\n",
      "GB best parameters:  {'n_estimators': 934, 'min_samples_split': 3, 'max_depth': 2, 'learning_rate': 0.001}\n"
     ]
    }
   ],
   "source": [
    "params = {'n_estimators':np.arange(5,1000), 'max_depth':np.arange(1,20), \n",
    "          'min_samples_split': np.arange(2,10), 'learning_rate': [0.0001, 0.001, 0.01, 0.1, 1]}\n",
    "\"\"\"grade = GradientBoostingRegressor(random_state=42)\n",
    "gradient = RandomizedSearchCV(grade, param_distributions=params, n_iter=500)\n",
    "gradient.fit(X_train, y_train)\n",
    "grade_best_score = gradient.best_score_\n",
    "grade_best_params = gradient.best_params_\n",
    "print('GB best score: ', grade_best_score)\n",
    "print('GB best parameters: ', grade_best_params)\"\"\""
   ]
  },
  {
   "cell_type": "code",
   "execution_count": 68,
   "id": "d2f31bae",
   "metadata": {},
   "outputs": [
    {
     "data": {
      "text/plain": [
       "{'R2': -0.10788353531933548,\n",
       " 'RMSE': 67204258.97189832,\n",
       " 'MAE': 49132609.22616462,\n",
       " 'MAPE': 175.4833953664489}"
      ]
     },
     "execution_count": 68,
     "metadata": {},
     "output_type": "execute_result"
    }
   ],
   "source": [
    "# ''best' Hyperparameters with RSCV score of -0.0036\n",
    "gb = GradientBoostingRegressor(n_estimators = 94, min_samples_split=4, max_depth=2, learning_rate=0.01, random_state=42)\n",
    "gb.fit(X_train, y_train)\n",
    "tier_2_preds = gb.predict(X_test)\n",
    "tier_2_preds = np.exp(tier_2_preds)\n",
    "r2_2o = r2_score(exp_y_test, tier_2_preds)\n",
    "RMSE_2o = mean_squared_error(exp_y_test, tier_2_preds, squared=False)\n",
    "MAE_2o = mean_absolute_error(exp_y_test, tier_2_preds)\n",
    "MAPE_2o = MAPE(exp_y_test, tier_2_preds)\n",
    "scores_2o = {'R2':r2_2o, 'RMSE':RMSE_2o, \"MAE\":MAE_2o, \"MAPE\":MAPE_2o}\n",
    "scores_2o"
   ]
  },
  {
   "cell_type": "markdown",
   "id": "a674dd6c",
   "metadata": {},
   "source": [
    "#### Drama films that don't belong to a collection and are released in the same time period as the above action films"
   ]
  },
  {
   "cell_type": "code",
   "execution_count": 59,
   "id": "694de4d1",
   "metadata": {},
   "outputs": [
    {
     "data": {
      "text/plain": [
       "(231, 84)"
      ]
     },
     "execution_count": 59,
     "metadata": {},
     "output_type": "execute_result"
    }
   ],
   "source": [
    "#This leaves me with 756 films\n",
    "tier = box[(box['Genre', 'Drama']==1)&(box['Descriptive', 'Collection']==0)]\n",
    "#This leaves me with 231 films\n",
    "tier_3 = tier[(tier['Release_month', '7']==1) | (tier['Release_month', '12']==1) | (tier['Release_month', '6']==1)]\n",
    "tier_3.shape"
   ]
  },
  {
   "cell_type": "code",
   "execution_count": 60,
   "id": "1f90139a",
   "metadata": {},
   "outputs": [
    {
     "data": {
      "text/plain": [
       "(231, 73)"
      ]
     },
     "execution_count": 60,
     "metadata": {},
     "output_type": "execute_result"
    }
   ],
   "source": [
    "tier_3 = tier_3.drop(['Drama', 'Collection', '1', '2', '3', '4', '5', '8', '9', '10', '11'], level=1, axis=1)\n",
    "y = np.log(tier_3['Numerical', 'revenue'])\n",
    "X = tier_3.drop('revenue', level=1, axis=1)\n",
    "tier_3.shape"
   ]
  },
  {
   "cell_type": "code",
   "execution_count": 61,
   "id": "79a6e79e",
   "metadata": {},
   "outputs": [],
   "source": [
    "scaler = MinMaxScaler()\n",
    "scaler.fit(X['Numerical'])\n",
    "X['Numerical'] = scaler.transform(X['Numerical'])\n",
    "X_train, X_test, y_train, y_test = train_test_split(X, y, test_size=0.2, random_state=42)\n",
    "exp_y_test = np.exp(y_test)"
   ]
  },
  {
   "cell_type": "code",
   "execution_count": 22,
   "id": "100a2b4a",
   "metadata": {},
   "outputs": [
    {
     "data": {
      "text/plain": [
       "{'R2': 0.3720685906855271,\n",
       " 'RMSE': 48649514.438853316,\n",
       " 'MAE': 34601631.62195546,\n",
       " 'MAPE': 69.5780336200648}"
      ]
     },
     "execution_count": 22,
     "metadata": {},
     "output_type": "execute_result"
    }
   ],
   "source": [
    "gb = GradientBoostingRegressor(n_estimators=9030, min_samples_split=7, max_depth=1, learning_rate=0.001, random_state=42)\n",
    "gb.fit(X_train, y_train)\n",
    "tier_3_preds = gb.predict(X_test)\n",
    "tier_3_preds = np.exp(tier_3_preds)\n",
    "r2_3 = r2_score(exp_y_test, tier_3_preds)\n",
    "RMSE_3 = mean_squared_error(exp_y_test, tier_3_preds, squared=False)\n",
    "MAE_3 = mean_absolute_error(exp_y_test, tier_3_preds)\n",
    "MAPE_3 = MAPE(exp_y_test, tier_3_preds)\n",
    "scores_3 = {'R2':r2_3, 'RMSE':RMSE_3, \"MAE\":MAE_3, \"MAPE\":MAPE_3}\n",
    "scores_3"
   ]
  },
  {
   "cell_type": "code",
   "execution_count": 23,
   "id": "d2dea0a5",
   "metadata": {},
   "outputs": [
    {
     "name": "stdout",
     "output_type": "stream",
     "text": [
      "GB best score:  0.5927721327688489\n",
      "GB best parameters:  {'n_estimators': 2935, 'min_samples_split': 3, 'max_depth': 2, 'learning_rate': 0.001}\n"
     ]
    }
   ],
   "source": [
    "params = {'n_estimators':np.arange(1000,10000), 'max_depth':np.arange(1,5), \n",
    "          'min_samples_split': np.arange(2,10), 'learning_rate': [0.001, 0.01, 0.1, 1]}\n",
    "\"\"\"grade = GradientBoostingRegressor(random_state=42)\n",
    "gradient = RandomizedSearchCV(grade, param_distributions=params, n_iter=500)\n",
    "gradient.fit(X_train, y_train)\n",
    "grade_best_score = gradient.best_score_\n",
    "grade_best_params = gradient.best_params_\n",
    "print('GB best score: ', grade_best_score)\n",
    "print('GB best parameters: ', grade_best_params)\"\"\""
   ]
  },
  {
   "cell_type": "code",
   "execution_count": 63,
   "id": "f92c087b",
   "metadata": {},
   "outputs": [
    {
     "data": {
      "text/plain": [
       "{'R2': 0.3346515476305847,\n",
       " 'RMSE': 50078000.707533635,\n",
       " 'MAE': 33099573.824905872,\n",
       " 'MAPE': 106.7869269248342}"
      ]
     },
     "execution_count": 63,
     "metadata": {},
     "output_type": "execute_result"
    }
   ],
   "source": [
    "# grid search score of 0.5649\n",
    "gb = GradientBoostingRegressor(n_estimators=2935, min_samples_split=3, max_depth=2, learning_rate=0.001, random_state=42)\n",
    "gb.fit(X_train, y_train)\n",
    "tier_3_preds = gb.predict(X_test)\n",
    "tier_3_preds = np.exp(tier_3_preds)\n",
    "r2_3o = r2_score(exp_y_test, tier_3_preds)\n",
    "RMSE_3o = mean_squared_error(exp_y_test, tier_3_preds, squared=False)\n",
    "MAE_3o = mean_absolute_error(exp_y_test, tier_3_preds)\n",
    "MAPE_3o = MAPE(exp_y_test, tier_3_preds)\n",
    "scores_3o = {'R2':r2_3o, 'RMSE':RMSE_3o, \"MAE\":MAE_3o, \"MAPE\":MAPE_3o}\n",
    "scores_3o"
   ]
  },
  {
   "cell_type": "markdown",
   "id": "ca2ece26",
   "metadata": {},
   "source": [
    "#### Trying a different approach to tiered segmentation: Examining Disney films, which generally are considered a 'genre' on their own."
   ]
  },
  {
   "cell_type": "code",
   "execution_count": 25,
   "id": "79d52949",
   "metadata": {},
   "outputs": [
    {
     "data": {
      "text/plain": [
       "(51, 84)"
      ]
     },
     "execution_count": 25,
     "metadata": {},
     "output_type": "execute_result"
    }
   ],
   "source": [
    "tier_4 = box[box['Company', 'Walt Disney Pictures']==1]\n",
    "tier_4.shape"
   ]
  },
  {
   "cell_type": "code",
   "execution_count": 26,
   "id": "de62657c",
   "metadata": {},
   "outputs": [
    {
     "data": {
      "text/plain": [
       "(51, 83)"
      ]
     },
     "execution_count": 26,
     "metadata": {},
     "output_type": "execute_result"
    }
   ],
   "source": [
    "tier_4 = tier_4.drop('Walt Disney Pictures', level=1, axis=1)\n",
    "y = np.log(tier_4['Numerical', 'revenue'])\n",
    "X = tier_4.drop('revenue', level=1, axis=1)\n",
    "tier_4.shape"
   ]
  },
  {
   "cell_type": "code",
   "execution_count": 27,
   "id": "486b5869",
   "metadata": {},
   "outputs": [
    {
     "data": {
      "image/png": "[encoded data removed]",
      "text/plain": [
       "<Figure size 432x288 with 1 Axes>"
      ]
     },
     "metadata": {
      "needs_background": "light"
     },
     "output_type": "display_data"
    }
   ],
   "source": [
    "sns.histplot(data=tier_4, x=('Numerical', 'revenue'), stat='count', bins=30);"
   ]
  },
  {
   "cell_type": "code",
   "execution_count": 28,
   "id": "42f6bc80",
   "metadata": {},
   "outputs": [],
   "source": [
    "scaler = MinMaxScaler()\n",
    "scaler.fit(X['Numerical'])\n",
    "X['Numerical'] = scaler.transform(X['Numerical'])\n",
    "X_train, X_test, y_train, y_test = train_test_split(X, y, test_size=0.2, random_state=42)\n",
    "exp_y_test = np.exp(y_test)"
   ]
  },
  {
   "cell_type": "code",
   "execution_count": 29,
   "id": "d1e10d3d",
   "metadata": {},
   "outputs": [
    {
     "data": {
      "text/plain": [
       "{'R2': -1.532256910607594,\n",
       " 'RMSE': 74805802.62163217,\n",
       " 'MAE': 61290438.81445226,\n",
       " 'MAPE': 36.806418755716}"
      ]
     },
     "execution_count": 29,
     "metadata": {},
     "output_type": "execute_result"
    }
   ],
   "source": [
    "Dgb = GradientBoostingRegressor(n_estimators=9823, min_samples_split=3, max_depth=53, learning_rate = 1e-06, random_state=42)\n",
    "Dgb.fit(X_train, y_train)\n",
    "tier_4_preds = Dgb.predict(X_test)\n",
    "tier_4_preds = np.exp(tier_4_preds)\n",
    "r2_4 = r2_score(exp_y_test, tier_4_preds)\n",
    "RMSE_4 = mean_squared_error(exp_y_test, tier_4_preds, squared=False)\n",
    "MAE_4 = mean_absolute_error(exp_y_test, tier_4_preds)\n",
    "MAPE_4 = MAPE(exp_y_test, tier_4_preds)\n",
    "residuals = exp_y_test - tier_4_preds\n",
    "scores_4 = {'R2':r2_4, 'RMSE':RMSE_4, \"MAE\":MAE_4, \"MAPE\":MAPE_4}\n",
    "scores_4"
   ]
  },
  {
   "cell_type": "markdown",
   "id": "7c8360b7",
   "metadata": {},
   "source": [
    "This is far more accurate, but we're approaching a smaller sample size.  It could simply be that the model is performing better on a smaller set of data.  As I shrink the sample size the MAPE is shrinking, and as I increase the sample size the MAPE is growing.  I'll test on two more tiers of films. "
   ]
  },
  {
   "cell_type": "code",
   "execution_count": 30,
   "id": "9ea8c180",
   "metadata": {},
   "outputs": [
    {
     "name": "stdout",
     "output_type": "stream",
     "text": [
      "GB best score:  -0.3057129222619737\n",
      "GB best parameters:  {'n_estimators': 9784, 'min_samples_split': 3, 'max_depth': 43, 'learning_rate': 1e-06}\n"
     ]
    }
   ],
   "source": [
    "params = {'n_estimators':np.arange(7000,10000), 'max_depth':np.arange(30,70), \n",
    "          'min_samples_split': np.arange(2,6), 'learning_rate': [0.000001, 0.00001, 0.0001]}\n",
    "\"\"\"grade = GradientBoostingRegressor(random_state=42)\n",
    "gradient = RandomizedSearchCV(grade, param_distributions=params, n_iter=500)\n",
    "gradient.fit(X_train, y_train)\n",
    "grade_best_score = gradient.best_score_\n",
    "grade_best_params = gradient.best_params_\n",
    "print('GB best score: ', grade_best_score)\n",
    "print('GB best parameters: ', grade_best_params)\"\"\""
   ]
  },
  {
   "cell_type": "code",
   "execution_count": 31,
   "id": "0b4ec358",
   "metadata": {},
   "outputs": [
    {
     "data": {
      "text/plain": [
       "{'R2': -1.5323274927334531,\n",
       " 'RMSE': 74806845.15324928,\n",
       " 'MAE': 61291597.77748756,\n",
       " 'MAPE': 36.80728367745693}"
      ]
     },
     "execution_count": 31,
     "metadata": {},
     "output_type": "execute_result"
    }
   ],
   "source": [
    "# rscv score of -0.30571\n",
    "gb = GradientBoostingRegressor(n_estimators=9789, min_samples_split=3, max_depth=42, learning_rate = 1e-06, random_state=42)\n",
    "gb.fit(X_train, y_train)\n",
    "tier_4_preds = gb.predict(X_test)\n",
    "tier_4_preds = np.exp(tier_4_preds)\n",
    "r2_4o = r2_score(exp_y_test, tier_4_preds)\n",
    "RMSE_4o = mean_squared_error(exp_y_test, tier_4_preds, squared=False)\n",
    "MAE_4o = mean_absolute_error(exp_y_test, tier_4_preds)\n",
    "MAPE_4o = MAPE(exp_y_test, tier_4_preds)\n",
    "scores_4o = {'R2':r2_4o, 'RMSE':RMSE_4o, \"MAE\":MAE_4o, \"MAPE\":MAPE_4o}\n",
    "scores_4o"
   ]
  },
  {
   "cell_type": "markdown",
   "id": "260e67aa",
   "metadata": {},
   "source": [
    "#### Attempting this tiered model on Family animation films, as a way to target the same 'type' of film as Disney films"
   ]
  },
  {
   "cell_type": "code",
   "execution_count": 32,
   "id": "81797947",
   "metadata": {},
   "outputs": [
    {
     "data": {
      "text/plain": [
       "(99, 84)"
      ]
     },
     "execution_count": 32,
     "metadata": {},
     "output_type": "execute_result"
    }
   ],
   "source": [
    "tier_5 = box[(box['Genre', 'Animation']==1)&(box['Genre', 'Family']==1)]\n",
    "tier_5.shape"
   ]
  },
  {
   "cell_type": "code",
   "execution_count": 33,
   "id": "d5d9cbbc",
   "metadata": {},
   "outputs": [
    {
     "data": {
      "image/png": "[encoded data removed]",
      "text/plain": [
       "<Figure size 432x288 with 1 Axes>"
      ]
     },
     "metadata": {
      "needs_background": "light"
     },
     "output_type": "display_data"
    }
   ],
   "source": [
    "sns.histplot(data=tier_5, x=('Numerical', 'revenue'), stat='count');"
   ]
  },
  {
   "cell_type": "markdown",
   "id": "15cff757",
   "metadata": {},
   "source": [
    "This revenue distribution appears far more normal than others, hopefully this results in better predictive power"
   ]
  },
  {
   "cell_type": "code",
   "execution_count": 34,
   "id": "ed65cdc5",
   "metadata": {},
   "outputs": [
    {
     "data": {
      "text/plain": [
       "(99, 82)"
      ]
     },
     "execution_count": 34,
     "metadata": {},
     "output_type": "execute_result"
    }
   ],
   "source": [
    "tier_5 = tier_5.drop(['Animation', 'Family'], level=1, axis=1)\n",
    "y = np.log(tier_5['Numerical', 'revenue'])\n",
    "X = tier_5.drop('revenue', level=1, axis=1)\n",
    "tier_5.shape"
   ]
  },
  {
   "cell_type": "code",
   "execution_count": 35,
   "id": "3d426d8b",
   "metadata": {},
   "outputs": [],
   "source": [
    "scaler = MinMaxScaler()\n",
    "scaler.fit(X['Numerical'])\n",
    "X['Numerical'] = scaler.transform(X['Numerical'])\n",
    "X_train, X_test, y_train, y_test = train_test_split(X, y, test_size=0.2, random_state=42)\n",
    "exp_y_test = np.exp(y_test)"
   ]
  },
  {
   "cell_type": "code",
   "execution_count": 36,
   "id": "5c932bbc",
   "metadata": {},
   "outputs": [
    {
     "data": {
      "text/plain": [
       "{'R2': 0.40725593407315863,\n",
       " 'RMSE': 55134094.13178672,\n",
       " 'MAE': 41483078.926310025,\n",
       " 'MAPE': 64.03670455595376}"
      ]
     },
     "execution_count": 36,
     "metadata": {},
     "output_type": "execute_result"
    }
   ],
   "source": [
    "gb = GradientBoostingRegressor(random_state=42)\n",
    "gb.fit(X_train, y_train)\n",
    "tier_5_preds = gb.predict(X_test)\n",
    "tier_5_preds = np.exp(tier_5_preds)\n",
    "r2_5 = r2_score(exp_y_test, tier_5_preds)\n",
    "RMSE_5 = mean_squared_error(exp_y_test, tier_5_preds, squared=False)\n",
    "MAE_5 = mean_absolute_error(exp_y_test, tier_5_preds)\n",
    "MAPE_5 = MAPE(exp_y_test, tier_5_preds)\n",
    "scores_5 = {'R2':r2_5, 'RMSE':RMSE_5, \"MAE\":MAE_5, \"MAPE\":MAPE_5}\n",
    "scores_5"
   ]
  },
  {
   "cell_type": "code",
   "execution_count": 37,
   "id": "74cc20e7",
   "metadata": {},
   "outputs": [
    {
     "name": "stdout",
     "output_type": "stream",
     "text": [
      "GB best score:  0.32883030247904566\n",
      "GB best parameters:  {'n_estimators': 1272, 'min_samples_split': 3, 'max_depth': 6, 'learning_rate': 0.001}\n"
     ]
    }
   ],
   "source": [
    "params = {'n_estimators':np.arange(800,5010), 'max_depth':np.arange(1,10), \n",
    "          'min_samples_split': np.arange(2,5), 'learning_rate': [0.001, 0.01, 0.1, 1]}\n",
    "grade = GradientBoostingRegressor(random_state=42)\n",
    "gradient = RandomizedSearchCV(grade, param_distributions=params, n_iter=500)\n",
    "gradient.fit(X_train, y_train)\n",
    "grade_best_score = gradient.best_score_\n",
    "grade_best_params = gradient.best_params_\n",
    "print('GB best score: ', grade_best_score)\n",
    "print('GB best parameters: ', grade_best_params)"
   ]
  },
  {
   "cell_type": "code",
   "execution_count": 38,
   "id": "1cddfac8",
   "metadata": {},
   "outputs": [
    {
     "data": {
      "text/plain": [
       "{'R2': 0.31467352285551786,\n",
       " 'RMSE': 59283712.34999377,\n",
       " 'MAE': 48449737.39103289,\n",
       " 'MAPE': 95.78838168247972}"
      ]
     },
     "execution_count": 38,
     "metadata": {},
     "output_type": "execute_result"
    }
   ],
   "source": [
    "#rscv score of 0.34579\n",
    "gb = GradientBoostingRegressor(n_estimators=1169, min_samples_split=2, max_depth=5, learning_rate=0.001, random_state=42)\n",
    "gb.fit(X_train, y_train)\n",
    "tier_5_preds = gb.predict(X_test)\n",
    "tier_5_preds = np.exp(tier_5_preds)\n",
    "r2_5o = r2_score(exp_y_test, tier_5_preds)\n",
    "RMSE_5o = mean_squared_error(exp_y_test, tier_5_preds, squared=False)\n",
    "MAE_5o = mean_absolute_error(exp_y_test, tier_5_preds)\n",
    "MAPE_5o = MAPE(exp_y_test, tier_5_preds)\n",
    "scores_5o = {'R2':r2_5o, 'RMSE':RMSE_5o, \"MAE\":MAE_5o, \"MAPE\":MAPE_5o}\n",
    "scores_5o"
   ]
  },
  {
   "cell_type": "markdown",
   "id": "b8bef119",
   "metadata": {},
   "source": [
    "#### Finally attempting this on films not produced in the US but which still have english as their spoken language"
   ]
  },
  {
   "cell_type": "code",
   "execution_count": 55,
   "id": "16d3760c",
   "metadata": {},
   "outputs": [
    {
     "data": {
      "text/plain": [
       "(154, 84)"
      ]
     },
     "execution_count": 55,
     "metadata": {},
     "output_type": "execute_result"
    }
   ],
   "source": [
    "tier_6 = box[box['Country', 'United States of America']==0]\n",
    "tier_6 = tier_6[tier_6['Spoken_lang', 'English']==1]\n",
    "tier_6.shape"
   ]
  },
  {
   "cell_type": "code",
   "execution_count": 40,
   "id": "c6603257",
   "metadata": {},
   "outputs": [
    {
     "data": {
      "image/png": "[encoded data removed]",
      "text/plain": [
       "<Figure size 432x288 with 1 Axes>"
      ]
     },
     "metadata": {
      "needs_background": "light"
     },
     "output_type": "display_data"
    }
   ],
   "source": [
    "sns.histplot(data=tier_6, x=('Numerical', 'revenue'), stat='count');"
   ]
  },
  {
   "cell_type": "markdown",
   "id": "902187b6",
   "metadata": {},
   "source": [
    "In theory, the revenue not being normally distributed will make the model perform worse, however that didn't improve performance at all in the previous use case (with or without using a log transform - log transforming that data still resulted in a MAPE around 230%).  \n",
    "\n",
    "This is a larger set of data so I suspect that using this tier will result in a MAPE around 100%"
   ]
  },
  {
   "cell_type": "code",
   "execution_count": 56,
   "id": "824cda30",
   "metadata": {},
   "outputs": [
    {
     "data": {
      "text/plain": [
       "(154, 82)"
      ]
     },
     "execution_count": 56,
     "metadata": {},
     "output_type": "execute_result"
    }
   ],
   "source": [
    "tier_6 = tier_6.drop(['English', 'United States of America'], level=1, axis=1)\n",
    "y = np.log(tier_6['Numerical', 'revenue'])\n",
    "X = tier_6.drop('revenue', level=1, axis=1)\n",
    "tier_6.shape"
   ]
  },
  {
   "cell_type": "code",
   "execution_count": 57,
   "id": "6ae7fa6e",
   "metadata": {},
   "outputs": [],
   "source": [
    "scaler = MinMaxScaler()\n",
    "scaler.fit(X['Numerical'])\n",
    "X['Numerical'] = scaler.transform(X['Numerical'])\n",
    "X_train, X_test, y_train, y_test = train_test_split(X, y, test_size=0.2, random_state=42)\n",
    "exp_y_test = np.exp(y_test)"
   ]
  },
  {
   "cell_type": "code",
   "execution_count": 43,
   "id": "0540be93",
   "metadata": {},
   "outputs": [
    {
     "data": {
      "text/plain": [
       "{'R2': 0.025385214309078363,\n",
       " 'RMSE': 68859481.8900671,\n",
       " 'MAE': 39106324.3293639,\n",
       " 'MAPE': 188.95549677475532}"
      ]
     },
     "execution_count": 43,
     "metadata": {},
     "output_type": "execute_result"
    }
   ],
   "source": [
    "gb = GradientBoostingRegressor(n_estimators=2660, min_samples_split=4, max_depth=3, learning_rate=0.001, random_state=42)\n",
    "gb.fit(X_train, y_train)\n",
    "tier_6_preds = gb.predict(X_test)\n",
    "tier_6_preds = np.exp(tier_6_preds)\n",
    "r2_6 = r2_score(exp_y_test, tier_6_preds)\n",
    "RMSE_6 = mean_squared_error(exp_y_test, tier_6_preds, squared=False)\n",
    "MAE_6 = mean_absolute_error(exp_y_test, tier_6_preds)\n",
    "MAPE_6 = MAPE(exp_y_test, tier_6_preds)\n",
    "scores_6 = {'R2':r2_6, 'RMSE':RMSE_6, \"MAE\":MAE_6, \"MAPE\":MAPE_6}\n",
    "scores_6"
   ]
  },
  {
   "cell_type": "code",
   "execution_count": 44,
   "id": "a390dfa0",
   "metadata": {},
   "outputs": [
    {
     "name": "stdout",
     "output_type": "stream",
     "text": [
      "GB best score:  0.47881343863043446\n",
      "GB best parameters:  {'n_estimators': 2601, 'min_samples_split': 6, 'max_depth': 3, 'learning_rate': 0.001}\n"
     ]
    }
   ],
   "source": [
    "params = {'n_estimators':np.arange(10,5000), 'max_depth':np.arange(1,25), \n",
    "          'min_samples_split': np.arange(4,10), 'learning_rate': [0.001, 0.01, 0.1, 1]}\n",
    "\"\"\"grade = GradientBoostingRegressor(random_state=42)\n",
    "gradient = RandomizedSearchCV(grade, param_distributions=params, n_iter=500)\n",
    "gradient.fit(X_train, y_train)\n",
    "grade_best_score = gradient.best_score_\n",
    "grade_best_params = gradient.best_params_\n",
    "print('GB best score: ', grade_best_score)\n",
    "print('GB best parameters: ', grade_best_params)\"\"\""
   ]
  },
  {
   "cell_type": "code",
   "execution_count": 58,
   "id": "a958e4f9",
   "metadata": {},
   "outputs": [
    {
     "data": {
      "text/plain": [
       "{'R2': 0.06593769028099139,\n",
       " 'RMSE': 67411684.10002317,\n",
       " 'MAE': 38276519.27657685,\n",
       " 'MAPE': 156.3310620267196}"
      ]
     },
     "execution_count": 58,
     "metadata": {},
     "output_type": "execute_result"
    }
   ],
   "source": [
    "# RSCV score of 0.48191736150512765\n",
    "gb = GradientBoostingRegressor(n_estimators=2601, min_samples_split=6, max_depth=3, learning_rate=0.001, random_state=42)\n",
    "gb.fit(X_train, y_train)\n",
    "tier_6_preds = gb.predict(X_test)\n",
    "tier_6_preds = np.exp(tier_6_preds)\n",
    "r2_6o = r2_score(exp_y_test, tier_6_preds)\n",
    "RMSE_6o = mean_squared_error(exp_y_test, tier_6_preds, squared=False)\n",
    "MAE_6o = mean_absolute_error(exp_y_test, tier_6_preds)\n",
    "MAPE_6o = MAPE(exp_y_test, tier_6_preds)\n",
    "scores_6o = {'R2':r2_6o, 'RMSE':RMSE_6o, \"MAE\":MAE_6o, \"MAPE\":MAPE_6o}\n",
    "scores_6o"
   ]
  },
  {
   "cell_type": "markdown",
   "id": "246cacbf",
   "metadata": {},
   "source": [
    "#### Subsetting the data on films that only Disney has produced seems to provide the best accuracy, I'll try the same method using another production company to see if this is a valid approach"
   ]
  },
  {
   "cell_type": "code",
   "execution_count": 46,
   "id": "ee75e1bb",
   "metadata": {},
   "outputs": [
    {
     "data": {
      "text/plain": [
       "(145, 84)"
      ]
     },
     "execution_count": 46,
     "metadata": {},
     "output_type": "execute_result"
    }
   ],
   "source": [
    "tier_7 = box[box['Company', 'Paramount Pictures']==1]\n",
    "tier_7.shape"
   ]
  },
  {
   "cell_type": "code",
   "execution_count": 47,
   "id": "b7b3ba43",
   "metadata": {},
   "outputs": [
    {
     "data": {
      "text/plain": [
       "(145, 83)"
      ]
     },
     "execution_count": 47,
     "metadata": {},
     "output_type": "execute_result"
    }
   ],
   "source": [
    "tier_7 = tier_7.drop('Paramount Pictures', level=1, axis=1)\n",
    "y = np.log(tier_7['Numerical', 'revenue'])\n",
    "X = tier_7.drop('revenue', level=1, axis=1)\n",
    "tier_7.shape"
   ]
  },
  {
   "cell_type": "code",
   "execution_count": 48,
   "id": "81398d34",
   "metadata": {},
   "outputs": [
    {
     "data": {
      "text/plain": [
       "<AxesSubplot:xlabel=\"('Numerical', 'revenue')\", ylabel='Count'>"
      ]
     },
     "execution_count": 48,
     "metadata": {},
     "output_type": "execute_result"
    },
    {
     "data": {
      "image/png": "[encoded data removed]",
      "text/plain": [
       "<Figure size 432x288 with 1 Axes>"
      ]
     },
     "metadata": {
      "needs_background": "light"
     },
     "output_type": "display_data"
    }
   ],
   "source": [
    "sns.histplot(data=tier_7, x=('Numerical', 'revenue'))"
   ]
  },
  {
   "cell_type": "code",
   "execution_count": 49,
   "id": "c97dccf2",
   "metadata": {},
   "outputs": [],
   "source": [
    "scaler = MinMaxScaler()\n",
    "scaler.fit(X['Numerical'])\n",
    "X['Numerical'] = scaler.transform(X['Numerical'])\n",
    "X_train, X_test, y_train, y_test = train_test_split(X, y, test_size=0.2, random_state=42)\n",
    "exp_y_test = np.exp(y_test)"
   ]
  },
  {
   "cell_type": "code",
   "execution_count": 50,
   "id": "493b648d",
   "metadata": {},
   "outputs": [
    {
     "data": {
      "text/plain": [
       "{'R2': -1.32043820113467,\n",
       " 'RMSE': 83800798.45278354,\n",
       " 'MAE': 66460047.16777264,\n",
       " 'MAPE': 112.93232060835214}"
      ]
     },
     "execution_count": 50,
     "metadata": {},
     "output_type": "execute_result"
    }
   ],
   "source": [
    "gb = GradientBoostingRegressor(random_state=42)\n",
    "gb.fit(X_train, y_train)\n",
    "tier_7_preds = gb.predict(X_test)\n",
    "tier_7_preds = np.exp(tier_7_preds)\n",
    "r2_7 = r2_score(exp_y_test, tier_7_preds)\n",
    "RMSE_7 = mean_squared_error(exp_y_test, tier_7_preds, squared=False)\n",
    "MAE_7 = mean_absolute_error(exp_y_test, tier_7_preds)\n",
    "MAPE_7 = MAPE(exp_y_test, tier_7_preds)\n",
    "scores_7 = {'R2':r2_7, 'RMSE':RMSE_7, \"MAE\":MAE_7, \"MAPE\":MAPE_7}\n",
    "scores_7"
   ]
  },
  {
   "cell_type": "code",
   "execution_count": 51,
   "id": "170ffd04",
   "metadata": {},
   "outputs": [
    {
     "name": "stdout",
     "output_type": "stream",
     "text": [
      "GB best score:  0.5830522286128073\n",
      "GB best parameters:  {'n_estimators': 1320, 'min_samples_split': 5, 'max_depth': 6, 'learning_rate': 0.1}\n"
     ]
    }
   ],
   "source": [
    "params = {'n_estimators':np.arange(10,5000), 'max_depth':np.arange(1,60), \n",
    "          'min_samples_split': np.arange(2,10), 'learning_rate': [0.001, 0.01, 0.1, 1]}\n",
    "\"\"\"grade = GradientBoostingRegressor(random_state=42)\n",
    "gradient = RandomizedSearchCV(grade, param_distributions=params, n_iter=500)\n",
    "gradient.fit(X_train, y_train)\n",
    "grade_best_score = gradient.best_score_\n",
    "grade_best_params = gradient.best_params_\n",
    "print('GB best score: ', grade_best_score)\n",
    "print('GB best parameters: ', grade_best_params)\"\"\""
   ]
  },
  {
   "cell_type": "code",
   "execution_count": 53,
   "id": "48785334",
   "metadata": {},
   "outputs": [
    {
     "data": {
      "text/plain": [
       "{'R2': -1.3899070111292993,\n",
       " 'RMSE': 85045953.56274104,\n",
       " 'MAE': 68696694.39685738,\n",
       " 'MAPE': 116.79738963457724}"
      ]
     },
     "execution_count": 53,
     "metadata": {},
     "output_type": "execute_result"
    }
   ],
   "source": [
    "# cv search score of 0.5830522286128073\n",
    "gb = GradientBoostingRegressor(n_estimators=1320, min_samples_split=5, max_depth=6, learning_rate=0.1,random_state=42)\n",
    "gb.fit(X_train, y_train)\n",
    "tier_7_preds = gb.predict(X_test)\n",
    "tier_7_preds = np.exp(tier_7_preds)\n",
    "r2_7o = r2_score(exp_y_test, tier_7_preds)\n",
    "RMSE_7o = mean_squared_error(exp_y_test, tier_7_preds, squared=False)\n",
    "MAE_7o = mean_absolute_error(exp_y_test, tier_7_preds)\n",
    "MAPE_7o = MAPE(exp_y_test, tier_7_preds)\n",
    "scores_7o = {'R2':r2_7o, 'RMSE':RMSE_7o, \"MAE\":MAE_7o, \"MAPE\":MAPE_7o}\n",
    "scores_7o"
   ]
  }
 ],
 "metadata": {
  "kernelspec": {
   "display_name": "Python 3",
   "language": "python",
   "name": "python3"
  },
  "language_info": {
   "codemirror_mode": {
    "name": "ipython",
    "version": 3
   },
   "file_extension": ".py",
   "mimetype": "text/x-python",
   "name": "python",
   "nbconvert_exporter": "python",
   "pygments_lexer": "ipython3",
   "version": "3.8.8"
  }
 },
 "nbformat": 4,
 "nbformat_minor": 5
}
