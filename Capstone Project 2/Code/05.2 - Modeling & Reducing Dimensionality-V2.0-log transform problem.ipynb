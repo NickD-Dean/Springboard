{
 "cells": [
  {
   "cell_type": "markdown",
   "id": "8aebc211",
   "metadata": {},
   "source": [
    "## Reducing Dimensionality\n",
    "\n",
    "There are two main drivers of dimensionality in this dataset: Keywords and Production Companies\n",
    "\n",
    "Both bring thousands of dummy variables and create a sparse matrix that must be used for modelling.  I have several other categories that increase dimensionality more than they should, from these I need to severely reduce the number of features that are present in my data.  I'll list the general approach for each here, and enumerate why I'm taking that approach in subsections below. \n",
    "\n",
    "**Keywords:** Eliminate any keyword that appears in less than fifty films, reducing to 23 features\n",
    "\n",
    "**Production Companies:** Bin this by quartiles, reducing to 4 features\n",
    "\n",
    "**Release Year:** Bin by decade, reducing to 6 features\n",
    "\n",
    "**Production Country:** Eliminate and create a single column indicating if a film was produced in the US or not"
   ]
  },
  {
   "cell_type": "markdown",
   "id": "d76641b5",
   "metadata": {},
   "source": [
    "Once I've reduced the dimensionality appropriately I'll test the performance of linear, random forest, gradient boosting, xgboost, and k-nearest neighbors regression models. I will also compare model performance using RMSE and R-squared metrics as well as examining the models residual plots. "
   ]
  },
  {
   "cell_type": "code",
   "execution_count": 2,
   "id": "757118e6",
   "metadata": {},
   "outputs": [],
   "source": [
    "import pandas as pd\n",
    "import numpy as np\n",
    "import matplotlib.pyplot as plt\n",
    "import seaborn as sns\n",
    "from sklearn.linear_model import LinearRegression\n",
    "from sklearn.model_selection import train_test_split, cross_validate, RandomizedSearchCV\n",
    "from sklearn.preprocessing import StandardScaler, MinMaxScaler, PowerTransformer\n",
    "from sklearn.metrics import r2_score, mean_squared_error, mean_squared_log_error\n",
    "from sklearn.svm import SVR\n",
    "from sklearn.neighbors import KNeighborsRegressor\n",
    "from sklearn.ensemble import GradientBoostingRegressor, RandomForestRegressor\n",
    "import warnings\n",
    "warnings.filterwarnings(\"ignore\")"
   ]
  },
  {
   "cell_type": "code",
   "execution_count": 3,
   "id": "d5cd2f91",
   "metadata": {},
   "outputs": [],
   "source": [
    "boxoffice = pd.read_csv('../Data/No_Outliers2.csv', index_col=0, header=[0,1])"
   ]
  },
  {
   "cell_type": "code",
   "execution_count": 4,
   "id": "0f81ff29",
   "metadata": {},
   "outputs": [
    {
     "data": {
      "text/plain": [
       "(1983, 9976)"
      ]
     },
     "execution_count": 4,
     "metadata": {},
     "output_type": "execute_result"
    }
   ],
   "source": [
    "# Copying the boxoffice dataframe prior to making major changes so that I have access to all the information\n",
    "# if any mistakes are made. \n",
    "box = boxoffice\n",
    "box.shape"
   ]
  },
  {
   "cell_type": "markdown",
   "id": "8c4564f9",
   "metadata": {},
   "source": [
    "### Keywords\n",
    "\n",
    "The Keywords category adds 7,134 dimensions to this data set and is incredibly sparse.  Only 1000 keywords actually appear in more than 5 films.  As a starting point I'm going to eliminate all keywords that don't appear in in at least 50 films, which reduces this category by 7,123 dimensions to 11 features. \n",
    "\n",
    "I would prefer to bin keywords by quartiles as I'll do with production companies. This presents problems to stakeholders who would like to make predictions from this model for a film's revenue.  If keywords are binned by revenue, you need to consult the existing list of keywords to identify which quartile a keywords belongs to.  This by itself isn't a problem.  However, over half of all keywords appear in only a single film, and many are a garbled collection of symbols that are not interpretable. A single previous data point is not a good predictor of revenue, further compounded by the likelihood that a keyword has not appeared in a single film previously.  \n",
    "\n",
    "If a keyword has not previously appeared in a film, it's impossible to use prior revenue performance to predict future revenue performance.  As a result, I've chosed to bin keywords by their frequency in the data set. "
   ]
  },
  {
   "cell_type": "code",
   "execution_count": 5,
   "id": "3931156d",
   "metadata": {},
   "outputs": [],
   "source": [
    "sums = boxoffice['Keywords']\n",
    "sums = sums.sum(axis=1)\n",
    "# create a new column that indicates the number of keywords that participate in the creation of a film\n",
    "box['Numerical', 'Num_keywords'] = sums"
   ]
  },
  {
   "cell_type": "code",
   "execution_count": 6,
   "id": "c82fad07",
   "metadata": {},
   "outputs": [],
   "source": [
    "# Create a list of keywords that appear in more than 50 films\n",
    "kwrds = boxoffice['Keywords']\n",
    "count = kwrds.apply(pd.value_counts)\n",
    "count = count.iloc[1]\n",
    "pd.DataFrame(count)\n",
    "new_cols = list(count[count>=50].index)"
   ]
  },
  {
   "cell_type": "code",
   "execution_count": 7,
   "id": "61b8e7c4",
   "metadata": {},
   "outputs": [
    {
     "data": {
      "text/plain": [
       "(1983, 2853)"
      ]
     },
     "execution_count": 7,
     "metadata": {},
     "output_type": "execute_result"
    }
   ],
   "source": [
    "# drops all keyword columns that don't appear in more than 50 films\n",
    "old_cols = list(box['Keywords'].columns)\n",
    "old_cols = set(old_cols)\n",
    "new_cols = set(new_cols)\n",
    "drop = old_cols.difference(new_cols)\n",
    "drop = list(drop)\n",
    "box.drop(drop, axis=1, level=1, inplace=True)\n",
    "box.drop('No Keywords', axis=1, level=1, inplace=True)\n",
    "box.shape"
   ]
  },
  {
   "cell_type": "markdown",
   "id": "c0e79fa3",
   "metadata": {},
   "source": [
    "### Production Companies\n",
    "\n",
    "Next, I need to bin production companies by revenue tier.  This will involve reducing the 2,688 features for Production Companies down to 4 features for production company revenue quartiles. These will indicate if a film has a production company who's fims are generally in the 25th, 50th, 75th, or 100th quartile of film revenue. \n",
    "\n",
    "I'm also going to sum up all the rows for production companies and create a new column that indicates the number of companies that contribute to a film since each film can have multiple companies working on it."
   ]
  },
  {
   "cell_type": "code",
   "execution_count": 8,
   "id": "b0363e84",
   "metadata": {},
   "outputs": [],
   "source": [
    "sums = boxoffice['Company']\n",
    "sums = sums.sum(axis=1)\n",
    "# create a new column that indicates the number of companies that participate in the creation of a film\n",
    "box['Numerical', 'Num_companies'] = sums"
   ]
  },
  {
   "cell_type": "code",
   "execution_count": 9,
   "id": "bac36ae7",
   "metadata": {},
   "outputs": [],
   "source": [
    "# Creating a dataframe of the production company data joined with revenue data\n",
    "rev = boxoffice['Numerical', 'revenue']\n",
    "rev = pd.DataFrame(rev)\n",
    "rev.columns = rev.columns.droplevel()\n",
    "prod_co = boxoffice['Company']\n",
    "prod_co_rev = prod_co.join(rev)"
   ]
  },
  {
   "cell_type": "code",
   "execution_count": 10,
   "id": "bcf2cf75",
   "metadata": {},
   "outputs": [
    {
     "data": {
      "text/plain": [
       "Marvel Studios                263427551.0\n",
       "MVL Incredible Productions    263427551.0\n",
       "Shinework Media               263036301.0\n",
       "Taihe Entertainment           263036301.0\n",
       "Atlantic Television           262520724.0\n",
       "                                 ...     \n",
       "XM3 Service                           NaN\n",
       "Zehnte Babelsberg                     NaN\n",
       "thinkfilm                             NaN\n",
       "warner bross Turkey                   NaN\n",
       "revenue                               NaN\n",
       "Length: 2689, dtype: float64"
      ]
     },
     "execution_count": 10,
     "metadata": {},
     "output_type": "execute_result"
    }
   ],
   "source": [
    "# Creating a series that lists companies by the average revenue they produce\n",
    "median={}\n",
    "for x in prod_co_rev:\n",
    "    median[x] = prod_co_rev['revenue'][prod_co_rev[x] == 1].median()\n",
    "medians = pd.Series(median)\n",
    "medians.sort_values(ascending=False)"
   ]
  },
  {
   "cell_type": "markdown",
   "id": "58b65750",
   "metadata": {},
   "source": [
    "Interesting that film companies have no revenue. However this would indicate that these companies simply don't have films observed in the data set.  This is not that surprising considering that in the previous notebook I eliminated 5% of the observations.  It is surprising that Warner Bros. is one of those companies with no films present, however it is reasonable that Warner Bros films would be in the top 5% of revenue since it's one of the most well-known companies."
   ]
  },
  {
   "cell_type": "code",
   "execution_count": 11,
   "id": "3ff5afd0",
   "metadata": {},
   "outputs": [
    {
     "name": "stdout",
     "output_type": "stream",
     "text": [
      "Number of film companies with no films:  177\n",
      "% of film companies with no films: 0.06582372629230197\n"
     ]
    }
   ],
   "source": [
    "# verifying that the number of production companies with less than 5%\n",
    "print('Number of film companies with no films: ', medians.isnull().sum())\n",
    "print('% of film companies with no films: ' + str(medians.isnull().sum() / len(medians)))"
   ]
  },
  {
   "cell_type": "code",
   "execution_count": 12,
   "id": "e1bef1c6",
   "metadata": {},
   "outputs": [
    {
     "data": {
      "text/plain": [
       "(2512,)"
      ]
     },
     "execution_count": 12,
     "metadata": {},
     "output_type": "execute_result"
    }
   ],
   "source": [
    "# creating a list of production company names to drop later since their films have been dropped from the data set\n",
    "mask = medians.isnull()\n",
    "droplist = list(medians[mask].index)\n",
    "# Edit the series to \n",
    "reverse = medians[medians.notnull()]\n",
    "reverse = reverse.sort_values(ascending=False)\n",
    "reverse.shape"
   ]
  },
  {
   "cell_type": "code",
   "execution_count": 13,
   "id": "195ca478",
   "metadata": {},
   "outputs": [],
   "source": [
    "# Cutting the list of companies & revenue into quartiles\n",
    "reverse = pd.DataFrame(reverse, columns = ['revenue'])\n",
    "reverse['Quartile'] = pd.qcut(reverse['revenue'], q=4, labels=False)\n",
    "# Creating a list of company names for each quartile\n",
    "quartile_1st = list(reverse[reverse['Quartile'] == 0].index)\n",
    "quartile_2nd = list(reverse[reverse['Quartile'] == 1].index)\n",
    "quartile_3rd = list(reverse[reverse['Quartile'] == 2].index)\n",
    "quartile_4th = list(reverse[reverse['Quartile'] == 3].index)"
   ]
  },
  {
   "cell_type": "code",
   "execution_count": 14,
   "id": "80c498e3",
   "metadata": {},
   "outputs": [],
   "source": [
    "# Nested for loops that create new columns that indicate if a film was contributed to by a production company who's average film\n",
    "# revenue is in the 1st, 2nd, 3rd, or 4th quartiles\n",
    "for i in quartile_1st:\n",
    "    for k in prod_co.index:\n",
    "        if prod_co.loc[k,i] == 1:\n",
    "            box.loc[k, ('Company', 'Company_quartile_1st')] = 1\n",
    "            \n",
    "for i in quartile_2nd:\n",
    "    for k in prod_co.index:\n",
    "        if prod_co.loc[k,i] == 1:\n",
    "            box.loc[k, ('Company', 'Company_quartile_2nd')] = 1\n",
    "        \n",
    "for i in quartile_3rd:\n",
    "    for k in prod_co.index:\n",
    "        if prod_co.loc[k,i] == 1:\n",
    "            box.loc[k, ('Company', 'Company_quartile_3rd')] = 1\n",
    "        \n",
    "for i in quartile_4th:\n",
    "    for k in prod_co.index:\n",
    "        if prod_co.loc[k,i] == 1:\n",
    "            box.loc[k, ('Company', 'Company_quartile_4th')] = 1      "
   ]
  },
  {
   "cell_type": "code",
   "execution_count": 15,
   "id": "8d106c36",
   "metadata": {},
   "outputs": [],
   "source": [
    "co = box['Company']\n",
    "co = co.apply(pd.value_counts)\n",
    "co = co.iloc[1]\n",
    "keep = co[co>50]\n",
    "keep = pd.DataFrame(keep)\n",
    "keep = keep.drop(['Company_quartile_1st', 'Company_quartile_2nd', 'Company_quartile_3rd', 'Company_quartile_4th'], axis=0)\n",
    "keep = set(list(keep.index))\n",
    "drop = set(list(prod_co.columns))\n",
    "drop = list(drop.difference(keep))\n",
    "box = box.drop(drop, axis=1, level=1)"
   ]
  },
  {
   "cell_type": "code",
   "execution_count": 16,
   "id": "c63c47ae",
   "metadata": {},
   "outputs": [
    {
     "data": {
      "text/plain": [
       "(1983, 181)"
      ]
     },
     "execution_count": 16,
     "metadata": {},
     "output_type": "execute_result"
    }
   ],
   "source": [
    "box['Company'] = box['Company'].fillna(0)\n",
    "box['Company'] = box['Company'].astype(int)\n",
    "box.shape"
   ]
  },
  {
   "cell_type": "markdown",
   "id": "779b3b98",
   "metadata": {},
   "source": [
    "### Realease Year\n",
    "\n",
    "Generally speaking in the exploratory data analysis for this problem I noticed that revenue increased year over year.  This trend can also be captures by features representing the decade for which a film is produced in.  This will reduce the dimensions of the data set by 41 features."
   ]
  },
  {
   "cell_type": "code",
   "execution_count": 17,
   "id": "687a8751",
   "metadata": {},
   "outputs": [
    {
     "data": {
      "text/plain": [
       "Index(['1971', '1972', '1973', '1974', '1975', '1976', '1977', '1978', '1979',\n",
       "       '1980', '1981', '1982', '1983', '1984', '1985', '1986', '1987', '1988',\n",
       "       '1989', '1990', '1991', '1992', '1993', '1994', '1995', '1996', '1997',\n",
       "       '1998', '1999', '2000', '2001', '2002', '2003', '2004', '2005', '2006',\n",
       "       '2007', '2008', '2009', '2010', '2011', '2012', '2013', '2014', '2015',\n",
       "       '2016', '2017', 'No Year'],\n",
       "      dtype='object')"
      ]
     },
     "execution_count": 17,
     "metadata": {},
     "output_type": "execute_result"
    }
   ],
   "source": [
    "years = boxoffice['Release_year']\n",
    "years.columns"
   ]
  },
  {
   "cell_type": "code",
   "execution_count": 18,
   "id": "221c39f4",
   "metadata": {},
   "outputs": [],
   "source": [
    "Decade_70s = ['1971', '1972', '1973', '1974', '1975', '1976', '1977', '1978', '1979']\n",
    "Decade_80s = ['1980', '1981', '1982', '1983', '1984', '1985', '1986', '1987', '1988', '1989']\n",
    "Decade_90s = ['1990', '1991', '1992', '1993', '1994', '1995', '1996', '1997', '1998', '1999']\n",
    "Decade_00s = ['2000', '2001', '2002', '2003', '2004', '2005', '2006', '2007', '2008', '2009']\n",
    "Decade_10s = ['2010', '2011', '2012', '2013', '2014', '2015', '2016', '2017']\n",
    "for i in Decade_70s:\n",
    "    for k in years.index:\n",
    "        if years.loc[k,i] == 1:\n",
    "            box.loc[k, ('Release_year', \"70s\")] = 1\n",
    "for i in Decade_80s:\n",
    "    for k in years.index:\n",
    "        if years.loc[k,i] == 1:\n",
    "            box.loc[k, ('Release_year', '80s')] = 1\n",
    "for i in Decade_90s:\n",
    "    for k in years.index:\n",
    "        if years.loc[k,i] == 1:\n",
    "            box.loc[k, ('Release_year', '90s')] = 1\n",
    "for i in Decade_00s:\n",
    "    for k in years.index:\n",
    "        if years.loc[k,i] == 1:\n",
    "            box.loc[k, ('Release_year', '00s')] = 1\n",
    "for i in Decade_10s:\n",
    "    for k in years.index:\n",
    "        if years.loc[k,i] == 1:\n",
    "            box.loc[k, ('Release_year', '10s')] = 1"
   ]
  },
  {
   "cell_type": "code",
   "execution_count": 19,
   "id": "4bc740a9",
   "metadata": {},
   "outputs": [
    {
     "data": {
      "text/plain": [
       "(1983, 139)"
      ]
     },
     "execution_count": 19,
     "metadata": {},
     "output_type": "execute_result"
    }
   ],
   "source": [
    "box = box.drop(['1971', '1972', '1973', '1974', '1975', '1976', '1977', '1978', '1979',\n",
    "       '1980', '1981', '1982', '1983', '1984', '1985', '1986', '1987', '1988',\n",
    "       '1989', '1990', '1991', '1992', '1993', '1994', '1995', '1996', '1997',\n",
    "       '1998', '1999', '2000', '2001', '2002', '2003', '2004', '2005', '2006',\n",
    "       '2007', '2008', '2009', '2010', '2011', '2012', '2013', '2014', '2015',\n",
    "       '2016', '2017'], axis=1, level=1)\n",
    "box['Release_year'] = box['Release_year'].fillna(0)\n",
    "box['Release_year'] = box['Release_year'].astype(int)\n",
    "box.shape"
   ]
  },
  {
   "cell_type": "markdown",
   "id": "908c2575",
   "metadata": {},
   "source": [
    "### Country\n",
    "\n",
    "Production country is the last category in this data set that has a sparse matrix of data to work with.  I'm going to group the country information by global region, and I'll also create a new numerical column that indicates if a film was produced in multiple countries.  \n",
    "\n",
    "This will reduce the data set that I'm working with by 55 features."
   ]
  },
  {
   "cell_type": "code",
   "execution_count": 20,
   "id": "e9542f0a",
   "metadata": {},
   "outputs": [],
   "source": [
    "sums = boxoffice['Country']\n",
    "sums = sums.sum(axis=1)\n",
    "box['Numerical', 'Num_production_countries'] = sums"
   ]
  },
  {
   "cell_type": "code",
   "execution_count": 21,
   "id": "b8d19862",
   "metadata": {},
   "outputs": [],
   "source": [
    "country = boxoffice['Country']\n",
    "europe = ['Austria', 'Belgium', 'Bulgaria', 'Czech Republic', 'Denmark', 'Finland', 'France', 'Germany', 'Greece', \n",
    "          'Hungary', 'Iceland', 'Ireland', 'Italy', 'Luxembourg', 'Malta', 'Monaco', 'Netherlands', 'Norway', 'Poland', \n",
    "          'Portugal', 'Romania', 'Russia', 'Serbia', 'Slovenia', 'Spain', 'Sweden', 'Switzerland']\n",
    "oceania = ['Australia', 'Indonesia', 'New Zealand', 'Philippines']\n",
    "asia = ['Cambodia', 'China', 'Hong Kong', 'Japan', 'Singapore', 'South Korea', 'Taiwan', 'Thailand', 'India']\n",
    "middleast = ['Iran', 'Israel', 'Pakistan', 'Qatar', 'Turkey', 'United Arab Emirates']\n",
    "latinamerica = ['Argentina', 'Bahamas', 'Bolivia', 'Brazil', 'Chile', 'Colombia', 'Costa Rica', 'Peru', 'Paraguay',\n",
    "                'Uruguay', 'Venezuela']\n",
    "northamerica = ['Canada', 'Mexico']\n",
    "africa = ['Botswana', 'Mauritania', 'Morocco', 'South Africa']"
   ]
  },
  {
   "cell_type": "code",
   "execution_count": 22,
   "id": "9eac5b33",
   "metadata": {},
   "outputs": [],
   "source": [
    "for i in europe:\n",
    "    for k in country.index:\n",
    "        if country.loc[k, i] == 1:\n",
    "            box.loc[k, ('Country', 'Europe')] = 1\n",
    "for i in oceania:\n",
    "    for k in country.index:\n",
    "        if country.loc[k, i] ==1:\n",
    "            box.loc[k, ('Country', 'Oceania')] = 1\n",
    "for i in asia:\n",
    "    for k in country.index:\n",
    "        if country.loc[k, i] ==1:\n",
    "            box.loc[k, ('Country', 'Asia')] = 1\n",
    "for i in middleast:\n",
    "    for k in country.index:\n",
    "        if country.loc[k, i] ==1:\n",
    "            box.loc[k, ('Country', 'Middle_East')] = 1\n",
    "for i in latinamerica:\n",
    "    for k in country.index:\n",
    "        if country.loc[k, i] ==1:\n",
    "            box.loc[k, ('Country', 'Latin_America')] = 1\n",
    "for i in northamerica:\n",
    "    for k in country.index:\n",
    "        if country.loc[k, i] ==1:\n",
    "            box.loc[k, ('Country', 'North_America')] = 1\n",
    "for i in africa:\n",
    "    for k in country.index:\n",
    "        if country.loc[k, i] ==1:\n",
    "            box.loc[k, ('Country', 'Africa')] = 1"
   ]
  },
  {
   "cell_type": "code",
   "execution_count": 23,
   "id": "186dd11c",
   "metadata": {},
   "outputs": [
    {
     "data": {
      "text/plain": [
       "(1983, 84)"
      ]
     },
     "execution_count": 23,
     "metadata": {},
     "output_type": "execute_result"
    }
   ],
   "source": [
    "regions = europe + oceania + asia + middleast + latinamerica + northamerica + africa\n",
    "box = box.drop(regions, level=1, axis=1)\n",
    "box['Country'] = box['Country'].fillna(0)\n",
    "box['Country'] = box['Country'].astype(int)\n",
    "box.shape"
   ]
  },
  {
   "cell_type": "code",
   "execution_count": 24,
   "id": "fc5497f6",
   "metadata": {},
   "outputs": [],
   "source": [
    "box.to_csv('../Data/Reduced_dimensions2.csv')"
   ]
  },
  {
   "cell_type": "markdown",
   "id": "2f4877b3",
   "metadata": {},
   "source": [
    "# Testing the performance of regression models on the reduced data set\n",
    "\n",
    "Now that I've severely reduced the dimensionality of this data I'm going to test a linear, random forest, gradient boosting, Support-Vector, and k-nearest neighbors regression models.\n",
    "\n",
    "Based on the results from cross-validation I'll then test out of the box models against the test data and plot their residuals as well as calculate the mean absolute percentage error. \n",
    "\n",
    "### V 1.0 - due to another project and specialized third party packages I'm currently unable to access scikit-learn 0.24 and thus cannot use mean_absolute_percentage_error within cross-validation\n",
    "\n",
    "### V 2.0 - I realized in a later notebook that I had been incorrectly scoring my ML models and used those incorrect scores to select a model.  I'm going back through here and using the correct scoring methods to asses model performance\n",
    "\n",
    "The proper way to calculate MAPE/RMSE/R2/MAE metrics from log transformed target variables is to take the exponential of both the hold-out/test set and the predicted variables and THEN calculate error metrics.  However this isn't possible with scoring for cross-validation purposes.  While the metrics that will be provided by cross-validation are metrics for 'log(dollars)', and thus aren't truly representative of the actual performance of the model, they do allow for a point of comparison between models since the units are all the same that WILL allow me to select the best performing models on the log(dollars) target."
   ]
  },
  {
   "cell_type": "code",
   "execution_count": 25,
   "id": "bfd5bc20",
   "metadata": {},
   "outputs": [],
   "source": [
    "metrics = ['neg_mean_squared_error', 'r2']\n",
    "# Taking the log of numerical revenue and \n",
    "y = np.log(box['Numerical', 'revenue'])\n",
    "X = box.drop('revenue', level=1, axis=1)\n",
    "# Scaling the numerical data in X using a standard scaler\n",
    "scaler=MinMaxScaler()\n",
    "scaler.fit(X['Numerical'])\n",
    "X['Numerical'] = scaler.transform(X['Numerical'])\n",
    "X_train, X_test, y_train, y_test = train_test_split(X, y, test_size=0.2, random_state=42)"
   ]
  },
  {
   "cell_type": "code",
   "execution_count": 26,
   "id": "dc3d8442",
   "metadata": {},
   "outputs": [],
   "source": [
    "# instantiating the regression models\n",
    "linear = LinearRegression()\n",
    "random_forest = RandomForestRegressor()\n",
    "knn = KNeighborsRegressor()\n",
    "gradient_boost = GradientBoostingRegressor()\n",
    "svr = SVR()"
   ]
  },
  {
   "cell_type": "code",
   "execution_count": 27,
   "id": "33a1892c",
   "metadata": {},
   "outputs": [
    {
     "name": "stdout",
     "output_type": "stream",
     "text": [
      "Linear RMSE:  57929816354.73548\n",
      "Linear R2:  -1.6553251119669437e+21\n"
     ]
    }
   ],
   "source": [
    "# Getting linear regression scores\n",
    "results = cross_validate(linear, X_train, y_train, scoring=metrics)\n",
    "# takinge the exponential of the RMSE to transform it back into real dollars\n",
    "RMSE = round(np.sqrt(np.mean(np.abs(results['test_neg_mean_squared_error']))), 5)\n",
    "R2 = round(np.mean(results['test_r2']), 5)\n",
    "linear_results = {'RMSE':RMSE, 'R2':R2}\n",
    "print('Linear RMSE: ', RMSE)\n",
    "print('Linear R2: ', R2)"
   ]
  },
  {
   "cell_type": "code",
   "execution_count": 28,
   "id": "ba3f96ac",
   "metadata": {
    "scrolled": true
   },
   "outputs": [
    {
     "name": "stdout",
     "output_type": "stream",
     "text": [
      "Random Forest RMSE:  0.96095\n",
      "Random Forest R2:  0.56158\n"
     ]
    }
   ],
   "source": [
    "# Getting Random Forest scores\n",
    "results = cross_validate(random_forest, X_train, y_train, scoring=metrics)\n",
    "RMSE = round(np.sqrt(np.mean(np.abs(results['test_neg_mean_squared_error']))), 5)\n",
    "R2 = round(np.mean(results['test_r2']), 5)\n",
    "random_forest_results = {'RMSE':RMSE, 'R2':R2}\n",
    "print('Random Forest RMSE: ', RMSE)\n",
    "print('Random Forest R2: ', R2)"
   ]
  },
  {
   "cell_type": "code",
   "execution_count": 29,
   "id": "27ac93cd",
   "metadata": {},
   "outputs": [
    {
     "name": "stdout",
     "output_type": "stream",
     "text": [
      "K-Nearest Neighbor RMSE:  1.08905\n",
      "K-Nearest Neighbor R2:  0.43897\n"
     ]
    }
   ],
   "source": [
    "# Getting KNN scores\n",
    "results = cross_validate(knn, X_train, y_train, scoring=metrics)\n",
    "RMSE = round(np.sqrt(np.mean(np.abs(results['test_neg_mean_squared_error']))), 5)\n",
    "R2 = round(np.mean(results['test_r2']), 5)\n",
    "knn_results = {'RMSE':RMSE, 'R2':R2}\n",
    "print('K-Nearest Neighbor RMSE: ', RMSE)\n",
    "print('K-Nearest Neighbor R2: ', R2)"
   ]
  },
  {
   "cell_type": "code",
   "execution_count": 30,
   "id": "d353f188",
   "metadata": {},
   "outputs": [
    {
     "name": "stdout",
     "output_type": "stream",
     "text": [
      "Gradient Boosted RMSE:  0.948\n",
      "Gradient Boosted R2:  0.57351\n"
     ]
    }
   ],
   "source": [
    "# Getting Gradient Boosted scores\n",
    "results = cross_validate(gradient_boost, X_train, y_train, scoring=metrics)\n",
    "RMSE = round(np.sqrt(np.mean(np.abs(results['test_neg_mean_squared_error']))), 5)\n",
    "R2 = round(np.mean(results['test_r2']), 5)\n",
    "gradient_boosted_results = {'RMSE':RMSE, 'R2':R2}\n",
    "print('Gradient Boosted RMSE: ', RMSE)\n",
    "print('Gradient Boosted R2: ', R2)"
   ]
  },
  {
   "cell_type": "code",
   "execution_count": 31,
   "id": "e3382a24",
   "metadata": {},
   "outputs": [
    {
     "name": "stdout",
     "output_type": "stream",
     "text": [
      "Support Vector RMSE:  0.97579\n",
      "Support Vector R2:  0.554\n"
     ]
    }
   ],
   "source": [
    "# Getting Support Vector Regression results\n",
    "results = cross_validate(svr, X_train, y_train, scoring=metrics)\n",
    "RMSE = round(np.sqrt(np.mean(np.abs(results['test_neg_mean_squared_error']))), 5)\n",
    "R2 = round(np.mean(results['test_r2']), 5)\n",
    "support_vector_results = {'RMSE':RMSE, 'R2':R2}\n",
    "print('Support Vector RMSE: ', RMSE)\n",
    "print('Support Vector R2: ', R2)"
   ]
  },
  {
   "cell_type": "code",
   "execution_count": 32,
   "id": "35bef26b",
   "metadata": {},
   "outputs": [
    {
     "data": {
      "text/html": [
       "<div>\n",
       "<style scoped>\n",
       "    .dataframe tbody tr th:only-of-type {\n",
       "        vertical-align: middle;\n",
       "    }\n",
       "\n",
       "    .dataframe tbody tr th {\n",
       "        vertical-align: top;\n",
       "    }\n",
       "\n",
       "    .dataframe thead th {\n",
       "        text-align: right;\n",
       "    }\n",
       "</style>\n",
       "<table border=\"1\" class=\"dataframe\">\n",
       "  <thead>\n",
       "    <tr style=\"text-align: right;\">\n",
       "      <th></th>\n",
       "      <th>RMSE</th>\n",
       "      <th>R2</th>\n",
       "    </tr>\n",
       "  </thead>\n",
       "  <tbody>\n",
       "    <tr>\n",
       "      <th>Random Forest</th>\n",
       "      <td>0.96095</td>\n",
       "      <td>0.56158</td>\n",
       "    </tr>\n",
       "    <tr>\n",
       "      <th>KNN</th>\n",
       "      <td>1.08905</td>\n",
       "      <td>0.43897</td>\n",
       "    </tr>\n",
       "    <tr>\n",
       "      <th>Gradient Boosted</th>\n",
       "      <td>0.94800</td>\n",
       "      <td>0.57351</td>\n",
       "    </tr>\n",
       "    <tr>\n",
       "      <th>SVR</th>\n",
       "      <td>0.97579</td>\n",
       "      <td>0.55400</td>\n",
       "    </tr>\n",
       "  </tbody>\n",
       "</table>\n",
       "</div>"
      ],
      "text/plain": [
       "                     RMSE       R2\n",
       "Random Forest     0.96095  0.56158\n",
       "KNN               1.08905  0.43897\n",
       "Gradient Boosted  0.94800  0.57351\n",
       "SVR               0.97579  0.55400"
      ]
     },
     "execution_count": 32,
     "metadata": {},
     "output_type": "execute_result"
    }
   ],
   "source": [
    "# Collecting results for comparison\n",
    "scores = {'Linear': linear_results, 'Random Forest':random_forest_results, 'KNN':knn_results, \n",
    "          'Gradient Boosted':gradient_boosted_results, 'SVR':support_vector_results}\n",
    "scores = pd.DataFrame(scores)\n",
    "scores = scores.T\n",
    "scores = scores.drop('Linear', axis=0)\n",
    "scores"
   ]
  },
  {
   "cell_type": "code",
   "execution_count": 33,
   "id": "e0959849",
   "metadata": {},
   "outputs": [
    {
     "data": {
      "image/png": "[encoded data removed]",
      "text/plain": [
       "<Figure size 720x504 with 1 Axes>"
      ]
     },
     "metadata": {
      "needs_background": "light"
     },
     "output_type": "display_data"
    }
   ],
   "source": [
    "models = list(scores.index)\n",
    "plt.figure(figsize=(10,7))\n",
    "plt.bar(models, scores.R2)\n",
    "plt.xticks(rotation=90)\n",
    "plt.axhline(0, c='black')\n",
    "plt.xlabel('Model', size='large')\n",
    "plt.ylabel('R-squared', size='large')\n",
    "plt.title('R-squared scores by model', size = 'x-large');"
   ]
  },
  {
   "cell_type": "code",
   "execution_count": 34,
   "id": "03bd97e1",
   "metadata": {},
   "outputs": [
    {
     "data": {
      "image/png": "[encoded data removed]",
      "text/plain": [
       "<Figure size 720x504 with 1 Axes>"
      ]
     },
     "metadata": {
      "needs_background": "light"
     },
     "output_type": "display_data"
    }
   ],
   "source": [
    "plt.figure(figsize=(10,7))\n",
    "plt.bar(models, scores.RMSE)\n",
    "plt.xticks(rotation=90)\n",
    "plt.xlabel('Model', size='large')\n",
    "plt.ylabel('Root Mean Squared Error ($)', size='large')\n",
    "plt.title('Root Mean Squared Error by Model', size='x-large');"
   ]
  },
  {
   "cell_type": "markdown",
   "id": "87bf7892",
   "metadata": {},
   "source": [
    "### Testing against test data and plotting residuals\n",
    "\n",
    "Based on cross-validation it seems that decision-tree based regression models as well as KNN regression performs the best.  While the SVR model did recieve better scores, it also raised error warnings that the model is not converging, so I won't be using it going forward.  I'm going to test their performance against my test data as well as take the opportunity to plot their residuals.  \n",
    "\n",
    "\n",
    "#### V 2.0  As of now I'm unsure of how to best use randomized search for hyperparameter tuning and will move forward with the best performing hyperparameters from previous iterations on this notebook.  I'm still unable to update to scikit learn 0.24 and use their MAPE function so I've written my own below\n",
    "\n",
    "The purpose of going back over this notebook is to ensure that data has been properly transformed from log(dollars) to regular dollars PRIOR to scoring each model.  This will likely change the approach that I take for randomized search as well after consulting several mentors for strategies around that."
   ]
  },
  {
   "cell_type": "code",
   "execution_count": 35,
   "id": "17a09914",
   "metadata": {},
   "outputs": [],
   "source": [
    "# function to calculate mean absolute percentage error\n",
    "def MAPE(true_values, predicted_values):\n",
    "    MAPE = np.sum(np.abs((true_values-predicted_values)/true_values))/len(true_values)*100\n",
    "    return MAPE"
   ]
  },
  {
   "cell_type": "code",
   "execution_count": 36,
   "id": "6022cb00",
   "metadata": {},
   "outputs": [
    {
     "data": {
      "text/plain": [
       "(1983, 84)"
      ]
     },
     "execution_count": 36,
     "metadata": {},
     "output_type": "execute_result"
    }
   ],
   "source": [
    "box.shape"
   ]
  },
  {
   "cell_type": "code",
   "execution_count": 37,
   "id": "68332c96",
   "metadata": {},
   "outputs": [],
   "source": [
    "y = np.log(box['Numerical', 'revenue'])\n",
    "X = box.drop('revenue', level=1, axis=1)\n",
    "# Scaling the numerical data in X using a MinMax scaler\n",
    "scaler=MinMaxScaler()\n",
    "scaler.fit(X['Numerical'])\n",
    "X['Numerical'] = scaler.transform(X['Numerical'])\n",
    "X_train, X_test, y_train, y_test = train_test_split(X, y, test_size=0.2, random_state=42)"
   ]
  },
  {
   "cell_type": "markdown",
   "id": "1f2f0370",
   "metadata": {},
   "source": [
    "Training target variables are still in 'log(dollars)' to reduce the skew in the data. I'm going to transform the test data back into 'regular dollars' using np.exp now. After predictions are made with each model I'll transform the predictions with np.exp immediately so that I don't need to insert np.exp() multiple times into each scoring function.  \n",
    "\n",
    "By going through this in a systematic way I will be able to ensure the fidelity of my scoring metrics prior to modeling revenue based on tiers."
   ]
  },
  {
   "cell_type": "code",
   "execution_count": 38,
   "id": "c50ddc63",
   "metadata": {},
   "outputs": [
    {
     "data": {
      "text/plain": [
       "828     19.009989\n",
       "549     18.509426\n",
       "656     18.256660\n",
       "83      19.340252\n",
       "1977    17.709410\n",
       "          ...    \n",
       "1315    14.597022\n",
       "1506    15.499579\n",
       "984     18.463013\n",
       "1710    18.578495\n",
       "1311    18.997166\n",
       "Name: (Numerical, revenue), Length: 1586, dtype: float64"
      ]
     },
     "execution_count": 38,
     "metadata": {},
     "output_type": "execute_result"
    }
   ],
   "source": [
    "exp_y_test = np.exp(y_test)\n",
    "# training data is still in log(dollars)\n",
    "y_train"
   ]
  },
  {
   "cell_type": "code",
   "execution_count": 39,
   "id": "8cd83ac7",
   "metadata": {},
   "outputs": [
    {
     "data": {
      "text/plain": [
       "672      52000000.0\n",
       "2307    256697520.0\n",
       "1446     12272308.0\n",
       "1271     65409046.0\n",
       "1052    112483764.0\n",
       "           ...     \n",
       "1474    146292009.0\n",
       "423     178127760.0\n",
       "1159     63543328.0\n",
       "1427     75769783.0\n",
       "678      39753957.0\n",
       "Name: (Numerical, revenue), Length: 397, dtype: float64"
      ]
     },
     "execution_count": 39,
     "metadata": {},
     "output_type": "execute_result"
    }
   ],
   "source": [
    "# new variable to store actual revenue values for test data that will be used to compare to predicted values\n",
    "exp_y_test"
   ]
  },
  {
   "cell_type": "markdown",
   "id": "ae275045",
   "metadata": {},
   "source": [
    "#### Testing a Random Forest model, finding optimal parameters, and plotting residuals for the optimal model"
   ]
  },
  {
   "cell_type": "code",
   "execution_count": 40,
   "id": "6ea4c135",
   "metadata": {},
   "outputs": [],
   "source": [
    "rf = RandomForestRegressor()\n",
    "rf.fit(X_train, y_train)\n",
    "preds = rf.predict(X_test)\n",
    "preds = np.exp(preds)"
   ]
  },
  {
   "cell_type": "code",
   "execution_count": 41,
   "id": "489dca9c",
   "metadata": {},
   "outputs": [
    {
     "data": {
      "image/png": "[encoded data removed]",
      "text/plain": [
       "<Figure size 432x288 with 1 Axes>"
      ]
     },
     "metadata": {
      "needs_background": "light"
     },
     "output_type": "display_data"
    }
   ],
   "source": [
    "residuals = exp_y_test-preds\n",
    "plt.hist(residuals,color='g', bins=50)\n",
    "plt.axvline(x=0, color='k')\n",
    "plt.title('Predicted Revenue vs. Residual Error');"
   ]
  },
  {
   "cell_type": "code",
   "execution_count": 42,
   "id": "dbb39c9e",
   "metadata": {},
   "outputs": [],
   "source": [
    "params = {'n_estimators': np.arange(10,1000), 'min_samples_leaf': np.arange(1,10), 'min_samples_split': np.arange(2,10), \n",
    "          'max_depth':np.arange(10,90)}\n",
    "#rand = RandomizedSearchCV(RandomForestRegressor(), param_distributions=params, n_iter=100)\n",
    "#rand.fit(X_train, y_train)\n",
    "#rf_best_score = rand.best_score_\n",
    "#rf_best_params = rand.best_params_\n",
    "#print(rf_best_score)\n",
    "#print(rf_best_params)"
   ]
  },
  {
   "cell_type": "code",
   "execution_count": 43,
   "id": "6a94668e",
   "metadata": {},
   "outputs": [
    {
     "data": {
      "text/plain": [
       "{'R2': 0.4425532585659795,\n",
       " 'RMSE': 49022862.593813665,\n",
       " 'MAPE': 326.8846490169005}"
      ]
     },
     "execution_count": 43,
     "metadata": {},
     "output_type": "execute_result"
    }
   ],
   "source": [
    "best_rf = RandomForestRegressor(n_estimators= 447, min_samples_split= 6, min_samples_leaf= 4, max_depth= 72)\n",
    "best_rf.fit(X_train, y_train)\n",
    "rf_preds = best_rf.predict(X_test)\n",
    "rf_preds = np.exp(rf_preds)\n",
    "rf_r2 = r2_score(exp_y_test, rf_preds)\n",
    "rf_rmse = mean_squared_error(exp_y_test, rf_preds, squared=False)\n",
    "rf_mape = MAPE(exp_y_test, rf_preds)\n",
    "rf_residuals = exp_y_test-rf_preds\n",
    "RandomForest = {'R2':rf_r2, 'RMSE':rf_rmse, 'MAPE':rf_mape}\n",
    "RandomForest"
   ]
  },
  {
   "cell_type": "code",
   "execution_count": 44,
   "id": "dc38fcf2",
   "metadata": {},
   "outputs": [
    {
     "data": {
      "image/png": "[encoded data removed]",
      "text/plain": [
       "<Figure size 432x288 with 1 Axes>"
      ]
     },
     "metadata": {
      "needs_background": "light"
     },
     "output_type": "display_data"
    }
   ],
   "source": [
    "plt.hist(rf_residuals, color='b', bins=50)\n",
    "plt.axvline(x=0, color='k')\n",
    "plt.title('Distribution of Random Forest Residual Error');"
   ]
  },
  {
   "cell_type": "markdown",
   "id": "6e0ebe33",
   "metadata": {},
   "source": [
    "### Testing a Gradient Boosted model, finding optimal parameters and plotting residuals"
   ]
  },
  {
   "cell_type": "code",
   "execution_count": 45,
   "id": "f8e4fd63",
   "metadata": {},
   "outputs": [],
   "source": [
    "grade = GradientBoostingRegressor()\n",
    "grade.fit(X_train, y_train)\n",
    "preds = grade.predict(X_test)\n",
    "preds = np.exp(preds)"
   ]
  },
  {
   "cell_type": "code",
   "execution_count": 46,
   "id": "9843df1a",
   "metadata": {},
   "outputs": [
    {
     "data": {
      "image/png": "[encoded data removed]",
      "text/plain": [
       "<Figure size 432x288 with 1 Axes>"
      ]
     },
     "metadata": {
      "needs_background": "light"
     },
     "output_type": "display_data"
    }
   ],
   "source": [
    "residuals = exp_y_test-preds\n",
    "plt.hist(residuals,color='g', bins=50)\n",
    "plt.axvline(x=0, color='k')\n",
    "plt.title('Distribution of Gradient Boosted Residual Error');"
   ]
  },
  {
   "cell_type": "code",
   "execution_count": 47,
   "id": "63bb98fd",
   "metadata": {},
   "outputs": [],
   "source": [
    "params = {'n_estimators':np.arange(100,10000), 'max_depth':np.arange(3,90), 'min_samples_split': np.arange(2,10)}\n",
    "#gradient = RandomizedSearchCV(grade, param_distributions=params, n_iter=100)\n",
    "#gradient.fit(X_train, y_train)\n",
    "#grade_best_score = gradient.best_score_\n",
    "#grade_best_params = gradient.best_params_\n",
    "#print('GB best score: ', grade_best_score)\n",
    "#print('GB best parameters: ', grade_best_params)"
   ]
  },
  {
   "cell_type": "code",
   "execution_count": 48,
   "id": "7f19c3ab",
   "metadata": {},
   "outputs": [
    {
     "data": {
      "text/plain": [
       "{'R2': 0.3808543588188711, 'RMSE': 51664637.5266422, 'MAPE': 293.8075086904654}"
      ]
     },
     "execution_count": 48,
     "metadata": {},
     "output_type": "execute_result"
    }
   ],
   "source": [
    "best_gradient=GradientBoostingRegressor(n_estimators= 3086, min_samples_split= 5, max_depth= 6)\n",
    "best_gradient.fit(X_train, y_train)\n",
    "grade_preds = best_gradient.predict(X_test)\n",
    "grade_preds = np.exp(grade_preds)\n",
    "grade_r2 = r2_score(exp_y_test, grade_preds)\n",
    "grade_rmse = mean_squared_error(exp_y_test, grade_preds, squared=False)\n",
    "grade_mape = MAPE(exp_y_test, grade_preds)\n",
    "GradientBoosted = {'R2':grade_r2, 'RMSE':grade_rmse, 'MAPE':grade_mape}\n",
    "gb_residuals = exp_y_test-grade_preds\n",
    "GradientBoosted"
   ]
  },
  {
   "cell_type": "code",
   "execution_count": 49,
   "id": "2b179595",
   "metadata": {},
   "outputs": [
    {
     "data": {
      "image/png": "[encoded data removed]",
      "text/plain": [
       "<Figure size 432x288 with 1 Axes>"
      ]
     },
     "metadata": {
      "needs_background": "light"
     },
     "output_type": "display_data"
    }
   ],
   "source": [
    "plt.hist(gb_residuals, color='b', bins=50)\n",
    "plt.axvline(x=0, color='k')\n",
    "plt.title('Distribution of Gradient Boosted Residual Error');"
   ]
  },
  {
   "cell_type": "markdown",
   "id": "3fe80b02",
   "metadata": {},
   "source": [
    "### Testing a K-Nearest Neighbors model, finding optimal parameters, and plotting residuals"
   ]
  },
  {
   "cell_type": "code",
   "execution_count": 50,
   "id": "b3eb7a32",
   "metadata": {},
   "outputs": [],
   "source": [
    "knn = KNeighborsRegressor()\n",
    "knn.fit(X_train, y_train)\n",
    "preds = knn.predict(X_test)\n",
    "preds = np.exp(preds)"
   ]
  },
  {
   "cell_type": "code",
   "execution_count": 51,
   "id": "c09fb536",
   "metadata": {},
   "outputs": [
    {
     "data": {
      "image/png": "[encoded data removed]",
      "text/plain": [
       "<Figure size 432x288 with 1 Axes>"
      ]
     },
     "metadata": {
      "needs_background": "light"
     },
     "output_type": "display_data"
    }
   ],
   "source": [
    "residuals = exp_y_test-preds\n",
    "plt.hist(residuals, color='g', bins=50)\n",
    "plt.axvline(x=0, color='k')\n",
    "plt.title('Predicted Revenue vs. Residual Error');"
   ]
  },
  {
   "cell_type": "code",
   "execution_count": 52,
   "id": "52dae268",
   "metadata": {},
   "outputs": [],
   "source": [
    "params = {'n_neighbors':np.arange(2,89)}\n",
    "#KNN = RandomizedSearchCV(knn, param_distributions=params, n_iter=87)\n",
    "#KNN.fit(X_train, y_train)\n",
    "#knn_best_score = KNN.best_score_\n",
    "#knn_best_params = KNN.best_params_\n",
    "#print('GB best score: ', knn_best_score)\n",
    "#print('GB best parameters: ', knn_best_params)"
   ]
  },
  {
   "cell_type": "code",
   "execution_count": 53,
   "id": "d906bd4b",
   "metadata": {},
   "outputs": [
    {
     "data": {
      "text/plain": [
       "{'R2': 0.3624319578592571, 'RMSE': 52427632.54823546, 'MAPE': 570.26490638734}"
      ]
     },
     "execution_count": 53,
     "metadata": {},
     "output_type": "execute_result"
    }
   ],
   "source": [
    "best_knn = KNeighborsRegressor(n_neighbors= 16)\n",
    "best_knn.fit(X_train, y_train)\n",
    "knn_preds = best_knn.predict(X_test)\n",
    "knn_preds = np.exp(knn_preds)\n",
    "knn_r2 = r2_score(exp_y_test, knn_preds)\n",
    "knn_rmse = mean_squared_error(exp_y_test, knn_preds, squared=False)\n",
    "knn_mape = MAPE(exp_y_test, knn_preds)\n",
    "KNN = {'R2':knn_r2, 'RMSE':knn_rmse, 'MAPE':knn_mape}\n",
    "knn_residuals = exp_y_test-knn_preds\n",
    "KNN"
   ]
  },
  {
   "cell_type": "code",
   "execution_count": 54,
   "id": "17da44f3",
   "metadata": {},
   "outputs": [
    {
     "data": {
      "image/png": "[encoded data removed]",
      "text/plain": [
       "<Figure size 432x288 with 1 Axes>"
      ]
     },
     "metadata": {
      "needs_background": "light"
     },
     "output_type": "display_data"
    }
   ],
   "source": [
    "plt.hist(knn_residuals,color='b', bins=50)\n",
    "plt.axvline(x=0, color='k')\n",
    "plt.title('Predicted Revenue vs. Residual Error');"
   ]
  },
  {
   "cell_type": "code",
   "execution_count": 55,
   "id": "c7b47d55",
   "metadata": {},
   "outputs": [],
   "source": [
    "params = {'kernel':('linear', 'poly', 'rbf', 'sigmoid'), 'C':[1,5,10], 'degree':[3,8], \n",
    "          'coef0':[0.01,10,0.5], 'gamma':('auto','scale')}\n",
    "#SVR_ = RandomizedSearchCV(svr, param_distributions=params, n_iter=87)\n",
    "#SVR_.fit(X_train, y_train)\n",
    "#svr_best_score = SVR_.best_score_\n",
    "#svr_best_params = SVR_.best_params_\n",
    "#print('SVR best score: ', svr_best_score)\n",
    "#print('SVR best parameters: ', svr_best_params)"
   ]
  },
  {
   "cell_type": "code",
   "execution_count": 56,
   "id": "3d363712",
   "metadata": {},
   "outputs": [
    {
     "data": {
      "text/plain": [
       "{'R2': 0.4901487255147593,\n",
       " 'RMSE': 46883360.29055019,\n",
       " 'MAPE': 443.0215891985608}"
      ]
     },
     "execution_count": 56,
     "metadata": {},
     "output_type": "execute_result"
    }
   ],
   "source": [
    "best_svr = SVR(kernel= 'rbf', gamma= 'auto', degree=8, coef0=0.5, C=10)\n",
    "best_svr.fit(X_train, y_train)\n",
    "svr_preds = best_svr.predict(X_test)\n",
    "svr_preds = np.exp(svr_preds)\n",
    "svr_r2 = r2_score(exp_y_test, svr_preds)\n",
    "svr_rmse = mean_squared_error(exp_y_test, svr_preds, squared=False)\n",
    "svr_mape = MAPE(exp_y_test, svr_preds)\n",
    "SVR = {'R2':svr_r2, 'RMSE':svr_rmse, 'MAPE':svr_mape}\n",
    "svr_residuals = exp_y_test-svr_preds\n",
    "SVR"
   ]
  },
  {
   "cell_type": "code",
   "execution_count": 57,
   "id": "bc10fefb",
   "metadata": {},
   "outputs": [
    {
     "data": {
      "image/png": "[encoded data removed]",
      "text/plain": [
       "<Figure size 432x288 with 1 Axes>"
      ]
     },
     "metadata": {
      "needs_background": "light"
     },
     "output_type": "display_data"
    }
   ],
   "source": [
    "plt.hist(svr_residuals,color='b', bins=50)\n",
    "plt.axvline(x=0, color='k')\n",
    "plt.title('Predicted Revenue vs. Residual Error');"
   ]
  },
  {
   "cell_type": "markdown",
   "id": "8d4bfdc9",
   "metadata": {},
   "source": [
    "## Comparative Analysis of Optimized Model scores"
   ]
  },
  {
   "cell_type": "code",
   "execution_count": 58,
   "id": "b9eb6ed0",
   "metadata": {},
   "outputs": [
    {
     "data": {
      "text/html": [
       "<div>\n",
       "<style scoped>\n",
       "    .dataframe tbody tr th:only-of-type {\n",
       "        vertical-align: middle;\n",
       "    }\n",
       "\n",
       "    .dataframe tbody tr th {\n",
       "        vertical-align: top;\n",
       "    }\n",
       "\n",
       "    .dataframe thead th {\n",
       "        text-align: right;\n",
       "    }\n",
       "</style>\n",
       "<table border=\"1\" class=\"dataframe\">\n",
       "  <thead>\n",
       "    <tr style=\"text-align: right;\">\n",
       "      <th></th>\n",
       "      <th>R2</th>\n",
       "      <th>RMSE</th>\n",
       "      <th>MAPE</th>\n",
       "    </tr>\n",
       "  </thead>\n",
       "  <tbody>\n",
       "    <tr>\n",
       "      <th>Random Forest</th>\n",
       "      <td>0.442553</td>\n",
       "      <td>4.902286e+07</td>\n",
       "      <td>326.884649</td>\n",
       "    </tr>\n",
       "    <tr>\n",
       "      <th>Gradient Boosting</th>\n",
       "      <td>0.380854</td>\n",
       "      <td>5.166464e+07</td>\n",
       "      <td>293.807509</td>\n",
       "    </tr>\n",
       "    <tr>\n",
       "      <th>K-nearest Neighbors</th>\n",
       "      <td>0.362432</td>\n",
       "      <td>5.242763e+07</td>\n",
       "      <td>570.264906</td>\n",
       "    </tr>\n",
       "    <tr>\n",
       "      <th>Support Vector Regressor</th>\n",
       "      <td>0.490149</td>\n",
       "      <td>4.688336e+07</td>\n",
       "      <td>443.021589</td>\n",
       "    </tr>\n",
       "  </tbody>\n",
       "</table>\n",
       "</div>"
      ],
      "text/plain": [
       "                                R2          RMSE        MAPE\n",
       "Random Forest             0.442553  4.902286e+07  326.884649\n",
       "Gradient Boosting         0.380854  5.166464e+07  293.807509\n",
       "K-nearest Neighbors       0.362432  5.242763e+07  570.264906\n",
       "Support Vector Regressor  0.490149  4.688336e+07  443.021589"
      ]
     },
     "execution_count": 58,
     "metadata": {},
     "output_type": "execute_result"
    }
   ],
   "source": [
    "dict_ = {'Random Forest':RandomForest, 'Gradient Boosting':GradientBoosted, 'K-nearest Neighbors':KNN, \n",
    "         'Support Vector Regressor': SVR}\n",
    "opti_scores = pd.DataFrame(dict_)\n",
    "opti_scores = opti_scores.T\n",
    "opti_scores"
   ]
  },
  {
   "cell_type": "code",
   "execution_count": 59,
   "id": "d37b6fa8",
   "metadata": {},
   "outputs": [
    {
     "data": {
      "image/png": "[encoded data removed]",
      "text/plain": [
       "<Figure size 1080x360 with 3 Axes>"
      ]
     },
     "metadata": {
      "needs_background": "light"
     },
     "output_type": "display_data"
    }
   ],
   "source": [
    "models = list(opti_scores.index)\n",
    "fig, (ax1, ax2, ax3) = plt.subplots(1,3, figsize=(15, 5))\n",
    "fig.figure\n",
    "ax1.bar(models, opti_scores.R2)\n",
    "ax1.set_title('R-squared scores by Model')\n",
    "ax1.set_xticklabels(models, rotation=45)\n",
    "ax2.bar(models, opti_scores.RMSE)\n",
    "ax2.set_title('RMSE by Model')\n",
    "ax2.set_xticklabels(models, rotation=45)\n",
    "ax3.bar(models, opti_scores.MAPE)\n",
    "ax3.set_title('Mean Absolute Percentage Error by Model')\n",
    "ax3.set_xticklabels(models, rotation=45);"
   ]
  },
  {
   "cell_type": "code",
   "execution_count": 70,
   "id": "836f810f",
   "metadata": {},
   "outputs": [
    {
     "data": {
      "image/png": "[encoded data removed]",
      "text/plain": [
       "<Figure size 720x720 with 4 Axes>"
      ]
     },
     "metadata": {
      "needs_background": "light"
     },
     "output_type": "display_data"
    }
   ],
   "source": [
    "fig, ((ax1, ax2), (ax3, ax4)) = plt.subplots(2,2, figsize=(10,10))\n",
    "ax1.scatter(exp_y_test, rf_preds, alpha=0.5, color='b')\n",
    "ax1.set_title('Optimized Random Forest Model')\n",
    "ax1.set_ylabel('Predicted Values')\n",
    "ax1.set_xlabel('True Values')\n",
    "ax1.plot(exp_y_test, exp_y_test, color='r')\n",
    "ax2.scatter(exp_y_test, grade_preds, alpha=0.5, color='grey')\n",
    "ax2.set_title('Optimized Gradient Boosting Model')\n",
    "ax2.set_ylabel('Predicted Values')\n",
    "ax2.set_xlabel('True Values')\n",
    "ax2.plot(exp_y_test, exp_y_test, color='r')\n",
    "ax3.scatter(exp_y_test, svr_preds, alpha=0.5, color='g')\n",
    "ax3.set_title('Optimized Support Vector Regression Model')\n",
    "ax3.set_ylabel('Predicted Values')\n",
    "ax3.set_xlabel('True Values')\n",
    "ax3.plot(exp_y_test, exp_y_test, color='r')\n",
    "ax4.scatter(exp_y_test, knn_preds, alpha=0.5, color='y')\n",
    "ax4.set_title('Optimized K-Nearest Neighbor Model')\n",
    "ax4.set_ylabel('Predicted Values')\n",
    "ax4.set_xlabel('True Values')\n",
    "ax4.plot(exp_y_test, exp_y_test, color='r')\n",
    "fig.tight_layout();"
   ]
  },
  {
   "cell_type": "markdown",
   "id": "e0df2b19",
   "metadata": {},
   "source": [
    "## Residual Analysis using the 'best' model\n",
    "\n",
    "Based on the above comparison the Gradiend Boosting model provided the best performance with regards to Mean Absolute Percentage Error, for which I'm optimizing these models. \n",
    "\n",
    "However if I need a point of comparison with the Gradient Boosing model I'll also check the Support-vector Regression model since that has the lowest RMSE and best R-squared value. \n",
    "\n",
    "In order to identify what may be going wrong with my models I'm going to create a new dataframe that contains both the true and predicted values for revenue, as well as the residuals.  I'll be able to use this to check and see if there's a pattern among films with exceptionally high residuals."
   ]
  },
  {
   "cell_type": "code",
   "execution_count": 61,
   "id": "8f22d183",
   "metadata": {},
   "outputs": [
    {
     "data": {
      "text/plain": [
       "(397, 87)"
      ]
     },
     "execution_count": 61,
     "metadata": {},
     "output_type": "execute_result"
    }
   ],
   "source": [
    "# Creating columns with predicted, residual, and percent error values\n",
    "gb = X_test\n",
    "gb['Numerical', 'revenue'] = exp_y_test\n",
    "gb['Numerical', 'predicted'] = grade_preds\n",
    "gb['Numerical', 'residuals'] = gb_residuals\n",
    "gb['Numerical', 'Per_Err'] = (np.abs(gb['Numerical', 'residuals'])/gb['Numerical', 'revenue'])*100\n",
    "gb.shape"
   ]
  },
  {
   "cell_type": "code",
   "execution_count": 62,
   "id": "ba6c3c7d",
   "metadata": {},
   "outputs": [
    {
     "data": {
      "text/html": [
       "<div>\n",
       "<style scoped>\n",
       "    .dataframe tbody tr th:only-of-type {\n",
       "        vertical-align: middle;\n",
       "    }\n",
       "\n",
       "    .dataframe tbody tr th {\n",
       "        vertical-align: top;\n",
       "    }\n",
       "\n",
       "    .dataframe thead th {\n",
       "        text-align: right;\n",
       "    }\n",
       "</style>\n",
       "<table border=\"1\" class=\"dataframe\">\n",
       "  <thead>\n",
       "    <tr style=\"text-align: right;\">\n",
       "      <th></th>\n",
       "      <th>budget</th>\n",
       "      <th>runtime</th>\n",
       "      <th>Overview_length</th>\n",
       "      <th>Tag_length</th>\n",
       "      <th>Num_keywords</th>\n",
       "      <th>Num_companies</th>\n",
       "      <th>Num_production_countries</th>\n",
       "      <th>revenue</th>\n",
       "      <th>predicted</th>\n",
       "      <th>residuals</th>\n",
       "      <th>Per_Err</th>\n",
       "    </tr>\n",
       "  </thead>\n",
       "  <tbody>\n",
       "    <tr>\n",
       "      <th>2228</th>\n",
       "      <td>0.141792</td>\n",
       "      <td>0.465686</td>\n",
       "      <td>0.276</td>\n",
       "      <td>0.342723</td>\n",
       "      <td>0.093023</td>\n",
       "      <td>0.043478</td>\n",
       "      <td>0.111111</td>\n",
       "      <td>65000.0</td>\n",
       "      <td>3.986532e+07</td>\n",
       "      <td>-3.980032e+07</td>\n",
       "      <td>61231.266051</td>\n",
       "    </tr>\n",
       "    <tr>\n",
       "      <th>548</th>\n",
       "      <td>0.015192</td>\n",
       "      <td>0.220588</td>\n",
       "      <td>0.099</td>\n",
       "      <td>0.159624</td>\n",
       "      <td>0.000000</td>\n",
       "      <td>0.130435</td>\n",
       "      <td>0.000000</td>\n",
       "      <td>155640.0</td>\n",
       "      <td>1.702947e+07</td>\n",
       "      <td>-1.687383e+07</td>\n",
       "      <td>10841.573785</td>\n",
       "    </tr>\n",
       "    <tr>\n",
       "      <th>202</th>\n",
       "      <td>0.177241</td>\n",
       "      <td>0.485294</td>\n",
       "      <td>0.179</td>\n",
       "      <td>0.164319</td>\n",
       "      <td>0.279070</td>\n",
       "      <td>0.000000</td>\n",
       "      <td>0.000000</td>\n",
       "      <td>79298.0</td>\n",
       "      <td>4.860124e+06</td>\n",
       "      <td>-4.780826e+06</td>\n",
       "      <td>6028.936373</td>\n",
       "    </tr>\n",
       "    <tr>\n",
       "      <th>271</th>\n",
       "      <td>0.177241</td>\n",
       "      <td>0.250000</td>\n",
       "      <td>0.148</td>\n",
       "      <td>0.000000</td>\n",
       "      <td>0.093023</td>\n",
       "      <td>0.304348</td>\n",
       "      <td>0.111111</td>\n",
       "      <td>76933.0</td>\n",
       "      <td>3.497150e+06</td>\n",
       "      <td>-3.420217e+06</td>\n",
       "      <td>4445.708926</td>\n",
       "    </tr>\n",
       "    <tr>\n",
       "      <th>642</th>\n",
       "      <td>0.025320</td>\n",
       "      <td>0.377451</td>\n",
       "      <td>0.270</td>\n",
       "      <td>0.000000</td>\n",
       "      <td>0.162791</td>\n",
       "      <td>0.130435</td>\n",
       "      <td>0.111111</td>\n",
       "      <td>518842.0</td>\n",
       "      <td>1.979870e+07</td>\n",
       "      <td>-1.927985e+07</td>\n",
       "      <td>3715.939464</td>\n",
       "    </tr>\n",
       "    <tr>\n",
       "      <th>1720</th>\n",
       "      <td>0.030384</td>\n",
       "      <td>0.490196</td>\n",
       "      <td>0.151</td>\n",
       "      <td>0.248826</td>\n",
       "      <td>0.000000</td>\n",
       "      <td>0.043478</td>\n",
       "      <td>0.000000</td>\n",
       "      <td>194827.0</td>\n",
       "      <td>5.973936e+06</td>\n",
       "      <td>-5.779109e+06</td>\n",
       "      <td>2966.277465</td>\n",
       "    </tr>\n",
       "    <tr>\n",
       "      <th>1351</th>\n",
       "      <td>0.070896</td>\n",
       "      <td>0.333333</td>\n",
       "      <td>0.255</td>\n",
       "      <td>0.169014</td>\n",
       "      <td>0.488372</td>\n",
       "      <td>0.000000</td>\n",
       "      <td>0.000000</td>\n",
       "      <td>4443890.0</td>\n",
       "      <td>6.576815e+07</td>\n",
       "      <td>-6.132426e+07</td>\n",
       "      <td>1379.968021</td>\n",
       "    </tr>\n",
       "    <tr>\n",
       "      <th>355</th>\n",
       "      <td>0.177241</td>\n",
       "      <td>0.245098</td>\n",
       "      <td>0.120</td>\n",
       "      <td>0.220657</td>\n",
       "      <td>0.255814</td>\n",
       "      <td>0.043478</td>\n",
       "      <td>0.000000</td>\n",
       "      <td>208027.0</td>\n",
       "      <td>2.472755e+06</td>\n",
       "      <td>-2.264728e+06</td>\n",
       "      <td>1088.670004</td>\n",
       "    </tr>\n",
       "    <tr>\n",
       "      <th>1313</th>\n",
       "      <td>0.126600</td>\n",
       "      <td>0.264706</td>\n",
       "      <td>0.433</td>\n",
       "      <td>0.079812</td>\n",
       "      <td>0.116279</td>\n",
       "      <td>0.000000</td>\n",
       "      <td>0.000000</td>\n",
       "      <td>2800000.0</td>\n",
       "      <td>2.912136e+07</td>\n",
       "      <td>-2.632136e+07</td>\n",
       "      <td>940.048715</td>\n",
       "    </tr>\n",
       "    <tr>\n",
       "      <th>1635</th>\n",
       "      <td>0.015192</td>\n",
       "      <td>0.411765</td>\n",
       "      <td>0.068</td>\n",
       "      <td>0.220657</td>\n",
       "      <td>0.023256</td>\n",
       "      <td>0.000000</td>\n",
       "      <td>0.000000</td>\n",
       "      <td>670957.0</td>\n",
       "      <td>5.429436e+06</td>\n",
       "      <td>-4.758479e+06</td>\n",
       "      <td>709.207690</td>\n",
       "    </tr>\n",
       "    <tr>\n",
       "      <th>33</th>\n",
       "      <td>0.012660</td>\n",
       "      <td>0.264706</td>\n",
       "      <td>0.329</td>\n",
       "      <td>0.000000</td>\n",
       "      <td>0.000000</td>\n",
       "      <td>0.217391</td>\n",
       "      <td>0.000000</td>\n",
       "      <td>624913.0</td>\n",
       "      <td>4.623937e+06</td>\n",
       "      <td>-3.999024e+06</td>\n",
       "      <td>639.932888</td>\n",
       "    </tr>\n",
       "    <tr>\n",
       "      <th>661</th>\n",
       "      <td>0.253201</td>\n",
       "      <td>0.367647</td>\n",
       "      <td>0.348</td>\n",
       "      <td>0.192488</td>\n",
       "      <td>0.116279</td>\n",
       "      <td>0.043478</td>\n",
       "      <td>0.000000</td>\n",
       "      <td>10788000.0</td>\n",
       "      <td>7.413446e+07</td>\n",
       "      <td>-6.334646e+07</td>\n",
       "      <td>587.193707</td>\n",
       "    </tr>\n",
       "    <tr>\n",
       "      <th>1891</th>\n",
       "      <td>0.177241</td>\n",
       "      <td>0.264706</td>\n",
       "      <td>0.203</td>\n",
       "      <td>0.046948</td>\n",
       "      <td>0.116279</td>\n",
       "      <td>0.608696</td>\n",
       "      <td>0.333333</td>\n",
       "      <td>1217307.0</td>\n",
       "      <td>8.211832e+06</td>\n",
       "      <td>-6.994525e+06</td>\n",
       "      <td>574.590018</td>\n",
       "    </tr>\n",
       "    <tr>\n",
       "      <th>1780</th>\n",
       "      <td>0.027903</td>\n",
       "      <td>0.465686</td>\n",
       "      <td>0.626</td>\n",
       "      <td>0.000000</td>\n",
       "      <td>0.069767</td>\n",
       "      <td>0.000000</td>\n",
       "      <td>0.000000</td>\n",
       "      <td>14233249.0</td>\n",
       "      <td>9.165848e+07</td>\n",
       "      <td>-7.742523e+07</td>\n",
       "      <td>543.974393</td>\n",
       "    </tr>\n",
       "    <tr>\n",
       "      <th>455</th>\n",
       "      <td>0.030384</td>\n",
       "      <td>0.323529</td>\n",
       "      <td>0.421</td>\n",
       "      <td>0.206573</td>\n",
       "      <td>0.046512</td>\n",
       "      <td>0.086957</td>\n",
       "      <td>0.000000</td>\n",
       "      <td>1999525.0</td>\n",
       "      <td>1.154949e+07</td>\n",
       "      <td>-9.549969e+06</td>\n",
       "      <td>477.611900</td>\n",
       "    </tr>\n",
       "    <tr>\n",
       "      <th>1124</th>\n",
       "      <td>0.101280</td>\n",
       "      <td>0.308824</td>\n",
       "      <td>0.215</td>\n",
       "      <td>0.309859</td>\n",
       "      <td>0.186047</td>\n",
       "      <td>0.043478</td>\n",
       "      <td>0.000000</td>\n",
       "      <td>5359645.0</td>\n",
       "      <td>3.022427e+07</td>\n",
       "      <td>-2.486463e+07</td>\n",
       "      <td>463.923002</td>\n",
       "    </tr>\n",
       "    <tr>\n",
       "      <th>609</th>\n",
       "      <td>0.273457</td>\n",
       "      <td>0.406863</td>\n",
       "      <td>0.346</td>\n",
       "      <td>0.154930</td>\n",
       "      <td>0.279070</td>\n",
       "      <td>0.086957</td>\n",
       "      <td>0.111111</td>\n",
       "      <td>26029578.0</td>\n",
       "      <td>1.337385e+08</td>\n",
       "      <td>-1.077089e+08</td>\n",
       "      <td>413.794218</td>\n",
       "    </tr>\n",
       "    <tr>\n",
       "      <th>147</th>\n",
       "      <td>0.243073</td>\n",
       "      <td>0.431373</td>\n",
       "      <td>0.152</td>\n",
       "      <td>0.544601</td>\n",
       "      <td>0.232558</td>\n",
       "      <td>0.000000</td>\n",
       "      <td>0.000000</td>\n",
       "      <td>35743308.0</td>\n",
       "      <td>1.746593e+08</td>\n",
       "      <td>-1.389160e+08</td>\n",
       "      <td>388.648941</td>\n",
       "    </tr>\n",
       "    <tr>\n",
       "      <th>357</th>\n",
       "      <td>0.151921</td>\n",
       "      <td>0.299020</td>\n",
       "      <td>0.417</td>\n",
       "      <td>0.131455</td>\n",
       "      <td>0.023256</td>\n",
       "      <td>0.043478</td>\n",
       "      <td>0.111111</td>\n",
       "      <td>10712024.0</td>\n",
       "      <td>5.207051e+07</td>\n",
       "      <td>-4.135849e+07</td>\n",
       "      <td>386.094075</td>\n",
       "    </tr>\n",
       "    <tr>\n",
       "      <th>2191</th>\n",
       "      <td>0.005064</td>\n",
       "      <td>0.289216</td>\n",
       "      <td>0.276</td>\n",
       "      <td>0.178404</td>\n",
       "      <td>0.581395</td>\n",
       "      <td>0.043478</td>\n",
       "      <td>0.000000</td>\n",
       "      <td>15151744.0</td>\n",
       "      <td>6.981530e+07</td>\n",
       "      <td>-5.466355e+07</td>\n",
       "      <td>360.774013</td>\n",
       "    </tr>\n",
       "  </tbody>\n",
       "</table>\n",
       "</div>"
      ],
      "text/plain": [
       "        budget   runtime  Overview_length  Tag_length  Num_keywords  \\\n",
       "2228  0.141792  0.465686            0.276    0.342723      0.093023   \n",
       "548   0.015192  0.220588            0.099    0.159624      0.000000   \n",
       "202   0.177241  0.485294            0.179    0.164319      0.279070   \n",
       "271   0.177241  0.250000            0.148    0.000000      0.093023   \n",
       "642   0.025320  0.377451            0.270    0.000000      0.162791   \n",
       "1720  0.030384  0.490196            0.151    0.248826      0.000000   \n",
       "1351  0.070896  0.333333            0.255    0.169014      0.488372   \n",
       "355   0.177241  0.245098            0.120    0.220657      0.255814   \n",
       "1313  0.126600  0.264706            0.433    0.079812      0.116279   \n",
       "1635  0.015192  0.411765            0.068    0.220657      0.023256   \n",
       "33    0.012660  0.264706            0.329    0.000000      0.000000   \n",
       "661   0.253201  0.367647            0.348    0.192488      0.116279   \n",
       "1891  0.177241  0.264706            0.203    0.046948      0.116279   \n",
       "1780  0.027903  0.465686            0.626    0.000000      0.069767   \n",
       "455   0.030384  0.323529            0.421    0.206573      0.046512   \n",
       "1124  0.101280  0.308824            0.215    0.309859      0.186047   \n",
       "609   0.273457  0.406863            0.346    0.154930      0.279070   \n",
       "147   0.243073  0.431373            0.152    0.544601      0.232558   \n",
       "357   0.151921  0.299020            0.417    0.131455      0.023256   \n",
       "2191  0.005064  0.289216            0.276    0.178404      0.581395   \n",
       "\n",
       "      Num_companies  Num_production_countries     revenue     predicted  \\\n",
       "2228       0.043478                  0.111111     65000.0  3.986532e+07   \n",
       "548        0.130435                  0.000000    155640.0  1.702947e+07   \n",
       "202        0.000000                  0.000000     79298.0  4.860124e+06   \n",
       "271        0.304348                  0.111111     76933.0  3.497150e+06   \n",
       "642        0.130435                  0.111111    518842.0  1.979870e+07   \n",
       "1720       0.043478                  0.000000    194827.0  5.973936e+06   \n",
       "1351       0.000000                  0.000000   4443890.0  6.576815e+07   \n",
       "355        0.043478                  0.000000    208027.0  2.472755e+06   \n",
       "1313       0.000000                  0.000000   2800000.0  2.912136e+07   \n",
       "1635       0.000000                  0.000000    670957.0  5.429436e+06   \n",
       "33         0.217391                  0.000000    624913.0  4.623937e+06   \n",
       "661        0.043478                  0.000000  10788000.0  7.413446e+07   \n",
       "1891       0.608696                  0.333333   1217307.0  8.211832e+06   \n",
       "1780       0.000000                  0.000000  14233249.0  9.165848e+07   \n",
       "455        0.086957                  0.000000   1999525.0  1.154949e+07   \n",
       "1124       0.043478                  0.000000   5359645.0  3.022427e+07   \n",
       "609        0.086957                  0.111111  26029578.0  1.337385e+08   \n",
       "147        0.000000                  0.000000  35743308.0  1.746593e+08   \n",
       "357        0.043478                  0.111111  10712024.0  5.207051e+07   \n",
       "2191       0.043478                  0.000000  15151744.0  6.981530e+07   \n",
       "\n",
       "         residuals       Per_Err  \n",
       "2228 -3.980032e+07  61231.266051  \n",
       "548  -1.687383e+07  10841.573785  \n",
       "202  -4.780826e+06   6028.936373  \n",
       "271  -3.420217e+06   4445.708926  \n",
       "642  -1.927985e+07   3715.939464  \n",
       "1720 -5.779109e+06   2966.277465  \n",
       "1351 -6.132426e+07   1379.968021  \n",
       "355  -2.264728e+06   1088.670004  \n",
       "1313 -2.632136e+07    940.048715  \n",
       "1635 -4.758479e+06    709.207690  \n",
       "33   -3.999024e+06    639.932888  \n",
       "661  -6.334646e+07    587.193707  \n",
       "1891 -6.994525e+06    574.590018  \n",
       "1780 -7.742523e+07    543.974393  \n",
       "455  -9.549969e+06    477.611900  \n",
       "1124 -2.486463e+07    463.923002  \n",
       "609  -1.077089e+08    413.794218  \n",
       "147  -1.389160e+08    388.648941  \n",
       "357  -4.135849e+07    386.094075  \n",
       "2191 -5.466355e+07    360.774013  "
      ]
     },
     "execution_count": 62,
     "metadata": {},
     "output_type": "execute_result"
    }
   ],
   "source": [
    "gb = gb.sort_values(by=('Numerical', 'Per_Err'), ascending=False)\n",
    "gb['Numerical'].head(20)"
   ]
  },
  {
   "cell_type": "markdown",
   "id": "5bcd0866",
   "metadata": {},
   "source": [
    "It seems that most of my error is coming from the model significantly over-predicting revenue of films with the test data. It's worth examining how many of these films have an error above our target of 20% and how many are below. "
   ]
  },
  {
   "cell_type": "code",
   "execution_count": 63,
   "id": "e15254cc",
   "metadata": {},
   "outputs": [
    {
     "data": {
      "text/plain": [
       "302"
      ]
     },
     "execution_count": 63,
     "metadata": {},
     "output_type": "execute_result"
    }
   ],
   "source": [
    "gb['Numerical', 'Per_Err'][gb['Numerical', 'Per_Err']>20].count()"
   ]
  },
  {
   "cell_type": "markdown",
   "id": "2b9d8b00",
   "metadata": {},
   "source": [
    "Okay, not great.  Of the 397 films in our test set only 97 fall within our target percentage for error.  Let's take a look at more detailed information on the numerical data. "
   ]
  },
  {
   "cell_type": "code",
   "execution_count": 64,
   "id": "f046c1ff",
   "metadata": {},
   "outputs": [
    {
     "data": {
      "text/html": [
       "<div>\n",
       "<style scoped>\n",
       "    .dataframe tbody tr th:only-of-type {\n",
       "        vertical-align: middle;\n",
       "    }\n",
       "\n",
       "    .dataframe tbody tr th {\n",
       "        vertical-align: top;\n",
       "    }\n",
       "\n",
       "    .dataframe thead th {\n",
       "        text-align: right;\n",
       "    }\n",
       "</style>\n",
       "<table border=\"1\" class=\"dataframe\">\n",
       "  <thead>\n",
       "    <tr style=\"text-align: right;\">\n",
       "      <th></th>\n",
       "      <th>Per_Err</th>\n",
       "      <th>residuals</th>\n",
       "      <th>predicted</th>\n",
       "      <th>revenue</th>\n",
       "      <th>Num_production_countries</th>\n",
       "      <th>Num_companies</th>\n",
       "      <th>Num_keywords</th>\n",
       "      <th>Tag_length</th>\n",
       "      <th>Overview_length</th>\n",
       "      <th>runtime</th>\n",
       "      <th>budget</th>\n",
       "    </tr>\n",
       "  </thead>\n",
       "  <tbody>\n",
       "    <tr>\n",
       "      <th>count</th>\n",
       "      <td>397.000000</td>\n",
       "      <td>3.970000e+02</td>\n",
       "      <td>3.970000e+02</td>\n",
       "      <td>3.970000e+02</td>\n",
       "      <td>397.000000</td>\n",
       "      <td>397.000000</td>\n",
       "      <td>397.000000</td>\n",
       "      <td>397.000000</td>\n",
       "      <td>397.000000</td>\n",
       "      <td>397.000000</td>\n",
       "      <td>397.000000</td>\n",
       "    </tr>\n",
       "    <tr>\n",
       "      <th>mean</th>\n",
       "      <td>293.807509</td>\n",
       "      <td>3.499185e+07</td>\n",
       "      <td>7.293645e+07</td>\n",
       "      <td>8.665712e+07</td>\n",
       "      <td>0.052057</td>\n",
       "      <td>0.105355</td>\n",
       "      <td>0.174506</td>\n",
       "      <td>0.178510</td>\n",
       "      <td>0.303829</td>\n",
       "      <td>0.331605</td>\n",
       "      <td>0.180090</td>\n",
       "    </tr>\n",
       "    <tr>\n",
       "      <th>std</th>\n",
       "      <td>3146.235772</td>\n",
       "      <td>3.805856e+07</td>\n",
       "      <td>5.432548e+07</td>\n",
       "      <td>6.574226e+07</td>\n",
       "      <td>0.101868</td>\n",
       "      <td>0.112067</td>\n",
       "      <td>0.136022</td>\n",
       "      <td>0.126722</td>\n",
       "      <td>0.153541</td>\n",
       "      <td>0.102011</td>\n",
       "      <td>0.151071</td>\n",
       "    </tr>\n",
       "    <tr>\n",
       "      <th>min</th>\n",
       "      <td>0.003743</td>\n",
       "      <td>7.516262e+03</td>\n",
       "      <td>3.933106e+05</td>\n",
       "      <td>6.500000e+04</td>\n",
       "      <td>0.000000</td>\n",
       "      <td>0.000000</td>\n",
       "      <td>0.000000</td>\n",
       "      <td>0.000000</td>\n",
       "      <td>0.058000</td>\n",
       "      <td>0.132353</td>\n",
       "      <td>0.000076</td>\n",
       "    </tr>\n",
       "    <tr>\n",
       "      <th>25%</th>\n",
       "      <td>21.070792</td>\n",
       "      <td>8.325200e+06</td>\n",
       "      <td>2.365942e+07</td>\n",
       "      <td>2.909047e+07</td>\n",
       "      <td>0.000000</td>\n",
       "      <td>0.043478</td>\n",
       "      <td>0.069767</td>\n",
       "      <td>0.107981</td>\n",
       "      <td>0.179000</td>\n",
       "      <td>0.264706</td>\n",
       "      <td>0.070896</td>\n",
       "    </tr>\n",
       "    <tr>\n",
       "      <th>50%</th>\n",
       "      <td>41.138775</td>\n",
       "      <td>2.200081e+07</td>\n",
       "      <td>6.576815e+07</td>\n",
       "      <td>7.539505e+07</td>\n",
       "      <td>0.000000</td>\n",
       "      <td>0.086957</td>\n",
       "      <td>0.139535</td>\n",
       "      <td>0.154930</td>\n",
       "      <td>0.284000</td>\n",
       "      <td>0.313725</td>\n",
       "      <td>0.159517</td>\n",
       "    </tr>\n",
       "    <tr>\n",
       "      <th>75%</th>\n",
       "      <td>68.668886</td>\n",
       "      <td>4.627183e+07</td>\n",
       "      <td>1.081737e+08</td>\n",
       "      <td>1.304314e+08</td>\n",
       "      <td>0.111111</td>\n",
       "      <td>0.130435</td>\n",
       "      <td>0.255814</td>\n",
       "      <td>0.234742</td>\n",
       "      <td>0.395000</td>\n",
       "      <td>0.377451</td>\n",
       "      <td>0.253201</td>\n",
       "    </tr>\n",
       "    <tr>\n",
       "      <th>max</th>\n",
       "      <td>61231.266051</td>\n",
       "      <td>1.944147e+08</td>\n",
       "      <td>2.309345e+08</td>\n",
       "      <td>2.566975e+08</td>\n",
       "      <td>0.888889</td>\n",
       "      <td>0.913043</td>\n",
       "      <td>0.674419</td>\n",
       "      <td>1.000000</td>\n",
       "      <td>0.853000</td>\n",
       "      <td>1.000000</td>\n",
       "      <td>0.987483</td>\n",
       "    </tr>\n",
       "  </tbody>\n",
       "</table>\n",
       "</div>"
      ],
      "text/plain": [
       "            Per_Err     residuals     predicted       revenue  \\\n",
       "count    397.000000  3.970000e+02  3.970000e+02  3.970000e+02   \n",
       "mean     293.807509  3.499185e+07  7.293645e+07  8.665712e+07   \n",
       "std     3146.235772  3.805856e+07  5.432548e+07  6.574226e+07   \n",
       "min        0.003743  7.516262e+03  3.933106e+05  6.500000e+04   \n",
       "25%       21.070792  8.325200e+06  2.365942e+07  2.909047e+07   \n",
       "50%       41.138775  2.200081e+07  6.576815e+07  7.539505e+07   \n",
       "75%       68.668886  4.627183e+07  1.081737e+08  1.304314e+08   \n",
       "max    61231.266051  1.944147e+08  2.309345e+08  2.566975e+08   \n",
       "\n",
       "       Num_production_countries  Num_companies  Num_keywords  Tag_length  \\\n",
       "count                397.000000     397.000000    397.000000  397.000000   \n",
       "mean                   0.052057       0.105355      0.174506    0.178510   \n",
       "std                    0.101868       0.112067      0.136022    0.126722   \n",
       "min                    0.000000       0.000000      0.000000    0.000000   \n",
       "25%                    0.000000       0.043478      0.069767    0.107981   \n",
       "50%                    0.000000       0.086957      0.139535    0.154930   \n",
       "75%                    0.111111       0.130435      0.255814    0.234742   \n",
       "max                    0.888889       0.913043      0.674419    1.000000   \n",
       "\n",
       "       Overview_length     runtime      budget  \n",
       "count       397.000000  397.000000  397.000000  \n",
       "mean          0.303829    0.331605    0.180090  \n",
       "std           0.153541    0.102011    0.151071  \n",
       "min           0.058000    0.132353    0.000076  \n",
       "25%           0.179000    0.264706    0.070896  \n",
       "50%           0.284000    0.313725    0.159517  \n",
       "75%           0.395000    0.377451    0.253201  \n",
       "max           0.853000    1.000000    0.987483  "
      ]
     },
     "execution_count": 64,
     "metadata": {},
     "output_type": "execute_result"
    }
   ],
   "source": [
    "#Statistical summary of the residuals, percent error, and predicted vs true values\n",
    "GB = gb\n",
    "GB['Numerical', 'residuals'] = GB['Numerical', 'residuals'].apply(np.abs)\n",
    "GB['Numerical'].iloc[:, ::-1].describe()"
   ]
  },
  {
   "cell_type": "markdown",
   "id": "35fc57e3",
   "metadata": {},
   "source": [
    "It seems that about 25% of the predicted values are falling within the target error of 20%.  The next two quartiles increase at a similar rate to 66% at the 3rd quartile.  Beyond that error sharply increases for the remaining 25% of the test set.   I want to plot a heatmap for the films with the worst revenue and see how these features are related and plot the residuals for this model."
   ]
  },
  {
   "cell_type": "code",
   "execution_count": 68,
   "id": "5d5c8b70",
   "metadata": {},
   "outputs": [
    {
     "data": {
      "image/png": "[encoded data removed]",
      "text/plain": [
       "<Figure size 1080x720 with 1 Axes>"
      ]
     },
     "metadata": {
      "needs_background": "light"
     },
     "output_type": "display_data"
    }
   ],
   "source": [
    "plt.figure(figsize=(15,10))\n",
    "plt.hist(gb_residuals,color='grey', bins=100)\n",
    "plt.axvline(x=0, color='k')\n",
    "# Blue line is the mean of residuals, red lines mark 95% confidence intervals\n",
    "plt.axvline(x=gb_residuals.mean(), color='b')\n",
    "plt.axvline(x=150101515, color='r', ls='--')\n",
    "plt.axvline(x=-63353025, color='r', ls='--')\n",
    "plt.title('Residual error distribution');"
   ]
  },
  {
   "cell_type": "code",
   "execution_count": 72,
   "id": "fecb4068",
   "metadata": {},
   "outputs": [
    {
     "name": "stdout",
     "output_type": "stream",
     "text": [
      "Each prediction could vary by as much as $ 148128711.59  above the predicted value, and $ 63702217.71 below the predicted value.\n"
     ]
    }
   ],
   "source": [
    "Upper = gb_residuals.quantile(0.975)\n",
    "Lower = gb_residuals.quantile(0.025)\n",
    "print('Each prediction could vary by as much as $', str(round(Upper, 2)), ' above the predicted value, and $', \n",
    "      str(round(np.abs(Lower), 2)), 'below the predicted value.')"
   ]
  },
  {
   "cell_type": "code",
   "execution_count": 76,
   "id": "0dbc3b33",
   "metadata": {},
   "outputs": [
    {
     "name": "stdout",
     "output_type": "stream",
     "text": [
      "-2.735507832525234e-09 1.1411660646290125 6381673.367090789\n"
     ]
    }
   ],
   "source": [
    "a, b, d = np.polyfit(exp_y_test, grade_preds, 2)\n",
    "print(a, b, d)"
   ]
  },
  {
   "cell_type": "code",
   "execution_count": 99,
   "id": "b9f2c057",
   "metadata": {},
   "outputs": [
    {
     "data": {
      "image/png": "[encoded data removed]",
      "text/plain": [
       "<Figure size 576x576 with 1 Axes>"
      ]
     },
     "metadata": {
      "needs_background": "light"
     },
     "output_type": "display_data"
    }
   ],
   "source": [
    "# Plotting predicted vs true values with line of 0 Percent error in red, and error window in green\n",
    "plt.figure(figsize=(8,8))\n",
    "plt.scatter(exp_y_test, grade_preds, alpha=0.5, color='grey')\n",
    "plt.title('Optimized Gradient Boosting Model')\n",
    "plt.ylabel('Predicted Values')\n",
    "plt.xlabel('True Values')\n",
    "plt.plot(exp_y_test, exp_y_test, color='r')\n",
    "plt.axhline(y=0, color='k')\n",
    "#plotting error on graph\n",
    "x = np.arange(-1, 2.5e8, 1000)\n",
    "plt.fill_between(x, (a*x**2 + b*x + d)+Lower, (a*x**2 + b*x + d)+Upper, alpha=0.25, color='g');"
   ]
  },
  {
   "cell_type": "markdown",
   "id": "8e3448d6",
   "metadata": {},
   "source": [
    "### Residual Analysis Conclusion\n",
    "\n",
    "While The error I have is NOT great, or anywhere near the target.  It IS useable.  With this gradient boosting model I can predict the revenue of a film with 95% confidence that that revenue will be over-predicted by 63,353,025.38 USD, or under-predicted by 150,101,515.39 USD.  While this is not precise in the slightest, this is much better for a business to base decisions around since I would almost always prefer to over-predict rather than under-predict.  \n",
    "\n",
    "Additionally by reducing the dimensionality of this data set it is much easier to fill in the required information to predict revenue using the information a stakeholder who is working on a film will have at hand.  This makes it much easier to test the affect of making a specific adjustment - want to see what happens if you do increase the budget by 10 million to pay for on-location filming in Costa Rica? Simple adjustment to make. "
   ]
  }
 ],
 "metadata": {
  "kernelspec": {
   "display_name": "Python 3",
   "language": "python",
   "name": "python3"
  },
  "language_info": {
   "codemirror_mode": {
    "name": "ipython",
    "version": 3
   },
   "file_extension": ".py",
   "mimetype": "text/x-python",
   "name": "python",
   "nbconvert_exporter": "python",
   "pygments_lexer": "ipython3",
   "version": "3.8.10"
  }
 },
 "nbformat": 4,
 "nbformat_minor": 5
}
