{
 "cells": [
  {
   "cell_type": "markdown",
   "metadata": {},
   "source": [
    "# Box Office Revenue Predictictive Models\n",
    "\n",
    "### Data Wrangling Notebook\n",
    "\n",
    "\n",
    "The purpose of this project is to further practice building my own models in order to build and evaluate the performance of models that predict the revenue of movies, as a function of features associated with them.\n",
    "\n",
    "These models will be evaluated against relevant KPI's (R-squared, Mean Absolute Error, MAE^2), and the best model will be used to predict revenue performance for movies in a world where theaters continued to stay open in 2020 and 2021.  \n",
    "\n",
    "This notebook's purpose is to prepare the data set(s) for exploratory analysis in a subsequent notebook. "
   ]
  },
  {
   "cell_type": "code",
   "execution_count": 1,
   "metadata": {},
   "outputs": [],
   "source": [
    "import pandas as pd\n",
    "import matplotlib.pyplot as plt\n",
    "import numpy as np\n",
    "import seaborn as sns\n",
    "import os\n",
    "import ast\n",
    "from imdb import IMDb"
   ]
  },
  {
   "cell_type": "markdown",
   "metadata": {},
   "source": [
    "**Load Box office data**\n",
    "\n",
    "Here I load in both .csv files with the box-office data.  The data was pre-split for a Kaggle competition years ago. In this instance I chose to merge both files into a single dataframe and later will use SciKit Learn to create a new train/test split for modeling. \n",
    "\n",
    "Data Source: \n",
    "\n",
    "Kaggle. (May 2019). TMDB Box Office Prediction, V1. Retrieved 04/16/2021 from https://www.kaggle.com/c/tmdb-box-office-prediction/data."
   ]
  },
  {
   "cell_type": "code",
   "execution_count": 2,
   "metadata": {},
   "outputs": [
    {
     "data": {
      "text/html": [
       "<div>\n",
       "<style scoped>\n",
       "    .dataframe tbody tr th:only-of-type {\n",
       "        vertical-align: middle;\n",
       "    }\n",
       "\n",
       "    .dataframe tbody tr th {\n",
       "        vertical-align: top;\n",
       "    }\n",
       "\n",
       "    .dataframe thead th {\n",
       "        text-align: right;\n",
       "    }\n",
       "</style>\n",
       "<table border=\"1\" class=\"dataframe\">\n",
       "  <thead>\n",
       "    <tr style=\"text-align: right;\">\n",
       "      <th></th>\n",
       "      <th>id</th>\n",
       "      <th>belongs_to_collection</th>\n",
       "      <th>budget</th>\n",
       "      <th>genres</th>\n",
       "      <th>homepage</th>\n",
       "      <th>imdb_id</th>\n",
       "      <th>original_language</th>\n",
       "      <th>original_title</th>\n",
       "      <th>overview</th>\n",
       "      <th>popularity</th>\n",
       "      <th>...</th>\n",
       "      <th>release_date</th>\n",
       "      <th>runtime</th>\n",
       "      <th>spoken_languages</th>\n",
       "      <th>status</th>\n",
       "      <th>tagline</th>\n",
       "      <th>title</th>\n",
       "      <th>Keywords</th>\n",
       "      <th>cast</th>\n",
       "      <th>crew</th>\n",
       "      <th>revenue</th>\n",
       "    </tr>\n",
       "  </thead>\n",
       "  <tbody>\n",
       "    <tr>\n",
       "      <th>0</th>\n",
       "      <td>1</td>\n",
       "      <td>[{'id': 313576, ...</td>\n",
       "      <td>14000000</td>\n",
       "      <td>[{'id': 35, 'nam...</td>\n",
       "      <td>NaN</td>\n",
       "      <td>tt2637294</td>\n",
       "      <td>en</td>\n",
       "      <td>Hot Tub Time Mac...</td>\n",
       "      <td>When Lou, who ha...</td>\n",
       "      <td>6.575393</td>\n",
       "      <td>...</td>\n",
       "      <td>2/20/15</td>\n",
       "      <td>93.0</td>\n",
       "      <td>[{'iso_639_1': '...</td>\n",
       "      <td>Released</td>\n",
       "      <td>The Laws of Spac...</td>\n",
       "      <td>Hot Tub Time Mac...</td>\n",
       "      <td>[{'id': 4379, 'n...</td>\n",
       "      <td>[{'cast_id': 4, ...</td>\n",
       "      <td>[{'credit_id': '...</td>\n",
       "      <td>12314651</td>\n",
       "    </tr>\n",
       "    <tr>\n",
       "      <th>1</th>\n",
       "      <td>2</td>\n",
       "      <td>[{'id': 107674, ...</td>\n",
       "      <td>40000000</td>\n",
       "      <td>[{'id': 35, 'nam...</td>\n",
       "      <td>NaN</td>\n",
       "      <td>tt0368933</td>\n",
       "      <td>en</td>\n",
       "      <td>The Princess Dia...</td>\n",
       "      <td>Mia Thermopolis ...</td>\n",
       "      <td>8.248895</td>\n",
       "      <td>...</td>\n",
       "      <td>8/6/04</td>\n",
       "      <td>113.0</td>\n",
       "      <td>[{'iso_639_1': '...</td>\n",
       "      <td>Released</td>\n",
       "      <td>It can take a li...</td>\n",
       "      <td>The Princess Dia...</td>\n",
       "      <td>[{'id': 2505, 'n...</td>\n",
       "      <td>[{'cast_id': 1, ...</td>\n",
       "      <td>[{'credit_id': '...</td>\n",
       "      <td>95149435</td>\n",
       "    </tr>\n",
       "    <tr>\n",
       "      <th>2</th>\n",
       "      <td>3</td>\n",
       "      <td>NaN</td>\n",
       "      <td>3300000</td>\n",
       "      <td>[{'id': 18, 'nam...</td>\n",
       "      <td>http://sonyclass...</td>\n",
       "      <td>tt2582802</td>\n",
       "      <td>en</td>\n",
       "      <td>Whiplash</td>\n",
       "      <td>Under the direct...</td>\n",
       "      <td>64.299990</td>\n",
       "      <td>...</td>\n",
       "      <td>10/10/14</td>\n",
       "      <td>105.0</td>\n",
       "      <td>[{'iso_639_1': '...</td>\n",
       "      <td>Released</td>\n",
       "      <td>The road to grea...</td>\n",
       "      <td>Whiplash</td>\n",
       "      <td>[{'id': 1416, 'n...</td>\n",
       "      <td>[{'cast_id': 5, ...</td>\n",
       "      <td>[{'credit_id': '...</td>\n",
       "      <td>13092000</td>\n",
       "    </tr>\n",
       "    <tr>\n",
       "      <th>3</th>\n",
       "      <td>4</td>\n",
       "      <td>NaN</td>\n",
       "      <td>1200000</td>\n",
       "      <td>[{'id': 53, 'nam...</td>\n",
       "      <td>http://kahaanith...</td>\n",
       "      <td>tt1821480</td>\n",
       "      <td>hi</td>\n",
       "      <td>Kahaani</td>\n",
       "      <td>Vidya Bagchi (Vi...</td>\n",
       "      <td>3.174936</td>\n",
       "      <td>...</td>\n",
       "      <td>3/9/12</td>\n",
       "      <td>122.0</td>\n",
       "      <td>[{'iso_639_1': '...</td>\n",
       "      <td>Released</td>\n",
       "      <td>NaN</td>\n",
       "      <td>Kahaani</td>\n",
       "      <td>[{'id': 10092, '...</td>\n",
       "      <td>[{'cast_id': 1, ...</td>\n",
       "      <td>[{'credit_id': '...</td>\n",
       "      <td>16000000</td>\n",
       "    </tr>\n",
       "    <tr>\n",
       "      <th>4</th>\n",
       "      <td>5</td>\n",
       "      <td>NaN</td>\n",
       "      <td>0</td>\n",
       "      <td>[{'id': 28, 'nam...</td>\n",
       "      <td>NaN</td>\n",
       "      <td>tt1380152</td>\n",
       "      <td>ko</td>\n",
       "      <td>마린보이</td>\n",
       "      <td>Marine Boy is th...</td>\n",
       "      <td>1.148070</td>\n",
       "      <td>...</td>\n",
       "      <td>2/5/09</td>\n",
       "      <td>118.0</td>\n",
       "      <td>[{'iso_639_1': '...</td>\n",
       "      <td>Released</td>\n",
       "      <td>NaN</td>\n",
       "      <td>Marine Boy</td>\n",
       "      <td>NaN</td>\n",
       "      <td>[{'cast_id': 3, ...</td>\n",
       "      <td>[{'credit_id': '...</td>\n",
       "      <td>3923970</td>\n",
       "    </tr>\n",
       "  </tbody>\n",
       "</table>\n",
       "<p>5 rows × 23 columns</p>\n",
       "</div>"
      ],
      "text/plain": [
       "   id belongs_to_collection    budget               genres  \\\n",
       "0   1  [{'id': 313576, ...   14000000  [{'id': 35, 'nam...   \n",
       "1   2  [{'id': 107674, ...   40000000  [{'id': 35, 'nam...   \n",
       "2   3                  NaN    3300000  [{'id': 18, 'nam...   \n",
       "3   4                  NaN    1200000  [{'id': 53, 'nam...   \n",
       "4   5                  NaN          0  [{'id': 28, 'nam...   \n",
       "\n",
       "              homepage    imdb_id original_language       original_title  \\\n",
       "0                  NaN  tt2637294                en  Hot Tub Time Mac...   \n",
       "1                  NaN  tt0368933                en  The Princess Dia...   \n",
       "2  http://sonyclass...  tt2582802                en             Whiplash   \n",
       "3  http://kahaanith...  tt1821480                hi              Kahaani   \n",
       "4                  NaN  tt1380152                ko                 마린보이   \n",
       "\n",
       "              overview  popularity  ... release_date runtime  \\\n",
       "0  When Lou, who ha...    6.575393  ...      2/20/15    93.0   \n",
       "1  Mia Thermopolis ...    8.248895  ...       8/6/04   113.0   \n",
       "2  Under the direct...   64.299990  ...     10/10/14   105.0   \n",
       "3  Vidya Bagchi (Vi...    3.174936  ...       3/9/12   122.0   \n",
       "4  Marine Boy is th...    1.148070  ...       2/5/09   118.0   \n",
       "\n",
       "      spoken_languages    status              tagline                title  \\\n",
       "0  [{'iso_639_1': '...  Released  The Laws of Spac...  Hot Tub Time Mac...   \n",
       "1  [{'iso_639_1': '...  Released  It can take a li...  The Princess Dia...   \n",
       "2  [{'iso_639_1': '...  Released  The road to grea...             Whiplash   \n",
       "3  [{'iso_639_1': '...  Released                  NaN              Kahaani   \n",
       "4  [{'iso_639_1': '...  Released                  NaN           Marine Boy   \n",
       "\n",
       "              Keywords                 cast                 crew   revenue  \n",
       "0  [{'id': 4379, 'n...  [{'cast_id': 4, ...  [{'credit_id': '...  12314651  \n",
       "1  [{'id': 2505, 'n...  [{'cast_id': 1, ...  [{'credit_id': '...  95149435  \n",
       "2  [{'id': 1416, 'n...  [{'cast_id': 5, ...  [{'credit_id': '...  13092000  \n",
       "3  [{'id': 10092, '...  [{'cast_id': 1, ...  [{'credit_id': '...  16000000  \n",
       "4                  NaN  [{'cast_id': 3, ...  [{'credit_id': '...   3923970  \n",
       "\n",
       "[5 rows x 23 columns]"
      ]
     },
     "execution_count": 2,
     "metadata": {},
     "output_type": "execute_result"
    }
   ],
   "source": [
    "boxoffice = pd.read_csv(r'C:\\Users\\deann\\Documents\\Data\\Box Office Prediction Data\\train.csv')\n",
    "\n",
    "pd.set_option(\"display.max_colwidth\", 20)\n",
    "\n",
    "boxoffice.head()"
   ]
  },
  {
   "cell_type": "markdown",
   "metadata": {},
   "source": [
    "Pulling up basic summary statistics for both .csv's"
   ]
  },
  {
   "cell_type": "code",
   "execution_count": 3,
   "metadata": {},
   "outputs": [
    {
     "data": {
      "text/html": [
       "<div>\n",
       "<style scoped>\n",
       "    .dataframe tbody tr th:only-of-type {\n",
       "        vertical-align: middle;\n",
       "    }\n",
       "\n",
       "    .dataframe tbody tr th {\n",
       "        vertical-align: top;\n",
       "    }\n",
       "\n",
       "    .dataframe thead th {\n",
       "        text-align: right;\n",
       "    }\n",
       "</style>\n",
       "<table border=\"1\" class=\"dataframe\">\n",
       "  <thead>\n",
       "    <tr style=\"text-align: right;\">\n",
       "      <th></th>\n",
       "      <th>id</th>\n",
       "      <th>budget</th>\n",
       "      <th>popularity</th>\n",
       "      <th>runtime</th>\n",
       "      <th>revenue</th>\n",
       "    </tr>\n",
       "  </thead>\n",
       "  <tbody>\n",
       "    <tr>\n",
       "      <th>count</th>\n",
       "      <td>3000.000000</td>\n",
       "      <td>3.000000e+03</td>\n",
       "      <td>3000.000000</td>\n",
       "      <td>2998.000000</td>\n",
       "      <td>3.000000e+03</td>\n",
       "    </tr>\n",
       "    <tr>\n",
       "      <th>mean</th>\n",
       "      <td>1500.500000</td>\n",
       "      <td>2.253133e+07</td>\n",
       "      <td>8.463274</td>\n",
       "      <td>107.856571</td>\n",
       "      <td>6.672585e+07</td>\n",
       "    </tr>\n",
       "    <tr>\n",
       "      <th>std</th>\n",
       "      <td>866.169729</td>\n",
       "      <td>3.702609e+07</td>\n",
       "      <td>12.104000</td>\n",
       "      <td>22.086434</td>\n",
       "      <td>1.375323e+08</td>\n",
       "    </tr>\n",
       "    <tr>\n",
       "      <th>min</th>\n",
       "      <td>1.000000</td>\n",
       "      <td>0.000000e+00</td>\n",
       "      <td>0.000001</td>\n",
       "      <td>0.000000</td>\n",
       "      <td>1.000000e+00</td>\n",
       "    </tr>\n",
       "    <tr>\n",
       "      <th>25%</th>\n",
       "      <td>750.750000</td>\n",
       "      <td>0.000000e+00</td>\n",
       "      <td>4.018053</td>\n",
       "      <td>94.000000</td>\n",
       "      <td>2.379808e+06</td>\n",
       "    </tr>\n",
       "    <tr>\n",
       "      <th>50%</th>\n",
       "      <td>1500.500000</td>\n",
       "      <td>8.000000e+06</td>\n",
       "      <td>7.374861</td>\n",
       "      <td>104.000000</td>\n",
       "      <td>1.680707e+07</td>\n",
       "    </tr>\n",
       "    <tr>\n",
       "      <th>75%</th>\n",
       "      <td>2250.250000</td>\n",
       "      <td>2.900000e+07</td>\n",
       "      <td>10.890983</td>\n",
       "      <td>118.000000</td>\n",
       "      <td>6.891920e+07</td>\n",
       "    </tr>\n",
       "    <tr>\n",
       "      <th>max</th>\n",
       "      <td>3000.000000</td>\n",
       "      <td>3.800000e+08</td>\n",
       "      <td>294.337037</td>\n",
       "      <td>338.000000</td>\n",
       "      <td>1.519558e+09</td>\n",
       "    </tr>\n",
       "  </tbody>\n",
       "</table>\n",
       "</div>"
      ],
      "text/plain": [
       "                id        budget   popularity      runtime       revenue\n",
       "count  3000.000000  3.000000e+03  3000.000000  2998.000000  3.000000e+03\n",
       "mean   1500.500000  2.253133e+07     8.463274   107.856571  6.672585e+07\n",
       "std     866.169729  3.702609e+07    12.104000    22.086434  1.375323e+08\n",
       "min       1.000000  0.000000e+00     0.000001     0.000000  1.000000e+00\n",
       "25%     750.750000  0.000000e+00     4.018053    94.000000  2.379808e+06\n",
       "50%    1500.500000  8.000000e+06     7.374861   104.000000  1.680707e+07\n",
       "75%    2250.250000  2.900000e+07    10.890983   118.000000  6.891920e+07\n",
       "max    3000.000000  3.800000e+08   294.337037   338.000000  1.519558e+09"
      ]
     },
     "execution_count": 3,
     "metadata": {},
     "output_type": "execute_result"
    }
   ],
   "source": [
    "boxoffice.describe()"
   ]
  },
  {
   "cell_type": "markdown",
   "metadata": {},
   "source": [
    "Here I can see that there are few numeric features for this dataset - determining what other data types I'll be working with is going to be important before going too far with the data here. "
   ]
  },
  {
   "cell_type": "markdown",
   "metadata": {},
   "source": [
    "I'm also going to remove the scientific notation from Pandas for this dataset.  The maximum numeric value in the entire set is 1.5 billion - which has more digits when written with scientific notation than without.  In a different scenario the notation might be helpful but since it's not something I use regularly I'll remove it for the time being to make my data more readable. "
   ]
  },
  {
   "cell_type": "code",
   "execution_count": 4,
   "metadata": {},
   "outputs": [
    {
     "data": {
      "text/html": [
       "<div>\n",
       "<style scoped>\n",
       "    .dataframe tbody tr th:only-of-type {\n",
       "        vertical-align: middle;\n",
       "    }\n",
       "\n",
       "    .dataframe tbody tr th {\n",
       "        vertical-align: top;\n",
       "    }\n",
       "\n",
       "    .dataframe thead th {\n",
       "        text-align: right;\n",
       "    }\n",
       "</style>\n",
       "<table border=\"1\" class=\"dataframe\">\n",
       "  <thead>\n",
       "    <tr style=\"text-align: right;\">\n",
       "      <th></th>\n",
       "      <th>id</th>\n",
       "      <th>budget</th>\n",
       "      <th>popularity</th>\n",
       "      <th>runtime</th>\n",
       "      <th>revenue</th>\n",
       "    </tr>\n",
       "  </thead>\n",
       "  <tbody>\n",
       "    <tr>\n",
       "      <th>count</th>\n",
       "      <td>3,000.00</td>\n",
       "      <td>3,000.00</td>\n",
       "      <td>3,000.00</td>\n",
       "      <td>2,998.00</td>\n",
       "      <td>3,000.00</td>\n",
       "    </tr>\n",
       "    <tr>\n",
       "      <th>mean</th>\n",
       "      <td>1,500.50</td>\n",
       "      <td>22,531,334.11</td>\n",
       "      <td>8.46</td>\n",
       "      <td>107.86</td>\n",
       "      <td>66,725,851.89</td>\n",
       "    </tr>\n",
       "    <tr>\n",
       "      <th>std</th>\n",
       "      <td>866.17</td>\n",
       "      <td>37,026,086.41</td>\n",
       "      <td>12.10</td>\n",
       "      <td>22.09</td>\n",
       "      <td>137,532,326.34</td>\n",
       "    </tr>\n",
       "    <tr>\n",
       "      <th>min</th>\n",
       "      <td>1.00</td>\n",
       "      <td>0.00</td>\n",
       "      <td>0.00</td>\n",
       "      <td>0.00</td>\n",
       "      <td>1.00</td>\n",
       "    </tr>\n",
       "    <tr>\n",
       "      <th>25%</th>\n",
       "      <td>750.75</td>\n",
       "      <td>0.00</td>\n",
       "      <td>4.02</td>\n",
       "      <td>94.00</td>\n",
       "      <td>2,379,808.25</td>\n",
       "    </tr>\n",
       "    <tr>\n",
       "      <th>50%</th>\n",
       "      <td>1,500.50</td>\n",
       "      <td>8,000,000.00</td>\n",
       "      <td>7.37</td>\n",
       "      <td>104.00</td>\n",
       "      <td>16,807,068.00</td>\n",
       "    </tr>\n",
       "    <tr>\n",
       "      <th>75%</th>\n",
       "      <td>2,250.25</td>\n",
       "      <td>29,000,000.00</td>\n",
       "      <td>10.89</td>\n",
       "      <td>118.00</td>\n",
       "      <td>68,919,203.50</td>\n",
       "    </tr>\n",
       "    <tr>\n",
       "      <th>max</th>\n",
       "      <td>3,000.00</td>\n",
       "      <td>380,000,000.00</td>\n",
       "      <td>294.34</td>\n",
       "      <td>338.00</td>\n",
       "      <td>1,519,557,910.00</td>\n",
       "    </tr>\n",
       "  </tbody>\n",
       "</table>\n",
       "</div>"
      ],
      "text/plain": [
       "            id         budget  popularity  runtime          revenue\n",
       "count 3,000.00       3,000.00    3,000.00 2,998.00         3,000.00\n",
       "mean  1,500.50  22,531,334.11        8.46   107.86    66,725,851.89\n",
       "std     866.17  37,026,086.41       12.10    22.09   137,532,326.34\n",
       "min       1.00           0.00        0.00     0.00             1.00\n",
       "25%     750.75           0.00        4.02    94.00     2,379,808.25\n",
       "50%   1,500.50   8,000,000.00        7.37   104.00    16,807,068.00\n",
       "75%   2,250.25  29,000,000.00       10.89   118.00    68,919,203.50\n",
       "max   3,000.00 380,000,000.00      294.34   338.00 1,519,557,910.00"
      ]
     },
     "execution_count": 4,
     "metadata": {},
     "output_type": "execute_result"
    }
   ],
   "source": [
    "pd.options.display.float_format = '{:,.2f}'.format\n",
    "\n",
    "boxoffice.describe()"
   ]
  },
  {
   "cell_type": "markdown",
   "metadata": {},
   "source": [
    "While removing scientific notation does make this more readable - the floats have and unessecary degree of precision and I'd like to include some comma separators for mroe readability so I'll adjust that pandas setting here as well. \n",
    "\n",
    "It's time to take a look at the first portion of the combined data frame as well. "
   ]
  },
  {
   "cell_type": "code",
   "execution_count": 5,
   "metadata": {},
   "outputs": [
    {
     "data": {
      "text/html": [
       "<div>\n",
       "<style scoped>\n",
       "    .dataframe tbody tr th:only-of-type {\n",
       "        vertical-align: middle;\n",
       "    }\n",
       "\n",
       "    .dataframe tbody tr th {\n",
       "        vertical-align: top;\n",
       "    }\n",
       "\n",
       "    .dataframe thead th {\n",
       "        text-align: right;\n",
       "    }\n",
       "</style>\n",
       "<table border=\"1\" class=\"dataframe\">\n",
       "  <thead>\n",
       "    <tr style=\"text-align: right;\">\n",
       "      <th></th>\n",
       "      <th>id</th>\n",
       "      <th>belongs_to_collection</th>\n",
       "      <th>budget</th>\n",
       "      <th>genres</th>\n",
       "      <th>homepage</th>\n",
       "      <th>imdb_id</th>\n",
       "      <th>original_language</th>\n",
       "      <th>original_title</th>\n",
       "      <th>overview</th>\n",
       "      <th>popularity</th>\n",
       "      <th>...</th>\n",
       "      <th>release_date</th>\n",
       "      <th>runtime</th>\n",
       "      <th>spoken_languages</th>\n",
       "      <th>status</th>\n",
       "      <th>tagline</th>\n",
       "      <th>title</th>\n",
       "      <th>Keywords</th>\n",
       "      <th>cast</th>\n",
       "      <th>crew</th>\n",
       "      <th>revenue</th>\n",
       "    </tr>\n",
       "  </thead>\n",
       "  <tbody>\n",
       "    <tr>\n",
       "      <th>0</th>\n",
       "      <td>1</td>\n",
       "      <td>[{'id': 313576, ...</td>\n",
       "      <td>14000000</td>\n",
       "      <td>[{'id': 35, 'nam...</td>\n",
       "      <td>NaN</td>\n",
       "      <td>tt2637294</td>\n",
       "      <td>en</td>\n",
       "      <td>Hot Tub Time Mac...</td>\n",
       "      <td>When Lou, who ha...</td>\n",
       "      <td>6.58</td>\n",
       "      <td>...</td>\n",
       "      <td>2/20/15</td>\n",
       "      <td>93.00</td>\n",
       "      <td>[{'iso_639_1': '...</td>\n",
       "      <td>Released</td>\n",
       "      <td>The Laws of Spac...</td>\n",
       "      <td>Hot Tub Time Mac...</td>\n",
       "      <td>[{'id': 4379, 'n...</td>\n",
       "      <td>[{'cast_id': 4, ...</td>\n",
       "      <td>[{'credit_id': '...</td>\n",
       "      <td>12314651</td>\n",
       "    </tr>\n",
       "    <tr>\n",
       "      <th>1</th>\n",
       "      <td>2</td>\n",
       "      <td>[{'id': 107674, ...</td>\n",
       "      <td>40000000</td>\n",
       "      <td>[{'id': 35, 'nam...</td>\n",
       "      <td>NaN</td>\n",
       "      <td>tt0368933</td>\n",
       "      <td>en</td>\n",
       "      <td>The Princess Dia...</td>\n",
       "      <td>Mia Thermopolis ...</td>\n",
       "      <td>8.25</td>\n",
       "      <td>...</td>\n",
       "      <td>8/6/04</td>\n",
       "      <td>113.00</td>\n",
       "      <td>[{'iso_639_1': '...</td>\n",
       "      <td>Released</td>\n",
       "      <td>It can take a li...</td>\n",
       "      <td>The Princess Dia...</td>\n",
       "      <td>[{'id': 2505, 'n...</td>\n",
       "      <td>[{'cast_id': 1, ...</td>\n",
       "      <td>[{'credit_id': '...</td>\n",
       "      <td>95149435</td>\n",
       "    </tr>\n",
       "    <tr>\n",
       "      <th>2</th>\n",
       "      <td>3</td>\n",
       "      <td>NaN</td>\n",
       "      <td>3300000</td>\n",
       "      <td>[{'id': 18, 'nam...</td>\n",
       "      <td>http://sonyclass...</td>\n",
       "      <td>tt2582802</td>\n",
       "      <td>en</td>\n",
       "      <td>Whiplash</td>\n",
       "      <td>Under the direct...</td>\n",
       "      <td>64.30</td>\n",
       "      <td>...</td>\n",
       "      <td>10/10/14</td>\n",
       "      <td>105.00</td>\n",
       "      <td>[{'iso_639_1': '...</td>\n",
       "      <td>Released</td>\n",
       "      <td>The road to grea...</td>\n",
       "      <td>Whiplash</td>\n",
       "      <td>[{'id': 1416, 'n...</td>\n",
       "      <td>[{'cast_id': 5, ...</td>\n",
       "      <td>[{'credit_id': '...</td>\n",
       "      <td>13092000</td>\n",
       "    </tr>\n",
       "    <tr>\n",
       "      <th>3</th>\n",
       "      <td>4</td>\n",
       "      <td>NaN</td>\n",
       "      <td>1200000</td>\n",
       "      <td>[{'id': 53, 'nam...</td>\n",
       "      <td>http://kahaanith...</td>\n",
       "      <td>tt1821480</td>\n",
       "      <td>hi</td>\n",
       "      <td>Kahaani</td>\n",
       "      <td>Vidya Bagchi (Vi...</td>\n",
       "      <td>3.17</td>\n",
       "      <td>...</td>\n",
       "      <td>3/9/12</td>\n",
       "      <td>122.00</td>\n",
       "      <td>[{'iso_639_1': '...</td>\n",
       "      <td>Released</td>\n",
       "      <td>NaN</td>\n",
       "      <td>Kahaani</td>\n",
       "      <td>[{'id': 10092, '...</td>\n",
       "      <td>[{'cast_id': 1, ...</td>\n",
       "      <td>[{'credit_id': '...</td>\n",
       "      <td>16000000</td>\n",
       "    </tr>\n",
       "    <tr>\n",
       "      <th>4</th>\n",
       "      <td>5</td>\n",
       "      <td>NaN</td>\n",
       "      <td>0</td>\n",
       "      <td>[{'id': 28, 'nam...</td>\n",
       "      <td>NaN</td>\n",
       "      <td>tt1380152</td>\n",
       "      <td>ko</td>\n",
       "      <td>마린보이</td>\n",
       "      <td>Marine Boy is th...</td>\n",
       "      <td>1.15</td>\n",
       "      <td>...</td>\n",
       "      <td>2/5/09</td>\n",
       "      <td>118.00</td>\n",
       "      <td>[{'iso_639_1': '...</td>\n",
       "      <td>Released</td>\n",
       "      <td>NaN</td>\n",
       "      <td>Marine Boy</td>\n",
       "      <td>NaN</td>\n",
       "      <td>[{'cast_id': 3, ...</td>\n",
       "      <td>[{'credit_id': '...</td>\n",
       "      <td>3923970</td>\n",
       "    </tr>\n",
       "  </tbody>\n",
       "</table>\n",
       "<p>5 rows × 23 columns</p>\n",
       "</div>"
      ],
      "text/plain": [
       "   id belongs_to_collection    budget               genres  \\\n",
       "0   1  [{'id': 313576, ...   14000000  [{'id': 35, 'nam...   \n",
       "1   2  [{'id': 107674, ...   40000000  [{'id': 35, 'nam...   \n",
       "2   3                  NaN    3300000  [{'id': 18, 'nam...   \n",
       "3   4                  NaN    1200000  [{'id': 53, 'nam...   \n",
       "4   5                  NaN          0  [{'id': 28, 'nam...   \n",
       "\n",
       "              homepage    imdb_id original_language       original_title  \\\n",
       "0                  NaN  tt2637294                en  Hot Tub Time Mac...   \n",
       "1                  NaN  tt0368933                en  The Princess Dia...   \n",
       "2  http://sonyclass...  tt2582802                en             Whiplash   \n",
       "3  http://kahaanith...  tt1821480                hi              Kahaani   \n",
       "4                  NaN  tt1380152                ko                 마린보이   \n",
       "\n",
       "              overview  popularity  ... release_date runtime  \\\n",
       "0  When Lou, who ha...        6.58  ...      2/20/15   93.00   \n",
       "1  Mia Thermopolis ...        8.25  ...       8/6/04  113.00   \n",
       "2  Under the direct...       64.30  ...     10/10/14  105.00   \n",
       "3  Vidya Bagchi (Vi...        3.17  ...       3/9/12  122.00   \n",
       "4  Marine Boy is th...        1.15  ...       2/5/09  118.00   \n",
       "\n",
       "      spoken_languages    status              tagline                title  \\\n",
       "0  [{'iso_639_1': '...  Released  The Laws of Spac...  Hot Tub Time Mac...   \n",
       "1  [{'iso_639_1': '...  Released  It can take a li...  The Princess Dia...   \n",
       "2  [{'iso_639_1': '...  Released  The road to grea...             Whiplash   \n",
       "3  [{'iso_639_1': '...  Released                  NaN              Kahaani   \n",
       "4  [{'iso_639_1': '...  Released                  NaN           Marine Boy   \n",
       "\n",
       "              Keywords                 cast                 crew   revenue  \n",
       "0  [{'id': 4379, 'n...  [{'cast_id': 4, ...  [{'credit_id': '...  12314651  \n",
       "1  [{'id': 2505, 'n...  [{'cast_id': 1, ...  [{'credit_id': '...  95149435  \n",
       "2  [{'id': 1416, 'n...  [{'cast_id': 5, ...  [{'credit_id': '...  13092000  \n",
       "3  [{'id': 10092, '...  [{'cast_id': 1, ...  [{'credit_id': '...  16000000  \n",
       "4                  NaN  [{'cast_id': 3, ...  [{'credit_id': '...   3923970  \n",
       "\n",
       "[5 rows x 23 columns]"
      ]
     },
     "execution_count": 5,
     "metadata": {},
     "output_type": "execute_result"
    }
   ],
   "source": [
    "pd.options.display.float_format = '{:,.2f}'.format #reformats pandas for this notebook to round floats to 0.00\n",
    "\n",
    "boxoffice.head()     "
   ]
  },
  {
   "cell_type": "markdown",
   "metadata": {},
   "source": [
    "***Dictionary Problem***\n",
    "\n",
    "It seems that there are several values for which the data frame returns a dictionary: ***Cast, Crew, Keywords, Genres, 'Belongs to collection', and 'Spoken Languages'***.  All of these seem to be features which could conceivably contribute or indicate revenue potential for a movie, either by providing exposure (casting Tom Hanks as your lead), quality production value (bringing in Steven Spielberg as your EP), or expanding/adopting an existing market (action movies, zombie films, existing franchises like Star Wars, or a new country like China).  \n",
    "\n",
    "For now I'm going to leave these in as-is however later on in this notebook I would like to be able to identify if a given collection, genre, actor, producer, or language is associated with a higher revenue.  It's likely that this will be served best by transforming these dictionaries into lists.  However I would like to do some more data cleaning before taking that step."
   ]
  },
  {
   "cell_type": "markdown",
   "metadata": {},
   "source": [
    "***Duplicates***\n",
    "\n",
    "Before doing anything I need to check for duplicate values in this dataset and resolve those. "
   ]
  },
  {
   "cell_type": "code",
   "execution_count": 6,
   "metadata": {},
   "outputs": [
    {
     "data": {
      "text/plain": [
       "<bound method Series.unique of 0       Hot Tub Time Mac...\n",
       "1       The Princess Dia...\n",
       "2                  Whiplash\n",
       "3                   Kahaani\n",
       "4                      마린보이\n",
       "               ...         \n",
       "2995                Chasers\n",
       "2996            Vi är bäst!\n",
       "2997    The Long Kiss Go...\n",
       "2998       Along Came Polly\n",
       "2999              Abduction\n",
       "Name: original_title, Length: 3000, dtype: object>"
      ]
     },
     "execution_count": 6,
     "metadata": {},
     "output_type": "execute_result"
    }
   ],
   "source": [
    "boxoffice.original_title.unique        #Checking for duplicate films by title"
   ]
  },
  {
   "cell_type": "code",
   "execution_count": 7,
   "metadata": {},
   "outputs": [
    {
     "data": {
      "text/plain": [
       "<bound method Series.unique of 0          1\n",
       "1          2\n",
       "2          3\n",
       "3          4\n",
       "4          5\n",
       "        ... \n",
       "2995    2996\n",
       "2996    2997\n",
       "2997    2998\n",
       "2998    2999\n",
       "2999    3000\n",
       "Name: id, Length: 3000, dtype: int64>"
      ]
     },
     "execution_count": 7,
     "metadata": {},
     "output_type": "execute_result"
    }
   ],
   "source": [
    "boxoffice.id.unique                  #Checking for duplicate films by id"
   ]
  },
  {
   "cell_type": "markdown",
   "metadata": {},
   "source": [
    "***Missing Values:***\n",
    "\n",
    "In this section I'll take a look at missing values for the dataset and determine which, if any, columns to drop from the dataset.  "
   ]
  },
  {
   "cell_type": "code",
   "execution_count": 8,
   "metadata": {},
   "outputs": [
    {
     "data": {
      "text/html": [
       "<div>\n",
       "<style scoped>\n",
       "    .dataframe tbody tr th:only-of-type {\n",
       "        vertical-align: middle;\n",
       "    }\n",
       "\n",
       "    .dataframe tbody tr th {\n",
       "        vertical-align: top;\n",
       "    }\n",
       "\n",
       "    .dataframe thead th {\n",
       "        text-align: right;\n",
       "    }\n",
       "</style>\n",
       "<table border=\"1\" class=\"dataframe\">\n",
       "  <thead>\n",
       "    <tr style=\"text-align: right;\">\n",
       "      <th></th>\n",
       "      <th>Count</th>\n",
       "      <th>% Missing</th>\n",
       "    </tr>\n",
       "  </thead>\n",
       "  <tbody>\n",
       "    <tr>\n",
       "      <th>belongs_to_collection</th>\n",
       "      <td>2396</td>\n",
       "      <td>79.87</td>\n",
       "    </tr>\n",
       "    <tr>\n",
       "      <th>homepage</th>\n",
       "      <td>2054</td>\n",
       "      <td>68.47</td>\n",
       "    </tr>\n",
       "    <tr>\n",
       "      <th>tagline</th>\n",
       "      <td>597</td>\n",
       "      <td>19.90</td>\n",
       "    </tr>\n",
       "    <tr>\n",
       "      <th>Keywords</th>\n",
       "      <td>276</td>\n",
       "      <td>9.20</td>\n",
       "    </tr>\n",
       "    <tr>\n",
       "      <th>production_companies</th>\n",
       "      <td>156</td>\n",
       "      <td>5.20</td>\n",
       "    </tr>\n",
       "    <tr>\n",
       "      <th>production_countries</th>\n",
       "      <td>55</td>\n",
       "      <td>1.83</td>\n",
       "    </tr>\n",
       "    <tr>\n",
       "      <th>spoken_languages</th>\n",
       "      <td>20</td>\n",
       "      <td>0.67</td>\n",
       "    </tr>\n",
       "    <tr>\n",
       "      <th>crew</th>\n",
       "      <td>16</td>\n",
       "      <td>0.53</td>\n",
       "    </tr>\n",
       "    <tr>\n",
       "      <th>cast</th>\n",
       "      <td>13</td>\n",
       "      <td>0.43</td>\n",
       "    </tr>\n",
       "    <tr>\n",
       "      <th>overview</th>\n",
       "      <td>8</td>\n",
       "      <td>0.27</td>\n",
       "    </tr>\n",
       "    <tr>\n",
       "      <th>genres</th>\n",
       "      <td>7</td>\n",
       "      <td>0.23</td>\n",
       "    </tr>\n",
       "    <tr>\n",
       "      <th>runtime</th>\n",
       "      <td>2</td>\n",
       "      <td>0.07</td>\n",
       "    </tr>\n",
       "    <tr>\n",
       "      <th>poster_path</th>\n",
       "      <td>1</td>\n",
       "      <td>0.03</td>\n",
       "    </tr>\n",
       "    <tr>\n",
       "      <th>title</th>\n",
       "      <td>0</td>\n",
       "      <td>0.00</td>\n",
       "    </tr>\n",
       "    <tr>\n",
       "      <th>status</th>\n",
       "      <td>0</td>\n",
       "      <td>0.00</td>\n",
       "    </tr>\n",
       "    <tr>\n",
       "      <th>id</th>\n",
       "      <td>0</td>\n",
       "      <td>0.00</td>\n",
       "    </tr>\n",
       "    <tr>\n",
       "      <th>release_date</th>\n",
       "      <td>0</td>\n",
       "      <td>0.00</td>\n",
       "    </tr>\n",
       "    <tr>\n",
       "      <th>popularity</th>\n",
       "      <td>0</td>\n",
       "      <td>0.00</td>\n",
       "    </tr>\n",
       "    <tr>\n",
       "      <th>original_title</th>\n",
       "      <td>0</td>\n",
       "      <td>0.00</td>\n",
       "    </tr>\n",
       "    <tr>\n",
       "      <th>original_language</th>\n",
       "      <td>0</td>\n",
       "      <td>0.00</td>\n",
       "    </tr>\n",
       "    <tr>\n",
       "      <th>imdb_id</th>\n",
       "      <td>0</td>\n",
       "      <td>0.00</td>\n",
       "    </tr>\n",
       "    <tr>\n",
       "      <th>budget</th>\n",
       "      <td>0</td>\n",
       "      <td>0.00</td>\n",
       "    </tr>\n",
       "    <tr>\n",
       "      <th>revenue</th>\n",
       "      <td>0</td>\n",
       "      <td>0.00</td>\n",
       "    </tr>\n",
       "  </tbody>\n",
       "</table>\n",
       "</div>"
      ],
      "text/plain": [
       "                      Count  % Missing\n",
       "belongs_to_collec...   2396      79.87\n",
       "homepage               2054      68.47\n",
       "tagline                 597      19.90\n",
       "Keywords                276       9.20\n",
       "production_companies    156       5.20\n",
       "production_countries     55       1.83\n",
       "spoken_languages         20       0.67\n",
       "crew                     16       0.53\n",
       "cast                     13       0.43\n",
       "overview                  8       0.27\n",
       "genres                    7       0.23\n",
       "runtime                   2       0.07\n",
       "poster_path               1       0.03\n",
       "title                     0       0.00\n",
       "status                    0       0.00\n",
       "id                        0       0.00\n",
       "release_date              0       0.00\n",
       "popularity                0       0.00\n",
       "original_title            0       0.00\n",
       "original_language         0       0.00\n",
       "imdb_id                   0       0.00\n",
       "budget                    0       0.00\n",
       "revenue                   0       0.00"
      ]
     },
     "execution_count": 8,
     "metadata": {},
     "output_type": "execute_result"
    }
   ],
   "source": [
    "missing = pd.concat([boxoffice.isnull().sum(), 100*boxoffice.isnull().mean()], axis=1)\n",
    "missing.columns = ['Count', '% Missing']\n",
    "missing.sort_values(by='% Missing', ascending=False) #creates a data frame displaying missing values by column"
   ]
  },
  {
   "cell_type": "markdown",
   "metadata": {},
   "source": [
    "Based on the above it seems that missing values will not be a large impediment for this project.  \n",
    "\n",
    "There are significant missing values for both ***'Belongs to collection' and 'homepage'***, with 80% an 68% missing respectively.  These columns definitely warrant further review.  \n",
    "\n",
    "The 'tagline' and 'Keywords' columns are missing less than 20% of their data and for now this seems workable.  Previously I've built accurate models with more data missing than that so I'll leave these columns alone for now.  "
   ]
  },
  {
   "cell_type": "markdown",
   "metadata": {},
   "source": [
    "### Solving my dictionary problem\n",
    "\n",
    "The column *boxoffice('belongs_to_collection')* has the largest amount of missing values.  I need to determine what to do with this column, potentially turning it into a boolean value representing if the film belongs to a collection at all.  \n",
    "\n",
    "Additionally this is a good opportunity to take a look at values which are lists or dictionaries in this data set since that will present interesting opportunities for analysis. "
   ]
  },
  {
   "cell_type": "code",
   "execution_count": 9,
   "metadata": {},
   "outputs": [
    {
     "data": {
      "text/plain": [
       "0       [{'id': 313576, ...\n",
       "1       [{'id': 107674, ...\n",
       "8       [{'id': 256377, ...\n",
       "10      [{'id': 1575, 'n...\n",
       "11      [{'id': 48190, '...\n",
       "               ...         \n",
       "2967    [{'id': 387219, ...\n",
       "2968    [{'id': 97307, '...\n",
       "2974    [{'id': 149704, ...\n",
       "2984    [{'id': 221111, ...\n",
       "2991    [{'id': 107469, ...\n",
       "Name: belongs_to_collection, Length: 604, dtype: object"
      ]
     },
     "execution_count": 9,
     "metadata": {},
     "output_type": "execute_result"
    }
   ],
   "source": [
    "has_collection = boxoffice['belongs_to_collection'].notnull()\n",
    "\n",
    "boxoffice['belongs_to_collection'][has_collection]   #I want to look at only actual values to better understand what they are"
   ]
  },
  {
   "cell_type": "code",
   "execution_count": 10,
   "metadata": {},
   "outputs": [
    {
     "data": {
      "text/plain": [
       "0     [{'id': 313576, 'name': 'Hot Tub Time Machine Collection', 'poster_path': '/iEhb00TGPucF0b4joM1ieyY026U.jpg', 'backdrop_path': '/noeTVcgpBiD48fDjFVic1Vz7ope.jpg'}]\n",
       "1     [{'id': 107674, 'name': 'The Princess Diaries Collection', 'poster_path': '/wt5AMbxPTS4Kfjx7Fgm149qPfZl.jpg', 'backdrop_path': '/zSEtYD77pKRJlUPx34BJgUG9v1c.jpg'}]\n",
       "8               [{'id': 256377, 'name': 'The Muppet Collection', 'poster_path': '/8Ew8EIdFFurMMYjSbWPu1Hl4vLX.jpg', 'backdrop_path': '/1AWd3MM90G47mxtD112gRDxSXY9.jpg'}]\n",
       "10                     [{'id': 1575, 'name': 'Rocky Collection', 'poster_path': '/mCY5dMkSSFQufGCViI6jNUU6pXq.jpg', 'backdrop_path': '/w4h6gjdWPvmu5R9H6zeGDPo1ZuV.jpg'}]\n",
       "11                                   [{'id': 48190, 'name': 'Revenge of the Nerds Collection', 'poster_path': '/qOnoXEdrSnBuS3FMAFRIgyJSM2r.jpg', 'backdrop_path': None}]\n",
       "Name: belongs_to_collection, dtype: object"
      ]
     },
     "execution_count": 10,
     "metadata": {},
     "output_type": "execute_result"
    }
   ],
   "source": [
    "pd.set_option(\"display.max_colwidth\", None)    #updating pandas setting so that colums aren't truncated\n",
    "\n",
    "boxoffice['belongs_to_collection'][has_collection].head()"
   ]
  },
  {
   "cell_type": "markdown",
   "metadata": {},
   "source": [
    "Now I can see that each value is a list containing a dictionary with the ID, name, path to poster, adn path to backdrop for each collection. \n",
    "\n",
    "While it's possible that the backdrop and/or poster could have an impact on revenue for marketing reasons; I would need to asess them using computer vision which is not in the scope of this project.  \n",
    "\n",
    "For now I'm going to replace this dictionary with only the name of each collection since the other values aren't ones that I want to work with."
   ]
  },
  {
   "cell_type": "code",
   "execution_count": 11,
   "metadata": {},
   "outputs": [
    {
     "name": "stdout",
     "output_type": "stream",
     "text": [
      "<class 'str'>\n"
     ]
    }
   ],
   "source": [
    "print(type(boxoffice.loc[0, 'belongs_to_collection']))\n",
    "\n",
    "\n",
    "solution = boxoffice['belongs_to_collection'].fillna('NA')  #fills nan values with NA"
   ]
  },
  {
   "cell_type": "markdown",
   "metadata": {},
   "source": [
    "***Extracting film collection names from the 'belongs_to_collections' column***\n",
    "\n",
    "After a lot of tinkering I'm able to discover that individual values in this column are lists of dictionaries formatted as strings.  This was a huge problem and after consulting with some colleagues I was able to come up with the following solution to extract a numpy array of names for each of the 'collections' or 'NA' if there was no collection.  \n",
    "\n",
    "For the other columns like this (Genre, Language Spoken, Cast) I'll need to write an additional for loop to iterate through the list of dictionaries and pull out each of the names as well. "
   ]
  },
  {
   "cell_type": "code",
   "execution_count": 12,
   "metadata": {},
   "outputs": [
    {
     "data": {
      "text/plain": [
       "'Hot Tub Time Machine Collection'"
      ]
     },
     "execution_count": 12,
     "metadata": {},
     "output_type": "execute_result"
    }
   ],
   "source": [
    "names = np.array([ast.literal_eval(item)[0].get('name', 'NA') if item != 'NA' else 'NA' for item in solution.values])\n",
    "\n",
    "names[0]       #checks to see if I have succcessffully extracted the name for Toy Story 2. "
   ]
  },
  {
   "cell_type": "markdown",
   "metadata": {},
   "source": [
    "I'm able to use the parsing library AST to read each string, call the first dictionary in the list, then extract the value representing the name for each film collection.  I'll need to replicated this at a more advanced level to extract the names for all spoken langauges, genres, cast, and crew members. "
   ]
  },
  {
   "cell_type": "code",
   "execution_count": 13,
   "metadata": {},
   "outputs": [
    {
     "data": {
      "text/plain": [
       "0    Hot Tub Time Machine Collection\n",
       "1    The Princess Diaries Collection\n",
       "2                                 NA\n",
       "3                                 NA\n",
       "4                                 NA\n",
       "Name: belongs_to_collection, dtype: object"
      ]
     },
     "execution_count": 13,
     "metadata": {},
     "output_type": "execute_result"
    }
   ],
   "source": [
    "boxoffice['belongs_to_collection'] = names    #reassigning the 'belongs_to_collection' column to the array of names\n",
    "\n",
    "boxoffice['belongs_to_collection'].head()"
   ]
  },
  {
   "cell_type": "code",
   "execution_count": 14,
   "metadata": {},
   "outputs": [
    {
     "data": {
      "text/plain": [
       "['id',\n",
       " 'belongs_to_collection',\n",
       " 'budget',\n",
       " 'genres',\n",
       " 'homepage',\n",
       " 'imdb_id',\n",
       " 'original_language',\n",
       " 'original_title',\n",
       " 'overview',\n",
       " 'popularity',\n",
       " 'poster_path',\n",
       " 'production_companies',\n",
       " 'production_countries',\n",
       " 'release_date',\n",
       " 'runtime',\n",
       " 'spoken_languages',\n",
       " 'status',\n",
       " 'tagline',\n",
       " 'title',\n",
       " 'Keywords',\n",
       " 'cast',\n",
       " 'crew',\n",
       " 'revenue',\n",
       " 'collectionbool']"
      ]
     },
     "execution_count": 14,
     "metadata": {},
     "output_type": "execute_result"
    }
   ],
   "source": [
    "boxoffice['collectionbool'] = has_collection #create a column of boolean values identifying if a movie is in a collection at all\n",
    "\n",
    "list(boxoffice.columns)"
   ]
  },
  {
   "cell_type": "code",
   "execution_count": 15,
   "metadata": {},
   "outputs": [
    {
     "data": {
      "text/html": [
       "<div>\n",
       "<style scoped>\n",
       "    .dataframe tbody tr th:only-of-type {\n",
       "        vertical-align: middle;\n",
       "    }\n",
       "\n",
       "    .dataframe tbody tr th {\n",
       "        vertical-align: top;\n",
       "    }\n",
       "\n",
       "    .dataframe thead th {\n",
       "        text-align: right;\n",
       "    }\n",
       "</style>\n",
       "<table border=\"1\" class=\"dataframe\">\n",
       "  <thead>\n",
       "    <tr style=\"text-align: right;\">\n",
       "      <th></th>\n",
       "      <th>id</th>\n",
       "      <th>belongs_to_collection</th>\n",
       "      <th>budget</th>\n",
       "      <th>genres</th>\n",
       "      <th>homepage</th>\n",
       "      <th>imdb_id</th>\n",
       "      <th>original_language</th>\n",
       "      <th>original_title</th>\n",
       "      <th>overview</th>\n",
       "      <th>popularity</th>\n",
       "      <th>...</th>\n",
       "      <th>runtime</th>\n",
       "      <th>spoken_languages</th>\n",
       "      <th>status</th>\n",
       "      <th>tagline</th>\n",
       "      <th>title</th>\n",
       "      <th>Keywords</th>\n",
       "      <th>cast</th>\n",
       "      <th>crew</th>\n",
       "      <th>revenue</th>\n",
       "      <th>collectionbool</th>\n",
       "    </tr>\n",
       "  </thead>\n",
       "  <tbody>\n",
       "    <tr>\n",
       "      <th>0</th>\n",
       "      <td>1</td>\n",
       "      <td>Hot Tub Time Mac...</td>\n",
       "      <td>14000000</td>\n",
       "      <td>[{'id': 35, 'nam...</td>\n",
       "      <td>NaN</td>\n",
       "      <td>tt2637294</td>\n",
       "      <td>en</td>\n",
       "      <td>Hot Tub Time Mac...</td>\n",
       "      <td>When Lou, who ha...</td>\n",
       "      <td>6.58</td>\n",
       "      <td>...</td>\n",
       "      <td>93.00</td>\n",
       "      <td>[{'iso_639_1': '...</td>\n",
       "      <td>Released</td>\n",
       "      <td>The Laws of Spac...</td>\n",
       "      <td>Hot Tub Time Mac...</td>\n",
       "      <td>[{'id': 4379, 'n...</td>\n",
       "      <td>[{'cast_id': 4, ...</td>\n",
       "      <td>[{'credit_id': '...</td>\n",
       "      <td>12314651</td>\n",
       "      <td>True</td>\n",
       "    </tr>\n",
       "    <tr>\n",
       "      <th>1</th>\n",
       "      <td>2</td>\n",
       "      <td>The Princess Dia...</td>\n",
       "      <td>40000000</td>\n",
       "      <td>[{'id': 35, 'nam...</td>\n",
       "      <td>NaN</td>\n",
       "      <td>tt0368933</td>\n",
       "      <td>en</td>\n",
       "      <td>The Princess Dia...</td>\n",
       "      <td>Mia Thermopolis ...</td>\n",
       "      <td>8.25</td>\n",
       "      <td>...</td>\n",
       "      <td>113.00</td>\n",
       "      <td>[{'iso_639_1': '...</td>\n",
       "      <td>Released</td>\n",
       "      <td>It can take a li...</td>\n",
       "      <td>The Princess Dia...</td>\n",
       "      <td>[{'id': 2505, 'n...</td>\n",
       "      <td>[{'cast_id': 1, ...</td>\n",
       "      <td>[{'credit_id': '...</td>\n",
       "      <td>95149435</td>\n",
       "      <td>True</td>\n",
       "    </tr>\n",
       "    <tr>\n",
       "      <th>2</th>\n",
       "      <td>3</td>\n",
       "      <td>NA</td>\n",
       "      <td>3300000</td>\n",
       "      <td>[{'id': 18, 'nam...</td>\n",
       "      <td>http://sonyclass...</td>\n",
       "      <td>tt2582802</td>\n",
       "      <td>en</td>\n",
       "      <td>Whiplash</td>\n",
       "      <td>Under the direct...</td>\n",
       "      <td>64.30</td>\n",
       "      <td>...</td>\n",
       "      <td>105.00</td>\n",
       "      <td>[{'iso_639_1': '...</td>\n",
       "      <td>Released</td>\n",
       "      <td>The road to grea...</td>\n",
       "      <td>Whiplash</td>\n",
       "      <td>[{'id': 1416, 'n...</td>\n",
       "      <td>[{'cast_id': 5, ...</td>\n",
       "      <td>[{'credit_id': '...</td>\n",
       "      <td>13092000</td>\n",
       "      <td>False</td>\n",
       "    </tr>\n",
       "    <tr>\n",
       "      <th>3</th>\n",
       "      <td>4</td>\n",
       "      <td>NA</td>\n",
       "      <td>1200000</td>\n",
       "      <td>[{'id': 53, 'nam...</td>\n",
       "      <td>http://kahaanith...</td>\n",
       "      <td>tt1821480</td>\n",
       "      <td>hi</td>\n",
       "      <td>Kahaani</td>\n",
       "      <td>Vidya Bagchi (Vi...</td>\n",
       "      <td>3.17</td>\n",
       "      <td>...</td>\n",
       "      <td>122.00</td>\n",
       "      <td>[{'iso_639_1': '...</td>\n",
       "      <td>Released</td>\n",
       "      <td>NaN</td>\n",
       "      <td>Kahaani</td>\n",
       "      <td>[{'id': 10092, '...</td>\n",
       "      <td>[{'cast_id': 1, ...</td>\n",
       "      <td>[{'credit_id': '...</td>\n",
       "      <td>16000000</td>\n",
       "      <td>False</td>\n",
       "    </tr>\n",
       "    <tr>\n",
       "      <th>4</th>\n",
       "      <td>5</td>\n",
       "      <td>NA</td>\n",
       "      <td>0</td>\n",
       "      <td>[{'id': 28, 'nam...</td>\n",
       "      <td>NaN</td>\n",
       "      <td>tt1380152</td>\n",
       "      <td>ko</td>\n",
       "      <td>마린보이</td>\n",
       "      <td>Marine Boy is th...</td>\n",
       "      <td>1.15</td>\n",
       "      <td>...</td>\n",
       "      <td>118.00</td>\n",
       "      <td>[{'iso_639_1': '...</td>\n",
       "      <td>Released</td>\n",
       "      <td>NaN</td>\n",
       "      <td>Marine Boy</td>\n",
       "      <td>NaN</td>\n",
       "      <td>[{'cast_id': 3, ...</td>\n",
       "      <td>[{'credit_id': '...</td>\n",
       "      <td>3923970</td>\n",
       "      <td>False</td>\n",
       "    </tr>\n",
       "  </tbody>\n",
       "</table>\n",
       "<p>5 rows × 24 columns</p>\n",
       "</div>"
      ],
      "text/plain": [
       "   id belongs_to_collection    budget               genres  \\\n",
       "0   1  Hot Tub Time Mac...   14000000  [{'id': 35, 'nam...   \n",
       "1   2  The Princess Dia...   40000000  [{'id': 35, 'nam...   \n",
       "2   3                   NA    3300000  [{'id': 18, 'nam...   \n",
       "3   4                   NA    1200000  [{'id': 53, 'nam...   \n",
       "4   5                   NA          0  [{'id': 28, 'nam...   \n",
       "\n",
       "              homepage    imdb_id original_language       original_title  \\\n",
       "0                  NaN  tt2637294                en  Hot Tub Time Mac...   \n",
       "1                  NaN  tt0368933                en  The Princess Dia...   \n",
       "2  http://sonyclass...  tt2582802                en             Whiplash   \n",
       "3  http://kahaanith...  tt1821480                hi              Kahaani   \n",
       "4                  NaN  tt1380152                ko                 마린보이   \n",
       "\n",
       "              overview  popularity  ... runtime     spoken_languages  \\\n",
       "0  When Lou, who ha...        6.58  ...   93.00  [{'iso_639_1': '...   \n",
       "1  Mia Thermopolis ...        8.25  ...  113.00  [{'iso_639_1': '...   \n",
       "2  Under the direct...       64.30  ...  105.00  [{'iso_639_1': '...   \n",
       "3  Vidya Bagchi (Vi...        3.17  ...  122.00  [{'iso_639_1': '...   \n",
       "4  Marine Boy is th...        1.15  ...  118.00  [{'iso_639_1': '...   \n",
       "\n",
       "     status              tagline                title             Keywords  \\\n",
       "0  Released  The Laws of Spac...  Hot Tub Time Mac...  [{'id': 4379, 'n...   \n",
       "1  Released  It can take a li...  The Princess Dia...  [{'id': 2505, 'n...   \n",
       "2  Released  The road to grea...             Whiplash  [{'id': 1416, 'n...   \n",
       "3  Released                  NaN              Kahaani  [{'id': 10092, '...   \n",
       "4  Released                  NaN           Marine Boy                  NaN   \n",
       "\n",
       "                  cast                 crew   revenue collectionbool  \n",
       "0  [{'cast_id': 4, ...  [{'credit_id': '...  12314651           True  \n",
       "1  [{'cast_id': 1, ...  [{'credit_id': '...  95149435           True  \n",
       "2  [{'cast_id': 5, ...  [{'credit_id': '...  13092000          False  \n",
       "3  [{'cast_id': 1, ...  [{'credit_id': '...  16000000          False  \n",
       "4  [{'cast_id': 3, ...  [{'credit_id': '...   3923970          False  \n",
       "\n",
       "[5 rows x 24 columns]"
      ]
     },
     "execution_count": 15,
     "metadata": {},
     "output_type": "execute_result"
    }
   ],
   "source": [
    "pd.set_option(\"display.max_colwidth\", 20) #reset column width to make the entire dataframe readable\n",
    "\n",
    "boxoffice.head()"
   ]
  },
  {
   "cell_type": "markdown",
   "metadata": {},
   "source": [
    "For 'belongs_to_collection' I have decided to imput the missing values as NA and extracted the title of each film collection from the original data object in this column.  I've also created a second column that provides boolean values: either a film is part of a larger collection or it is not.\n",
    "\n",
    "In my next notebook one question I'd like to answer is does being part of a collection impact revenue at all?  Subsequently I'd also like to identify if any collections seem to have significantly higher revenue (Star Wars vs Hot Tub Time Machine).  In order to enable this with more ease I've created one boolean column that identifies if a movie is part of a collection at all, and a second categorical column that identifies which specific film collection it's a member of. "
   ]
  },
  {
   "cell_type": "markdown",
   "metadata": {},
   "source": [
    "### Applying the value extraction to other columns in the data frame\n",
    "\n",
    "Now that I have a method to extract the important values from each of these columns I need to apply that to the other columns that are also lists of dictionaries formatted as strings, and decide if I'll drop some extraneous columns."
   ]
  },
  {
   "cell_type": "code",
   "execution_count": 16,
   "metadata": {},
   "outputs": [
    {
     "data": {
      "text/html": [
       "<div>\n",
       "<style scoped>\n",
       "    .dataframe tbody tr th:only-of-type {\n",
       "        vertical-align: middle;\n",
       "    }\n",
       "\n",
       "    .dataframe tbody tr th {\n",
       "        vertical-align: top;\n",
       "    }\n",
       "\n",
       "    .dataframe thead th {\n",
       "        text-align: right;\n",
       "    }\n",
       "</style>\n",
       "<table border=\"1\" class=\"dataframe\">\n",
       "  <thead>\n",
       "    <tr style=\"text-align: right;\">\n",
       "      <th></th>\n",
       "      <th>original_title</th>\n",
       "      <th>genres</th>\n",
       "    </tr>\n",
       "  </thead>\n",
       "  <tbody>\n",
       "    <tr>\n",
       "      <th>0</th>\n",
       "      <td>Hot Tub Time Machine 2</td>\n",
       "      <td>[{'id': 35, 'name': 'Comedy'}]</td>\n",
       "    </tr>\n",
       "    <tr>\n",
       "      <th>1</th>\n",
       "      <td>The Princess Diaries 2: Royal Engagement</td>\n",
       "      <td>[{'id': 35, 'name': 'Comedy'}, {'id': 18, 'name': 'Drama'}, {'id': 10751, 'name': 'Family'}, {'id': 10749, 'name': 'Romance'}]</td>\n",
       "    </tr>\n",
       "    <tr>\n",
       "      <th>2</th>\n",
       "      <td>Whiplash</td>\n",
       "      <td>[{'id': 18, 'name': 'Drama'}]</td>\n",
       "    </tr>\n",
       "    <tr>\n",
       "      <th>3</th>\n",
       "      <td>Kahaani</td>\n",
       "      <td>[{'id': 53, 'name': 'Thriller'}, {'id': 18, 'name': 'Drama'}]</td>\n",
       "    </tr>\n",
       "    <tr>\n",
       "      <th>4</th>\n",
       "      <td>마린보이</td>\n",
       "      <td>[{'id': 28, 'name': 'Action'}, {'id': 53, 'name': 'Thriller'}]</td>\n",
       "    </tr>\n",
       "  </tbody>\n",
       "</table>\n",
       "</div>"
      ],
      "text/plain": [
       "                             original_title  \\\n",
       "0                    Hot Tub Time Machine 2   \n",
       "1  The Princess Diaries 2: Royal Engagement   \n",
       "2                                  Whiplash   \n",
       "3                                   Kahaani   \n",
       "4                                      마린보이   \n",
       "\n",
       "                                                                                                                           genres  \n",
       "0                                                                                                  [{'id': 35, 'name': 'Comedy'}]  \n",
       "1  [{'id': 35, 'name': 'Comedy'}, {'id': 18, 'name': 'Drama'}, {'id': 10751, 'name': 'Family'}, {'id': 10749, 'name': 'Romance'}]  \n",
       "2                                                                                                   [{'id': 18, 'name': 'Drama'}]  \n",
       "3                                                                   [{'id': 53, 'name': 'Thriller'}, {'id': 18, 'name': 'Drama'}]  \n",
       "4                                                                  [{'id': 28, 'name': 'Action'}, {'id': 53, 'name': 'Thriller'}]  "
      ]
     },
     "execution_count": 16,
     "metadata": {},
     "output_type": "execute_result"
    }
   ],
   "source": [
    "pd.set_option(\"display.max_colwidth\", None)  #again altering column settings so that I can read the entire list for 'genres'\n",
    "\n",
    "boxoffice[['original_title', 'genres']].head()"
   ]
  },
  {
   "cell_type": "markdown",
   "metadata": {},
   "source": [
    "Here it seems that some movies had multiple genres assigned to them - which makes sense.  Rom-Coms are one of the most well known genres and are a hybrid.  \n",
    "\n",
    "It doesn't seem that the genres are lsited in any particular order, 'Whiplash's' are in descending order by name and ID while 'Kahaani's' are in ascending order. \n",
    "\n",
    "My first instinct is to turn these lists of dictionaries into a list of genres.  This is an approach that will carry over well to other columns like boxoffice.cast.  I may revisit this after beginning EDA in my next notebook depending on what problems arise and simplify each movie to a single genre, for now there doesn't seem to be a statistically valid way to select one genre from the list provided for each movie."
   ]
  },
  {
   "cell_type": "markdown",
   "metadata": {},
   "source": [
    "***Declaring the 'extractname' function***\n",
    "\n",
    "It's immediately apparent that the method I used to pull the name for each film collection won't work for these other columns since the lists contain multiple dictionaries and I want to pull out the name from each dictionary.  Here I create a new function using the previous method that I can map over the whole dataframe to do this for me. \n",
    "\n",
    "\n",
    "I want to acknowledge Dipanjan Sarkar, one of Springboard's Data Science Mentors, for helping me debug this function and pointing me towards the AST library to work with.  "
   ]
  },
  {
   "cell_type": "code",
   "execution_count": 17,
   "metadata": {},
   "outputs": [],
   "source": [
    "def extractnames(df):\n",
    "    \n",
    "    \"\"\"Will take a column from boxoffice and for each dictionary in the list for each row will extract the \n",
    "    name of the (genre, language, cast member, etc) and return a numpy array that can be used to replace the column\"\"\"\n",
    "    \n",
    "    new_array = []\n",
    "    \n",
    "    for item in df.values:\n",
    "        \n",
    "        if item != 'NA':\n",
    "            \n",
    "            new_item = []   #new list to replace the original object, will hold only names\n",
    "            \n",
    "            for i in range(len(ast.literal_eval(item))):     #pulls out each name for every dictionary in original object\n",
    "                \n",
    "                genre = ast.literal_eval(item)[i].get('name', 'NA')\n",
    "                \n",
    "                new_item.append(genre)                         #stores each name in new_item list\n",
    "                \n",
    "            new_array.append(new_item)                     #appends each new_item list to the new_array\n",
    "                \n",
    "        else: \n",
    "            new_array.append(None)                              #leaves null values in as 'NA'\n",
    "    return new_array"
   ]
  },
  {
   "cell_type": "markdown",
   "metadata": {},
   "source": [
    "***Applying 'extractnames' to remaining columns that are lists of dictionaries***\n",
    "\n",
    "Here I'll apply my new function to the remaining columns to extract the genres, keywords, cast, crew, and spoken langauges for each film. "
   ]
  },
  {
   "cell_type": "code",
   "execution_count": 18,
   "metadata": {},
   "outputs": [
    {
     "data": {
      "text/html": [
       "<div>\n",
       "<style scoped>\n",
       "    .dataframe tbody tr th:only-of-type {\n",
       "        vertical-align: middle;\n",
       "    }\n",
       "\n",
       "    .dataframe tbody tr th {\n",
       "        vertical-align: top;\n",
       "    }\n",
       "\n",
       "    .dataframe thead th {\n",
       "        text-align: right;\n",
       "    }\n",
       "</style>\n",
       "<table border=\"1\" class=\"dataframe\">\n",
       "  <thead>\n",
       "    <tr style=\"text-align: right;\">\n",
       "      <th></th>\n",
       "      <th>original_title</th>\n",
       "      <th>genres</th>\n",
       "    </tr>\n",
       "  </thead>\n",
       "  <tbody>\n",
       "    <tr>\n",
       "      <th>0</th>\n",
       "      <td>Hot Tub Time Machine 2</td>\n",
       "      <td>[Comedy]</td>\n",
       "    </tr>\n",
       "    <tr>\n",
       "      <th>1</th>\n",
       "      <td>The Princess Diaries 2: Royal Engagement</td>\n",
       "      <td>[Comedy, Drama, Family, Romance]</td>\n",
       "    </tr>\n",
       "    <tr>\n",
       "      <th>2</th>\n",
       "      <td>Whiplash</td>\n",
       "      <td>[Drama]</td>\n",
       "    </tr>\n",
       "    <tr>\n",
       "      <th>3</th>\n",
       "      <td>Kahaani</td>\n",
       "      <td>[Thriller, Drama]</td>\n",
       "    </tr>\n",
       "    <tr>\n",
       "      <th>4</th>\n",
       "      <td>마린보이</td>\n",
       "      <td>[Action, Thriller]</td>\n",
       "    </tr>\n",
       "  </tbody>\n",
       "</table>\n",
       "</div>"
      ],
      "text/plain": [
       "                             original_title                            genres\n",
       "0                    Hot Tub Time Machine 2                          [Comedy]\n",
       "1  The Princess Diaries 2: Royal Engagement  [Comedy, Drama, Family, Romance]\n",
       "2                                  Whiplash                           [Drama]\n",
       "3                                   Kahaani                 [Thriller, Drama]\n",
       "4                                      마린보이                [Action, Thriller]"
      ]
     },
     "execution_count": 18,
     "metadata": {},
     "output_type": "execute_result"
    }
   ],
   "source": [
    "g = boxoffice['genres'].fillna('NA')\n",
    "\n",
    "genre = extractnames(g)\n",
    "\n",
    "genre = np.array(genre, dtype='object')\n",
    "\n",
    "boxoffice['genres'] = genre\n",
    "\n",
    "boxoffice[['original_title', 'genres']].head()"
   ]
  },
  {
   "cell_type": "code",
   "execution_count": 19,
   "metadata": {},
   "outputs": [
    {
     "data": {
      "text/html": [
       "<div>\n",
       "<style scoped>\n",
       "    .dataframe tbody tr th:only-of-type {\n",
       "        vertical-align: middle;\n",
       "    }\n",
       "\n",
       "    .dataframe tbody tr th {\n",
       "        vertical-align: top;\n",
       "    }\n",
       "\n",
       "    .dataframe thead th {\n",
       "        text-align: right;\n",
       "    }\n",
       "</style>\n",
       "<table border=\"1\" class=\"dataframe\">\n",
       "  <thead>\n",
       "    <tr style=\"text-align: right;\">\n",
       "      <th></th>\n",
       "      <th>original_title</th>\n",
       "      <th>Keywords</th>\n",
       "    </tr>\n",
       "  </thead>\n",
       "  <tbody>\n",
       "    <tr>\n",
       "      <th>0</th>\n",
       "      <td>Hot Tub Time Machine 2</td>\n",
       "      <td>[time travel, sequel, hot tub, duringcreditsstinger]</td>\n",
       "    </tr>\n",
       "    <tr>\n",
       "      <th>1</th>\n",
       "      <td>The Princess Diaries 2: Royal Engagement</td>\n",
       "      <td>[coronation, duty, marriage, falling in love]</td>\n",
       "    </tr>\n",
       "    <tr>\n",
       "      <th>2</th>\n",
       "      <td>Whiplash</td>\n",
       "      <td>[jazz, obsession, conservatory, music teacher, new york city, violence, montage, drummer, public humiliation, jazz band, young adult, music school]</td>\n",
       "    </tr>\n",
       "    <tr>\n",
       "      <th>3</th>\n",
       "      <td>Kahaani</td>\n",
       "      <td>[mystery, bollywood, police corruption, crime, india, missing husband, nerve gas]</td>\n",
       "    </tr>\n",
       "    <tr>\n",
       "      <th>4</th>\n",
       "      <td>마린보이</td>\n",
       "      <td>None</td>\n",
       "    </tr>\n",
       "  </tbody>\n",
       "</table>\n",
       "</div>"
      ],
      "text/plain": [
       "                             original_title  \\\n",
       "0                    Hot Tub Time Machine 2   \n",
       "1  The Princess Diaries 2: Royal Engagement   \n",
       "2                                  Whiplash   \n",
       "3                                   Kahaani   \n",
       "4                                      마린보이   \n",
       "\n",
       "                                                                                                                                              Keywords  \n",
       "0                                                                                                 [time travel, sequel, hot tub, duringcreditsstinger]  \n",
       "1                                                                                                        [coronation, duty, marriage, falling in love]  \n",
       "2  [jazz, obsession, conservatory, music teacher, new york city, violence, montage, drummer, public humiliation, jazz band, young adult, music school]  \n",
       "3                                                                    [mystery, bollywood, police corruption, crime, india, missing husband, nerve gas]  \n",
       "4                                                                                                                                                 None  "
      ]
     },
     "execution_count": 19,
     "metadata": {},
     "output_type": "execute_result"
    }
   ],
   "source": [
    "k = boxoffice['Keywords'].fillna('NA')\n",
    "\n",
    "key = extractnames(k)\n",
    "\n",
    "key = np.array(key, dtype='object')\n",
    "\n",
    "boxoffice['Keywords'] = key\n",
    "\n",
    "boxoffice[['original_title', 'Keywords']].head()"
   ]
  },
  {
   "cell_type": "code",
   "execution_count": null,
   "metadata": {},
   "outputs": [],
   "source": [
    "c = boxoffice['cast'].fillna('NA')\n",
    "\n",
    "cast = extractnames(c)\n",
    "\n",
    "cast = np.array(cast, dtype='object')\n",
    "\n",
    "boxoffice['cast'] = cast\n",
    "\n",
    "boxoffice[['original_title', 'cast']].head()"
   ]
  },
  {
   "cell_type": "code",
   "execution_count": null,
   "metadata": {},
   "outputs": [],
   "source": [
    "cr = boxoffice['crew'].fillna('NA')\n",
    "\n",
    "crew = extractnames(cr)\n",
    "\n",
    "crew = np.array(crew, dtype='object')\n",
    "\n",
    "boxoffice['crew'] = crew\n",
    "\n",
    "boxoffice[['original_title', 'crew']].head()"
   ]
  },
  {
   "cell_type": "code",
   "execution_count": null,
   "metadata": {},
   "outputs": [],
   "source": [
    "sl = boxoffice['spoken_languages'].fillna('NA')\n",
    "\n",
    "spoken = extractnames(sl)\n",
    "\n",
    "spoken = np.array(spoken, dtype='object')\n",
    "\n",
    "boxoffice['spoken_languages'] = spoken\n",
    "\n",
    "boxoffice[['original_title', 'spoken_languages']].head()"
   ]
  },
  {
   "cell_type": "code",
   "execution_count": null,
   "metadata": {},
   "outputs": [],
   "source": [
    "pcont = boxoffice['production_countries'].fillna('NA')\n",
    "\n",
    "country = extractnames(pcont)\n",
    "\n",
    "country = np.array(country, dtype='object')\n",
    "\n",
    "boxoffice['production_countries'] = country\n",
    "\n",
    "boxoffice[['original_title', 'production_countries']].head()"
   ]
  },
  {
   "cell_type": "code",
   "execution_count": null,
   "metadata": {},
   "outputs": [],
   "source": [
    "pcomp = boxoffice['production_companies'].fillna('NA')\n",
    "\n",
    "company = extractnames(pcomp)\n",
    "\n",
    "company = np.array(company, dtype='object')\n",
    "\n",
    "boxoffice['production_companies'] = company\n",
    "\n",
    "boxoffice[['original_title', 'production_companies']].head()"
   ]
  },
  {
   "cell_type": "code",
   "execution_count": null,
   "metadata": {},
   "outputs": [],
   "source": [
    "pd.set_option(\"display.max_colwidth\", 20)\n",
    "pd.set_option(\"display.max_columns\", 24)\n",
    "\n",
    "boxoffice.head()"
   ]
  },
  {
   "cell_type": "markdown",
   "metadata": {},
   "source": [
    "***Removing extraneous categorical columns***\n",
    "\n",
    "Now that I've cleaned up the columns that were complicated to work with, it's time for me to decide which categorical columns that I'll drop since they're either unlikely to be beneficial to my model or because they'll require complex text analysis prior to using them in a model."
   ]
  },
  {
   "cell_type": "markdown",
   "metadata": {},
   "source": [
    "### Dropping extraneous columns. \n",
    "\n",
    "I have several columns that I've identified as likely needing to be dropped since they're not relevant to my analysis: \n",
    "\n",
    "***Homepage*** - there is a small potential that analyzing the homepage for a movie would lend clues to it's potential revenue.  However all of the critical information is already in my dataframe and stripping extra info would require significant amounts of work relative to it's benefit.  This column will be dropped.\n",
    "\n",
    "***id*** - This column seems to be entirely unneeded and can be dropped as it's a duplicate of the index.\n",
    "\n",
    "***Status*** - This is useless, all of these movies have revenue and by definition will have the status 'Released'.  This column will be dropped. \n",
    "\n",
    "***Poster_path*** - This presents the same challenge as the homepage url for each movie.  While the posters in theory will have a large impact on marketing and revenue - analyzing the movie posters in and of themselves is a significant amount of modeling work on it's own and would provide marginal benefit to this model.  This is a good area of further exploration with a computer vision modeling project later on.  This column will be dropped. \n",
    "\n",
    "***Overview*** - Again this is a large challenge to analyze significant portions of text to get clues for revenue.  Given time and more advanced knowledge of NLP techniques I'd like to score each movies overview and include the score here for modeling purposes.  However thata lies outside the scope of my project.  I'll take a closer look to see if there's something I can wrangle from this information. \n",
    "\n",
    "***Tagline*** - This column I think has some potential.  The text is short enough and would be presented in marketing campaigns (vs. Overview), so in theory will have more of an impact on a viewers decision to view a film and thus revenue impact.  Without NLP there's limited opportunity to analyze taglines, however I wonder if there's a correlation between tagline 'length' and revenue, potentially tied in to the genres the movie represents.   I'll also take a closer look at this column."
   ]
  },
  {
   "cell_type": "code",
   "execution_count": null,
   "metadata": {},
   "outputs": [],
   "source": [
    "droplist =['homepage', 'poster_path', 'status', 'id']       #list of columns to drop\n",
    "\n",
    "boxoffice = boxoffice.drop(droplist, axis=1)\n",
    "\n",
    "boxoffice.head()"
   ]
  },
  {
   "cell_type": "code",
   "execution_count": null,
   "metadata": {},
   "outputs": [],
   "source": [
    "pd.set_option(\"display.max_colwidth\", None)\n",
    "\n",
    "boxoffice['overview'].head()"
   ]
  },
  {
   "cell_type": "markdown",
   "metadata": {},
   "source": [
    "There seems to be quite a bit of variability across these strings.  However reading through these I am more compelled by short overviews rather than longer overviews.  \n",
    "\n",
    "I'm of the mind that the length of overview will be a good proxy for sentiment and 'rich'-ness of the content moving forward en lieu of using NLP and sentiment analysis.  Moving forward I'll add a column that includes the length (in characters) of the overview for each film.  This will also engineer additional numeric values for each film as well. "
   ]
  },
  {
   "cell_type": "code",
   "execution_count": null,
   "metadata": {},
   "outputs": [],
   "source": [
    "boxoffice['Overview_length'] = boxoffice['overview'].str.len()\n",
    "\n",
    "boxoffice['Overview_length'].head()                  #New column with the character length of each film's plot overview"
   ]
  },
  {
   "cell_type": "code",
   "execution_count": null,
   "metadata": {},
   "outputs": [],
   "source": [
    "boxoffice['Tag_length'] = boxoffice['tagline'].str.len()\n",
    "\n",
    "boxoffice['Tag_length'].head()"
   ]
  },
  {
   "cell_type": "markdown",
   "metadata": {},
   "source": [
    "At this point I have cleaned up or eliminated my categorical columns of data, which is the majority of the missing values in the dataset.  Now I need to examine the numerical data for outliers. "
   ]
  },
  {
   "cell_type": "code",
   "execution_count": null,
   "metadata": {},
   "outputs": [],
   "source": [
    "pd.set_option(\"display.max_colwidth\", 20)\n",
    "\n",
    "Collection_bool = boxoffice['collectionbool']\n",
    "\n",
    "boxoffice.head()"
   ]
  },
  {
   "cell_type": "code",
   "execution_count": null,
   "metadata": {},
   "outputs": [],
   "source": [
    "del boxoffice['collectionbool']     #deleting the boolean column to keep histograms simple to work with"
   ]
  },
  {
   "cell_type": "markdown",
   "metadata": {},
   "source": [
    "### Examining numerical features\n",
    "\n",
    "I've removed the boolean column in order to keep things simple when plotting histograms for the numerical features of my data.  I need to check and make sure there aren't any outliers to the dataset that might dramatically alter my modeling. "
   ]
  },
  {
   "cell_type": "code",
   "execution_count": null,
   "metadata": {},
   "outputs": [],
   "source": [
    "boxoffice.hist(figsize=(15,10))\n",
    "plt.subplots_adjust(hspace=0.5);"
   ]
  },
  {
   "cell_type": "code",
   "execution_count": null,
   "metadata": {},
   "outputs": [],
   "source": [
    "boxoffice.describe()"
   ]
  },
  {
   "cell_type": "markdown",
   "metadata": {},
   "source": [
    "It looks like I may have a few outliers with revenue, budget, and potentially popularity as well. \n",
    "\n",
    "It is also clear that I have issues with both budget and revenue.  I'll examine budget further in my eploratory data analysis notebook to follow and decide how to impute missing values (since over 25% of films in this dataset have 0.0 listed as their budget).  \n",
    "\n",
    "However my revenue data has an extemely long right tail which is concerning, and the minimum value is $1.  Given that this is my target variable I need to make sure that I've dropped any films which do not have revenue information.  "
   ]
  },
  {
   "cell_type": "code",
   "execution_count": null,
   "metadata": {},
   "outputs": [],
   "source": [
    "boxoffice.loc[boxoffice.popularity > 50].head()    #looking at films whose popularity is significantly above the norm"
   ]
  },
  {
   "cell_type": "markdown",
   "metadata": {},
   "source": [
    "After looking at TMDB's API documentation it seems that popularity is a metric that's derived from a lot of complicated user interactions (movie added to watchlist, voted for, viewed on their website, searched for, etc) to arrive and a popularity score. Given this, while there are several films clustered abot a score of 200 there's no reason to drop those films as of now.  Particularly given the idiosycrasies of cultural content going 'viral' online this isn't too concerning right now. Moving forward it's best to keep in mind that the popularity metric is derived from TMDB's web analytics and may need to be treated with caution. "
   ]
  },
  {
   "cell_type": "code",
   "execution_count": null,
   "metadata": {},
   "outputs": [],
   "source": [
    "boxoffice[boxoffice.budget > 2e8].head()  #examining films whose budget exceeded 2 million USD"
   ]
  },
  {
   "cell_type": "markdown",
   "metadata": {},
   "source": [
    "Same as for the popularity, budget had a long tailed distribution.  I could drop films above 200 million in budget, however that would ultimately be arbitrary and after some quick google searches it's apparent that the budget information here is accurate. "
   ]
  },
  {
   "cell_type": "markdown",
   "metadata": {},
   "source": [
    "### Examining the target variable revenue for missing values or outliers."
   ]
  },
  {
   "cell_type": "code",
   "execution_count": null,
   "metadata": {},
   "outputs": [],
   "source": [
    "boxoffice[boxoffice.revenue > 1e9].head()   #examining films whose revenue exceeded 1 billion USD"
   ]
  },
  {
   "cell_type": "markdown",
   "metadata": {},
   "source": [
    "Again, it's good to check for significant outliers or errors.  The outliers for revenue don't seem to be incorrect after doing some quick spot checking on google.  While I could drop movies that grossed over a billion dollars in revenue that would be fairly arbitrary and eliminate data points that are valid.\n",
    "\n",
    "It is notable that the outliers for revenue have little to no overlap with the films who's popularity was exceptionally high - this is something I definitely want to explore in a later notebook. \n",
    "\n",
    "I also need to check my revenue feature for missing or incorrect values on the lower end:"
   ]
  },
  {
   "cell_type": "code",
   "execution_count": null,
   "metadata": {},
   "outputs": [],
   "source": [
    "boxoffice.revenue.hist(bins=50, figsize=(15,5));"
   ]
  },
  {
   "cell_type": "markdown",
   "metadata": {},
   "source": [
    "It seems almost all of our film's revenue was below 200,000,000.00 USD.  This stands to reason; a film beigning in over 200 million USD at the box office is a smash-hit - still uncommon but definitely possible.  Given that there's such a large number of movies that fall into that category I'll need to look in more detail at the lower values. \n",
    "\n",
    "My goal here is to do some spot checking on low outliers, and check for missing values where revenue is zero. My hunch is that there will be a large number of movies with revenue set to zero either because they are extremly old (EG: Gone with the Wind) or were driect to DVD/streaming releases."
   ]
  },
  {
   "cell_type": "code",
   "execution_count": null,
   "metadata": {},
   "outputs": [],
   "source": [
    "boxoffice.revenue[boxoffice.revenue < 500000.0].hist(bins=30, figsize=(15,5)); #examine films with less than 500,000 USD revenue"
   ]
  },
  {
   "cell_type": "code",
   "execution_count": null,
   "metadata": {},
   "outputs": [],
   "source": [
    "boxoffice.revenue[boxoffice.revenue < 1000000.0].describe()"
   ]
  },
  {
   "cell_type": "markdown",
   "metadata": {},
   "source": [
    "I'm still zero-ing in on what the issue is here.  However it seems that while over half of the films in this data set have revenue below 200 million, only about 120 or so have extremely low revenue which is a good sign."
   ]
  },
  {
   "cell_type": "code",
   "execution_count": null,
   "metadata": {},
   "outputs": [],
   "source": [
    "boxoffice.revenue[boxoffice.revenue<100000].hist(bins=20, figsize=(15,5));   #examine movies with less than 100k USD revenue."
   ]
  },
  {
   "cell_type": "code",
   "execution_count": null,
   "metadata": {},
   "outputs": [],
   "source": [
    "boxoffice.revenue[boxoffice.revenue<100000].describe()  #examining films with less than $100,000 revenue at the box office"
   ]
  },
  {
   "cell_type": "code",
   "execution_count": null,
   "metadata": {},
   "outputs": [],
   "source": [
    "boxoffice.revenue[boxoffice.revenue <= 5000].describe()    #examining films who's revenue was in the lowest bin of previous plot"
   ]
  },
  {
   "cell_type": "code",
   "execution_count": null,
   "metadata": {},
   "outputs": [],
   "source": [
    "boxoffice.revenue[boxoffice.revenue <= 500].describe()    #examining films who were in the bottom 75% of the last slice"
   ]
  },
  {
   "cell_type": "code",
   "execution_count": null,
   "metadata": {},
   "outputs": [],
   "source": [
    "low_rev = boxoffice[boxoffice.revenue <=500] #new DF with all info for films with low revenue\n",
    "low_rev.iloc[::5, :]    #Showing every 5th film that has less than $500 in revenue"
   ]
  },
  {
   "cell_type": "markdown",
   "metadata": {},
   "source": [
    "Immediately some significant data quality issues become apparent.  \n",
    "\n",
    "I've never heard of either \"The Getaway\" (index 1138, revenue = 30 USD) or \"Chasing Liberty\" (index 450, revenue = 12 USD).  However both immediately stand out since they have A-list actors Alec Baldwin and Mandy Moore in them; and \"Chasing Liberty\" is shown to have a budget of 23 million USD.  \n",
    "\n",
    "This is definitely a mistake, 12 and 30 aren't revenue numbers high enough to even account for a family of 4 purchasing movie tickets (maybe in 1994 for \"The Getaway\", but still). \n",
    "\n",
    "After consulting IMDB (the data is originally sourced from TMDB via Kaggle) I notice that the actual revenue numbers are much different.  \"The Getaway\" had a cumulative worldwide boxoffice gross revenue of 30 *million* USD, and \"Chasing Liberty\" had worldwide revenue of 12 *million* USD.  While \"Chasing Liberty\" was definitely a box office bomb, both numbers are significantly different than those provided in the dataset. \n",
    "\n",
    "It seems plausible that the values were incorrectly altered through some data cleaning process.  It seems a fairly simple mistake to convert a value that reads '12 million' or '30 million' to '12' & '30' respectively, it's possible that these films all actually grossed over a million dollars and that this is some sort of systematic error. "
   ]
  },
  {
   "cell_type": "markdown",
   "metadata": {},
   "source": [
    "I decided to investigate further and look at the film \"Electra Luxx\" since it seems to be the only film (shown skipping every 5 rows in the low_rev dataframe) that's part of a larger collection.  It's revenue is listed as 10 USD, while the revenue listed on IMDB is $11,000 - clearly still a flop but the data set that I'm working with is clearly flawed."
   ]
  },
  {
   "cell_type": "markdown",
   "metadata": {},
   "source": [
    "### Potential Solutions\n",
    "\n",
    "After consulting with my Springboard mentor AJ Sanchez and my friend (and data scientist for DoorDash) Finn Qiao, I've decided on a course of action for my dataset in regards to resolving errors in my target values.  \n",
    "\n",
    "I had a few courses of action:\n",
    "\n",
    "1) I could potentially have just ignored the data errors and move forward with the data I have.  Normally I'd speak to stakeholders about data quality, but as this is a solo project that's not an option.   Given that the decision on this is in my hands I chose to not take this route - 18% of my data falls below $1 million in revenue and I consider that to be highly suspect.  In turn this could essentially render my model useless, which is an unacceptable outcome.   \n",
    "\n",
    "2) I could drop all films that fall below a certain revenue threshold since this issue is most noticable at the lower revenues for films.  However, I could also be dropping films that have accurate revenue information.  Further, as noted above, there seems to be multiple kinds of errors.  In the case of \"The Getaway\" it seems that the string 30 million' had everything but the integers stripped, resulting in a massive error.  However for \"Electra Luxx\", the revenue of 11,000 was dropped completely to 10, and I have no idea how that happened.  This raises larger concerns about the accuracy of other revenue numbers, since I'm not sure how that could even have occured.  \n",
    "\n",
    "3) I could uncover how to use the IMDB API and import revenue data for all of these films directly from their API and merge it into my dataset to replace the revenue numbers I have.  IMDB is the source that I've used to spot check revenue and other data points for each film, and is a source that is highly trusted in the industry. This does raise the question of \"why not just import an entirely new dataset from IMDB\".  Good question.  The reason is that there are two API's, one is professional and one is open source using the IMDbPy python package.  I'll have to use the open source API and there is sparse documentation and questionable functionality to retrieve data in bulk. \n",
    "\n",
    "4) AJ suggested that since my concerns about data quality seem to related to lower-revenue films I could segment my dataset by revenue and train different models on each segment.  This would create multiple models and increase the complexity of my project, but mitigates rather than resolves my concern regarding data quality.  I'd like to implement this later in the project regardless, and take the opportunity to examine box office hits and bombs in more detail.\n",
    "\n",
    "After consulting both AJ and Finn, I've decided to figure out how to import data from IMDB, which will require some further work in this notebook."
   ]
  },
  {
   "cell_type": "markdown",
   "metadata": {},
   "source": [
    "# Importing revenue information from IMDB\n",
    "\n",
    "Before I can do anything with the IMDB data, I need to clean the column of my current dataset that contains the IMDB id's."
   ]
  },
  {
   "cell_type": "code",
   "execution_count": null,
   "metadata": {},
   "outputs": [],
   "source": [
    "boxoffice.imdb_id.head(5)     \n",
    "\n",
    "#The values in this column are all strings, this is good.\n",
    "#However, in order to pass them into the function I'll need to use with IMDbPy I need to strip the 'tt' from each"
   ]
  },
  {
   "cell_type": "code",
   "execution_count": null,
   "metadata": {},
   "outputs": [],
   "source": [
    "boxoffice.imdb_id = boxoffice.imdb_id.str.replace('tt', '')\n",
    "\n",
    "boxoffice.imdb_id.head()"
   ]
  },
  {
   "cell_type": "markdown",
   "metadata": {},
   "source": [
    "Now I have the imdb_id column in the desired format to use with the IMDbPy package, it's time to pull in the data I need with that package."
   ]
  },
  {
   "cell_type": "code",
   "execution_count": null,
   "metadata": {},
   "outputs": [],
   "source": [
    "ia = IMDb()     #initializes the IMDbPy packages with an alias"
   ]
  },
  {
   "cell_type": "code",
   "execution_count": null,
   "metadata": {},
   "outputs": [],
   "source": []
  },
  {
   "cell_type": "code",
   "execution_count": null,
   "metadata": {},
   "outputs": [],
   "source": []
  },
  {
   "cell_type": "code",
   "execution_count": null,
   "metadata": {},
   "outputs": [],
   "source": []
  },
  {
   "cell_type": "code",
   "execution_count": null,
   "metadata": {},
   "outputs": [],
   "source": []
  },
  {
   "cell_type": "code",
   "execution_count": null,
   "metadata": {},
   "outputs": [],
   "source": []
  },
  {
   "cell_type": "markdown",
   "metadata": {},
   "source": [
    "### Creating dummy variables\n",
    "\n",
    "I need to create dummy variables in order to more easily carry out analysis on categorical features.  Currently each film in a categorical column has a value equal to a list of cetegories (genres, cast, languages, etc) present in that film.  \n",
    "\n",
    "What I'd like to do is to break these out into new columns, store the new column names as individual lists, then concatenate them back to the larger dataset."
   ]
  },
  {
   "cell_type": "code",
   "execution_count": null,
   "metadata": {},
   "outputs": [],
   "source": [
    "boxoffice.genre"
   ]
  },
  {
   "cell_type": "markdown",
   "metadata": {},
   "source": [
    "### Final check on the data and saving the cleaned dataframe"
   ]
  },
  {
   "cell_type": "code",
   "execution_count": null,
   "metadata": {
    "scrolled": false
   },
   "outputs": [],
   "source": [
    "boxoffice['collectionbool'] = Collection_bool\n",
    "\n",
    "boxoffice.info()"
   ]
  },
  {
   "cell_type": "markdown",
   "metadata": {},
   "source": [
    "There are still some missing values in the dataset that I need to be aware of, but I'll leave things as is for now and save this as a cleaned .csv"
   ]
  },
  {
   "cell_type": "code",
   "execution_count": null,
   "metadata": {},
   "outputs": [],
   "source": [
    "boxoffice.to_csv(r'C:\\Users\\deann\\Documents\\Data\\Box Office Prediction Data\\boxoffice_data.csv', index=False)"
   ]
  },
  {
   "cell_type": "markdown",
   "metadata": {},
   "source": [
    "### Summary\n",
    "\n",
    "This was my notebook containing the data wrangling work to create a predictive model for a film's boxoffice revenue.  \n",
    "\n",
    "In this notebook I imported the dataset from TMDB (via Kaggle), and examined it for missing values.  Immediately it was apparent that two columns 'belongs_to_collection' and 'homepage' had significant missing values.  It was also readily apparent that several of the columns were lists of dictionaries that would be complex to work with, and that I had a few columns that weren't needed. \n",
    "\n",
    "Ultimately I chose to drop the columns for 'id', 'homepage', 'poster_path', and 'status'.  Both 'homepage' and 'poster_path' were links to external websites, while 'id' was a duplicate of the index and 'status' was the same value for all movies. \n",
    "\n",
    "I also added three new columns: 'collectionbool' as a boolean mask indicating if a movie is part of a larger collection, 'Overview_length' and 'Tag_length' I engineered to provide a numeric value for both the film's plot overview and tagline since both are used in marketing efforts and could contribute to a films revenue.\n",
    "\n",
    "I imported the ***ast*** library in order to use the literal_eval method on the values in 'belongs_to_colleection'.  This column's values were lists of dictionaries, formatted as strings so I was unable to extract the dictionary values normally. Using this I extracted only the name of the film collection and replace the original values for the column with that.  \n",
    "\n",
    "Since that worked well, I then was able to write a function that allowed me to extract the names of the production companies, countries, spoken languages, cast, and crew. \n",
    "\n",
    "\n",
    "Finally I examined the distribution of numerical values to identify any concerning outliers in the data.  While I do have some extreme values in revenue and budget, they are all accurate so I chose to leave them in.  The popularity metric has some rather large values as well, and is derived from user behavior on TMDB's website.  I chose to keep the outliers for now, however that column may ultimately be dropped if it has little correlation with the actual revenue. \n",
    "\n",
    "If you'd like to read more, my next notebook will examine the relationships between numeric variables and start to look at the impact of different categorical variables as well. \n"
   ]
  }
 ],
 "metadata": {
  "kernelspec": {
   "display_name": "Python 3",
   "language": "python",
   "name": "python3"
  },
  "language_info": {
   "codemirror_mode": {
    "name": "ipython",
    "version": 3
   },
   "file_extension": ".py",
   "mimetype": "text/x-python",
   "name": "python",
   "nbconvert_exporter": "python",
   "pygments_lexer": "ipython3",
   "version": "3.8.5"
  }
 },
 "nbformat": 4,
 "nbformat_minor": 4
}
