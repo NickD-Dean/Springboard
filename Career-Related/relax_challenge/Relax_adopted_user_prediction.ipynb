{
 "cells": [
  {
   "cell_type": "markdown",
   "id": "3d467ec2",
   "metadata": {},
   "source": [
    "# Relax User Adoption Study\n",
    "\n",
    "Defining  an  *\"adopted  user\"*   as  a  user  who   has  logged  into  the  product  on  three  separate days  in  at  least  one  seven­day  period,  identify  which  factors  **predict  future  user adoption.**\n",
    "\n",
    "**Data Sources:**\n",
    "\n",
    "1. takehome_users(information about a given user and how their account was created)\n",
    "\n",
    "\n",
    "2. takehome_user_engagement (row for each day a user logged into the product)\n"
   ]
  },
  {
   "cell_type": "code",
   "execution_count": 44,
   "id": "ffe2010a",
   "metadata": {},
   "outputs": [],
   "source": [
    "import pandas as pd\n",
    "import numpy as np\n",
    "import matplotlib.pyplot as plt\n",
    "import seaborn as sns\n",
    "import time\n",
    "from datetime import datetime\n",
    "from sklearn.model_selection import train_test_split, RandomizedSearchCV\n",
    "from sklearn.preprocessing import LabelEncoder, StandardScaler\n",
    "from sklearn.metrics import accuracy_score, classification_report\n",
    "from sklearn.linear_model import LogisticRegression\n",
    "from sklearn.ensemble import RandomForestClassifier, GradientBoostingClassifier\n",
    "from sklearn.dummy import DummyClassifier\n",
    "import shap\n",
    "\n",
    "%matplotlib inline\n",
    "\n",
    "sns.set_style('darkgrid')"
   ]
  },
  {
   "cell_type": "code",
   "execution_count": 2,
   "id": "bbda01ff",
   "metadata": {},
   "outputs": [],
   "source": [
    "eng = pd.read_csv('takehome_user_engagement.csv')\n",
    "\n",
    "users = pd.read_csv('takehome_users.csv', encoding='latin-1')"
   ]
  },
  {
   "cell_type": "code",
   "execution_count": 3,
   "id": "0e6ea963",
   "metadata": {},
   "outputs": [
    {
     "name": "stdout",
     "output_type": "stream",
     "text": [
      "<class 'pandas.core.frame.DataFrame'>\n",
      "RangeIndex: 12000 entries, 0 to 11999\n",
      "Data columns (total 10 columns):\n",
      " #   Column                      Non-Null Count  Dtype  \n",
      "---  ------                      --------------  -----  \n",
      " 0   object_id                   12000 non-null  int64  \n",
      " 1   creation_time               12000 non-null  object \n",
      " 2   name                        12000 non-null  object \n",
      " 3   email                       12000 non-null  object \n",
      " 4   creation_source             12000 non-null  object \n",
      " 5   last_session_creation_time  8823 non-null   float64\n",
      " 6   opted_in_to_mailing_list    12000 non-null  int64  \n",
      " 7   enabled_for_marketing_drip  12000 non-null  int64  \n",
      " 8   org_id                      12000 non-null  int64  \n",
      " 9   invited_by_user_id          6417 non-null   float64\n",
      "dtypes: float64(2), int64(4), object(4)\n",
      "memory usage: 937.6+ KB\n",
      "None\n"
     ]
    },
    {
     "data": {
      "text/html": [
       "<div>\n",
       "<style scoped>\n",
       "    .dataframe tbody tr th:only-of-type {\n",
       "        vertical-align: middle;\n",
       "    }\n",
       "\n",
       "    .dataframe tbody tr th {\n",
       "        vertical-align: top;\n",
       "    }\n",
       "\n",
       "    .dataframe thead th {\n",
       "        text-align: right;\n",
       "    }\n",
       "</style>\n",
       "<table border=\"1\" class=\"dataframe\">\n",
       "  <thead>\n",
       "    <tr style=\"text-align: right;\">\n",
       "      <th></th>\n",
       "      <th>object_id</th>\n",
       "      <th>creation_time</th>\n",
       "      <th>name</th>\n",
       "      <th>email</th>\n",
       "      <th>creation_source</th>\n",
       "      <th>last_session_creation_time</th>\n",
       "      <th>opted_in_to_mailing_list</th>\n",
       "      <th>enabled_for_marketing_drip</th>\n",
       "      <th>org_id</th>\n",
       "      <th>invited_by_user_id</th>\n",
       "    </tr>\n",
       "  </thead>\n",
       "  <tbody>\n",
       "    <tr>\n",
       "      <th>0</th>\n",
       "      <td>1</td>\n",
       "      <td>2014-04-22 03:53:30</td>\n",
       "      <td>Clausen August</td>\n",
       "      <td>AugustCClausen@yahoo.com</td>\n",
       "      <td>GUEST_INVITE</td>\n",
       "      <td>1.398139e+09</td>\n",
       "      <td>1</td>\n",
       "      <td>0</td>\n",
       "      <td>11</td>\n",
       "      <td>10803.0</td>\n",
       "    </tr>\n",
       "    <tr>\n",
       "      <th>1</th>\n",
       "      <td>2</td>\n",
       "      <td>2013-11-15 03:45:04</td>\n",
       "      <td>Poole Matthew</td>\n",
       "      <td>MatthewPoole@gustr.com</td>\n",
       "      <td>ORG_INVITE</td>\n",
       "      <td>1.396238e+09</td>\n",
       "      <td>0</td>\n",
       "      <td>0</td>\n",
       "      <td>1</td>\n",
       "      <td>316.0</td>\n",
       "    </tr>\n",
       "    <tr>\n",
       "      <th>2</th>\n",
       "      <td>3</td>\n",
       "      <td>2013-03-19 23:14:52</td>\n",
       "      <td>Bottrill Mitchell</td>\n",
       "      <td>MitchellBottrill@gustr.com</td>\n",
       "      <td>ORG_INVITE</td>\n",
       "      <td>1.363735e+09</td>\n",
       "      <td>0</td>\n",
       "      <td>0</td>\n",
       "      <td>94</td>\n",
       "      <td>1525.0</td>\n",
       "    </tr>\n",
       "    <tr>\n",
       "      <th>3</th>\n",
       "      <td>4</td>\n",
       "      <td>2013-05-21 08:09:28</td>\n",
       "      <td>Clausen Nicklas</td>\n",
       "      <td>NicklasSClausen@yahoo.com</td>\n",
       "      <td>GUEST_INVITE</td>\n",
       "      <td>1.369210e+09</td>\n",
       "      <td>0</td>\n",
       "      <td>0</td>\n",
       "      <td>1</td>\n",
       "      <td>5151.0</td>\n",
       "    </tr>\n",
       "    <tr>\n",
       "      <th>4</th>\n",
       "      <td>5</td>\n",
       "      <td>2013-01-17 10:14:20</td>\n",
       "      <td>Raw Grace</td>\n",
       "      <td>GraceRaw@yahoo.com</td>\n",
       "      <td>GUEST_INVITE</td>\n",
       "      <td>1.358850e+09</td>\n",
       "      <td>0</td>\n",
       "      <td>0</td>\n",
       "      <td>193</td>\n",
       "      <td>5240.0</td>\n",
       "    </tr>\n",
       "  </tbody>\n",
       "</table>\n",
       "</div>"
      ],
      "text/plain": [
       "   object_id        creation_time               name  \\\n",
       "0          1  2014-04-22 03:53:30     Clausen August   \n",
       "1          2  2013-11-15 03:45:04      Poole Matthew   \n",
       "2          3  2013-03-19 23:14:52  Bottrill Mitchell   \n",
       "3          4  2013-05-21 08:09:28    Clausen Nicklas   \n",
       "4          5  2013-01-17 10:14:20          Raw Grace   \n",
       "\n",
       "                        email creation_source  last_session_creation_time  \\\n",
       "0    AugustCClausen@yahoo.com    GUEST_INVITE                1.398139e+09   \n",
       "1      MatthewPoole@gustr.com      ORG_INVITE                1.396238e+09   \n",
       "2  MitchellBottrill@gustr.com      ORG_INVITE                1.363735e+09   \n",
       "3   NicklasSClausen@yahoo.com    GUEST_INVITE                1.369210e+09   \n",
       "4          GraceRaw@yahoo.com    GUEST_INVITE                1.358850e+09   \n",
       "\n",
       "   opted_in_to_mailing_list  enabled_for_marketing_drip  org_id  \\\n",
       "0                         1                           0      11   \n",
       "1                         0                           0       1   \n",
       "2                         0                           0      94   \n",
       "3                         0                           0       1   \n",
       "4                         0                           0     193   \n",
       "\n",
       "   invited_by_user_id  \n",
       "0             10803.0  \n",
       "1               316.0  \n",
       "2              1525.0  \n",
       "3              5151.0  \n",
       "4              5240.0  "
      ]
     },
     "execution_count": 3,
     "metadata": {},
     "output_type": "execute_result"
    }
   ],
   "source": [
    "print(users.info())\n",
    "users.head(5)"
   ]
  },
  {
   "cell_type": "code",
   "execution_count": 4,
   "id": "f0cc73f4",
   "metadata": {},
   "outputs": [
    {
     "name": "stdout",
     "output_type": "stream",
     "text": [
      "<class 'pandas.core.frame.DataFrame'>\n",
      "RangeIndex: 207917 entries, 0 to 207916\n",
      "Data columns (total 3 columns):\n",
      " #   Column      Non-Null Count   Dtype \n",
      "---  ------      --------------   ----- \n",
      " 0   time_stamp  207917 non-null  object\n",
      " 1   user_id     207917 non-null  int64 \n",
      " 2   visited     207917 non-null  int64 \n",
      "dtypes: int64(2), object(1)\n",
      "memory usage: 4.8+ MB\n",
      "None\n"
     ]
    },
    {
     "data": {
      "text/html": [
       "<div>\n",
       "<style scoped>\n",
       "    .dataframe tbody tr th:only-of-type {\n",
       "        vertical-align: middle;\n",
       "    }\n",
       "\n",
       "    .dataframe tbody tr th {\n",
       "        vertical-align: top;\n",
       "    }\n",
       "\n",
       "    .dataframe thead th {\n",
       "        text-align: right;\n",
       "    }\n",
       "</style>\n",
       "<table border=\"1\" class=\"dataframe\">\n",
       "  <thead>\n",
       "    <tr style=\"text-align: right;\">\n",
       "      <th></th>\n",
       "      <th>time_stamp</th>\n",
       "      <th>user_id</th>\n",
       "      <th>visited</th>\n",
       "    </tr>\n",
       "  </thead>\n",
       "  <tbody>\n",
       "    <tr>\n",
       "      <th>0</th>\n",
       "      <td>2014-04-22 03:53:30</td>\n",
       "      <td>1</td>\n",
       "      <td>1</td>\n",
       "    </tr>\n",
       "    <tr>\n",
       "      <th>1</th>\n",
       "      <td>2013-11-15 03:45:04</td>\n",
       "      <td>2</td>\n",
       "      <td>1</td>\n",
       "    </tr>\n",
       "    <tr>\n",
       "      <th>2</th>\n",
       "      <td>2013-11-29 03:45:04</td>\n",
       "      <td>2</td>\n",
       "      <td>1</td>\n",
       "    </tr>\n",
       "    <tr>\n",
       "      <th>3</th>\n",
       "      <td>2013-12-09 03:45:04</td>\n",
       "      <td>2</td>\n",
       "      <td>1</td>\n",
       "    </tr>\n",
       "    <tr>\n",
       "      <th>4</th>\n",
       "      <td>2013-12-25 03:45:04</td>\n",
       "      <td>2</td>\n",
       "      <td>1</td>\n",
       "    </tr>\n",
       "  </tbody>\n",
       "</table>\n",
       "</div>"
      ],
      "text/plain": [
       "            time_stamp  user_id  visited\n",
       "0  2014-04-22 03:53:30        1        1\n",
       "1  2013-11-15 03:45:04        2        1\n",
       "2  2013-11-29 03:45:04        2        1\n",
       "3  2013-12-09 03:45:04        2        1\n",
       "4  2013-12-25 03:45:04        2        1"
      ]
     },
     "execution_count": 4,
     "metadata": {},
     "output_type": "execute_result"
    }
   ],
   "source": [
    "print(eng.info())\n",
    "eng.head(5)"
   ]
  },
  {
   "cell_type": "markdown",
   "id": "fcaf476c",
   "metadata": {},
   "source": [
    "Several items of note appear after this initial look:\n",
    "\n",
    "\n",
    "1.  I need to change several columns to datetime objects\n",
    "\n",
    "\n",
    "2. Fill in missing values - if any.\n",
    "\n",
    "\n",
    "3. I need to create some dummy variables for account creation source\n",
    "\n",
    "\n",
    "4. I'll need to create several new features: \n",
    "\n",
    "    - Invited by a member of the same organization (y/n?)\n",
    "\n",
    "    - Adopted user (y/n?) \n",
    "\n",
    "    - \\# of logins prior to becoming 'adopted'\n",
    "\n",
    "5. Examine last session time and understand how this feature translates into datetime values, if at all."
   ]
  },
  {
   "cell_type": "code",
   "execution_count": 5,
   "id": "afcf0172",
   "metadata": {},
   "outputs": [],
   "source": [
    "# Converting columns to datetime objects\n",
    "users['creation_time'] = pd.to_datetime(users['creation_time'], format='%Y %m %d %H:%M:%S')\n",
    "eng['time_stamp'] = pd.to_datetime(eng['time_stamp'], format='%Y %m %d %H:%M:%S')\n",
    "\n",
    "# also converting the referral id to an integer and renaming the column to be easier to use\n",
    "\n",
    "users.rename(columns = {'invited_by_user_id':'referral_id', 'object_id':'user_id'}, inplace=True)\n",
    "users['referral_id'] = users['referral_id'].fillna(0)\n",
    "users['referral_id'] = users['referral_id'].astype('int64')"
   ]
  },
  {
   "cell_type": "code",
   "execution_count": 6,
   "id": "55081847",
   "metadata": {},
   "outputs": [
    {
     "name": "stdout",
     "output_type": "stream",
     "text": [
      "<class 'pandas.core.frame.DataFrame'>\n",
      "RangeIndex: 12000 entries, 0 to 11999\n",
      "Data columns (total 10 columns):\n",
      " #   Column                      Non-Null Count  Dtype         \n",
      "---  ------                      --------------  -----         \n",
      " 0   user_id                     12000 non-null  int64         \n",
      " 1   creation_time               12000 non-null  datetime64[ns]\n",
      " 2   name                        12000 non-null  object        \n",
      " 3   email                       12000 non-null  object        \n",
      " 4   creation_source             12000 non-null  object        \n",
      " 5   last_session_creation_time  8823 non-null   float64       \n",
      " 6   opted_in_to_mailing_list    12000 non-null  int64         \n",
      " 7   enabled_for_marketing_drip  12000 non-null  int64         \n",
      " 8   org_id                      12000 non-null  int64         \n",
      " 9   referral_id                 12000 non-null  int64         \n",
      "dtypes: datetime64[ns](1), float64(1), int64(5), object(3)\n",
      "memory usage: 937.6+ KB\n",
      "None\n",
      "<class 'pandas.core.frame.DataFrame'>\n",
      "RangeIndex: 207917 entries, 0 to 207916\n",
      "Data columns (total 3 columns):\n",
      " #   Column      Non-Null Count   Dtype         \n",
      "---  ------      --------------   -----         \n",
      " 0   time_stamp  207917 non-null  datetime64[ns]\n",
      " 1   user_id     207917 non-null  int64         \n",
      " 2   visited     207917 non-null  int64         \n",
      "dtypes: datetime64[ns](1), int64(2)\n",
      "memory usage: 4.8 MB\n"
     ]
    }
   ],
   "source": [
    "print(users.info())\n",
    "eng.info()"
   ]
  },
  {
   "cell_type": "code",
   "execution_count": 7,
   "id": "f1b07897",
   "metadata": {},
   "outputs": [
    {
     "data": {
      "text/html": [
       "<div>\n",
       "<style scoped>\n",
       "    .dataframe tbody tr th:only-of-type {\n",
       "        vertical-align: middle;\n",
       "    }\n",
       "\n",
       "    .dataframe tbody tr th {\n",
       "        vertical-align: top;\n",
       "    }\n",
       "\n",
       "    .dataframe thead th {\n",
       "        text-align: right;\n",
       "    }\n",
       "</style>\n",
       "<table border=\"1\" class=\"dataframe\">\n",
       "  <thead>\n",
       "    <tr style=\"text-align: right;\">\n",
       "      <th></th>\n",
       "      <th>user_id</th>\n",
       "      <th>last_session_creation_time</th>\n",
       "      <th>opted_in_to_mailing_list</th>\n",
       "      <th>enabled_for_marketing_drip</th>\n",
       "      <th>org_id</th>\n",
       "      <th>referral_id</th>\n",
       "    </tr>\n",
       "  </thead>\n",
       "  <tbody>\n",
       "    <tr>\n",
       "      <th>count</th>\n",
       "      <td>12000.00000</td>\n",
       "      <td>8.823000e+03</td>\n",
       "      <td>12000.000000</td>\n",
       "      <td>12000.000000</td>\n",
       "      <td>12000.000000</td>\n",
       "      <td>12000.000000</td>\n",
       "    </tr>\n",
       "    <tr>\n",
       "      <th>mean</th>\n",
       "      <td>6000.50000</td>\n",
       "      <td>1.379279e+09</td>\n",
       "      <td>0.249500</td>\n",
       "      <td>0.149333</td>\n",
       "      <td>141.884583</td>\n",
       "      <td>3188.691333</td>\n",
       "    </tr>\n",
       "    <tr>\n",
       "      <th>std</th>\n",
       "      <td>3464.24595</td>\n",
       "      <td>1.953116e+07</td>\n",
       "      <td>0.432742</td>\n",
       "      <td>0.356432</td>\n",
       "      <td>124.056723</td>\n",
       "      <td>3869.027693</td>\n",
       "    </tr>\n",
       "    <tr>\n",
       "      <th>min</th>\n",
       "      <td>1.00000</td>\n",
       "      <td>1.338452e+09</td>\n",
       "      <td>0.000000</td>\n",
       "      <td>0.000000</td>\n",
       "      <td>0.000000</td>\n",
       "      <td>0.000000</td>\n",
       "    </tr>\n",
       "    <tr>\n",
       "      <th>25%</th>\n",
       "      <td>3000.75000</td>\n",
       "      <td>1.363195e+09</td>\n",
       "      <td>0.000000</td>\n",
       "      <td>0.000000</td>\n",
       "      <td>29.000000</td>\n",
       "      <td>0.000000</td>\n",
       "    </tr>\n",
       "    <tr>\n",
       "      <th>50%</th>\n",
       "      <td>6000.50000</td>\n",
       "      <td>1.382888e+09</td>\n",
       "      <td>0.000000</td>\n",
       "      <td>0.000000</td>\n",
       "      <td>108.000000</td>\n",
       "      <td>875.000000</td>\n",
       "    </tr>\n",
       "    <tr>\n",
       "      <th>75%</th>\n",
       "      <td>9000.25000</td>\n",
       "      <td>1.398443e+09</td>\n",
       "      <td>0.000000</td>\n",
       "      <td>0.000000</td>\n",
       "      <td>238.250000</td>\n",
       "      <td>6317.000000</td>\n",
       "    </tr>\n",
       "    <tr>\n",
       "      <th>max</th>\n",
       "      <td>12000.00000</td>\n",
       "      <td>1.402067e+09</td>\n",
       "      <td>1.000000</td>\n",
       "      <td>1.000000</td>\n",
       "      <td>416.000000</td>\n",
       "      <td>11999.000000</td>\n",
       "    </tr>\n",
       "  </tbody>\n",
       "</table>\n",
       "</div>"
      ],
      "text/plain": [
       "           user_id  last_session_creation_time  opted_in_to_mailing_list  \\\n",
       "count  12000.00000                8.823000e+03              12000.000000   \n",
       "mean    6000.50000                1.379279e+09                  0.249500   \n",
       "std     3464.24595                1.953116e+07                  0.432742   \n",
       "min        1.00000                1.338452e+09                  0.000000   \n",
       "25%     3000.75000                1.363195e+09                  0.000000   \n",
       "50%     6000.50000                1.382888e+09                  0.000000   \n",
       "75%     9000.25000                1.398443e+09                  0.000000   \n",
       "max    12000.00000                1.402067e+09                  1.000000   \n",
       "\n",
       "       enabled_for_marketing_drip        org_id   referral_id  \n",
       "count                12000.000000  12000.000000  12000.000000  \n",
       "mean                     0.149333    141.884583   3188.691333  \n",
       "std                      0.356432    124.056723   3869.027693  \n",
       "min                      0.000000      0.000000      0.000000  \n",
       "25%                      0.000000     29.000000      0.000000  \n",
       "50%                      0.000000    108.000000    875.000000  \n",
       "75%                      0.000000    238.250000   6317.000000  \n",
       "max                      1.000000    416.000000  11999.000000  "
      ]
     },
     "execution_count": 7,
     "metadata": {},
     "output_type": "execute_result"
    }
   ],
   "source": [
    "users.describe()"
   ]
  },
  {
   "cell_type": "code",
   "execution_count": 8,
   "id": "101a4595",
   "metadata": {},
   "outputs": [
    {
     "data": {
      "text/html": [
       "<div>\n",
       "<style scoped>\n",
       "    .dataframe tbody tr th:only-of-type {\n",
       "        vertical-align: middle;\n",
       "    }\n",
       "\n",
       "    .dataframe tbody tr th {\n",
       "        vertical-align: top;\n",
       "    }\n",
       "\n",
       "    .dataframe thead th {\n",
       "        text-align: right;\n",
       "    }\n",
       "</style>\n",
       "<table border=\"1\" class=\"dataframe\">\n",
       "  <thead>\n",
       "    <tr style=\"text-align: right;\">\n",
       "      <th></th>\n",
       "      <th>user_id</th>\n",
       "      <th>visited</th>\n",
       "    </tr>\n",
       "  </thead>\n",
       "  <tbody>\n",
       "    <tr>\n",
       "      <th>count</th>\n",
       "      <td>207917.000000</td>\n",
       "      <td>207917.0</td>\n",
       "    </tr>\n",
       "    <tr>\n",
       "      <th>mean</th>\n",
       "      <td>5913.314197</td>\n",
       "      <td>1.0</td>\n",
       "    </tr>\n",
       "    <tr>\n",
       "      <th>std</th>\n",
       "      <td>3394.941674</td>\n",
       "      <td>0.0</td>\n",
       "    </tr>\n",
       "    <tr>\n",
       "      <th>min</th>\n",
       "      <td>1.000000</td>\n",
       "      <td>1.0</td>\n",
       "    </tr>\n",
       "    <tr>\n",
       "      <th>25%</th>\n",
       "      <td>3087.000000</td>\n",
       "      <td>1.0</td>\n",
       "    </tr>\n",
       "    <tr>\n",
       "      <th>50%</th>\n",
       "      <td>5682.000000</td>\n",
       "      <td>1.0</td>\n",
       "    </tr>\n",
       "    <tr>\n",
       "      <th>75%</th>\n",
       "      <td>8944.000000</td>\n",
       "      <td>1.0</td>\n",
       "    </tr>\n",
       "    <tr>\n",
       "      <th>max</th>\n",
       "      <td>12000.000000</td>\n",
       "      <td>1.0</td>\n",
       "    </tr>\n",
       "  </tbody>\n",
       "</table>\n",
       "</div>"
      ],
      "text/plain": [
       "             user_id   visited\n",
       "count  207917.000000  207917.0\n",
       "mean     5913.314197       1.0\n",
       "std      3394.941674       0.0\n",
       "min         1.000000       1.0\n",
       "25%      3087.000000       1.0\n",
       "50%      5682.000000       1.0\n",
       "75%      8944.000000       1.0\n",
       "max     12000.000000       1.0"
      ]
     },
     "execution_count": 8,
     "metadata": {},
     "output_type": "execute_result"
    }
   ],
   "source": [
    "eng.describe()"
   ]
  },
  {
   "cell_type": "markdown",
   "id": "6aa64ba5",
   "metadata": {},
   "source": [
    "From the above we can see that the engagement dataframe is clean, and in fact we can drop the visited colum if needed since it's all identical.  For now I'm going to keep it since it may be useful for windown functions and resampling the time series information. \n",
    "\n",
    "It seems prodent to fill in the 'invited by user_id' as zero since there are no users with that ID and it will prevent any issues with null values later on.  \n",
    "\n",
    "However I need to examine the 'last session created time' in order to asess how to impute those missing values. "
   ]
  },
  {
   "cell_type": "code",
   "execution_count": 9,
   "id": "9fbd777b",
   "metadata": {},
   "outputs": [
    {
     "data": {
      "text/plain": [
       "0        1.398139e+09\n",
       "1        1.396238e+09\n",
       "2        1.363735e+09\n",
       "3        1.369210e+09\n",
       "4        1.358850e+09\n",
       "             ...     \n",
       "11995    1.378448e+09\n",
       "11996    1.358275e+09\n",
       "11997    1.398603e+09\n",
       "11998    1.338638e+09\n",
       "11999    1.390727e+09\n",
       "Name: last_session_creation_time, Length: 12000, dtype: float64"
      ]
     },
     "execution_count": 9,
     "metadata": {},
     "output_type": "execute_result"
    }
   ],
   "source": [
    "users.last_session_creation_time"
   ]
  },
  {
   "cell_type": "markdown",
   "id": "1b06ece3",
   "metadata": {},
   "source": [
    "This is in a unix timestamp format and I'll need to convert it back to the same formate as the other datetime objects in order to simplify working with the time data.  This will also allow me to impute the last login time from the engagement dataframe. "
   ]
  },
  {
   "cell_type": "code",
   "execution_count": 10,
   "id": "b777c8a7",
   "metadata": {},
   "outputs": [],
   "source": [
    "users['last_session_creation_time'] = pd.to_datetime(users['last_session_creation_time'],unit='s')"
   ]
  },
  {
   "cell_type": "markdown",
   "id": "a658a755",
   "metadata": {},
   "source": [
    "Next I need to fill in the missing values for 'last_session_creation_time'.  However, all the values from the engagement data that could be used to fill in this missing values only exist for users where we already have the 'last_session_creation_time'. I'll need to decide on another method to fill those values if needed.  However given that I'm missing 25% of the values there I'll wait to see how and if I need them before blindly choosing a method."
   ]
  },
  {
   "cell_type": "markdown",
   "id": "59299795",
   "metadata": {},
   "source": [
    "### Engineering Several Features"
   ]
  },
  {
   "cell_type": "code",
   "execution_count": 11,
   "id": "c044597e",
   "metadata": {},
   "outputs": [],
   "source": [
    "# Creating binary feature that indicates if a user was invited to join by a member of the same org\n",
    "\n",
    "for i in users.index:\n",
    "    if users.loc[i, 'referral_id'] != 0:\n",
    "        ref = users.loc[i, 'referral_id'] #storing the referrer ID\n",
    "        new_org = users.loc[i, 'org_id'] # storing the org ID for the user\n",
    "        ref_org = users['org_id'][users['user_id'] == ref].iloc[0] # selecting the first value in a pandas series as the org ID for the referrer\n",
    "        if ref_org == new_org:\n",
    "                users.loc[i, 'org_referral'] = 1 # If the referrer org and user org match, value is 1\n",
    "        else: \n",
    "            users.loc[i, 'org_referral'] = 0\n",
    "    else:\n",
    "        users.loc[i, 'org_referral'] = 0  "
   ]
  },
  {
   "cell_type": "markdown",
   "id": "226c6056",
   "metadata": {},
   "source": [
    "Next I need to define the 'adopted' feauture as a label for analysis.  In this instance it is whether or not a users has logged in on 3 distinct days within a given 7 day period. In this instance it does not matter when a 'week' begins or ends, which means that were we tobe using SQL I'd do this with a window function. "
   ]
  },
  {
   "cell_type": "code",
   "execution_count": 12,
   "id": "df55a8ef",
   "metadata": {},
   "outputs": [],
   "source": [
    "# Creating a feature which indicated whether or not a users is 'adopted'\n",
    "ids = list(eng.user_id.unique())\n",
    "index = users.index\n",
    "for i in ids:\n",
    "    idx = users.index[users[\"user_id\"] == i].tolist()[0]\n",
    "    practice = eng[eng['user_id'] == i]\n",
    "    practice = practice[['time_stamp', 'visited']]\n",
    "    practice.index = practice['time_stamp']\n",
    "    practice = practice.drop('time_stamp', axis=1)\n",
    "    practice = practice.rolling('7d').sum()\n",
    "    \n",
    "    if len(practice[practice['visited'] >2]) >= 1:\n",
    "        users.loc[idx, 'adopted'] = 1\n",
    "    else:\n",
    "        users.loc[idx, 'adopted'] = 0"
   ]
  },
  {
   "cell_type": "code",
   "execution_count": 13,
   "id": "67b7cbb2",
   "metadata": {},
   "outputs": [
    {
     "name": "stdout",
     "output_type": "stream",
     "text": [
      "13.35 percent of users are considered adopted.\n"
     ]
    }
   ],
   "source": [
    "# Showing what percent of users are considered adopted\n",
    "print(str(round(users.adopted.sum()/12000 *100, 2)), 'percent of users are considered adopted.')"
   ]
  },
  {
   "cell_type": "markdown",
   "id": "05b54cbf",
   "metadata": {},
   "source": [
    "### Preprocessing\n",
    "\n",
    "Here I need to prepare the data set for use with the ML models, and manipulate the datetime objects into new columns that are numeric and can be used by ML. \n",
    "\n",
    "I'll be dropping the features which cannot have any predictive power:  name, email, etc.  \n",
    "\n",
    "I'll also need to break out the dates into new features with day/month/week of the year, year, and hour/second of the day, I'll also get out the day of the week. \n",
    "\n",
    "Finally, I'll create some dummy variables from a few other features that are categorical. "
   ]
  },
  {
   "cell_type": "code",
   "execution_count": 14,
   "id": "25c6871f",
   "metadata": {},
   "outputs": [
    {
     "data": {
      "text/html": [
       "<div>\n",
       "<style scoped>\n",
       "    .dataframe tbody tr th:only-of-type {\n",
       "        vertical-align: middle;\n",
       "    }\n",
       "\n",
       "    .dataframe tbody tr th {\n",
       "        vertical-align: top;\n",
       "    }\n",
       "\n",
       "    .dataframe thead th {\n",
       "        text-align: right;\n",
       "    }\n",
       "</style>\n",
       "<table border=\"1\" class=\"dataframe\">\n",
       "  <thead>\n",
       "    <tr style=\"text-align: right;\">\n",
       "      <th></th>\n",
       "      <th>creation_time</th>\n",
       "      <th>creation_source</th>\n",
       "      <th>last_session_creation_time</th>\n",
       "      <th>opted_in_to_mailing_list</th>\n",
       "      <th>enabled_for_marketing_drip</th>\n",
       "      <th>org_referral</th>\n",
       "      <th>adopted</th>\n",
       "    </tr>\n",
       "  </thead>\n",
       "  <tbody>\n",
       "    <tr>\n",
       "      <th>0</th>\n",
       "      <td>2014-04-22 03:53:30</td>\n",
       "      <td>GUEST_INVITE</td>\n",
       "      <td>2014-04-22 03:53:30</td>\n",
       "      <td>1</td>\n",
       "      <td>0</td>\n",
       "      <td>1.0</td>\n",
       "      <td>0.0</td>\n",
       "    </tr>\n",
       "    <tr>\n",
       "      <th>1</th>\n",
       "      <td>2013-11-15 03:45:04</td>\n",
       "      <td>ORG_INVITE</td>\n",
       "      <td>2014-03-31 03:45:04</td>\n",
       "      <td>0</td>\n",
       "      <td>0</td>\n",
       "      <td>1.0</td>\n",
       "      <td>1.0</td>\n",
       "    </tr>\n",
       "    <tr>\n",
       "      <th>2</th>\n",
       "      <td>2013-03-19 23:14:52</td>\n",
       "      <td>ORG_INVITE</td>\n",
       "      <td>2013-03-19 23:14:52</td>\n",
       "      <td>0</td>\n",
       "      <td>0</td>\n",
       "      <td>1.0</td>\n",
       "      <td>0.0</td>\n",
       "    </tr>\n",
       "  </tbody>\n",
       "</table>\n",
       "</div>"
      ],
      "text/plain": [
       "        creation_time creation_source last_session_creation_time  \\\n",
       "0 2014-04-22 03:53:30    GUEST_INVITE        2014-04-22 03:53:30   \n",
       "1 2013-11-15 03:45:04      ORG_INVITE        2014-03-31 03:45:04   \n",
       "2 2013-03-19 23:14:52      ORG_INVITE        2013-03-19 23:14:52   \n",
       "\n",
       "   opted_in_to_mailing_list  enabled_for_marketing_drip  org_referral  adopted  \n",
       "0                         1                           0           1.0      0.0  \n",
       "1                         0                           0           1.0      1.0  \n",
       "2                         0                           0           1.0      0.0  "
      ]
     },
     "execution_count": 14,
     "metadata": {},
     "output_type": "execute_result"
    }
   ],
   "source": [
    "ids = users['user_id']\n",
    "data = users.drop(['user_id', 'org_id', 'name', 'email', 'referral_id'], axis=1)\n",
    "data.head(3)"
   ]
  },
  {
   "cell_type": "code",
   "execution_count": 15,
   "id": "5ba75726",
   "metadata": {},
   "outputs": [
    {
     "data": {
      "text/html": [
       "<div>\n",
       "<style scoped>\n",
       "    .dataframe tbody tr th:only-of-type {\n",
       "        vertical-align: middle;\n",
       "    }\n",
       "\n",
       "    .dataframe tbody tr th {\n",
       "        vertical-align: top;\n",
       "    }\n",
       "\n",
       "    .dataframe thead th {\n",
       "        text-align: right;\n",
       "    }\n",
       "</style>\n",
       "<table border=\"1\" class=\"dataframe\">\n",
       "  <thead>\n",
       "    <tr style=\"text-align: right;\">\n",
       "      <th></th>\n",
       "      <th>creation_time</th>\n",
       "      <th>creation_source</th>\n",
       "      <th>last_session_creation_time</th>\n",
       "      <th>opted_in_to_mailing_list</th>\n",
       "      <th>enabled_for_marketing_drip</th>\n",
       "      <th>org_referral</th>\n",
       "      <th>adopted</th>\n",
       "      <th>timedelta</th>\n",
       "    </tr>\n",
       "  </thead>\n",
       "  <tbody>\n",
       "    <tr>\n",
       "      <th>0</th>\n",
       "      <td>2014-04-22 03:53:30</td>\n",
       "      <td>GUEST_INVITE</td>\n",
       "      <td>2014-04-22 03:53:30</td>\n",
       "      <td>1</td>\n",
       "      <td>0</td>\n",
       "      <td>1.0</td>\n",
       "      <td>0.0</td>\n",
       "      <td>0 days</td>\n",
       "    </tr>\n",
       "    <tr>\n",
       "      <th>1</th>\n",
       "      <td>2013-11-15 03:45:04</td>\n",
       "      <td>ORG_INVITE</td>\n",
       "      <td>2014-03-31 03:45:04</td>\n",
       "      <td>0</td>\n",
       "      <td>0</td>\n",
       "      <td>1.0</td>\n",
       "      <td>1.0</td>\n",
       "      <td>136 days</td>\n",
       "    </tr>\n",
       "    <tr>\n",
       "      <th>2</th>\n",
       "      <td>2013-03-19 23:14:52</td>\n",
       "      <td>ORG_INVITE</td>\n",
       "      <td>2013-03-19 23:14:52</td>\n",
       "      <td>0</td>\n",
       "      <td>0</td>\n",
       "      <td>1.0</td>\n",
       "      <td>0.0</td>\n",
       "      <td>0 days</td>\n",
       "    </tr>\n",
       "  </tbody>\n",
       "</table>\n",
       "</div>"
      ],
      "text/plain": [
       "        creation_time creation_source last_session_creation_time  \\\n",
       "0 2014-04-22 03:53:30    GUEST_INVITE        2014-04-22 03:53:30   \n",
       "1 2013-11-15 03:45:04      ORG_INVITE        2014-03-31 03:45:04   \n",
       "2 2013-03-19 23:14:52      ORG_INVITE        2013-03-19 23:14:52   \n",
       "\n",
       "   opted_in_to_mailing_list  enabled_for_marketing_drip  org_referral  \\\n",
       "0                         1                           0           1.0   \n",
       "1                         0                           0           1.0   \n",
       "2                         0                           0           1.0   \n",
       "\n",
       "   adopted timedelta  \n",
       "0      0.0    0 days  \n",
       "1      1.0  136 days  \n",
       "2      0.0    0 days  "
      ]
     },
     "execution_count": 15,
     "metadata": {},
     "output_type": "execute_result"
    }
   ],
   "source": [
    "data['timedelta'] = data['last_session_creation_time'] - data['creation_time']\n",
    "data.head(3)"
   ]
  },
  {
   "cell_type": "code",
   "execution_count": 16,
   "id": "dd9518d6",
   "metadata": {},
   "outputs": [
    {
     "data": {
      "text/plain": [
       "creation_time                    0\n",
       "creation_source                  0\n",
       "last_session_creation_time    3177\n",
       "opted_in_to_mailing_list         0\n",
       "enabled_for_marketing_drip       0\n",
       "org_referral                     0\n",
       "adopted                       3177\n",
       "timedelta                     3177\n",
       "dtype: int64"
      ]
     },
     "execution_count": 16,
     "metadata": {},
     "output_type": "execute_result"
    }
   ],
   "source": [
    "data.isna().sum()"
   ]
  },
  {
   "cell_type": "code",
   "execution_count": 17,
   "id": "82ea77f4",
   "metadata": {},
   "outputs": [
    {
     "name": "stdout",
     "output_type": "stream",
     "text": [
      "<class 'pandas.core.frame.DataFrame'>\n",
      "Int64Index: 8823 entries, 0 to 11999\n",
      "Data columns (total 5 columns):\n",
      " #   Column                      Non-Null Count  Dtype          \n",
      "---  ------                      --------------  -----          \n",
      " 0   opted_in_to_mailing_list    8823 non-null   int64          \n",
      " 1   enabled_for_marketing_drip  8823 non-null   int64          \n",
      " 2   org_referral                8823 non-null   float64        \n",
      " 3   adopted                     8823 non-null   float64        \n",
      " 4   timedelta                   8823 non-null   timedelta64[ns]\n",
      "dtypes: float64(2), int64(2), timedelta64[ns](1)\n",
      "memory usage: 413.6 KB\n"
     ]
    }
   ],
   "source": [
    "#I've found that there are missing values in the adopted column, as well as the last_login date columns and will\n",
    "# drop those columns here\n",
    "data = data.dropna()\n",
    "# Encoding the categorical feature using on-hot for logistic regression, and label encoding for ensemble models\n",
    "\n",
    "dummy  = pd.get_dummies(data['creation_source'], prefix = 'source')\n",
    "le = LabelEncoder()\n",
    "label_coded = pd.Series(le.fit_transform(data['creation_source']))\n",
    "data = data.drop(['creation_source', 'creation_time', 'last_session_creation_time'], axis = 1)\n",
    "data.info()"
   ]
  },
  {
   "cell_type": "code",
   "execution_count": 18,
   "id": "55e312de",
   "metadata": {},
   "outputs": [
    {
     "data": {
      "text/html": [
       "<div>\n",
       "<style scoped>\n",
       "    .dataframe tbody tr th:only-of-type {\n",
       "        vertical-align: middle;\n",
       "    }\n",
       "\n",
       "    .dataframe tbody tr th {\n",
       "        vertical-align: top;\n",
       "    }\n",
       "\n",
       "    .dataframe thead th {\n",
       "        text-align: right;\n",
       "    }\n",
       "</style>\n",
       "<table border=\"1\" class=\"dataframe\">\n",
       "  <thead>\n",
       "    <tr style=\"text-align: right;\">\n",
       "      <th></th>\n",
       "      <th>opted_in_to_mailing_list</th>\n",
       "      <th>enabled_for_marketing_drip</th>\n",
       "      <th>org_referral</th>\n",
       "      <th>adopted</th>\n",
       "      <th>timedelta</th>\n",
       "    </tr>\n",
       "  </thead>\n",
       "  <tbody>\n",
       "    <tr>\n",
       "      <th>0</th>\n",
       "      <td>1</td>\n",
       "      <td>0</td>\n",
       "      <td>1.0</td>\n",
       "      <td>0.0</td>\n",
       "      <td>0</td>\n",
       "    </tr>\n",
       "    <tr>\n",
       "      <th>1</th>\n",
       "      <td>0</td>\n",
       "      <td>0</td>\n",
       "      <td>1.0</td>\n",
       "      <td>1.0</td>\n",
       "      <td>136</td>\n",
       "    </tr>\n",
       "    <tr>\n",
       "      <th>2</th>\n",
       "      <td>0</td>\n",
       "      <td>0</td>\n",
       "      <td>1.0</td>\n",
       "      <td>0.0</td>\n",
       "      <td>0</td>\n",
       "    </tr>\n",
       "  </tbody>\n",
       "</table>\n",
       "</div>"
      ],
      "text/plain": [
       "   opted_in_to_mailing_list  enabled_for_marketing_drip  org_referral  \\\n",
       "0                         1                           0           1.0   \n",
       "1                         0                           0           1.0   \n",
       "2                         0                           0           1.0   \n",
       "\n",
       "   adopted  timedelta  \n",
       "0      0.0          0  \n",
       "1      1.0        136  \n",
       "2      0.0          0  "
      ]
     },
     "execution_count": 18,
     "metadata": {},
     "output_type": "execute_result"
    }
   ],
   "source": [
    "data['timedelta'] = pd.to_numeric(data['timedelta'].dt.days, downcast='integer')\n",
    "data.head(3)"
   ]
  },
  {
   "cell_type": "code",
   "execution_count": 19,
   "id": "f752f955",
   "metadata": {},
   "outputs": [
    {
     "data": {
      "text/plain": [
       "0"
      ]
     },
     "execution_count": 19,
     "metadata": {},
     "output_type": "execute_result"
    }
   ],
   "source": [
    "label_coded.isna().sum()"
   ]
  },
  {
   "cell_type": "markdown",
   "id": "ebb94dc4",
   "metadata": {},
   "source": [
    "At this point I've created a data set from the provided data that will work with a ML model.  The next step is to build a basic predictive model and then forward select to include more data as needed to improve performance. "
   ]
  },
  {
   "cell_type": "markdown",
   "id": "e9362979",
   "metadata": {},
   "source": [
    "### Building a basic predictive model.  \n",
    "\n",
    "At this point we have engineered a new feature and cleaned up the original data.  The next step is to use a classification model to identify what features contribute to the determination of whether or not a user will adopt the software. \n",
    "\n",
    "The first step is to create a dummy classifier and will be used as a 'baseline' from which I can forward select additional features to include in the model. "
   ]
  },
  {
   "cell_type": "code",
   "execution_count": 20,
   "id": "c3fd8e36",
   "metadata": {},
   "outputs": [],
   "source": [
    "# starting with a small subset of the total data\n",
    "X = data.drop(['adopted'], axis=1)\n",
    "Y = data['adopted']\n",
    "\n",
    "x_train, x_test, y_train, y_test = train_test_split(X, Y, test_size=0.2, random_state=42, stratify=Y)"
   ]
  },
  {
   "cell_type": "code",
   "execution_count": 21,
   "id": "96cbb313",
   "metadata": {},
   "outputs": [
    {
     "name": "stdout",
     "output_type": "stream",
     "text": [
      "              precision    recall  f1-score   support\n",
      "\n",
      "           0       0.82      1.00      0.90      1445\n",
      "           1       0.00      0.00      0.00       320\n",
      "\n",
      "    accuracy                           0.82      1765\n",
      "   macro avg       0.41      0.50      0.45      1765\n",
      "weighted avg       0.67      0.82      0.74      1765\n",
      "\n"
     ]
    },
    {
     "name": "stderr",
     "output_type": "stream",
     "text": [
      "/opt/anaconda3/envs/General/lib/python3.8/site-packages/sklearn/metrics/_classification.py:1248: UndefinedMetricWarning: Precision and F-score are ill-defined and being set to 0.0 in labels with no predicted samples. Use `zero_division` parameter to control this behavior.\n",
      "  _warn_prf(average, modifier, msg_start, len(result))\n",
      "/opt/anaconda3/envs/General/lib/python3.8/site-packages/sklearn/metrics/_classification.py:1248: UndefinedMetricWarning: Precision and F-score are ill-defined and being set to 0.0 in labels with no predicted samples. Use `zero_division` parameter to control this behavior.\n",
      "  _warn_prf(average, modifier, msg_start, len(result))\n",
      "/opt/anaconda3/envs/General/lib/python3.8/site-packages/sklearn/metrics/_classification.py:1248: UndefinedMetricWarning: Precision and F-score are ill-defined and being set to 0.0 in labels with no predicted samples. Use `zero_division` parameter to control this behavior.\n",
      "  _warn_prf(average, modifier, msg_start, len(result))\n"
     ]
    }
   ],
   "source": [
    "dum = DummyClassifier()\n",
    "dum.fit(x_train, y_train)\n",
    "dpred = dum.predict(x_test)\n",
    "\n",
    "print(classification_report(y_test, dpred, labels = [0,1]))"
   ]
  },
  {
   "cell_type": "code",
   "execution_count": 22,
   "id": "a202ea92",
   "metadata": {},
   "outputs": [
    {
     "name": "stdout",
     "output_type": "stream",
     "text": [
      "              precision    recall  f1-score   support\n",
      "\n",
      "           0       0.99      0.95      0.97      1445\n",
      "           1       0.81      0.94      0.87       320\n",
      "\n",
      "    accuracy                           0.95      1765\n",
      "   macro avg       0.90      0.95      0.92      1765\n",
      "weighted avg       0.96      0.95      0.95      1765\n",
      "\n"
     ]
    }
   ],
   "source": [
    "logit = LogisticRegression(random_state=42, class_weight='balanced')\n",
    "logit.fit(x_train, y_train)\n",
    "lpred = logit.predict(x_test)\n",
    "\n",
    "print(classification_report(y_test, lpred, labels = [0,1]))"
   ]
  },
  {
   "cell_type": "code",
   "execution_count": 23,
   "id": "ef19d1a9",
   "metadata": {},
   "outputs": [
    {
     "name": "stdout",
     "output_type": "stream",
     "text": [
      "              precision    recall  f1-score   support\n",
      "\n",
      "           0       0.97      0.97      0.97      1445\n",
      "           1       0.87      0.87      0.87       320\n",
      "\n",
      "    accuracy                           0.95      1765\n",
      "   macro avg       0.92      0.92      0.92      1765\n",
      "weighted avg       0.95      0.95      0.95      1765\n",
      "\n"
     ]
    }
   ],
   "source": [
    "rf = RandomForestClassifier(random_state=42)\n",
    "rf.fit(x_train, y_train)\n",
    "rpred = rf.predict(x_test)\n",
    "\n",
    "print(classification_report(y_test, rpred, labels = [0,1]))"
   ]
  },
  {
   "cell_type": "code",
   "execution_count": 24,
   "id": "c90978b3",
   "metadata": {},
   "outputs": [
    {
     "name": "stdout",
     "output_type": "stream",
     "text": [
      "              precision    recall  f1-score   support\n",
      "\n",
      "           0       0.97      0.98      0.98      1445\n",
      "           1       0.92      0.88      0.90       320\n",
      "\n",
      "    accuracy                           0.96      1765\n",
      "   macro avg       0.95      0.93      0.94      1765\n",
      "weighted avg       0.96      0.96      0.96      1765\n",
      "\n"
     ]
    }
   ],
   "source": [
    "gb = GradientBoostingClassifier(random_state=42)\n",
    "gb.fit(x_train, y_train)\n",
    "gpred = gb.predict(x_test)\n",
    "\n",
    "print(classification_report(y_test, gpred, labels = [0,1]))"
   ]
  },
  {
   "cell_type": "markdown",
   "id": "af8794fc",
   "metadata": {},
   "source": [
    "It seems that the logistic regression model predicts the most adopted users, while the gradient boosting model doesn't uncover all adopted users it is more precise in which users it predicts as adopted.  Since both have recall scores over 85%, I'm going to work with moth models moving forward to forward select different subsets of the data. "
   ]
  },
  {
   "cell_type": "code",
   "execution_count": 25,
   "id": "8f66ef9b",
   "metadata": {},
   "outputs": [],
   "source": [
    "# adding label encoded data for the gradient boosting model\n",
    "gbdata = pd.concat([data, label_coded], axis=1).dropna()\n",
    "# adding one-hot encoded data for the logisting regression model\n",
    "logitdata = pd.concat([data, dummy], axis=1)"
   ]
  },
  {
   "cell_type": "code",
   "execution_count": 26,
   "id": "faba05b8",
   "metadata": {},
   "outputs": [],
   "source": [
    "# gb train/test split\n",
    "X = gbdata.drop(['adopted'], axis=1)\n",
    "Y = gbdata['adopted']\n",
    "\n",
    "\n",
    "gbx_train, gbx_test, gby_train, gby_test = train_test_split(X, Y, test_size=0.2, random_state=42, stratify=Y)\n",
    "\n",
    "scaler = StandardScaler()\n",
    "scaler.fit(gbx_train)\n",
    "gbx_train = scaler.transform(gbx_train)\n",
    "gbx_test = scaler.transform(gbx_test)\n",
    "# logit train/test split\n",
    "X = logitdata.drop(['adopted'], axis=1)\n",
    "Y = logitdata['adopted']\n",
    "\n",
    "lx_train, lx_test, ly_train, ly_test = train_test_split(X, Y, test_size=0.2, random_state=42, stratify=Y)\n",
    "cols = lx_train.columns\n",
    "scaler = StandardScaler()\n",
    "scaler.fit(lx_train)\n",
    "lx_train = scaler.transform(lx_train)\n",
    "lx_test = scaler.transform(lx_test)"
   ]
  },
  {
   "cell_type": "code",
   "execution_count": 27,
   "id": "2d57c569",
   "metadata": {},
   "outputs": [
    {
     "name": "stdout",
     "output_type": "stream",
     "text": [
      "              precision    recall  f1-score   support\n",
      "\n",
      "           0       0.99      0.96      0.97      1445\n",
      "           1       0.82      0.94      0.88       320\n",
      "\n",
      "    accuracy                           0.95      1765\n",
      "   macro avg       0.90      0.95      0.92      1765\n",
      "weighted avg       0.96      0.95      0.95      1765\n",
      "\n"
     ]
    }
   ],
   "source": [
    "logit = LogisticRegression(random_state=42, class_weight='balanced')\n",
    "logit.fit(lx_train, ly_train)\n",
    "l_pred = logit.predict(lx_test)\n",
    "\n",
    "print(classification_report(ly_test, l_pred, labels = [0,1]))"
   ]
  },
  {
   "cell_type": "code",
   "execution_count": 28,
   "id": "c38c6731",
   "metadata": {},
   "outputs": [
    {
     "name": "stdout",
     "output_type": "stream",
     "text": [
      "              precision    recall  f1-score   support\n",
      "\n",
      "           0       0.97      0.98      0.98      1445\n",
      "           1       0.93      0.88      0.91       320\n",
      "\n",
      "    accuracy                           0.97      1765\n",
      "   macro avg       0.95      0.93      0.94      1765\n",
      "weighted avg       0.97      0.97      0.97      1765\n",
      "\n"
     ]
    }
   ],
   "source": [
    "gb = GradientBoostingClassifier(random_state=42)\n",
    "gb.fit(lx_train, ly_train)\n",
    "g_pred = gb.predict(lx_test)\n",
    "\n",
    "print(classification_report(ly_test, g_pred, labels = [0,1]))"
   ]
  },
  {
   "cell_type": "markdown",
   "id": "9c01a20c",
   "metadata": {},
   "source": [
    "I ultimately iterated and tried using the one-hot encoded data with the gradient boosting model since using label encoded data was not working well.  The result was that the model which performs best includes the on-hot encoded creation source data that is scaled.  Using this I'll examine the feature importances and take a look at which features most impact churn probability. "
   ]
  },
  {
   "cell_type": "code",
   "execution_count": 29,
   "id": "4af106b9",
   "metadata": {},
   "outputs": [],
   "source": [
    "gbweight = gb.feature_importances_\n",
    "gbweight = pd.Series(gbweight, index = cols)\n",
    "feat_ = gbweight.sort_values(ascending=False).head(10)\n",
    "topten = list(gbweight.sort_values(ascending=False).head(10).index)"
   ]
  },
  {
   "cell_type": "code",
   "execution_count": 30,
   "id": "b8db4e27",
   "metadata": {},
   "outputs": [
    {
     "data": {
      "image/png": "[encoded data removed]",
      "text/plain": [
       "<Figure size 720x720 with 1 Axes>"
      ]
     },
     "metadata": {},
     "output_type": "display_data"
    }
   ],
   "source": [
    "plt.figure(figsize=(10,10))\n",
    "\n",
    "g = sns.barplot(x= feat_ ,y = topten, orient='h')\n",
    "plt.title('Relative importance of features to determine customer adoption', size = 'xx-large')\n",
    "g.set_yticklabels(topten, size = 15);"
   ]
  },
  {
   "cell_type": "code",
   "execution_count": 31,
   "id": "3c9bb396",
   "metadata": {},
   "outputs": [
    {
     "data": {
      "text/plain": [
       "timedelta                     9.656861\n",
       "opted_in_to_mailing_list      0.135187\n",
       "source_SIGNUP_GOOGLE_AUTH     0.049475\n",
       "source_PERSONAL_PROJECTS      0.022395\n",
       "source_GUEST_INVITE           0.019812\n",
       "org_referral                  0.011890\n",
       "source_ORG_INVITE            -0.003576\n",
       "enabled_for_marketing_drip   -0.023437\n",
       "source_SIGNUP                -0.073663\n",
       "dtype: float64"
      ]
     },
     "execution_count": 31,
     "metadata": {},
     "output_type": "execute_result"
    }
   ],
   "source": [
    "# creating a dictionary of feature column names and the logitistic regression coefficient to plot\n",
    "dic = {'opted_in_to_mailing_list': 1.35187362e-01, 'enabled_for_marketing_drip':-2.34370254e-02, \n",
    "       'org_referral':1.18903974e-02, 'timedelta':9.65686070e+00, 'source_GUEST_INVITE':1.98120030e-02, \n",
    "       'source_ORG_INVITE':-3.57566456e-03, 'source_PERSONAL_PROJECTS':2.23950572e-02, \n",
    "       'source_SIGNUP':-7.36629716e-02,'source_SIGNUP_GOOGLE_AUTH':4.94749166e-02}\n",
    "logit_coef = pd.Series(dic)\n",
    "logit_coef = logit_coef.sort_values(ascending=False)\n",
    "logit_coef"
   ]
  },
  {
   "cell_type": "code",
   "execution_count": 32,
   "id": "40442391",
   "metadata": {},
   "outputs": [
    {
     "data": {
      "image/png": "[encoded data removed]",
      "text/plain": [
       "<Figure size 720x720 with 1 Axes>"
      ]
     },
     "metadata": {},
     "output_type": "display_data"
    }
   ],
   "source": [
    "plt.figure(figsize=(10,10))\n",
    "\n",
    "g = sns.barplot(x= logit_coef.values ,y = logit_coef.index, orient='h')\n",
    "plt.title('Logistic Regression coefficients for features to determine customer adoption', size = 'xx-large')\n",
    "g.set_yticklabels(logit_coef.index, size = 15);"
   ]
  },
  {
   "cell_type": "markdown",
   "id": "5cadf3c9",
   "metadata": {},
   "source": [
    "Based on BOTH models the time from which a user signed up to their last login session is THE biggest determinator of whether or not a customer will be considered 'adopted'.  This is relatively obvious since someone who doesn't find value in the product won't be logging in much after trying out the service.  \n",
    "\n",
    "While this is good to note, it's basically useless in terms of what kinds of insights may be offered to stakeholders who might wish to influence adoption rates among users.  For this purpose I'll be modelling the data again, however I'll do so after eliminating the timedelta feature and in order to examine the relative importance of other features (signup method and brand engagement) as long as one of the models provides a degree of accuracy that's similar to the models which incorporate the timedelta data. \n",
    "\n",
    "I do have a few predictions: \n",
    "\n",
    "- Signup method will be highly important, you can see in the logistic regression coefficients that of the top five most important features three are related to the source of the customer signup\n",
    "\n",
    "\n",
    "- I'll need to examine org_referral vs source_ORG_INVITE in more detail.  One is capturing where a person used an organizational referral link to enroll in the service, while org_referral is simply tracking if a user was referred to the service by someone within their organization.  While a small distinction the second is more inclusive, and isn't limited to using a specific signup link, but rather if they noted themselves as having been referred by a coleague.  The latter was engineered by me.  If there is significant overlap between the two I may drop the source_ORG_INVITE since it's less inclusive. "
   ]
  },
  {
   "cell_type": "code",
   "execution_count": 33,
   "id": "02e98a13",
   "metadata": {},
   "outputs": [],
   "source": [
    "X = logitdata.drop(['adopted', 'timedelta'], axis=1)\n",
    "Y = logitdata['adopted']\n",
    "\n",
    "x_train, x_test, y_train, y_test = train_test_split(X, Y, test_size=0.2, random_state=42, stratify=Y)\n",
    "cols = x_train.columns"
   ]
  },
  {
   "cell_type": "code",
   "execution_count": 34,
   "id": "f911572d",
   "metadata": {},
   "outputs": [
    {
     "name": "stdout",
     "output_type": "stream",
     "text": [
      "              precision    recall  f1-score   support\n",
      "\n",
      "           0       0.83      0.74      0.78      1445\n",
      "           1       0.22      0.33      0.26       320\n",
      "\n",
      "    accuracy                           0.67      1765\n",
      "   macro avg       0.53      0.54      0.52      1765\n",
      "weighted avg       0.72      0.67      0.69      1765\n",
      "\n"
     ]
    }
   ],
   "source": [
    "logit = LogisticRegression(random_state=42, class_weight='balanced', )\n",
    "logit.fit(x_train, y_train)\n",
    "l2_pred = logit.predict(x_test)\n",
    "\n",
    "print(classification_report(y_test, l2_pred, labels = [0,1]))"
   ]
  },
  {
   "cell_type": "code",
   "execution_count": 35,
   "id": "15968a72",
   "metadata": {},
   "outputs": [
    {
     "name": "stdout",
     "output_type": "stream",
     "text": [
      "              precision    recall  f1-score   support\n",
      "\n",
      "           0       0.82      1.00      0.90      1445\n",
      "           1       0.00      0.00      0.00       320\n",
      "\n",
      "    accuracy                           0.82      1765\n",
      "   macro avg       0.41      0.50      0.45      1765\n",
      "weighted avg       0.67      0.82      0.74      1765\n",
      "\n"
     ]
    },
    {
     "name": "stderr",
     "output_type": "stream",
     "text": [
      "/opt/anaconda3/envs/General/lib/python3.8/site-packages/sklearn/metrics/_classification.py:1248: UndefinedMetricWarning: Precision and F-score are ill-defined and being set to 0.0 in labels with no predicted samples. Use `zero_division` parameter to control this behavior.\n",
      "  _warn_prf(average, modifier, msg_start, len(result))\n",
      "/opt/anaconda3/envs/General/lib/python3.8/site-packages/sklearn/metrics/_classification.py:1248: UndefinedMetricWarning: Precision and F-score are ill-defined and being set to 0.0 in labels with no predicted samples. Use `zero_division` parameter to control this behavior.\n",
      "  _warn_prf(average, modifier, msg_start, len(result))\n",
      "/opt/anaconda3/envs/General/lib/python3.8/site-packages/sklearn/metrics/_classification.py:1248: UndefinedMetricWarning: Precision and F-score are ill-defined and being set to 0.0 in labels with no predicted samples. Use `zero_division` parameter to control this behavior.\n",
      "  _warn_prf(average, modifier, msg_start, len(result))\n"
     ]
    }
   ],
   "source": [
    "gb = GradientBoostingClassifier(random_state=42)\n",
    "gb.fit(x_train, y_train)\n",
    "g2_pred = gb.predict(x_test)\n",
    "\n",
    "print(classification_report(y_test, g2_pred, labels = [0,1]))"
   ]
  },
  {
   "cell_type": "code",
   "execution_count": 36,
   "id": "013e8512",
   "metadata": {},
   "outputs": [
    {
     "data": {
      "text/plain": [
       "\"params = {'C':[0.000001, 0.00001, 0.0001, 0.001, 0.01, 0.1, 1], \\n          'fit_intercept':[True, False], 'intercept_scaling':[0.01, 0.1, 1, 2, 5, 10, 20]}\\nlogit = LogisticRegression(class_weight = 'balanced', random_state = 42)\\nlog = RandomizedSearchCV(logit, param_distributions = params, scoring = 'recall', n_iter = 60)\\nlog.fit(x_train, y_train)\\nlog_best_score = log.best_score_\\nlog_best_params = log.best_params_\\nprint('Best score: ', log_best_score)\\nprint('Best parameters: ', log_best_params)\""
      ]
     },
     "execution_count": 36,
     "metadata": {},
     "output_type": "execute_result"
    }
   ],
   "source": [
    "\"\"\"params = {'C':[0.000001, 0.00001, 0.0001, 0.001, 0.01, 0.1, 1], \n",
    "          'fit_intercept':[True, False], 'intercept_scaling':[0.01, 0.1, 1, 2, 5, 10, 20]}\n",
    "logit = LogisticRegression(class_weight = 'balanced', random_state = 42)\n",
    "log = RandomizedSearchCV(logit, param_distributions = params, scoring = 'recall', n_iter = 60)\n",
    "log.fit(x_train, y_train)\n",
    "log_best_score = log.best_score_\n",
    "log_best_params = log.best_params_\n",
    "print('Best score: ', log_best_score)\n",
    "print('Best parameters: ', log_best_params)\"\"\""
   ]
  },
  {
   "cell_type": "code",
   "execution_count": 37,
   "id": "5e9ad16a",
   "metadata": {},
   "outputs": [
    {
     "name": "stdout",
     "output_type": "stream",
     "text": [
      "              precision    recall  f1-score   support\n",
      "\n",
      "           0       0.83      0.37      0.51      1445\n",
      "           1       0.19      0.66      0.29       320\n",
      "\n",
      "    accuracy                           0.42      1765\n",
      "   macro avg       0.51      0.51      0.40      1765\n",
      "weighted avg       0.71      0.42      0.47      1765\n",
      "\n"
     ]
    }
   ],
   "source": [
    "logit = LogisticRegression(class_weight='balanced', intercept_scaling = 10, fit_intercept = False, C = 1e-05, \n",
    "                           random_state = 42)\n",
    "logit.fit(x_train, y_train)\n",
    "l2_pred = logit.predict(x_test)\n",
    "\n",
    "print(classification_report(y_test, l2_pred, labels = [0,1]))"
   ]
  },
  {
   "cell_type": "code",
   "execution_count": 39,
   "id": "7d8fb937",
   "metadata": {},
   "outputs": [
    {
     "data": {
      "text/plain": [
       "array([[ 1.25314675e-04,  8.11674200e-06,  8.05385077e-04,\n",
       "         1.05217840e-03, -2.46793321e-04,  2.58196008e-04,\n",
       "        -7.54286888e-04, -3.16890397e-04]])"
      ]
     },
     "execution_count": 39,
     "metadata": {},
     "output_type": "execute_result"
    }
   ],
   "source": [
    "logit.coef_"
   ]
  },
  {
   "cell_type": "code",
   "execution_count": 63,
   "id": "6b5fe3d5",
   "metadata": {},
   "outputs": [],
   "source": [
    "dic = {'opted_in_to_mailing_list': 1.25314675e-04, 'enabled_for_marketing_drip':8.11674200e-06, \n",
    "       'org_referral':8.05385077e-04, 'source_GUEST_INVITE':1.05217840e-03, \n",
    "       'source_ORG_INVITE':-2.46793321e-04, 'source_PERSONAL_PROJECTS':2.58196008e-04, \n",
    "       'source_SIGNUP':-7.54286888e-04,'source_SIGNUP_GOOGLE_AUTH':-3.16890397e-04}\n",
    "logit_coef = pd.Series(dic)\n",
    "logit_coef = logit_coef.sort_values(ascending=False)\n"
   ]
  },
  {
   "cell_type": "code",
   "execution_count": 62,
   "id": "fbb88e4c",
   "metadata": {},
   "outputs": [
    {
     "data": {
      "image/png": "[encoded data removed]",
      "text/plain": [
       "<Figure size 720x720 with 1 Axes>"
      ]
     },
     "metadata": {},
     "output_type": "display_data"
    }
   ],
   "source": [
    "plt.figure(figsize=(10,10))\n",
    "\n",
    "g = sns.barplot(x= logit_coef.values ,y = logit_coef.index, orient='h')\n",
    "plt.title('Logistic Regression coefficients for features to determine customer adoption', size = 'xx-large')\n",
    "g.set_yticklabels(logit_coef.index, size = 15);"
   ]
  },
  {
   "cell_type": "markdown",
   "id": "61fff3e7",
   "metadata": {},
   "source": [
    "### Insights:"
   ]
  },
  {
   "cell_type": "markdown",
   "id": "09a0775f",
   "metadata": {},
   "source": [
    "1. A user joining this service after receiving a formal guest invitiation is far more likely to become and adopted user than someone joining using any other means.  \n",
    "\n",
    "\n",
    "2. There is a significant difference between the effectiveness of marketing emails and the generalmailing list in terms of driving user adoption - this needs to be examined in closer detail in order to assess what can be altered with the marketing content to drive further adoption. \n",
    "\n",
    "\n",
    "3. The adoption among users who are referred by an organization is dramatically different than those who were invited by a direct guest - while the impact of receiving an invite from someone within an organization is similar to that of the guest referral. This indicates that while a user who is referred by another user from the same organization (org_referral), the METHOD of how they are referred is important.  Specifically that individual referrals are more important than those from an organization to a potential user. This allso warrants further study.\n",
    "\n",
    "\n",
    "4. Finally, users who utilized our general signup page are the LEAST likely to become adopted users, which indicates that there is significant work to be done in the signup process in order to drive further adoption.  This should be looked at with regards to our personal projects signup method, since that also indicates users are signing up without a prebuilt community of users to depend on, and there is a way to increas adoption for those users. "
   ]
  },
  {
   "cell_type": "code",
   "execution_count": null,
   "id": "a45f95c0",
   "metadata": {},
   "outputs": [],
   "source": []
  }
 ],
 "metadata": {
  "kernelspec": {
   "display_name": "Python 3",
   "language": "python",
   "name": "python3"
  },
  "language_info": {
   "codemirror_mode": {
    "name": "ipython",
    "version": 3
   },
   "file_extension": ".py",
   "mimetype": "text/x-python",
   "name": "python",
   "nbconvert_exporter": "python",
   "pygments_lexer": "ipython3",
   "version": "3.8.2"
  }
 },
 "nbformat": 4,
 "nbformat_minor": 5
}
