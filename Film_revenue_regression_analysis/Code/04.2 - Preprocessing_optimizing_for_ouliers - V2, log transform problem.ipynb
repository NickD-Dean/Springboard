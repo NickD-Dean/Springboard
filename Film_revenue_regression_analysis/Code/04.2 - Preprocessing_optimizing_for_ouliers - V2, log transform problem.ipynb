{
 "cells": [
  {
   "cell_type": "markdown",
   "id": "5d48c709",
   "metadata": {},
   "source": [
    "# Modeling & managing negative predictions\n",
    "\n",
    "In the previous notebook I was working with, linear regression models consistently provided MAPE scores well above 800% and RMSE errors of around 120,000,000. Neither of those are acceptable metric scores.  \n",
    "\n",
    "I believe that these errors are the result of two things: Outliers in the target variable, and high dimensionality.  \n",
    "\n",
    "This notebook I'll be taking a look at revenue outliers, and test different transformations that I can do with numeric data to produce better scores.  One of the problems that stood out with linear model predictions in the previous notebook was that I was consistently producing ~60 negative revenue predictions, which certaintly contributed to the poor error metrics. That also prevended me from using the mean_squared_log_error metric as well.  \n",
    "\n",
    "First I'm going to try using a MinMaxScaler instead of StandardScaler to see if I can eliminate negative predictions and how that affects scores. \n",
    "\n",
    "I'll also attempt to log transform the revenue data I have.  Currently it is highly skewed by outliers and has a non-normal distribution.  I believe a log transformation could improve the impact the revenue distribution will have on metrics. \n",
    "\n",
    "Finally, I'm going to eliminate any outliers in revenue, as defined by films in the top 5% of revenue. "
   ]
  },
  {
   "cell_type": "code",
   "execution_count": 1,
   "id": "0f940896",
   "metadata": {},
   "outputs": [],
   "source": [
    "import pandas as pd\n",
    "import numpy as np\n",
    "import matplotlib.pyplot as plt\n",
    "import seaborn as sns\n",
    "from sklearn.linear_model import LinearRegression\n",
    "from sklearn.model_selection import train_test_split, cross_validate\n",
    "from sklearn.preprocessing import StandardScaler, MinMaxScaler, PowerTransformer\n",
    "from sklearn.metrics import r2_score, mean_squared_error, mean_absolute_error\n",
    "from sklearn.svm import LinearSVR\n",
    "from sklearn.neighbors import KNeighborsRegressor\n",
    "from sklearn.ensemble import GradientBoostingRegressor, RandomForestRegressor\n",
    "\n",
    "pd.set_option('display.float_format', lambda x: '%.5f' % x)"
   ]
  },
  {
   "cell_type": "code",
   "execution_count": 2,
   "id": "3003b545",
   "metadata": {},
   "outputs": [
    {
     "data": {
      "text/plain": [
       "(2333, 9976)"
      ]
     },
     "execution_count": 2,
     "metadata": {},
     "output_type": "execute_result"
    }
   ],
   "source": [
    "# Importing the data\n",
    "boxoffice = pd.read_csv('../Data/boxoffice_PreProcess.csv', index_col=0, header=[0,1])\n",
    "boxoffice.shape"
   ]
  },
  {
   "cell_type": "markdown",
   "id": "1b82ba36",
   "metadata": {},
   "source": [
    "Before I move forward I need to revisit the predictions from a linear model in my previous notebook and determine where and why I was generating negative predictions for revenue in my previous notebook "
   ]
  },
  {
   "cell_type": "code",
   "execution_count": 3,
   "id": "34218c8b",
   "metadata": {},
   "outputs": [],
   "source": [
    "# separate out the target variable and scale the independent numerical variables\n",
    "y = boxoffice['Numerical', 'revenue']\n",
    "X = boxoffice.drop('revenue', level=1, axis=1)\n",
    "scaler = StandardScaler()\n",
    "X['Numerical'] = scaler.fit_transform(X['Numerical'])"
   ]
  },
  {
   "cell_type": "code",
   "execution_count": 4,
   "id": "c1c7bc4e",
   "metadata": {},
   "outputs": [],
   "source": [
    "X_train, X_test, y_train, y_test = train_test_split(X, y, test_size=0.2, random_state=42)"
   ]
  },
  {
   "cell_type": "code",
   "execution_count": 5,
   "id": "b2b3e59a",
   "metadata": {},
   "outputs": [
    {
     "name": "stdout",
     "output_type": "stream",
     "text": [
      "68\n",
      "Baseline R2 score:  0.3292256399378771\n",
      "Baseline RMSE score:  133826240.46916215\n"
     ]
    }
   ],
   "source": [
    "# instantiate a linear regression model and test for negative predictions\n",
    "# in a previous notebook these prevented me from using the mean_squared_log_error\n",
    "linear = LinearRegression()\n",
    "linear.fit(X_train, y_train)\n",
    "preds = linear.predict(X_test)\n",
    "print(len(preds[preds < 0]))\n",
    "set1 = set(y_test[preds<0].index)\n",
    "print(\"Baseline R2 score: \", r2_score(y_test, preds))\n",
    "print(\"Baseline RMSE score: \", np.sqrt(mean_squared_error(y_test, preds)))"
   ]
  },
  {
   "cell_type": "code",
   "execution_count": 6,
   "id": "4e5baf1c",
   "metadata": {},
   "outputs": [
    {
     "name": "stdout",
     "output_type": "stream",
     "text": [
      "Mean revenue value of the data set:  147844739.08444065\n",
      "These values were predicted as negative, true values are greater than the mean revenue:  464    408247917.00000\n",
      "1483   183593586.00000\n",
      "1041   161001698.00000\n",
      "Name: (Numerical, revenue), dtype: float64\n"
     ]
    },
    {
     "data": {
      "image/png": "[encoded data removed]",
      "text/plain": [
       "<Figure size 432x288 with 1 Axes>"
      ]
     },
     "metadata": {
      "needs_background": "light"
     },
     "output_type": "display_data"
    }
   ],
   "source": [
    "# Trying to examine the negative predictions to determine if there's a pattern, perhaps lower values are predicted as negative\n",
    "print('Mean revenue value of the data set: ', y.mean())\n",
    "print('These values were predicted as negative, true values are greater than the mean revenue: ',\n",
    "      y_test[preds<0][y_test>y.mean()])\n",
    "plt.scatter(y_test[preds<0].values, preds[preds<0])\n",
    "plt.axvline(y.mean(), c='r');"
   ]
  },
  {
   "cell_type": "markdown",
   "id": "87e6f04a",
   "metadata": {},
   "source": [
    "My hypothesis was that the predicted negative values were a result of the linear model predicting low-value films exceptionally low.\n",
    "\n",
    "Multiple of the films with values predicted as negative have a true revenue value that is above the mean revenue for the entire data set. While negative predictions are less severe and less common as a film's true revenueincreases, this problem doesn't seem to be restricted to only low-revenue films. This disproves my hypothesis that negative predictions were a result of a film's true value being close to zero. \n",
    "\n",
    "I do want to test and see if using a MinMaxScaler instead of the StandardScaler will result in better predictions.  Since StandardScaler produces negative features that could be part of the problem.   \n",
    "\n",
    "Additionally there is a severe right tail for the target revenue on this problem, using a logarithmic transformation should in theory help to rectify this.  This is something I realized after doing further research on [stackexchange](https://stats.stackexchange.com/questions/145383/getting-negative-predicted-values-after-linear-regression/145387)\n",
    "\n",
    "If neither of those methods prevent negative revenue predictions, I'll have to remove outliers for revenue and then begin to reduce dimensionality. "
   ]
  },
  {
   "cell_type": "code",
   "execution_count": 7,
   "id": "e5668b38",
   "metadata": {},
   "outputs": [],
   "source": [
    "# Recreating and identical train/test split using a different scaler, potentially negative values for numeric data are\n",
    "# leading to negative values in some cases\n",
    "y = boxoffice['Numerical', 'revenue']\n",
    "X = boxoffice.drop('revenue', level=1, axis=1)\n",
    "scaler = MinMaxScaler()\n",
    "X['Numerical'] = scaler.fit_transform(X['Numerical'])\n",
    "X_train, X_test, y_train, y_test = train_test_split(X, y, test_size=0.2, random_state=42)"
   ]
  },
  {
   "cell_type": "code",
   "execution_count": 8,
   "id": "d5ea5a41",
   "metadata": {},
   "outputs": [
    {
     "name": "stdout",
     "output_type": "stream",
     "text": [
      "59\n",
      "Min/Max R2 score:  0.30319002266080364\n",
      "Min/Max RMSE score:  136398699.99629846\n"
     ]
    }
   ],
   "source": [
    "# create a 2nd regressor and test for negative revenue predictions\n",
    "linear2 = LinearRegression()\n",
    "linear2.fit(X_train, y_train)\n",
    "preds = linear2.predict(X_test)\n",
    "print(len(preds[preds < 0]))\n",
    "set2 = set(y_test[preds<0].index)\n",
    "print(\"Min/Max R2 score: \", r2_score(y_test, preds))\n",
    "print(\"Min/Max RMSE score: \", np.sqrt(mean_squared_error(y_test, preds)))"
   ]
  },
  {
   "cell_type": "code",
   "execution_count": 9,
   "id": "39111fe4",
   "metadata": {},
   "outputs": [
    {
     "data": {
      "image/png": "[encoded data removed]",
      "text/plain": [
       "<Figure size 432x288 with 1 Axes>"
      ]
     },
     "metadata": {
      "needs_background": "light"
     },
     "output_type": "display_data"
    }
   ],
   "source": [
    "# examining which values are produced as negative with a new scaler to see if there's a noticeable difference in distribution\n",
    "# after removing negative values from the independent variables\n",
    "plt.scatter(y_test[preds<0].values, preds[preds<0])\n",
    "plt.axvline(y.mean(), c='r');"
   ]
  },
  {
   "cell_type": "markdown",
   "id": "b9f2de26",
   "metadata": {},
   "source": [
    "While using MinMaxScaler produced *fewer* negative predictions, and those films who produce negative predictions are less than the average, the number of predictions below zero didn't decrease significantly. It also appears that the magnitude of a negative prediction has little relationship with the actual revenue of a film. \n",
    "\n",
    "It's time to try a logarithmic transformation on the revenue column as I mentioned earlier to test if that will prevent negative predictions. "
   ]
  },
  {
   "cell_type": "markdown",
   "id": "a11dfa5e",
   "metadata": {},
   "source": [
    "### Applying a log transformation to revenue in order to eliminate negative predictions\n",
    "\n",
    "I want to be able to use mean_squared_log_error as a metric for evaluating these models, but that's impossible as long as I'm producing negative results."
   ]
  },
  {
   "cell_type": "code",
   "execution_count": 10,
   "id": "abfe1de9",
   "metadata": {},
   "outputs": [],
   "source": [
    "# Recreating the identical train/test split after applying a logarithmic transformation to the target variable\n",
    "y = np.log(boxoffice['Numerical', 'revenue'])\n",
    "X = boxoffice.drop('revenue', level=1, axis=1)\n",
    "scaler = MinMaxScaler()\n",
    "X['Numerical'] = scaler.fit_transform(X['Numerical'])"
   ]
  },
  {
   "cell_type": "code",
   "execution_count": 11,
   "id": "21f1cd3c",
   "metadata": {},
   "outputs": [],
   "source": [
    "X_train, X_test, y_train, y_test = train_test_split(X, y, test_size=0.2, random_state=42)"
   ]
  },
  {
   "cell_type": "code",
   "execution_count": 12,
   "id": "1084307d",
   "metadata": {},
   "outputs": [
    {
     "data": {
      "image/png": "[encoded data removed]",
      "text/plain": [
       "<Figure size 432x288 with 1 Axes>"
      ]
     },
     "metadata": {
      "needs_background": "light"
     },
     "output_type": "display_data"
    }
   ],
   "source": [
    "plt.hist(y);"
   ]
  },
  {
   "cell_type": "code",
   "execution_count": 13,
   "id": "b0c8fae0",
   "metadata": {},
   "outputs": [
    {
     "name": "stdout",
     "output_type": "stream",
     "text": [
      "Log R2 score:  -1.7903861807588952e+16\n",
      "Log RMSE score:  205104553.9666307\n",
      "59\n"
     ]
    }
   ],
   "source": [
    "linear_log = LinearRegression()\n",
    "linear_log.fit(X_train, y_train)\n",
    "preds = linear2.predict(X_test)\n",
    "set3 = set(y_test[preds<0].index)\n",
    "print(\"Log R2 score: \", r2_score(y_test, preds))\n",
    "print(\"Log RMSE score: \", np.sqrt(mean_squared_error(y_test, preds)))\n",
    "print(len(preds[preds < 0]))"
   ]
  },
  {
   "cell_type": "code",
   "execution_count": 14,
   "id": "357612d6",
   "metadata": {},
   "outputs": [
    {
     "name": "stdout",
     "output_type": "stream",
     "text": [
      "{1888, 1761, 1315, 1987, 1124, 1929, 1483, 76, 1422, 464, 1041, 2194, 368, 2070, 414}\n",
      "set()\n"
     ]
    }
   ],
   "source": [
    "print(set1.difference(set3))\n",
    "print(set2.difference(set3))"
   ]
  },
  {
   "cell_type": "markdown",
   "id": "a0d69c42",
   "metadata": {},
   "source": [
    "Still getting negative predictions after applying a logarithmic transformation.  The same films are providing negative predictions before and after applying a logarithmic transformation to the revenue column, while doing so has also dramatically decreased the R-squared score for the model.  \n",
    "\n",
    "Additionally, applying a logarithmic transformation to the data has done nothing to normalize the revenue, but rather exchanged a long right-tail distribution for a long left-tailed distribution instead. \n",
    "\n",
    "At this point I'm going to remove the outliers for revenue based on quantile. Given the results of a log transformation I won't use such a transformation on the target variables moving forward.  "
   ]
  },
  {
   "cell_type": "markdown",
   "id": "3764cc7a",
   "metadata": {},
   "source": [
    "### Removing outliers"
   ]
  },
  {
   "cell_type": "code",
   "execution_count": 16,
   "id": "8a18a54f",
   "metadata": {},
   "outputs": [
    {
     "data": {
      "image/png": "[encoded data removed]",
      "text/plain": [
       "<Figure size 1080x360 with 1 Axes>"
      ]
     },
     "metadata": {
      "needs_background": "light"
     },
     "output_type": "display_data"
    }
   ],
   "source": [
    "plt.figure(figsize=(15, 5))\n",
    "plt.hist(boxoffice['Numerical', 'revenue'], bins=100)\n",
    "plt.axvline(boxoffice['Numerical', 'revenue'].mean(), c='g', linestyle='--')\n",
    "plt.axvline(boxoffice['Numerical', 'revenue'].median(), c='r', linestyle='--')\n",
    "plt.title('Distribution of film revenue');"
   ]
  },
  {
   "cell_type": "code",
   "execution_count": 18,
   "id": "93cad2e0",
   "metadata": {},
   "outputs": [
    {
     "name": "stdout",
     "output_type": "stream",
     "text": [
      "(1685, 9976)\n"
     ]
    },
    {
     "data": {
      "image/png": "[encoded data removed]",
      "text/plain": [
       "<Figure size 1080x360 with 1 Axes>"
      ]
     },
     "metadata": {
      "needs_background": "light"
     },
     "output_type": "display_data"
    }
   ],
   "source": [
    "quant = boxoffice['Numerical', 'revenue'].quantile(0.85)\n",
    "boxoffice = boxoffice[boxoffice['Numerical', 'revenue']<quant]\n",
    "plt.figure(figsize=(15,5))\n",
    "plt.hist(boxoffice['Numerical', 'revenue'], bins=100, color = 'lightgrey')\n",
    "plt.axvline(boxoffice['Numerical', 'revenue'].mean(), c='g', linestyle='--')\n",
    "plt.axvline(boxoffice['Numerical', 'revenue'].median(), c='r', linestyle='--')\n",
    "plt.title('New distribution of film revenue');\n",
    "print(boxoffice.shape)"
   ]
  },
  {
   "cell_type": "code",
   "execution_count": 17,
   "id": "e74f6e69",
   "metadata": {},
   "outputs": [],
   "source": [
    "y = np.log(boxoffice['Numerical', 'revenue'])\n",
    "X = boxoffice.drop('revenue', level=1, axis=1)\n",
    "scaler = MinMaxScaler()\n",
    "X['Numerical'] = scaler.fit_transform(X['Numerical'])\n",
    "X_train, X_test, y_train, y_test = train_test_split(X, y, test_size=0.2, random_state=42)"
   ]
  },
  {
   "cell_type": "code",
   "execution_count": 18,
   "id": "edaa5a95",
   "metadata": {},
   "outputs": [],
   "source": [
    "# New version 2.0 - adding in homemade MAPE function while scikit learn won't behave\n",
    "def MAPE(true, pred):\n",
    "    MAPE = (np.sum(np.abs((true-pred)/true))/len(true))*100\n",
    "    return MAPE"
   ]
  },
  {
   "cell_type": "code",
   "execution_count": 19,
   "id": "ff591820",
   "metadata": {},
   "outputs": [
    {
     "name": "stdout",
     "output_type": "stream",
     "text": [
      "0\n"
     ]
    }
   ],
   "source": [
    "# Testing linear model scores after removing the outlier films\n",
    "linear = LinearRegression()\n",
    "linear.fit(X_train, y_train)\n",
    "preds = linear.predict(X_test)\n",
    "print(len(preds[preds<0]))\n",
    "set4 = set(y_test[preds<0].index)"
   ]
  },
  {
   "cell_type": "code",
   "execution_count": 20,
   "id": "16633491",
   "metadata": {},
   "outputs": [
    {
     "name": "stdout",
     "output_type": "stream",
     "text": [
      "New R2 score:  -3.6715256896931887\n",
      "New RMSE score:  141914361.51022694\n",
      "New MAPE score:  542.025470640389\n",
      "New MAE score:  76866300.07478254\n"
     ]
    }
   ],
   "source": [
    "y_test = np.exp(y_test)\n",
    "preds = np.exp(preds)\n",
    "print(\"New R2 score: \", r2_score(y_test, preds))\n",
    "print(\"New RMSE score: \", mean_squared_error(y_test, preds, squared=False))\n",
    "print('New MAPE score: ', MAPE(y_test, preds))\n",
    "print('New MAE score: ', mean_absolute_error(y_test, preds))"
   ]
  },
  {
   "cell_type": "code",
   "execution_count": 21,
   "id": "9d7b9ce4",
   "metadata": {},
   "outputs": [
    {
     "name": "stdout",
     "output_type": "stream",
     "text": [
      "set()\n",
      "set()\n"
     ]
    }
   ],
   "source": [
    "# checking to see if that completely removed all the films that provided a negative value prior to removing outliers\n",
    "print(set4.intersection(set2))\n",
    "print(set4.intersection(set1))"
   ]
  },
  {
   "cell_type": "markdown",
   "id": "58f5a64c",
   "metadata": {},
   "source": [
    "Even after removing outliers I'm still getting negative predictions. I've also significantly reduced my R-squared score by removing outliers.  However this is the lowest I've had my RMSE score since I began working with this data.\n",
    "\n",
    "A linear regression model doesn't appear to be the best fit for the data set.  It's also interesting that I'm getting lower R-squared scores than I was previously.  For now I'm going to work to reduce dimensionality in my data set before trying out different regression models. \n",
    "\n",
    "I'm going to save the data for use in another notebook focused on reducing dimensionality.  "
   ]
  },
  {
   "cell_type": "code",
   "execution_count": 22,
   "id": "cfeb8797",
   "metadata": {},
   "outputs": [],
   "source": [
    "boxoffice.to_csv('../Data/No_Outliers2.csv')"
   ]
  },
  {
   "cell_type": "markdown",
   "id": "aa61b551",
   "metadata": {},
   "source": [
    "I'm unsatsified with the results I'm getting thus far.  While this is the first project I've worked on I know that it's possible to be getting significantly better [results](https://www.kaggle.com/artgor/eda-feature-engineering-and-model-interpretation). \n",
    "\n",
    "To conclude this notebook I'm going to test how a Random Forest regressor on this data without outliers.  \n",
    "\n",
    "In the next notebook I'm going to reduce the dimensionality of the data I'm working with significantly and see if that will improve scores. "
   ]
  },
  {
   "cell_type": "markdown",
   "id": "9666bcaf",
   "metadata": {},
   "source": [
    "### Random Forest Modeling\n",
    "\n",
    "Given that a linear model seems to be performing poorly on the data as it is, I want to check to see what the results are from using a decision tree regression model like Random Forest are after removing outliers from this data set.\n",
    "\n",
    "### V 2.0 - have removed top 15% of outliers, below I'm getting base scores for random forest with & without applying a log transformation"
   ]
  },
  {
   "cell_type": "code",
   "execution_count": 23,
   "id": "a494c829",
   "metadata": {},
   "outputs": [],
   "source": [
    "def MAPE(true, pred):\n",
    "    MAPE = (np.sum(np.abs((true-pred)/true))/len(true))*100\n",
    "    return MAPE"
   ]
  },
  {
   "cell_type": "code",
   "execution_count": 24,
   "id": "b1ef95a2",
   "metadata": {},
   "outputs": [],
   "source": [
    "y = boxoffice['Numerical', 'revenue']\n",
    "X = boxoffice.drop('revenue', level=1, axis=1)\n",
    "scaler = StandardScaler()\n",
    "X['Numerical'] = scaler.fit_transform(X['Numerical'])\n",
    "X_train, X_test, y_train, y_test = train_test_split(X, y, train_size=0.2, random_state=42)"
   ]
  },
  {
   "cell_type": "code",
   "execution_count": 25,
   "id": "b875a392",
   "metadata": {},
   "outputs": [
    {
     "name": "stdout",
     "output_type": "stream",
     "text": [
      "{'R2': 0.23569381247383425, 'RMSE': 58125297.96395893, 'MAPE': 469.74895717763997, 'MAE': 44291650.01245117}\n"
     ]
    }
   ],
   "source": [
    "rand = RandomForestRegressor()\n",
    "rand.fit(X_train, y_train)\n",
    "preds = rand.predict(X_test)\n",
    "norm_r2 = r2_score(y_test, preds)\n",
    "norm_RMSE = mean_squared_error(y_test, preds, squared=False)\n",
    "norm_MAPE = MAPE(y_test, preds)\n",
    "norm_MAE = mean_absolute_error(y_test, preds)\n",
    "Norm_scores = {'R2':norm_r2, 'RMSE':norm_RMSE, 'MAPE':norm_MAPE, 'MAE':norm_MAE}\n",
    "print(Norm_scores)"
   ]
  },
  {
   "cell_type": "code",
   "execution_count": 26,
   "id": "eedb41df",
   "metadata": {},
   "outputs": [
    {
     "data": {
      "text/plain": [
       "672    17.76675\n",
       "2307   19.36341\n",
       "1446   16.32286\n",
       "1271   17.99617\n",
       "1052   18.53832\n",
       "         ...   \n",
       "1765   18.46474\n",
       "1108   18.98659\n",
       "2186   17.97811\n",
       "330    18.60473\n",
       "914    13.90352\n",
       "Name: (Numerical, revenue), Length: 1587, dtype: float64"
      ]
     },
     "execution_count": 26,
     "metadata": {},
     "output_type": "execute_result"
    }
   ],
   "source": [
    "log_y = np.log(boxoffice['Numerical', 'revenue'])\n",
    "X = boxoffice.drop('revenue', level=1, axis=1)\n",
    "scaler = StandardScaler()\n",
    "X['Numerical'] = scaler.fit_transform(X['Numerical'])\n",
    "X_train, X_test, y_train, y_test = train_test_split(X, log_y, train_size=0.2, random_state=42)\n",
    "y_test"
   ]
  },
  {
   "cell_type": "code",
   "execution_count": 27,
   "id": "f8f46fac",
   "metadata": {},
   "outputs": [
    {
     "data": {
      "text/plain": [
       "array([18.31102275, 18.62252891, 17.77307565, ..., 18.06363547,\n",
       "       18.22743974, 15.7518438 ])"
      ]
     },
     "execution_count": 27,
     "metadata": {},
     "output_type": "execute_result"
    }
   ],
   "source": [
    "# predicted values are predicting the log-transformed true values for film revenue\n",
    "rand = RandomForestRegressor()\n",
    "rand.fit(X_train, y_train)\n",
    "preds = rand.predict(X_test)\n",
    "preds"
   ]
  },
  {
   "cell_type": "markdown",
   "id": "ae693c57",
   "metadata": {},
   "source": [
    "This next section is meant to explore and better understand a mistake I made initially in log transforming my target variable and how it falsely improved the scoring metrics."
   ]
  },
  {
   "cell_type": "code",
   "execution_count": 28,
   "id": "c9b65a74",
   "metadata": {},
   "outputs": [
    {
     "data": {
      "text/plain": [
       "{'R2': 0.35519609294416377,\n",
       " 'RMSE': 1.1405652918828564,\n",
       " 'MAPE': 4.826164679999876,\n",
       " 'MAE': 0.8036061685045175}"
      ]
     },
     "execution_count": 28,
     "metadata": {},
     "output_type": "execute_result"
    }
   ],
   "source": [
    "# error metrics without taking the exponential of test or predicted values\n",
    "log_r2 = r2_score(y_test, preds)\n",
    "log_RMSE = mean_squared_error(y_test, preds, squared=False)\n",
    "log_MAPE = MAPE(y_test, preds)\n",
    "log_MAE = mean_absolute_error(y_test, preds)\n",
    "log_scores = {'R2':log_r2, 'RMSE':log_RMSE, \"MAPE\":log_MAPE, \"MAE\":log_MAE}\n",
    "log_scores"
   ]
  },
  {
   "cell_type": "code",
   "execution_count": 29,
   "id": "2848b0f7",
   "metadata": {},
   "outputs": [
    {
     "data": {
      "text/plain": [
       "{'R2': 0.16611955094914932,\n",
       " 'RMSE': 60713238.65392148,\n",
       " 'MAPE': 289.4739621409037,\n",
       " 'MAE': 45008446.8643098}"
      ]
     },
     "execution_count": 29,
     "metadata": {},
     "output_type": "execute_result"
    }
   ],
   "source": [
    "# error metrics taking the exponential BEFORE calculating error metrics with log-transformed values\n",
    "r2 = r2_score(np.exp(y_test), np.exp(preds))\n",
    "RMSE = mean_squared_error(np.exp(y_test), np.exp(preds), squared=False)\n",
    "MAPE = MAPE(np.exp(y_test), np.exp(preds))\n",
    "MAE = mean_absolute_error(np.exp(y_test), np.exp(preds))\n",
    "correct_scores = {\"R2\":r2, \"RMSE\":RMSE, \"MAPE\":MAPE, \"MAE\":MAE}\n",
    "correct_scores"
   ]
  },
  {
   "cell_type": "code",
   "execution_count": 30,
   "id": "71b08fe1",
   "metadata": {},
   "outputs": [
    {
     "data": {
      "text/html": [
       "<div>\n",
       "<style scoped>\n",
       "    .dataframe tbody tr th:only-of-type {\n",
       "        vertical-align: middle;\n",
       "    }\n",
       "\n",
       "    .dataframe tbody tr th {\n",
       "        vertical-align: top;\n",
       "    }\n",
       "\n",
       "    .dataframe thead th {\n",
       "        text-align: right;\n",
       "    }\n",
       "</style>\n",
       "<table border=\"1\" class=\"dataframe\">\n",
       "  <thead>\n",
       "    <tr style=\"text-align: right;\">\n",
       "      <th></th>\n",
       "      <th>R2</th>\n",
       "      <th>RMSE</th>\n",
       "      <th>MAPE</th>\n",
       "      <th>MAE</th>\n",
       "    </tr>\n",
       "  </thead>\n",
       "  <tbody>\n",
       "    <tr>\n",
       "      <th>Norm</th>\n",
       "      <td>0.23600</td>\n",
       "      <td>58125297.96400</td>\n",
       "      <td>469.74900</td>\n",
       "      <td>44291650.01200</td>\n",
       "    </tr>\n",
       "    <tr>\n",
       "      <th>log</th>\n",
       "      <td>0.35500</td>\n",
       "      <td>1.14100</td>\n",
       "      <td>4.82600</td>\n",
       "      <td>0.80400</td>\n",
       "    </tr>\n",
       "    <tr>\n",
       "      <th>Exp</th>\n",
       "      <td>0.16600</td>\n",
       "      <td>60713238.65400</td>\n",
       "      <td>289.47400</td>\n",
       "      <td>45008446.86400</td>\n",
       "    </tr>\n",
       "  </tbody>\n",
       "</table>\n",
       "</div>"
      ],
      "text/plain": [
       "          R2           RMSE      MAPE            MAE\n",
       "Norm 0.23600 58125297.96400 469.74900 44291650.01200\n",
       "log  0.35500        1.14100   4.82600        0.80400\n",
       "Exp  0.16600 60713238.65400 289.47400 45008446.86400"
      ]
     },
     "execution_count": 30,
     "metadata": {},
     "output_type": "execute_result"
    }
   ],
   "source": [
    "scores = pd.DataFrame({'Norm':Norm_scores, 'log':log_scores, 'Exp':correct_scores})\n",
    "scores = scores.round(decimals=3)\n",
    "scores = scores.T\n",
    "scores"
   ]
  },
  {
   "cell_type": "markdown",
   "id": "d3f387e5",
   "metadata": {},
   "source": [
    "# Conclusion\n",
    "\n",
    "It seems that a random forest regression model produces the best results yet!  None of the linear models have produced **both**  a R-squared score as high as 0.383 and a RMSE score as low as 82,082,297.  \n",
    "\n",
    "The next step to continue improving modeling & preprocessing scores by reducing dimensionality in the data set before trying more robust ML models. \n",
    "\n",
    "### Conclusion V2.0\n",
    "\n",
    "I've since realized that I was calculating error metrics incorrectly (see below explanation of that).  After revisiting the error metrics It appears that random forest models still model the data much better than linear regression models do.  What remains to be see is how effective removing an additional 10% of outliers proves to be once I've reduced dimensionality adequately."
   ]
  }
 ],
 "metadata": {
  "kernelspec": {
   "display_name": "Python 3",
   "language": "python",
   "name": "python3"
  },
  "language_info": {
   "codemirror_mode": {
    "name": "ipython",
    "version": 3
   },
   "file_extension": ".py",
   "mimetype": "text/x-python",
   "name": "python",
   "nbconvert_exporter": "python",
   "pygments_lexer": "ipython3",
   "version": "3.8.8"
  }
 },
 "nbformat": 4,
 "nbformat_minor": 5
}
