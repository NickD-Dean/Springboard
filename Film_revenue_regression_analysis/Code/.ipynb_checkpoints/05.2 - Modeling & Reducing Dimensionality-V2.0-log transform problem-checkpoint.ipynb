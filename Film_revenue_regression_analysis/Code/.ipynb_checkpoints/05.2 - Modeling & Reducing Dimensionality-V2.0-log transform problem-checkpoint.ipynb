{
 "cells": [
  {
   "cell_type": "markdown",
   "metadata": {},
   "source": [
    "## Reducing Dimensionality\n",
    "\n",
    "There are two main drivers of dimensionality in this dataset: Keywords and Production Companies\n",
    "\n",
    "Both bring thousands of dummy variables and create a sparse matrix that must be used for modelling.  I have several other categories that increase dimensionality more than they should, from these I need to severely reduce the number of features that are present in my data.  I'll list the general approach for each here, and enumerate why I'm taking that approach in subsections below. \n",
    "\n",
    "**Keywords:** Eliminate any keyword that appears in less than fifty films, reducing to 23 features\n",
    "\n",
    "**Production Companies:** Bin this by quartiles, reducing to 4 features\n",
    "\n",
    "**Release Year:** Bin by decade, reducing to 6 features\n",
    "\n",
    "**Production Country:** Eliminate and create a single column indicating if a film was produced in the US or not"
   ]
  },
  {
   "cell_type": "markdown",
   "metadata": {},
   "source": [
    "Once I've reduced the dimensionality appropriately I'll test the performance of linear, random forest, gradient boosting, xgboost, and k-nearest neighbors regression models. I will also compare model performance using RMSE and R-squared metrics as well as examining the models residual plots. "
   ]
  },
  {
   "cell_type": "code",
   "execution_count": 1,
   "metadata": {},
   "outputs": [],
   "source": [
    "import pandas as pd\n",
    "import numpy as np\n",
    "import matplotlib.pyplot as plt\n",
    "import seaborn as sns\n",
    "from sklearn.linear_model import LinearRegression\n",
    "from sklearn.model_selection import train_test_split, cross_validate, RandomizedSearchCV\n",
    "from sklearn.preprocessing import StandardScaler, MinMaxScaler, PowerTransformer\n",
    "from sklearn.metrics import r2_score, mean_squared_error, mean_squared_log_error\n",
    "from sklearn.svm import SVR\n",
    "from sklearn.neighbors import KNeighborsRegressor\n",
    "from sklearn.ensemble import GradientBoostingRegressor, RandomForestRegressor\n",
    "import warnings\n",
    "warnings.filterwarnings(\"ignore\")"
   ]
  },
  {
   "cell_type": "code",
   "execution_count": 2,
   "metadata": {},
   "outputs": [],
   "source": [
    "boxoffice = pd.read_csv('../Data/No_Outliers2.csv', index_col=0, header=[0,1])"
   ]
  },
  {
   "cell_type": "code",
   "execution_count": 3,
   "metadata": {},
   "outputs": [
    {
     "data": {
      "text/plain": [
       "(1983, 9976)"
      ]
     },
     "execution_count": 3,
     "metadata": {},
     "output_type": "execute_result"
    }
   ],
   "source": [
    "# Copying the boxoffice dataframe prior to making major changes so that I have access to all the information\n",
    "# if any mistakes are made. \n",
    "box = boxoffice\n",
    "box.shape"
   ]
  },
  {
   "cell_type": "markdown",
   "metadata": {},
   "source": [
    "### Keywords\n",
    "\n",
    "The Keywords category adds 7,134 dimensions to this data set and is incredibly sparse.  Only 1000 keywords actually appear in more than 5 films.  As a starting point I'm going to eliminate all keywords that don't appear in in at least 50 films, which reduces this category by 7,123 dimensions to 11 features. \n",
    "\n",
    "I would prefer to bin keywords by quartiles as I'll do with production companies. This presents problems to stakeholders who would like to make predictions from this model for a film's revenue.  If keywords are binned by revenue, you need to consult the existing list of keywords to identify which quartile a keywords belongs to.  This by itself isn't a problem.  However, over half of all keywords appear in only a single film, and many are a garbled collection of symbols that are not interpretable. A single previous data point is not a good predictor of revenue, further compounded by the likelihood that a keyword has not appeared in a single film previously.  \n",
    "\n",
    "If a keyword has not previously appeared in a film, it's impossible to use prior revenue performance to predict future revenue performance.  As a result, I've chosed to bin keywords by their frequency in the data set. "
   ]
  },
  {
   "cell_type": "code",
   "execution_count": 4,
   "metadata": {},
   "outputs": [],
   "source": [
    "sums = boxoffice['Keywords']\n",
    "sums = sums.sum(axis=1)\n",
    "# create a new column that indicates the number of keywords that participate in the creation of a film\n",
    "box['Numerical', 'Num_keywords'] = sums"
   ]
  },
  {
   "cell_type": "code",
   "execution_count": 5,
   "metadata": {},
   "outputs": [],
   "source": [
    "# Create a list of keywords that appear in more than 50 films\n",
    "kwrds = boxoffice['Keywords']\n",
    "count = kwrds.apply(pd.value_counts)\n",
    "count = count.iloc[1]\n",
    "pd.DataFrame(count)\n",
    "new_cols = list(count[count>=50].index)"
   ]
  },
  {
   "cell_type": "code",
   "execution_count": 6,
   "metadata": {},
   "outputs": [
    {
     "data": {
      "text/plain": [
       "(1983, 2853)"
      ]
     },
     "execution_count": 6,
     "metadata": {},
     "output_type": "execute_result"
    }
   ],
   "source": [
    "# drops all keyword columns that don't appear in more than 50 films\n",
    "old_cols = list(box['Keywords'].columns)\n",
    "old_cols = set(old_cols)\n",
    "new_cols = set(new_cols)\n",
    "drop = old_cols.difference(new_cols)\n",
    "drop = list(drop)\n",
    "box.drop(drop, axis=1, level=1, inplace=True)\n",
    "box.drop('No Keywords', axis=1, level=1, inplace=True)\n",
    "box.shape"
   ]
  },
  {
   "cell_type": "markdown",
   "metadata": {},
   "source": [
    "### Production Companies\n",
    "\n",
    "Next, I need to bin production companies by revenue tier.  This will involve reducing the 2,688 features for Production Companies down to 4 features for production company revenue quartiles. These will indicate if a film has a production company who's fims are generally in the 25th, 50th, 75th, or 100th quartile of film revenue. \n",
    "\n",
    "I'm also going to sum up all the rows for production companies and create a new column that indicates the number of companies that contribute to a film since each film can have multiple companies working on it."
   ]
  },
  {
   "cell_type": "code",
   "execution_count": 7,
   "metadata": {},
   "outputs": [],
   "source": [
    "sums = boxoffice['Company']\n",
    "sums = sums.sum(axis=1)\n",
    "# create a new column that indicates the number of companies that participate in the creation of a film\n",
    "box['Numerical', 'Num_companies'] = sums"
   ]
  },
  {
   "cell_type": "code",
   "execution_count": 8,
   "metadata": {},
   "outputs": [],
   "source": [
    "# Creating a dataframe of the production company data joined with revenue data\n",
    "rev = boxoffice['Numerical', 'revenue']\n",
    "rev = pd.DataFrame(rev)\n",
    "rev.columns = rev.columns.droplevel()\n",
    "prod_co = boxoffice['Company']\n",
    "prod_co_rev = prod_co.join(rev)"
   ]
  },
  {
   "cell_type": "code",
   "execution_count": 9,
   "metadata": {},
   "outputs": [
    {
     "data": {
      "text/plain": [
       "Marvel Studios                263427551.0\n",
       "MVL Incredible Productions    263427551.0\n",
       "Taihe Entertainment           263036301.0\n",
       "Shinework Media               263036301.0\n",
       "Atlantic Television           262520724.0\n",
       "                                 ...     \n",
       "XM3 Service                           NaN\n",
       "Zehnte Babelsberg                     NaN\n",
       "thinkfilm                             NaN\n",
       "warner bross Turkey                   NaN\n",
       "revenue                               NaN\n",
       "Length: 2689, dtype: float64"
      ]
     },
     "execution_count": 9,
     "metadata": {},
     "output_type": "execute_result"
    }
   ],
   "source": [
    "# Creating a series that lists companies by the average revenue they produce\n",
    "median={}\n",
    "for x in prod_co_rev:\n",
    "    median[x] = prod_co_rev['revenue'][prod_co_rev[x] == 1].median()\n",
    "medians = pd.Series(median)\n",
    "medians.sort_values(ascending=False)"
   ]
  },
  {
   "cell_type": "markdown",
   "metadata": {},
   "source": [
    "Interesting that film companies have no revenue. However this would indicate that these companies simply don't have films observed in the data set.  This is not that surprising considering that in the previous notebook I eliminated 5% of the observations.  It is surprising that Warner Bros. is one of those companies with no films present, however it is reasonable that Warner Bros films would be in the top 5% of revenue since it's one of the most well-known companies."
   ]
  },
  {
   "cell_type": "code",
   "execution_count": 10,
   "metadata": {},
   "outputs": [
    {
     "name": "stdout",
     "output_type": "stream",
     "text": [
      "Number of film companies with no films:  177\n",
      "% of film companies with no films: 0.06582372629230197\n"
     ]
    }
   ],
   "source": [
    "# verifying that the number of production companies with less than 5%\n",
    "print('Number of film companies with no films: ', medians.isnull().sum())\n",
    "print('% of film companies with no films: ' + str(medians.isnull().sum() / len(medians)))"
   ]
  },
  {
   "cell_type": "code",
   "execution_count": 11,
   "metadata": {},
   "outputs": [
    {
     "data": {
      "text/plain": [
       "(2512,)"
      ]
     },
     "execution_count": 11,
     "metadata": {},
     "output_type": "execute_result"
    }
   ],
   "source": [
    "# creating a list of production company names to drop later since their films have been dropped from the data set\n",
    "mask = medians.isnull()\n",
    "droplist = list(medians[mask].index)\n",
    "# Edit the series to \n",
    "reverse = medians[medians.notnull()]\n",
    "reverse = reverse.sort_values(ascending=False)\n",
    "reverse.shape"
   ]
  },
  {
   "cell_type": "code",
   "execution_count": 12,
   "metadata": {},
   "outputs": [],
   "source": [
    "# Cutting the list of companies & revenue into quartiles\n",
    "reverse = pd.DataFrame(reverse, columns = ['revenue'])\n",
    "reverse['Quartile'] = pd.qcut(reverse['revenue'], q=4, labels=False)\n",
    "# Creating a list of company names for each quartile\n",
    "quartile_1st = list(reverse[reverse['Quartile'] == 0].index)\n",
    "quartile_2nd = list(reverse[reverse['Quartile'] == 1].index)\n",
    "quartile_3rd = list(reverse[reverse['Quartile'] == 2].index)\n",
    "quartile_4th = list(reverse[reverse['Quartile'] == 3].index)"
   ]
  },
  {
   "cell_type": "code",
   "execution_count": 13,
   "metadata": {},
   "outputs": [],
   "source": [
    "# Nested for loops that create new columns that indicate if a film was contributed to by a production company who's average film\n",
    "# revenue is in the 1st, 2nd, 3rd, or 4th quartiles\n",
    "for i in quartile_1st:\n",
    "    for k in prod_co.index:\n",
    "        if prod_co.loc[k,i] == 1:\n",
    "            box.loc[k, ('Company', 'Company_quartile_1st')] = 1\n",
    "            \n",
    "for i in quartile_2nd:\n",
    "    for k in prod_co.index:\n",
    "        if prod_co.loc[k,i] == 1:\n",
    "            box.loc[k, ('Company', 'Company_quartile_2nd')] = 1\n",
    "        \n",
    "for i in quartile_3rd:\n",
    "    for k in prod_co.index:\n",
    "        if prod_co.loc[k,i] == 1:\n",
    "            box.loc[k, ('Company', 'Company_quartile_3rd')] = 1\n",
    "        \n",
    "for i in quartile_4th:\n",
    "    for k in prod_co.index:\n",
    "        if prod_co.loc[k,i] == 1:\n",
    "            box.loc[k, ('Company', 'Company_quartile_4th')] = 1      "
   ]
  },
  {
   "cell_type": "code",
   "execution_count": 14,
   "metadata": {},
   "outputs": [],
   "source": [
    "co = box['Company']\n",
    "co = co.apply(pd.value_counts)\n",
    "co = co.iloc[1]\n",
    "keep = co[co>50]\n",
    "keep = pd.DataFrame(keep)\n",
    "keep = keep.drop(['Company_quartile_1st', 'Company_quartile_2nd', 'Company_quartile_3rd', 'Company_quartile_4th'], axis=0)\n",
    "keep = set(list(keep.index))\n",
    "drop = set(list(prod_co.columns))\n",
    "drop = list(drop.difference(keep))\n",
    "box = box.drop(drop, axis=1, level=1)"
   ]
  },
  {
   "cell_type": "code",
   "execution_count": 15,
   "metadata": {},
   "outputs": [
    {
     "data": {
      "text/plain": [
       "(1983, 181)"
      ]
     },
     "execution_count": 15,
     "metadata": {},
     "output_type": "execute_result"
    }
   ],
   "source": [
    "box['Company'] = box['Company'].fillna(0)\n",
    "box['Company'] = box['Company'].astype(int)\n",
    "box.shape"
   ]
  },
  {
   "cell_type": "markdown",
   "metadata": {},
   "source": [
    "### Realease Year\n",
    "\n",
    "Generally speaking in the exploratory data analysis for this problem I noticed that revenue increased year over year.  This trend can also be captures by features representing the decade for which a film is produced in.  This will reduce the dimensions of the data set by 41 features."
   ]
  },
  {
   "cell_type": "code",
   "execution_count": 16,
   "metadata": {},
   "outputs": [
    {
     "data": {
      "text/plain": [
       "Index(['1971', '1972', '1973', '1974', '1975', '1976', '1977', '1978', '1979',\n",
       "       '1980', '1981', '1982', '1983', '1984', '1985', '1986', '1987', '1988',\n",
       "       '1989', '1990', '1991', '1992', '1993', '1994', '1995', '1996', '1997',\n",
       "       '1998', '1999', '2000', '2001', '2002', '2003', '2004', '2005', '2006',\n",
       "       '2007', '2008', '2009', '2010', '2011', '2012', '2013', '2014', '2015',\n",
       "       '2016', '2017', 'No Year'],\n",
       "      dtype='object')"
      ]
     },
     "execution_count": 16,
     "metadata": {},
     "output_type": "execute_result"
    }
   ],
   "source": [
    "years = boxoffice['Release_year']\n",
    "years.columns"
   ]
  },
  {
   "cell_type": "code",
   "execution_count": 17,
   "metadata": {},
   "outputs": [],
   "source": [
    "Decade_70s = ['1971', '1972', '1973', '1974', '1975', '1976', '1977', '1978', '1979']\n",
    "Decade_80s = ['1980', '1981', '1982', '1983', '1984', '1985', '1986', '1987', '1988', '1989']\n",
    "Decade_90s = ['1990', '1991', '1992', '1993', '1994', '1995', '1996', '1997', '1998', '1999']\n",
    "Decade_00s = ['2000', '2001', '2002', '2003', '2004', '2005', '2006', '2007', '2008', '2009']\n",
    "Decade_10s = ['2010', '2011', '2012', '2013', '2014', '2015', '2016', '2017']\n",
    "for i in Decade_70s:\n",
    "    for k in years.index:\n",
    "        if years.loc[k,i] == 1:\n",
    "            box.loc[k, ('Release_year', \"70s\")] = 1\n",
    "for i in Decade_80s:\n",
    "    for k in years.index:\n",
    "        if years.loc[k,i] == 1:\n",
    "            box.loc[k, ('Release_year', '80s')] = 1\n",
    "for i in Decade_90s:\n",
    "    for k in years.index:\n",
    "        if years.loc[k,i] == 1:\n",
    "            box.loc[k, ('Release_year', '90s')] = 1\n",
    "for i in Decade_00s:\n",
    "    for k in years.index:\n",
    "        if years.loc[k,i] == 1:\n",
    "            box.loc[k, ('Release_year', '00s')] = 1\n",
    "for i in Decade_10s:\n",
    "    for k in years.index:\n",
    "        if years.loc[k,i] == 1:\n",
    "            box.loc[k, ('Release_year', '10s')] = 1"
   ]
  },
  {
   "cell_type": "code",
   "execution_count": 18,
   "metadata": {},
   "outputs": [
    {
     "data": {
      "text/plain": [
       "(1983, 139)"
      ]
     },
     "execution_count": 18,
     "metadata": {},
     "output_type": "execute_result"
    }
   ],
   "source": [
    "box = box.drop(['1971', '1972', '1973', '1974', '1975', '1976', '1977', '1978', '1979',\n",
    "       '1980', '1981', '1982', '1983', '1984', '1985', '1986', '1987', '1988',\n",
    "       '1989', '1990', '1991', '1992', '1993', '1994', '1995', '1996', '1997',\n",
    "       '1998', '1999', '2000', '2001', '2002', '2003', '2004', '2005', '2006',\n",
    "       '2007', '2008', '2009', '2010', '2011', '2012', '2013', '2014', '2015',\n",
    "       '2016', '2017'], axis=1, level=1)\n",
    "box['Release_year'] = box['Release_year'].fillna(0)\n",
    "box['Release_year'] = box['Release_year'].astype(int)\n",
    "box.shape"
   ]
  },
  {
   "cell_type": "markdown",
   "metadata": {},
   "source": [
    "### Country\n",
    "\n",
    "Production country is the last category in this data set that has a sparse matrix of data to work with.  I'm going to group the country information by global region, and I'll also create a new numerical column that indicates if a film was produced in multiple countries.  \n",
    "\n",
    "This will reduce the data set that I'm working with by 55 features."
   ]
  },
  {
   "cell_type": "code",
   "execution_count": 19,
   "metadata": {},
   "outputs": [],
   "source": [
    "sums = boxoffice['Country']\n",
    "sums = sums.sum(axis=1)\n",
    "box['Numerical', 'Num_production_countries'] = sums"
   ]
  },
  {
   "cell_type": "code",
   "execution_count": 20,
   "metadata": {},
   "outputs": [],
   "source": [
    "country = boxoffice['Country']\n",
    "europe = ['Austria', 'Belgium', 'Bulgaria', 'Czech Republic', 'Denmark', 'Finland', 'France', 'Germany', 'Greece', \n",
    "          'Hungary', 'Iceland', 'Ireland', 'Italy', 'Luxembourg', 'Malta', 'Monaco', 'Netherlands', 'Norway', 'Poland', \n",
    "          'Portugal', 'Romania', 'Russia', 'Serbia', 'Slovenia', 'Spain', 'Sweden', 'Switzerland']\n",
    "oceania = ['Australia', 'Indonesia', 'New Zealand', 'Philippines']\n",
    "asia = ['Cambodia', 'China', 'Hong Kong', 'Japan', 'Singapore', 'South Korea', 'Taiwan', 'Thailand', 'India']\n",
    "middleast = ['Iran', 'Israel', 'Pakistan', 'Qatar', 'Turkey', 'United Arab Emirates']\n",
    "latinamerica = ['Argentina', 'Bahamas', 'Bolivia', 'Brazil', 'Chile', 'Colombia', 'Costa Rica', 'Peru', 'Paraguay',\n",
    "                'Uruguay', 'Venezuela']\n",
    "northamerica = ['Canada', 'Mexico']\n",
    "africa = ['Botswana', 'Mauritania', 'Morocco', 'South Africa']"
   ]
  },
  {
   "cell_type": "code",
   "execution_count": 21,
   "metadata": {},
   "outputs": [],
   "source": [
    "for i in europe:\n",
    "    for k in country.index:\n",
    "        if country.loc[k, i] == 1:\n",
    "            box.loc[k, ('Country', 'Europe')] = 1\n",
    "for i in oceania:\n",
    "    for k in country.index:\n",
    "        if country.loc[k, i] ==1:\n",
    "            box.loc[k, ('Country', 'Oceania')] = 1\n",
    "for i in asia:\n",
    "    for k in country.index:\n",
    "        if country.loc[k, i] ==1:\n",
    "            box.loc[k, ('Country', 'Asia')] = 1\n",
    "for i in middleast:\n",
    "    for k in country.index:\n",
    "        if country.loc[k, i] ==1:\n",
    "            box.loc[k, ('Country', 'Middle_East')] = 1\n",
    "for i in latinamerica:\n",
    "    for k in country.index:\n",
    "        if country.loc[k, i] ==1:\n",
    "            box.loc[k, ('Country', 'Latin_America')] = 1\n",
    "for i in northamerica:\n",
    "    for k in country.index:\n",
    "        if country.loc[k, i] ==1:\n",
    "            box.loc[k, ('Country', 'North_America')] = 1\n",
    "for i in africa:\n",
    "    for k in country.index:\n",
    "        if country.loc[k, i] ==1:\n",
    "            box.loc[k, ('Country', 'Africa')] = 1"
   ]
  },
  {
   "cell_type": "code",
   "execution_count": 22,
   "metadata": {},
   "outputs": [
    {
     "data": {
      "text/plain": [
       "(1983, 84)"
      ]
     },
     "execution_count": 22,
     "metadata": {},
     "output_type": "execute_result"
    }
   ],
   "source": [
    "regions = europe + oceania + asia + middleast + latinamerica + northamerica + africa\n",
    "box = box.drop(regions, level=1, axis=1)\n",
    "box['Country'] = box['Country'].fillna(0)\n",
    "box['Country'] = box['Country'].astype(int)\n",
    "box.shape"
   ]
  },
  {
   "cell_type": "code",
   "execution_count": 23,
   "metadata": {},
   "outputs": [],
   "source": [
    "box.to_csv('../Data/Reduced_dimensions2.csv')"
   ]
  },
  {
   "cell_type": "markdown",
   "metadata": {},
   "source": [
    "# Testing the performance of regression models on the reduced data set\n",
    "\n",
    "Now that I've severely reduced the dimensionality of this data I'm going to test a linear, random forest, gradient boosting, Support-Vector, and k-nearest neighbors regression models.\n",
    "\n",
    "Based on the results from cross-validation I'll then test out of the box models against the test data and plot their residuals as well as calculate the mean absolute percentage error. \n",
    "\n",
    "### V 1.0 - due to another project and specialized third party packages I'm currently unable to access scikit-learn 0.24 and thus cannot use mean_absolute_percentage_error within cross-validation\n",
    "\n",
    "### V 2.0 - I realized in a later notebook that I had been incorrectly scoring my ML models and used those incorrect scores to select a model.  I'm going back through here and using the correct scoring methods to asses model performance\n",
    "\n",
    "The proper way to calculate MAPE/RMSE/R2/MAE metrics from log transformed target variables is to take the exponential of both the hold-out/test set and the predicted variables and THEN calculate error metrics.  However this isn't possible with scoring for cross-validation purposes.  While the metrics that will be provided by cross-validation are metrics for 'log(dollars)', and thus aren't truly representative of the actual performance of the model, they do allow for a point of comparison between models since the units are all the same that WILL allow me to select the best performing models on the log(dollars) target."
   ]
  },
  {
   "cell_type": "code",
   "execution_count": 24,
   "metadata": {},
   "outputs": [],
   "source": [
    "metrics = ['neg_mean_squared_error', 'r2']\n",
    "# Taking the log of numerical revenue and \n",
    "y = np.log(box['Numerical', 'revenue'])\n",
    "X = box.drop('revenue', level=1, axis=1)\n",
    "# Scaling the numerical data in X using a standard scaler\n",
    "scaler=MinMaxScaler()\n",
    "scaler.fit(X['Numerical'])\n",
    "X['Numerical'] = scaler.transform(X['Numerical'])\n",
    "X_train, X_test, y_train, y_test = train_test_split(X, y, test_size=0.2, random_state=42)"
   ]
  },
  {
   "cell_type": "code",
   "execution_count": 25,
   "metadata": {},
   "outputs": [],
   "source": [
    "# instantiating the regression models\n",
    "linear = LinearRegression()\n",
    "random_forest = RandomForestRegressor()\n",
    "knn = KNeighborsRegressor()\n",
    "gradient_boost = GradientBoostingRegressor()\n",
    "svr = SVR()"
   ]
  },
  {
   "cell_type": "code",
   "execution_count": 26,
   "metadata": {},
   "outputs": [
    {
     "name": "stdout",
     "output_type": "stream",
     "text": [
      "Linear RMSE:  8164319695.2405\n",
      "Linear R2:  -3.3695760168210235e+19\n"
     ]
    }
   ],
   "source": [
    "# Getting linear regression scores\n",
    "results = cross_validate(linear, X_train, y_train, scoring=metrics)\n",
    "# takinge the exponential of the RMSE to transform it back into real dollars\n",
    "RMSE = round(np.sqrt(np.mean(np.abs(results['test_neg_mean_squared_error']))), 5)\n",
    "R2 = round(np.mean(results['test_r2']), 5)\n",
    "linear_results = {'RMSE':RMSE, 'R2':R2}\n",
    "print('Linear RMSE: ', RMSE)\n",
    "print('Linear R2: ', R2)"
   ]
  },
  {
   "cell_type": "code",
   "execution_count": 27,
   "metadata": {
    "scrolled": true
   },
   "outputs": [
    {
     "name": "stdout",
     "output_type": "stream",
     "text": [
      "Random Forest RMSE:  0.96571\n",
      "Random Forest R2:  0.55657\n"
     ]
    }
   ],
   "source": [
    "# Getting Random Forest scores\n",
    "results = cross_validate(random_forest, X_train, y_train, scoring=metrics)\n",
    "RMSE = round(np.sqrt(np.mean(np.abs(results['test_neg_mean_squared_error']))), 5)\n",
    "R2 = round(np.mean(results['test_r2']), 5)\n",
    "random_forest_results = {'RMSE':RMSE, 'R2':R2}\n",
    "print('Random Forest RMSE: ', RMSE)\n",
    "print('Random Forest R2: ', R2)"
   ]
  },
  {
   "cell_type": "code",
   "execution_count": 28,
   "metadata": {},
   "outputs": [
    {
     "name": "stdout",
     "output_type": "stream",
     "text": [
      "K-Nearest Neighbor RMSE:  1.08905\n",
      "K-Nearest Neighbor R2:  0.43897\n"
     ]
    }
   ],
   "source": [
    "# Getting KNN scores\n",
    "results = cross_validate(knn, X_train, y_train, scoring=metrics)\n",
    "RMSE = round(np.sqrt(np.mean(np.abs(results['test_neg_mean_squared_error']))), 5)\n",
    "R2 = round(np.mean(results['test_r2']), 5)\n",
    "knn_results = {'RMSE':RMSE, 'R2':R2}\n",
    "print('K-Nearest Neighbor RMSE: ', RMSE)\n",
    "print('K-Nearest Neighbor R2: ', R2)"
   ]
  },
  {
   "cell_type": "code",
   "execution_count": 29,
   "metadata": {},
   "outputs": [
    {
     "name": "stdout",
     "output_type": "stream",
     "text": [
      "Gradient Boosted RMSE:  0.94767\n",
      "Gradient Boosted R2:  0.57392\n"
     ]
    }
   ],
   "source": [
    "# Getting Gradient Boosted scores\n",
    "results = cross_validate(gradient_boost, X_train, y_train, scoring=metrics)\n",
    "RMSE = round(np.sqrt(np.mean(np.abs(results['test_neg_mean_squared_error']))), 5)\n",
    "R2 = round(np.mean(results['test_r2']), 5)\n",
    "gradient_boosted_results = {'RMSE':RMSE, 'R2':R2}\n",
    "print('Gradient Boosted RMSE: ', RMSE)\n",
    "print('Gradient Boosted R2: ', R2)"
   ]
  },
  {
   "cell_type": "code",
   "execution_count": 30,
   "metadata": {},
   "outputs": [
    {
     "name": "stdout",
     "output_type": "stream",
     "text": [
      "Support Vector RMSE:  0.97579\n",
      "Support Vector R2:  0.554\n"
     ]
    }
   ],
   "source": [
    "# Getting Support Vector Regression results\n",
    "results = cross_validate(svr, X_train, y_train, scoring=metrics)\n",
    "RMSE = round(np.sqrt(np.mean(np.abs(results['test_neg_mean_squared_error']))), 5)\n",
    "R2 = round(np.mean(results['test_r2']), 5)\n",
    "support_vector_results = {'RMSE':RMSE, 'R2':R2}\n",
    "print('Support Vector RMSE: ', RMSE)\n",
    "print('Support Vector R2: ', R2)"
   ]
  },
  {
   "cell_type": "code",
   "execution_count": 31,
   "metadata": {},
   "outputs": [
    {
     "data": {
      "text/html": [
       "<div>\n",
       "<style scoped>\n",
       "    .dataframe tbody tr th:only-of-type {\n",
       "        vertical-align: middle;\n",
       "    }\n",
       "\n",
       "    .dataframe tbody tr th {\n",
       "        vertical-align: top;\n",
       "    }\n",
       "\n",
       "    .dataframe thead th {\n",
       "        text-align: right;\n",
       "    }\n",
       "</style>\n",
       "<table border=\"1\" class=\"dataframe\">\n",
       "  <thead>\n",
       "    <tr style=\"text-align: right;\">\n",
       "      <th></th>\n",
       "      <th>RMSE</th>\n",
       "      <th>R2</th>\n",
       "    </tr>\n",
       "  </thead>\n",
       "  <tbody>\n",
       "    <tr>\n",
       "      <th>Random Forest</th>\n",
       "      <td>0.96571</td>\n",
       "      <td>0.55657</td>\n",
       "    </tr>\n",
       "    <tr>\n",
       "      <th>KNN</th>\n",
       "      <td>1.08905</td>\n",
       "      <td>0.43897</td>\n",
       "    </tr>\n",
       "    <tr>\n",
       "      <th>Gradient Boosted</th>\n",
       "      <td>0.94767</td>\n",
       "      <td>0.57392</td>\n",
       "    </tr>\n",
       "    <tr>\n",
       "      <th>SVR</th>\n",
       "      <td>0.97579</td>\n",
       "      <td>0.55400</td>\n",
       "    </tr>\n",
       "  </tbody>\n",
       "</table>\n",
       "</div>"
      ],
      "text/plain": [
       "                     RMSE       R2\n",
       "Random Forest     0.96571  0.55657\n",
       "KNN               1.08905  0.43897\n",
       "Gradient Boosted  0.94767  0.57392\n",
       "SVR               0.97579  0.55400"
      ]
     },
     "execution_count": 31,
     "metadata": {},
     "output_type": "execute_result"
    }
   ],
   "source": [
    "# Collecting results for comparison\n",
    "scores = {'Linear': linear_results, 'Random Forest':random_forest_results, 'KNN':knn_results, \n",
    "          'Gradient Boosted':gradient_boosted_results, 'SVR':support_vector_results}\n",
    "scores = pd.DataFrame(scores)\n",
    "scores = scores.T\n",
    "scores = scores.drop('Linear', axis=0)\n",
    "scores"
   ]
  },
  {
   "cell_type": "code",
   "execution_count": 32,
   "metadata": {},
   "outputs": [
    {
     "data": {
      "image/png": "[encoded data removed]",
      "text/plain": [
       "<Figure size 720x504 with 1 Axes>"
      ]
     },
     "metadata": {
      "needs_background": "light"
     },
     "output_type": "display_data"
    }
   ],
   "source": [
    "models = list(scores.index)\n",
    "plt.figure(figsize=(10,7))\n",
    "plt.bar(models, scores.R2)\n",
    "plt.xticks(rotation=90)\n",
    "plt.axhline(0, c='black')\n",
    "plt.xlabel('Model', size='large')\n",
    "plt.ylabel('R-squared', size='large')\n",
    "plt.title('R-squared scores by model', size = 'x-large');"
   ]
  },
  {
   "cell_type": "code",
   "execution_count": 33,
   "metadata": {},
   "outputs": [
    {
     "data": {
      "image/png": "[encoded data removed]",
      "text/plain": [
       "<Figure size 720x504 with 1 Axes>"
      ]
     },
     "metadata": {
      "needs_background": "light"
     },
     "output_type": "display_data"
    }
   ],
   "source": [
    "plt.figure(figsize=(10,7))\n",
    "plt.bar(models, scores.RMSE)\n",
    "plt.xticks(rotation=90)\n",
    "plt.xlabel('Model', size='large')\n",
    "plt.ylabel('Root Mean Squared Error ($)', size='large')\n",
    "plt.title('Root Mean Squared Error by Model', size='x-large');"
   ]
  },
  {
   "cell_type": "markdown",
   "metadata": {},
   "source": [
    "### Testing against test data and plotting residuals\n",
    "\n",
    "Based on cross-validation it seems that decision-tree based regression models as well as KNN regression performs the best.  While the SVR model did recieve better scores, it also raised error warnings that the model is not converging, so I won't be using it going forward.  I'm going to test their performance against my test data as well as take the opportunity to plot their residuals.  \n",
    "\n",
    "\n",
    "#### V 2.0  As of now I'm unsure of how to best use randomized search for hyperparameter tuning and will move forward with the best performing hyperparameters from previous iterations on this notebook.  I'm still unable to update to scikit learn 0.24 and use their MAPE function so I've written my own below\n",
    "\n",
    "The purpose of going back over this notebook is to ensure that data has been properly transformed from log(dollars) to regular dollars PRIOR to scoring each model.  This will likely change the approach that I take for randomized search as well after consulting several mentors for strategies around that."
   ]
  },
  {
   "cell_type": "code",
   "execution_count": 34,
   "metadata": {},
   "outputs": [],
   "source": [
    "# function to calculate mean absolute percentage error\n",
    "def MAPE(true_values, predicted_values):\n",
    "    MAPE = np.sum(np.abs((true_values-predicted_values)/true_values))/len(true_values)*100\n",
    "    return MAPE"
   ]
  },
  {
   "cell_type": "code",
   "execution_count": 35,
   "metadata": {},
   "outputs": [
    {
     "data": {
      "text/plain": [
       "(1983, 84)"
      ]
     },
     "execution_count": 35,
     "metadata": {},
     "output_type": "execute_result"
    }
   ],
   "source": [
    "box.shape"
   ]
  },
  {
   "cell_type": "code",
   "execution_count": 36,
   "metadata": {},
   "outputs": [],
   "source": [
    "y = np.log(box['Numerical', 'revenue'])\n",
    "X = box.drop('revenue', level=1, axis=1)\n",
    "# Scaling the numerical data in X using a MinMax scaler\n",
    "scaler=MinMaxScaler()\n",
    "scaler.fit(X['Numerical'])\n",
    "X['Numerical'] = scaler.transform(X['Numerical'])\n",
    "X_train, X_test, y_train, y_test = train_test_split(X, y, test_size=0.2, random_state=42)"
   ]
  },
  {
   "cell_type": "markdown",
   "metadata": {},
   "source": [
    "Training target variables are still in 'log(dollars)' to reduce the skew in the data. I'm going to transform the test data back into 'regular dollars' using np.exp now. After predictions are made with each model I'll transform the predictions with np.exp immediately so that I don't need to insert np.exp() multiple times into each scoring function.  \n",
    "\n",
    "By going through this in a systematic way I will be able to ensure the fidelity of my scoring metrics prior to modeling revenue based on tiers."
   ]
  },
  {
   "cell_type": "code",
   "execution_count": 37,
   "metadata": {},
   "outputs": [
    {
     "data": {
      "text/plain": [
       "828     19.009989\n",
       "549     18.509426\n",
       "656     18.256660\n",
       "83      19.340252\n",
       "1977    17.709410\n",
       "          ...    \n",
       "1315    14.597022\n",
       "1506    15.499579\n",
       "984     18.463013\n",
       "1710    18.578495\n",
       "1311    18.997166\n",
       "Name: (Numerical, revenue), Length: 1586, dtype: float64"
      ]
     },
     "execution_count": 37,
     "metadata": {},
     "output_type": "execute_result"
    }
   ],
   "source": [
    "exp_y_test = np.exp(y_test)\n",
    "# training data is still in log(dollars)\n",
    "y_train"
   ]
  },
  {
   "cell_type": "code",
   "execution_count": 38,
   "metadata": {},
   "outputs": [
    {
     "data": {
      "text/plain": [
       "672      52000000.0\n",
       "2307    256697520.0\n",
       "1446     12272308.0\n",
       "1271     65409046.0\n",
       "1052    112483764.0\n",
       "           ...     \n",
       "1474    146292009.0\n",
       "423     178127760.0\n",
       "1159     63543328.0\n",
       "1427     75769783.0\n",
       "678      39753957.0\n",
       "Name: (Numerical, revenue), Length: 397, dtype: float64"
      ]
     },
     "execution_count": 38,
     "metadata": {},
     "output_type": "execute_result"
    }
   ],
   "source": [
    "# new variable to store actual revenue values for test data that will be used to compare to predicted values\n",
    "exp_y_test"
   ]
  },
  {
   "cell_type": "markdown",
   "metadata": {},
   "source": [
    "#### Testing a Random Forest model, finding optimal parameters, and plotting residuals for the optimal model"
   ]
  },
  {
   "cell_type": "code",
   "execution_count": 39,
   "metadata": {},
   "outputs": [],
   "source": [
    "rf = RandomForestRegressor()\n",
    "rf.fit(X_train, y_train)\n",
    "preds = rf.predict(X_test)\n",
    "preds = np.exp(preds)"
   ]
  },
  {
   "cell_type": "code",
   "execution_count": 40,
   "metadata": {},
   "outputs": [
    {
     "data": {
      "image/png": "[encoded data removed]",
      "text/plain": [
       "<Figure size 432x288 with 1 Axes>"
      ]
     },
     "metadata": {
      "needs_background": "light"
     },
     "output_type": "display_data"
    }
   ],
   "source": [
    "residuals = exp_y_test-preds\n",
    "plt.hist(residuals,color='g', bins=50)\n",
    "plt.axvline(x=0, color='k')\n",
    "plt.title('Predicted Revenue vs. Residual Error');"
   ]
  },
  {
   "cell_type": "code",
   "execution_count": 41,
   "metadata": {},
   "outputs": [],
   "source": [
    "params = {'n_estimators': np.arange(10,1000), 'min_samples_leaf': np.arange(1,10), 'min_samples_split': np.arange(2,10), \n",
    "          'max_depth':np.arange(10,90)}\n",
    "#rand = RandomizedSearchCV(RandomForestRegressor(), param_distributions=params, n_iter=100)\n",
    "#rand.fit(X_train, y_train)\n",
    "#rf_best_score = rand.best_score_\n",
    "#rf_best_params = rand.best_params_\n",
    "#print(rf_best_score)\n",
    "#print(rf_best_params)"
   ]
  },
  {
   "cell_type": "code",
   "execution_count": 42,
   "metadata": {},
   "outputs": [
    {
     "data": {
      "text/plain": [
       "{'R2': 0.4470763065994876,\n",
       " 'RMSE': 48823575.05903408,\n",
       " 'MAPE': 318.5554392221731}"
      ]
     },
     "execution_count": 42,
     "metadata": {},
     "output_type": "execute_result"
    }
   ],
   "source": [
    "best_rf = RandomForestRegressor(n_estimators= 447, min_samples_split= 6, min_samples_leaf= 4, max_depth= 72)\n",
    "best_rf.fit(X_train, y_train)\n",
    "rf_preds = best_rf.predict(X_test)\n",
    "rf_preds = np.exp(rf_preds)\n",
    "rf_r2 = r2_score(exp_y_test, rf_preds)\n",
    "rf_rmse = mean_squared_error(exp_y_test, rf_preds, squared=False)\n",
    "rf_mape = MAPE(exp_y_test, rf_preds)\n",
    "rf_residuals = exp_y_test-rf_preds\n",
    "RandomForest = {'R2':rf_r2, 'RMSE':rf_rmse, 'MAPE':rf_mape}\n",
    "RandomForest"
   ]
  },
  {
   "cell_type": "code",
   "execution_count": 43,
   "metadata": {},
   "outputs": [
    {
     "data": {
      "image/png": "[encoded data removed]",
      "text/plain": [
       "<Figure size 432x288 with 1 Axes>"
      ]
     },
     "metadata": {
      "needs_background": "light"
     },
     "output_type": "display_data"
    }
   ],
   "source": [
    "plt.hist(rf_residuals, color='b', bins=50)\n",
    "plt.axvline(x=0, color='k')\n",
    "plt.title('Distribution of Random Forest Residual Error');"
   ]
  },
  {
   "cell_type": "code",
   "execution_count": 69,
   "metadata": {},
   "outputs": [
    {
     "name": "stdout",
     "output_type": "stream",
     "text": [
      "Each prediction could vary by as much as $ 148313535.29  above the predicted value, and $ 63173748.23 below the predicted value.\n"
     ]
    }
   ],
   "source": [
    "RFUpper = rf_residuals.quantile(0.975)\n",
    "RFLower = rf_residuals.quantile(0.025)\n",
    "print('Each prediction could vary by as much as $', str(round(RFUpper, 2)), ' above the predicted value, and $', \n",
    "      str(round(np.abs(RFLower), 2)), 'below the predicted value.')"
   ]
  },
  {
   "cell_type": "markdown",
   "metadata": {},
   "source": [
    "### Testing a Gradient Boosted model, finding optimal parameters and plotting residuals"
   ]
  },
  {
   "cell_type": "code",
   "execution_count": 44,
   "metadata": {},
   "outputs": [],
   "source": [
    "grade = GradientBoostingRegressor()\n",
    "grade.fit(X_train, y_train)\n",
    "preds = grade.predict(X_test)\n",
    "preds = np.exp(preds)"
   ]
  },
  {
   "cell_type": "code",
   "execution_count": 45,
   "metadata": {},
   "outputs": [
    {
     "data": {
      "image/png": "[encoded data removed]",
      "text/plain": [
       "<Figure size 432x288 with 1 Axes>"
      ]
     },
     "metadata": {
      "needs_background": "light"
     },
     "output_type": "display_data"
    }
   ],
   "source": [
    "residuals = exp_y_test-preds\n",
    "plt.hist(residuals,color='g', bins=50)\n",
    "plt.axvline(x=0, color='k')\n",
    "plt.title('Distribution of Gradient Boosted Residual Error');"
   ]
  },
  {
   "cell_type": "code",
   "execution_count": 46,
   "metadata": {},
   "outputs": [],
   "source": [
    "params = {'n_estimators':np.arange(100,10000), 'max_depth':np.arange(3,90), 'min_samples_split': np.arange(2,10)}\n",
    "#gradient = RandomizedSearchCV(grade, param_distributions=params, n_iter=100)\n",
    "#gradient.fit(X_train, y_train)\n",
    "#grade_best_score = gradient.best_score_\n",
    "#grade_best_params = gradient.best_params_\n",
    "#print('GB best score: ', grade_best_score)\n",
    "#print('GB best parameters: ', grade_best_params)"
   ]
  },
  {
   "cell_type": "code",
   "execution_count": 47,
   "metadata": {},
   "outputs": [
    {
     "data": {
      "text/plain": [
       "{'R2': 0.37519679857912724,\n",
       " 'RMSE': 51900148.43561482,\n",
       " 'MAPE': 291.4142178398652}"
      ]
     },
     "execution_count": 47,
     "metadata": {},
     "output_type": "execute_result"
    }
   ],
   "source": [
    "best_gradient=GradientBoostingRegressor(n_estimators= 3086, min_samples_split= 5, max_depth= 6)\n",
    "best_gradient.fit(X_train, y_train)\n",
    "grade_preds = best_gradient.predict(X_test)\n",
    "grade_preds = np.exp(grade_preds)\n",
    "grade_r2 = r2_score(exp_y_test, grade_preds)\n",
    "grade_rmse = mean_squared_error(exp_y_test, grade_preds, squared=False)\n",
    "grade_mape = MAPE(exp_y_test, grade_preds)\n",
    "GradientBoosted = {'R2':grade_r2, 'RMSE':grade_rmse, 'MAPE':grade_mape}\n",
    "gb_residuals = exp_y_test-grade_preds\n",
    "GradientBoosted"
   ]
  },
  {
   "cell_type": "code",
   "execution_count": 48,
   "metadata": {},
   "outputs": [
    {
     "data": {
      "image/png": "[encoded data removed]",
      "text/plain": [
       "<Figure size 432x288 with 1 Axes>"
      ]
     },
     "metadata": {
      "needs_background": "light"
     },
     "output_type": "display_data"
    }
   ],
   "source": [
    "plt.hist(gb_residuals, color='b', bins=50)\n",
    "plt.axvline(x=0, color='k')\n",
    "plt.title('Distribution of Gradient Boosted Residual Error');"
   ]
  },
  {
   "cell_type": "code",
   "execution_count": 70,
   "metadata": {},
   "outputs": [
    {
     "name": "stdout",
     "output_type": "stream",
     "text": [
      "Each prediction could vary by as much as $ 148313535.29  above the predicted value, and $ 63173748.23 below the predicted value.\n"
     ]
    }
   ],
   "source": [
    "GBUpper = gb_residuals.quantile(0.975)\n",
    "GBLower = gb_residuals.quantile(0.025)\n",
    "print('Each prediction could vary by as much as $', str(round(GBUpper, 2)), ' above the predicted value, and $', \n",
    "      str(round(np.abs(GBLower), 2)), 'below the predicted value.')"
   ]
  },
  {
   "cell_type": "markdown",
   "metadata": {},
   "source": [
    "### Testing a K-Nearest Neighbors model, finding optimal parameters, and plotting residuals"
   ]
  },
  {
   "cell_type": "code",
   "execution_count": 49,
   "metadata": {},
   "outputs": [],
   "source": [
    "knn = KNeighborsRegressor()\n",
    "knn.fit(X_train, y_train)\n",
    "preds = knn.predict(X_test)\n",
    "preds = np.exp(preds)"
   ]
  },
  {
   "cell_type": "code",
   "execution_count": 50,
   "metadata": {},
   "outputs": [
    {
     "data": {
      "image/png": "[encoded data removed]",
      "text/plain": [
       "<Figure size 432x288 with 1 Axes>"
      ]
     },
     "metadata": {
      "needs_background": "light"
     },
     "output_type": "display_data"
    }
   ],
   "source": [
    "residuals = exp_y_test-preds\n",
    "plt.hist(residuals, color='g', bins=50)\n",
    "plt.axvline(x=0, color='k')\n",
    "plt.title('Predicted Revenue vs. Residual Error');"
   ]
  },
  {
   "cell_type": "code",
   "execution_count": 51,
   "metadata": {},
   "outputs": [],
   "source": [
    "params = {'n_neighbors':np.arange(2,89)}\n",
    "#KNN = RandomizedSearchCV(knn, param_distributions=params, n_iter=87)\n",
    "#KNN.fit(X_train, y_train)\n",
    "#knn_best_score = KNN.best_score_\n",
    "#knn_best_params = KNN.best_params_\n",
    "#print('GB best score: ', knn_best_score)\n",
    "#print('GB best parameters: ', knn_best_params)"
   ]
  },
  {
   "cell_type": "code",
   "execution_count": 52,
   "metadata": {},
   "outputs": [
    {
     "data": {
      "text/plain": [
       "{'R2': 0.3624319578592571, 'RMSE': 52427632.54823546, 'MAPE': 570.26490638734}"
      ]
     },
     "execution_count": 52,
     "metadata": {},
     "output_type": "execute_result"
    }
   ],
   "source": [
    "best_knn = KNeighborsRegressor(n_neighbors= 16)\n",
    "best_knn.fit(X_train, y_train)\n",
    "knn_preds = best_knn.predict(X_test)\n",
    "knn_preds = np.exp(knn_preds)\n",
    "knn_r2 = r2_score(exp_y_test, knn_preds)\n",
    "knn_rmse = mean_squared_error(exp_y_test, knn_preds, squared=False)\n",
    "knn_mape = MAPE(exp_y_test, knn_preds)\n",
    "KNN = {'R2':knn_r2, 'RMSE':knn_rmse, 'MAPE':knn_mape}\n",
    "knn_residuals = exp_y_test-knn_preds\n",
    "KNN"
   ]
  },
  {
   "cell_type": "code",
   "execution_count": 53,
   "metadata": {},
   "outputs": [
    {
     "data": {
      "image/png": "[encoded data removed]",
      "text/plain": [
       "<Figure size 432x288 with 1 Axes>"
      ]
     },
     "metadata": {
      "needs_background": "light"
     },
     "output_type": "display_data"
    }
   ],
   "source": [
    "plt.hist(knn_residuals,color='b', bins=50)\n",
    "plt.axvline(x=0, color='k')\n",
    "plt.title('Predicted Revenue vs. Residual Error');"
   ]
  },
  {
   "cell_type": "code",
   "execution_count": 73,
   "metadata": {},
   "outputs": [
    {
     "name": "stdout",
     "output_type": "stream",
     "text": [
      "Each prediction could vary by as much as $ 136049167.67  above the predicted value, and $ 56500543.75 below the predicted value.\n"
     ]
    }
   ],
   "source": [
    "KUpper = knn_residuals.quantile(0.975)\n",
    "KLower = knn_residuals.quantile(0.025)\n",
    "print('Each prediction could vary by as much as $', str(round(KUpper, 2)), ' above the predicted value, and $', \n",
    "      str(round(np.abs(KLower), 2)), 'below the predicted value.')"
   ]
  },
  {
   "cell_type": "markdown",
   "metadata": {},
   "source": [
    "#### SVR model"
   ]
  },
  {
   "cell_type": "code",
   "execution_count": 54,
   "metadata": {},
   "outputs": [],
   "source": [
    "params = {'kernel':('linear', 'poly', 'rbf', 'sigmoid'), 'C':[1,5,10], 'degree':[3,8], \n",
    "          'coef0':[0.01,10,0.5], 'gamma':('auto','scale')}\n",
    "#SVR_ = RandomizedSearchCV(svr, param_distributions=params, n_iter=87)\n",
    "#SVR_.fit(X_train, y_train)\n",
    "#svr_best_score = SVR_.best_score_\n",
    "#svr_best_params = SVR_.best_params_\n",
    "#print('SVR best score: ', svr_best_score)\n",
    "#print('SVR best parameters: ', svr_best_params)"
   ]
  },
  {
   "cell_type": "code",
   "execution_count": 55,
   "metadata": {},
   "outputs": [
    {
     "data": {
      "text/plain": [
       "{'R2': 0.4901487255147643,\n",
       " 'RMSE': 46883360.290549956,\n",
       " 'MAPE': 443.02158919856146}"
      ]
     },
     "execution_count": 55,
     "metadata": {},
     "output_type": "execute_result"
    }
   ],
   "source": [
    "best_svr = SVR(kernel= 'rbf', gamma= 'auto', degree=8, coef0=0.5, C=10)\n",
    "best_svr.fit(X_train, y_train)\n",
    "svr_preds = best_svr.predict(X_test)\n",
    "svr_preds = np.exp(svr_preds)\n",
    "svr_r2 = r2_score(exp_y_test, svr_preds)\n",
    "svr_rmse = mean_squared_error(exp_y_test, svr_preds, squared=False)\n",
    "svr_mape = MAPE(exp_y_test, svr_preds)\n",
    "SVR = {'R2':svr_r2, 'RMSE':svr_rmse, 'MAPE':svr_mape}\n",
    "svr_residuals = exp_y_test-svr_preds\n",
    "SVR"
   ]
  },
  {
   "cell_type": "code",
   "execution_count": 56,
   "metadata": {},
   "outputs": [
    {
     "data": {
      "image/png": "[encoded data removed]",
      "text/plain": [
       "<Figure size 432x288 with 1 Axes>"
      ]
     },
     "metadata": {
      "needs_background": "light"
     },
     "output_type": "display_data"
    }
   ],
   "source": [
    "plt.hist(svr_residuals,color='b', bins=50)\n",
    "plt.axvline(x=0, color='k')\n",
    "plt.title('Predicted Revenue vs. Residual Error');"
   ]
  },
  {
   "cell_type": "code",
   "execution_count": 72,
   "metadata": {},
   "outputs": [
    {
     "name": "stdout",
     "output_type": "stream",
     "text": [
      "Each prediction could vary by as much as $ 134932735.42  above the predicted value, and $ 59280755.46 below the predicted value.\n"
     ]
    }
   ],
   "source": [
    "SVRUpper = svr_residuals.quantile(0.975)\n",
    "SVRLower = svr_residuals.quantile(0.025)\n",
    "print('Each prediction could vary by as much as $', str(round(SVRUpper, 2)), ' above the predicted value, and $', \n",
    "      str(round(np.abs(SVRLower), 2)), 'below the predicted value.')"
   ]
  },
  {
   "cell_type": "markdown",
   "metadata": {},
   "source": [
    "## Comparative Analysis of Optimized Model scores"
   ]
  },
  {
   "cell_type": "code",
   "execution_count": 57,
   "metadata": {},
   "outputs": [
    {
     "data": {
      "text/html": [
       "<div>\n",
       "<style scoped>\n",
       "    .dataframe tbody tr th:only-of-type {\n",
       "        vertical-align: middle;\n",
       "    }\n",
       "\n",
       "    .dataframe tbody tr th {\n",
       "        vertical-align: top;\n",
       "    }\n",
       "\n",
       "    .dataframe thead th {\n",
       "        text-align: right;\n",
       "    }\n",
       "</style>\n",
       "<table border=\"1\" class=\"dataframe\">\n",
       "  <thead>\n",
       "    <tr style=\"text-align: right;\">\n",
       "      <th></th>\n",
       "      <th>R2</th>\n",
       "      <th>RMSE</th>\n",
       "      <th>MAPE</th>\n",
       "    </tr>\n",
       "  </thead>\n",
       "  <tbody>\n",
       "    <tr>\n",
       "      <th>Random Forest</th>\n",
       "      <td>0.447076</td>\n",
       "      <td>4.882358e+07</td>\n",
       "      <td>318.555439</td>\n",
       "    </tr>\n",
       "    <tr>\n",
       "      <th>Gradient Boosting</th>\n",
       "      <td>0.375197</td>\n",
       "      <td>5.190015e+07</td>\n",
       "      <td>291.414218</td>\n",
       "    </tr>\n",
       "    <tr>\n",
       "      <th>K-nearest Neighbors</th>\n",
       "      <td>0.362432</td>\n",
       "      <td>5.242763e+07</td>\n",
       "      <td>570.264906</td>\n",
       "    </tr>\n",
       "    <tr>\n",
       "      <th>Support Vector Regressor</th>\n",
       "      <td>0.490149</td>\n",
       "      <td>4.688336e+07</td>\n",
       "      <td>443.021589</td>\n",
       "    </tr>\n",
       "  </tbody>\n",
       "</table>\n",
       "</div>"
      ],
      "text/plain": [
       "                                R2          RMSE        MAPE\n",
       "Random Forest             0.447076  4.882358e+07  318.555439\n",
       "Gradient Boosting         0.375197  5.190015e+07  291.414218\n",
       "K-nearest Neighbors       0.362432  5.242763e+07  570.264906\n",
       "Support Vector Regressor  0.490149  4.688336e+07  443.021589"
      ]
     },
     "execution_count": 57,
     "metadata": {},
     "output_type": "execute_result"
    }
   ],
   "source": [
    "dict_ = {'Random Forest':RandomForest, 'Gradient Boosting':GradientBoosted, 'K-nearest Neighbors':KNN, \n",
    "         'Support Vector Regressor': SVR}\n",
    "opti_scores = pd.DataFrame(dict_)\n",
    "opti_scores = opti_scores.T\n",
    "opti_scores"
   ]
  },
  {
   "cell_type": "code",
   "execution_count": 58,
   "metadata": {},
   "outputs": [
    {
     "data": {
      "image/png": "[encoded data removed]",
      "text/plain": [
       "<Figure size 1080x360 with 3 Axes>"
      ]
     },
     "metadata": {
      "needs_background": "light"
     },
     "output_type": "display_data"
    }
   ],
   "source": [
    "models = list(opti_scores.index)\n",
    "fig, (ax1, ax2, ax3) = plt.subplots(1,3, figsize=(15, 5))\n",
    "fig.figure\n",
    "ax1.bar(models, opti_scores.R2)\n",
    "ax1.set_title('R-squared scores by Model')\n",
    "ax1.set_xticklabels(models, rotation=45)\n",
    "ax2.bar(models, opti_scores.RMSE)\n",
    "ax2.set_title('RMSE by Model')\n",
    "ax2.set_xticklabels(models, rotation=45)\n",
    "ax3.bar(models, opti_scores.MAPE)\n",
    "ax3.set_title('Mean Absolute Percentage Error by Model')\n",
    "ax3.set_xticklabels(models, rotation=45);"
   ]
  },
  {
   "cell_type": "code",
   "execution_count": 76,
   "metadata": {},
   "outputs": [
    {
     "data": {
      "image/png": "[encoded data removed]",
      "text/plain": [
       "<Figure size 720x720 with 4 Axes>"
      ]
     },
     "metadata": {
      "needs_background": "light"
     },
     "output_type": "display_data"
    }
   ],
   "source": [
    "fig, ((ax1, ax2), (ax3, ax4)) = plt.subplots(2,2, figsize=(10,10))\n",
    "ax1.scatter(exp_y_test, rf_preds, alpha=0.5, color='b')\n",
    "ax1.set_title('Optimized Random Forest Model', pad=10)\n",
    "ax1.set_ylabel('Predicted Values')\n",
    "ax1.set_xlabel('True Values')\n",
    "ax1.plot(exp_y_test, exp_y_test, color='r')\n",
    "ax2.scatter(exp_y_test, grade_preds, alpha=0.5, color='grey')\n",
    "ax2.set_title('Optimized Gradient Boosting Model', pad=10)\n",
    "ax2.set_ylabel('Predicted Values')\n",
    "ax2.set_xlabel('True Values')\n",
    "ax2.plot(exp_y_test, exp_y_test, color='r')\n",
    "ax3.scatter(exp_y_test, svr_preds, alpha=0.5, color='g')\n",
    "ax3.set_title('Optimized SVR Model', pad=10)\n",
    "ax3.set_ylabel('Predicted Values')\n",
    "ax3.set_xlabel('True Values')\n",
    "ax3.plot(exp_y_test, exp_y_test, color='r')\n",
    "ax4.scatter(exp_y_test, knn_preds, alpha=0.5, color='y')\n",
    "ax4.set_title('Optimized K-Nearest Neighbor Model', pad=10)\n",
    "ax4.set_ylabel('Predicted Values')\n",
    "ax4.set_xlabel('True Values')\n",
    "ax4.plot(exp_y_test, exp_y_test, color='r')\n",
    "plt.tight_layout;"
   ]
  },
  {
   "cell_type": "markdown",
   "metadata": {},
   "source": [
    "## Residual Analysis using the 'best' model\n",
    "\n",
    "Based on the above comparison the Gradiend Boosting model provided the best performance with regards to Mean Absolute Percentage Error, for which I'm optimizing these models. \n",
    "\n",
    "However if I need a point of comparison with the Gradient Boosing model I'll also check the Support-vector Regression model since that has the lowest RMSE and best R-squared value. \n",
    "\n",
    "In order to identify what may be going wrong with my models I'm going to create a new dataframe that contains both the true and predicted values for revenue, as well as the residuals.  I'll be able to use this to check and see if there's a pattern among films with exceptionally high residuals."
   ]
  },
  {
   "cell_type": "code",
   "execution_count": 90,
   "metadata": {},
   "outputs": [
    {
     "data": {
      "text/html": [
       "<div>\n",
       "<style scoped>\n",
       "    .dataframe tbody tr th:only-of-type {\n",
       "        vertical-align: middle;\n",
       "    }\n",
       "\n",
       "    .dataframe tbody tr th {\n",
       "        vertical-align: top;\n",
       "    }\n",
       "\n",
       "    .dataframe thead th {\n",
       "        text-align: right;\n",
       "    }\n",
       "</style>\n",
       "<table border=\"1\" class=\"dataframe\">\n",
       "  <thead>\n",
       "    <tr style=\"text-align: right;\">\n",
       "      <th></th>\n",
       "      <th>budget</th>\n",
       "      <th>runtime</th>\n",
       "      <th>Overview_length</th>\n",
       "      <th>Tag_length</th>\n",
       "      <th>Num_keywords</th>\n",
       "      <th>Num_companies</th>\n",
       "      <th>Num_production_countries</th>\n",
       "      <th>revenue</th>\n",
       "      <th>predicted</th>\n",
       "      <th>residuals</th>\n",
       "      <th>Per_Err</th>\n",
       "    </tr>\n",
       "  </thead>\n",
       "  <tbody>\n",
       "    <tr>\n",
       "      <th>672</th>\n",
       "      <td>0.238009</td>\n",
       "      <td>0.539216</td>\n",
       "      <td>0.126</td>\n",
       "      <td>0.399061</td>\n",
       "      <td>0.093023</td>\n",
       "      <td>0.347826</td>\n",
       "      <td>0.444444</td>\n",
       "      <td>52000000.0</td>\n",
       "      <td>7.820814e+07</td>\n",
       "      <td>-2.620814e+07</td>\n",
       "      <td>50.400263</td>\n",
       "    </tr>\n",
       "    <tr>\n",
       "      <th>2307</th>\n",
       "      <td>0.303841</td>\n",
       "      <td>0.313725</td>\n",
       "      <td>0.174</td>\n",
       "      <td>0.112676</td>\n",
       "      <td>0.209302</td>\n",
       "      <td>0.086957</td>\n",
       "      <td>0.000000</td>\n",
       "      <td>256697520.0</td>\n",
       "      <td>1.240450e+08</td>\n",
       "      <td>1.326525e+08</td>\n",
       "      <td>51.676597</td>\n",
       "    </tr>\n",
       "    <tr>\n",
       "      <th>1446</th>\n",
       "      <td>0.238009</td>\n",
       "      <td>0.294118</td>\n",
       "      <td>0.090</td>\n",
       "      <td>0.164319</td>\n",
       "      <td>0.116279</td>\n",
       "      <td>0.043478</td>\n",
       "      <td>0.000000</td>\n",
       "      <td>12272308.0</td>\n",
       "      <td>2.119685e+06</td>\n",
       "      <td>1.015262e+07</td>\n",
       "      <td>82.727905</td>\n",
       "    </tr>\n",
       "    <tr>\n",
       "      <th>1271</th>\n",
       "      <td>0.334225</td>\n",
       "      <td>0.352941</td>\n",
       "      <td>0.402</td>\n",
       "      <td>0.103286</td>\n",
       "      <td>0.000000</td>\n",
       "      <td>0.347826</td>\n",
       "      <td>0.111111</td>\n",
       "      <td>65409046.0</td>\n",
       "      <td>7.684157e+07</td>\n",
       "      <td>-1.143253e+07</td>\n",
       "      <td>17.478513</td>\n",
       "    </tr>\n",
       "    <tr>\n",
       "      <th>1052</th>\n",
       "      <td>0.430441</td>\n",
       "      <td>0.186275</td>\n",
       "      <td>0.158</td>\n",
       "      <td>0.173709</td>\n",
       "      <td>0.069767</td>\n",
       "      <td>0.000000</td>\n",
       "      <td>0.111111</td>\n",
       "      <td>112483764.0</td>\n",
       "      <td>1.370260e+08</td>\n",
       "      <td>-2.454227e+07</td>\n",
       "      <td>21.818499</td>\n",
       "    </tr>\n",
       "    <tr>\n",
       "      <th>...</th>\n",
       "      <td>...</td>\n",
       "      <td>...</td>\n",
       "      <td>...</td>\n",
       "      <td>...</td>\n",
       "      <td>...</td>\n",
       "      <td>...</td>\n",
       "      <td>...</td>\n",
       "      <td>...</td>\n",
       "      <td>...</td>\n",
       "      <td>...</td>\n",
       "      <td>...</td>\n",
       "    </tr>\n",
       "    <tr>\n",
       "      <th>1474</th>\n",
       "      <td>0.075960</td>\n",
       "      <td>0.539216</td>\n",
       "      <td>0.486</td>\n",
       "      <td>0.225352</td>\n",
       "      <td>0.302326</td>\n",
       "      <td>0.086957</td>\n",
       "      <td>0.000000</td>\n",
       "      <td>146292009.0</td>\n",
       "      <td>1.475745e+08</td>\n",
       "      <td>-1.282492e+06</td>\n",
       "      <td>0.876666</td>\n",
       "    </tr>\n",
       "    <tr>\n",
       "      <th>423</th>\n",
       "      <td>0.587426</td>\n",
       "      <td>0.313725</td>\n",
       "      <td>0.347</td>\n",
       "      <td>0.126761</td>\n",
       "      <td>0.511628</td>\n",
       "      <td>0.043478</td>\n",
       "      <td>0.000000</td>\n",
       "      <td>178127760.0</td>\n",
       "      <td>6.945641e+07</td>\n",
       "      <td>1.086713e+08</td>\n",
       "      <td>61.007530</td>\n",
       "    </tr>\n",
       "    <tr>\n",
       "      <th>1159</th>\n",
       "      <td>0.121536</td>\n",
       "      <td>0.338235</td>\n",
       "      <td>0.286</td>\n",
       "      <td>0.145540</td>\n",
       "      <td>0.162791</td>\n",
       "      <td>0.086957</td>\n",
       "      <td>0.000000</td>\n",
       "      <td>63543328.0</td>\n",
       "      <td>7.388630e+07</td>\n",
       "      <td>-1.034297e+07</td>\n",
       "      <td>16.277041</td>\n",
       "    </tr>\n",
       "    <tr>\n",
       "      <th>1427</th>\n",
       "      <td>0.131664</td>\n",
       "      <td>0.303922</td>\n",
       "      <td>0.240</td>\n",
       "      <td>0.159624</td>\n",
       "      <td>0.162791</td>\n",
       "      <td>0.173913</td>\n",
       "      <td>0.222222</td>\n",
       "      <td>75769783.0</td>\n",
       "      <td>1.138338e+08</td>\n",
       "      <td>-3.806399e+07</td>\n",
       "      <td>50.236372</td>\n",
       "    </tr>\n",
       "    <tr>\n",
       "      <th>678</th>\n",
       "      <td>0.202561</td>\n",
       "      <td>0.318627</td>\n",
       "      <td>0.269</td>\n",
       "      <td>0.206573</td>\n",
       "      <td>0.139535</td>\n",
       "      <td>0.000000</td>\n",
       "      <td>0.000000</td>\n",
       "      <td>39753957.0</td>\n",
       "      <td>5.776605e+07</td>\n",
       "      <td>-1.801209e+07</td>\n",
       "      <td>45.308932</td>\n",
       "    </tr>\n",
       "  </tbody>\n",
       "</table>\n",
       "<p>397 rows × 11 columns</p>\n",
       "</div>"
      ],
      "text/plain": [
       "        budget   runtime  Overview_length  Tag_length  Num_keywords  \\\n",
       "672   0.238009  0.539216            0.126    0.399061      0.093023   \n",
       "2307  0.303841  0.313725            0.174    0.112676      0.209302   \n",
       "1446  0.238009  0.294118            0.090    0.164319      0.116279   \n",
       "1271  0.334225  0.352941            0.402    0.103286      0.000000   \n",
       "1052  0.430441  0.186275            0.158    0.173709      0.069767   \n",
       "...        ...       ...              ...         ...           ...   \n",
       "1474  0.075960  0.539216            0.486    0.225352      0.302326   \n",
       "423   0.587426  0.313725            0.347    0.126761      0.511628   \n",
       "1159  0.121536  0.338235            0.286    0.145540      0.162791   \n",
       "1427  0.131664  0.303922            0.240    0.159624      0.162791   \n",
       "678   0.202561  0.318627            0.269    0.206573      0.139535   \n",
       "\n",
       "      Num_companies  Num_production_countries      revenue     predicted  \\\n",
       "672        0.347826                  0.444444   52000000.0  7.820814e+07   \n",
       "2307       0.086957                  0.000000  256697520.0  1.240450e+08   \n",
       "1446       0.043478                  0.000000   12272308.0  2.119685e+06   \n",
       "1271       0.347826                  0.111111   65409046.0  7.684157e+07   \n",
       "1052       0.000000                  0.111111  112483764.0  1.370260e+08   \n",
       "...             ...                       ...          ...           ...   \n",
       "1474       0.086957                  0.000000  146292009.0  1.475745e+08   \n",
       "423        0.043478                  0.000000  178127760.0  6.945641e+07   \n",
       "1159       0.086957                  0.000000   63543328.0  7.388630e+07   \n",
       "1427       0.173913                  0.222222   75769783.0  1.138338e+08   \n",
       "678        0.000000                  0.000000   39753957.0  5.776605e+07   \n",
       "\n",
       "         residuals    Per_Err  \n",
       "672  -2.620814e+07  50.400263  \n",
       "2307  1.326525e+08  51.676597  \n",
       "1446  1.015262e+07  82.727905  \n",
       "1271 -1.143253e+07  17.478513  \n",
       "1052 -2.454227e+07  21.818499  \n",
       "...            ...        ...  \n",
       "1474 -1.282492e+06   0.876666  \n",
       "423   1.086713e+08  61.007530  \n",
       "1159 -1.034297e+07  16.277041  \n",
       "1427 -3.806399e+07  50.236372  \n",
       "678  -1.801209e+07  45.308932  \n",
       "\n",
       "[397 rows x 11 columns]"
      ]
     },
     "execution_count": 90,
     "metadata": {},
     "output_type": "execute_result"
    }
   ],
   "source": [
    "# Creating columns with predicted, residual, and percent error values\n",
    "gb = X_test\n",
    "gb['Numerical', 'revenue'] = exp_y_test\n",
    "gb['Numerical', 'predicted'] = grade_preds\n",
    "gb['Numerical', 'residuals'] = gb_residuals\n",
    "gb['Numerical', 'Per_Err'] = (np.abs(gb['Numerical', 'residuals'])/gb['Numerical', 'revenue'])*100\n",
    "gb['Numerical']"
   ]
  },
  {
   "cell_type": "code",
   "execution_count": 87,
   "metadata": {},
   "outputs": [],
   "source": [
    "titles = pd.read_csv('../Data/boxoffice_titles.csv', index_col=0, header=0)"
   ]
  },
  {
   "cell_type": "code",
   "execution_count": 95,
   "metadata": {},
   "outputs": [
    {
     "data": {
      "text/html": [
       "<div>\n",
       "<style scoped>\n",
       "    .dataframe tbody tr th:only-of-type {\n",
       "        vertical-align: middle;\n",
       "    }\n",
       "\n",
       "    .dataframe tbody tr th {\n",
       "        vertical-align: top;\n",
       "    }\n",
       "\n",
       "    .dataframe thead th {\n",
       "        text-align: right;\n",
       "    }\n",
       "</style>\n",
       "<table border=\"1\" class=\"dataframe\">\n",
       "  <thead>\n",
       "    <tr style=\"text-align: right;\">\n",
       "      <th></th>\n",
       "      <th>title</th>\n",
       "      <th>(Numerical, Per_Err)</th>\n",
       "      <th>(Numerical, residuals)</th>\n",
       "      <th>(Numerical, predicted)</th>\n",
       "      <th>(Numerical, revenue)</th>\n",
       "      <th>(Country, Africa)</th>\n",
       "      <th>(Country, North_America)</th>\n",
       "      <th>(Country, Latin_America)</th>\n",
       "      <th>(Country, Middle_East)</th>\n",
       "      <th>(Country, Asia)</th>\n",
       "      <th>...</th>\n",
       "      <th>(Genre, Foreign)</th>\n",
       "      <th>(Genre, Fantasy)</th>\n",
       "      <th>(Genre, Family)</th>\n",
       "      <th>(Genre, Drama)</th>\n",
       "      <th>(Genre, Documentary)</th>\n",
       "      <th>(Genre, Crime)</th>\n",
       "      <th>(Genre, Comedy)</th>\n",
       "      <th>(Genre, Animation)</th>\n",
       "      <th>(Genre, Adventure)</th>\n",
       "      <th>(Genre, Action)</th>\n",
       "    </tr>\n",
       "  </thead>\n",
       "  <tbody>\n",
       "    <tr>\n",
       "      <th>2228</th>\n",
       "      <td>Rob Roy</td>\n",
       "      <td>61611.081806</td>\n",
       "      <td>-4.004720e+07</td>\n",
       "      <td>4.011220e+07</td>\n",
       "      <td>65000.0</td>\n",
       "      <td>0</td>\n",
       "      <td>0</td>\n",
       "      <td>0</td>\n",
       "      <td>0</td>\n",
       "      <td>0</td>\n",
       "      <td>...</td>\n",
       "      <td>0</td>\n",
       "      <td>0</td>\n",
       "      <td>0</td>\n",
       "      <td>0</td>\n",
       "      <td>0</td>\n",
       "      <td>0</td>\n",
       "      <td>0</td>\n",
       "      <td>0</td>\n",
       "      <td>1</td>\n",
       "      <td>0</td>\n",
       "    </tr>\n",
       "    <tr>\n",
       "      <th>548</th>\n",
       "      <td>Naqoyqatsi</td>\n",
       "      <td>10858.675839</td>\n",
       "      <td>-1.690044e+07</td>\n",
       "      <td>1.705608e+07</td>\n",
       "      <td>155640.0</td>\n",
       "      <td>0</td>\n",
       "      <td>0</td>\n",
       "      <td>0</td>\n",
       "      <td>0</td>\n",
       "      <td>0</td>\n",
       "      <td>...</td>\n",
       "      <td>0</td>\n",
       "      <td>0</td>\n",
       "      <td>0</td>\n",
       "      <td>1</td>\n",
       "      <td>1</td>\n",
       "      <td>0</td>\n",
       "      <td>0</td>\n",
       "      <td>0</td>\n",
       "      <td>0</td>\n",
       "      <td>0</td>\n",
       "    </tr>\n",
       "    <tr>\n",
       "      <th>202</th>\n",
       "      <td>Ikiru</td>\n",
       "      <td>4530.857007</td>\n",
       "      <td>-3.592879e+06</td>\n",
       "      <td>3.672177e+06</td>\n",
       "      <td>79298.0</td>\n",
       "      <td>0</td>\n",
       "      <td>0</td>\n",
       "      <td>0</td>\n",
       "      <td>0</td>\n",
       "      <td>1</td>\n",
       "      <td>...</td>\n",
       "      <td>0</td>\n",
       "      <td>0</td>\n",
       "      <td>0</td>\n",
       "      <td>1</td>\n",
       "      <td>0</td>\n",
       "      <td>0</td>\n",
       "      <td>0</td>\n",
       "      <td>0</td>\n",
       "      <td>0</td>\n",
       "      <td>0</td>\n",
       "    </tr>\n",
       "    <tr>\n",
       "      <th>271</th>\n",
       "      <td>The Missing Picture</td>\n",
       "      <td>4447.702076</td>\n",
       "      <td>-3.421751e+06</td>\n",
       "      <td>3.498684e+06</td>\n",
       "      <td>76933.0</td>\n",
       "      <td>0</td>\n",
       "      <td>0</td>\n",
       "      <td>0</td>\n",
       "      <td>0</td>\n",
       "      <td>1</td>\n",
       "      <td>...</td>\n",
       "      <td>0</td>\n",
       "      <td>0</td>\n",
       "      <td>0</td>\n",
       "      <td>0</td>\n",
       "      <td>1</td>\n",
       "      <td>0</td>\n",
       "      <td>0</td>\n",
       "      <td>0</td>\n",
       "      <td>0</td>\n",
       "      <td>0</td>\n",
       "    </tr>\n",
       "    <tr>\n",
       "      <th>642</th>\n",
       "      <td>Mishima: A Life in Four Chapters</td>\n",
       "      <td>3711.991499</td>\n",
       "      <td>-1.925937e+07</td>\n",
       "      <td>1.977821e+07</td>\n",
       "      <td>518842.0</td>\n",
       "      <td>0</td>\n",
       "      <td>0</td>\n",
       "      <td>0</td>\n",
       "      <td>0</td>\n",
       "      <td>1</td>\n",
       "      <td>...</td>\n",
       "      <td>0</td>\n",
       "      <td>0</td>\n",
       "      <td>0</td>\n",
       "      <td>1</td>\n",
       "      <td>0</td>\n",
       "      <td>0</td>\n",
       "      <td>0</td>\n",
       "      <td>0</td>\n",
       "      <td>0</td>\n",
       "      <td>0</td>\n",
       "    </tr>\n",
       "    <tr>\n",
       "      <th>1720</th>\n",
       "      <td>Duel in the Sun</td>\n",
       "      <td>3073.937100</td>\n",
       "      <td>-5.988859e+06</td>\n",
       "      <td>6.183686e+06</td>\n",
       "      <td>194827.0</td>\n",
       "      <td>0</td>\n",
       "      <td>0</td>\n",
       "      <td>0</td>\n",
       "      <td>0</td>\n",
       "      <td>0</td>\n",
       "      <td>...</td>\n",
       "      <td>0</td>\n",
       "      <td>0</td>\n",
       "      <td>0</td>\n",
       "      <td>0</td>\n",
       "      <td>0</td>\n",
       "      <td>0</td>\n",
       "      <td>0</td>\n",
       "      <td>0</td>\n",
       "      <td>0</td>\n",
       "      <td>0</td>\n",
       "    </tr>\n",
       "    <tr>\n",
       "      <th>1351</th>\n",
       "      <td>New Nightmare</td>\n",
       "      <td>1380.066995</td>\n",
       "      <td>-6.132866e+07</td>\n",
       "      <td>6.577255e+07</td>\n",
       "      <td>4443890.0</td>\n",
       "      <td>0</td>\n",
       "      <td>0</td>\n",
       "      <td>0</td>\n",
       "      <td>0</td>\n",
       "      <td>0</td>\n",
       "      <td>...</td>\n",
       "      <td>0</td>\n",
       "      <td>1</td>\n",
       "      <td>0</td>\n",
       "      <td>0</td>\n",
       "      <td>0</td>\n",
       "      <td>0</td>\n",
       "      <td>0</td>\n",
       "      <td>0</td>\n",
       "      <td>0</td>\n",
       "      <td>0</td>\n",
       "    </tr>\n",
       "    <tr>\n",
       "      <th>355</th>\n",
       "      <td>Sunrise: A Song of Two Humans</td>\n",
       "      <td>1013.821434</td>\n",
       "      <td>-2.109022e+06</td>\n",
       "      <td>2.317049e+06</td>\n",
       "      <td>208027.0</td>\n",
       "      <td>0</td>\n",
       "      <td>0</td>\n",
       "      <td>0</td>\n",
       "      <td>0</td>\n",
       "      <td>0</td>\n",
       "      <td>...</td>\n",
       "      <td>0</td>\n",
       "      <td>0</td>\n",
       "      <td>0</td>\n",
       "      <td>1</td>\n",
       "      <td>0</td>\n",
       "      <td>0</td>\n",
       "      <td>0</td>\n",
       "      <td>0</td>\n",
       "      <td>0</td>\n",
       "      <td>0</td>\n",
       "    </tr>\n",
       "    <tr>\n",
       "      <th>1313</th>\n",
       "      <td>Fled</td>\n",
       "      <td>931.907765</td>\n",
       "      <td>-2.609342e+07</td>\n",
       "      <td>2.889342e+07</td>\n",
       "      <td>2800000.0</td>\n",
       "      <td>0</td>\n",
       "      <td>0</td>\n",
       "      <td>0</td>\n",
       "      <td>0</td>\n",
       "      <td>0</td>\n",
       "      <td>...</td>\n",
       "      <td>0</td>\n",
       "      <td>0</td>\n",
       "      <td>0</td>\n",
       "      <td>0</td>\n",
       "      <td>0</td>\n",
       "      <td>0</td>\n",
       "      <td>1</td>\n",
       "      <td>0</td>\n",
       "      <td>0</td>\n",
       "      <td>1</td>\n",
       "    </tr>\n",
       "    <tr>\n",
       "      <th>1635</th>\n",
       "      <td>Samson and Delilah</td>\n",
       "      <td>870.650457</td>\n",
       "      <td>-5.841690e+06</td>\n",
       "      <td>6.512647e+06</td>\n",
       "      <td>670957.0</td>\n",
       "      <td>0</td>\n",
       "      <td>0</td>\n",
       "      <td>0</td>\n",
       "      <td>0</td>\n",
       "      <td>0</td>\n",
       "      <td>...</td>\n",
       "      <td>0</td>\n",
       "      <td>0</td>\n",
       "      <td>0</td>\n",
       "      <td>1</td>\n",
       "      <td>0</td>\n",
       "      <td>0</td>\n",
       "      <td>0</td>\n",
       "      <td>0</td>\n",
       "      <td>0</td>\n",
       "      <td>0</td>\n",
       "    </tr>\n",
       "    <tr>\n",
       "      <th>33</th>\n",
       "      <td>Sleepless Night</td>\n",
       "      <td>660.526366</td>\n",
       "      <td>-4.127715e+06</td>\n",
       "      <td>4.752628e+06</td>\n",
       "      <td>624913.0</td>\n",
       "      <td>0</td>\n",
       "      <td>0</td>\n",
       "      <td>0</td>\n",
       "      <td>0</td>\n",
       "      <td>0</td>\n",
       "      <td>...</td>\n",
       "      <td>0</td>\n",
       "      <td>0</td>\n",
       "      <td>0</td>\n",
       "      <td>0</td>\n",
       "      <td>0</td>\n",
       "      <td>0</td>\n",
       "      <td>1</td>\n",
       "      <td>0</td>\n",
       "      <td>0</td>\n",
       "      <td>1</td>\n",
       "    </tr>\n",
       "    <tr>\n",
       "      <th>661</th>\n",
       "      <td>The Life Aquatic with Steve Zissou</td>\n",
       "      <td>587.207347</td>\n",
       "      <td>-6.334793e+07</td>\n",
       "      <td>7.413593e+07</td>\n",
       "      <td>10788000.0</td>\n",
       "      <td>0</td>\n",
       "      <td>0</td>\n",
       "      <td>0</td>\n",
       "      <td>0</td>\n",
       "      <td>0</td>\n",
       "      <td>...</td>\n",
       "      <td>0</td>\n",
       "      <td>0</td>\n",
       "      <td>0</td>\n",
       "      <td>1</td>\n",
       "      <td>0</td>\n",
       "      <td>0</td>\n",
       "      <td>1</td>\n",
       "      <td>0</td>\n",
       "      <td>1</td>\n",
       "      <td>0</td>\n",
       "    </tr>\n",
       "    <tr>\n",
       "      <th>1891</th>\n",
       "      <td>Blackthorn</td>\n",
       "      <td>585.821785</td>\n",
       "      <td>-7.131250e+06</td>\n",
       "      <td>8.348557e+06</td>\n",
       "      <td>1217307.0</td>\n",
       "      <td>0</td>\n",
       "      <td>0</td>\n",
       "      <td>1</td>\n",
       "      <td>0</td>\n",
       "      <td>0</td>\n",
       "      <td>...</td>\n",
       "      <td>0</td>\n",
       "      <td>0</td>\n",
       "      <td>0</td>\n",
       "      <td>0</td>\n",
       "      <td>0</td>\n",
       "      <td>0</td>\n",
       "      <td>0</td>\n",
       "      <td>0</td>\n",
       "      <td>1</td>\n",
       "      <td>1</td>\n",
       "    </tr>\n",
       "    <tr>\n",
       "      <th>1780</th>\n",
       "      <td>Mere Brother Ki Dulhan</td>\n",
       "      <td>547.454234</td>\n",
       "      <td>-7.792052e+07</td>\n",
       "      <td>9.215377e+07</td>\n",
       "      <td>14233249.0</td>\n",
       "      <td>0</td>\n",
       "      <td>0</td>\n",
       "      <td>0</td>\n",
       "      <td>0</td>\n",
       "      <td>1</td>\n",
       "      <td>...</td>\n",
       "      <td>0</td>\n",
       "      <td>0</td>\n",
       "      <td>0</td>\n",
       "      <td>1</td>\n",
       "      <td>0</td>\n",
       "      <td>0</td>\n",
       "      <td>1</td>\n",
       "      <td>0</td>\n",
       "      <td>0</td>\n",
       "      <td>0</td>\n",
       "    </tr>\n",
       "    <tr>\n",
       "      <th>1815</th>\n",
       "      <td>Gossip</td>\n",
       "      <td>501.572874</td>\n",
       "      <td>-6.315439e+07</td>\n",
       "      <td>7.574566e+07</td>\n",
       "      <td>12591270.0</td>\n",
       "      <td>0</td>\n",
       "      <td>0</td>\n",
       "      <td>0</td>\n",
       "      <td>0</td>\n",
       "      <td>0</td>\n",
       "      <td>...</td>\n",
       "      <td>0</td>\n",
       "      <td>0</td>\n",
       "      <td>0</td>\n",
       "      <td>1</td>\n",
       "      <td>0</td>\n",
       "      <td>0</td>\n",
       "      <td>0</td>\n",
       "      <td>0</td>\n",
       "      <td>0</td>\n",
       "      <td>0</td>\n",
       "    </tr>\n",
       "    <tr>\n",
       "      <th>455</th>\n",
       "      <td>Butch Cassidy and the Sundance Kid</td>\n",
       "      <td>491.349439</td>\n",
       "      <td>-9.824655e+06</td>\n",
       "      <td>1.182418e+07</td>\n",
       "      <td>1999525.0</td>\n",
       "      <td>0</td>\n",
       "      <td>0</td>\n",
       "      <td>0</td>\n",
       "      <td>0</td>\n",
       "      <td>0</td>\n",
       "      <td>...</td>\n",
       "      <td>0</td>\n",
       "      <td>0</td>\n",
       "      <td>0</td>\n",
       "      <td>1</td>\n",
       "      <td>0</td>\n",
       "      <td>1</td>\n",
       "      <td>0</td>\n",
       "      <td>0</td>\n",
       "      <td>0</td>\n",
       "      <td>0</td>\n",
       "    </tr>\n",
       "    <tr>\n",
       "      <th>1124</th>\n",
       "      <td>Equilibrium</td>\n",
       "      <td>463.961461</td>\n",
       "      <td>-2.486669e+07</td>\n",
       "      <td>3.022633e+07</td>\n",
       "      <td>5359645.0</td>\n",
       "      <td>0</td>\n",
       "      <td>0</td>\n",
       "      <td>0</td>\n",
       "      <td>0</td>\n",
       "      <td>0</td>\n",
       "      <td>...</td>\n",
       "      <td>0</td>\n",
       "      <td>0</td>\n",
       "      <td>0</td>\n",
       "      <td>0</td>\n",
       "      <td>0</td>\n",
       "      <td>0</td>\n",
       "      <td>0</td>\n",
       "      <td>0</td>\n",
       "      <td>0</td>\n",
       "      <td>1</td>\n",
       "    </tr>\n",
       "    <tr>\n",
       "      <th>609</th>\n",
       "      <td>Superman II</td>\n",
       "      <td>413.834869</td>\n",
       "      <td>-1.077195e+08</td>\n",
       "      <td>1.337490e+08</td>\n",
       "      <td>26029578.0</td>\n",
       "      <td>0</td>\n",
       "      <td>0</td>\n",
       "      <td>0</td>\n",
       "      <td>0</td>\n",
       "      <td>0</td>\n",
       "      <td>...</td>\n",
       "      <td>0</td>\n",
       "      <td>1</td>\n",
       "      <td>0</td>\n",
       "      <td>0</td>\n",
       "      <td>0</td>\n",
       "      <td>0</td>\n",
       "      <td>0</td>\n",
       "      <td>0</td>\n",
       "      <td>1</td>\n",
       "      <td>1</td>\n",
       "    </tr>\n",
       "    <tr>\n",
       "      <th>147</th>\n",
       "      <td>Riding in Cars with Boys</td>\n",
       "      <td>396.759322</td>\n",
       "      <td>-1.418149e+08</td>\n",
       "      <td>1.775582e+08</td>\n",
       "      <td>35743308.0</td>\n",
       "      <td>0</td>\n",
       "      <td>0</td>\n",
       "      <td>0</td>\n",
       "      <td>0</td>\n",
       "      <td>0</td>\n",
       "      <td>...</td>\n",
       "      <td>0</td>\n",
       "      <td>0</td>\n",
       "      <td>0</td>\n",
       "      <td>1</td>\n",
       "      <td>0</td>\n",
       "      <td>0</td>\n",
       "      <td>1</td>\n",
       "      <td>0</td>\n",
       "      <td>0</td>\n",
       "      <td>0</td>\n",
       "    </tr>\n",
       "    <tr>\n",
       "      <th>357</th>\n",
       "      <td>The Three Musketeers</td>\n",
       "      <td>365.416964</td>\n",
       "      <td>-3.914355e+07</td>\n",
       "      <td>4.985558e+07</td>\n",
       "      <td>10712024.0</td>\n",
       "      <td>0</td>\n",
       "      <td>0</td>\n",
       "      <td>0</td>\n",
       "      <td>0</td>\n",
       "      <td>0</td>\n",
       "      <td>...</td>\n",
       "      <td>0</td>\n",
       "      <td>0</td>\n",
       "      <td>0</td>\n",
       "      <td>0</td>\n",
       "      <td>0</td>\n",
       "      <td>0</td>\n",
       "      <td>1</td>\n",
       "      <td>0</td>\n",
       "      <td>1</td>\n",
       "      <td>1</td>\n",
       "    </tr>\n",
       "  </tbody>\n",
       "</table>\n",
       "<p>20 rows × 88 columns</p>\n",
       "</div>"
      ],
      "text/plain": [
       "                                   title  (Numerical, Per_Err)  \\\n",
       "2228                             Rob Roy          61611.081806   \n",
       "548                           Naqoyqatsi          10858.675839   \n",
       "202                                Ikiru           4530.857007   \n",
       "271                  The Missing Picture           4447.702076   \n",
       "642     Mishima: A Life in Four Chapters           3711.991499   \n",
       "1720                     Duel in the Sun           3073.937100   \n",
       "1351                       New Nightmare           1380.066995   \n",
       "355        Sunrise: A Song of Two Humans           1013.821434   \n",
       "1313                                Fled            931.907765   \n",
       "1635                  Samson and Delilah            870.650457   \n",
       "33                       Sleepless Night            660.526366   \n",
       "661   The Life Aquatic with Steve Zissou            587.207347   \n",
       "1891                          Blackthorn            585.821785   \n",
       "1780              Mere Brother Ki Dulhan            547.454234   \n",
       "1815                              Gossip            501.572874   \n",
       "455   Butch Cassidy and the Sundance Kid            491.349439   \n",
       "1124                         Equilibrium            463.961461   \n",
       "609                          Superman II            413.834869   \n",
       "147             Riding in Cars with Boys            396.759322   \n",
       "357                 The Three Musketeers            365.416964   \n",
       "\n",
       "      (Numerical, residuals)  (Numerical, predicted)  (Numerical, revenue)  \\\n",
       "2228           -4.004720e+07            4.011220e+07               65000.0   \n",
       "548            -1.690044e+07            1.705608e+07              155640.0   \n",
       "202            -3.592879e+06            3.672177e+06               79298.0   \n",
       "271            -3.421751e+06            3.498684e+06               76933.0   \n",
       "642            -1.925937e+07            1.977821e+07              518842.0   \n",
       "1720           -5.988859e+06            6.183686e+06              194827.0   \n",
       "1351           -6.132866e+07            6.577255e+07             4443890.0   \n",
       "355            -2.109022e+06            2.317049e+06              208027.0   \n",
       "1313           -2.609342e+07            2.889342e+07             2800000.0   \n",
       "1635           -5.841690e+06            6.512647e+06              670957.0   \n",
       "33             -4.127715e+06            4.752628e+06              624913.0   \n",
       "661            -6.334793e+07            7.413593e+07            10788000.0   \n",
       "1891           -7.131250e+06            8.348557e+06             1217307.0   \n",
       "1780           -7.792052e+07            9.215377e+07            14233249.0   \n",
       "1815           -6.315439e+07            7.574566e+07            12591270.0   \n",
       "455            -9.824655e+06            1.182418e+07             1999525.0   \n",
       "1124           -2.486669e+07            3.022633e+07             5359645.0   \n",
       "609            -1.077195e+08            1.337490e+08            26029578.0   \n",
       "147            -1.418149e+08            1.775582e+08            35743308.0   \n",
       "357            -3.914355e+07            4.985558e+07            10712024.0   \n",
       "\n",
       "      (Country, Africa)  (Country, North_America)  (Country, Latin_America)  \\\n",
       "2228                  0                         0                         0   \n",
       "548                   0                         0                         0   \n",
       "202                   0                         0                         0   \n",
       "271                   0                         0                         0   \n",
       "642                   0                         0                         0   \n",
       "1720                  0                         0                         0   \n",
       "1351                  0                         0                         0   \n",
       "355                   0                         0                         0   \n",
       "1313                  0                         0                         0   \n",
       "1635                  0                         0                         0   \n",
       "33                    0                         0                         0   \n",
       "661                   0                         0                         0   \n",
       "1891                  0                         0                         1   \n",
       "1780                  0                         0                         0   \n",
       "1815                  0                         0                         0   \n",
       "455                   0                         0                         0   \n",
       "1124                  0                         0                         0   \n",
       "609                   0                         0                         0   \n",
       "147                   0                         0                         0   \n",
       "357                   0                         0                         0   \n",
       "\n",
       "      (Country, Middle_East)  (Country, Asia)  ...  (Genre, Foreign)  \\\n",
       "2228                       0                0  ...                 0   \n",
       "548                        0                0  ...                 0   \n",
       "202                        0                1  ...                 0   \n",
       "271                        0                1  ...                 0   \n",
       "642                        0                1  ...                 0   \n",
       "1720                       0                0  ...                 0   \n",
       "1351                       0                0  ...                 0   \n",
       "355                        0                0  ...                 0   \n",
       "1313                       0                0  ...                 0   \n",
       "1635                       0                0  ...                 0   \n",
       "33                         0                0  ...                 0   \n",
       "661                        0                0  ...                 0   \n",
       "1891                       0                0  ...                 0   \n",
       "1780                       0                1  ...                 0   \n",
       "1815                       0                0  ...                 0   \n",
       "455                        0                0  ...                 0   \n",
       "1124                       0                0  ...                 0   \n",
       "609                        0                0  ...                 0   \n",
       "147                        0                0  ...                 0   \n",
       "357                        0                0  ...                 0   \n",
       "\n",
       "      (Genre, Fantasy)  (Genre, Family)  (Genre, Drama)  (Genre, Documentary)  \\\n",
       "2228                 0                0               0                     0   \n",
       "548                  0                0               1                     1   \n",
       "202                  0                0               1                     0   \n",
       "271                  0                0               0                     1   \n",
       "642                  0                0               1                     0   \n",
       "1720                 0                0               0                     0   \n",
       "1351                 1                0               0                     0   \n",
       "355                  0                0               1                     0   \n",
       "1313                 0                0               0                     0   \n",
       "1635                 0                0               1                     0   \n",
       "33                   0                0               0                     0   \n",
       "661                  0                0               1                     0   \n",
       "1891                 0                0               0                     0   \n",
       "1780                 0                0               1                     0   \n",
       "1815                 0                0               1                     0   \n",
       "455                  0                0               1                     0   \n",
       "1124                 0                0               0                     0   \n",
       "609                  1                0               0                     0   \n",
       "147                  0                0               1                     0   \n",
       "357                  0                0               0                     0   \n",
       "\n",
       "      (Genre, Crime)  (Genre, Comedy)  (Genre, Animation)  (Genre, Adventure)  \\\n",
       "2228               0                0                   0                   1   \n",
       "548                0                0                   0                   0   \n",
       "202                0                0                   0                   0   \n",
       "271                0                0                   0                   0   \n",
       "642                0                0                   0                   0   \n",
       "1720               0                0                   0                   0   \n",
       "1351               0                0                   0                   0   \n",
       "355                0                0                   0                   0   \n",
       "1313               0                1                   0                   0   \n",
       "1635               0                0                   0                   0   \n",
       "33                 0                1                   0                   0   \n",
       "661                0                1                   0                   1   \n",
       "1891               0                0                   0                   1   \n",
       "1780               0                1                   0                   0   \n",
       "1815               0                0                   0                   0   \n",
       "455                1                0                   0                   0   \n",
       "1124               0                0                   0                   0   \n",
       "609                0                0                   0                   1   \n",
       "147                0                1                   0                   0   \n",
       "357                0                1                   0                   1   \n",
       "\n",
       "      (Genre, Action)  \n",
       "2228                0  \n",
       "548                 0  \n",
       "202                 0  \n",
       "271                 0  \n",
       "642                 0  \n",
       "1720                0  \n",
       "1351                0  \n",
       "355                 0  \n",
       "1313                1  \n",
       "1635                0  \n",
       "33                  1  \n",
       "661                 0  \n",
       "1891                1  \n",
       "1780                0  \n",
       "1815                0  \n",
       "455                 0  \n",
       "1124                1  \n",
       "609                 1  \n",
       "147                 0  \n",
       "357                 1  \n",
       "\n",
       "[20 rows x 88 columns]"
      ]
     },
     "execution_count": 95,
     "metadata": {},
     "output_type": "execute_result"
    }
   ],
   "source": [
    "#gb = gb.merge(titles, left_index=True, right_index=True, how='inner')\n",
    "gb = gb.sort_values(by=('Numerical', 'Per_Err'), ascending=False)\n",
    "gb.iloc[:, ::-1].head(20)"
   ]
  },
  {
   "cell_type": "markdown",
   "metadata": {},
   "source": [
    "It seems that most of my error is coming from the model significantly over-predicting revenue of films with the test data. It's worth examining how many of these films have an error above our target of 20% and how many are below. "
   ]
  },
  {
   "cell_type": "code",
   "execution_count": 62,
   "metadata": {},
   "outputs": [
    {
     "data": {
      "text/plain": [
       "301"
      ]
     },
     "execution_count": 62,
     "metadata": {},
     "output_type": "execute_result"
    }
   ],
   "source": [
    "gb['Numerical', 'Per_Err'][gb['Numerical', 'Per_Err']>20].count()"
   ]
  },
  {
   "cell_type": "markdown",
   "metadata": {},
   "source": [
    "Okay, not great.  Of the 397 films in our test set only 97 fall within our target percentage for error.  Let's take a look at more detailed information on the numerical data. "
   ]
  },
  {
   "cell_type": "code",
   "execution_count": 63,
   "metadata": {},
   "outputs": [
    {
     "data": {
      "text/html": [
       "<div>\n",
       "<style scoped>\n",
       "    .dataframe tbody tr th:only-of-type {\n",
       "        vertical-align: middle;\n",
       "    }\n",
       "\n",
       "    .dataframe tbody tr th {\n",
       "        vertical-align: top;\n",
       "    }\n",
       "\n",
       "    .dataframe thead th {\n",
       "        text-align: right;\n",
       "    }\n",
       "</style>\n",
       "<table border=\"1\" class=\"dataframe\">\n",
       "  <thead>\n",
       "    <tr style=\"text-align: right;\">\n",
       "      <th></th>\n",
       "      <th>Per_Err</th>\n",
       "      <th>residuals</th>\n",
       "      <th>predicted</th>\n",
       "      <th>revenue</th>\n",
       "      <th>Num_production_countries</th>\n",
       "      <th>Num_companies</th>\n",
       "      <th>Num_keywords</th>\n",
       "      <th>Tag_length</th>\n",
       "      <th>Overview_length</th>\n",
       "      <th>runtime</th>\n",
       "      <th>budget</th>\n",
       "    </tr>\n",
       "  </thead>\n",
       "  <tbody>\n",
       "    <tr>\n",
       "      <th>count</th>\n",
       "      <td>397.000000</td>\n",
       "      <td>3.970000e+02</td>\n",
       "      <td>3.970000e+02</td>\n",
       "      <td>3.970000e+02</td>\n",
       "      <td>397.000000</td>\n",
       "      <td>397.000000</td>\n",
       "      <td>397.000000</td>\n",
       "      <td>397.000000</td>\n",
       "      <td>397.000000</td>\n",
       "      <td>397.000000</td>\n",
       "      <td>397.000000</td>\n",
       "    </tr>\n",
       "    <tr>\n",
       "      <th>mean</th>\n",
       "      <td>291.414218</td>\n",
       "      <td>3.487438e+07</td>\n",
       "      <td>7.263814e+07</td>\n",
       "      <td>8.665712e+07</td>\n",
       "      <td>0.052057</td>\n",
       "      <td>0.105355</td>\n",
       "      <td>0.174506</td>\n",
       "      <td>0.178510</td>\n",
       "      <td>0.303829</td>\n",
       "      <td>0.331605</td>\n",
       "      <td>0.180090</td>\n",
       "    </tr>\n",
       "    <tr>\n",
       "      <th>std</th>\n",
       "      <td>3159.303697</td>\n",
       "      <td>3.848550e+07</td>\n",
       "      <td>5.412208e+07</td>\n",
       "      <td>6.574226e+07</td>\n",
       "      <td>0.101868</td>\n",
       "      <td>0.112067</td>\n",
       "      <td>0.136022</td>\n",
       "      <td>0.126722</td>\n",
       "      <td>0.153541</td>\n",
       "      <td>0.102011</td>\n",
       "      <td>0.151071</td>\n",
       "    </tr>\n",
       "    <tr>\n",
       "      <th>min</th>\n",
       "      <td>0.013422</td>\n",
       "      <td>5.382230e+03</td>\n",
       "      <td>4.287443e+05</td>\n",
       "      <td>6.500000e+04</td>\n",
       "      <td>0.000000</td>\n",
       "      <td>0.000000</td>\n",
       "      <td>0.000000</td>\n",
       "      <td>0.000000</td>\n",
       "      <td>0.058000</td>\n",
       "      <td>0.132353</td>\n",
       "      <td>0.000076</td>\n",
       "    </tr>\n",
       "    <tr>\n",
       "      <th>25%</th>\n",
       "      <td>20.156607</td>\n",
       "      <td>7.917164e+06</td>\n",
       "      <td>2.411315e+07</td>\n",
       "      <td>2.909047e+07</td>\n",
       "      <td>0.000000</td>\n",
       "      <td>0.043478</td>\n",
       "      <td>0.069767</td>\n",
       "      <td>0.107981</td>\n",
       "      <td>0.179000</td>\n",
       "      <td>0.264706</td>\n",
       "      <td>0.070896</td>\n",
       "    </tr>\n",
       "    <tr>\n",
       "      <th>50%</th>\n",
       "      <td>41.027403</td>\n",
       "      <td>2.160100e+07</td>\n",
       "      <td>6.577255e+07</td>\n",
       "      <td>7.539505e+07</td>\n",
       "      <td>0.000000</td>\n",
       "      <td>0.086957</td>\n",
       "      <td>0.139535</td>\n",
       "      <td>0.154930</td>\n",
       "      <td>0.284000</td>\n",
       "      <td>0.313725</td>\n",
       "      <td>0.159517</td>\n",
       "    </tr>\n",
       "    <tr>\n",
       "      <th>75%</th>\n",
       "      <td>68.885797</td>\n",
       "      <td>4.620584e+07</td>\n",
       "      <td>1.081784e+08</td>\n",
       "      <td>1.304314e+08</td>\n",
       "      <td>0.111111</td>\n",
       "      <td>0.130435</td>\n",
       "      <td>0.255814</td>\n",
       "      <td>0.234742</td>\n",
       "      <td>0.395000</td>\n",
       "      <td>0.377451</td>\n",
       "      <td>0.253201</td>\n",
       "    </tr>\n",
       "    <tr>\n",
       "      <th>max</th>\n",
       "      <td>61611.081806</td>\n",
       "      <td>1.945598e+08</td>\n",
       "      <td>2.286577e+08</td>\n",
       "      <td>2.566975e+08</td>\n",
       "      <td>0.888889</td>\n",
       "      <td>0.913043</td>\n",
       "      <td>0.674419</td>\n",
       "      <td>1.000000</td>\n",
       "      <td>0.853000</td>\n",
       "      <td>1.000000</td>\n",
       "      <td>0.987483</td>\n",
       "    </tr>\n",
       "  </tbody>\n",
       "</table>\n",
       "</div>"
      ],
      "text/plain": [
       "            Per_Err     residuals     predicted       revenue  \\\n",
       "count    397.000000  3.970000e+02  3.970000e+02  3.970000e+02   \n",
       "mean     291.414218  3.487438e+07  7.263814e+07  8.665712e+07   \n",
       "std     3159.303697  3.848550e+07  5.412208e+07  6.574226e+07   \n",
       "min        0.013422  5.382230e+03  4.287443e+05  6.500000e+04   \n",
       "25%       20.156607  7.917164e+06  2.411315e+07  2.909047e+07   \n",
       "50%       41.027403  2.160100e+07  6.577255e+07  7.539505e+07   \n",
       "75%       68.885797  4.620584e+07  1.081784e+08  1.304314e+08   \n",
       "max    61611.081806  1.945598e+08  2.286577e+08  2.566975e+08   \n",
       "\n",
       "       Num_production_countries  Num_companies  Num_keywords  Tag_length  \\\n",
       "count                397.000000     397.000000    397.000000  397.000000   \n",
       "mean                   0.052057       0.105355      0.174506    0.178510   \n",
       "std                    0.101868       0.112067      0.136022    0.126722   \n",
       "min                    0.000000       0.000000      0.000000    0.000000   \n",
       "25%                    0.000000       0.043478      0.069767    0.107981   \n",
       "50%                    0.000000       0.086957      0.139535    0.154930   \n",
       "75%                    0.111111       0.130435      0.255814    0.234742   \n",
       "max                    0.888889       0.913043      0.674419    1.000000   \n",
       "\n",
       "       Overview_length     runtime      budget  \n",
       "count       397.000000  397.000000  397.000000  \n",
       "mean          0.303829    0.331605    0.180090  \n",
       "std           0.153541    0.102011    0.151071  \n",
       "min           0.058000    0.132353    0.000076  \n",
       "25%           0.179000    0.264706    0.070896  \n",
       "50%           0.284000    0.313725    0.159517  \n",
       "75%           0.395000    0.377451    0.253201  \n",
       "max           0.853000    1.000000    0.987483  "
      ]
     },
     "execution_count": 63,
     "metadata": {},
     "output_type": "execute_result"
    }
   ],
   "source": [
    "#Statistical summary of the residuals, percent error, and predicted vs true values\n",
    "GB = gb\n",
    "GB['Numerical', 'residuals'] = GB['Numerical', 'residuals'].apply(np.abs)\n",
    "GB['Numerical'].iloc[:, ::-1].describe()"
   ]
  },
  {
   "cell_type": "markdown",
   "metadata": {},
   "source": [
    "It seems that about 25% of the predicted values are falling within the target error of 20%.  The next two quartiles increase at a similar rate to 66% at the 3rd quartile.  Beyond that error sharply increases for the remaining 25% of the test set.   I want to plot a heatmap for the films with the worst revenue and see how these features are related and plot the residuals for this model."
   ]
  },
  {
   "cell_type": "code",
   "execution_count": 84,
   "metadata": {
    "scrolled": false
   },
   "outputs": [
    {
     "data": {
      "image/png": "[encoded data removed]",
      "text/plain": [
       "<Figure size 1080x720 with 1 Axes>"
      ]
     },
     "metadata": {
      "needs_background": "light"
     },
     "output_type": "display_data"
    }
   ],
   "source": [
    "plt.figure(figsize=(15,10))\n",
    "plt.hist(gb_residuals,color='b', bins=100, alpha=0.7)\n",
    "plt.axvline(x=0, color='k')\n",
    "# Blue line is the mean of residuals, red lines mark 95% confidence intervals\n",
    "plt.axvline(x=gb_residuals.mean(), color='orange', ls='--')\n",
    "plt.axvline(x=150101515, color='r')\n",
    "plt.axvline(x=-63353025, color='r')\n",
    "plt.title('Residual error distribution');"
   ]
  },
  {
   "cell_type": "code",
   "execution_count": 85,
   "metadata": {},
   "outputs": [
    {
     "data": {
      "image/png": "[encoded data removed]",
      "text/plain": [
       "<Figure size 1440x1080 with 4 Axes>"
      ]
     },
     "metadata": {
      "needs_background": "light"
     },
     "output_type": "display_data"
    }
   ],
   "source": [
    "fig, ((ax1, ax2), (ax3, ax4)) = plt.subplots(2,2,figsize=(20,15))\n",
    "ax1.hist(gb_residuals,color='grey', bins=100, alpha=0.7)\n",
    "ax1.axvline(x=0, color='k')\n",
    "# Blue line is the mean of residuals, red lines mark 95% confidence intervals\n",
    "ax1.axvline(x=rf_residuals.mean(), color='b', ls='--')\n",
    "ax1.axvline(x=RFUpper, color='r')\n",
    "ax1.axvline(x=RFLower, color='r')\n",
    "ax1.set_title('RF error distribution')\n",
    "ax2.hist(gb_residuals,color='blue', bins=100, alpha=0.7)\n",
    "ax2.axvline(x=0, color='k')\n",
    "ax2.axvline(x=gb_residuals.mean(), color='orange', ls='--')\n",
    "ax2.axvline(x=150101515, color='r')\n",
    "ax2.axvline(x=-63353025, color='r')\n",
    "ax2.set_title('GB error distribution')\n",
    "ax3.hist(svr_residuals,color='green', bins=100, alpha=0.7)\n",
    "ax3.axvline(x=0, color='k')\n",
    "ax3.axvline(x=svr_residuals.mean(), color='b', ls='--')\n",
    "ax3.axvline(x=SVRUpper, color='r')\n",
    "ax3.axvline(x=SVRLower, color='r')\n",
    "ax3.set_title('SVR error distribution')\n",
    "ax4.hist(knn_residuals,color='orange', bins=100, alpha=0.7)\n",
    "ax4.axvline(x=0, color='k')\n",
    "ax4.axvline(x=knn_residuals.mean(), color='b', ls='--')\n",
    "ax4.axvline(x=KUpper, color='r')\n",
    "ax4.axvline(x=KLower, color='r')\n",
    "ax4.set_title('KNN error distribution');"
   ]
  },
  {
   "cell_type": "code",
   "execution_count": 65,
   "metadata": {},
   "outputs": [
    {
     "name": "stdout",
     "output_type": "stream",
     "text": [
      "Each prediction could vary by as much as $ 148313535.29  above the predicted value, and $ 63173748.23 below the predicted value.\n"
     ]
    }
   ],
   "source": [
    "Upper = gb_residuals.quantile(0.975)\n",
    "Lower = gb_residuals.quantile(0.025)\n",
    "print('Each prediction could vary by as much as $', str(round(Upper, 2)), ' above the predicted value, and $', \n",
    "      str(round(np.abs(Lower), 2)), 'below the predicted value.')"
   ]
  },
  {
   "cell_type": "code",
   "execution_count": 66,
   "metadata": {},
   "outputs": [
    {
     "data": {
      "text/plain": [
       "<matplotlib.collections.PolyCollection at 0x7fede5c33520>"
      ]
     },
     "execution_count": 66,
     "metadata": {},
     "output_type": "execute_result"
    },
    {
     "data": {
      "image/png": "[encoded data removed]",
      "text/plain": [
       "<Figure size 720x720 with 1 Axes>"
      ]
     },
     "metadata": {
      "needs_background": "light"
     },
     "output_type": "display_data"
    }
   ],
   "source": [
    "# Plotting predicted vs true values with line of 0 Percent error in red, and error window in green\n",
    "plt.figure(figsize=(10,10))\n",
    "plt.scatter(exp_y_test, grade_preds, alpha=0.5, color='grey')\n",
    "plt.title('Optimized Gradient Boosting Model')\n",
    "plt.ylabel('Predicted Values')\n",
    "plt.xlabel('True Values')\n",
    "plt.plot(exp_y_test, exp_y_test, color='r')\n",
    "plt.fill_between(exp_y_test, grade_preds+Lower, grade_preds+Upper, alpha=0.25, color='g', step='mid')"
   ]
  },
  {
   "cell_type": "markdown",
   "metadata": {},
   "source": [
    "### Residual Analysis Conclusion\n",
    "\n",
    "While The error I have is NOT great, or anywhere near the target.  It IS useable.  With this gradient boosting model I can predict the revenue of a film with 95% confidence that that revenue will be over-predicted by 63,353,025.38 USD, or under-predicted by 150,101,515.39 USD.  While this is not precise in the slightest, this is much better for a business to base decisions around since I would almost always prefer to over-predict rather than under-predict.  \n",
    "\n",
    "Additionally by reducing the dimensionality of this data set it is much easier to fill in the required information to predict revenue using the information a stakeholder who is working on a film will have at hand.  Additionally, it is possible to make adjustments - want to see what happens if you do increase the budget by 10 million to pay for on-location filming in Costa Rica? Simple adjustment to make. "
   ]
  }
 ],
 "metadata": {
  "kernelspec": {
   "display_name": "Python 3",
   "language": "python",
   "name": "python3"
  },
  "language_info": {
   "codemirror_mode": {
    "name": "ipython",
    "version": 3
   },
   "file_extension": ".py",
   "mimetype": "text/x-python",
   "name": "python",
   "nbconvert_exporter": "python",
   "pygments_lexer": "ipython3",
   "version": "3.8.5"
  }
 },
 "nbformat": 4,
 "nbformat_minor": 5
}
