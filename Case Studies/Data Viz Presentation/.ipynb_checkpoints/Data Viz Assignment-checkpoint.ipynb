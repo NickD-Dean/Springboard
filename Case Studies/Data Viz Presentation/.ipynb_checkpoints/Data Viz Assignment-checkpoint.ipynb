{
 "cells": [
  {
   "cell_type": "markdown",
   "id": "24a888f9",
   "metadata": {},
   "source": [
    "## Data Storytelling\n",
    "\n",
    "The purpose of this assignment is to take *any* data set, and craft an executive presentation.  Prior to crafting the presentation I need to explore the data and decide on a narrative.  I'll aim to answer these questions:\n",
    "\n",
    "1 - What is the overall trend in animal bites as time moves forward? More or less rabid?  More or less frequent?\n",
    "\n",
    "2 - What are the anomolies to this trend, the exceptions that make the rule?\n",
    "\n",
    "3 - What correlations are there in the data?  What inferences can be made from these correlations?\n",
    "\n",
    "4 - Is there a hypothesis that I can test here, or that would be valuable to test as follow up?\n",
    "\n",
    "Column descriptions are copy/pasted from [this](https://www.kaggle.com/rtatman/animal-bites) Kaggle data set below:"
   ]
  },
  {
   "cell_type": "markdown",
   "id": "57403000",
   "metadata": {},
   "source": [
    "Attributes of animal bite incidents reported to and investigated by Louisville Metro Department of Public Health and Wellness. Personal/identifying data has been removed. This dataset is a single .csv with the following fields.\n",
    "\n",
    "bite_date: The date the bite occurred\n",
    "\n",
    "SpeciesIDDesc: The species of animal that did the biting\n",
    "\n",
    "BreedIDDesc: Breed (if known)\n",
    "\n",
    "GenderIDDesc: Gender (of the animal)\n",
    "\n",
    "color: color of the animal\n",
    "\n",
    "vaccination_yrs: how many years had passed since the last vaccination\n",
    "\n",
    "vaccination_date: the date of the last vaccination\n",
    "\n",
    "victim_zip: the zipcode of the victim\n",
    "\n",
    "AdvIssuedYNDesc: whether advice was issued\n",
    "\n",
    "WhereBittenIDDesc: Where on the body the victim was bitten\n",
    "\n",
    "quarantine_date: whether the animal was quarantined\n",
    "\n",
    "DispositionIDDesc: whether the animal was released from quarantine\n",
    "\n",
    "headsentdate: the date the animal’s head was sent to the lab\n",
    "\n",
    "release_date: the date the animal was released\n",
    "\n",
    "ResultsIDDesc: results from lab tests (for rabies)"
   ]
  },
  {
   "cell_type": "code",
   "execution_count": 1,
   "id": "d0847e7e",
   "metadata": {},
   "outputs": [],
   "source": [
    "import pandas as pd\n",
    "import numpy as np\n",
    "import matplotlib.pyplot as plt\n",
    "import seaborn as sns\n",
    "sns.set_theme(palette='deep')"
   ]
  },
  {
   "cell_type": "code",
   "execution_count": 2,
   "id": "b2aeda23",
   "metadata": {},
   "outputs": [],
   "source": [
    "bites = pd.read_csv('Animal Bites/Health_AnimalBites.csv')"
   ]
  },
  {
   "cell_type": "markdown",
   "id": "d8912e04",
   "metadata": {},
   "source": [
    "# Data Cleaning\n",
    "\n",
    "Prior to exploratory analysis I need to clean up this data set and make sure that it's going to be easily usable, there are some columns that seem abiguous, and I'll need to decide what to do with specific columns depending on % of values missing or if they need to be transformed for analysis in pandas."
   ]
  },
  {
   "cell_type": "code",
   "execution_count": 3,
   "id": "e47db3d3",
   "metadata": {},
   "outputs": [
    {
     "name": "stdout",
     "output_type": "stream",
     "text": [
      "<class 'pandas.core.frame.DataFrame'>\n",
      "RangeIndex: 9003 entries, 0 to 9002\n",
      "Data columns (total 15 columns):\n",
      " #   Column             Non-Null Count  Dtype  \n",
      "---  ------             --------------  -----  \n",
      " 0   bite_date          8686 non-null   object \n",
      " 1   SpeciesIDDesc      8885 non-null   object \n",
      " 2   BreedIDDesc        3759 non-null   object \n",
      " 3   GenderIDDesc       6477 non-null   object \n",
      " 4   color              6426 non-null   object \n",
      " 5   vaccination_yrs    3738 non-null   float64\n",
      " 6   vaccination_date   4115 non-null   object \n",
      " 7   victim_zip         7165 non-null   object \n",
      " 8   AdvIssuedYNDesc    2565 non-null   object \n",
      " 9   WhereBittenIDDesc  8387 non-null   object \n",
      " 10  quarantine_date    2020 non-null   object \n",
      " 11  DispositionIDDesc  1535 non-null   object \n",
      " 12  head_sent_date     395 non-null    object \n",
      " 13  release_date       1445 non-null   object \n",
      " 14  ResultsIDDesc      1543 non-null   object \n",
      "dtypes: float64(1), object(14)\n",
      "memory usage: 562.8+ KB\n"
     ]
    }
   ],
   "source": [
    "bites.info()"
   ]
  },
  {
   "cell_type": "code",
   "execution_count": 4,
   "id": "1970aebd",
   "metadata": {},
   "outputs": [],
   "source": [
    "bites = bites[bites['bite_date'].notna()]"
   ]
  },
  {
   "cell_type": "code",
   "execution_count": 5,
   "id": "3e076c4b",
   "metadata": {},
   "outputs": [
    {
     "data": {
      "text/plain": [
       "DOG        6932\n",
       "CAT        1535\n",
       "BAT          76\n",
       "RACCOON      21\n",
       "OTHER         8\n",
       "HORSE         5\n",
       "FERRET        4\n",
       "RABBIT        3\n",
       "SKUNK         1\n",
       "Name: SpeciesIDDesc, dtype: int64"
      ]
     },
     "execution_count": 5,
     "metadata": {},
     "output_type": "execute_result"
    }
   ],
   "source": [
    "bites['SpeciesIDDesc'].value_counts()"
   ]
  },
  {
   "cell_type": "code",
   "execution_count": 6,
   "id": "11148f79",
   "metadata": {},
   "outputs": [
    {
     "data": {
      "text/plain": [
       "DOG      6932\n",
       "CAT      1535\n",
       "OTHER     219\n",
       "Name: SpeciesIDDesc, dtype: int64"
      ]
     },
     "execution_count": 6,
     "metadata": {},
     "output_type": "execute_result"
    }
   ],
   "source": [
    "bites['SpeciesIDDesc'].fillna('NONE', inplace=True)\n",
    "bites['SpeciesIDDesc'].replace(to_replace = ['HORSE', 'FERRET', 'RABBIT', 'SKUNK', 'BAT', 'RACCOON', 'NONE'], value='OTHER', \n",
    "                               inplace=True)\n",
    "bites['SpeciesIDDesc'].value_counts()"
   ]
  },
  {
   "cell_type": "code",
   "execution_count": 7,
   "id": "7843a24a",
   "metadata": {},
   "outputs": [
    {
     "data": {
      "text/plain": [
       "NONE               4981\n",
       "OTHER              1188\n",
       "PIT BULL           1082\n",
       "GERM SHEPHERD       324\n",
       "LABRADOR RETRIV     248\n",
       "BOXER               181\n",
       "CHICHAUHUA          164\n",
       "BEAGLE              115\n",
       "SHIH TZU            115\n",
       "ROTTWEILER           86\n",
       "AAUST. TERR.         77\n",
       "DACHSHUND            67\n",
       "GOLD RETRIEVER       58\n",
       "Name: BreedIDDesc, dtype: int64"
      ]
     },
     "execution_count": 7,
     "metadata": {},
     "output_type": "execute_result"
    }
   ],
   "source": [
    "breed_count = bites.BreedIDDesc.value_counts()\n",
    "breed_count = breed_count[breed_count<50]\n",
    "drop_list = list(breed_count.index)\n",
    "bites['BreedIDDesc'].replace(to_replace=drop_list, value='OTHER', inplace=True)\n",
    "bites['BreedIDDesc'].fillna('NONE', inplace=True)\n",
    "bites.BreedIDDesc.value_counts()"
   ]
  },
  {
   "cell_type": "markdown",
   "id": "ce79c2f7",
   "metadata": {},
   "source": [
    "While 50 bite incidents was a realtively arbitrary cutoff; it does seem appropriate that any breed in the 'OTHER' category bites less frequently than a Golden Retriever which is a good frame of reference for an executive audience.  Everyone knows Golden Retrievers and their reputation for sunny dispositions."
   ]
  },
  {
   "cell_type": "markdown",
   "id": "afb0c403",
   "metadata": {},
   "source": [
    "This data set also presents some challenges, main that it's mostly empty.  Only 5 of the 15 columns have data for more than half of the entries.  Additionally the meaning of some columns is highly ambiguous and will likely be dropped:\n",
    "\n",
    "AdvIssuedYNDesc: What advice would be issued? Further medical attention? Examination of the dog? \n",
    "\n",
    "vaccination_yrs/vaccination_date:  Vaccination of the victim or animal?  Is this specific to rabies?\n",
    "\n",
    "Many of the other columns are only relevant if there is a significant number of rabies cases in this data set, or even significant number of non-null entries that indicate the presence of rabies or not. "
   ]
  },
  {
   "cell_type": "code",
   "execution_count": 8,
   "id": "37116383",
   "metadata": {},
   "outputs": [],
   "source": [
    "bites.ResultsIDDesc.value_counts()\n",
    "# creating a second dataframe containing definitive results for rabies tests for later use\n",
    "rabies = bites[(bites.ResultsIDDesc == 'NEGATIVE') | (bites.ResultsIDDesc == 'POSITIVE')]"
   ]
  },
  {
   "cell_type": "markdown",
   "id": "87757e6f",
   "metadata": {},
   "source": [
    "Out of over 9000 entries we have only 134, or roughly 1% of the values with a **known** disposition regarding rabies.  Without more information on rabies presence in animal bites most of the other columns are note useful.  For the purposes of this excercise I will only focus on animal bites, the breeds that bite, species, as well as victim information.  All veterinary tests or information related to rabies is fairly useless unless we know if there were results from rabies tests. "
   ]
  },
  {
   "cell_type": "code",
   "execution_count": 9,
   "id": "858e1cbf",
   "metadata": {},
   "outputs": [
    {
     "name": "stdout",
     "output_type": "stream",
     "text": [
      "<class 'pandas.core.frame.DataFrame'>\n",
      "Int64Index: 8686 entries, 0 to 9002\n",
      "Data columns (total 7 columns):\n",
      " #   Column             Non-Null Count  Dtype \n",
      "---  ------             --------------  ----- \n",
      " 0   bite_date          8686 non-null   object\n",
      " 1   SpeciesIDDesc      8686 non-null   object\n",
      " 2   BreedIDDesc        8686 non-null   object\n",
      " 3   GenderIDDesc       6409 non-null   object\n",
      " 4   color              6351 non-null   object\n",
      " 5   victim_zip         6897 non-null   object\n",
      " 6   WhereBittenIDDesc  8358 non-null   object\n",
      "dtypes: object(7)\n",
      "memory usage: 305.4+ KB\n"
     ]
    }
   ],
   "source": [
    "bites = bites.drop(['vaccination_yrs', 'vaccination_date', 'AdvIssuedYNDesc', 'quarantine_date', 'DispositionIDDesc',\n",
    "       'head_sent_date', 'release_date', 'ResultsIDDesc'], axis=1)\n",
    "bites.info()"
   ]
  },
  {
   "cell_type": "markdown",
   "id": "ce72a0da",
   "metadata": {},
   "source": [
    "After dropping all the columns related to rabies our data set is much less sparse and ready for some analysis.  I'm going to fill the missing values and covert the bite_date to new columns that are datetime objects."
   ]
  },
  {
   "cell_type": "code",
   "execution_count": 10,
   "id": "989ec7e8",
   "metadata": {},
   "outputs": [],
   "source": [
    "bites.fillna('NONE', inplace=True)\n",
    "bites['bite_date'] = np.where(bites['bite_date'] == '5013-07-15 00:00:00', '2013-07-15 00:00:00', bites['bite_date'])\n",
    "bites.sort_values(by='bite_date')\n",
    "#These bite dates were set to 5001 rather than 2001 and causing an error when trying to convert to datetime\n",
    "bites.loc[1512, 'bite_date'] = '2001-02-18'\n",
    "bites.loc[5055, 'bite_date'] = '2001-01-21'\n",
    "bites.loc[1512, 'bite_date'] = '2001-02-21'\n",
    "bites.loc[1512, 'bite_date'] = '2001-05-01'\n",
    "bites['bite_date'] = pd.to_datetime(bites['bite_date'])"
   ]
  },
  {
   "cell_type": "code",
   "execution_count": 11,
   "id": "991eb7d6",
   "metadata": {},
   "outputs": [],
   "source": [
    "bites['bite_year'] = bites['bite_date'].dt.year\n",
    "bites['bite_month'] = bites['bite_date'].dt.month\n",
    "bites['bite_day'] = bites['bite_date'].dt.day"
   ]
  },
  {
   "cell_type": "code",
   "execution_count": 20,
   "id": "1a5aad05",
   "metadata": {},
   "outputs": [
    {
     "data": {
      "image/png": "[encoded data removed]",
      "text/plain": [
       "<Figure size 1080x360 with 1 Axes>"
      ]
     },
     "metadata": {},
     "output_type": "display_data"
    }
   ],
   "source": [
    "plt.figure(figsize=(15,5))\n",
    "sns.histplot(data=bites, x='bite_year', stat='count', multiple='dodge', binrange=(1985, 2021), hue='SpeciesIDDesc', \n",
    "             discrete=True)\n",
    "plt.title('Count of animal bites per year')\n",
    "plt.show()"
   ]
  },
  {
   "cell_type": "markdown",
   "id": "7003859a",
   "metadata": {},
   "source": [
    "Based on this histogram it appears that most animal bites occured after 2009 in the Louisville metro area.  It may be worth looking into whether or not new reporting practices were enacted then and if a policy change caused the sustained increase in reported bites.  I'm going to examine these as two separate time periods and see if that provides a clearer picture as to how animal bites were reported in what is clearly two distinct time periods."
   ]
  },
  {
   "cell_type": "code",
   "execution_count": 18,
   "id": "b096b354",
   "metadata": {},
   "outputs": [
    {
     "data": {
      "image/png": "[encoded data removed]",
      "text/plain": [
       "<Figure size 432x288 with 1 Axes>"
      ]
     },
     "metadata": {},
     "output_type": "display_data"
    }
   ],
   "source": [
    "sns.histplot(data=bites[bites.bite_year <= 2008], x='bite_year', stat='count', binrange=(1985, 2008), hue='SpeciesIDDesc', \n",
    "             multiple='dodge', discrete=True)\n",
    "plt.title('Count of animal bites per year by species pre 2008')\n",
    "plt.show();"
   ]
  },
  {
   "cell_type": "markdown",
   "id": "728ef4b2",
   "metadata": {},
   "source": [
    "There were almost no bites reported from 1985-1008 compared to the number of reported animal bites after 2009 shown in the previous histogram.  There is an extreme increase in reported animal bites for those years that needs to be examined for outside explanations.  Statistically this is extremely unlikely to have occurred. "
   ]
  },
  {
   "cell_type": "code",
   "execution_count": 17,
   "id": "dbc763a9",
   "metadata": {},
   "outputs": [
    {
     "data": {
      "image/png": "[encoded data removed]",
      "text/plain": [
       "<Figure size 720x360 with 1 Axes>"
      ]
     },
     "metadata": {},
     "output_type": "display_data"
    }
   ],
   "source": [
    "plt.figure(figsize=(10,5))\n",
    "sns.histplot(data=bites, x='bite_month', stat='count', hue='SpeciesIDDesc', multiple='dodge', discrete=True)\n",
    "plt.title('Count of animal bites per month by species');"
   ]
  },
  {
   "cell_type": "markdown",
   "id": "ebd785a3",
   "metadata": {},
   "source": [
    "The results from looking at animal bite occurances in each month is more intuitive.  In summer months when people are outside there are more animal bites than in the winter with a peak in May. "
   ]
  }
 ],
 "metadata": {
  "kernelspec": {
   "display_name": "Python 3",
   "language": "python",
   "name": "python3"
  },
  "language_info": {
   "codemirror_mode": {
    "name": "ipython",
    "version": 3
   },
   "file_extension": ".py",
   "mimetype": "text/x-python",
   "name": "python",
   "nbconvert_exporter": "python",
   "pygments_lexer": "ipython3",
   "version": "3.8.10"
  }
 },
 "nbformat": 4,
 "nbformat_minor": 5
}
